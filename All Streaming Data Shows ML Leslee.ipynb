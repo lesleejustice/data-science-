{
 "cells": [
  {
   "cell_type": "code",
   "execution_count": 1,
   "metadata": {
    "cell_id": "ae28d10518f34b6c9bf607ed7703aaa2",
    "deepnote_cell_type": "code",
    "deepnote_to_be_reexecuted": false,
    "execution_millis": 1,
    "execution_start": 1675646100226,
    "source_hash": "36874b6"
   },
   "outputs": [],
   "source": [
    "#Can we predict the rating (positive or negative) based on Genre, Platform and Runtime for Shows?  "
   ]
  },
  {
   "cell_type": "code",
   "execution_count": 2,
   "metadata": {
    "cell_id": "b03911630daf4719a51a3cea49010ba9",
    "deepnote_cell_type": "code",
    "deepnote_to_be_reexecuted": false,
    "execution_millis": 1821,
    "execution_start": 1675646100227,
    "source_hash": "d2504d79"
   },
   "outputs": [],
   "source": [
    "#Exploratory Data Analysis for streaming data from all platforms\n",
    "#Importing needed libraries\n",
    "import pandas as pd\n",
    "import numpy as np\n",
    "import matplotlib.pyplot as plt\n",
    "import seaborn as sns"
   ]
  },
  {
   "cell_type": "code",
   "execution_count": 3,
   "metadata": {},
   "outputs": [],
   "source": [
    "#Reading in data again for fresh start"
   ]
  },
  {
   "cell_type": "code",
   "execution_count": 4,
   "metadata": {},
   "outputs": [],
   "source": [
    "df1 = pd.read_csv(\"C:/Users/lesle/Desktop/All Streaming Data 1.29.23 (1).csv\")"
   ]
  },
  {
   "cell_type": "code",
   "execution_count": 5,
   "metadata": {},
   "outputs": [
    {
     "data": {
      "text/html": [
       "<div>\n",
       "<style scoped>\n",
       "    .dataframe tbody tr th:only-of-type {\n",
       "        vertical-align: middle;\n",
       "    }\n",
       "\n",
       "    .dataframe tbody tr th {\n",
       "        vertical-align: top;\n",
       "    }\n",
       "\n",
       "    .dataframe thead th {\n",
       "        text-align: right;\n",
       "    }\n",
       "</style>\n",
       "<table border=\"1\" class=\"dataframe\">\n",
       "  <thead>\n",
       "    <tr style=\"text-align: right;\">\n",
       "      <th></th>\n",
       "      <th>platform</th>\n",
       "      <th>id</th>\n",
       "      <th>title</th>\n",
       "      <th>type</th>\n",
       "      <th>description</th>\n",
       "      <th>release_year</th>\n",
       "      <th>age_certification</th>\n",
       "      <th>runtime</th>\n",
       "      <th>genres</th>\n",
       "      <th>production_countries</th>\n",
       "      <th>...</th>\n",
       "      <th>genre1</th>\n",
       "      <th>genre2</th>\n",
       "      <th>genre3</th>\n",
       "      <th>genre4</th>\n",
       "      <th>genre5</th>\n",
       "      <th>genre6</th>\n",
       "      <th>genre7</th>\n",
       "      <th>genre8</th>\n",
       "      <th>genre9</th>\n",
       "      <th>genre10</th>\n",
       "    </tr>\n",
       "  </thead>\n",
       "  <tbody>\n",
       "    <tr>\n",
       "      <th>0</th>\n",
       "      <td>Disney</td>\n",
       "      <td>tm19438</td>\n",
       "      <td>The Princess Bride</td>\n",
       "      <td>MOVIE</td>\n",
       "      <td>In this enchantingly cracked fairy tale, the b...</td>\n",
       "      <td>1987</td>\n",
       "      <td>PG</td>\n",
       "      <td>99</td>\n",
       "      <td>fantasy, family, romance</td>\n",
       "      <td>['US']</td>\n",
       "      <td>...</td>\n",
       "      <td>fantasy</td>\n",
       "      <td>family</td>\n",
       "      <td>romance</td>\n",
       "      <td>NaN</td>\n",
       "      <td>NaN</td>\n",
       "      <td>NaN</td>\n",
       "      <td>NaN</td>\n",
       "      <td>NaN</td>\n",
       "      <td>NaN</td>\n",
       "      <td>NaN</td>\n",
       "    </tr>\n",
       "    <tr>\n",
       "      <th>1</th>\n",
       "      <td>Disney</td>\n",
       "      <td>ts20711</td>\n",
       "      <td>The Simpsons</td>\n",
       "      <td>SHOW</td>\n",
       "      <td>The satiric adventures of a working-class fami...</td>\n",
       "      <td>1989</td>\n",
       "      <td>TV-14</td>\n",
       "      <td>27</td>\n",
       "      <td>animation, comedy</td>\n",
       "      <td>['US']</td>\n",
       "      <td>...</td>\n",
       "      <td>animation</td>\n",
       "      <td>comedy</td>\n",
       "      <td>NaN</td>\n",
       "      <td>NaN</td>\n",
       "      <td>NaN</td>\n",
       "      <td>NaN</td>\n",
       "      <td>NaN</td>\n",
       "      <td>NaN</td>\n",
       "      <td>NaN</td>\n",
       "      <td>NaN</td>\n",
       "    </tr>\n",
       "    <tr>\n",
       "      <th>2</th>\n",
       "      <td>Disney</td>\n",
       "      <td>ts15377</td>\n",
       "      <td>America's Funniest Home Videos</td>\n",
       "      <td>SHOW</td>\n",
       "      <td>America's Funniest Home Videos is the longest-...</td>\n",
       "      <td>1989</td>\n",
       "      <td>TV-PG</td>\n",
       "      <td>49</td>\n",
       "      <td>animation, reality, comedy</td>\n",
       "      <td>['US']</td>\n",
       "      <td>...</td>\n",
       "      <td>animation</td>\n",
       "      <td>reality</td>\n",
       "      <td>comedy</td>\n",
       "      <td>NaN</td>\n",
       "      <td>NaN</td>\n",
       "      <td>NaN</td>\n",
       "      <td>NaN</td>\n",
       "      <td>NaN</td>\n",
       "      <td>NaN</td>\n",
       "      <td>NaN</td>\n",
       "    </tr>\n",
       "    <tr>\n",
       "      <th>3</th>\n",
       "      <td>Disney</td>\n",
       "      <td>ts22130</td>\n",
       "      <td>Rolie Polie Olie</td>\n",
       "      <td>SHOW</td>\n",
       "      <td>Rolie Polie Olie was a children's television s...</td>\n",
       "      <td>1998</td>\n",
       "      <td>TV-Y</td>\n",
       "      <td>21</td>\n",
       "      <td>animation, comedy, family, fantasy, scifi</td>\n",
       "      <td>['FR', 'GB', 'US', 'CA']</td>\n",
       "      <td>...</td>\n",
       "      <td>animation</td>\n",
       "      <td>comedy</td>\n",
       "      <td>family</td>\n",
       "      <td>fantasy</td>\n",
       "      <td>scifi</td>\n",
       "      <td>NaN</td>\n",
       "      <td>NaN</td>\n",
       "      <td>NaN</td>\n",
       "      <td>NaN</td>\n",
       "      <td>NaN</td>\n",
       "    </tr>\n",
       "    <tr>\n",
       "      <th>4</th>\n",
       "      <td>Disney</td>\n",
       "      <td>tm38852</td>\n",
       "      <td>Horton Hears a Who!</td>\n",
       "      <td>MOVIE</td>\n",
       "      <td>One day, Horton the elephant hears a cry from ...</td>\n",
       "      <td>2008</td>\n",
       "      <td>G</td>\n",
       "      <td>86</td>\n",
       "      <td>fantasy, family, drama, romance, comedy, music...</td>\n",
       "      <td>['US']</td>\n",
       "      <td>...</td>\n",
       "      <td>fantasy</td>\n",
       "      <td>family</td>\n",
       "      <td>drama</td>\n",
       "      <td>romance</td>\n",
       "      <td>comedy</td>\n",
       "      <td>music</td>\n",
       "      <td>animation</td>\n",
       "      <td>NaN</td>\n",
       "      <td>NaN</td>\n",
       "      <td>NaN</td>\n",
       "    </tr>\n",
       "  </tbody>\n",
       "</table>\n",
       "<p>5 rows × 26 columns</p>\n",
       "</div>"
      ],
      "text/plain": [
       "  platform       id                           title   type  \\\n",
       "0   Disney  tm19438              The Princess Bride  MOVIE   \n",
       "1   Disney  ts20711                    The Simpsons   SHOW   \n",
       "2   Disney  ts15377  America's Funniest Home Videos   SHOW   \n",
       "3   Disney  ts22130                Rolie Polie Olie   SHOW   \n",
       "4   Disney  tm38852             Horton Hears a Who!  MOVIE   \n",
       "\n",
       "                                         description  release_year  \\\n",
       "0  In this enchantingly cracked fairy tale, the b...          1987   \n",
       "1  The satiric adventures of a working-class fami...          1989   \n",
       "2  America's Funniest Home Videos is the longest-...          1989   \n",
       "3  Rolie Polie Olie was a children's television s...          1998   \n",
       "4  One day, Horton the elephant hears a cry from ...          2008   \n",
       "\n",
       "  age_certification  runtime  \\\n",
       "0                PG       99   \n",
       "1             TV-14       27   \n",
       "2             TV-PG       49   \n",
       "3              TV-Y       21   \n",
       "4                 G       86   \n",
       "\n",
       "                                              genres  \\\n",
       "0                           fantasy, family, romance   \n",
       "1                                  animation, comedy   \n",
       "2                         animation, reality, comedy   \n",
       "3          animation, comedy, family, fantasy, scifi   \n",
       "4  fantasy, family, drama, romance, comedy, music...   \n",
       "\n",
       "       production_countries  ...     genre1   genre2   genre3   genre4  \\\n",
       "0                    ['US']  ...    fantasy   family  romance      NaN   \n",
       "1                    ['US']  ...  animation   comedy      NaN      NaN   \n",
       "2                    ['US']  ...  animation  reality   comedy      NaN   \n",
       "3  ['FR', 'GB', 'US', 'CA']  ...  animation   comedy   family  fantasy   \n",
       "4                    ['US']  ...    fantasy   family    drama  romance   \n",
       "\n",
       "   genre5  genre6     genre7 genre8 genre9 genre10  \n",
       "0     NaN     NaN        NaN    NaN    NaN     NaN  \n",
       "1     NaN     NaN        NaN    NaN    NaN     NaN  \n",
       "2     NaN     NaN        NaN    NaN    NaN     NaN  \n",
       "3   scifi     NaN        NaN    NaN    NaN     NaN  \n",
       "4  comedy   music  animation    NaN    NaN     NaN  \n",
       "\n",
       "[5 rows x 26 columns]"
      ]
     },
     "execution_count": 5,
     "metadata": {},
     "output_type": "execute_result"
    }
   ],
   "source": [
    "df1.head()"
   ]
  },
  {
   "cell_type": "code",
   "execution_count": 6,
   "metadata": {},
   "outputs": [
    {
     "data": {
      "text/plain": [
       "(19654, 26)"
      ]
     },
     "execution_count": 6,
     "metadata": {},
     "output_type": "execute_result"
    }
   ],
   "source": [
    "df1.shape"
   ]
  },
  {
   "cell_type": "code",
   "execution_count": 7,
   "metadata": {},
   "outputs": [],
   "source": [
    "#Subsetting the data"
   ]
  },
  {
   "cell_type": "code",
   "execution_count": 8,
   "metadata": {},
   "outputs": [],
   "source": [
    "df2 = df1.drop (['title', 'description', 'age_certification', 'genres', 'production_countries', 'tmdb_popularity','tmdb_score','genre2', 'genre3', 'genre4', 'genre5', 'genre6', 'genre7', 'genre8', 'genre9','genre10', 'seasons', 'imdb_votes', 'imdb_id'], axis=1)"
   ]
  },
  {
   "cell_type": "code",
   "execution_count": 9,
   "metadata": {},
   "outputs": [
    {
     "data": {
      "text/html": [
       "<div>\n",
       "<style scoped>\n",
       "    .dataframe tbody tr th:only-of-type {\n",
       "        vertical-align: middle;\n",
       "    }\n",
       "\n",
       "    .dataframe tbody tr th {\n",
       "        vertical-align: top;\n",
       "    }\n",
       "\n",
       "    .dataframe thead th {\n",
       "        text-align: right;\n",
       "    }\n",
       "</style>\n",
       "<table border=\"1\" class=\"dataframe\">\n",
       "  <thead>\n",
       "    <tr style=\"text-align: right;\">\n",
       "      <th></th>\n",
       "      <th>platform</th>\n",
       "      <th>id</th>\n",
       "      <th>type</th>\n",
       "      <th>release_year</th>\n",
       "      <th>runtime</th>\n",
       "      <th>imdb_score</th>\n",
       "      <th>genre1</th>\n",
       "    </tr>\n",
       "  </thead>\n",
       "  <tbody>\n",
       "    <tr>\n",
       "      <th>0</th>\n",
       "      <td>Disney</td>\n",
       "      <td>tm19438</td>\n",
       "      <td>MOVIE</td>\n",
       "      <td>1987</td>\n",
       "      <td>99</td>\n",
       "      <td>8.0</td>\n",
       "      <td>fantasy</td>\n",
       "    </tr>\n",
       "    <tr>\n",
       "      <th>1</th>\n",
       "      <td>Disney</td>\n",
       "      <td>ts20711</td>\n",
       "      <td>SHOW</td>\n",
       "      <td>1989</td>\n",
       "      <td>27</td>\n",
       "      <td>8.7</td>\n",
       "      <td>animation</td>\n",
       "    </tr>\n",
       "    <tr>\n",
       "      <th>2</th>\n",
       "      <td>Disney</td>\n",
       "      <td>ts15377</td>\n",
       "      <td>SHOW</td>\n",
       "      <td>1989</td>\n",
       "      <td>49</td>\n",
       "      <td>6.2</td>\n",
       "      <td>animation</td>\n",
       "    </tr>\n",
       "    <tr>\n",
       "      <th>3</th>\n",
       "      <td>Disney</td>\n",
       "      <td>ts22130</td>\n",
       "      <td>SHOW</td>\n",
       "      <td>1998</td>\n",
       "      <td>21</td>\n",
       "      <td>6.3</td>\n",
       "      <td>animation</td>\n",
       "    </tr>\n",
       "    <tr>\n",
       "      <th>4</th>\n",
       "      <td>Disney</td>\n",
       "      <td>tm38852</td>\n",
       "      <td>MOVIE</td>\n",
       "      <td>2008</td>\n",
       "      <td>86</td>\n",
       "      <td>6.8</td>\n",
       "      <td>fantasy</td>\n",
       "    </tr>\n",
       "  </tbody>\n",
       "</table>\n",
       "</div>"
      ],
      "text/plain": [
       "  platform       id   type  release_year  runtime  imdb_score     genre1\n",
       "0   Disney  tm19438  MOVIE          1987       99         8.0    fantasy\n",
       "1   Disney  ts20711   SHOW          1989       27         8.7  animation\n",
       "2   Disney  ts15377   SHOW          1989       49         6.2  animation\n",
       "3   Disney  ts22130   SHOW          1998       21         6.3  animation\n",
       "4   Disney  tm38852  MOVIE          2008       86         6.8    fantasy"
      ]
     },
     "execution_count": 9,
     "metadata": {},
     "output_type": "execute_result"
    }
   ],
   "source": [
    "df2.head()"
   ]
  },
  {
   "cell_type": "code",
   "execution_count": 10,
   "metadata": {},
   "outputs": [
    {
     "data": {
      "text/plain": [
       "(19654, 7)"
      ]
     },
     "execution_count": 10,
     "metadata": {},
     "output_type": "execute_result"
    }
   ],
   "source": [
    "df2.shape"
   ]
  },
  {
   "cell_type": "code",
   "execution_count": 11,
   "metadata": {},
   "outputs": [],
   "source": [
    "#Subsetting data for shows"
   ]
  },
  {
   "cell_type": "code",
   "execution_count": 12,
   "metadata": {},
   "outputs": [],
   "source": [
    "df3 = df2.loc[df2['type']=='SHOW']"
   ]
  },
  {
   "cell_type": "code",
   "execution_count": 13,
   "metadata": {},
   "outputs": [
    {
     "data": {
      "text/html": [
       "<div>\n",
       "<style scoped>\n",
       "    .dataframe tbody tr th:only-of-type {\n",
       "        vertical-align: middle;\n",
       "    }\n",
       "\n",
       "    .dataframe tbody tr th {\n",
       "        vertical-align: top;\n",
       "    }\n",
       "\n",
       "    .dataframe thead th {\n",
       "        text-align: right;\n",
       "    }\n",
       "</style>\n",
       "<table border=\"1\" class=\"dataframe\">\n",
       "  <thead>\n",
       "    <tr style=\"text-align: right;\">\n",
       "      <th></th>\n",
       "      <th>platform</th>\n",
       "      <th>id</th>\n",
       "      <th>type</th>\n",
       "      <th>release_year</th>\n",
       "      <th>runtime</th>\n",
       "      <th>imdb_score</th>\n",
       "      <th>genre1</th>\n",
       "    </tr>\n",
       "  </thead>\n",
       "  <tbody>\n",
       "    <tr>\n",
       "      <th>1</th>\n",
       "      <td>Disney</td>\n",
       "      <td>ts20711</td>\n",
       "      <td>SHOW</td>\n",
       "      <td>1989</td>\n",
       "      <td>27</td>\n",
       "      <td>8.7</td>\n",
       "      <td>animation</td>\n",
       "    </tr>\n",
       "    <tr>\n",
       "      <th>2</th>\n",
       "      <td>Disney</td>\n",
       "      <td>ts15377</td>\n",
       "      <td>SHOW</td>\n",
       "      <td>1989</td>\n",
       "      <td>49</td>\n",
       "      <td>6.2</td>\n",
       "      <td>animation</td>\n",
       "    </tr>\n",
       "    <tr>\n",
       "      <th>3</th>\n",
       "      <td>Disney</td>\n",
       "      <td>ts22130</td>\n",
       "      <td>SHOW</td>\n",
       "      <td>1998</td>\n",
       "      <td>21</td>\n",
       "      <td>6.3</td>\n",
       "      <td>animation</td>\n",
       "    </tr>\n",
       "    <tr>\n",
       "      <th>5</th>\n",
       "      <td>Disney</td>\n",
       "      <td>ts21940</td>\n",
       "      <td>SHOW</td>\n",
       "      <td>2010</td>\n",
       "      <td>23</td>\n",
       "      <td>6.6</td>\n",
       "      <td>action</td>\n",
       "    </tr>\n",
       "    <tr>\n",
       "      <th>6</th>\n",
       "      <td>Disney</td>\n",
       "      <td>ts21756</td>\n",
       "      <td>SHOW</td>\n",
       "      <td>2009</td>\n",
       "      <td>22</td>\n",
       "      <td>6.3</td>\n",
       "      <td>comedy</td>\n",
       "    </tr>\n",
       "  </tbody>\n",
       "</table>\n",
       "</div>"
      ],
      "text/plain": [
       "  platform       id  type  release_year  runtime  imdb_score     genre1\n",
       "1   Disney  ts20711  SHOW          1989       27         8.7  animation\n",
       "2   Disney  ts15377  SHOW          1989       49         6.2  animation\n",
       "3   Disney  ts22130  SHOW          1998       21         6.3  animation\n",
       "5   Disney  ts21940  SHOW          2010       23         6.6     action\n",
       "6   Disney  ts21756  SHOW          2009       22         6.3     comedy"
      ]
     },
     "execution_count": 13,
     "metadata": {},
     "output_type": "execute_result"
    }
   ],
   "source": [
    "df3.head()"
   ]
  },
  {
   "cell_type": "code",
   "execution_count": 14,
   "metadata": {},
   "outputs": [
    {
     "data": {
      "text/plain": [
       "(5208, 7)"
      ]
     },
     "execution_count": 14,
     "metadata": {},
     "output_type": "execute_result"
    }
   ],
   "source": [
    "df3.shape"
   ]
  },
  {
   "cell_type": "code",
   "execution_count": 15,
   "metadata": {},
   "outputs": [],
   "source": [
    "#Viewing and droppings NAs"
   ]
  },
  {
   "cell_type": "code",
   "execution_count": 16,
   "metadata": {},
   "outputs": [
    {
     "data": {
      "text/plain": [
       "platform          0\n",
       "id                0\n",
       "type              0\n",
       "release_year      0\n",
       "runtime           0\n",
       "imdb_score      492\n",
       "genre1            0\n",
       "dtype: int64"
      ]
     },
     "execution_count": 16,
     "metadata": {},
     "output_type": "execute_result"
    }
   ],
   "source": [
    "df3.isnull().sum()"
   ]
  },
  {
   "cell_type": "code",
   "execution_count": 17,
   "metadata": {},
   "outputs": [],
   "source": [
    "#So, when the NAs are dropped first using the dropna, it removes all rows that have NA - this means that the variables I don't need must be dropped first"
   ]
  },
  {
   "cell_type": "code",
   "execution_count": 18,
   "metadata": {},
   "outputs": [
    {
     "name": "stderr",
     "output_type": "stream",
     "text": [
      "C:\\Users\\lesle\\AppData\\Local\\Temp\\ipykernel_35592\\1665326329.py:1: SettingWithCopyWarning: \n",
      "A value is trying to be set on a copy of a slice from a DataFrame\n",
      "\n",
      "See the caveats in the documentation: https://pandas.pydata.org/pandas-docs/stable/user_guide/indexing.html#returning-a-view-versus-a-copy\n",
      "  df3.dropna(inplace=True)\n"
     ]
    }
   ],
   "source": [
    "df3.dropna(inplace=True)"
   ]
  },
  {
   "cell_type": "code",
   "execution_count": 19,
   "metadata": {},
   "outputs": [
    {
     "data": {
      "text/plain": [
       "platform        0\n",
       "id              0\n",
       "type            0\n",
       "release_year    0\n",
       "runtime         0\n",
       "imdb_score      0\n",
       "genre1          0\n",
       "dtype: int64"
      ]
     },
     "execution_count": 19,
     "metadata": {},
     "output_type": "execute_result"
    }
   ],
   "source": [
    "df3.isnull().sum()"
   ]
  },
  {
   "cell_type": "code",
   "execution_count": 20,
   "metadata": {},
   "outputs": [
    {
     "data": {
      "text/plain": [
       "<bound method DataFrame.count of       platform        id  type  release_year  runtime  imdb_score     genre1\n",
       "1       Disney   ts20711  SHOW          1989       27         8.7  animation\n",
       "2       Disney   ts15377  SHOW          1989       49         6.2  animation\n",
       "3       Disney   ts22130  SHOW          1998       21         6.3  animation\n",
       "5       Disney   ts21940  SHOW          2010       23         6.6     action\n",
       "6       Disney   ts21756  SHOW          2009       22         6.3     comedy\n",
       "...        ...       ...   ...           ...      ...         ...        ...\n",
       "19643     Hulu  ts322832  SHOW          2021       40         7.4    reality\n",
       "19645     Hulu  ts330888  SHOW          2021       24         7.0  animation\n",
       "19646     Hulu  ts289327  SHOW          2021       43         6.9      sport\n",
       "19649     Hulu  ts290117  SHOW          2021       11         7.3     comedy\n",
       "19651     Hulu  ts317705  SHOW          2021       42         4.7    reality\n",
       "\n",
       "[4716 rows x 7 columns]>"
      ]
     },
     "execution_count": 20,
     "metadata": {},
     "output_type": "execute_result"
    }
   ],
   "source": [
    "df3.count"
   ]
  },
  {
   "cell_type": "code",
   "execution_count": 21,
   "metadata": {},
   "outputs": [],
   "source": [
    "#This leaves 4716 rows of data - close to susan's 4680"
   ]
  },
  {
   "cell_type": "code",
   "execution_count": 22,
   "metadata": {},
   "outputs": [
    {
     "data": {
      "text/plain": [
       "Netflix    1939\n",
       "Hulu       1250\n",
       "Amazon     1166\n",
       "Disney      361\n",
       "Name: platform, dtype: int64"
      ]
     },
     "execution_count": 22,
     "metadata": {},
     "output_type": "execute_result"
    }
   ],
   "source": [
    "df3['platform'].value_counts()"
   ]
  },
  {
   "cell_type": "code",
   "execution_count": 23,
   "metadata": {},
   "outputs": [
    {
     "data": {
      "text/plain": [
       "Text(0.5, 0, 'Platform')"
      ]
     },
     "execution_count": 23,
     "metadata": {},
     "output_type": "execute_result"
    },
    {
     "data": {
      "image/png": "[encoded data removed]",
      "text/plain": [
       "<Figure size 432x288 with 1 Axes>"
      ]
     },
     "metadata": {
      "needs_background": "light"
     },
     "output_type": "display_data"
    }
   ],
   "source": [
    "#Distribution of shows on each platform\n",
    "Platform = df3['platform'].value_counts().plot(kind='bar')\n",
    "Platform.set_title(\"Platform Distribution\")\n",
    "Platform.set_xlabel(\"Platform\")"
   ]
  },
  {
   "cell_type": "code",
   "execution_count": 24,
   "metadata": {},
   "outputs": [
    {
     "data": {
      "text/plain": [
       "drama            1025\n",
       "comedy            851\n",
       "documentation     529\n",
       "scifi             510\n",
       "animation         498\n",
       "reality           439\n",
       "action            363\n",
       "crime             201\n",
       "thriller           85\n",
       "war                50\n",
       "[]                 35\n",
       "family             30\n",
       "romance            25\n",
       "western            14\n",
       "music              13\n",
       "history            13\n",
       "horror             12\n",
       "fantasy            12\n",
       "sport              11\n",
       "Name: genre1, dtype: int64"
      ]
     },
     "execution_count": 24,
     "metadata": {},
     "output_type": "execute_result"
    }
   ],
   "source": [
    "#Count by genre \n",
    "df3.genre1.value_counts()"
   ]
  },
  {
   "cell_type": "code",
   "execution_count": 25,
   "metadata": {},
   "outputs": [
    {
     "data": {
      "text/plain": [
       "7.055067854113655"
      ]
     },
     "execution_count": 25,
     "metadata": {},
     "output_type": "execute_result"
    }
   ],
   "source": [
    "#Checking out the mean of the imdb score\n",
    "df3.loc[:,'imdb_score'].mean()"
   ]
  },
  {
   "cell_type": "code",
   "execution_count": 26,
   "metadata": {},
   "outputs": [],
   "source": [
    "#The mean is still off from Susan's 7.06"
   ]
  },
  {
   "cell_type": "code",
   "execution_count": 27,
   "metadata": {},
   "outputs": [],
   "source": [
    "#Recoding variables"
   ]
  },
  {
   "cell_type": "code",
   "execution_count": 28,
   "metadata": {},
   "outputs": [
    {
     "name": "stderr",
     "output_type": "stream",
     "text": [
      "C:\\Users\\lesle\\AppData\\Local\\Temp\\ipykernel_35592\\1708622194.py:8: SettingWithCopyWarning: \n",
      "A value is trying to be set on a copy of a slice from a DataFrame.\n",
      "Try using .loc[row_indexer,col_indexer] = value instead\n",
      "\n",
      "See the caveats in the documentation: https://pandas.pydata.org/pandas-docs/stable/user_guide/indexing.html#returning-a-view-versus-a-copy\n",
      "  df3[\"rating_df\"] = df3[\"imdb_score\"].apply(rating_df)\n"
     ]
    }
   ],
   "source": [
    "def rating_df (series):\n",
    "    if series == \"imdb_score\":\n",
    "        return \"0\"\n",
    "    if series <= 6.9:\n",
    "        return \"Negative\"\n",
    "    if series >= 7.0:\n",
    "        return \"Positive\"\n",
    "df3[\"rating_df\"] = df3[\"imdb_score\"].apply(rating_df)"
   ]
  },
  {
   "cell_type": "code",
   "execution_count": 29,
   "metadata": {},
   "outputs": [
    {
     "name": "stderr",
     "output_type": "stream",
     "text": [
      "C:\\Users\\lesle\\AppData\\Local\\Temp\\ipykernel_35592\\1268006130.py:8: SettingWithCopyWarning: \n",
      "A value is trying to be set on a copy of a slice from a DataFrame.\n",
      "Try using .loc[row_indexer,col_indexer] = value instead\n",
      "\n",
      "See the caveats in the documentation: https://pandas.pydata.org/pandas-docs/stable/user_guide/indexing.html#returning-a-view-versus-a-copy\n",
      "  df3[\"rating_df1\"] = df3[\"rating_df\"].apply(rating_df1)\n"
     ]
    }
   ],
   "source": [
    "def rating_df1 (series):\n",
    "    if series == \"Rating\":\n",
    "        return \"0\"\n",
    "    if series == \"Positive\":\n",
    "        return \"1\"\n",
    "    if series == \"Negative\":\n",
    "        return \"2\"\n",
    "df3[\"rating_df1\"] = df3[\"rating_df\"].apply(rating_df1)"
   ]
  },
  {
   "cell_type": "code",
   "execution_count": 30,
   "metadata": {},
   "outputs": [
    {
     "data": {
      "text/plain": [
       "rating_df1\n",
       "1    2814\n",
       "2    1902\n",
       "Name: genre1, dtype: int64"
      ]
     },
     "execution_count": 30,
     "metadata": {},
     "output_type": "execute_result"
    }
   ],
   "source": [
    "df3.groupby('rating_df1')['genre1'].count()"
   ]
  },
  {
   "cell_type": "code",
   "execution_count": 31,
   "metadata": {},
   "outputs": [
    {
     "name": "stderr",
     "output_type": "stream",
     "text": [
      "C:\\Users\\lesle\\AppData\\Local\\Temp\\ipykernel_35592\\3611984171.py:13: SettingWithCopyWarning: \n",
      "A value is trying to be set on a copy of a slice from a DataFrame.\n",
      "Try using .loc[row_indexer,col_indexer] = value instead\n",
      "\n",
      "See the caveats in the documentation: https://pandas.pydata.org/pandas-docs/stable/user_guide/indexing.html#returning-a-view-versus-a-copy\n",
      "  df3[\"platformR\"] = df3[\"platform\"].apply(platformR)\n"
     ]
    }
   ],
   "source": [
    "#recode platforms\n",
    "def platformR (series):\n",
    "    if series == \"platform\":\n",
    "        return \"0\"\n",
    "    if series == \"Amazon\":\n",
    "        return \"1\"\n",
    "    if series == \"Netflix\":\n",
    "        return \"2\"\n",
    "    if series == \"Hulu\":\n",
    "        return \"3\"\n",
    "    if series == \"Disney\":\n",
    "        return \"4\"\n",
    "df3[\"platformR\"] = df3[\"platform\"].apply(platformR)"
   ]
  },
  {
   "cell_type": "code",
   "execution_count": 32,
   "metadata": {},
   "outputs": [
    {
     "name": "stderr",
     "output_type": "stream",
     "text": [
      "C:\\Users\\lesle\\AppData\\Local\\Temp\\ipykernel_35592\\1041931906.py:45: SettingWithCopyWarning: \n",
      "A value is trying to be set on a copy of a slice from a DataFrame.\n",
      "Try using .loc[row_indexer,col_indexer] = value instead\n",
      "\n",
      "See the caveats in the documentation: https://pandas.pydata.org/pandas-docs/stable/user_guide/indexing.html#returning-a-view-versus-a-copy\n",
      "  df3[\"genreR\"] = df3[\"genre1\"].apply(genreR)\n"
     ]
    }
   ],
   "source": [
    "#recode genres\n",
    "def genreR (series):\n",
    "  if series == \"genre1\":\n",
    "    return \"0\"\n",
    "  if series == \"fantasy\": \n",
    "    return \"1\"\n",
    "  if series == \"animation\": \n",
    "    return \"2\"\n",
    "  if series == \"action\":\n",
    "    return \"3\"\n",
    "  if series == \"comedy\":\n",
    "    return \"4\"\n",
    "  if series == \"scifi\":\n",
    "    return \"5\"\n",
    "  if series == \"reality\":\n",
    "    return \"6\"\n",
    "  if series == \"drama\":\n",
    "    return \"7\"\n",
    "  if series == \"documentation\":\n",
    "    return \"8\"\n",
    "  if series == \"music\":\n",
    "    return \"9\"\n",
    "  if series == \"western\":\n",
    "    return \"10\"\n",
    "  if series == \"family\":\n",
    "    return \"11\"\n",
    "  if series == \"thriller\":\n",
    "    return \"12\"\n",
    "  if series == \"romance\":\n",
    "    return \"13\"\n",
    "  if series == \"crime\":\n",
    "    return \"14\"\n",
    "  if series == \"horror\":\n",
    "    return \"15\"\n",
    "  if series == \"history\":\n",
    "    return \"16\"\n",
    "  if series == \"war\":\n",
    "    return \"17\"\n",
    "  if series == \"[]\":\n",
    "    return \"18\"\n",
    "  if series == \"sport\":\n",
    "    return \"19\"\n",
    "  if series == 'european':\n",
    "    return \"20\"\n",
    "df3[\"genreR\"] = df3[\"genre1\"].apply(genreR)"
   ]
  },
  {
   "cell_type": "code",
   "execution_count": 33,
   "metadata": {},
   "outputs": [
    {
     "data": {
      "text/html": [
       "<div>\n",
       "<style scoped>\n",
       "    .dataframe tbody tr th:only-of-type {\n",
       "        vertical-align: middle;\n",
       "    }\n",
       "\n",
       "    .dataframe tbody tr th {\n",
       "        vertical-align: top;\n",
       "    }\n",
       "\n",
       "    .dataframe thead th {\n",
       "        text-align: right;\n",
       "    }\n",
       "</style>\n",
       "<table border=\"1\" class=\"dataframe\">\n",
       "  <thead>\n",
       "    <tr style=\"text-align: right;\">\n",
       "      <th></th>\n",
       "      <th>platform</th>\n",
       "      <th>id</th>\n",
       "      <th>type</th>\n",
       "      <th>release_year</th>\n",
       "      <th>runtime</th>\n",
       "      <th>imdb_score</th>\n",
       "      <th>genre1</th>\n",
       "      <th>rating_df</th>\n",
       "      <th>rating_df1</th>\n",
       "      <th>platformR</th>\n",
       "      <th>genreR</th>\n",
       "    </tr>\n",
       "  </thead>\n",
       "  <tbody>\n",
       "    <tr>\n",
       "      <th>1</th>\n",
       "      <td>Disney</td>\n",
       "      <td>ts20711</td>\n",
       "      <td>SHOW</td>\n",
       "      <td>1989</td>\n",
       "      <td>27</td>\n",
       "      <td>8.7</td>\n",
       "      <td>animation</td>\n",
       "      <td>Positive</td>\n",
       "      <td>1</td>\n",
       "      <td>4</td>\n",
       "      <td>2</td>\n",
       "    </tr>\n",
       "    <tr>\n",
       "      <th>2</th>\n",
       "      <td>Disney</td>\n",
       "      <td>ts15377</td>\n",
       "      <td>SHOW</td>\n",
       "      <td>1989</td>\n",
       "      <td>49</td>\n",
       "      <td>6.2</td>\n",
       "      <td>animation</td>\n",
       "      <td>Negative</td>\n",
       "      <td>2</td>\n",
       "      <td>4</td>\n",
       "      <td>2</td>\n",
       "    </tr>\n",
       "    <tr>\n",
       "      <th>3</th>\n",
       "      <td>Disney</td>\n",
       "      <td>ts22130</td>\n",
       "      <td>SHOW</td>\n",
       "      <td>1998</td>\n",
       "      <td>21</td>\n",
       "      <td>6.3</td>\n",
       "      <td>animation</td>\n",
       "      <td>Negative</td>\n",
       "      <td>2</td>\n",
       "      <td>4</td>\n",
       "      <td>2</td>\n",
       "    </tr>\n",
       "    <tr>\n",
       "      <th>5</th>\n",
       "      <td>Disney</td>\n",
       "      <td>ts21940</td>\n",
       "      <td>SHOW</td>\n",
       "      <td>2010</td>\n",
       "      <td>23</td>\n",
       "      <td>6.6</td>\n",
       "      <td>action</td>\n",
       "      <td>Negative</td>\n",
       "      <td>2</td>\n",
       "      <td>4</td>\n",
       "      <td>3</td>\n",
       "    </tr>\n",
       "    <tr>\n",
       "      <th>6</th>\n",
       "      <td>Disney</td>\n",
       "      <td>ts21756</td>\n",
       "      <td>SHOW</td>\n",
       "      <td>2009</td>\n",
       "      <td>22</td>\n",
       "      <td>6.3</td>\n",
       "      <td>comedy</td>\n",
       "      <td>Negative</td>\n",
       "      <td>2</td>\n",
       "      <td>4</td>\n",
       "      <td>4</td>\n",
       "    </tr>\n",
       "  </tbody>\n",
       "</table>\n",
       "</div>"
      ],
      "text/plain": [
       "  platform       id  type  release_year  runtime  imdb_score     genre1  \\\n",
       "1   Disney  ts20711  SHOW          1989       27         8.7  animation   \n",
       "2   Disney  ts15377  SHOW          1989       49         6.2  animation   \n",
       "3   Disney  ts22130  SHOW          1998       21         6.3  animation   \n",
       "5   Disney  ts21940  SHOW          2010       23         6.6     action   \n",
       "6   Disney  ts21756  SHOW          2009       22         6.3     comedy   \n",
       "\n",
       "  rating_df rating_df1 platformR genreR  \n",
       "1  Positive          1         4      2  \n",
       "2  Negative          2         4      2  \n",
       "3  Negative          2         4      2  \n",
       "5  Negative          2         4      3  \n",
       "6  Negative          2         4      4  "
      ]
     },
     "execution_count": 33,
     "metadata": {},
     "output_type": "execute_result"
    }
   ],
   "source": [
    "df3.head()"
   ]
  },
  {
   "cell_type": "code",
   "execution_count": 34,
   "metadata": {},
   "outputs": [
    {
     "name": "stderr",
     "output_type": "stream",
     "text": [
      "C:\\Users\\lesle\\AppData\\Local\\Temp\\ipykernel_35592\\3231936955.py:1: SettingWithCopyWarning: \n",
      "A value is trying to be set on a copy of a slice from a DataFrame.\n",
      "Try using .loc[row_indexer,col_indexer] = value instead\n",
      "\n",
      "See the caveats in the documentation: https://pandas.pydata.org/pandas-docs/stable/user_guide/indexing.html#returning-a-view-versus-a-copy\n",
      "  df3['genreR'] = df3['genreR'].astype(int)\n"
     ]
    }
   ],
   "source": [
    "df3['genreR'] = df3['genreR'].astype(int)"
   ]
  },
  {
   "cell_type": "code",
   "execution_count": 35,
   "metadata": {},
   "outputs": [
    {
     "name": "stderr",
     "output_type": "stream",
     "text": [
      "C:\\Users\\lesle\\AppData\\Local\\Temp\\ipykernel_35592\\1847818915.py:1: SettingWithCopyWarning: \n",
      "A value is trying to be set on a copy of a slice from a DataFrame.\n",
      "Try using .loc[row_indexer,col_indexer] = value instead\n",
      "\n",
      "See the caveats in the documentation: https://pandas.pydata.org/pandas-docs/stable/user_guide/indexing.html#returning-a-view-versus-a-copy\n",
      "  df3['platformR']=df3['platformR'].astype(int)\n"
     ]
    }
   ],
   "source": [
    "df3['platformR']=df3['platformR'].astype(int)"
   ]
  },
  {
   "cell_type": "code",
   "execution_count": 36,
   "metadata": {},
   "outputs": [
    {
     "data": {
      "text/plain": [
       "platform         object\n",
       "id               object\n",
       "type             object\n",
       "release_year      int64\n",
       "runtime           int64\n",
       "imdb_score      float64\n",
       "genre1           object\n",
       "rating_df        object\n",
       "rating_df1       object\n",
       "platformR         int32\n",
       "genreR            int32\n",
       "dtype: object"
      ]
     },
     "execution_count": 36,
     "metadata": {},
     "output_type": "execute_result"
    }
   ],
   "source": [
    "df3.dtypes"
   ]
  },
  {
   "cell_type": "code",
   "execution_count": 37,
   "metadata": {},
   "outputs": [
    {
     "name": "stderr",
     "output_type": "stream",
     "text": [
      "C:\\Users\\lesle\\AppData\\Local\\Temp\\ipykernel_35592\\1010029047.py:1: SettingWithCopyWarning: \n",
      "A value is trying to be set on a copy of a slice from a DataFrame.\n",
      "Try using .loc[row_indexer,col_indexer] = value instead\n",
      "\n",
      "See the caveats in the documentation: https://pandas.pydata.org/pandas-docs/stable/user_guide/indexing.html#returning-a-view-versus-a-copy\n",
      "  df3['imdb_score']=df3['imdb_score'].astype(int)\n"
     ]
    }
   ],
   "source": [
    "df3['imdb_score']=df3['imdb_score'].astype(int)"
   ]
  },
  {
   "cell_type": "code",
   "execution_count": 38,
   "metadata": {},
   "outputs": [
    {
     "name": "stderr",
     "output_type": "stream",
     "text": [
      "C:\\Users\\lesle\\AppData\\Local\\Temp\\ipykernel_35592\\4043877885.py:1: SettingWithCopyWarning: \n",
      "A value is trying to be set on a copy of a slice from a DataFrame.\n",
      "Try using .loc[row_indexer,col_indexer] = value instead\n",
      "\n",
      "See the caveats in the documentation: https://pandas.pydata.org/pandas-docs/stable/user_guide/indexing.html#returning-a-view-versus-a-copy\n",
      "  df3['rating_df1']=df3['rating_df1'].astype(int)\n"
     ]
    }
   ],
   "source": [
    "df3['rating_df1']=df3['rating_df1'].astype(int)"
   ]
  },
  {
   "cell_type": "code",
   "execution_count": 39,
   "metadata": {},
   "outputs": [
    {
     "data": {
      "text/plain": [
       "platform        object\n",
       "id              object\n",
       "type            object\n",
       "release_year     int64\n",
       "runtime          int64\n",
       "imdb_score       int32\n",
       "genre1          object\n",
       "rating_df       object\n",
       "rating_df1       int32\n",
       "platformR        int32\n",
       "genreR           int32\n",
       "dtype: object"
      ]
     },
     "execution_count": 39,
     "metadata": {},
     "output_type": "execute_result"
    }
   ],
   "source": [
    "df3.dtypes"
   ]
  },
  {
   "cell_type": "code",
   "execution_count": 40,
   "metadata": {},
   "outputs": [
    {
     "data": {
      "text/html": [
       "<div>\n",
       "<style scoped>\n",
       "    .dataframe tbody tr th:only-of-type {\n",
       "        vertical-align: middle;\n",
       "    }\n",
       "\n",
       "    .dataframe tbody tr th {\n",
       "        vertical-align: top;\n",
       "    }\n",
       "\n",
       "    .dataframe thead th {\n",
       "        text-align: right;\n",
       "    }\n",
       "</style>\n",
       "<table border=\"1\" class=\"dataframe\">\n",
       "  <thead>\n",
       "    <tr style=\"text-align: right;\">\n",
       "      <th></th>\n",
       "      <th>rating_df1</th>\n",
       "      <th>platformR</th>\n",
       "      <th>genreR</th>\n",
       "      <th>runtime</th>\n",
       "    </tr>\n",
       "  </thead>\n",
       "  <tbody>\n",
       "    <tr>\n",
       "      <th>rating_df1</th>\n",
       "      <td>1.000000</td>\n",
       "      <td>0.026727</td>\n",
       "      <td>-0.096440</td>\n",
       "      <td>-0.159456</td>\n",
       "    </tr>\n",
       "    <tr>\n",
       "      <th>platformR</th>\n",
       "      <td>0.026727</td>\n",
       "      <td>1.000000</td>\n",
       "      <td>-0.109343</td>\n",
       "      <td>-0.108261</td>\n",
       "    </tr>\n",
       "    <tr>\n",
       "      <th>genreR</th>\n",
       "      <td>-0.096440</td>\n",
       "      <td>-0.109343</td>\n",
       "      <td>1.000000</td>\n",
       "      <td>0.393322</td>\n",
       "    </tr>\n",
       "    <tr>\n",
       "      <th>runtime</th>\n",
       "      <td>-0.159456</td>\n",
       "      <td>-0.108261</td>\n",
       "      <td>0.393322</td>\n",
       "      <td>1.000000</td>\n",
       "    </tr>\n",
       "  </tbody>\n",
       "</table>\n",
       "</div>"
      ],
      "text/plain": [
       "            rating_df1  platformR    genreR   runtime\n",
       "rating_df1    1.000000   0.026727 -0.096440 -0.159456\n",
       "platformR     0.026727   1.000000 -0.109343 -0.108261\n",
       "genreR       -0.096440  -0.109343  1.000000  0.393322\n",
       "runtime      -0.159456  -0.108261  0.393322  1.000000"
      ]
     },
     "execution_count": 40,
     "metadata": {},
     "output_type": "execute_result"
    }
   ],
   "source": [
    "#Correlation matrix to show relationship between select variables\n",
    "corr_matrix = df3[[\"rating_df1\",\"platformR\",\"genreR\",\"runtime\"]].corr()\n",
    "corr_matrix"
   ]
  },
  {
   "cell_type": "code",
   "execution_count": 86,
   "metadata": {},
   "outputs": [
    {
     "data": {
      "text/html": [
       "<div>\n",
       "<style scoped>\n",
       "    .dataframe tbody tr th:only-of-type {\n",
       "        vertical-align: middle;\n",
       "    }\n",
       "\n",
       "    .dataframe tbody tr th {\n",
       "        vertical-align: top;\n",
       "    }\n",
       "\n",
       "    .dataframe thead th {\n",
       "        text-align: right;\n",
       "    }\n",
       "</style>\n",
       "<table border=\"1\" class=\"dataframe\">\n",
       "  <thead>\n",
       "    <tr style=\"text-align: right;\">\n",
       "      <th></th>\n",
       "      <th>imdb_score</th>\n",
       "      <th>platformR</th>\n",
       "      <th>genreR</th>\n",
       "      <th>runtime</th>\n",
       "    </tr>\n",
       "  </thead>\n",
       "  <tbody>\n",
       "    <tr>\n",
       "      <th>imdb_score</th>\n",
       "      <td>1.000000</td>\n",
       "      <td>-0.012688</td>\n",
       "      <td>0.078281</td>\n",
       "      <td>0.151825</td>\n",
       "    </tr>\n",
       "    <tr>\n",
       "      <th>platformR</th>\n",
       "      <td>-0.012688</td>\n",
       "      <td>1.000000</td>\n",
       "      <td>-0.109343</td>\n",
       "      <td>-0.108261</td>\n",
       "    </tr>\n",
       "    <tr>\n",
       "      <th>genreR</th>\n",
       "      <td>0.078281</td>\n",
       "      <td>-0.109343</td>\n",
       "      <td>1.000000</td>\n",
       "      <td>0.393322</td>\n",
       "    </tr>\n",
       "    <tr>\n",
       "      <th>runtime</th>\n",
       "      <td>0.151825</td>\n",
       "      <td>-0.108261</td>\n",
       "      <td>0.393322</td>\n",
       "      <td>1.000000</td>\n",
       "    </tr>\n",
       "  </tbody>\n",
       "</table>\n",
       "</div>"
      ],
      "text/plain": [
       "            imdb_score  platformR    genreR   runtime\n",
       "imdb_score    1.000000  -0.012688  0.078281  0.151825\n",
       "platformR    -0.012688   1.000000 -0.109343 -0.108261\n",
       "genreR        0.078281  -0.109343  1.000000  0.393322\n",
       "runtime       0.151825  -0.108261  0.393322  1.000000"
      ]
     },
     "execution_count": 86,
     "metadata": {},
     "output_type": "execute_result"
    }
   ],
   "source": [
    "#Correlation matrix to show relationship between select variables\n",
    "corr_matrix1 = df3[[\"imdb_score\",\"platformR\",\"genreR\",\"runtime\"]].corr()\n",
    "corr_matrix1"
   ]
  },
  {
   "cell_type": "code",
   "execution_count": 41,
   "metadata": {},
   "outputs": [
    {
     "data": {
      "image/png": "[encoded data removed]",
      "text/plain": [
       "<Figure size 576x360 with 2 Axes>"
      ]
     },
     "metadata": {
      "needs_background": "light"
     },
     "output_type": "display_data"
    }
   ],
   "source": [
    "plt.figure(figsize=[8,5])\n",
    "sns.heatmap(corr_matrix,annot=True,cmap='Reds')\n",
    "plt.title(\"Correlation between Selected Variables\")\n",
    "plt.show()"
   ]
  },
  {
   "cell_type": "code",
   "execution_count": 87,
   "metadata": {},
   "outputs": [
    {
     "data": {
      "image/png": "[encoded data removed]",
      "text/plain": [
       "<Figure size 576x360 with 2 Axes>"
      ]
     },
     "metadata": {
      "needs_background": "light"
     },
     "output_type": "display_data"
    }
   ],
   "source": [
    "plt.figure(figsize=[8,5])\n",
    "sns.heatmap(corr_matrix1,annot=True,cmap='Reds')\n",
    "plt.title(\"Correlation between Selected Variables\")\n",
    "plt.show()"
   ]
  },
  {
   "cell_type": "code",
   "execution_count": 43,
   "metadata": {},
   "outputs": [],
   "source": [
    "from scipy.stats import norm\n",
    "from scipy import stats"
   ]
  },
  {
   "cell_type": "code",
   "execution_count": 51,
   "metadata": {},
   "outputs": [
    {
     "data": {
      "text/plain": [
       "6.603265479219678"
      ]
     },
     "execution_count": 51,
     "metadata": {},
     "output_type": "execute_result"
    }
   ],
   "source": [
    "df3['imdb_score'].mean()"
   ]
  },
  {
   "cell_type": "code",
   "execution_count": 52,
   "metadata": {},
   "outputs": [
    {
     "data": {
      "text/plain": [
       "<AxesSubplot: >"
      ]
     },
     "execution_count": 52,
     "metadata": {},
     "output_type": "execute_result"
    },
    {
     "data": {
      "image/png": "[encoded data removed]",
      "text/plain": [
       "<Figure size 432x288 with 1 Axes>"
      ]
     },
     "metadata": {
      "needs_background": "light"
     },
     "output_type": "display_data"
    }
   ],
   "source": [
    "#Checking histogram of imdb score\n",
    "df3.imdb_score.hist()\n",
    "#imdb_score is normally distributed along the mean"
   ]
  },
  {
   "cell_type": "code",
   "execution_count": 53,
   "metadata": {},
   "outputs": [
    {
     "data": {
      "image/png": "[encoded data removed]",
      "text/plain": [
       "<Figure size 432x288 with 1 Axes>"
      ]
     },
     "metadata": {
      "needs_background": "light"
     },
     "output_type": "display_data"
    }
   ],
   "source": [
    "#Plot boxplots to compare dispersion \n",
    "sns.boxplot(data=df3,x='genre1',y='imdb_score')\n",
    "plt.xticks(rotation=90)\n",
    "plt.title(\"Distribution of Genre over IMDB Score\")\n",
    "plt.show()"
   ]
  },
  {
   "cell_type": "code",
   "execution_count": 82,
   "metadata": {},
   "outputs": [],
   "source": [
    "#Chi Square Analysis "
   ]
  },
  {
   "cell_type": "code",
   "execution_count": 88,
   "metadata": {},
   "outputs": [],
   "source": [
    "#Q1 Does the platform influence the rating of the show? \n",
    "shows_crosstab1 = pd.crosstab(df3['platformR'], df3['imdb_score'])"
   ]
  },
  {
   "cell_type": "code",
   "execution_count": 89,
   "metadata": {},
   "outputs": [
    {
     "data": {
      "text/html": [
       "<div>\n",
       "<style scoped>\n",
       "    .dataframe tbody tr th:only-of-type {\n",
       "        vertical-align: middle;\n",
       "    }\n",
       "\n",
       "    .dataframe tbody tr th {\n",
       "        vertical-align: top;\n",
       "    }\n",
       "\n",
       "    .dataframe thead th {\n",
       "        text-align: right;\n",
       "    }\n",
       "</style>\n",
       "<table border=\"1\" class=\"dataframe\">\n",
       "  <thead>\n",
       "    <tr style=\"text-align: right;\">\n",
       "      <th>imdb_score</th>\n",
       "      <th>1</th>\n",
       "      <th>2</th>\n",
       "      <th>3</th>\n",
       "      <th>4</th>\n",
       "      <th>5</th>\n",
       "      <th>6</th>\n",
       "      <th>7</th>\n",
       "      <th>8</th>\n",
       "      <th>9</th>\n",
       "    </tr>\n",
       "    <tr>\n",
       "      <th>platformR</th>\n",
       "      <th></th>\n",
       "      <th></th>\n",
       "      <th></th>\n",
       "      <th></th>\n",
       "      <th></th>\n",
       "      <th></th>\n",
       "      <th></th>\n",
       "      <th></th>\n",
       "      <th></th>\n",
       "    </tr>\n",
       "  </thead>\n",
       "  <tbody>\n",
       "    <tr>\n",
       "      <th>1</th>\n",
       "      <td>2</td>\n",
       "      <td>8</td>\n",
       "      <td>13</td>\n",
       "      <td>37</td>\n",
       "      <td>102</td>\n",
       "      <td>258</td>\n",
       "      <td>455</td>\n",
       "      <td>279</td>\n",
       "      <td>12</td>\n",
       "    </tr>\n",
       "    <tr>\n",
       "      <th>2</th>\n",
       "      <td>0</td>\n",
       "      <td>9</td>\n",
       "      <td>20</td>\n",
       "      <td>56</td>\n",
       "      <td>212</td>\n",
       "      <td>563</td>\n",
       "      <td>737</td>\n",
       "      <td>327</td>\n",
       "      <td>15</td>\n",
       "    </tr>\n",
       "    <tr>\n",
       "      <th>3</th>\n",
       "      <td>1</td>\n",
       "      <td>7</td>\n",
       "      <td>11</td>\n",
       "      <td>39</td>\n",
       "      <td>105</td>\n",
       "      <td>281</td>\n",
       "      <td>518</td>\n",
       "      <td>276</td>\n",
       "      <td>12</td>\n",
       "    </tr>\n",
       "    <tr>\n",
       "      <th>4</th>\n",
       "      <td>0</td>\n",
       "      <td>0</td>\n",
       "      <td>5</td>\n",
       "      <td>13</td>\n",
       "      <td>44</td>\n",
       "      <td>116</td>\n",
       "      <td>107</td>\n",
       "      <td>70</td>\n",
       "      <td>6</td>\n",
       "    </tr>\n",
       "  </tbody>\n",
       "</table>\n",
       "</div>"
      ],
      "text/plain": [
       "imdb_score  1  2   3   4    5    6    7    8   9\n",
       "platformR                                       \n",
       "1           2  8  13  37  102  258  455  279  12\n",
       "2           0  9  20  56  212  563  737  327  15\n",
       "3           1  7  11  39  105  281  518  276  12\n",
       "4           0  0   5  13   44  116  107   70   6"
      ]
     },
     "execution_count": 89,
     "metadata": {},
     "output_type": "execute_result"
    }
   ],
   "source": [
    "shows_crosstab1"
   ]
  },
  {
   "cell_type": "code",
   "execution_count": 90,
   "metadata": {},
   "outputs": [
    {
     "data": {
      "text/plain": [
       "(75.06733504902232,\n",
       " 3.6417146948023813e-07,\n",
       " 24,\n",
       " array([[7.41730280e-01, 5.93384224e+00, 1.21149279e+01, 3.58502969e+01,\n",
       "         1.14473707e+02, 3.01142494e+02, 4.49241306e+02, 2.35375742e+02,\n",
       "         1.11259542e+01],\n",
       "        [1.23346056e+00, 9.86768448e+00, 2.01465225e+01, 5.96172604e+01,\n",
       "         1.90364080e+02, 5.00784987e+02, 7.47065946e+02, 3.91418151e+02,\n",
       "         1.85019084e+01],\n",
       "        [7.95165394e-01, 6.36132316e+00, 1.29877014e+01, 3.84329941e+01,\n",
       "         1.22720526e+02, 3.22837150e+02, 4.81605174e+02, 2.52332485e+02,\n",
       "         1.19274809e+01],\n",
       "        [2.29643766e-01, 1.83715013e+00, 3.75084818e+00, 1.10994487e+01,\n",
       "         3.54416879e+01, 9.32353690e+01, 1.39087574e+02, 7.28736217e+01,\n",
       "         3.44465649e+00]]))"
      ]
     },
     "execution_count": 90,
     "metadata": {},
     "output_type": "execute_result"
    }
   ],
   "source": [
    "stats.chi2_contingency(shows_crosstab1)"
   ]
  },
  {
   "cell_type": "code",
   "execution_count": 78,
   "metadata": {},
   "outputs": [],
   "source": [
    "#A1: p-value = 3.64e-07 \n",
    "#Yes,the platform does influence the rating of the shows"
   ]
  },
  {
   "cell_type": "code",
   "execution_count": 92,
   "metadata": {},
   "outputs": [],
   "source": [
    "#Q2: Does the runtime influence rating?\n",
    "shows_crosstab2 = pd.crosstab(df3['runtime'], df3['imdb_score'])"
   ]
  },
  {
   "cell_type": "code",
   "execution_count": 93,
   "metadata": {},
   "outputs": [
    {
     "data": {
      "text/html": [
       "<div>\n",
       "<style scoped>\n",
       "    .dataframe tbody tr th:only-of-type {\n",
       "        vertical-align: middle;\n",
       "    }\n",
       "\n",
       "    .dataframe tbody tr th {\n",
       "        vertical-align: top;\n",
       "    }\n",
       "\n",
       "    .dataframe thead th {\n",
       "        text-align: right;\n",
       "    }\n",
       "</style>\n",
       "<table border=\"1\" class=\"dataframe\">\n",
       "  <thead>\n",
       "    <tr style=\"text-align: right;\">\n",
       "      <th>imdb_score</th>\n",
       "      <th>1</th>\n",
       "      <th>2</th>\n",
       "      <th>3</th>\n",
       "      <th>4</th>\n",
       "      <th>5</th>\n",
       "      <th>6</th>\n",
       "      <th>7</th>\n",
       "      <th>8</th>\n",
       "      <th>9</th>\n",
       "    </tr>\n",
       "    <tr>\n",
       "      <th>runtime</th>\n",
       "      <th></th>\n",
       "      <th></th>\n",
       "      <th></th>\n",
       "      <th></th>\n",
       "      <th></th>\n",
       "      <th></th>\n",
       "      <th></th>\n",
       "      <th></th>\n",
       "      <th></th>\n",
       "    </tr>\n",
       "  </thead>\n",
       "  <tbody>\n",
       "    <tr>\n",
       "      <th>0</th>\n",
       "      <td>0</td>\n",
       "      <td>0</td>\n",
       "      <td>0</td>\n",
       "      <td>0</td>\n",
       "      <td>2</td>\n",
       "      <td>5</td>\n",
       "      <td>3</td>\n",
       "      <td>2</td>\n",
       "      <td>0</td>\n",
       "    </tr>\n",
       "    <tr>\n",
       "      <th>1</th>\n",
       "      <td>1</td>\n",
       "      <td>0</td>\n",
       "      <td>1</td>\n",
       "      <td>0</td>\n",
       "      <td>0</td>\n",
       "      <td>3</td>\n",
       "      <td>2</td>\n",
       "      <td>0</td>\n",
       "      <td>0</td>\n",
       "    </tr>\n",
       "    <tr>\n",
       "      <th>2</th>\n",
       "      <td>0</td>\n",
       "      <td>0</td>\n",
       "      <td>0</td>\n",
       "      <td>0</td>\n",
       "      <td>0</td>\n",
       "      <td>10</td>\n",
       "      <td>4</td>\n",
       "      <td>4</td>\n",
       "      <td>0</td>\n",
       "    </tr>\n",
       "    <tr>\n",
       "      <th>3</th>\n",
       "      <td>0</td>\n",
       "      <td>0</td>\n",
       "      <td>0</td>\n",
       "      <td>0</td>\n",
       "      <td>2</td>\n",
       "      <td>9</td>\n",
       "      <td>3</td>\n",
       "      <td>7</td>\n",
       "      <td>0</td>\n",
       "    </tr>\n",
       "    <tr>\n",
       "      <th>4</th>\n",
       "      <td>0</td>\n",
       "      <td>0</td>\n",
       "      <td>1</td>\n",
       "      <td>0</td>\n",
       "      <td>5</td>\n",
       "      <td>4</td>\n",
       "      <td>4</td>\n",
       "      <td>3</td>\n",
       "      <td>0</td>\n",
       "    </tr>\n",
       "    <tr>\n",
       "      <th>...</th>\n",
       "      <td>...</td>\n",
       "      <td>...</td>\n",
       "      <td>...</td>\n",
       "      <td>...</td>\n",
       "      <td>...</td>\n",
       "      <td>...</td>\n",
       "      <td>...</td>\n",
       "      <td>...</td>\n",
       "      <td>...</td>\n",
       "    </tr>\n",
       "    <tr>\n",
       "      <th>131</th>\n",
       "      <td>0</td>\n",
       "      <td>0</td>\n",
       "      <td>0</td>\n",
       "      <td>0</td>\n",
       "      <td>0</td>\n",
       "      <td>0</td>\n",
       "      <td>0</td>\n",
       "      <td>1</td>\n",
       "      <td>0</td>\n",
       "    </tr>\n",
       "    <tr>\n",
       "      <th>141</th>\n",
       "      <td>0</td>\n",
       "      <td>0</td>\n",
       "      <td>0</td>\n",
       "      <td>0</td>\n",
       "      <td>0</td>\n",
       "      <td>0</td>\n",
       "      <td>1</td>\n",
       "      <td>0</td>\n",
       "      <td>0</td>\n",
       "    </tr>\n",
       "    <tr>\n",
       "      <th>153</th>\n",
       "      <td>0</td>\n",
       "      <td>0</td>\n",
       "      <td>0</td>\n",
       "      <td>0</td>\n",
       "      <td>0</td>\n",
       "      <td>0</td>\n",
       "      <td>1</td>\n",
       "      <td>0</td>\n",
       "      <td>0</td>\n",
       "    </tr>\n",
       "    <tr>\n",
       "      <th>156</th>\n",
       "      <td>0</td>\n",
       "      <td>0</td>\n",
       "      <td>0</td>\n",
       "      <td>0</td>\n",
       "      <td>0</td>\n",
       "      <td>0</td>\n",
       "      <td>0</td>\n",
       "      <td>0</td>\n",
       "      <td>1</td>\n",
       "    </tr>\n",
       "    <tr>\n",
       "      <th>178</th>\n",
       "      <td>0</td>\n",
       "      <td>0</td>\n",
       "      <td>0</td>\n",
       "      <td>0</td>\n",
       "      <td>0</td>\n",
       "      <td>0</td>\n",
       "      <td>1</td>\n",
       "      <td>0</td>\n",
       "      <td>0</td>\n",
       "    </tr>\n",
       "  </tbody>\n",
       "</table>\n",
       "<p>104 rows × 9 columns</p>\n",
       "</div>"
      ],
      "text/plain": [
       "imdb_score  1  2  3  4  5   6  7  8  9\n",
       "runtime                               \n",
       "0           0  0  0  0  2   5  3  2  0\n",
       "1           1  0  1  0  0   3  2  0  0\n",
       "2           0  0  0  0  0  10  4  4  0\n",
       "3           0  0  0  0  2   9  3  7  0\n",
       "4           0  0  1  0  5   4  4  3  0\n",
       "...        .. .. .. .. ..  .. .. .. ..\n",
       "131         0  0  0  0  0   0  0  1  0\n",
       "141         0  0  0  0  0   0  1  0  0\n",
       "153         0  0  0  0  0   0  1  0  0\n",
       "156         0  0  0  0  0   0  0  0  1\n",
       "178         0  0  0  0  0   0  1  0  0\n",
       "\n",
       "[104 rows x 9 columns]"
      ]
     },
     "execution_count": 93,
     "metadata": {},
     "output_type": "execute_result"
    }
   ],
   "source": [
    "shows_crosstab2"
   ]
  },
  {
   "cell_type": "code",
   "execution_count": 94,
   "metadata": {},
   "outputs": [
    {
     "data": {
      "text/plain": [
       "(1517.4133648571403,\n",
       " 1.1107095061829044e-43,\n",
       " 824,\n",
       " array([[7.63358779e-03, 6.10687023e-02, 1.24681934e-01, 3.68956743e-01,\n",
       "         1.17811705e+00, 3.09923664e+00, 4.62340967e+00, 2.42239186e+00,\n",
       "         1.14503817e-01],\n",
       "        [4.45292621e-03, 3.56234097e-02, 7.27311281e-02, 2.15224767e-01,\n",
       "         6.87234945e-01, 1.80788804e+00, 2.69698897e+00, 1.41306192e+00,\n",
       "         6.67938931e-02],\n",
       "        [1.14503817e-02, 9.16030534e-02, 1.87022901e-01, 5.53435115e-01,\n",
       "         1.76717557e+00, 4.64885496e+00, 6.93511450e+00, 3.63358779e+00,\n",
       "         1.71755725e-01],\n",
       "        [1.33587786e-02, 1.06870229e-01, 2.18193384e-01, 6.45674300e-01,\n",
       "         2.06170483e+00, 5.42366412e+00, 8.09096692e+00, 4.23918575e+00,\n",
       "         2.00381679e-01],\n",
       "        [1.08142494e-02, 8.65139949e-02, 1.76632740e-01, 5.22688719e-01,\n",
       "         1.66899915e+00, 4.39058524e+00, 6.54983036e+00, 3.43172180e+00,\n",
       "         1.62213740e-01],\n",
       "        [1.20865140e-02, 9.66921120e-02, 1.97413062e-01, 5.84181510e-01,\n",
       "         1.86535199e+00, 4.90712468e+00, 7.32039864e+00, 3.83545377e+00,\n",
       "         1.81297710e-01],\n",
       "        [1.08142494e-02, 8.65139949e-02, 1.76632740e-01, 5.22688719e-01,\n",
       "         1.66899915e+00, 4.39058524e+00, 6.54983036e+00, 3.43172180e+00,\n",
       "         1.62213740e-01],\n",
       "        [1.33587786e-02, 1.06870229e-01, 2.18193384e-01, 6.45674300e-01,\n",
       "         2.06170483e+00, 5.42366412e+00, 8.09096692e+00, 4.23918575e+00,\n",
       "         2.00381679e-01],\n",
       "        [8.26972010e-03, 6.61577608e-02, 1.35072095e-01, 3.99703138e-01,\n",
       "         1.27629347e+00, 3.35750636e+00, 5.00869381e+00, 2.62425785e+00,\n",
       "         1.24045802e-01],\n",
       "        [1.01781170e-02, 8.14249364e-02, 1.66242578e-01, 4.91942324e-01,\n",
       "         1.57082273e+00, 4.13231552e+00, 6.16454623e+00, 3.22985581e+00,\n",
       "         1.52671756e-01],\n",
       "        [1.46310433e-02, 1.17048346e-01, 2.38973707e-01, 7.07167091e-01,\n",
       "         2.25805768e+00, 5.94020356e+00, 8.86153520e+00, 4.64291773e+00,\n",
       "         2.19465649e-01],\n",
       "        [3.05343511e-02, 2.44274809e-01, 4.98727735e-01, 1.47582697e+00,\n",
       "         4.71246819e+00, 1.23969466e+01, 1.84936387e+01, 9.68956743e+00,\n",
       "         4.58015267e-01],\n",
       "        [2.41730280e-02, 1.93384224e-01, 3.94826124e-01, 1.16836302e+00,\n",
       "         3.73070399e+00, 9.81424936e+00, 1.46407973e+01, 7.67090755e+00,\n",
       "         3.62595420e-01],\n",
       "        [2.60814249e-02, 2.08651399e-01, 4.25996607e-01, 1.26060221e+00,\n",
       "         4.02523325e+00, 1.05890585e+01, 1.57966497e+01, 8.27650551e+00,\n",
       "         3.91221374e-01],\n",
       "        [1.97201018e-02, 1.57760814e-01, 3.22094996e-01, 9.53138253e-01,\n",
       "         3.04346904e+00, 8.00636132e+00, 1.19438083e+01, 6.25784563e+00,\n",
       "         2.95801527e-01],\n",
       "        [1.65394402e-02, 1.32315522e-01, 2.70144190e-01, 7.99406277e-01,\n",
       "         2.55258694e+00, 6.71501272e+00, 1.00173876e+01, 5.24851569e+00,\n",
       "         2.48091603e-01],\n",
       "        [8.26972010e-03, 6.61577608e-02, 1.35072095e-01, 3.99703138e-01,\n",
       "         1.27629347e+00, 3.35750636e+00, 5.00869381e+00, 2.62425785e+00,\n",
       "         1.24045802e-01],\n",
       "        [1.46310433e-02, 1.17048346e-01, 2.38973707e-01, 7.07167091e-01,\n",
       "         2.25805768e+00, 5.94020356e+00, 8.86153520e+00, 4.64291773e+00,\n",
       "         2.19465649e-01],\n",
       "        [1.39949109e-02, 1.11959288e-01, 2.28583545e-01, 6.76420696e-01,\n",
       "         2.15988126e+00, 5.68193384e+00, 8.47625106e+00, 4.44105174e+00,\n",
       "         2.09923664e-01],\n",
       "        [2.22646310e-02, 1.78117048e-01, 3.63655640e-01, 1.07612383e+00,\n",
       "         3.43617472e+00, 9.03944020e+00, 1.34849449e+01, 7.06530958e+00,\n",
       "         3.33969466e-01],\n",
       "        [2.79898219e-02, 2.23918575e-01, 4.57167091e-01, 1.35284139e+00,\n",
       "         4.31976251e+00, 1.13638677e+01, 1.69525021e+01, 8.88210348e+00,\n",
       "         4.19847328e-01],\n",
       "        [8.84223919e-02, 7.07379135e-01, 1.44423240e+00, 4.27374894e+00,\n",
       "         1.36465225e+01, 3.58994911e+01, 5.35544953e+01, 2.80593723e+01,\n",
       "         1.32633588e+00],\n",
       "        [1.59669211e-01, 1.27735369e+00, 2.60793045e+00, 7.71734521e+00,\n",
       "         2.46422816e+01, 6.48256997e+01, 9.67063189e+01, 5.06683630e+01,\n",
       "         2.39503817e+00],\n",
       "        [1.81297710e-01, 1.45038168e+00, 2.96119593e+00, 8.76272265e+00,\n",
       "         2.79802799e+01, 7.36068702e+01, 1.09805980e+02, 5.75318066e+01,\n",
       "         2.71946565e+00],\n",
       "        [2.33460560e-01, 1.86768448e+00, 3.81318914e+00, 1.12839271e+01,\n",
       "         3.60307464e+01, 9.47849873e+01, 1.41399279e+02, 7.40848176e+01,\n",
       "         3.50190840e+00],\n",
       "        [1.27862595e-01, 1.02290076e+00, 2.08842239e+00, 6.18002545e+00,\n",
       "         1.97334606e+01, 5.19122137e+01, 7.74421120e+01, 4.05750636e+01,\n",
       "         1.91793893e+00],\n",
       "        [6.10687023e-02, 4.88549618e-01, 9.97455471e-01, 2.95165394e+00,\n",
       "         9.42493639e+00, 2.47938931e+01, 3.69872774e+01, 1.93791349e+01,\n",
       "         9.16030534e-01],\n",
       "        [6.55216285e-02, 5.24173028e-01, 1.07018660e+00, 3.16687871e+00,\n",
       "         1.01121713e+01, 2.66017812e+01, 3.96842663e+01, 2.07921968e+01,\n",
       "         9.82824427e-01],\n",
       "        [4.64376590e-02, 3.71501272e-01, 7.58481764e-01, 2.24448685e+00,\n",
       "         7.16687871e+00, 1.88536896e+01, 2.81257422e+01, 1.47362171e+01,\n",
       "         6.96564885e-01],\n",
       "        [5.08905852e-02, 4.07124682e-01, 8.31212892e-01, 2.45971162e+00,\n",
       "         7.85411366e+00, 2.06615776e+01, 3.08227311e+01, 1.61492791e+01,\n",
       "         7.63358779e-01],\n",
       "        [5.85241730e-02, 4.68193384e-01, 9.55894826e-01, 2.82866836e+00,\n",
       "         9.03223070e+00, 2.37608142e+01, 3.54461408e+01, 1.85716709e+01,\n",
       "         8.77862595e-01],\n",
       "        [2.09923664e-02, 1.67938931e-01, 3.42875318e-01, 1.01463104e+00,\n",
       "         3.23982188e+00, 8.52290076e+00, 1.27143766e+01, 6.66157761e+00,\n",
       "         3.14885496e-01],\n",
       "        [2.48091603e-02, 1.98473282e-01, 4.05216285e-01, 1.19910941e+00,\n",
       "         3.82888041e+00, 1.00725191e+01, 1.50260814e+01, 7.87277354e+00,\n",
       "         3.72137405e-01],\n",
       "        [2.29007634e-02, 1.83206107e-01, 3.74045802e-01, 1.10687023e+00,\n",
       "         3.53435115e+00, 9.29770992e+00, 1.38702290e+01, 7.26717557e+00,\n",
       "         3.43511450e-01],\n",
       "        [1.90839695e-02, 1.52671756e-01, 3.11704835e-01, 9.22391858e-01,\n",
       "         2.94529262e+00, 7.74809160e+00, 1.15585242e+01, 6.05597964e+00,\n",
       "         2.86259542e-01],\n",
       "        [1.39949109e-02, 1.11959288e-01, 2.28583545e-01, 6.76420696e-01,\n",
       "         2.15988126e+00, 5.68193384e+00, 8.47625106e+00, 4.44105174e+00,\n",
       "         2.09923664e-01],\n",
       "        [1.65394402e-02, 1.32315522e-01, 2.70144190e-01, 7.99406277e-01,\n",
       "         2.55258694e+00, 6.71501272e+00, 1.00173876e+01, 5.24851569e+00,\n",
       "         2.48091603e-01],\n",
       "        [1.46310433e-02, 1.17048346e-01, 2.38973707e-01, 7.07167091e-01,\n",
       "         2.25805768e+00, 5.94020356e+00, 8.86153520e+00, 4.64291773e+00,\n",
       "         2.19465649e-01],\n",
       "        [1.78117048e-02, 1.42493639e-01, 2.90924512e-01, 8.60899067e-01,\n",
       "         2.74893978e+00, 7.23155216e+00, 1.07879559e+01, 5.65224767e+00,\n",
       "         2.67175573e-01],\n",
       "        [1.97201018e-02, 1.57760814e-01, 3.22094996e-01, 9.53138253e-01,\n",
       "         3.04346904e+00, 8.00636132e+00, 1.19438083e+01, 6.25784563e+00,\n",
       "         2.95801527e-01],\n",
       "        [3.11704835e-02, 2.49363868e-01, 5.09117897e-01, 1.50657337e+00,\n",
       "         4.81064461e+00, 1.26552163e+01, 1.88789228e+01, 9.89143342e+00,\n",
       "         4.67557252e-01],\n",
       "        [4.32569975e-02, 3.46055980e-01, 7.06530958e-01, 2.09075488e+00,\n",
       "         6.67599661e+00, 1.75623410e+01, 2.61993215e+01, 1.37268872e+01,\n",
       "         6.48854962e-01],\n",
       "        [9.60559796e-02, 7.68447837e-01, 1.56891433e+00, 4.64270568e+00,\n",
       "         1.48246395e+01, 3.89987277e+01, 5.81779050e+01, 3.04817642e+01,\n",
       "         1.44083969e+00],\n",
       "        [1.45674300e-01, 1.16539440e+00, 2.37934690e+00, 7.04092451e+00,\n",
       "         2.24824003e+01, 5.91437659e+01, 8.82300679e+01, 4.62273113e+01,\n",
       "         2.18511450e+00],\n",
       "        [1.66030534e-01, 1.32824427e+00, 2.71183206e+00, 8.02480916e+00,\n",
       "         2.56240458e+01, 6.74083969e+01, 1.00559160e+02, 5.26870229e+01,\n",
       "         2.49045802e+00],\n",
       "        [1.14503817e-01, 9.16030534e-01, 1.87022901e+00, 5.53435115e+00,\n",
       "         1.76717557e+01, 4.64885496e+01, 6.93511450e+01, 3.63358779e+01,\n",
       "         1.71755725e+00],\n",
       "        [8.52417303e-02, 6.81933842e-01, 1.39228159e+00, 4.12001696e+00,\n",
       "         1.31556404e+01, 3.46081425e+01, 5.16280746e+01, 2.70500424e+01,\n",
       "         1.27862595e+00],\n",
       "        [7.82442748e-02, 6.25954198e-01, 1.27798982e+00, 3.78180662e+00,\n",
       "         1.20756997e+01, 3.17671756e+01, 4.73899491e+01, 2.48295165e+01,\n",
       "         1.17366412e+00],\n",
       "        [6.42493639e-02, 5.13994911e-01, 1.04940628e+00, 3.10538592e+00,\n",
       "         9.91581849e+00, 2.60852417e+01, 3.89136980e+01, 2.03884648e+01,\n",
       "         9.63740458e-01],\n",
       "        [5.97964377e-02, 4.78371501e-01, 9.76675148e-01, 2.89016115e+00,\n",
       "         9.22858355e+00, 2.42773537e+01, 3.62167091e+01, 1.89754029e+01,\n",
       "         8.96946565e-01],\n",
       "        [5.53435115e-02, 4.42748092e-01, 9.03944020e-01, 2.67493639e+00,\n",
       "         8.54134860e+00, 2.24694656e+01, 3.35197201e+01, 1.75623410e+01,\n",
       "         8.30152672e-01],\n",
       "        [4.07124682e-02, 3.25699746e-01, 6.64970314e-01, 1.96776930e+00,\n",
       "         6.28329092e+00, 1.65292621e+01, 2.46581849e+01, 1.29194232e+01,\n",
       "         6.10687023e-01],\n",
       "        [4.32569975e-02, 3.46055980e-01, 7.06530958e-01, 2.09075488e+00,\n",
       "         6.67599661e+00, 1.75623410e+01, 2.61993215e+01, 1.37268872e+01,\n",
       "         6.48854962e-01],\n",
       "        [3.30788804e-02, 2.64631043e-01, 5.40288380e-01, 1.59881255e+00,\n",
       "         5.10517388e+00, 1.34300254e+01, 2.00347752e+01, 1.04970314e+01,\n",
       "         4.96183206e-01],\n",
       "        [3.18066158e-02, 2.54452926e-01, 5.19508058e-01, 1.53731976e+00,\n",
       "         4.90882103e+00, 1.29134860e+01, 1.92642070e+01, 1.00932994e+01,\n",
       "         4.77099237e-01],\n",
       "        [3.37150127e-02, 2.69720102e-01, 5.50678541e-01, 1.62955895e+00,\n",
       "         5.20335030e+00, 1.36882952e+01, 2.04200594e+01, 1.06988974e+01,\n",
       "         5.05725191e-01],\n",
       "        [2.67175573e-02, 2.13740458e-01, 4.36386768e-01, 1.29134860e+00,\n",
       "         4.12340967e+00, 1.08473282e+01, 1.61819338e+01, 8.47837150e+00,\n",
       "         4.00763359e-01],\n",
       "        [2.86259542e-02, 2.29007634e-01, 4.67557252e-01, 1.38358779e+00,\n",
       "         4.41793893e+00, 1.16221374e+01, 1.73377863e+01, 9.08396947e+00,\n",
       "         4.29389313e-01],\n",
       "        [3.49872774e-02, 2.79898219e-01, 5.71458863e-01, 1.69105174e+00,\n",
       "         5.39970314e+00, 1.42048346e+01, 2.11906277e+01, 1.11026293e+01,\n",
       "         5.24809160e-01],\n",
       "        [3.37150127e-02, 2.69720102e-01, 5.50678541e-01, 1.62955895e+00,\n",
       "         5.20335030e+00, 1.36882952e+01, 2.04200594e+01, 1.06988974e+01,\n",
       "         5.05725191e-01],\n",
       "        [2.03562341e-02, 1.62849873e-01, 3.32485157e-01, 9.83884648e-01,\n",
       "         3.14164546e+00, 8.26463104e+00, 1.23290925e+01, 6.45971162e+00,\n",
       "         3.05343511e-01],\n",
       "        [1.78117048e-02, 1.42493639e-01, 2.90924512e-01, 8.60899067e-01,\n",
       "         2.74893978e+00, 7.23155216e+00, 1.07879559e+01, 5.65224767e+00,\n",
       "         2.67175573e-01],\n",
       "        [1.46310433e-02, 1.17048346e-01, 2.38973707e-01, 7.07167091e-01,\n",
       "         2.25805768e+00, 5.94020356e+00, 8.86153520e+00, 4.64291773e+00,\n",
       "         2.19465649e-01],\n",
       "        [1.33587786e-02, 1.06870229e-01, 2.18193384e-01, 6.45674300e-01,\n",
       "         2.06170483e+00, 5.42366412e+00, 8.09096692e+00, 4.23918575e+00,\n",
       "         2.00381679e-01],\n",
       "        [1.46310433e-02, 1.17048346e-01, 2.38973707e-01, 7.07167091e-01,\n",
       "         2.25805768e+00, 5.94020356e+00, 8.86153520e+00, 4.64291773e+00,\n",
       "         2.19465649e-01],\n",
       "        [6.36132316e-03, 5.08905852e-02, 1.03901612e-01, 3.07463953e-01,\n",
       "         9.81764207e-01, 2.58269720e+00, 3.85284139e+00, 2.01865988e+00,\n",
       "         9.54198473e-02],\n",
       "        [6.99745547e-03, 5.59796438e-02, 1.14291773e-01, 3.38210348e-01,\n",
       "         1.07994063e+00, 2.84096692e+00, 4.23812553e+00, 2.22052587e+00,\n",
       "         1.04961832e-01],\n",
       "        [6.36132316e-03, 5.08905852e-02, 1.03901612e-01, 3.07463953e-01,\n",
       "         9.81764207e-01, 2.58269720e+00, 3.85284139e+00, 2.01865988e+00,\n",
       "         9.54198473e-02],\n",
       "        [6.99745547e-03, 5.59796438e-02, 1.14291773e-01, 3.38210348e-01,\n",
       "         1.07994063e+00, 2.84096692e+00, 4.23812553e+00, 2.22052587e+00,\n",
       "         1.04961832e-01],\n",
       "        [8.90585242e-03, 7.12468193e-02, 1.45462256e-01, 4.30449534e-01,\n",
       "         1.37446989e+00, 3.61577608e+00, 5.39397795e+00, 2.82612383e+00,\n",
       "         1.33587786e-01],\n",
       "        [7.63358779e-03, 6.10687023e-02, 1.24681934e-01, 3.68956743e-01,\n",
       "         1.17811705e+00, 3.09923664e+00, 4.62340967e+00, 2.42239186e+00,\n",
       "         1.14503817e-01],\n",
       "        [6.99745547e-03, 5.59796438e-02, 1.14291773e-01, 3.38210348e-01,\n",
       "         1.07994063e+00, 2.84096692e+00, 4.23812553e+00, 2.22052587e+00,\n",
       "         1.04961832e-01],\n",
       "        [1.27226463e-03, 1.01781170e-02, 2.07803223e-02, 6.14927905e-02,\n",
       "         1.96352841e-01, 5.16539440e-01, 7.70568278e-01, 4.03731976e-01,\n",
       "         1.90839695e-02],\n",
       "        [5.72519084e-03, 4.58015267e-02, 9.35114504e-02, 2.76717557e-01,\n",
       "         8.83587786e-01, 2.32442748e+00, 3.46755725e+00, 1.81679389e+00,\n",
       "         8.58778626e-02],\n",
       "        [1.27226463e-03, 1.01781170e-02, 2.07803223e-02, 6.14927905e-02,\n",
       "         1.96352841e-01, 5.16539440e-01, 7.70568278e-01, 4.03731976e-01,\n",
       "         1.90839695e-02],\n",
       "        [5.08905852e-03, 4.07124682e-02, 8.31212892e-02, 2.45971162e-01,\n",
       "         7.85411366e-01, 2.06615776e+00, 3.08227311e+00, 1.61492791e+00,\n",
       "         7.63358779e-02],\n",
       "        [3.81679389e-03, 3.05343511e-02, 6.23409669e-02, 1.84478372e-01,\n",
       "         5.89058524e-01, 1.54961832e+00, 2.31170483e+00, 1.21119593e+00,\n",
       "         5.72519084e-02],\n",
       "        [1.27226463e-03, 1.01781170e-02, 2.07803223e-02, 6.14927905e-02,\n",
       "         1.96352841e-01, 5.16539440e-01, 7.70568278e-01, 4.03731976e-01,\n",
       "         1.90839695e-02],\n",
       "        [2.54452926e-03, 2.03562341e-02, 4.15606446e-02, 1.22985581e-01,\n",
       "         3.92705683e-01, 1.03307888e+00, 1.54113656e+00, 8.07463953e-01,\n",
       "         3.81679389e-02],\n",
       "        [1.90839695e-03, 1.52671756e-02, 3.11704835e-02, 9.22391858e-02,\n",
       "         2.94529262e-01, 7.74809160e-01, 1.15585242e+00, 6.05597964e-01,\n",
       "         2.86259542e-02],\n",
       "        [6.36132316e-03, 5.08905852e-02, 1.03901612e-01, 3.07463953e-01,\n",
       "         9.81764207e-01, 2.58269720e+00, 3.85284139e+00, 2.01865988e+00,\n",
       "         9.54198473e-02],\n",
       "        [1.90839695e-03, 1.52671756e-02, 3.11704835e-02, 9.22391858e-02,\n",
       "         2.94529262e-01, 7.74809160e-01, 1.15585242e+00, 6.05597964e-01,\n",
       "         2.86259542e-02],\n",
       "        [6.36132316e-04, 5.08905852e-03, 1.03901612e-02, 3.07463953e-02,\n",
       "         9.81764207e-02, 2.58269720e-01, 3.85284139e-01, 2.01865988e-01,\n",
       "         9.54198473e-03],\n",
       "        [1.90839695e-03, 1.52671756e-02, 3.11704835e-02, 9.22391858e-02,\n",
       "         2.94529262e-01, 7.74809160e-01, 1.15585242e+00, 6.05597964e-01,\n",
       "         2.86259542e-02],\n",
       "        [4.45292621e-03, 3.56234097e-02, 7.27311281e-02, 2.15224767e-01,\n",
       "         6.87234945e-01, 1.80788804e+00, 2.69698897e+00, 1.41306192e+00,\n",
       "         6.67938931e-02],\n",
       "        [1.27226463e-03, 1.01781170e-02, 2.07803223e-02, 6.14927905e-02,\n",
       "         1.96352841e-01, 5.16539440e-01, 7.70568278e-01, 4.03731976e-01,\n",
       "         1.90839695e-02],\n",
       "        [6.36132316e-04, 5.08905852e-03, 1.03901612e-02, 3.07463953e-02,\n",
       "         9.81764207e-02, 2.58269720e-01, 3.85284139e-01, 2.01865988e-01,\n",
       "         9.54198473e-03],\n",
       "        [1.90839695e-03, 1.52671756e-02, 3.11704835e-02, 9.22391858e-02,\n",
       "         2.94529262e-01, 7.74809160e-01, 1.15585242e+00, 6.05597964e-01,\n",
       "         2.86259542e-02],\n",
       "        [1.90839695e-03, 1.52671756e-02, 3.11704835e-02, 9.22391858e-02,\n",
       "         2.94529262e-01, 7.74809160e-01, 1.15585242e+00, 6.05597964e-01,\n",
       "         2.86259542e-02],\n",
       "        [1.27226463e-03, 1.01781170e-02, 2.07803223e-02, 6.14927905e-02,\n",
       "         1.96352841e-01, 5.16539440e-01, 7.70568278e-01, 4.03731976e-01,\n",
       "         1.90839695e-02],\n",
       "        [6.36132316e-04, 5.08905852e-03, 1.03901612e-02, 3.07463953e-02,\n",
       "         9.81764207e-02, 2.58269720e-01, 3.85284139e-01, 2.01865988e-01,\n",
       "         9.54198473e-03],\n",
       "        [3.18066158e-03, 2.54452926e-02, 5.19508058e-02, 1.53731976e-01,\n",
       "         4.90882103e-01, 1.29134860e+00, 1.92642070e+00, 1.00932994e+00,\n",
       "         4.77099237e-02],\n",
       "        [1.27226463e-03, 1.01781170e-02, 2.07803223e-02, 6.14927905e-02,\n",
       "         1.96352841e-01, 5.16539440e-01, 7.70568278e-01, 4.03731976e-01,\n",
       "         1.90839695e-02],\n",
       "        [6.36132316e-04, 5.08905852e-03, 1.03901612e-02, 3.07463953e-02,\n",
       "         9.81764207e-02, 2.58269720e-01, 3.85284139e-01, 2.01865988e-01,\n",
       "         9.54198473e-03],\n",
       "        [6.36132316e-04, 5.08905852e-03, 1.03901612e-02, 3.07463953e-02,\n",
       "         9.81764207e-02, 2.58269720e-01, 3.85284139e-01, 2.01865988e-01,\n",
       "         9.54198473e-03],\n",
       "        [6.36132316e-04, 5.08905852e-03, 1.03901612e-02, 3.07463953e-02,\n",
       "         9.81764207e-02, 2.58269720e-01, 3.85284139e-01, 2.01865988e-01,\n",
       "         9.54198473e-03],\n",
       "        [6.36132316e-04, 5.08905852e-03, 1.03901612e-02, 3.07463953e-02,\n",
       "         9.81764207e-02, 2.58269720e-01, 3.85284139e-01, 2.01865988e-01,\n",
       "         9.54198473e-03],\n",
       "        [1.27226463e-03, 1.01781170e-02, 2.07803223e-02, 6.14927905e-02,\n",
       "         1.96352841e-01, 5.16539440e-01, 7.70568278e-01, 4.03731976e-01,\n",
       "         1.90839695e-02],\n",
       "        [6.36132316e-04, 5.08905852e-03, 1.03901612e-02, 3.07463953e-02,\n",
       "         9.81764207e-02, 2.58269720e-01, 3.85284139e-01, 2.01865988e-01,\n",
       "         9.54198473e-03],\n",
       "        [6.36132316e-04, 5.08905852e-03, 1.03901612e-02, 3.07463953e-02,\n",
       "         9.81764207e-02, 2.58269720e-01, 3.85284139e-01, 2.01865988e-01,\n",
       "         9.54198473e-03],\n",
       "        [6.36132316e-04, 5.08905852e-03, 1.03901612e-02, 3.07463953e-02,\n",
       "         9.81764207e-02, 2.58269720e-01, 3.85284139e-01, 2.01865988e-01,\n",
       "         9.54198473e-03],\n",
       "        [6.36132316e-04, 5.08905852e-03, 1.03901612e-02, 3.07463953e-02,\n",
       "         9.81764207e-02, 2.58269720e-01, 3.85284139e-01, 2.01865988e-01,\n",
       "         9.54198473e-03],\n",
       "        [6.36132316e-04, 5.08905852e-03, 1.03901612e-02, 3.07463953e-02,\n",
       "         9.81764207e-02, 2.58269720e-01, 3.85284139e-01, 2.01865988e-01,\n",
       "         9.54198473e-03],\n",
       "        [6.36132316e-04, 5.08905852e-03, 1.03901612e-02, 3.07463953e-02,\n",
       "         9.81764207e-02, 2.58269720e-01, 3.85284139e-01, 2.01865988e-01,\n",
       "         9.54198473e-03]]))"
      ]
     },
     "execution_count": 94,
     "metadata": {},
     "output_type": "execute_result"
    }
   ],
   "source": [
    "stats.chi2_contingency(shows_crosstab2)"
   ]
  },
  {
   "cell_type": "code",
   "execution_count": null,
   "metadata": {},
   "outputs": [],
   "source": [
    "#A2 p-vlaue= 1.1107095061829044e-43, Yes, the runtime does influence the rating of the shows."
   ]
  },
  {
   "cell_type": "code",
   "execution_count": 95,
   "metadata": {},
   "outputs": [],
   "source": [
    "#Q3 Does the genre influence the rating of the show?\n",
    "shows_crosstab3 = pd.crosstab(df3['genreR'], df3['imdb_score'])"
   ]
  },
  {
   "cell_type": "code",
   "execution_count": 96,
   "metadata": {},
   "outputs": [
    {
     "data": {
      "text/html": [
       "<div>\n",
       "<style scoped>\n",
       "    .dataframe tbody tr th:only-of-type {\n",
       "        vertical-align: middle;\n",
       "    }\n",
       "\n",
       "    .dataframe tbody tr th {\n",
       "        vertical-align: top;\n",
       "    }\n",
       "\n",
       "    .dataframe thead th {\n",
       "        text-align: right;\n",
       "    }\n",
       "</style>\n",
       "<table border=\"1\" class=\"dataframe\">\n",
       "  <thead>\n",
       "    <tr style=\"text-align: right;\">\n",
       "      <th>imdb_score</th>\n",
       "      <th>1</th>\n",
       "      <th>2</th>\n",
       "      <th>3</th>\n",
       "      <th>4</th>\n",
       "      <th>5</th>\n",
       "      <th>6</th>\n",
       "      <th>7</th>\n",
       "      <th>8</th>\n",
       "      <th>9</th>\n",
       "    </tr>\n",
       "    <tr>\n",
       "      <th>genreR</th>\n",
       "      <th></th>\n",
       "      <th></th>\n",
       "      <th></th>\n",
       "      <th></th>\n",
       "      <th></th>\n",
       "      <th></th>\n",
       "      <th></th>\n",
       "      <th></th>\n",
       "      <th></th>\n",
       "    </tr>\n",
       "  </thead>\n",
       "  <tbody>\n",
       "    <tr>\n",
       "      <th>1</th>\n",
       "      <td>0</td>\n",
       "      <td>0</td>\n",
       "      <td>0</td>\n",
       "      <td>0</td>\n",
       "      <td>1</td>\n",
       "      <td>2</td>\n",
       "      <td>7</td>\n",
       "      <td>2</td>\n",
       "      <td>0</td>\n",
       "    </tr>\n",
       "    <tr>\n",
       "      <th>2</th>\n",
       "      <td>1</td>\n",
       "      <td>2</td>\n",
       "      <td>6</td>\n",
       "      <td>17</td>\n",
       "      <td>77</td>\n",
       "      <td>170</td>\n",
       "      <td>148</td>\n",
       "      <td>73</td>\n",
       "      <td>4</td>\n",
       "    </tr>\n",
       "    <tr>\n",
       "      <th>3</th>\n",
       "      <td>0</td>\n",
       "      <td>0</td>\n",
       "      <td>2</td>\n",
       "      <td>9</td>\n",
       "      <td>44</td>\n",
       "      <td>107</td>\n",
       "      <td>129</td>\n",
       "      <td>69</td>\n",
       "      <td>3</td>\n",
       "    </tr>\n",
       "    <tr>\n",
       "      <th>4</th>\n",
       "      <td>0</td>\n",
       "      <td>4</td>\n",
       "      <td>15</td>\n",
       "      <td>29</td>\n",
       "      <td>83</td>\n",
       "      <td>233</td>\n",
       "      <td>309</td>\n",
       "      <td>176</td>\n",
       "      <td>2</td>\n",
       "    </tr>\n",
       "    <tr>\n",
       "      <th>5</th>\n",
       "      <td>0</td>\n",
       "      <td>0</td>\n",
       "      <td>2</td>\n",
       "      <td>10</td>\n",
       "      <td>35</td>\n",
       "      <td>141</td>\n",
       "      <td>207</td>\n",
       "      <td>108</td>\n",
       "      <td>7</td>\n",
       "    </tr>\n",
       "    <tr>\n",
       "      <th>6</th>\n",
       "      <td>0</td>\n",
       "      <td>11</td>\n",
       "      <td>15</td>\n",
       "      <td>48</td>\n",
       "      <td>82</td>\n",
       "      <td>105</td>\n",
       "      <td>113</td>\n",
       "      <td>60</td>\n",
       "      <td>5</td>\n",
       "    </tr>\n",
       "    <tr>\n",
       "      <th>7</th>\n",
       "      <td>1</td>\n",
       "      <td>3</td>\n",
       "      <td>3</td>\n",
       "      <td>11</td>\n",
       "      <td>70</td>\n",
       "      <td>231</td>\n",
       "      <td>472</td>\n",
       "      <td>226</td>\n",
       "      <td>8</td>\n",
       "    </tr>\n",
       "    <tr>\n",
       "      <th>8</th>\n",
       "      <td>0</td>\n",
       "      <td>1</td>\n",
       "      <td>2</td>\n",
       "      <td>11</td>\n",
       "      <td>26</td>\n",
       "      <td>112</td>\n",
       "      <td>228</td>\n",
       "      <td>136</td>\n",
       "      <td>13</td>\n",
       "    </tr>\n",
       "    <tr>\n",
       "      <th>9</th>\n",
       "      <td>0</td>\n",
       "      <td>0</td>\n",
       "      <td>1</td>\n",
       "      <td>1</td>\n",
       "      <td>3</td>\n",
       "      <td>5</td>\n",
       "      <td>2</td>\n",
       "      <td>1</td>\n",
       "      <td>0</td>\n",
       "    </tr>\n",
       "    <tr>\n",
       "      <th>10</th>\n",
       "      <td>0</td>\n",
       "      <td>0</td>\n",
       "      <td>0</td>\n",
       "      <td>0</td>\n",
       "      <td>0</td>\n",
       "      <td>3</td>\n",
       "      <td>6</td>\n",
       "      <td>5</td>\n",
       "      <td>0</td>\n",
       "    </tr>\n",
       "    <tr>\n",
       "      <th>11</th>\n",
       "      <td>1</td>\n",
       "      <td>0</td>\n",
       "      <td>2</td>\n",
       "      <td>1</td>\n",
       "      <td>2</td>\n",
       "      <td>7</td>\n",
       "      <td>11</td>\n",
       "      <td>6</td>\n",
       "      <td>0</td>\n",
       "    </tr>\n",
       "    <tr>\n",
       "      <th>12</th>\n",
       "      <td>0</td>\n",
       "      <td>0</td>\n",
       "      <td>0</td>\n",
       "      <td>1</td>\n",
       "      <td>10</td>\n",
       "      <td>26</td>\n",
       "      <td>38</td>\n",
       "      <td>10</td>\n",
       "      <td>0</td>\n",
       "    </tr>\n",
       "    <tr>\n",
       "      <th>13</th>\n",
       "      <td>0</td>\n",
       "      <td>0</td>\n",
       "      <td>0</td>\n",
       "      <td>2</td>\n",
       "      <td>5</td>\n",
       "      <td>2</td>\n",
       "      <td>8</td>\n",
       "      <td>8</td>\n",
       "      <td>0</td>\n",
       "    </tr>\n",
       "    <tr>\n",
       "      <th>14</th>\n",
       "      <td>0</td>\n",
       "      <td>0</td>\n",
       "      <td>0</td>\n",
       "      <td>1</td>\n",
       "      <td>13</td>\n",
       "      <td>49</td>\n",
       "      <td>90</td>\n",
       "      <td>48</td>\n",
       "      <td>0</td>\n",
       "    </tr>\n",
       "    <tr>\n",
       "      <th>15</th>\n",
       "      <td>0</td>\n",
       "      <td>1</td>\n",
       "      <td>0</td>\n",
       "      <td>1</td>\n",
       "      <td>3</td>\n",
       "      <td>5</td>\n",
       "      <td>2</td>\n",
       "      <td>0</td>\n",
       "      <td>0</td>\n",
       "    </tr>\n",
       "    <tr>\n",
       "      <th>16</th>\n",
       "      <td>0</td>\n",
       "      <td>0</td>\n",
       "      <td>0</td>\n",
       "      <td>0</td>\n",
       "      <td>0</td>\n",
       "      <td>4</td>\n",
       "      <td>5</td>\n",
       "      <td>4</td>\n",
       "      <td>0</td>\n",
       "    </tr>\n",
       "    <tr>\n",
       "      <th>17</th>\n",
       "      <td>0</td>\n",
       "      <td>0</td>\n",
       "      <td>0</td>\n",
       "      <td>0</td>\n",
       "      <td>0</td>\n",
       "      <td>6</td>\n",
       "      <td>27</td>\n",
       "      <td>16</td>\n",
       "      <td>1</td>\n",
       "    </tr>\n",
       "    <tr>\n",
       "      <th>18</th>\n",
       "      <td>0</td>\n",
       "      <td>2</td>\n",
       "      <td>1</td>\n",
       "      <td>3</td>\n",
       "      <td>8</td>\n",
       "      <td>8</td>\n",
       "      <td>9</td>\n",
       "      <td>3</td>\n",
       "      <td>1</td>\n",
       "    </tr>\n",
       "    <tr>\n",
       "      <th>19</th>\n",
       "      <td>0</td>\n",
       "      <td>0</td>\n",
       "      <td>0</td>\n",
       "      <td>0</td>\n",
       "      <td>1</td>\n",
       "      <td>2</td>\n",
       "      <td>6</td>\n",
       "      <td>1</td>\n",
       "      <td>1</td>\n",
       "    </tr>\n",
       "  </tbody>\n",
       "</table>\n",
       "</div>"
      ],
      "text/plain": [
       "imdb_score  1   2   3   4   5    6    7    8   9\n",
       "genreR                                          \n",
       "1           0   0   0   0   1    2    7    2   0\n",
       "2           1   2   6  17  77  170  148   73   4\n",
       "3           0   0   2   9  44  107  129   69   3\n",
       "4           0   4  15  29  83  233  309  176   2\n",
       "5           0   0   2  10  35  141  207  108   7\n",
       "6           0  11  15  48  82  105  113   60   5\n",
       "7           1   3   3  11  70  231  472  226   8\n",
       "8           0   1   2  11  26  112  228  136  13\n",
       "9           0   0   1   1   3    5    2    1   0\n",
       "10          0   0   0   0   0    3    6    5   0\n",
       "11          1   0   2   1   2    7   11    6   0\n",
       "12          0   0   0   1  10   26   38   10   0\n",
       "13          0   0   0   2   5    2    8    8   0\n",
       "14          0   0   0   1  13   49   90   48   0\n",
       "15          0   1   0   1   3    5    2    0   0\n",
       "16          0   0   0   0   0    4    5    4   0\n",
       "17          0   0   0   0   0    6   27   16   1\n",
       "18          0   2   1   3   8    8    9    3   1\n",
       "19          0   0   0   0   1    2    6    1   1"
      ]
     },
     "execution_count": 96,
     "metadata": {},
     "output_type": "execute_result"
    }
   ],
   "source": [
    "shows_crosstab3"
   ]
  },
  {
   "cell_type": "code",
   "execution_count": 97,
   "metadata": {},
   "outputs": [
    {
     "data": {
      "text/plain": [
       "(592.5886939948739,\n",
       " 1.0047744910015135e-55,\n",
       " 144,\n",
       " array([[7.63358779e-03, 6.10687023e-02, 1.24681934e-01, 3.68956743e-01,\n",
       "         1.17811705e+00, 3.09923664e+00, 4.62340967e+00, 2.42239186e+00,\n",
       "         1.14503817e-01],\n",
       "        [3.16793893e-01, 2.53435115e+00, 5.17430025e+00, 1.53117048e+01,\n",
       "         4.88918575e+01, 1.28618321e+02, 1.91871501e+02, 1.00529262e+02,\n",
       "         4.75190840e+00],\n",
       "        [2.30916031e-01, 1.84732824e+00, 3.77162850e+00, 1.11609415e+01,\n",
       "         3.56380407e+01, 9.37519084e+01, 1.39858142e+02, 7.32773537e+01,\n",
       "         3.46374046e+00],\n",
       "        [5.41348601e-01, 4.33078880e+00, 8.84202714e+00, 2.61651824e+01,\n",
       "         8.35481340e+01, 2.19787532e+02, 3.27876802e+02, 1.71787956e+02,\n",
       "         8.12022901e+00],\n",
       "        [3.24427481e-01, 2.59541985e+00, 5.29898219e+00, 1.56806616e+01,\n",
       "         5.00699746e+01, 1.31717557e+02, 1.96494911e+02, 1.02951654e+02,\n",
       "         4.86641221e+00],\n",
       "        [2.79262087e-01, 2.23409669e+00, 4.56128075e+00, 1.34976675e+01,\n",
       "         4.30994487e+01, 1.13380407e+02, 1.69139737e+02, 8.86191688e+01,\n",
       "         4.18893130e+00],\n",
       "        [6.52035623e-01, 5.21628499e+00, 1.06499152e+01, 3.15150551e+01,\n",
       "         1.00630831e+02, 2.64726463e+02, 3.94916243e+02, 2.06912638e+02,\n",
       "         9.78053435e+00],\n",
       "        [3.36513995e-01, 2.69211196e+00, 5.49639525e+00, 1.62648431e+01,\n",
       "         5.19353265e+01, 1.36624682e+02, 2.03815310e+02, 1.06787108e+02,\n",
       "         5.04770992e+00],\n",
       "        [8.26972010e-03, 6.61577608e-02, 1.35072095e-01, 3.99703138e-01,\n",
       "         1.27629347e+00, 3.35750636e+00, 5.00869381e+00, 2.62425785e+00,\n",
       "         1.24045802e-01],\n",
       "        [8.90585242e-03, 7.12468193e-02, 1.45462256e-01, 4.30449534e-01,\n",
       "         1.37446989e+00, 3.61577608e+00, 5.39397795e+00, 2.82612383e+00,\n",
       "         1.33587786e-01],\n",
       "        [1.90839695e-02, 1.52671756e-01, 3.11704835e-01, 9.22391858e-01,\n",
       "         2.94529262e+00, 7.74809160e+00, 1.15585242e+01, 6.05597964e+00,\n",
       "         2.86259542e-01],\n",
       "        [5.40712468e-02, 4.32569975e-01, 8.83163698e-01, 2.61344360e+00,\n",
       "         8.34499576e+00, 2.19529262e+01, 3.27491518e+01, 1.71586090e+01,\n",
       "         8.11068702e-01],\n",
       "        [1.59033079e-02, 1.27226463e-01, 2.59754029e-01, 7.68659881e-01,\n",
       "         2.45441052e+00, 6.45674300e+00, 9.63210348e+00, 5.04664970e+00,\n",
       "         2.38549618e-01],\n",
       "        [1.27862595e-01, 1.02290076e+00, 2.08842239e+00, 6.18002545e+00,\n",
       "         1.97334606e+01, 5.19122137e+01, 7.74421120e+01, 4.05750636e+01,\n",
       "         1.91793893e+00],\n",
       "        [7.63358779e-03, 6.10687023e-02, 1.24681934e-01, 3.68956743e-01,\n",
       "         1.17811705e+00, 3.09923664e+00, 4.62340967e+00, 2.42239186e+00,\n",
       "         1.14503817e-01],\n",
       "        [8.26972010e-03, 6.61577608e-02, 1.35072095e-01, 3.99703138e-01,\n",
       "         1.27629347e+00, 3.35750636e+00, 5.00869381e+00, 2.62425785e+00,\n",
       "         1.24045802e-01],\n",
       "        [3.18066158e-02, 2.54452926e-01, 5.19508058e-01, 1.53731976e+00,\n",
       "         4.90882103e+00, 1.29134860e+01, 1.92642070e+01, 1.00932994e+01,\n",
       "         4.77099237e-01],\n",
       "        [2.22646310e-02, 1.78117048e-01, 3.63655640e-01, 1.07612383e+00,\n",
       "         3.43617472e+00, 9.03944020e+00, 1.34849449e+01, 7.06530958e+00,\n",
       "         3.33969466e-01],\n",
       "        [6.99745547e-03, 5.59796438e-02, 1.14291773e-01, 3.38210348e-01,\n",
       "         1.07994063e+00, 2.84096692e+00, 4.23812553e+00, 2.22052587e+00,\n",
       "         1.04961832e-01]]))"
      ]
     },
     "execution_count": 97,
     "metadata": {},
     "output_type": "execute_result"
    }
   ],
   "source": [
    "stats.chi2_contingency(shows_crosstab3)"
   ]
  },
  {
   "cell_type": "code",
   "execution_count": 98,
   "metadata": {},
   "outputs": [],
   "source": [
    "#A3: p-value =  1.00e-55, Yes, the genre does influence the rating."
   ]
  },
  {
   "cell_type": "code",
   "execution_count": 99,
   "metadata": {},
   "outputs": [],
   "source": [
    "#Supervised machine learning\n",
    "from sklearn.linear_model import LinearRegression\n",
    "from sklearn.model_selection import train_test_split\n",
    "import matplotlib as plt\n",
    "%matplotlib inline\n",
    "from sklearn import metrics\n",
    "import numpy as np\n",
    "import matplotlib.pyplot as plt"
   ]
  },
  {
   "cell_type": "code",
   "execution_count": 106,
   "metadata": {},
   "outputs": [],
   "source": [
    "#determining the x and y variables\n",
    "x = df3[['platformR','genreR','runtime']]\n",
    "y = df3['imdb_score']\n",
    " #first go at ML with [platformR, genreR, runtime] with y [rating_df1] with accuracy Score: 0.022616662541346533\n",
    "    #second go at ML [platformR, genreR, runtime] with y [imdb_score] with accuracy score 0.009006880584976562"
   ]
  },
  {
   "cell_type": "code",
   "execution_count": 107,
   "metadata": {},
   "outputs": [
    {
     "name": "stdout",
     "output_type": "stream",
     "text": [
      "(2829, 3) (2829,)\n",
      "(1887, 3) (1887,)\n"
     ]
    }
   ],
   "source": [
    "#Train Test Split for Goal 2. This is a 60/40 split.\n",
    "x_train, x_test, y_train, y_test = train_test_split(x,y, test_size = .4, random_state=101)\n",
    "print(x_train.shape, y_train.shape)\n",
    "print(x_test.shape, y_test.shape)"
   ]
  },
  {
   "cell_type": "code",
   "execution_count": 108,
   "metadata": {},
   "outputs": [
    {
     "data": {
      "text/html": [
       "<style>#sk-container-id-4 {color: black;background-color: white;}#sk-container-id-4 pre{padding: 0;}#sk-container-id-4 div.sk-toggleable {background-color: white;}#sk-container-id-4 label.sk-toggleable__label {cursor: pointer;display: block;width: 100%;margin-bottom: 0;padding: 0.3em;box-sizing: border-box;text-align: center;}#sk-container-id-4 label.sk-toggleable__label-arrow:before {content: \"▸\";float: left;margin-right: 0.25em;color: #696969;}#sk-container-id-4 label.sk-toggleable__label-arrow:hover:before {color: black;}#sk-container-id-4 div.sk-estimator:hover label.sk-toggleable__label-arrow:before {color: black;}#sk-container-id-4 div.sk-toggleable__content {max-height: 0;max-width: 0;overflow: hidden;text-align: left;background-color: #f0f8ff;}#sk-container-id-4 div.sk-toggleable__content pre {margin: 0.2em;color: black;border-radius: 0.25em;background-color: #f0f8ff;}#sk-container-id-4 input.sk-toggleable__control:checked~div.sk-toggleable__content {max-height: 200px;max-width: 100%;overflow: auto;}#sk-container-id-4 input.sk-toggleable__control:checked~label.sk-toggleable__label-arrow:before {content: \"▾\";}#sk-container-id-4 div.sk-estimator input.sk-toggleable__control:checked~label.sk-toggleable__label {background-color: #d4ebff;}#sk-container-id-4 div.sk-label input.sk-toggleable__control:checked~label.sk-toggleable__label {background-color: #d4ebff;}#sk-container-id-4 input.sk-hidden--visually {border: 0;clip: rect(1px 1px 1px 1px);clip: rect(1px, 1px, 1px, 1px);height: 1px;margin: -1px;overflow: hidden;padding: 0;position: absolute;width: 1px;}#sk-container-id-4 div.sk-estimator {font-family: monospace;background-color: #f0f8ff;border: 1px dotted black;border-radius: 0.25em;box-sizing: border-box;margin-bottom: 0.5em;}#sk-container-id-4 div.sk-estimator:hover {background-color: #d4ebff;}#sk-container-id-4 div.sk-parallel-item::after {content: \"\";width: 100%;border-bottom: 1px solid gray;flex-grow: 1;}#sk-container-id-4 div.sk-label:hover label.sk-toggleable__label {background-color: #d4ebff;}#sk-container-id-4 div.sk-serial::before {content: \"\";position: absolute;border-left: 1px solid gray;box-sizing: border-box;top: 0;bottom: 0;left: 50%;z-index: 0;}#sk-container-id-4 div.sk-serial {display: flex;flex-direction: column;align-items: center;background-color: white;padding-right: 0.2em;padding-left: 0.2em;position: relative;}#sk-container-id-4 div.sk-item {position: relative;z-index: 1;}#sk-container-id-4 div.sk-parallel {display: flex;align-items: stretch;justify-content: center;background-color: white;position: relative;}#sk-container-id-4 div.sk-item::before, #sk-container-id-4 div.sk-parallel-item::before {content: \"\";position: absolute;border-left: 1px solid gray;box-sizing: border-box;top: 0;bottom: 0;left: 50%;z-index: -1;}#sk-container-id-4 div.sk-parallel-item {display: flex;flex-direction: column;z-index: 1;position: relative;background-color: white;}#sk-container-id-4 div.sk-parallel-item:first-child::after {align-self: flex-end;width: 50%;}#sk-container-id-4 div.sk-parallel-item:last-child::after {align-self: flex-start;width: 50%;}#sk-container-id-4 div.sk-parallel-item:only-child::after {width: 0;}#sk-container-id-4 div.sk-dashed-wrapped {border: 1px dashed gray;margin: 0 0.4em 0.5em 0.4em;box-sizing: border-box;padding-bottom: 0.4em;background-color: white;}#sk-container-id-4 div.sk-label label {font-family: monospace;font-weight: bold;display: inline-block;line-height: 1.2em;}#sk-container-id-4 div.sk-label-container {text-align: center;}#sk-container-id-4 div.sk-container {/* jupyter's `normalize.less` sets `[hidden] { display: none; }` but bootstrap.min.css set `[hidden] { display: none !important; }` so we also need the `!important` here to be able to override the default hidden behavior on the sphinx rendered scikit-learn.org. See: https://github.com/scikit-learn/scikit-learn/issues/21755 */display: inline-block !important;position: relative;}#sk-container-id-4 div.sk-text-repr-fallback {display: none;}</style><div id=\"sk-container-id-4\" class=\"sk-top-container\"><div class=\"sk-text-repr-fallback\"><pre>LinearRegression()</pre><b>In a Jupyter environment, please rerun this cell to show the HTML representation or trust the notebook. <br />On GitHub, the HTML representation is unable to render, please try loading this page with nbviewer.org.</b></div><div class=\"sk-container\" hidden><div class=\"sk-item\"><div class=\"sk-estimator sk-toggleable\"><input class=\"sk-toggleable__control sk-hidden--visually\" id=\"sk-estimator-id-4\" type=\"checkbox\" checked><label for=\"sk-estimator-id-4\" class=\"sk-toggleable__label sk-toggleable__label-arrow\">LinearRegression</label><div class=\"sk-toggleable__content\"><pre>LinearRegression()</pre></div></div></div></div></div>"
      ],
      "text/plain": [
       "LinearRegression()"
      ]
     },
     "execution_count": 108,
     "metadata": {},
     "output_type": "execute_result"
    }
   ],
   "source": [
    "#create linear regression model \n",
    "lm = LinearRegression()\n",
    "lm.fit(x_train,y_train)"
   ]
  },
  {
   "cell_type": "code",
   "execution_count": 109,
   "metadata": {},
   "outputs": [
    {
     "data": {
      "text/plain": [
       "array([6.41772778, 6.71482915, 6.71122795, ..., 6.75166403, 6.67240783,\n",
       "       6.88172265])"
      ]
     },
     "execution_count": 109,
     "metadata": {},
     "output_type": "execute_result"
    }
   ],
   "source": [
    "#Interpreting Supervised Machine Learning Accuracy\n",
    "predictions = lm.predict(x_test)\n",
    "predictions"
   ]
  },
  {
   "cell_type": "code",
   "execution_count": 110,
   "metadata": {},
   "outputs": [
    {
     "data": {
      "text/plain": [
       "<matplotlib.collections.PathCollection at 0x1e169806320>"
      ]
     },
     "execution_count": 110,
     "metadata": {},
     "output_type": "execute_result"
    },
    {
     "data": {
      "image/png": "[encoded data removed]",
      "text/plain": [
       "<Figure size 432x288 with 1 Axes>"
      ]
     },
     "metadata": {
      "needs_background": "light"
     },
     "output_type": "display_data"
    }
   ],
   "source": [
    "#Creating a scatter plot to view predictions\n",
    "plt.scatter(y_test, predictions)"
   ]
  },
  {
   "cell_type": "code",
   "execution_count": 111,
   "metadata": {},
   "outputs": [
    {
     "name": "stdout",
     "output_type": "stream",
     "text": [
      "Score: 0.009006880584976562\n"
     ]
    }
   ],
   "source": [
    "#Accuracy Score for if the rating can be predicted by genre, platform or runtime\n",
    "print(\"Score:\", lm.score(x_test, y_test))"
   ]
  },
  {
   "cell_type": "code",
   "execution_count": 112,
   "metadata": {},
   "outputs": [
    {
     "data": {
      "text/plain": [
       "0.8941003580560991"
      ]
     },
     "execution_count": 112,
     "metadata": {},
     "output_type": "execute_result"
    }
   ],
   "source": [
    "metrics.mean_absolute_error(y_test, predictions)"
   ]
  },
  {
   "cell_type": "code",
   "execution_count": 113,
   "metadata": {},
   "outputs": [
    {
     "data": {
      "text/plain": [
       "1.312963764791966"
      ]
     },
     "execution_count": 113,
     "metadata": {},
     "output_type": "execute_result"
    }
   ],
   "source": [
    "metrics.mean_squared_error(y_test, predictions)"
   ]
  },
  {
   "cell_type": "code",
   "execution_count": 114,
   "metadata": {},
   "outputs": [
    {
     "data": {
      "text/plain": [
       "1.1458463094115048"
      ]
     },
     "execution_count": 114,
     "metadata": {},
     "output_type": "execute_result"
    }
   ],
   "source": [
    "np.sqrt(metrics.mean_squared_error(y_test, predictions))"
   ]
  },
  {
   "cell_type": "code",
   "execution_count": 115,
   "metadata": {},
   "outputs": [],
   "source": [
    "#cross validation"
   ]
  },
  {
   "cell_type": "code",
   "execution_count": 116,
   "metadata": {},
   "outputs": [],
   "source": [
    "from sklearn.model_selection import KFold\n",
    "from sklearn.model_selection import cross_val_score"
   ]
  },
  {
   "cell_type": "code",
   "execution_count": 117,
   "metadata": {},
   "outputs": [],
   "source": [
    "#the goal is to accurately predict imdb score"
   ]
  },
  {
   "cell_type": "code",
   "execution_count": 118,
   "metadata": {},
   "outputs": [
    {
     "name": "stdout",
     "output_type": "stream",
     "text": [
      "train: [   0    2    5 ... 4709 4710 4711], test: [   1    3    4 ... 4713 4714 4715]\n",
      "train: [   0    1    2 ... 4713 4714 4715], test: [   8   10   11 ... 4706 4708 4709]\n",
      "train: [   1    3    4 ... 4713 4714 4715], test: [   0    2    5 ... 4707 4710 4711]\n"
     ]
    }
   ],
   "source": [
    "kfold = KFold(n_splits= 3, shuffle=True, random_state=1)\n",
    "for train, test in kfold.split(x,y):\n",
    "    print('train: %s, test: %s' % (train,test))"
   ]
  },
  {
   "cell_type": "code",
   "execution_count": 119,
   "metadata": {},
   "outputs": [
    {
     "name": "stdout",
     "output_type": "stream",
     "text": [
      "[-0.04069958  0.03890726 -0.02123699]\n"
     ]
    }
   ],
   "source": [
    "print(cross_val_score(lm, x,y, cv=3))"
   ]
  },
  {
   "cell_type": "code",
   "execution_count": null,
   "metadata": {},
   "outputs": [],
   "source": [
    "#Even though the chi-squares indicate that the is a significant relationship. The models cannot accurately predict the rating of the show. "
   ]
  }
 ],
 "metadata": {
  "deepnote": {},
  "deepnote_execution_queue": [],
  "deepnote_notebook_id": "c24b46eea378431aa6974c64f1118503",
  "kernelspec": {
   "display_name": "Python 3 (ipykernel)",
   "language": "python",
   "name": "python3"
  },
  "language_info": {
   "codemirror_mode": {
    "name": "ipython",
    "version": 3
   },
   "file_extension": ".py",
   "mimetype": "text/x-python",
   "name": "python",
   "nbconvert_exporter": "python",
   "pygments_lexer": "ipython3",
   "version": "3.10.5"
  }
 },
 "nbformat": 4,
 "nbformat_minor": 4
}
