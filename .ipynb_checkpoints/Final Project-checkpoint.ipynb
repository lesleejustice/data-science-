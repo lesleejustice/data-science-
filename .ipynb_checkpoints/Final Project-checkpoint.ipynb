{
 "cells": [
  {
   "cell_type": "code",
   "execution_count": 3,
   "id": "824d31d9",
   "metadata": {},
   "outputs": [],
   "source": [
    "import pandas as pd"
   ]
  },
  {
   "cell_type": "code",
   "execution_count": 4,
   "id": "18365648",
   "metadata": {},
   "outputs": [],
   "source": [
    "BestMovies = pd.read_csv(\"C:/Users/ssnip/OneDrive/Data Science/Final Project/Best Movies Netflix.csv\")"
   ]
  },
  {
   "cell_type": "code",
   "execution_count": 5,
   "id": "8c6b0ca0",
   "metadata": {},
   "outputs": [
    {
     "data": {
      "text/html": [
       "<div>\n",
       "<style scoped>\n",
       "    .dataframe tbody tr th:only-of-type {\n",
       "        vertical-align: middle;\n",
       "    }\n",
       "\n",
       "    .dataframe tbody tr th {\n",
       "        vertical-align: top;\n",
       "    }\n",
       "\n",
       "    .dataframe thead th {\n",
       "        text-align: right;\n",
       "    }\n",
       "</style>\n",
       "<table border=\"1\" class=\"dataframe\">\n",
       "  <thead>\n",
       "    <tr style=\"text-align: right;\">\n",
       "      <th></th>\n",
       "      <th>index</th>\n",
       "      <th>TITLE</th>\n",
       "      <th>RELEASE_YEAR</th>\n",
       "      <th>SCORE</th>\n",
       "      <th>NUMBER_OF_VOTES</th>\n",
       "      <th>DURATION</th>\n",
       "      <th>MAIN_GENRE</th>\n",
       "      <th>MAIN_PRODUCTION</th>\n",
       "    </tr>\n",
       "  </thead>\n",
       "  <tbody>\n",
       "    <tr>\n",
       "      <th>0</th>\n",
       "      <td>0</td>\n",
       "      <td>David Attenborough: A Life on Our Planet</td>\n",
       "      <td>2020</td>\n",
       "      <td>9.0</td>\n",
       "      <td>31180</td>\n",
       "      <td>83</td>\n",
       "      <td>documentary</td>\n",
       "      <td>GB</td>\n",
       "    </tr>\n",
       "    <tr>\n",
       "      <th>1</th>\n",
       "      <td>1</td>\n",
       "      <td>Inception</td>\n",
       "      <td>2010</td>\n",
       "      <td>8.8</td>\n",
       "      <td>2268288</td>\n",
       "      <td>148</td>\n",
       "      <td>scifi</td>\n",
       "      <td>GB</td>\n",
       "    </tr>\n",
       "    <tr>\n",
       "      <th>2</th>\n",
       "      <td>2</td>\n",
       "      <td>Forrest Gump</td>\n",
       "      <td>1994</td>\n",
       "      <td>8.8</td>\n",
       "      <td>1994599</td>\n",
       "      <td>142</td>\n",
       "      <td>drama</td>\n",
       "      <td>US</td>\n",
       "    </tr>\n",
       "    <tr>\n",
       "      <th>3</th>\n",
       "      <td>3</td>\n",
       "      <td>Anbe Sivam</td>\n",
       "      <td>2003</td>\n",
       "      <td>8.7</td>\n",
       "      <td>20595</td>\n",
       "      <td>160</td>\n",
       "      <td>comedy</td>\n",
       "      <td>IN</td>\n",
       "    </tr>\n",
       "    <tr>\n",
       "      <th>4</th>\n",
       "      <td>4</td>\n",
       "      <td>Bo Burnham: Inside</td>\n",
       "      <td>2021</td>\n",
       "      <td>8.7</td>\n",
       "      <td>44074</td>\n",
       "      <td>87</td>\n",
       "      <td>comedy</td>\n",
       "      <td>US</td>\n",
       "    </tr>\n",
       "  </tbody>\n",
       "</table>\n",
       "</div>"
      ],
      "text/plain": [
       "   index                                     TITLE  RELEASE_YEAR  SCORE  \\\n",
       "0      0  David Attenborough: A Life on Our Planet          2020    9.0   \n",
       "1      1                                 Inception          2010    8.8   \n",
       "2      2                              Forrest Gump          1994    8.8   \n",
       "3      3                                Anbe Sivam          2003    8.7   \n",
       "4      4                        Bo Burnham: Inside          2021    8.7   \n",
       "\n",
       "   NUMBER_OF_VOTES  DURATION   MAIN_GENRE MAIN_PRODUCTION  \n",
       "0            31180        83  documentary              GB  \n",
       "1          2268288       148        scifi              GB  \n",
       "2          1994599       142        drama              US  \n",
       "3            20595       160       comedy              IN  \n",
       "4            44074        87       comedy              US  "
      ]
     },
     "execution_count": 5,
     "metadata": {},
     "output_type": "execute_result"
    }
   ],
   "source": [
    "BestMovies.head(5)"
   ]
  },
  {
   "cell_type": "code",
   "execution_count": 6,
   "id": "a0ac3523",
   "metadata": {},
   "outputs": [],
   "source": [
    "#recoding score\n",
    "def Rating (series):\n",
    "  if series == \"SCORE\":\n",
    "    return \"0\"\n",
    "  if series <= 7.5: \n",
    "    return \"Negative\"\n",
    "  if series >= 7.6: \n",
    "    return \"Positive\"\n",
    "BestMovies[\"Rating\"] = BestMovies[\"SCORE\"].apply(Rating)"
   ]
  },
  {
   "cell_type": "code",
   "execution_count": 7,
   "id": "8768e844",
   "metadata": {},
   "outputs": [
    {
     "data": {
      "text/html": [
       "<div>\n",
       "<style scoped>\n",
       "    .dataframe tbody tr th:only-of-type {\n",
       "        vertical-align: middle;\n",
       "    }\n",
       "\n",
       "    .dataframe tbody tr th {\n",
       "        vertical-align: top;\n",
       "    }\n",
       "\n",
       "    .dataframe thead th {\n",
       "        text-align: right;\n",
       "    }\n",
       "</style>\n",
       "<table border=\"1\" class=\"dataframe\">\n",
       "  <thead>\n",
       "    <tr style=\"text-align: right;\">\n",
       "      <th></th>\n",
       "      <th>index</th>\n",
       "      <th>TITLE</th>\n",
       "      <th>RELEASE_YEAR</th>\n",
       "      <th>SCORE</th>\n",
       "      <th>NUMBER_OF_VOTES</th>\n",
       "      <th>DURATION</th>\n",
       "      <th>MAIN_GENRE</th>\n",
       "      <th>MAIN_PRODUCTION</th>\n",
       "      <th>Rating</th>\n",
       "    </tr>\n",
       "  </thead>\n",
       "  <tbody>\n",
       "    <tr>\n",
       "      <th>0</th>\n",
       "      <td>0</td>\n",
       "      <td>David Attenborough: A Life on Our Planet</td>\n",
       "      <td>2020</td>\n",
       "      <td>9.0</td>\n",
       "      <td>31180</td>\n",
       "      <td>83</td>\n",
       "      <td>documentary</td>\n",
       "      <td>GB</td>\n",
       "      <td>Positive</td>\n",
       "    </tr>\n",
       "    <tr>\n",
       "      <th>1</th>\n",
       "      <td>1</td>\n",
       "      <td>Inception</td>\n",
       "      <td>2010</td>\n",
       "      <td>8.8</td>\n",
       "      <td>2268288</td>\n",
       "      <td>148</td>\n",
       "      <td>scifi</td>\n",
       "      <td>GB</td>\n",
       "      <td>Positive</td>\n",
       "    </tr>\n",
       "    <tr>\n",
       "      <th>2</th>\n",
       "      <td>2</td>\n",
       "      <td>Forrest Gump</td>\n",
       "      <td>1994</td>\n",
       "      <td>8.8</td>\n",
       "      <td>1994599</td>\n",
       "      <td>142</td>\n",
       "      <td>drama</td>\n",
       "      <td>US</td>\n",
       "      <td>Positive</td>\n",
       "    </tr>\n",
       "    <tr>\n",
       "      <th>3</th>\n",
       "      <td>3</td>\n",
       "      <td>Anbe Sivam</td>\n",
       "      <td>2003</td>\n",
       "      <td>8.7</td>\n",
       "      <td>20595</td>\n",
       "      <td>160</td>\n",
       "      <td>comedy</td>\n",
       "      <td>IN</td>\n",
       "      <td>Positive</td>\n",
       "    </tr>\n",
       "    <tr>\n",
       "      <th>4</th>\n",
       "      <td>4</td>\n",
       "      <td>Bo Burnham: Inside</td>\n",
       "      <td>2021</td>\n",
       "      <td>8.7</td>\n",
       "      <td>44074</td>\n",
       "      <td>87</td>\n",
       "      <td>comedy</td>\n",
       "      <td>US</td>\n",
       "      <td>Positive</td>\n",
       "    </tr>\n",
       "  </tbody>\n",
       "</table>\n",
       "</div>"
      ],
      "text/plain": [
       "   index                                     TITLE  RELEASE_YEAR  SCORE  \\\n",
       "0      0  David Attenborough: A Life on Our Planet          2020    9.0   \n",
       "1      1                                 Inception          2010    8.8   \n",
       "2      2                              Forrest Gump          1994    8.8   \n",
       "3      3                                Anbe Sivam          2003    8.7   \n",
       "4      4                        Bo Burnham: Inside          2021    8.7   \n",
       "\n",
       "   NUMBER_OF_VOTES  DURATION   MAIN_GENRE MAIN_PRODUCTION    Rating  \n",
       "0            31180        83  documentary              GB  Positive  \n",
       "1          2268288       148        scifi              GB  Positive  \n",
       "2          1994599       142        drama              US  Positive  \n",
       "3            20595       160       comedy              IN  Positive  \n",
       "4            44074        87       comedy              US  Positive  "
      ]
     },
     "execution_count": 7,
     "metadata": {},
     "output_type": "execute_result"
    }
   ],
   "source": [
    "BestMovies.head(5)"
   ]
  },
  {
   "cell_type": "code",
   "execution_count": 8,
   "id": "febc879b",
   "metadata": {},
   "outputs": [],
   "source": [
    "#recoding genre\n",
    "def Genre (series):\n",
    "  if series == \"MAIN_GENRE\":\n",
    "    return \"0\"\n",
    "  if series == \"action\": \n",
    "    return \"1\"\n",
    "  if series == \"animation\": \n",
    "    return \"2\"\n",
    "  if series == \"comedy\":\n",
    "    return \"3\"\n",
    "  if series == \"crime\":\n",
    "    return \"4\"\n",
    "  if series == \"documentary\":\n",
    "    return \"5\"\n",
    "  if series == \"drama\":\n",
    "    return \"6\"\n",
    "  if series == \"fantasy\":\n",
    "    return \"7\"\n",
    "  if series == \"horror\":\n",
    "    return \"8\"\n",
    "  if series == \"musical\":\n",
    "    return \"9\"\n",
    "  if series == \"romance\":\n",
    "    return \"10\"\n",
    "  if series == \"scifi\":\n",
    "    return \"11\"\n",
    "  if series == \"sports\":\n",
    "    return \"12\"\n",
    "  if series == \"thriller\":\n",
    "    return \"13\"\n",
    "  if series == \"war\":\n",
    "    return \"14\"\n",
    "  if series == \"western\":\n",
    "    return \"15\"\n",
    "BestMovies[\"Genre\"] = BestMovies[\"MAIN_GENRE\"].apply(Genre)"
   ]
  },
  {
   "cell_type": "code",
   "execution_count": 9,
   "id": "b2ad15f5",
   "metadata": {},
   "outputs": [
    {
     "data": {
      "text/html": [
       "<div>\n",
       "<style scoped>\n",
       "    .dataframe tbody tr th:only-of-type {\n",
       "        vertical-align: middle;\n",
       "    }\n",
       "\n",
       "    .dataframe tbody tr th {\n",
       "        vertical-align: top;\n",
       "    }\n",
       "\n",
       "    .dataframe thead th {\n",
       "        text-align: right;\n",
       "    }\n",
       "</style>\n",
       "<table border=\"1\" class=\"dataframe\">\n",
       "  <thead>\n",
       "    <tr style=\"text-align: right;\">\n",
       "      <th></th>\n",
       "      <th>index</th>\n",
       "      <th>TITLE</th>\n",
       "      <th>RELEASE_YEAR</th>\n",
       "      <th>SCORE</th>\n",
       "      <th>NUMBER_OF_VOTES</th>\n",
       "      <th>DURATION</th>\n",
       "      <th>MAIN_GENRE</th>\n",
       "      <th>MAIN_PRODUCTION</th>\n",
       "      <th>Rating</th>\n",
       "      <th>Genre</th>\n",
       "    </tr>\n",
       "  </thead>\n",
       "  <tbody>\n",
       "    <tr>\n",
       "      <th>0</th>\n",
       "      <td>0</td>\n",
       "      <td>David Attenborough: A Life on Our Planet</td>\n",
       "      <td>2020</td>\n",
       "      <td>9.0</td>\n",
       "      <td>31180</td>\n",
       "      <td>83</td>\n",
       "      <td>documentary</td>\n",
       "      <td>GB</td>\n",
       "      <td>Positive</td>\n",
       "      <td>5</td>\n",
       "    </tr>\n",
       "    <tr>\n",
       "      <th>1</th>\n",
       "      <td>1</td>\n",
       "      <td>Inception</td>\n",
       "      <td>2010</td>\n",
       "      <td>8.8</td>\n",
       "      <td>2268288</td>\n",
       "      <td>148</td>\n",
       "      <td>scifi</td>\n",
       "      <td>GB</td>\n",
       "      <td>Positive</td>\n",
       "      <td>11</td>\n",
       "    </tr>\n",
       "    <tr>\n",
       "      <th>2</th>\n",
       "      <td>2</td>\n",
       "      <td>Forrest Gump</td>\n",
       "      <td>1994</td>\n",
       "      <td>8.8</td>\n",
       "      <td>1994599</td>\n",
       "      <td>142</td>\n",
       "      <td>drama</td>\n",
       "      <td>US</td>\n",
       "      <td>Positive</td>\n",
       "      <td>6</td>\n",
       "    </tr>\n",
       "    <tr>\n",
       "      <th>3</th>\n",
       "      <td>3</td>\n",
       "      <td>Anbe Sivam</td>\n",
       "      <td>2003</td>\n",
       "      <td>8.7</td>\n",
       "      <td>20595</td>\n",
       "      <td>160</td>\n",
       "      <td>comedy</td>\n",
       "      <td>IN</td>\n",
       "      <td>Positive</td>\n",
       "      <td>3</td>\n",
       "    </tr>\n",
       "    <tr>\n",
       "      <th>4</th>\n",
       "      <td>4</td>\n",
       "      <td>Bo Burnham: Inside</td>\n",
       "      <td>2021</td>\n",
       "      <td>8.7</td>\n",
       "      <td>44074</td>\n",
       "      <td>87</td>\n",
       "      <td>comedy</td>\n",
       "      <td>US</td>\n",
       "      <td>Positive</td>\n",
       "      <td>3</td>\n",
       "    </tr>\n",
       "  </tbody>\n",
       "</table>\n",
       "</div>"
      ],
      "text/plain": [
       "   index                                     TITLE  RELEASE_YEAR  SCORE  \\\n",
       "0      0  David Attenborough: A Life on Our Planet          2020    9.0   \n",
       "1      1                                 Inception          2010    8.8   \n",
       "2      2                              Forrest Gump          1994    8.8   \n",
       "3      3                                Anbe Sivam          2003    8.7   \n",
       "4      4                        Bo Burnham: Inside          2021    8.7   \n",
       "\n",
       "   NUMBER_OF_VOTES  DURATION   MAIN_GENRE MAIN_PRODUCTION    Rating Genre  \n",
       "0            31180        83  documentary              GB  Positive     5  \n",
       "1          2268288       148        scifi              GB  Positive    11  \n",
       "2          1994599       142        drama              US  Positive     6  \n",
       "3            20595       160       comedy              IN  Positive     3  \n",
       "4            44074        87       comedy              US  Positive     3  "
      ]
     },
     "execution_count": 9,
     "metadata": {},
     "output_type": "execute_result"
    }
   ],
   "source": [
    "BestMovies.head(5)"
   ]
  },
  {
   "cell_type": "code",
   "execution_count": 10,
   "id": "7a039cb8",
   "metadata": {},
   "outputs": [],
   "source": [
    "import matplotlib.mlab as mlab"
   ]
  },
  {
   "cell_type": "code",
   "execution_count": 11,
   "id": "b2b31a74",
   "metadata": {},
   "outputs": [],
   "source": [
    "import matplotlib.pyplot as plt"
   ]
  },
  {
   "cell_type": "code",
   "execution_count": 12,
   "id": "86c1deb9",
   "metadata": {},
   "outputs": [],
   "source": [
    "import seaborn as sns"
   ]
  },
  {
   "cell_type": "code",
   "execution_count": 13,
   "id": "c1377b53",
   "metadata": {},
   "outputs": [],
   "source": [
    "BestMovies2 = BestMovies[['TITLE', 'Rating', 'Genre']]"
   ]
  },
  {
   "cell_type": "code",
   "execution_count": 14,
   "id": "2e3369fd",
   "metadata": {},
   "outputs": [
    {
     "data": {
      "text/html": [
       "<div>\n",
       "<style scoped>\n",
       "    .dataframe tbody tr th:only-of-type {\n",
       "        vertical-align: middle;\n",
       "    }\n",
       "\n",
       "    .dataframe tbody tr th {\n",
       "        vertical-align: top;\n",
       "    }\n",
       "\n",
       "    .dataframe thead th {\n",
       "        text-align: right;\n",
       "    }\n",
       "</style>\n",
       "<table border=\"1\" class=\"dataframe\">\n",
       "  <thead>\n",
       "    <tr style=\"text-align: right;\">\n",
       "      <th></th>\n",
       "      <th>TITLE</th>\n",
       "      <th>Rating</th>\n",
       "      <th>Genre</th>\n",
       "    </tr>\n",
       "  </thead>\n",
       "  <tbody>\n",
       "    <tr>\n",
       "      <th>0</th>\n",
       "      <td>David Attenborough: A Life on Our Planet</td>\n",
       "      <td>Positive</td>\n",
       "      <td>5</td>\n",
       "    </tr>\n",
       "    <tr>\n",
       "      <th>1</th>\n",
       "      <td>Inception</td>\n",
       "      <td>Positive</td>\n",
       "      <td>11</td>\n",
       "    </tr>\n",
       "    <tr>\n",
       "      <th>2</th>\n",
       "      <td>Forrest Gump</td>\n",
       "      <td>Positive</td>\n",
       "      <td>6</td>\n",
       "    </tr>\n",
       "    <tr>\n",
       "      <th>3</th>\n",
       "      <td>Anbe Sivam</td>\n",
       "      <td>Positive</td>\n",
       "      <td>3</td>\n",
       "    </tr>\n",
       "    <tr>\n",
       "      <th>4</th>\n",
       "      <td>Bo Burnham: Inside</td>\n",
       "      <td>Positive</td>\n",
       "      <td>3</td>\n",
       "    </tr>\n",
       "  </tbody>\n",
       "</table>\n",
       "</div>"
      ],
      "text/plain": [
       "                                      TITLE    Rating Genre\n",
       "0  David Attenborough: A Life on Our Planet  Positive     5\n",
       "1                                 Inception  Positive    11\n",
       "2                              Forrest Gump  Positive     6\n",
       "3                                Anbe Sivam  Positive     3\n",
       "4                        Bo Burnham: Inside  Positive     3"
      ]
     },
     "execution_count": 14,
     "metadata": {},
     "output_type": "execute_result"
    }
   ],
   "source": [
    "BestMovies2.head(5)"
   ]
  },
  {
   "cell_type": "code",
   "execution_count": 15,
   "id": "b0f4c804",
   "metadata": {},
   "outputs": [
    {
     "data": {
      "text/plain": [
       "Rating\n",
       "Negative    223\n",
       "Positive    164\n",
       "Name: Genre, dtype: int64"
      ]
     },
     "execution_count": 15,
     "metadata": {},
     "output_type": "execute_result"
    }
   ],
   "source": [
    "BestMovies2.groupby('Rating')['Genre'].count()"
   ]
  },
  {
   "cell_type": "code",
   "execution_count": 16,
   "id": "18d75f86",
   "metadata": {},
   "outputs": [],
   "source": [
    "BestMovies3 = BestMovies2.set_index('Genre').T"
   ]
  },
  {
   "cell_type": "code",
   "execution_count": 17,
   "id": "531e5a2f",
   "metadata": {},
   "outputs": [
    {
     "data": {
      "text/html": [
       "<div>\n",
       "<style scoped>\n",
       "    .dataframe tbody tr th:only-of-type {\n",
       "        vertical-align: middle;\n",
       "    }\n",
       "\n",
       "    .dataframe tbody tr th {\n",
       "        vertical-align: top;\n",
       "    }\n",
       "\n",
       "    .dataframe thead th {\n",
       "        text-align: right;\n",
       "    }\n",
       "</style>\n",
       "<table border=\"1\" class=\"dataframe\">\n",
       "  <thead>\n",
       "    <tr style=\"text-align: right;\">\n",
       "      <th>Genre</th>\n",
       "      <th>5</th>\n",
       "      <th>11</th>\n",
       "      <th>6</th>\n",
       "      <th>3</th>\n",
       "      <th>3</th>\n",
       "      <th>6</th>\n",
       "      <th>15</th>\n",
       "      <th>1</th>\n",
       "      <th>3</th>\n",
       "      <th>3</th>\n",
       "      <th>...</th>\n",
       "      <th>6</th>\n",
       "      <th>6</th>\n",
       "      <th>7</th>\n",
       "      <th>6</th>\n",
       "      <th>13</th>\n",
       "      <th>3</th>\n",
       "      <th>6</th>\n",
       "      <th>6</th>\n",
       "      <th>10</th>\n",
       "      <th>7</th>\n",
       "    </tr>\n",
       "  </thead>\n",
       "  <tbody>\n",
       "    <tr>\n",
       "      <th>TITLE</th>\n",
       "      <td>David Attenborough: A Life on Our Planet</td>\n",
       "      <td>Inception</td>\n",
       "      <td>Forrest Gump</td>\n",
       "      <td>Anbe Sivam</td>\n",
       "      <td>Bo Burnham: Inside</td>\n",
       "      <td>Saving Private Ryan</td>\n",
       "      <td>Django Unchained</td>\n",
       "      <td>Dangal</td>\n",
       "      <td>Bo Burnham: Make Happy</td>\n",
       "      <td>Louis C.K.: Hilarious</td>\n",
       "      <td>...</td>\n",
       "      <td>Mary Kom</td>\n",
       "      <td>Suffragette</td>\n",
       "      <td>Legend of the Guardians: The Owls of Ga'Hoole</td>\n",
       "      <td>Christine</td>\n",
       "      <td>The Night Comes for Us</td>\n",
       "      <td>The Trip</td>\n",
       "      <td>The Dirt</td>\n",
       "      <td>Top Gun</td>\n",
       "      <td>Radhe Shyam</td>\n",
       "      <td>Sorry to Bother You</td>\n",
       "    </tr>\n",
       "    <tr>\n",
       "      <th>Rating</th>\n",
       "      <td>Positive</td>\n",
       "      <td>Positive</td>\n",
       "      <td>Positive</td>\n",
       "      <td>Positive</td>\n",
       "      <td>Positive</td>\n",
       "      <td>Positive</td>\n",
       "      <td>Positive</td>\n",
       "      <td>Positive</td>\n",
       "      <td>Positive</td>\n",
       "      <td>Positive</td>\n",
       "      <td>...</td>\n",
       "      <td>Negative</td>\n",
       "      <td>Negative</td>\n",
       "      <td>Negative</td>\n",
       "      <td>Negative</td>\n",
       "      <td>Negative</td>\n",
       "      <td>Negative</td>\n",
       "      <td>Negative</td>\n",
       "      <td>Negative</td>\n",
       "      <td>Negative</td>\n",
       "      <td>Negative</td>\n",
       "    </tr>\n",
       "  </tbody>\n",
       "</table>\n",
       "<p>2 rows × 387 columns</p>\n",
       "</div>"
      ],
      "text/plain": [
       "Genre                                          5         11             6  \\\n",
       "TITLE   David Attenborough: A Life on Our Planet  Inception  Forrest Gump   \n",
       "Rating                                  Positive   Positive      Positive   \n",
       "\n",
       "Genre            3                   3                    6                15  \\\n",
       "TITLE   Anbe Sivam  Bo Burnham: Inside  Saving Private Ryan  Django Unchained   \n",
       "Rating    Positive            Positive             Positive          Positive   \n",
       "\n",
       "Genre          1                       3                      3  ...  \\\n",
       "TITLE     Dangal  Bo Burnham: Make Happy  Louis C.K.: Hilarious  ...   \n",
       "Rating  Positive                Positive               Positive  ...   \n",
       "\n",
       "Genre          6            6                                              7  \\\n",
       "TITLE   Mary Kom  Suffragette  Legend of the Guardians: The Owls of Ga'Hoole   \n",
       "Rating  Negative     Negative                                       Negative   \n",
       "\n",
       "Genre           6                      13         3         6         6  \\\n",
       "TITLE   Christine  The Night Comes for Us  The Trip  The Dirt   Top Gun   \n",
       "Rating   Negative                Negative  Negative  Negative  Negative   \n",
       "\n",
       "Genre            10                    7  \n",
       "TITLE   Radhe Shyam  Sorry to Bother You  \n",
       "Rating     Negative             Negative  \n",
       "\n",
       "[2 rows x 387 columns]"
      ]
     },
     "execution_count": 17,
     "metadata": {},
     "output_type": "execute_result"
    }
   ],
   "source": [
    "BestMovies3"
   ]
  },
  {
   "cell_type": "code",
   "execution_count": 18,
   "id": "4c69d838",
   "metadata": {},
   "outputs": [],
   "source": [
    "BestMovies4 = BestMovies3.T"
   ]
  },
  {
   "cell_type": "code",
   "execution_count": 19,
   "id": "6917a989",
   "metadata": {},
   "outputs": [
    {
     "data": {
      "text/html": [
       "<div>\n",
       "<style scoped>\n",
       "    .dataframe tbody tr th:only-of-type {\n",
       "        vertical-align: middle;\n",
       "    }\n",
       "\n",
       "    .dataframe tbody tr th {\n",
       "        vertical-align: top;\n",
       "    }\n",
       "\n",
       "    .dataframe thead th {\n",
       "        text-align: right;\n",
       "    }\n",
       "</style>\n",
       "<table border=\"1\" class=\"dataframe\">\n",
       "  <thead>\n",
       "    <tr style=\"text-align: right;\">\n",
       "      <th></th>\n",
       "      <th>TITLE</th>\n",
       "      <th>Rating</th>\n",
       "    </tr>\n",
       "    <tr>\n",
       "      <th>Genre</th>\n",
       "      <th></th>\n",
       "      <th></th>\n",
       "    </tr>\n",
       "  </thead>\n",
       "  <tbody>\n",
       "    <tr>\n",
       "      <th>5</th>\n",
       "      <td>David Attenborough: A Life on Our Planet</td>\n",
       "      <td>Positive</td>\n",
       "    </tr>\n",
       "    <tr>\n",
       "      <th>11</th>\n",
       "      <td>Inception</td>\n",
       "      <td>Positive</td>\n",
       "    </tr>\n",
       "    <tr>\n",
       "      <th>6</th>\n",
       "      <td>Forrest Gump</td>\n",
       "      <td>Positive</td>\n",
       "    </tr>\n",
       "    <tr>\n",
       "      <th>3</th>\n",
       "      <td>Anbe Sivam</td>\n",
       "      <td>Positive</td>\n",
       "    </tr>\n",
       "    <tr>\n",
       "      <th>3</th>\n",
       "      <td>Bo Burnham: Inside</td>\n",
       "      <td>Positive</td>\n",
       "    </tr>\n",
       "    <tr>\n",
       "      <th>...</th>\n",
       "      <td>...</td>\n",
       "      <td>...</td>\n",
       "    </tr>\n",
       "    <tr>\n",
       "      <th>3</th>\n",
       "      <td>The Trip</td>\n",
       "      <td>Negative</td>\n",
       "    </tr>\n",
       "    <tr>\n",
       "      <th>6</th>\n",
       "      <td>The Dirt</td>\n",
       "      <td>Negative</td>\n",
       "    </tr>\n",
       "    <tr>\n",
       "      <th>6</th>\n",
       "      <td>Top Gun</td>\n",
       "      <td>Negative</td>\n",
       "    </tr>\n",
       "    <tr>\n",
       "      <th>10</th>\n",
       "      <td>Radhe Shyam</td>\n",
       "      <td>Negative</td>\n",
       "    </tr>\n",
       "    <tr>\n",
       "      <th>7</th>\n",
       "      <td>Sorry to Bother You</td>\n",
       "      <td>Negative</td>\n",
       "    </tr>\n",
       "  </tbody>\n",
       "</table>\n",
       "<p>387 rows × 2 columns</p>\n",
       "</div>"
      ],
      "text/plain": [
       "                                          TITLE    Rating\n",
       "Genre                                                    \n",
       "5      David Attenborough: A Life on Our Planet  Positive\n",
       "11                                    Inception  Positive\n",
       "6                                  Forrest Gump  Positive\n",
       "3                                    Anbe Sivam  Positive\n",
       "3                            Bo Burnham: Inside  Positive\n",
       "...                                         ...       ...\n",
       "3                                      The Trip  Negative\n",
       "6                                      The Dirt  Negative\n",
       "6                                       Top Gun  Negative\n",
       "10                                  Radhe Shyam  Negative\n",
       "7                           Sorry to Bother You  Negative\n",
       "\n",
       "[387 rows x 2 columns]"
      ]
     },
     "execution_count": 19,
     "metadata": {},
     "output_type": "execute_result"
    }
   ],
   "source": [
    "BestMovies4"
   ]
  },
  {
   "cell_type": "code",
   "execution_count": 20,
   "id": "2df1be0a",
   "metadata": {},
   "outputs": [
    {
     "data": {
      "text/plain": [
       "<AxesSubplot: >"
      ]
     },
     "execution_count": 20,
     "metadata": {},
     "output_type": "execute_result"
    },
    {
     "data": {
      "image/png": "[encoded data removed]",
      "text/plain": [
       "<Figure size 432x288 with 1 Axes>"
      ]
     },
     "metadata": {
      "needs_background": "light"
     },
     "output_type": "display_data"
    }
   ],
   "source": [
    "BestMovies2.Genre.hist()"
   ]
  },
  {
   "cell_type": "code",
   "execution_count": 21,
   "id": "6b5598ad",
   "metadata": {},
   "outputs": [
    {
     "data": {
      "text/plain": [
       "Rating    Genre\n",
       "Negative  1         2\n",
       "          10       15\n",
       "          11        3\n",
       "          12        1\n",
       "          13       37\n",
       "          14        1\n",
       "          15        3\n",
       "          2         2\n",
       "          3        27\n",
       "          4        13\n",
       "          5         7\n",
       "          6        91\n",
       "          7        12\n",
       "          8         6\n",
       "          9         3\n",
       "Positive  1         3\n",
       "          10        6\n",
       "          11        4\n",
       "          13       22\n",
       "          14        2\n",
       "          15        4\n",
       "          2         1\n",
       "          3        31\n",
       "          4         8\n",
       "          5        13\n",
       "          6        60\n",
       "          7         7\n",
       "          8         2\n",
       "          9         1\n",
       "dtype: int64"
      ]
     },
     "execution_count": 21,
     "metadata": {},
     "output_type": "execute_result"
    }
   ],
   "source": [
    "#Shows rating by Genre\n",
    "BestMovies2.groupby(['Rating', 'Genre']).size()"
   ]
  },
  {
   "cell_type": "code",
   "execution_count": 22,
   "id": "96e533a7",
   "metadata": {},
   "outputs": [
    {
     "data": {
      "text/plain": [
       "Genre\n",
       "1     7.700000\n",
       "10    7.400000\n",
       "11    7.771429\n",
       "12    7.400000\n",
       "13    7.466102\n",
       "14    7.800000\n",
       "15    7.557143\n",
       "2     7.200000\n",
       "3     7.606897\n",
       "4     7.466667\n",
       "5     7.760000\n",
       "6     7.477483\n",
       "7     7.484211\n",
       "8     7.350000\n",
       "9     7.150000\n",
       "Name: SCORE, dtype: float64"
      ]
     },
     "execution_count": 22,
     "metadata": {},
     "output_type": "execute_result"
    }
   ],
   "source": [
    "#Shows Average by Genre\n",
    "BestMovies.groupby('Genre')['SCORE'].mean()"
   ]
  },
  {
   "cell_type": "code",
   "execution_count": 23,
   "id": "5f40862c",
   "metadata": {},
   "outputs": [
    {
     "data": {
      "text/plain": [
       "7.5090439276485785"
      ]
     },
     "execution_count": 23,
     "metadata": {},
     "output_type": "execute_result"
    }
   ],
   "source": [
    "#Average Score of entire dataset\n",
    "BestMovies.loc[:, 'SCORE'].mean()"
   ]
  },
  {
   "cell_type": "code",
   "execution_count": 24,
   "id": "fd87531e",
   "metadata": {},
   "outputs": [
    {
     "data": {
      "text/plain": [
       "0.34368301210610663"
      ]
     },
     "execution_count": 24,
     "metadata": {},
     "output_type": "execute_result"
    }
   ],
   "source": [
    "#Do the number of votes influence the score?\n",
    "BestMovies['NUMBER_OF_VOTES'].corr(BestMovies['SCORE'])"
   ]
  },
  {
   "cell_type": "code",
   "execution_count": 25,
   "id": "ade96de8",
   "metadata": {},
   "outputs": [],
   "source": [
    "#Correlation Matrix\n",
    "movies= BestMovies.drop(['TITLE', 'MAIN_GENRE','MAIN_PRODUCTION', 'Rating'], axis=1)"
   ]
  },
  {
   "cell_type": "code",
   "execution_count": 26,
   "id": "08d4a536",
   "metadata": {},
   "outputs": [
    {
     "data": {
      "text/html": [
       "<div>\n",
       "<style scoped>\n",
       "    .dataframe tbody tr th:only-of-type {\n",
       "        vertical-align: middle;\n",
       "    }\n",
       "\n",
       "    .dataframe tbody tr th {\n",
       "        vertical-align: top;\n",
       "    }\n",
       "\n",
       "    .dataframe thead th {\n",
       "        text-align: right;\n",
       "    }\n",
       "</style>\n",
       "<table border=\"1\" class=\"dataframe\">\n",
       "  <thead>\n",
       "    <tr style=\"text-align: right;\">\n",
       "      <th></th>\n",
       "      <th>index</th>\n",
       "      <th>RELEASE_YEAR</th>\n",
       "      <th>SCORE</th>\n",
       "      <th>NUMBER_OF_VOTES</th>\n",
       "      <th>DURATION</th>\n",
       "      <th>Genre</th>\n",
       "    </tr>\n",
       "  </thead>\n",
       "  <tbody>\n",
       "    <tr>\n",
       "      <th>0</th>\n",
       "      <td>0</td>\n",
       "      <td>2020</td>\n",
       "      <td>9.0</td>\n",
       "      <td>31180</td>\n",
       "      <td>83</td>\n",
       "      <td>5</td>\n",
       "    </tr>\n",
       "    <tr>\n",
       "      <th>1</th>\n",
       "      <td>1</td>\n",
       "      <td>2010</td>\n",
       "      <td>8.8</td>\n",
       "      <td>2268288</td>\n",
       "      <td>148</td>\n",
       "      <td>11</td>\n",
       "    </tr>\n",
       "    <tr>\n",
       "      <th>2</th>\n",
       "      <td>2</td>\n",
       "      <td>1994</td>\n",
       "      <td>8.8</td>\n",
       "      <td>1994599</td>\n",
       "      <td>142</td>\n",
       "      <td>6</td>\n",
       "    </tr>\n",
       "    <tr>\n",
       "      <th>3</th>\n",
       "      <td>3</td>\n",
       "      <td>2003</td>\n",
       "      <td>8.7</td>\n",
       "      <td>20595</td>\n",
       "      <td>160</td>\n",
       "      <td>3</td>\n",
       "    </tr>\n",
       "    <tr>\n",
       "      <th>4</th>\n",
       "      <td>4</td>\n",
       "      <td>2021</td>\n",
       "      <td>8.7</td>\n",
       "      <td>44074</td>\n",
       "      <td>87</td>\n",
       "      <td>3</td>\n",
       "    </tr>\n",
       "  </tbody>\n",
       "</table>\n",
       "</div>"
      ],
      "text/plain": [
       "   index  RELEASE_YEAR  SCORE  NUMBER_OF_VOTES  DURATION Genre\n",
       "0      0          2020    9.0            31180        83     5\n",
       "1      1          2010    8.8          2268288       148    11\n",
       "2      2          1994    8.8          1994599       142     6\n",
       "3      3          2003    8.7            20595       160     3\n",
       "4      4          2021    8.7            44074        87     3"
      ]
     },
     "execution_count": 26,
     "metadata": {},
     "output_type": "execute_result"
    }
   ],
   "source": [
    "movies.head(5)"
   ]
  },
  {
   "cell_type": "code",
   "execution_count": 27,
   "id": "65e8e242",
   "metadata": {},
   "outputs": [
    {
     "data": {
      "text/html": [
       "<div>\n",
       "<style scoped>\n",
       "    .dataframe tbody tr th:only-of-type {\n",
       "        vertical-align: middle;\n",
       "    }\n",
       "\n",
       "    .dataframe tbody tr th {\n",
       "        vertical-align: top;\n",
       "    }\n",
       "\n",
       "    .dataframe thead th {\n",
       "        text-align: right;\n",
       "    }\n",
       "</style>\n",
       "<table border=\"1\" class=\"dataframe\">\n",
       "  <thead>\n",
       "    <tr style=\"text-align: right;\">\n",
       "      <th></th>\n",
       "      <th>index</th>\n",
       "      <th>RELEASE_YEAR</th>\n",
       "      <th>SCORE</th>\n",
       "      <th>NUMBER_OF_VOTES</th>\n",
       "      <th>DURATION</th>\n",
       "    </tr>\n",
       "  </thead>\n",
       "  <tbody>\n",
       "    <tr>\n",
       "      <th>index</th>\n",
       "      <td>1.000000</td>\n",
       "      <td>0.150550</td>\n",
       "      <td>-0.976896</td>\n",
       "      <td>-0.285799</td>\n",
       "      <td>-0.129268</td>\n",
       "    </tr>\n",
       "    <tr>\n",
       "      <th>RELEASE_YEAR</th>\n",
       "      <td>0.150550</td>\n",
       "      <td>1.000000</td>\n",
       "      <td>-0.149726</td>\n",
       "      <td>-0.212883</td>\n",
       "      <td>-0.105250</td>\n",
       "    </tr>\n",
       "    <tr>\n",
       "      <th>SCORE</th>\n",
       "      <td>-0.976896</td>\n",
       "      <td>-0.149726</td>\n",
       "      <td>1.000000</td>\n",
       "      <td>0.343683</td>\n",
       "      <td>0.125037</td>\n",
       "    </tr>\n",
       "    <tr>\n",
       "      <th>NUMBER_OF_VOTES</th>\n",
       "      <td>-0.285799</td>\n",
       "      <td>-0.212883</td>\n",
       "      <td>0.343683</td>\n",
       "      <td>1.000000</td>\n",
       "      <td>0.103768</td>\n",
       "    </tr>\n",
       "    <tr>\n",
       "      <th>DURATION</th>\n",
       "      <td>-0.129268</td>\n",
       "      <td>-0.105250</td>\n",
       "      <td>0.125037</td>\n",
       "      <td>0.103768</td>\n",
       "      <td>1.000000</td>\n",
       "    </tr>\n",
       "  </tbody>\n",
       "</table>\n",
       "</div>"
      ],
      "text/plain": [
       "                    index  RELEASE_YEAR     SCORE  NUMBER_OF_VOTES  DURATION\n",
       "index            1.000000      0.150550 -0.976896        -0.285799 -0.129268\n",
       "RELEASE_YEAR     0.150550      1.000000 -0.149726        -0.212883 -0.105250\n",
       "SCORE           -0.976896     -0.149726  1.000000         0.343683  0.125037\n",
       "NUMBER_OF_VOTES -0.285799     -0.212883  0.343683         1.000000  0.103768\n",
       "DURATION        -0.129268     -0.105250  0.125037         0.103768  1.000000"
      ]
     },
     "execution_count": 27,
     "metadata": {},
     "output_type": "execute_result"
    }
   ],
   "source": [
    "#Why doesn't Genre Show on this matrix?\n",
    "movies.corr(method='pearson')"
   ]
  },
  {
   "cell_type": "code",
   "execution_count": 28,
   "id": "2d59bdd4",
   "metadata": {},
   "outputs": [],
   "source": [
    "BestMovies['Genre'] = BestMovies['Genre'].astype(str).astype(int)"
   ]
  },
  {
   "cell_type": "code",
   "execution_count": 29,
   "id": "0af0a31b",
   "metadata": {},
   "outputs": [
    {
     "name": "stdout",
     "output_type": "stream",
     "text": [
      "index                int64\n",
      "TITLE               object\n",
      "RELEASE_YEAR         int64\n",
      "SCORE              float64\n",
      "NUMBER_OF_VOTES      int64\n",
      "DURATION             int64\n",
      "MAIN_GENRE          object\n",
      "MAIN_PRODUCTION     object\n",
      "Rating              object\n",
      "Genre                int32\n",
      "dtype: object\n"
     ]
    }
   ],
   "source": [
    "print(BestMovies.dtypes)"
   ]
  },
  {
   "cell_type": "code",
   "execution_count": 30,
   "id": "3926e99b",
   "metadata": {},
   "outputs": [
    {
     "data": {
      "text/html": [
       "<style type=\"text/css\">\n",
       "#T_c51f5_row0_col0, #T_c51f5_row1_col1, #T_c51f5_row2_col2, #T_c51f5_row3_col3, #T_c51f5_row4_col4, #T_c51f5_row5_col5 {\n",
       "  background-color: #b40426;\n",
       "  color: #f1f1f1;\n",
       "}\n",
       "#T_c51f5_row0_col1 {\n",
       "  background-color: #9ebeff;\n",
       "  color: #000000;\n",
       "}\n",
       "#T_c51f5_row0_col2, #T_c51f5_row0_col3, #T_c51f5_row0_col4, #T_c51f5_row2_col0, #T_c51f5_row2_col5, #T_c51f5_row3_col1 {\n",
       "  background-color: #3b4cc0;\n",
       "  color: #f1f1f1;\n",
       "}\n",
       "#T_c51f5_row0_col5 {\n",
       "  background-color: #5a78e4;\n",
       "  color: #f1f1f1;\n",
       "}\n",
       "#T_c51f5_row1_col0 {\n",
       "  background-color: #edd2c3;\n",
       "  color: #000000;\n",
       "}\n",
       "#T_c51f5_row1_col2 {\n",
       "  background-color: #c6d6f1;\n",
       "  color: #000000;\n",
       "}\n",
       "#T_c51f5_row1_col3 {\n",
       "  background-color: #4b64d5;\n",
       "  color: #f1f1f1;\n",
       "}\n",
       "#T_c51f5_row1_col4 {\n",
       "  background-color: #4055c8;\n",
       "  color: #f1f1f1;\n",
       "}\n",
       "#T_c51f5_row1_col5 {\n",
       "  background-color: #3f53c6;\n",
       "  color: #f1f1f1;\n",
       "}\n",
       "#T_c51f5_row2_col1 {\n",
       "  background-color: #4a63d3;\n",
       "  color: #f1f1f1;\n",
       "}\n",
       "#T_c51f5_row2_col3 {\n",
       "  background-color: #dadce0;\n",
       "  color: #000000;\n",
       "}\n",
       "#T_c51f5_row2_col4 {\n",
       "  background-color: #84a7fc;\n",
       "  color: #f1f1f1;\n",
       "}\n",
       "#T_c51f5_row3_col0 {\n",
       "  background-color: #afcafc;\n",
       "  color: #000000;\n",
       "}\n",
       "#T_c51f5_row3_col2 {\n",
       "  background-color: #f7b79b;\n",
       "  color: #000000;\n",
       "}\n",
       "#T_c51f5_row3_col4 {\n",
       "  background-color: #7da0f9;\n",
       "  color: #f1f1f1;\n",
       "}\n",
       "#T_c51f5_row3_col5 {\n",
       "  background-color: #6f92f3;\n",
       "  color: #f1f1f1;\n",
       "}\n",
       "#T_c51f5_row4_col0 {\n",
       "  background-color: #c9d7f0;\n",
       "  color: #000000;\n",
       "}\n",
       "#T_c51f5_row4_col1 {\n",
       "  background-color: #5572df;\n",
       "  color: #f1f1f1;\n",
       "}\n",
       "#T_c51f5_row4_col2 {\n",
       "  background-color: #ead4c8;\n",
       "  color: #000000;\n",
       "}\n",
       "#T_c51f5_row4_col3 {\n",
       "  background-color: #9fbfff;\n",
       "  color: #000000;\n",
       "}\n",
       "#T_c51f5_row4_col5 {\n",
       "  background-color: #688aef;\n",
       "  color: #f1f1f1;\n",
       "}\n",
       "#T_c51f5_row5_col0 {\n",
       "  background-color: #e1dad6;\n",
       "  color: #000000;\n",
       "}\n",
       "#T_c51f5_row5_col1 {\n",
       "  background-color: #6687ed;\n",
       "  color: #f1f1f1;\n",
       "}\n",
       "#T_c51f5_row5_col2 {\n",
       "  background-color: #d3dbe7;\n",
       "  color: #000000;\n",
       "}\n",
       "#T_c51f5_row5_col3 {\n",
       "  background-color: #a2c1ff;\n",
       "  color: #000000;\n",
       "}\n",
       "#T_c51f5_row5_col4 {\n",
       "  background-color: #7a9df8;\n",
       "  color: #f1f1f1;\n",
       "}\n",
       "</style>\n",
       "<table id=\"T_c51f5\">\n",
       "  <thead>\n",
       "    <tr>\n",
       "      <th class=\"blank level0\" >&nbsp;</th>\n",
       "      <th id=\"T_c51f5_level0_col0\" class=\"col_heading level0 col0\" >index</th>\n",
       "      <th id=\"T_c51f5_level0_col1\" class=\"col_heading level0 col1\" >RELEASE_YEAR</th>\n",
       "      <th id=\"T_c51f5_level0_col2\" class=\"col_heading level0 col2\" >SCORE</th>\n",
       "      <th id=\"T_c51f5_level0_col3\" class=\"col_heading level0 col3\" >NUMBER_OF_VOTES</th>\n",
       "      <th id=\"T_c51f5_level0_col4\" class=\"col_heading level0 col4\" >DURATION</th>\n",
       "      <th id=\"T_c51f5_level0_col5\" class=\"col_heading level0 col5\" >Genre</th>\n",
       "    </tr>\n",
       "  </thead>\n",
       "  <tbody>\n",
       "    <tr>\n",
       "      <th id=\"T_c51f5_level0_row0\" class=\"row_heading level0 row0\" >index</th>\n",
       "      <td id=\"T_c51f5_row0_col0\" class=\"data row0 col0\" >1.000000</td>\n",
       "      <td id=\"T_c51f5_row0_col1\" class=\"data row0 col1\" >0.150550</td>\n",
       "      <td id=\"T_c51f5_row0_col2\" class=\"data row0 col2\" >-0.976896</td>\n",
       "      <td id=\"T_c51f5_row0_col3\" class=\"data row0 col3\" >-0.285799</td>\n",
       "      <td id=\"T_c51f5_row0_col4\" class=\"data row0 col4\" >-0.129268</td>\n",
       "      <td id=\"T_c51f5_row0_col5\" class=\"data row0 col5\" >0.046015</td>\n",
       "    </tr>\n",
       "    <tr>\n",
       "      <th id=\"T_c51f5_level0_row1\" class=\"row_heading level0 row1\" >RELEASE_YEAR</th>\n",
       "      <td id=\"T_c51f5_row1_col0\" class=\"data row1 col0\" >0.150550</td>\n",
       "      <td id=\"T_c51f5_row1_col1\" class=\"data row1 col1\" >1.000000</td>\n",
       "      <td id=\"T_c51f5_row1_col2\" class=\"data row1 col2\" >-0.149726</td>\n",
       "      <td id=\"T_c51f5_row1_col3\" class=\"data row1 col3\" >-0.212883</td>\n",
       "      <td id=\"T_c51f5_row1_col4\" class=\"data row1 col4\" >-0.105250</td>\n",
       "      <td id=\"T_c51f5_row1_col5\" class=\"data row1 col5\" >-0.042370</td>\n",
       "    </tr>\n",
       "    <tr>\n",
       "      <th id=\"T_c51f5_level0_row2\" class=\"row_heading level0 row2\" >SCORE</th>\n",
       "      <td id=\"T_c51f5_row2_col0\" class=\"data row2 col0\" >-0.976896</td>\n",
       "      <td id=\"T_c51f5_row2_col1\" class=\"data row2 col1\" >-0.149726</td>\n",
       "      <td id=\"T_c51f5_row2_col2\" class=\"data row2 col2\" >1.000000</td>\n",
       "      <td id=\"T_c51f5_row2_col3\" class=\"data row2 col3\" >0.343683</td>\n",
       "      <td id=\"T_c51f5_row2_col4\" class=\"data row2 col4\" >0.125037</td>\n",
       "      <td id=\"T_c51f5_row2_col5\" class=\"data row2 col5\" >-0.062365</td>\n",
       "    </tr>\n",
       "    <tr>\n",
       "      <th id=\"T_c51f5_level0_row3\" class=\"row_heading level0 row3\" >NUMBER_OF_VOTES</th>\n",
       "      <td id=\"T_c51f5_row3_col0\" class=\"data row3 col0\" >-0.285799</td>\n",
       "      <td id=\"T_c51f5_row3_col1\" class=\"data row3 col1\" >-0.212883</td>\n",
       "      <td id=\"T_c51f5_row3_col2\" class=\"data row3 col2\" >0.343683</td>\n",
       "      <td id=\"T_c51f5_row3_col3\" class=\"data row3 col3\" >1.000000</td>\n",
       "      <td id=\"T_c51f5_row3_col4\" class=\"data row3 col4\" >0.103768</td>\n",
       "      <td id=\"T_c51f5_row3_col5\" class=\"data row3 col5\" >0.112737</td>\n",
       "    </tr>\n",
       "    <tr>\n",
       "      <th id=\"T_c51f5_level0_row4\" class=\"row_heading level0 row4\" >DURATION</th>\n",
       "      <td id=\"T_c51f5_row4_col0\" class=\"data row4 col0\" >-0.129268</td>\n",
       "      <td id=\"T_c51f5_row4_col1\" class=\"data row4 col1\" >-0.105250</td>\n",
       "      <td id=\"T_c51f5_row4_col2\" class=\"data row4 col2\" >0.125037</td>\n",
       "      <td id=\"T_c51f5_row4_col3\" class=\"data row4 col3\" >0.103768</td>\n",
       "      <td id=\"T_c51f5_row4_col4\" class=\"data row4 col4\" >1.000000</td>\n",
       "      <td id=\"T_c51f5_row4_col5\" class=\"data row4 col5\" >0.092135</td>\n",
       "    </tr>\n",
       "    <tr>\n",
       "      <th id=\"T_c51f5_level0_row5\" class=\"row_heading level0 row5\" >Genre</th>\n",
       "      <td id=\"T_c51f5_row5_col0\" class=\"data row5 col0\" >0.046015</td>\n",
       "      <td id=\"T_c51f5_row5_col1\" class=\"data row5 col1\" >-0.042370</td>\n",
       "      <td id=\"T_c51f5_row5_col2\" class=\"data row5 col2\" >-0.062365</td>\n",
       "      <td id=\"T_c51f5_row5_col3\" class=\"data row5 col3\" >0.112737</td>\n",
       "      <td id=\"T_c51f5_row5_col4\" class=\"data row5 col4\" >0.092135</td>\n",
       "      <td id=\"T_c51f5_row5_col5\" class=\"data row5 col5\" >1.000000</td>\n",
       "    </tr>\n",
       "  </tbody>\n",
       "</table>\n"
      ],
      "text/plain": [
       "<pandas.io.formats.style.Styler at 0x17264c6caf0>"
      ]
     },
     "execution_count": 30,
     "metadata": {},
     "output_type": "execute_result"
    }
   ],
   "source": [
    "#BestMovies.corr(method='pearson')\n",
    "corr = BestMovies.corr()\n",
    "corr.style.background_gradient(cmap='coolwarm')"
   ]
  },
  {
   "cell_type": "code",
   "execution_count": 31,
   "id": "5721627a",
   "metadata": {},
   "outputs": [
    {
     "name": "stderr",
     "output_type": "stream",
     "text": [
      "C:\\Python3\\lib\\site-packages\\pandas\\plotting\\_matplotlib\\core.py:1114: UserWarning: No data for colormapping provided via 'c'. Parameters 'cmap' will be ignored\n",
      "  scatter = ax.scatter(\n"
     ]
    },
    {
     "data": {
      "text/plain": [
       "Text(0, 0.5, 'Number of Votes')"
      ]
     },
     "execution_count": 31,
     "metadata": {},
     "output_type": "execute_result"
    },
    {
     "data": {
      "image/png": "[encoded data removed]",
      "text/plain": [
       "<Figure size 432x288 with 1 Axes>"
      ]
     },
     "metadata": {
      "needs_background": "light"
     },
     "output_type": "display_data"
    }
   ],
   "source": [
    "#Scatterplot of number of votes and score\n",
    "Plot = BestMovies.plot.scatter(x='SCORE', y='NUMBER_OF_VOTES')\n",
    "Plot.set_title(\"Neflix Movie Scores by Number of Votes\")\n",
    "Plot.set_xlabel(\"Score\")\n",
    "Plot.set_ylabel(\"Number of Votes\")"
   ]
  },
  {
   "cell_type": "code",
   "execution_count": 32,
   "id": "fc580f12",
   "metadata": {},
   "outputs": [
    {
     "data": {
      "text/plain": [
       "Text(0, 0.5, 'Number of Votes')"
      ]
     },
     "execution_count": 32,
     "metadata": {},
     "output_type": "execute_result"
    },
    {
     "data": {
      "image/png": "[encoded data removed]",
      "text/plain": [
       "<Figure size 432x288 with 1 Axes>"
      ]
     },
     "metadata": {
      "needs_background": "light"
     },
     "output_type": "display_data"
    }
   ],
   "source": [
    "#Scatterplot of number of votes and Genre\n",
    "Plot = BestMovies.plot.scatter(x='Genre', y='NUMBER_OF_VOTES')\n",
    "Plot.set_title(\"Neflix Movie Number of Votes by Genre\")\n",
    "Plot.set_xlabel(\"Genre\")\n",
    "Plot.set_ylabel(\"Number of Votes\")"
   ]
  },
  {
   "cell_type": "code",
   "execution_count": 33,
   "id": "5a48a86f",
   "metadata": {},
   "outputs": [],
   "source": [
    "Votes = BestMovies[['Genre', 'NUMBER_OF_VOTES']]"
   ]
  },
  {
   "cell_type": "code",
   "execution_count": 34,
   "id": "2cff7949",
   "metadata": {},
   "outputs": [
    {
     "data": {
      "text/html": [
       "<div>\n",
       "<style scoped>\n",
       "    .dataframe tbody tr th:only-of-type {\n",
       "        vertical-align: middle;\n",
       "    }\n",
       "\n",
       "    .dataframe tbody tr th {\n",
       "        vertical-align: top;\n",
       "    }\n",
       "\n",
       "    .dataframe thead th {\n",
       "        text-align: right;\n",
       "    }\n",
       "</style>\n",
       "<table border=\"1\" class=\"dataframe\">\n",
       "  <thead>\n",
       "    <tr style=\"text-align: right;\">\n",
       "      <th></th>\n",
       "      <th>Genre</th>\n",
       "      <th>NUMBER_OF_VOTES</th>\n",
       "    </tr>\n",
       "  </thead>\n",
       "  <tbody>\n",
       "    <tr>\n",
       "      <th>0</th>\n",
       "      <td>5</td>\n",
       "      <td>31180</td>\n",
       "    </tr>\n",
       "    <tr>\n",
       "      <th>1</th>\n",
       "      <td>11</td>\n",
       "      <td>2268288</td>\n",
       "    </tr>\n",
       "    <tr>\n",
       "      <th>2</th>\n",
       "      <td>6</td>\n",
       "      <td>1994599</td>\n",
       "    </tr>\n",
       "    <tr>\n",
       "      <th>3</th>\n",
       "      <td>3</td>\n",
       "      <td>20595</td>\n",
       "    </tr>\n",
       "    <tr>\n",
       "      <th>4</th>\n",
       "      <td>3</td>\n",
       "      <td>44074</td>\n",
       "    </tr>\n",
       "  </tbody>\n",
       "</table>\n",
       "</div>"
      ],
      "text/plain": [
       "   Genre  NUMBER_OF_VOTES\n",
       "0      5            31180\n",
       "1     11          2268288\n",
       "2      6          1994599\n",
       "3      3            20595\n",
       "4      3            44074"
      ]
     },
     "execution_count": 34,
     "metadata": {},
     "output_type": "execute_result"
    }
   ],
   "source": [
    "Votes.head(5)"
   ]
  },
  {
   "cell_type": "code",
   "execution_count": 35,
   "id": "90147d67",
   "metadata": {},
   "outputs": [
    {
     "data": {
      "text/plain": [
       "<AxesSubplot: >"
      ]
     },
     "execution_count": 35,
     "metadata": {},
     "output_type": "execute_result"
    },
    {
     "data": {
      "image/png": "[encoded data removed]",
      "text/plain": [
       "<Figure size 432x288 with 1 Axes>"
      ]
     },
     "metadata": {
      "needs_background": "light"
     },
     "output_type": "display_data"
    }
   ],
   "source": [
    "Votes['Genre'].value_counts().plot(kind='bar')"
   ]
  },
  {
   "cell_type": "code",
   "execution_count": 36,
   "id": "2b981f48",
   "metadata": {},
   "outputs": [
    {
     "data": {
      "image/png": "[encoded data removed]",
      "text/plain": [
       "<Figure size 720x504 with 1 Axes>"
      ]
     },
     "metadata": {
      "needs_background": "light"
     },
     "output_type": "display_data"
    }
   ],
   "source": [
    "#bar chart of number of votes for each genre\n",
    "votes = Votes['NUMBER_OF_VOTES'].head(15)\n",
    "genre = Votes['Genre'].head(15)\n",
    "fig = plt.figure(figsize =(10, 7))\n",
    "plt.bar(genre[0:14], votes[0:14])\n",
    "plt.show()"
   ]
  },
  {
   "cell_type": "code",
   "execution_count": 37,
   "id": "426762b3",
   "metadata": {},
   "outputs": [
    {
     "data": {
      "text/plain": [
       "Genre\n",
       "1       535189\n",
       "2       341513\n",
       "3      4703792\n",
       "4      3857710\n",
       "5       504297\n",
       "6     21804564\n",
       "7      2639958\n",
       "8      1759154\n",
       "9        94236\n",
       "10     1428590\n",
       "11     3832671\n",
       "12       21558\n",
       "13     8398468\n",
       "14      141682\n",
       "15     2770109\n",
       "Name: NUMBER_OF_VOTES, dtype: int64"
      ]
     },
     "execution_count": 37,
     "metadata": {},
     "output_type": "execute_result"
    }
   ],
   "source": [
    "Votes.groupby('Genre')['NUMBER_OF_VOTES'].sum()"
   ]
  },
  {
   "cell_type": "code",
   "execution_count": 38,
   "id": "cf45fdfe",
   "metadata": {},
   "outputs": [],
   "source": [
    "import scipy, scipy.stats"
   ]
  },
  {
   "cell_type": "code",
   "execution_count": 40,
   "id": "eaa9222a",
   "metadata": {},
   "outputs": [],
   "source": [
    "import matplotlib.pyplot as plt"
   ]
  },
  {
   "cell_type": "code",
   "execution_count": 42,
   "id": "fc5caca8",
   "metadata": {},
   "outputs": [],
   "source": [
    "from pylab import *"
   ]
  },
  {
   "cell_type": "code",
   "execution_count": 43,
   "id": "30bef4f1",
   "metadata": {},
   "outputs": [],
   "source": [
    "import seaborn as sns"
   ]
  },
  {
   "cell_type": "code",
   "execution_count": 44,
   "id": "29930c7d",
   "metadata": {},
   "outputs": [],
   "source": [
    "%matplotlib inline\n",
    "import  statsmodels.api as sm"
   ]
  },
  {
   "cell_type": "code",
   "execution_count": 45,
   "id": "73ee2118",
   "metadata": {},
   "outputs": [],
   "source": [
    "import statsmodels.stats.api as sms"
   ]
  },
  {
   "cell_type": "code",
   "execution_count": 46,
   "id": "77fc5914",
   "metadata": {},
   "outputs": [],
   "source": [
    "from scipy.stats import boxcox"
   ]
  },
  {
   "cell_type": "code",
   "execution_count": 47,
   "id": "d0035126",
   "metadata": {},
   "outputs": [],
   "source": [
    "#Modeling with Linear Regression\n",
    "#Data Wrangling - Does number of votes influence the score?\n",
    "VotesNRatings = BestMovies[['NUMBER_OF_VOTES', 'SCORE']]"
   ]
  },
  {
   "cell_type": "code",
   "execution_count": 48,
   "id": "885802ab",
   "metadata": {},
   "outputs": [
    {
     "data": {
      "text/html": [
       "<div>\n",
       "<style scoped>\n",
       "    .dataframe tbody tr th:only-of-type {\n",
       "        vertical-align: middle;\n",
       "    }\n",
       "\n",
       "    .dataframe tbody tr th {\n",
       "        vertical-align: top;\n",
       "    }\n",
       "\n",
       "    .dataframe thead th {\n",
       "        text-align: right;\n",
       "    }\n",
       "</style>\n",
       "<table border=\"1\" class=\"dataframe\">\n",
       "  <thead>\n",
       "    <tr style=\"text-align: right;\">\n",
       "      <th></th>\n",
       "      <th>NUMBER_OF_VOTES</th>\n",
       "      <th>SCORE</th>\n",
       "    </tr>\n",
       "  </thead>\n",
       "  <tbody>\n",
       "    <tr>\n",
       "      <th>0</th>\n",
       "      <td>31180</td>\n",
       "      <td>9.0</td>\n",
       "    </tr>\n",
       "    <tr>\n",
       "      <th>1</th>\n",
       "      <td>2268288</td>\n",
       "      <td>8.8</td>\n",
       "    </tr>\n",
       "    <tr>\n",
       "      <th>2</th>\n",
       "      <td>1994599</td>\n",
       "      <td>8.8</td>\n",
       "    </tr>\n",
       "    <tr>\n",
       "      <th>3</th>\n",
       "      <td>20595</td>\n",
       "      <td>8.7</td>\n",
       "    </tr>\n",
       "    <tr>\n",
       "      <th>4</th>\n",
       "      <td>44074</td>\n",
       "      <td>8.7</td>\n",
       "    </tr>\n",
       "  </tbody>\n",
       "</table>\n",
       "</div>"
      ],
      "text/plain": [
       "   NUMBER_OF_VOTES  SCORE\n",
       "0            31180    9.0\n",
       "1          2268288    8.8\n",
       "2          1994599    8.8\n",
       "3            20595    8.7\n",
       "4            44074    8.7"
      ]
     },
     "execution_count": 48,
     "metadata": {},
     "output_type": "execute_result"
    }
   ],
   "source": [
    "VotesNRatings.head(5)"
   ]
  },
  {
   "cell_type": "code",
   "execution_count": 50,
   "id": "6665a0b6",
   "metadata": {},
   "outputs": [],
   "source": [
    "import seaborn as sns"
   ]
  },
  {
   "cell_type": "code",
   "execution_count": 51,
   "id": "c8683c8c",
   "metadata": {},
   "outputs": [
    {
     "data": {
      "text/plain": [
       "<seaborn.axisgrid.PairGrid at 0x17267047190>"
      ]
     },
     "execution_count": 51,
     "metadata": {},
     "output_type": "execute_result"
    },
    {
     "data": {
      "image/png": "[encoded data removed]",
      "text/plain": [
       "<Figure size 360x360 with 6 Axes>"
      ]
     },
     "metadata": {
      "needs_background": "light"
     },
     "output_type": "display_data"
    }
   ],
   "source": [
    "#Testing for Linearity and Normailty\n",
    "sns.pairplot(VotesNRatings)"
   ]
  },
  {
   "cell_type": "code",
   "execution_count": 52,
   "id": "5644e3c6",
   "metadata": {},
   "outputs": [
    {
     "name": "stderr",
     "output_type": "stream",
     "text": [
      "C:\\Users\\ssnip\\AppData\\Local\\Temp\\ipykernel_4796\\3069579758.py:1: UserWarning: \n",
      "\n",
      "`distplot` is a deprecated function and will be removed in seaborn v0.14.0.\n",
      "\n",
      "Please adapt your code to use either `displot` (a figure-level function with\n",
      "similar flexibility) or `histplot` (an axes-level function for histograms).\n",
      "\n",
      "For a guide to updating your code to use the new functions, please see\n",
      "https://gist.github.com/mwaskom/de44147ed2974457ad6372750bbe5751\n",
      "\n",
      "  sns.distplot(VotesNRatings['NUMBER_OF_VOTES'])\n"
     ]
    },
    {
     "data": {
      "text/plain": [
       "<AxesSubplot: xlabel='NUMBER_OF_VOTES', ylabel='Density'>"
      ]
     },
     "execution_count": 52,
     "metadata": {},
     "output_type": "execute_result"
    },
    {
     "data": {
      "image/png": "[encoded data removed]",
      "text/plain": [
       "<Figure size 432x288 with 1 Axes>"
      ]
     },
     "metadata": {
      "needs_background": "light"
     },
     "output_type": "display_data"
    }
   ],
   "source": [
    "#with the normal distribution curve on it.\n",
    "sns.distplot(VotesNRatings['NUMBER_OF_VOTES'])"
   ]
  },
  {
   "cell_type": "code",
   "execution_count": 53,
   "id": "d3fde99c",
   "metadata": {},
   "outputs": [
    {
     "name": "stderr",
     "output_type": "stream",
     "text": [
      "C:\\Users\\ssnip\\AppData\\Local\\Temp\\ipykernel_4796\\745106960.py:1: UserWarning: \n",
      "\n",
      "`distplot` is a deprecated function and will be removed in seaborn v0.14.0.\n",
      "\n",
      "Please adapt your code to use either `displot` (a figure-level function with\n",
      "similar flexibility) or `histplot` (an axes-level function for histograms).\n",
      "\n",
      "For a guide to updating your code to use the new functions, please see\n",
      "https://gist.github.com/mwaskom/de44147ed2974457ad6372750bbe5751\n",
      "\n",
      "  sns.distplot(VotesNRatings['SCORE'])\n"
     ]
    },
    {
     "data": {
      "text/plain": [
       "<AxesSubplot: xlabel='SCORE', ylabel='Density'>"
      ]
     },
     "execution_count": 53,
     "metadata": {},
     "output_type": "execute_result"
    },
    {
     "data": {
      "image/png": "[encoded data removed]",
      "text/plain": [
       "<Figure size 432x288 with 1 Axes>"
      ]
     },
     "metadata": {
      "needs_background": "light"
     },
     "output_type": "display_data"
    }
   ],
   "source": [
    "#with normal distribution curve on it\n",
    "sns.distplot(VotesNRatings['SCORE'])"
   ]
  },
  {
   "cell_type": "code",
   "execution_count": 55,
   "id": "499cc296",
   "metadata": {},
   "outputs": [],
   "source": [
    "#Testing for Homoscedasticity\n",
    "x = VotesNRatings ['SCORE']\n",
    "y = VotesNRatings ['NUMBER_OF_VOTES']\n",
    "model = sm.OLS(y,x).fit()"
   ]
  },
  {
   "cell_type": "code",
   "execution_count": 56,
   "id": "948b8cf2",
   "metadata": {},
   "outputs": [],
   "source": [
    "pred_val = model.fittedvalues.copy()\n",
    "true_val = VotesNRatings['NUMBER_OF_VOTES'].values.copy()\n",
    "residual = true_val - pred_val"
   ]
  },
  {
   "cell_type": "code",
   "execution_count": 57,
   "id": "0fbf487a",
   "metadata": {},
   "outputs": [
    {
     "data": {
      "image/png": "[encoded data removed]",
      "text/plain": [
       "<Figure size 432x180 with 1 Axes>"
      ]
     },
     "metadata": {
      "needs_background": "light"
     },
     "output_type": "display_data"
    }
   ],
   "source": [
    "fig, ax = plt.subplots(figsize=(6, 2.5))\n",
    "_ = ax.scatter(residual, pred_val)"
   ]
  },
  {
   "cell_type": "code",
   "execution_count": 58,
   "id": "cf87e47c",
   "metadata": {},
   "outputs": [
    {
     "data": {
      "text/plain": [
       "(13.896687131771849, nan, 14.3770399453902, 0.00017357011368844888)"
      ]
     },
     "execution_count": 58,
     "metadata": {},
     "output_type": "execute_result"
    }
   ],
   "source": [
    "#Results show that this test has violated the assumption of homoscedasticity and the data is, in fact, heteroscedastic.\n",
    "sms.diagnostic.het_breuschpagan(residual, VotesNRatings[['SCORE']])"
   ]
  },
  {
   "cell_type": "code",
   "execution_count": 59,
   "id": "443a6bd8",
   "metadata": {},
   "outputs": [
    {
     "data": {
      "text/plain": [
       "Ttest_1sampResult(statistic=-9.409672334175605, pvalue=4.698038955265751e-19)"
      ]
     },
     "execution_count": 59,
     "metadata": {},
     "output_type": "execute_result"
    }
   ],
   "source": [
    "#Model for Harvey Collier test.  Violated assumption.\n",
    "sms.linear_harvey_collier(model)"
   ]
  },
  {
   "cell_type": "code",
   "execution_count": 60,
   "id": "49d6da88",
   "metadata": {},
   "outputs": [
    {
     "data": {
      "text/plain": [
       "(array([63., 39., 30., 64., 56., 46., 31., 44.,  9.,  5.]),\n",
       " array([0.25963391, 0.25964373, 0.25965355, 0.25966337, 0.25967318,\n",
       "        0.259683  , 0.25969282, 0.25970264, 0.25971246, 0.25972228,\n",
       "        0.2597321 ]),\n",
       " <BarContainer object of 10 artists>)"
      ]
     },
     "execution_count": 60,
     "metadata": {},
     "output_type": "execute_result"
    },
    {
     "data": {
      "image/png": "[encoded data removed]",
      "text/plain": [
       "<Figure size 432x288 with 1 Axes>"
      ]
     },
     "metadata": {
      "needs_background": "light"
     },
     "output_type": "display_data"
    }
   ],
   "source": [
    "#Transforming Score Variable\n",
    "transformed, _ = boxcox(VotesNRatings['SCORE'])\n",
    "plt.hist(transformed)"
   ]
  },
  {
   "cell_type": "code",
   "execution_count": 61,
   "id": "478811bd",
   "metadata": {},
   "outputs": [
    {
     "data": {
      "text/html": [
       "<table class=\"simpletable\">\n",
       "<caption>OLS Regression Results</caption>\n",
       "<tr>\n",
       "  <th>Dep. Variable:</th>     <td>NUMBER_OF_VOTES</td> <th>  R-squared (uncentered):</th>      <td>   0.254</td> \n",
       "</tr>\n",
       "<tr>\n",
       "  <th>Model:</th>                   <td>OLS</td>       <th>  Adj. R-squared (uncentered):</th> <td>   0.252</td> \n",
       "</tr>\n",
       "<tr>\n",
       "  <th>Method:</th>             <td>Least Squares</td>  <th>  F-statistic:       </th>          <td>   131.5</td> \n",
       "</tr>\n",
       "<tr>\n",
       "  <th>Date:</th>             <td>Sun, 22 Jan 2023</td> <th>  Prob (F-statistic):</th>          <td>2.13e-26</td> \n",
       "</tr>\n",
       "<tr>\n",
       "  <th>Time:</th>                 <td>13:10:50</td>     <th>  Log-Likelihood:    </th>          <td> -5333.5</td> \n",
       "</tr>\n",
       "<tr>\n",
       "  <th>No. Observations:</th>      <td>   387</td>      <th>  AIC:               </th>          <td>1.067e+04</td>\n",
       "</tr>\n",
       "<tr>\n",
       "  <th>Df Residuals:</th>          <td>   386</td>      <th>  BIC:               </th>          <td>1.067e+04</td>\n",
       "</tr>\n",
       "<tr>\n",
       "  <th>Df Model:</th>              <td>     1</td>      <th>                     </th>              <td> </td>    \n",
       "</tr>\n",
       "<tr>\n",
       "  <th>Covariance Type:</th>      <td>nonrobust</td>    <th>                     </th>              <td> </td>    \n",
       "</tr>\n",
       "</table>\n",
       "<table class=\"simpletable\">\n",
       "<tr>\n",
       "   <td></td>     <th>coef</th>     <th>std err</th>      <th>t</th>      <th>P>|t|</th>  <th>[0.025</th>    <th>0.975]</th>  \n",
       "</tr>\n",
       "<tr>\n",
       "  <th>x1</th> <td> 5.258e+05</td> <td> 4.58e+04</td> <td>   11.468</td> <td> 0.000</td> <td> 4.36e+05</td> <td> 6.16e+05</td>\n",
       "</tr>\n",
       "</table>\n",
       "<table class=\"simpletable\">\n",
       "<tr>\n",
       "  <th>Omnibus:</th>       <td>406.497</td> <th>  Durbin-Watson:     </th> <td>   1.411</td> \n",
       "</tr>\n",
       "<tr>\n",
       "  <th>Prob(Omnibus):</th> <td> 0.000</td>  <th>  Jarque-Bera (JB):  </th> <td>16890.449</td>\n",
       "</tr>\n",
       "<tr>\n",
       "  <th>Skew:</th>          <td> 4.638</td>  <th>  Prob(JB):          </th> <td>    0.00</td> \n",
       "</tr>\n",
       "<tr>\n",
       "  <th>Kurtosis:</th>      <td>34.007</td>  <th>  Cond. No.          </th> <td>    1.00</td> \n",
       "</tr>\n",
       "</table><br/><br/>Notes:<br/>[1] R² is computed without centering (uncentered) since the model does not contain a constant.<br/>[2] Standard Errors assume that the covariance matrix of the errors is correctly specified."
      ],
      "text/plain": [
       "<class 'statsmodels.iolib.summary.Summary'>\n",
       "\"\"\"\n",
       "                                 OLS Regression Results                                \n",
       "=======================================================================================\n",
       "Dep. Variable:        NUMBER_OF_VOTES   R-squared (uncentered):                   0.254\n",
       "Model:                            OLS   Adj. R-squared (uncentered):              0.252\n",
       "Method:                 Least Squares   F-statistic:                              131.5\n",
       "Date:                Sun, 22 Jan 2023   Prob (F-statistic):                    2.13e-26\n",
       "Time:                        13:10:50   Log-Likelihood:                         -5333.5\n",
       "No. Observations:                 387   AIC:                                  1.067e+04\n",
       "Df Residuals:                     386   BIC:                                  1.067e+04\n",
       "Df Model:                           1                                                  \n",
       "Covariance Type:            nonrobust                                                  \n",
       "==============================================================================\n",
       "                 coef    std err          t      P>|t|      [0.025      0.975]\n",
       "------------------------------------------------------------------------------\n",
       "x1          5.258e+05   4.58e+04     11.468      0.000    4.36e+05    6.16e+05\n",
       "==============================================================================\n",
       "Omnibus:                      406.497   Durbin-Watson:                   1.411\n",
       "Prob(Omnibus):                  0.000   Jarque-Bera (JB):            16890.449\n",
       "Skew:                           4.638   Prob(JB):                         0.00\n",
       "Kurtosis:                      34.007   Cond. No.                         1.00\n",
       "==============================================================================\n",
       "\n",
       "Notes:\n",
       "[1] R² is computed without centering (uncentered) since the model does not contain a constant.\n",
       "[2] Standard Errors assume that the covariance matrix of the errors is correctly specified.\n",
       "\"\"\""
      ]
     },
     "execution_count": 61,
     "metadata": {},
     "output_type": "execute_result"
    }
   ],
   "source": [
    "x = transformed\n",
    "model1 = sm.OLS(y,x).fit()\n",
    "model1.summary()"
   ]
  },
  {
   "cell_type": "code",
   "execution_count": 62,
   "id": "f215543b",
   "metadata": {},
   "outputs": [],
   "source": [
    "pred_val = model1.fittedvalues.copy()\n",
    "true_val = VotesNRatings['NUMBER_OF_VOTES'].values.copy()\n",
    "residual = true_val - pred_val"
   ]
  },
  {
   "cell_type": "code",
   "execution_count": 63,
   "id": "01ce0424",
   "metadata": {},
   "outputs": [
    {
     "data": {
      "image/png": "[encoded data removed]",
      "text/plain": [
       "<Figure size 432x180 with 1 Axes>"
      ]
     },
     "metadata": {
      "needs_background": "light"
     },
     "output_type": "display_data"
    }
   ],
   "source": [
    "#not sure if this replot is correct\n",
    "fig, ax = plt.subplots(figsize=(6, 2.5))\n",
    "_ = ax.scatter(residual, pred_val)"
   ]
  },
  {
   "cell_type": "code",
   "execution_count": 64,
   "id": "4a697930",
   "metadata": {},
   "outputs": [
    {
     "data": {
      "text/html": [
       "<div>\n",
       "<style scoped>\n",
       "    .dataframe tbody tr th:only-of-type {\n",
       "        vertical-align: middle;\n",
       "    }\n",
       "\n",
       "    .dataframe tbody tr th {\n",
       "        vertical-align: top;\n",
       "    }\n",
       "\n",
       "    .dataframe thead th {\n",
       "        text-align: right;\n",
       "    }\n",
       "</style>\n",
       "<table border=\"1\" class=\"dataframe\">\n",
       "  <thead>\n",
       "    <tr style=\"text-align: right;\">\n",
       "      <th></th>\n",
       "      <th>NUMBER_OF_VOTES</th>\n",
       "      <th>SCORE</th>\n",
       "    </tr>\n",
       "  </thead>\n",
       "  <tbody>\n",
       "    <tr>\n",
       "      <th>NUMBER_OF_VOTES</th>\n",
       "      <td>1.000000</td>\n",
       "      <td>0.343683</td>\n",
       "    </tr>\n",
       "    <tr>\n",
       "      <th>SCORE</th>\n",
       "      <td>0.343683</td>\n",
       "      <td>1.000000</td>\n",
       "    </tr>\n",
       "  </tbody>\n",
       "</table>\n",
       "</div>"
      ],
      "text/plain": [
       "                 NUMBER_OF_VOTES     SCORE\n",
       "NUMBER_OF_VOTES         1.000000  0.343683\n",
       "SCORE                   0.343683  1.000000"
      ]
     },
     "execution_count": 64,
     "metadata": {},
     "output_type": "execute_result"
    }
   ],
   "source": [
    "#Testing for Multicollinearity\n",
    "VotesNRatings.corr()"
   ]
  },
  {
   "cell_type": "code",
   "execution_count": 65,
   "id": "8eae2f5a",
   "metadata": {},
   "outputs": [
    {
     "data": {
      "text/plain": [
       "<AxesSubplot: >"
      ]
     },
     "execution_count": 65,
     "metadata": {},
     "output_type": "execute_result"
    },
    {
     "data": {
      "image/png": "[encoded data removed]",
      "text/plain": [
       "<Figure size 432x288 with 2 Axes>"
      ]
     },
     "metadata": {
      "needs_background": "light"
     },
     "output_type": "display_data"
    }
   ],
   "source": [
    "#heat map\n",
    "sns.heatmap(VotesNRatings.corr(), annot=True)"
   ]
  },
  {
   "cell_type": "code",
   "execution_count": 66,
   "id": "b79ec7d5",
   "metadata": {},
   "outputs": [
    {
     "data": {
      "image/png": "[encoded data removed]",
      "text/plain": [
       "<Figure size 864x576 with 1 Axes>"
      ]
     },
     "metadata": {
      "needs_background": "light"
     },
     "output_type": "display_data"
    }
   ],
   "source": [
    "#Screening for Outliers\n",
    "fig, ax = plt.subplots(figsize=(12,8))\n",
    "fig = sm.graphics.influence_plot(model, alpha = .05, ax = ax, criterion=\"cooks\")"
   ]
  },
  {
   "cell_type": "code",
   "execution_count": 67,
   "id": "e620d864",
   "metadata": {},
   "outputs": [],
   "source": [
    "#1,2,5 and 6 stick out and need to be removed..."
   ]
  },
  {
   "cell_type": "code",
   "execution_count": 68,
   "id": "b66f2dd0",
   "metadata": {},
   "outputs": [
    {
     "name": "stdout",
     "output_type": "stream",
     "text": [
      "     dfb_SCORE   cooks_d  standard_resid  hat_diag  dffits_internal  \\\n",
      "0    -0.036230  0.001315       -0.595086  0.003699        -0.036261   \n",
      "1     0.610946  0.293934        9.100424  0.003537         0.542157   \n",
      "2     0.514622  0.222416        7.916261  0.003537         0.471610   \n",
      "3    -0.036279  0.001318       -0.616479  0.003457        -0.036308   \n",
      "4    -0.030296  0.000920       -0.514897  0.003457        -0.030325   \n",
      "..         ...       ...             ...       ...              ...   \n",
      "382  -0.022106  0.000490       -0.474038  0.002174        -0.022128   \n",
      "383  -0.016479  0.000272       -0.353419  0.002174        -0.016498   \n",
      "384   0.040417  0.001635        0.866099  0.002174         0.040430   \n",
      "385  -0.021779  0.000475       -0.467025  0.002174        -0.021801   \n",
      "386  -0.010823  0.000117       -0.232139  0.002174        -0.010836   \n",
      "\n",
      "     student_resid    dffits  \n",
      "0        -0.594588 -0.036230  \n",
      "1        10.255104  0.610946  \n",
      "2         8.638246  0.514622  \n",
      "3        -0.615984 -0.036279  \n",
      "4        -0.514407 -0.030296  \n",
      "..             ...       ...  \n",
      "382      -0.473561 -0.022106  \n",
      "383      -0.353018 -0.016479  \n",
      "384       0.865819  0.040417  \n",
      "385      -0.466551 -0.021779  \n",
      "386      -0.231854 -0.010823  \n",
      "\n",
      "[387 rows x 7 columns]\n"
     ]
    }
   ],
   "source": [
    "#reviewing the actual data\n",
    "infl = model.get_influence()\n",
    "print(infl.summary_frame())"
   ]
  },
  {
   "cell_type": "code",
   "execution_count": 69,
   "id": "38a83b16",
   "metadata": {},
   "outputs": [],
   "source": [
    "#student_resid shows an oulier problem.. with a value over 8.6 and one over 10."
   ]
  },
  {
   "cell_type": "code",
   "execution_count": 70,
   "id": "586b852d",
   "metadata": {},
   "outputs": [
    {
     "data": {
      "text/html": [
       "<table class=\"simpletable\">\n",
       "<caption>OLS Regression Results</caption>\n",
       "<tr>\n",
       "  <th>Dep. Variable:</th>     <td>NUMBER_OF_VOTES</td> <th>  R-squared (uncentered):</th>      <td>   0.271</td> \n",
       "</tr>\n",
       "<tr>\n",
       "  <th>Model:</th>                   <td>OLS</td>       <th>  Adj. R-squared (uncentered):</th> <td>   0.269</td> \n",
       "</tr>\n",
       "<tr>\n",
       "  <th>Method:</th>             <td>Least Squares</td>  <th>  F-statistic:       </th>          <td>   143.5</td> \n",
       "</tr>\n",
       "<tr>\n",
       "  <th>Date:</th>             <td>Sun, 22 Jan 2023</td> <th>  Prob (F-statistic):</th>          <td>2.45e-28</td> \n",
       "</tr>\n",
       "<tr>\n",
       "  <th>Time:</th>                 <td>13:23:41</td>     <th>  Log-Likelihood:    </th>          <td> -5329.0</td> \n",
       "</tr>\n",
       "<tr>\n",
       "  <th>No. Observations:</th>      <td>   387</td>      <th>  AIC:               </th>          <td>1.066e+04</td>\n",
       "</tr>\n",
       "<tr>\n",
       "  <th>Df Residuals:</th>          <td>   386</td>      <th>  BIC:               </th>          <td>1.066e+04</td>\n",
       "</tr>\n",
       "<tr>\n",
       "  <th>Df Model:</th>              <td>     1</td>      <th>                     </th>              <td> </td>    \n",
       "</tr>\n",
       "<tr>\n",
       "  <th>Covariance Type:</th>      <td>nonrobust</td>    <th>                     </th>              <td> </td>    \n",
       "</tr>\n",
       "</table>\n",
       "<table class=\"simpletable\">\n",
       "<tr>\n",
       "    <td></td>       <th>coef</th>     <th>std err</th>      <th>t</th>      <th>P>|t|</th>  <th>[0.025</th>    <th>0.975]</th>  \n",
       "</tr>\n",
       "<tr>\n",
       "  <th>SCORE</th> <td> 1.875e+04</td> <td> 1564.682</td> <td>   11.980</td> <td> 0.000</td> <td> 1.57e+04</td> <td> 2.18e+04</td>\n",
       "</tr>\n",
       "</table>\n",
       "<table class=\"simpletable\">\n",
       "<tr>\n",
       "  <th>Omnibus:</th>       <td>405.410</td> <th>  Durbin-Watson:     </th> <td>   1.444</td> \n",
       "</tr>\n",
       "<tr>\n",
       "  <th>Prob(Omnibus):</th> <td> 0.000</td>  <th>  Jarque-Bera (JB):  </th> <td>16769.482</td>\n",
       "</tr>\n",
       "<tr>\n",
       "  <th>Skew:</th>          <td> 4.619</td>  <th>  Prob(JB):          </th> <td>    0.00</td> \n",
       "</tr>\n",
       "<tr>\n",
       "  <th>Kurtosis:</th>      <td>33.897</td>  <th>  Cond. No.          </th> <td>    1.00</td> \n",
       "</tr>\n",
       "</table><br/><br/>Notes:<br/>[1] R² is computed without centering (uncentered) since the model does not contain a constant.<br/>[2] Standard Errors assume that the covariance matrix of the errors is correctly specified."
      ],
      "text/plain": [
       "<class 'statsmodels.iolib.summary.Summary'>\n",
       "\"\"\"\n",
       "                                 OLS Regression Results                                \n",
       "=======================================================================================\n",
       "Dep. Variable:        NUMBER_OF_VOTES   R-squared (uncentered):                   0.271\n",
       "Model:                            OLS   Adj. R-squared (uncentered):              0.269\n",
       "Method:                 Least Squares   F-statistic:                              143.5\n",
       "Date:                Sun, 22 Jan 2023   Prob (F-statistic):                    2.45e-28\n",
       "Time:                        13:23:41   Log-Likelihood:                         -5329.0\n",
       "No. Observations:                 387   AIC:                                  1.066e+04\n",
       "Df Residuals:                     386   BIC:                                  1.066e+04\n",
       "Df Model:                           1                                                  \n",
       "Covariance Type:            nonrobust                                                  \n",
       "==============================================================================\n",
       "                 coef    std err          t      P>|t|      [0.025      0.975]\n",
       "------------------------------------------------------------------------------\n",
       "SCORE       1.875e+04   1564.682     11.980      0.000    1.57e+04    2.18e+04\n",
       "==============================================================================\n",
       "Omnibus:                      405.410   Durbin-Watson:                   1.444\n",
       "Prob(Omnibus):                  0.000   Jarque-Bera (JB):            16769.482\n",
       "Skew:                           4.619   Prob(JB):                         0.00\n",
       "Kurtosis:                      33.897   Cond. No.                         1.00\n",
       "==============================================================================\n",
       "\n",
       "Notes:\n",
       "[1] R² is computed without centering (uncentered) since the model does not contain a constant.\n",
       "[2] Standard Errors assume that the covariance matrix of the errors is correctly specified.\n",
       "\"\"\""
      ]
     },
     "execution_count": 70,
     "metadata": {},
     "output_type": "execute_result"
    }
   ],
   "source": [
    "#Interpreting the Regression Output - Shows that number of votes account for 27% of the scores for this Netflix dataset\n",
    "\n",
    "model.summary()"
   ]
  },
  {
   "cell_type": "code",
   "execution_count": null,
   "id": "9c49093f",
   "metadata": {},
   "outputs": [],
   "source": []
  }
 ],
 "metadata": {
  "kernelspec": {
   "display_name": "Python 3 (ipykernel)",
   "language": "python",
   "name": "python3"
  },
  "language_info": {
   "codemirror_mode": {
    "name": "ipython",
    "version": 3
   },
   "file_extension": ".py",
   "mimetype": "text/x-python",
   "name": "python",
   "nbconvert_exporter": "python",
   "pygments_lexer": "ipython3",
   "version": "3.10.6"
  }
 },
 "nbformat": 4,
 "nbformat_minor": 5
}
