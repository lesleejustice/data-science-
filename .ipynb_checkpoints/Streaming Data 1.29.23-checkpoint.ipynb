{
 "cells": [
  {
   "cell_type": "code",
   "execution_count": 1,
   "id": "a03a8eec",
   "metadata": {},
   "outputs": [],
   "source": [
    "import pandas as pd\n",
    "import matplotlib.mlab as mlab\n",
    "import matplotlib.pyplot as plt\n",
    "import seaborn as sns"
   ]
  },
  {
   "cell_type": "code",
   "execution_count": 2,
   "id": "4b320e13",
   "metadata": {},
   "outputs": [],
   "source": [
    "streamingdata = pd.read_csv(\"C:/Users/ssnip/OneDrive/Data Science/Final Project/Data/All Streaming Data 1.29.23.csv\")"
   ]
  },
  {
   "cell_type": "code",
   "execution_count": 3,
   "id": "fcac8290",
   "metadata": {},
   "outputs": [
    {
     "data": {
      "text/html": [
       "<div>\n",
       "<style scoped>\n",
       "    .dataframe tbody tr th:only-of-type {\n",
       "        vertical-align: middle;\n",
       "    }\n",
       "\n",
       "    .dataframe tbody tr th {\n",
       "        vertical-align: top;\n",
       "    }\n",
       "\n",
       "    .dataframe thead th {\n",
       "        text-align: right;\n",
       "    }\n",
       "</style>\n",
       "<table border=\"1\" class=\"dataframe\">\n",
       "  <thead>\n",
       "    <tr style=\"text-align: right;\">\n",
       "      <th></th>\n",
       "      <th>platform</th>\n",
       "      <th>id</th>\n",
       "      <th>title</th>\n",
       "      <th>type</th>\n",
       "      <th>description</th>\n",
       "      <th>release_year</th>\n",
       "      <th>age_certification</th>\n",
       "      <th>runtime</th>\n",
       "      <th>genres</th>\n",
       "      <th>production_countries</th>\n",
       "      <th>...</th>\n",
       "      <th>genre1</th>\n",
       "      <th>genre2</th>\n",
       "      <th>genre3</th>\n",
       "      <th>genre4</th>\n",
       "      <th>genre5</th>\n",
       "      <th>genre6</th>\n",
       "      <th>genre7</th>\n",
       "      <th>genre8</th>\n",
       "      <th>genre9</th>\n",
       "      <th>genre10</th>\n",
       "    </tr>\n",
       "  </thead>\n",
       "  <tbody>\n",
       "    <tr>\n",
       "      <th>0</th>\n",
       "      <td>Disney</td>\n",
       "      <td>tm19438</td>\n",
       "      <td>The Princess Bride</td>\n",
       "      <td>MOVIE</td>\n",
       "      <td>In this enchantingly cracked fairy tale, the b...</td>\n",
       "      <td>1987</td>\n",
       "      <td>PG</td>\n",
       "      <td>99</td>\n",
       "      <td>fantasy, family, romance</td>\n",
       "      <td>['US']</td>\n",
       "      <td>...</td>\n",
       "      <td>fantasy</td>\n",
       "      <td>family</td>\n",
       "      <td>romance</td>\n",
       "      <td>NaN</td>\n",
       "      <td>NaN</td>\n",
       "      <td>NaN</td>\n",
       "      <td>NaN</td>\n",
       "      <td>NaN</td>\n",
       "      <td>NaN</td>\n",
       "      <td>NaN</td>\n",
       "    </tr>\n",
       "    <tr>\n",
       "      <th>1</th>\n",
       "      <td>Disney</td>\n",
       "      <td>ts20711</td>\n",
       "      <td>The Simpsons</td>\n",
       "      <td>SHOW</td>\n",
       "      <td>The satiric adventures of a working-class fami...</td>\n",
       "      <td>1989</td>\n",
       "      <td>TV-14</td>\n",
       "      <td>27</td>\n",
       "      <td>animation, comedy</td>\n",
       "      <td>['US']</td>\n",
       "      <td>...</td>\n",
       "      <td>animation</td>\n",
       "      <td>comedy</td>\n",
       "      <td>NaN</td>\n",
       "      <td>NaN</td>\n",
       "      <td>NaN</td>\n",
       "      <td>NaN</td>\n",
       "      <td>NaN</td>\n",
       "      <td>NaN</td>\n",
       "      <td>NaN</td>\n",
       "      <td>NaN</td>\n",
       "    </tr>\n",
       "    <tr>\n",
       "      <th>2</th>\n",
       "      <td>Disney</td>\n",
       "      <td>ts15377</td>\n",
       "      <td>America's Funniest Home Videos</td>\n",
       "      <td>SHOW</td>\n",
       "      <td>America's Funniest Home Videos is the longest-...</td>\n",
       "      <td>1989</td>\n",
       "      <td>TV-PG</td>\n",
       "      <td>49</td>\n",
       "      <td>animation, reality, comedy</td>\n",
       "      <td>['US']</td>\n",
       "      <td>...</td>\n",
       "      <td>animation</td>\n",
       "      <td>reality</td>\n",
       "      <td>comedy</td>\n",
       "      <td>NaN</td>\n",
       "      <td>NaN</td>\n",
       "      <td>NaN</td>\n",
       "      <td>NaN</td>\n",
       "      <td>NaN</td>\n",
       "      <td>NaN</td>\n",
       "      <td>NaN</td>\n",
       "    </tr>\n",
       "  </tbody>\n",
       "</table>\n",
       "<p>3 rows × 26 columns</p>\n",
       "</div>"
      ],
      "text/plain": [
       "  platform       id                           title   type  \\\n",
       "0   Disney  tm19438              The Princess Bride  MOVIE   \n",
       "1   Disney  ts20711                    The Simpsons   SHOW   \n",
       "2   Disney  ts15377  America's Funniest Home Videos   SHOW   \n",
       "\n",
       "                                         description  release_year  \\\n",
       "0  In this enchantingly cracked fairy tale, the b...          1987   \n",
       "1  The satiric adventures of a working-class fami...          1989   \n",
       "2  America's Funniest Home Videos is the longest-...          1989   \n",
       "\n",
       "  age_certification  runtime                      genres production_countries  \\\n",
       "0                PG       99    fantasy, family, romance               ['US']   \n",
       "1             TV-14       27           animation, comedy               ['US']   \n",
       "2             TV-PG       49  animation, reality, comedy               ['US']   \n",
       "\n",
       "   ...     genre1   genre2   genre3  genre4  genre5  genre6 genre7 genre8  \\\n",
       "0  ...    fantasy   family  romance     NaN     NaN     NaN    NaN    NaN   \n",
       "1  ...  animation   comedy      NaN     NaN     NaN     NaN    NaN    NaN   \n",
       "2  ...  animation  reality   comedy     NaN     NaN     NaN    NaN    NaN   \n",
       "\n",
       "  genre9 genre10  \n",
       "0    NaN     NaN  \n",
       "1    NaN     NaN  \n",
       "2    NaN     NaN  \n",
       "\n",
       "[3 rows x 26 columns]"
      ]
     },
     "execution_count": 3,
     "metadata": {},
     "output_type": "execute_result"
    }
   ],
   "source": [
    "streamingdata.head(3)"
   ]
  },
  {
   "cell_type": "code",
   "execution_count": 4,
   "id": "373df152",
   "metadata": {},
   "outputs": [
    {
     "data": {
      "text/plain": [
       "platform                19654\n",
       "id                      19654\n",
       "title                   19653\n",
       "type                    19654\n",
       "description             19498\n",
       "release_year            19654\n",
       "age_certification        9538\n",
       "runtime                 19654\n",
       "genres                  19654\n",
       "production_countries    19654\n",
       "seasons                  5208\n",
       "imdb_id                 18047\n",
       "imdb_score              17558\n",
       "imdb_votes              17528\n",
       "tmdb_popularity         18955\n",
       "tmdb_score              16992\n",
       "genre1                  19654\n",
       "genre2                  13794\n",
       "genre3                   8309\n",
       "genre4                   4000\n",
       "genre5                   1695\n",
       "genre6                    620\n",
       "genre7                    218\n",
       "genre8                     67\n",
       "genre9                     18\n",
       "genre10                     2\n",
       "dtype: int64"
      ]
     },
     "execution_count": 4,
     "metadata": {},
     "output_type": "execute_result"
    }
   ],
   "source": [
    "streamingdata.count()"
   ]
  },
  {
   "cell_type": "code",
   "execution_count": 30,
   "id": "a0dcc61a",
   "metadata": {},
   "outputs": [],
   "source": [
    "#recode genre1\n",
    "def genre (series):\n",
    "  if series == \"genre1\":\n",
    "    return \"0\"\n",
    "  if series == \"action\": \n",
    "    return \"1\"\n",
    "  if series == \"animation\": \n",
    "    return \"2\"\n",
    "  if series == \"comedy\":\n",
    "    return \"3\"\n",
    "  if series == \"crime\":\n",
    "    return \"4\"\n",
    "  if series == \"documentation\":\n",
    "    return \"5\"\n",
    "  if series == \"drama\":\n",
    "    return \"6\"\n",
    "  if series == \"european\":\n",
    "    return \"7\"    \n",
    "  if series == \"family\":\n",
    "    return \"8\"\n",
    "  if series == \"fantasy\":\n",
    "    return \"9\"\n",
    "  if series == \"history\":\n",
    "    return \"10\"\n",
    "  if series == \"horror\":\n",
    "    return \"11\"\n",
    "  if series == \"music\":\n",
    "    return \"12\"\n",
    "  if series == \"reality\":\n",
    "    return \"13\"\n",
    "  if series == \"romance\":\n",
    "    return \"14\"\n",
    "  if series == \"scifi\":\n",
    "    return \"15\"\n",
    "  if series == \"sport\":\n",
    "    return \"16\"\n",
    "  if series == \"thriller\":\n",
    "    return \"17\"\n",
    "  if series == \"war\":\n",
    "    return \"18\"\n",
    "  if series == \"western\":\n",
    "    return \"19\"\n",
    "  if series == \"None\":\n",
    "    return \"20\"    \n",
    "streamingdata[\"genre\"] = streamingdata[\"genre1\"].apply(genre)"
   ]
  },
  {
   "cell_type": "code",
   "execution_count": 33,
   "id": "6cb0381f",
   "metadata": {},
   "outputs": [
    {
     "data": {
      "text/plain": [
       "6     4645\n",
       "3     3655\n",
       "5     1993\n",
       "17    1662\n",
       "1     1126\n",
       "2     1092\n",
       "15     949\n",
       "14     824\n",
       "11     813\n",
       "4      611\n",
       "9      491\n",
       "13     473\n",
       "19     448\n",
       "12     183\n",
       "8      134\n",
       "18     116\n",
       "10      84\n",
       "16      29\n",
       "7        6\n",
       "Name: genre, dtype: int64"
      ]
     },
     "execution_count": 33,
     "metadata": {},
     "output_type": "execute_result"
    }
   ],
   "source": [
    "streamingdata.genre.value_counts()"
   ]
  },
  {
   "cell_type": "code",
   "execution_count": 34,
   "id": "52a73f32",
   "metadata": {},
   "outputs": [],
   "source": [
    "#recode type\n",
    "def program_type (series):\n",
    "  if series == \"type\":\n",
    "    return \"0\"\n",
    "  if series == \"SHOW\": \n",
    "    return \"1\"\n",
    "  if series == \"MOVIE\": \n",
    "    return \"2\"\n",
    "streamingdata[\"program_type\"] = streamingdata[\"type\"].apply(program_type)"
   ]
  },
  {
   "cell_type": "code",
   "execution_count": 35,
   "id": "f7e56a4f",
   "metadata": {},
   "outputs": [],
   "source": [
    "#recode platform\n",
    "def Platform (series):\n",
    "  if series == \"platform\":\n",
    "    return \"0\"\n",
    "  if series == \"Netflix\": \n",
    "    return \"1\"\n",
    "  if series == \"Disney\": \n",
    "    return \"2\"\n",
    "  if series == \"Hulu\":\n",
    "    return \"3\"\n",
    "  if series == \"Amazon\":\n",
    "    return \"4\"\n",
    "streamingdata[\"Platform\"] = streamingdata[\"platform\"].apply(Platform)"
   ]
  },
  {
   "cell_type": "code",
   "execution_count": 54,
   "id": "1e65d89b",
   "metadata": {},
   "outputs": [],
   "source": [
    "#creating decade from release year\n",
    "def decade (series):\n",
    "  if series == \"release_year\":\n",
    "    return 0\n",
    "  if series <= 1969: \n",
    "    return 1\n",
    "  if series <= 1979: \n",
    "    return 2\n",
    "  if series <= 1989:\n",
    "    return 3\n",
    "  if series <= 1999:\n",
    "    return 4\n",
    "  if series <= 2009:\n",
    "    return 5\n",
    "  if series <= 2019:\n",
    "    return 6\n",
    "  if series <= 2029:\n",
    "    return 7\n",
    "streamingdata[\"decade\"] = streamingdata[\"release_year\"].apply(decade)"
   ]
  },
  {
   "cell_type": "code",
   "execution_count": 55,
   "id": "8cd213c4",
   "metadata": {},
   "outputs": [
    {
     "name": "stdout",
     "output_type": "stream",
     "text": [
      "platform                 object\n",
      "id                       object\n",
      "title                    object\n",
      "type                     object\n",
      "description              object\n",
      "release_year              int64\n",
      "age_certification        object\n",
      "runtime                   int64\n",
      "genres                   object\n",
      "production_countries     object\n",
      "seasons                 float64\n",
      "imdb_id                  object\n",
      "imdb_score              float64\n",
      "imdb_votes              float64\n",
      "tmdb_popularity         float64\n",
      "tmdb_score              float64\n",
      "genre1                   object\n",
      "genre2                   object\n",
      "genre3                   object\n",
      "genre4                   object\n",
      "genre5                   object\n",
      "genre6                   object\n",
      "genre7                   object\n",
      "genre8                   object\n",
      "genre9                   object\n",
      "genre10                  object\n",
      "genre                    object\n",
      "program_type             object\n",
      "Platform                 object\n",
      "decade                    int64\n",
      "dtype: object\n"
     ]
    }
   ],
   "source": [
    "print(streamingdata.dtypes)"
   ]
  },
  {
   "cell_type": "code",
   "execution_count": 56,
   "id": "e0c63380",
   "metadata": {},
   "outputs": [],
   "source": [
    "sd1 = streamingdata.drop(['platform','title','type', 'description', 'age_certification', 'genres', \n",
    "                        'production_countries','seasons','genre1', 'genre2', 'genre3', 'genre4', 'genre5', 'genre6', \n",
    "                        'genre7','genre8', 'genre9', 'genre10'], axis=1)"
   ]
  },
  {
   "cell_type": "code",
   "execution_count": 57,
   "id": "2887fb46",
   "metadata": {},
   "outputs": [
    {
     "name": "stdout",
     "output_type": "stream",
     "text": [
      "id                  object\n",
      "release_year         int64\n",
      "runtime              int64\n",
      "imdb_id             object\n",
      "imdb_score         float64\n",
      "imdb_votes         float64\n",
      "tmdb_popularity    float64\n",
      "tmdb_score         float64\n",
      "genre               object\n",
      "program_type        object\n",
      "Platform            object\n",
      "decade               int64\n",
      "dtype: object\n"
     ]
    }
   ],
   "source": [
    "print(sd1.dtypes)"
   ]
  },
  {
   "cell_type": "code",
   "execution_count": 58,
   "id": "7a569399",
   "metadata": {},
   "outputs": [],
   "source": [
    "import numpy as np"
   ]
  },
  {
   "cell_type": "code",
   "execution_count": 59,
   "id": "6eebb9e7",
   "metadata": {},
   "outputs": [
    {
     "data": {
      "text/plain": [
       "id                    0\n",
       "release_year          0\n",
       "runtime               0\n",
       "imdb_id            1607\n",
       "imdb_score         2096\n",
       "imdb_votes         2126\n",
       "tmdb_popularity     699\n",
       "tmdb_score         2662\n",
       "genre               320\n",
       "program_type          0\n",
       "Platform              0\n",
       "decade                0\n",
       "dtype: int64"
      ]
     },
     "execution_count": 59,
     "metadata": {},
     "output_type": "execute_result"
    }
   ],
   "source": [
    "sd1.isnull().sum()"
   ]
  },
  {
   "cell_type": "code",
   "execution_count": 60,
   "id": "e9592e10",
   "metadata": {},
   "outputs": [],
   "source": [
    "sd1.dropna(inplace=True)"
   ]
  },
  {
   "cell_type": "code",
   "execution_count": 61,
   "id": "5fd77f7f",
   "metadata": {},
   "outputs": [
    {
     "data": {
      "text/plain": [
       "id                 15588\n",
       "release_year       15588\n",
       "runtime            15588\n",
       "imdb_id            15588\n",
       "imdb_score         15588\n",
       "imdb_votes         15588\n",
       "tmdb_popularity    15588\n",
       "tmdb_score         15588\n",
       "genre              15588\n",
       "program_type       15588\n",
       "Platform           15588\n",
       "decade             15588\n",
       "dtype: int64"
      ]
     },
     "execution_count": 61,
     "metadata": {},
     "output_type": "execute_result"
    }
   ],
   "source": [
    "sd1.count()"
   ]
  },
  {
   "cell_type": "code",
   "execution_count": 277,
   "id": "cf36b117",
   "metadata": {},
   "outputs": [
    {
     "data": {
      "text/plain": [
       "6.447296510136002"
      ]
     },
     "execution_count": 277,
     "metadata": {},
     "output_type": "execute_result"
    }
   ],
   "source": [
    "sd1.loc[:, 'tmdb_score'].mean()"
   ]
  },
  {
   "cell_type": "code",
   "execution_count": 281,
   "id": "733b5ccc",
   "metadata": {},
   "outputs": [],
   "source": [
    "#recoding score\n",
    "def Rating (series):\n",
    "  if series == \"tmdb_score\":\n",
    "    return \"0\"\n",
    "  if series <= 6.4: \n",
    "    return \"Negative\"\n",
    "  if series >= 6.5: \n",
    "    return \"Positive\"\n",
    "sd1[\"Rating\"] = sd1[\"tmdb_score\"].apply(Rating)"
   ]
  },
  {
   "cell_type": "code",
   "execution_count": 283,
   "id": "6e709486",
   "metadata": {},
   "outputs": [],
   "source": [
    "def Rating1 (series):\n",
    "  if series == \"Rating\":\n",
    "    return \"0\"\n",
    "  if series == \"Positive\": \n",
    "    return 1\n",
    "  if series == \"Negative\":\n",
    "    return 2\n",
    "sd1[\"Rating1\"] = sd1[\"Rating\"].apply(Rating1)"
   ]
  },
  {
   "cell_type": "code",
   "execution_count": 284,
   "id": "71815274",
   "metadata": {},
   "outputs": [
    {
     "data": {
      "text/html": [
       "<div>\n",
       "<style scoped>\n",
       "    .dataframe tbody tr th:only-of-type {\n",
       "        vertical-align: middle;\n",
       "    }\n",
       "\n",
       "    .dataframe tbody tr th {\n",
       "        vertical-align: top;\n",
       "    }\n",
       "\n",
       "    .dataframe thead th {\n",
       "        text-align: right;\n",
       "    }\n",
       "</style>\n",
       "<table border=\"1\" class=\"dataframe\">\n",
       "  <thead>\n",
       "    <tr style=\"text-align: right;\">\n",
       "      <th></th>\n",
       "      <th>id</th>\n",
       "      <th>release_year</th>\n",
       "      <th>runtime</th>\n",
       "      <th>imdb_id</th>\n",
       "      <th>imdb_score</th>\n",
       "      <th>imdb_votes</th>\n",
       "      <th>tmdb_popularity</th>\n",
       "      <th>tmdb_score</th>\n",
       "      <th>genre</th>\n",
       "      <th>program_type</th>\n",
       "      <th>Platform</th>\n",
       "      <th>decade</th>\n",
       "      <th>Rating</th>\n",
       "      <th>Rating1</th>\n",
       "    </tr>\n",
       "  </thead>\n",
       "  <tbody>\n",
       "    <tr>\n",
       "      <th>0</th>\n",
       "      <td>tm19438</td>\n",
       "      <td>1987</td>\n",
       "      <td>99</td>\n",
       "      <td>tt0093779</td>\n",
       "      <td>8.0</td>\n",
       "      <td>420521.0</td>\n",
       "      <td>21.284</td>\n",
       "      <td>7.7</td>\n",
       "      <td>9</td>\n",
       "      <td>2</td>\n",
       "      <td>2</td>\n",
       "      <td>3</td>\n",
       "      <td>Positive</td>\n",
       "      <td>1.0</td>\n",
       "    </tr>\n",
       "    <tr>\n",
       "      <th>1</th>\n",
       "      <td>ts20711</td>\n",
       "      <td>1989</td>\n",
       "      <td>27</td>\n",
       "      <td>tt0096697</td>\n",
       "      <td>8.7</td>\n",
       "      <td>394764.0</td>\n",
       "      <td>516.381</td>\n",
       "      <td>7.9</td>\n",
       "      <td>2</td>\n",
       "      <td>1</td>\n",
       "      <td>2</td>\n",
       "      <td>3</td>\n",
       "      <td>Positive</td>\n",
       "      <td>1.0</td>\n",
       "    </tr>\n",
       "    <tr>\n",
       "      <th>2</th>\n",
       "      <td>ts15377</td>\n",
       "      <td>1989</td>\n",
       "      <td>49</td>\n",
       "      <td>tt0098740</td>\n",
       "      <td>6.2</td>\n",
       "      <td>5356.0</td>\n",
       "      <td>18.117</td>\n",
       "      <td>7.0</td>\n",
       "      <td>2</td>\n",
       "      <td>1</td>\n",
       "      <td>2</td>\n",
       "      <td>3</td>\n",
       "      <td>Positive</td>\n",
       "      <td>1.0</td>\n",
       "    </tr>\n",
       "    <tr>\n",
       "      <th>3</th>\n",
       "      <td>ts22130</td>\n",
       "      <td>1998</td>\n",
       "      <td>21</td>\n",
       "      <td>tt0172049</td>\n",
       "      <td>6.3</td>\n",
       "      <td>2861.0</td>\n",
       "      <td>8.697</td>\n",
       "      <td>6.8</td>\n",
       "      <td>2</td>\n",
       "      <td>1</td>\n",
       "      <td>2</td>\n",
       "      <td>4</td>\n",
       "      <td>Positive</td>\n",
       "      <td>1.0</td>\n",
       "    </tr>\n",
       "    <tr>\n",
       "      <th>4</th>\n",
       "      <td>tm38852</td>\n",
       "      <td>2008</td>\n",
       "      <td>86</td>\n",
       "      <td>tt0451079</td>\n",
       "      <td>6.8</td>\n",
       "      <td>138363.0</td>\n",
       "      <td>37.730</td>\n",
       "      <td>6.5</td>\n",
       "      <td>9</td>\n",
       "      <td>2</td>\n",
       "      <td>2</td>\n",
       "      <td>5</td>\n",
       "      <td>Positive</td>\n",
       "      <td>1.0</td>\n",
       "    </tr>\n",
       "  </tbody>\n",
       "</table>\n",
       "</div>"
      ],
      "text/plain": [
       "        id  release_year  runtime    imdb_id  imdb_score  imdb_votes  \\\n",
       "0  tm19438          1987       99  tt0093779         8.0    420521.0   \n",
       "1  ts20711          1989       27  tt0096697         8.7    394764.0   \n",
       "2  ts15377          1989       49  tt0098740         6.2      5356.0   \n",
       "3  ts22130          1998       21  tt0172049         6.3      2861.0   \n",
       "4  tm38852          2008       86  tt0451079         6.8    138363.0   \n",
       "\n",
       "   tmdb_popularity  tmdb_score  genre  program_type  Platform  decade  \\\n",
       "0           21.284         7.7      9             2         2       3   \n",
       "1          516.381         7.9      2             1         2       3   \n",
       "2           18.117         7.0      2             1         2       3   \n",
       "3            8.697         6.8      2             1         2       4   \n",
       "4           37.730         6.5      9             2         2       5   \n",
       "\n",
       "     Rating  Rating1  \n",
       "0  Positive      1.0  \n",
       "1  Positive      1.0  \n",
       "2  Positive      1.0  \n",
       "3  Positive      1.0  \n",
       "4  Positive      1.0  "
      ]
     },
     "execution_count": 284,
     "metadata": {},
     "output_type": "execute_result"
    }
   ],
   "source": [
    "sd1.head()"
   ]
  },
  {
   "cell_type": "code",
   "execution_count": 62,
   "id": "f22f1e68",
   "metadata": {},
   "outputs": [],
   "source": [
    "#changing datatypes for columns into integers\n",
    "sd1['genre'] = sd1['genre'].astype(int)"
   ]
  },
  {
   "cell_type": "code",
   "execution_count": 63,
   "id": "477ff77d",
   "metadata": {},
   "outputs": [
    {
     "data": {
      "text/plain": [
       "6     3799\n",
       "3     3048\n",
       "17    1442\n",
       "5     1369\n",
       "1      948\n",
       "15     862\n",
       "14     723\n",
       "2      722\n",
       "11     657\n",
       "4      528\n",
       "9      420\n",
       "13     363\n",
       "19     323\n",
       "12     119\n",
       "18      98\n",
       "8       85\n",
       "10      64\n",
       "16      15\n",
       "7        3\n",
       "Name: genre, dtype: int64"
      ]
     },
     "execution_count": 63,
     "metadata": {},
     "output_type": "execute_result"
    }
   ],
   "source": [
    "sd1.genre.value_counts()"
   ]
  },
  {
   "cell_type": "code",
   "execution_count": 338,
   "id": "24866e74",
   "metadata": {},
   "outputs": [
    {
     "data": {
      "text/plain": [
       "Rating1\n",
       "1.0    8234\n",
       "2.0    7345\n",
       "Name: genre, dtype: int64"
      ]
     },
     "execution_count": 338,
     "metadata": {},
     "output_type": "execute_result"
    }
   ],
   "source": [
    "sd1.groupby('Rating1')['genre'].count()"
   ]
  },
  {
   "cell_type": "code",
   "execution_count": 285,
   "id": "a040bd14",
   "metadata": {},
   "outputs": [
    {
     "name": "stdout",
     "output_type": "stream",
     "text": [
      "id                  object\n",
      "release_year         int64\n",
      "runtime              int64\n",
      "imdb_id             object\n",
      "imdb_score         float64\n",
      "imdb_votes         float64\n",
      "tmdb_popularity    float64\n",
      "tmdb_score         float64\n",
      "genre                int32\n",
      "program_type         int32\n",
      "Platform             int32\n",
      "decade               int64\n",
      "Rating              object\n",
      "Rating1            float64\n",
      "dtype: object\n"
     ]
    }
   ],
   "source": [
    "print(sd1.dtypes)"
   ]
  },
  {
   "cell_type": "code",
   "execution_count": 65,
   "id": "8a6f7932",
   "metadata": {},
   "outputs": [],
   "source": [
    "sd1['program_type'] = sd1['program_type'].astype(int)\n",
    "sd1['Platform'] = sd1['Platform'].astype(int)"
   ]
  },
  {
   "cell_type": "code",
   "execution_count": 66,
   "id": "1ca4a45c",
   "metadata": {},
   "outputs": [
    {
     "name": "stdout",
     "output_type": "stream",
     "text": [
      "id                  object\n",
      "release_year         int64\n",
      "runtime              int64\n",
      "imdb_id             object\n",
      "imdb_score         float64\n",
      "imdb_votes         float64\n",
      "tmdb_popularity    float64\n",
      "tmdb_score         float64\n",
      "genre                int32\n",
      "program_type         int32\n",
      "Platform             int32\n",
      "decade               int64\n",
      "dtype: object\n"
     ]
    }
   ],
   "source": [
    "print(sd1.dtypes)"
   ]
  },
  {
   "cell_type": "code",
   "execution_count": 67,
   "id": "851d0638",
   "metadata": {},
   "outputs": [
    {
     "data": {
      "text/html": [
       "<div>\n",
       "<style scoped>\n",
       "    .dataframe tbody tr th:only-of-type {\n",
       "        vertical-align: middle;\n",
       "    }\n",
       "\n",
       "    .dataframe tbody tr th {\n",
       "        vertical-align: top;\n",
       "    }\n",
       "\n",
       "    .dataframe thead th {\n",
       "        text-align: right;\n",
       "    }\n",
       "</style>\n",
       "<table border=\"1\" class=\"dataframe\">\n",
       "  <thead>\n",
       "    <tr style=\"text-align: right;\">\n",
       "      <th></th>\n",
       "      <th>id</th>\n",
       "      <th>release_year</th>\n",
       "      <th>runtime</th>\n",
       "      <th>imdb_id</th>\n",
       "      <th>imdb_score</th>\n",
       "      <th>imdb_votes</th>\n",
       "      <th>tmdb_popularity</th>\n",
       "      <th>tmdb_score</th>\n",
       "      <th>genre</th>\n",
       "      <th>program_type</th>\n",
       "      <th>Platform</th>\n",
       "      <th>decade</th>\n",
       "    </tr>\n",
       "  </thead>\n",
       "  <tbody>\n",
       "    <tr>\n",
       "      <th>0</th>\n",
       "      <td>tm19438</td>\n",
       "      <td>1987</td>\n",
       "      <td>99</td>\n",
       "      <td>tt0093779</td>\n",
       "      <td>8.0</td>\n",
       "      <td>420521.0</td>\n",
       "      <td>21.284</td>\n",
       "      <td>7.7</td>\n",
       "      <td>9</td>\n",
       "      <td>2</td>\n",
       "      <td>2</td>\n",
       "      <td>3</td>\n",
       "    </tr>\n",
       "    <tr>\n",
       "      <th>1</th>\n",
       "      <td>ts20711</td>\n",
       "      <td>1989</td>\n",
       "      <td>27</td>\n",
       "      <td>tt0096697</td>\n",
       "      <td>8.7</td>\n",
       "      <td>394764.0</td>\n",
       "      <td>516.381</td>\n",
       "      <td>7.9</td>\n",
       "      <td>2</td>\n",
       "      <td>1</td>\n",
       "      <td>2</td>\n",
       "      <td>3</td>\n",
       "    </tr>\n",
       "    <tr>\n",
       "      <th>2</th>\n",
       "      <td>ts15377</td>\n",
       "      <td>1989</td>\n",
       "      <td>49</td>\n",
       "      <td>tt0098740</td>\n",
       "      <td>6.2</td>\n",
       "      <td>5356.0</td>\n",
       "      <td>18.117</td>\n",
       "      <td>7.0</td>\n",
       "      <td>2</td>\n",
       "      <td>1</td>\n",
       "      <td>2</td>\n",
       "      <td>3</td>\n",
       "    </tr>\n",
       "    <tr>\n",
       "      <th>3</th>\n",
       "      <td>ts22130</td>\n",
       "      <td>1998</td>\n",
       "      <td>21</td>\n",
       "      <td>tt0172049</td>\n",
       "      <td>6.3</td>\n",
       "      <td>2861.0</td>\n",
       "      <td>8.697</td>\n",
       "      <td>6.8</td>\n",
       "      <td>2</td>\n",
       "      <td>1</td>\n",
       "      <td>2</td>\n",
       "      <td>4</td>\n",
       "    </tr>\n",
       "    <tr>\n",
       "      <th>4</th>\n",
       "      <td>tm38852</td>\n",
       "      <td>2008</td>\n",
       "      <td>86</td>\n",
       "      <td>tt0451079</td>\n",
       "      <td>6.8</td>\n",
       "      <td>138363.0</td>\n",
       "      <td>37.730</td>\n",
       "      <td>6.5</td>\n",
       "      <td>9</td>\n",
       "      <td>2</td>\n",
       "      <td>2</td>\n",
       "      <td>5</td>\n",
       "    </tr>\n",
       "  </tbody>\n",
       "</table>\n",
       "</div>"
      ],
      "text/plain": [
       "        id  release_year  runtime    imdb_id  imdb_score  imdb_votes  \\\n",
       "0  tm19438          1987       99  tt0093779         8.0    420521.0   \n",
       "1  ts20711          1989       27  tt0096697         8.7    394764.0   \n",
       "2  ts15377          1989       49  tt0098740         6.2      5356.0   \n",
       "3  ts22130          1998       21  tt0172049         6.3      2861.0   \n",
       "4  tm38852          2008       86  tt0451079         6.8    138363.0   \n",
       "\n",
       "   tmdb_popularity  tmdb_score  genre  program_type  Platform  decade  \n",
       "0           21.284         7.7      9             2         2       3  \n",
       "1          516.381         7.9      2             1         2       3  \n",
       "2           18.117         7.0      2             1         2       3  \n",
       "3            8.697         6.8      2             1         2       4  \n",
       "4           37.730         6.5      9             2         2       5  "
      ]
     },
     "execution_count": 67,
     "metadata": {},
     "output_type": "execute_result"
    }
   ],
   "source": [
    "sd1.head()\n"
   ]
  },
  {
   "cell_type": "code",
   "execution_count": 295,
   "id": "bf951b15",
   "metadata": {},
   "outputs": [
    {
     "data": {
      "text/plain": [
       "id                 15588\n",
       "release_year       15588\n",
       "runtime            15588\n",
       "imdb_id            15588\n",
       "imdb_score         15588\n",
       "imdb_votes         15588\n",
       "tmdb_popularity    15588\n",
       "tmdb_score         15588\n",
       "genre              15588\n",
       "program_type       15588\n",
       "Platform           15588\n",
       "decade             15588\n",
       "Rating             15579\n",
       "Rating1            15579\n",
       "dtype: int64"
      ]
     },
     "execution_count": 295,
     "metadata": {},
     "output_type": "execute_result"
    }
   ],
   "source": [
    "sd1.count()"
   ]
  },
  {
   "cell_type": "code",
   "execution_count": 296,
   "id": "1dcd1af8",
   "metadata": {},
   "outputs": [
    {
     "data": {
      "text/plain": [
       "id                 0\n",
       "release_year       0\n",
       "runtime            0\n",
       "imdb_id            0\n",
       "imdb_score         0\n",
       "imdb_votes         0\n",
       "tmdb_popularity    0\n",
       "tmdb_score         0\n",
       "genre              0\n",
       "program_type       0\n",
       "Platform           0\n",
       "decade             0\n",
       "Rating             9\n",
       "Rating1            9\n",
       "dtype: int64"
      ]
     },
     "execution_count": 296,
     "metadata": {},
     "output_type": "execute_result"
    }
   ],
   "source": [
    "sd1.isnull().sum()"
   ]
  },
  {
   "cell_type": "code",
   "execution_count": 297,
   "id": "b19bd37e",
   "metadata": {},
   "outputs": [],
   "source": [
    "sd1.dropna(inplace=True)"
   ]
  },
  {
   "cell_type": "code",
   "execution_count": 298,
   "id": "e88ab911",
   "metadata": {},
   "outputs": [
    {
     "data": {
      "text/plain": [
       "id                 0\n",
       "release_year       0\n",
       "runtime            0\n",
       "imdb_id            0\n",
       "imdb_score         0\n",
       "imdb_votes         0\n",
       "tmdb_popularity    0\n",
       "tmdb_score         0\n",
       "genre              0\n",
       "program_type       0\n",
       "Platform           0\n",
       "decade             0\n",
       "Rating             0\n",
       "Rating1            0\n",
       "dtype: int64"
      ]
     },
     "execution_count": 298,
     "metadata": {},
     "output_type": "execute_result"
    }
   ],
   "source": [
    "sd1.isnull().sum()"
   ]
  },
  {
   "cell_type": "code",
   "execution_count": 299,
   "id": "a07b9d9e",
   "metadata": {},
   "outputs": [
    {
     "data": {
      "text/html": [
       "<style type=\"text/css\">\n",
       "#T_85ee8_row0_col0, #T_85ee8_row1_col1, #T_85ee8_row2_col2, #T_85ee8_row3_col3, #T_85ee8_row4_col4, #T_85ee8_row5_col5, #T_85ee8_row6_col6, #T_85ee8_row7_col7, #T_85ee8_row8_col8, #T_85ee8_row9_col9, #T_85ee8_row10_col10 {\n",
       "  background-color: #b40426;\n",
       "  color: #f1f1f1;\n",
       "}\n",
       "#T_85ee8_row0_col1 {\n",
       "  background-color: #7396f5;\n",
       "  color: #f1f1f1;\n",
       "}\n",
       "#T_85ee8_row0_col2, #T_85ee8_row4_col2, #T_85ee8_row5_col0, #T_85ee8_row5_col9 {\n",
       "  background-color: #c1d4f4;\n",
       "  color: #000000;\n",
       "}\n",
       "#T_85ee8_row0_col3, #T_85ee8_row4_col6 {\n",
       "  background-color: #6384eb;\n",
       "  color: #f1f1f1;\n",
       "}\n",
       "#T_85ee8_row0_col4 {\n",
       "  background-color: #6282ea;\n",
       "  color: #f1f1f1;\n",
       "}\n",
       "#T_85ee8_row0_col5, #T_85ee8_row9_col5 {\n",
       "  background-color: #e8d6cc;\n",
       "  color: #000000;\n",
       "}\n",
       "#T_85ee8_row0_col6 {\n",
       "  background-color: #3e51c5;\n",
       "  color: #f1f1f1;\n",
       "}\n",
       "#T_85ee8_row0_col7, #T_85ee8_row3_col6, #T_85ee8_row5_col4, #T_85ee8_row6_col3, #T_85ee8_row6_col9, #T_85ee8_row9_col7 {\n",
       "  background-color: #6e90f2;\n",
       "  color: #f1f1f1;\n",
       "}\n",
       "#T_85ee8_row0_col8, #T_85ee8_row8_col4 {\n",
       "  background-color: #3c4ec2;\n",
       "  color: #f1f1f1;\n",
       "}\n",
       "#T_85ee8_row0_col9, #T_85ee8_row9_col0 {\n",
       "  background-color: #be242e;\n",
       "  color: #f1f1f1;\n",
       "}\n",
       "#T_85ee8_row0_col10, #T_85ee8_row3_col7 {\n",
       "  background-color: #a6c4fe;\n",
       "  color: #000000;\n",
       "}\n",
       "#T_85ee8_row1_col0, #T_85ee8_row7_col6 {\n",
       "  background-color: #85a8fc;\n",
       "  color: #f1f1f1;\n",
       "}\n",
       "#T_85ee8_row1_col2, #T_85ee8_row1_col6, #T_85ee8_row3_col9 {\n",
       "  background-color: #8badfd;\n",
       "  color: #000000;\n",
       "}\n",
       "#T_85ee8_row1_col3, #T_85ee8_row3_col0, #T_85ee8_row4_col7 {\n",
       "  background-color: #8db0fe;\n",
       "  color: #000000;\n",
       "}\n",
       "#T_85ee8_row1_col4 {\n",
       "  background-color: #4961d2;\n",
       "  color: #f1f1f1;\n",
       "}\n",
       "#T_85ee8_row1_col5 {\n",
       "  background-color: #98b9ff;\n",
       "  color: #000000;\n",
       "}\n",
       "#T_85ee8_row1_col7 {\n",
       "  background-color: #e8765c;\n",
       "  color: #f1f1f1;\n",
       "}\n",
       "#T_85ee8_row1_col8, #T_85ee8_row3_col10 {\n",
       "  background-color: #aec9fc;\n",
       "  color: #000000;\n",
       "}\n",
       "#T_85ee8_row1_col9 {\n",
       "  background-color: #80a3fa;\n",
       "  color: #f1f1f1;\n",
       "}\n",
       "#T_85ee8_row1_col10 {\n",
       "  background-color: #ebd3c6;\n",
       "  color: #000000;\n",
       "}\n",
       "#T_85ee8_row2_col0, #T_85ee8_row8_col1 {\n",
       "  background-color: #9fbfff;\n",
       "  color: #000000;\n",
       "}\n",
       "#T_85ee8_row2_col1 {\n",
       "  background-color: #4c66d6;\n",
       "  color: #f1f1f1;\n",
       "}\n",
       "#T_85ee8_row2_col3 {\n",
       "  background-color: #a3c2fe;\n",
       "  color: #000000;\n",
       "}\n",
       "#T_85ee8_row2_col4, #T_85ee8_row9_col4 {\n",
       "  background-color: #6687ed;\n",
       "  color: #f1f1f1;\n",
       "}\n",
       "#T_85ee8_row2_col5 {\n",
       "  background-color: #f18d6f;\n",
       "  color: #f1f1f1;\n",
       "}\n",
       "#T_85ee8_row2_col6, #T_85ee8_row5_col1, #T_85ee8_row5_col7, #T_85ee8_row5_col10, #T_85ee8_row8_col0, #T_85ee8_row8_col9, #T_85ee8_row9_col8, #T_85ee8_row10_col2, #T_85ee8_row10_col3, #T_85ee8_row10_col4, #T_85ee8_row10_col5 {\n",
       "  background-color: #3b4cc0;\n",
       "  color: #f1f1f1;\n",
       "}\n",
       "#T_85ee8_row2_col7 {\n",
       "  background-color: #455cce;\n",
       "  color: #f1f1f1;\n",
       "}\n",
       "#T_85ee8_row2_col8, #T_85ee8_row2_col10, #T_85ee8_row10_col0 {\n",
       "  background-color: #5d7ce6;\n",
       "  color: #f1f1f1;\n",
       "}\n",
       "#T_85ee8_row2_col9 {\n",
       "  background-color: #9ebeff;\n",
       "  color: #000000;\n",
       "}\n",
       "#T_85ee8_row3_col1 {\n",
       "  background-color: #a5c3fe;\n",
       "  color: #000000;\n",
       "}\n",
       "#T_85ee8_row3_col2 {\n",
       "  background-color: #dcdddd;\n",
       "  color: #000000;\n",
       "}\n",
       "#T_85ee8_row3_col4 {\n",
       "  background-color: #8caffe;\n",
       "  color: #000000;\n",
       "}\n",
       "#T_85ee8_row3_col5 {\n",
       "  background-color: #e0dbd8;\n",
       "  color: #000000;\n",
       "}\n",
       "#T_85ee8_row3_col8 {\n",
       "  background-color: #779af7;\n",
       "  color: #f1f1f1;\n",
       "}\n",
       "#T_85ee8_row4_col0, #T_85ee8_row4_col3 {\n",
       "  background-color: #9dbdff;\n",
       "  color: #000000;\n",
       "}\n",
       "#T_85ee8_row4_col1, #T_85ee8_row7_col5 {\n",
       "  background-color: #7699f6;\n",
       "  color: #f1f1f1;\n",
       "}\n",
       "#T_85ee8_row4_col5 {\n",
       "  background-color: #d9dce1;\n",
       "  color: #000000;\n",
       "}\n",
       "#T_85ee8_row4_col8 {\n",
       "  background-color: #7b9ff9;\n",
       "  color: #f1f1f1;\n",
       "}\n",
       "#T_85ee8_row4_col9, #T_85ee8_row6_col1 {\n",
       "  background-color: #a1c0ff;\n",
       "  color: #000000;\n",
       "}\n",
       "#T_85ee8_row4_col10 {\n",
       "  background-color: #bbd1f8;\n",
       "  color: #000000;\n",
       "}\n",
       "#T_85ee8_row5_col2 {\n",
       "  background-color: #f4987a;\n",
       "  color: #000000;\n",
       "}\n",
       "#T_85ee8_row5_col3, #T_85ee8_row10_col6 {\n",
       "  background-color: #8fb1fe;\n",
       "  color: #000000;\n",
       "}\n",
       "#T_85ee8_row5_col6, #T_85ee8_row7_col4 {\n",
       "  background-color: #3d50c3;\n",
       "  color: #f1f1f1;\n",
       "}\n",
       "#T_85ee8_row5_col8, #T_85ee8_row8_col3 {\n",
       "  background-color: #4a63d3;\n",
       "  color: #f1f1f1;\n",
       "}\n",
       "#T_85ee8_row6_col0 {\n",
       "  background-color: #6a8bef;\n",
       "  color: #f1f1f1;\n",
       "}\n",
       "#T_85ee8_row6_col2 {\n",
       "  background-color: #92b4fe;\n",
       "  color: #000000;\n",
       "}\n",
       "#T_85ee8_row6_col4 {\n",
       "  background-color: #506bda;\n",
       "  color: #f1f1f1;\n",
       "}\n",
       "#T_85ee8_row6_col5 {\n",
       "  background-color: #b1cbfc;\n",
       "  color: #000000;\n",
       "}\n",
       "#T_85ee8_row6_col7, #T_85ee8_row6_col8 {\n",
       "  background-color: #b9d0f9;\n",
       "  color: #000000;\n",
       "}\n",
       "#T_85ee8_row6_col10 {\n",
       "  background-color: #dfdbd9;\n",
       "  color: #000000;\n",
       "}\n",
       "#T_85ee8_row7_col0 {\n",
       "  background-color: #5a78e4;\n",
       "  color: #f1f1f1;\n",
       "}\n",
       "#T_85ee8_row7_col1 {\n",
       "  background-color: #ec8165;\n",
       "  color: #f1f1f1;\n",
       "}\n",
       "#T_85ee8_row7_col2 {\n",
       "  background-color: #5f7fe8;\n",
       "  color: #f1f1f1;\n",
       "}\n",
       "#T_85ee8_row7_col3, #T_85ee8_row9_col1 {\n",
       "  background-color: #6c8ff1;\n",
       "  color: #f1f1f1;\n",
       "}\n",
       "#T_85ee8_row7_col8 {\n",
       "  background-color: #c7d7f0;\n",
       "  color: #000000;\n",
       "}\n",
       "#T_85ee8_row7_col9 {\n",
       "  background-color: #5b7ae5;\n",
       "  color: #f1f1f1;\n",
       "}\n",
       "#T_85ee8_row7_col10 {\n",
       "  background-color: #f7ba9f;\n",
       "  color: #000000;\n",
       "}\n",
       "#T_85ee8_row8_col2 {\n",
       "  background-color: #88abfd;\n",
       "  color: #000000;\n",
       "}\n",
       "#T_85ee8_row8_col5 {\n",
       "  background-color: #97b8ff;\n",
       "  color: #000000;\n",
       "}\n",
       "#T_85ee8_row8_col6 {\n",
       "  background-color: #94b6ff;\n",
       "  color: #000000;\n",
       "}\n",
       "#T_85ee8_row8_col7 {\n",
       "  background-color: #d2dbe8;\n",
       "  color: #000000;\n",
       "}\n",
       "#T_85ee8_row8_col10 {\n",
       "  background-color: #eed0c0;\n",
       "  color: #000000;\n",
       "}\n",
       "#T_85ee8_row9_col2 {\n",
       "  background-color: #bfd3f6;\n",
       "  color: #000000;\n",
       "}\n",
       "#T_85ee8_row9_col3, #T_85ee8_row10_col9 {\n",
       "  background-color: #5e7de7;\n",
       "  color: #f1f1f1;\n",
       "}\n",
       "#T_85ee8_row9_col6 {\n",
       "  background-color: #4055c8;\n",
       "  color: #f1f1f1;\n",
       "}\n",
       "#T_85ee8_row9_col10 {\n",
       "  background-color: #a7c5fe;\n",
       "  color: #000000;\n",
       "}\n",
       "#T_85ee8_row10_col1 {\n",
       "  background-color: #bcd2f7;\n",
       "  color: #000000;\n",
       "}\n",
       "#T_85ee8_row10_col7 {\n",
       "  background-color: #efcfbf;\n",
       "  color: #000000;\n",
       "}\n",
       "#T_85ee8_row10_col8 {\n",
       "  background-color: #cedaeb;\n",
       "  color: #000000;\n",
       "}\n",
       "</style>\n",
       "<table id=\"T_85ee8\">\n",
       "  <thead>\n",
       "    <tr>\n",
       "      <th class=\"blank level0\" >&nbsp;</th>\n",
       "      <th id=\"T_85ee8_level0_col0\" class=\"col_heading level0 col0\" >release_year</th>\n",
       "      <th id=\"T_85ee8_level0_col1\" class=\"col_heading level0 col1\" >runtime</th>\n",
       "      <th id=\"T_85ee8_level0_col2\" class=\"col_heading level0 col2\" >imdb_score</th>\n",
       "      <th id=\"T_85ee8_level0_col3\" class=\"col_heading level0 col3\" >imdb_votes</th>\n",
       "      <th id=\"T_85ee8_level0_col4\" class=\"col_heading level0 col4\" >tmdb_popularity</th>\n",
       "      <th id=\"T_85ee8_level0_col5\" class=\"col_heading level0 col5\" >tmdb_score</th>\n",
       "      <th id=\"T_85ee8_level0_col6\" class=\"col_heading level0 col6\" >genre</th>\n",
       "      <th id=\"T_85ee8_level0_col7\" class=\"col_heading level0 col7\" >program_type</th>\n",
       "      <th id=\"T_85ee8_level0_col8\" class=\"col_heading level0 col8\" >Platform</th>\n",
       "      <th id=\"T_85ee8_level0_col9\" class=\"col_heading level0 col9\" >decade</th>\n",
       "      <th id=\"T_85ee8_level0_col10\" class=\"col_heading level0 col10\" >Rating1</th>\n",
       "    </tr>\n",
       "  </thead>\n",
       "  <tbody>\n",
       "    <tr>\n",
       "      <th id=\"T_85ee8_level0_row0\" class=\"row_heading level0 row0\" >release_year</th>\n",
       "      <td id=\"T_85ee8_row0_col0\" class=\"data row0 col0\" >1.000000</td>\n",
       "      <td id=\"T_85ee8_row0_col1\" class=\"data row0 col1\" >-0.035636</td>\n",
       "      <td id=\"T_85ee8_row0_col2\" class=\"data row0 col2\" >0.067963</td>\n",
       "      <td id=\"T_85ee8_row0_col3\" class=\"data row0 col3\" >0.000169</td>\n",
       "      <td id=\"T_85ee8_row0_col4\" class=\"data row0 col4\" >0.056264</td>\n",
       "      <td id=\"T_85ee8_row0_col5\" class=\"data row0 col5\" >0.199482</td>\n",
       "      <td id=\"T_85ee8_row0_col6\" class=\"data row0 col6\" >-0.137884</td>\n",
       "      <td id=\"T_85ee8_row0_col7\" class=\"data row0 col7\" >-0.199170</td>\n",
       "      <td id=\"T_85ee8_row0_col8\" class=\"data row0 col8\" >-0.339606</td>\n",
       "      <td id=\"T_85ee8_row0_col9\" class=\"data row0 col9\" >0.958537</td>\n",
       "      <td id=\"T_85ee8_row0_col10\" class=\"data row0 col10\" >-0.191806</td>\n",
       "    </tr>\n",
       "    <tr>\n",
       "      <th id=\"T_85ee8_level0_row1\" class=\"row_heading level0 row1\" >runtime</th>\n",
       "      <td id=\"T_85ee8_row1_col0\" class=\"data row1 col0\" >-0.035636</td>\n",
       "      <td id=\"T_85ee8_row1_col1\" class=\"data row1 col1\" >1.000000</td>\n",
       "      <td id=\"T_85ee8_row1_col2\" class=\"data row1 col2\" >-0.183223</td>\n",
       "      <td id=\"T_85ee8_row1_col3\" class=\"data row1 col3\" >0.138725</td>\n",
       "      <td id=\"T_85ee8_row1_col4\" class=\"data row1 col4\" >-0.028728</td>\n",
       "      <td id=\"T_85ee8_row1_col5\" class=\"data row1 col5\" >-0.260109</td>\n",
       "      <td id=\"T_85ee8_row1_col6\" class=\"data row1 col6\" >0.128575</td>\n",
       "      <td id=\"T_85ee8_row1_col7\" class=\"data row1 col7\" >0.756505</td>\n",
       "      <td id=\"T_85ee8_row1_col8\" class=\"data row1 col8\" >0.119860</td>\n",
       "      <td id=\"T_85ee8_row1_col9\" class=\"data row1 col9\" >-0.060715</td>\n",
       "      <td id=\"T_85ee8_row1_col10\" class=\"data row1 col10\" >0.228967</td>\n",
       "    </tr>\n",
       "    <tr>\n",
       "      <th id=\"T_85ee8_level0_row2\" class=\"row_heading level0 row2\" >imdb_score</th>\n",
       "      <td id=\"T_85ee8_row2_col0\" class=\"data row2 col0\" >0.067963</td>\n",
       "      <td id=\"T_85ee8_row2_col1\" class=\"data row2 col1\" >-0.183223</td>\n",
       "      <td id=\"T_85ee8_row2_col2\" class=\"data row2 col2\" >1.000000</td>\n",
       "      <td id=\"T_85ee8_row2_col3\" class=\"data row2 col3\" >0.212218</td>\n",
       "      <td id=\"T_85ee8_row2_col4\" class=\"data row2 col4\" >0.067139</td>\n",
       "      <td id=\"T_85ee8_row2_col5\" class=\"data row2 col5\" >0.613770</td>\n",
       "      <td id=\"T_85ee8_row2_col6\" class=\"data row2 col6\" >-0.154083</td>\n",
       "      <td id=\"T_85ee8_row2_col7\" class=\"data row2 col7\" >-0.379562</td>\n",
       "      <td id=\"T_85ee8_row2_col8\" class=\"data row2 col8\" >-0.198610</td>\n",
       "      <td id=\"T_85ee8_row2_col9\" class=\"data row2 col9\" >0.055373</td>\n",
       "      <td id=\"T_85ee8_row2_col10\" class=\"data row2 col10\" >-0.568131</td>\n",
       "    </tr>\n",
       "    <tr>\n",
       "      <th id=\"T_85ee8_level0_row3\" class=\"row_heading level0 row3\" >imdb_votes</th>\n",
       "      <td id=\"T_85ee8_row3_col0\" class=\"data row3 col0\" >0.000169</td>\n",
       "      <td id=\"T_85ee8_row3_col1\" class=\"data row3 col1\" >0.138725</td>\n",
       "      <td id=\"T_85ee8_row3_col2\" class=\"data row3 col2\" >0.212218</td>\n",
       "      <td id=\"T_85ee8_row3_col3\" class=\"data row3 col3\" >1.000000</td>\n",
       "      <td id=\"T_85ee8_row3_col4\" class=\"data row3 col4\" >0.186953</td>\n",
       "      <td id=\"T_85ee8_row3_col5\" class=\"data row3 col5\" >0.145011</td>\n",
       "      <td id=\"T_85ee8_row3_col6\" class=\"data row3 col6\" >0.035042</td>\n",
       "      <td id=\"T_85ee8_row3_col7\" class=\"data row3 col7\" >0.030750</td>\n",
       "      <td id=\"T_85ee8_row3_col8\" class=\"data row3 col8\" >-0.090484</td>\n",
       "      <td id=\"T_85ee8_row3_col9\" class=\"data row3 col9\" >-0.017158</td>\n",
       "      <td id=\"T_85ee8_row3_col10\" class=\"data row3 col10\" >-0.151140</td>\n",
       "    </tr>\n",
       "    <tr>\n",
       "      <th id=\"T_85ee8_level0_row4\" class=\"row_heading level0 row4\" >tmdb_popularity</th>\n",
       "      <td id=\"T_85ee8_row4_col0\" class=\"data row4 col0\" >0.056264</td>\n",
       "      <td id=\"T_85ee8_row4_col1\" class=\"data row4 col1\" >-0.028728</td>\n",
       "      <td id=\"T_85ee8_row4_col2\" class=\"data row4 col2\" >0.067139</td>\n",
       "      <td id=\"T_85ee8_row4_col3\" class=\"data row4 col3\" >0.186953</td>\n",
       "      <td id=\"T_85ee8_row4_col4\" class=\"data row4 col4\" >1.000000</td>\n",
       "      <td id=\"T_85ee8_row4_col5\" class=\"data row4 col5\" >0.095421</td>\n",
       "      <td id=\"T_85ee8_row4_col6\" class=\"data row4 col6\" >-0.002367</td>\n",
       "      <td id=\"T_85ee8_row4_col7\" class=\"data row4 col7\" >-0.073076</td>\n",
       "      <td id=\"T_85ee8_row4_col8\" class=\"data row4 col8\" >-0.074693</td>\n",
       "      <td id=\"T_85ee8_row4_col9\" class=\"data row4 col9\" >0.065989</td>\n",
       "      <td id=\"T_85ee8_row4_col10\" class=\"data row4 col10\" >-0.081983</td>\n",
       "    </tr>\n",
       "    <tr>\n",
       "      <th id=\"T_85ee8_level0_row5\" class=\"row_heading level0 row5\" >tmdb_score</th>\n",
       "      <td id=\"T_85ee8_row5_col0\" class=\"data row5 col0\" >0.199482</td>\n",
       "      <td id=\"T_85ee8_row5_col1\" class=\"data row5 col1\" >-0.260109</td>\n",
       "      <td id=\"T_85ee8_row5_col2\" class=\"data row5 col2\" >0.613770</td>\n",
       "      <td id=\"T_85ee8_row5_col3\" class=\"data row5 col3\" >0.145011</td>\n",
       "      <td id=\"T_85ee8_row5_col4\" class=\"data row5 col4\" >0.095421</td>\n",
       "      <td id=\"T_85ee8_row5_col5\" class=\"data row5 col5\" >1.000000</td>\n",
       "      <td id=\"T_85ee8_row5_col6\" class=\"data row5 col6\" >-0.141116</td>\n",
       "      <td id=\"T_85ee8_row5_col7\" class=\"data row5 col7\" >-0.432535</td>\n",
       "      <td id=\"T_85ee8_row5_col8\" class=\"data row5 col8\" >-0.272810</td>\n",
       "      <td id=\"T_85ee8_row5_col9\" class=\"data row5 col9\" >0.197989</td>\n",
       "      <td id=\"T_85ee8_row5_col10\" class=\"data row5 col10\" >-0.761495</td>\n",
       "    </tr>\n",
       "    <tr>\n",
       "      <th id=\"T_85ee8_level0_row6\" class=\"row_heading level0 row6\" >genre</th>\n",
       "      <td id=\"T_85ee8_row6_col0\" class=\"data row6 col0\" >-0.137884</td>\n",
       "      <td id=\"T_85ee8_row6_col1\" class=\"data row6 col1\" >0.128575</td>\n",
       "      <td id=\"T_85ee8_row6_col2\" class=\"data row6 col2\" >-0.154083</td>\n",
       "      <td id=\"T_85ee8_row6_col3\" class=\"data row6 col3\" >0.035042</td>\n",
       "      <td id=\"T_85ee8_row6_col4\" class=\"data row6 col4\" >-0.002367</td>\n",
       "      <td id=\"T_85ee8_row6_col5\" class=\"data row6 col5\" >-0.141116</td>\n",
       "      <td id=\"T_85ee8_row6_col6\" class=\"data row6 col6\" >1.000000</td>\n",
       "      <td id=\"T_85ee8_row6_col7\" class=\"data row6 col7\" >0.108362</td>\n",
       "      <td id=\"T_85ee8_row6_col8\" class=\"data row6 col8\" >0.160913</td>\n",
       "      <td id=\"T_85ee8_row6_col9\" class=\"data row6 col9\" >-0.127561</td>\n",
       "      <td id=\"T_85ee8_row6_col10\" class=\"data row6 col10\" >0.138970</td>\n",
       "    </tr>\n",
       "    <tr>\n",
       "      <th id=\"T_85ee8_level0_row7\" class=\"row_heading level0 row7\" >program_type</th>\n",
       "      <td id=\"T_85ee8_row7_col0\" class=\"data row7 col0\" >-0.199170</td>\n",
       "      <td id=\"T_85ee8_row7_col1\" class=\"data row7 col1\" >0.756505</td>\n",
       "      <td id=\"T_85ee8_row7_col2\" class=\"data row7 col2\" >-0.379562</td>\n",
       "      <td id=\"T_85ee8_row7_col3\" class=\"data row7 col3\" >0.030750</td>\n",
       "      <td id=\"T_85ee8_row7_col4\" class=\"data row7 col4\" >-0.073076</td>\n",
       "      <td id=\"T_85ee8_row7_col5\" class=\"data row7 col5\" >-0.432535</td>\n",
       "      <td id=\"T_85ee8_row7_col6\" class=\"data row7 col6\" >0.108362</td>\n",
       "      <td id=\"T_85ee8_row7_col7\" class=\"data row7 col7\" >1.000000</td>\n",
       "      <td id=\"T_85ee8_row7_col8\" class=\"data row7 col8\" >0.223734</td>\n",
       "      <td id=\"T_85ee8_row7_col9\" class=\"data row7 col9\" >-0.200172</td>\n",
       "      <td id=\"T_85ee8_row7_col10\" class=\"data row7 col10\" >0.396433</td>\n",
       "    </tr>\n",
       "    <tr>\n",
       "      <th id=\"T_85ee8_level0_row8\" class=\"row_heading level0 row8\" >Platform</th>\n",
       "      <td id=\"T_85ee8_row8_col0\" class=\"data row8 col0\" >-0.339606</td>\n",
       "      <td id=\"T_85ee8_row8_col1\" class=\"data row8 col1\" >0.119860</td>\n",
       "      <td id=\"T_85ee8_row8_col2\" class=\"data row8 col2\" >-0.198610</td>\n",
       "      <td id=\"T_85ee8_row8_col3\" class=\"data row8 col3\" >-0.090484</td>\n",
       "      <td id=\"T_85ee8_row8_col4\" class=\"data row8 col4\" >-0.074693</td>\n",
       "      <td id=\"T_85ee8_row8_col5\" class=\"data row8 col5\" >-0.272810</td>\n",
       "      <td id=\"T_85ee8_row8_col6\" class=\"data row8 col6\" >0.160913</td>\n",
       "      <td id=\"T_85ee8_row8_col7\" class=\"data row8 col7\" >0.223734</td>\n",
       "      <td id=\"T_85ee8_row8_col8\" class=\"data row8 col8\" >1.000000</td>\n",
       "      <td id=\"T_85ee8_row8_col9\" class=\"data row8 col9\" >-0.346085</td>\n",
       "      <td id=\"T_85ee8_row8_col10\" class=\"data row8 col10\" >0.255800</td>\n",
       "    </tr>\n",
       "    <tr>\n",
       "      <th id=\"T_85ee8_level0_row9\" class=\"row_heading level0 row9\" >decade</th>\n",
       "      <td id=\"T_85ee8_row9_col0\" class=\"data row9 col0\" >0.958537</td>\n",
       "      <td id=\"T_85ee8_row9_col1\" class=\"data row9 col1\" >-0.060715</td>\n",
       "      <td id=\"T_85ee8_row9_col2\" class=\"data row9 col2\" >0.055373</td>\n",
       "      <td id=\"T_85ee8_row9_col3\" class=\"data row9 col3\" >-0.017158</td>\n",
       "      <td id=\"T_85ee8_row9_col4\" class=\"data row9 col4\" >0.065989</td>\n",
       "      <td id=\"T_85ee8_row9_col5\" class=\"data row9 col5\" >0.197989</td>\n",
       "      <td id=\"T_85ee8_row9_col6\" class=\"data row9 col6\" >-0.127561</td>\n",
       "      <td id=\"T_85ee8_row9_col7\" class=\"data row9 col7\" >-0.200172</td>\n",
       "      <td id=\"T_85ee8_row9_col8\" class=\"data row9 col8\" >-0.346085</td>\n",
       "      <td id=\"T_85ee8_row9_col9\" class=\"data row9 col9\" >1.000000</td>\n",
       "      <td id=\"T_85ee8_row9_col10\" class=\"data row9 col10\" >-0.188389</td>\n",
       "    </tr>\n",
       "    <tr>\n",
       "      <th id=\"T_85ee8_level0_row10\" class=\"row_heading level0 row10\" >Rating1</th>\n",
       "      <td id=\"T_85ee8_row10_col0\" class=\"data row10 col0\" >-0.191806</td>\n",
       "      <td id=\"T_85ee8_row10_col1\" class=\"data row10 col1\" >0.228967</td>\n",
       "      <td id=\"T_85ee8_row10_col2\" class=\"data row10 col2\" >-0.568131</td>\n",
       "      <td id=\"T_85ee8_row10_col3\" class=\"data row10 col3\" >-0.151140</td>\n",
       "      <td id=\"T_85ee8_row10_col4\" class=\"data row10 col4\" >-0.081983</td>\n",
       "      <td id=\"T_85ee8_row10_col5\" class=\"data row10 col5\" >-0.761495</td>\n",
       "      <td id=\"T_85ee8_row10_col6\" class=\"data row10 col6\" >0.138970</td>\n",
       "      <td id=\"T_85ee8_row10_col7\" class=\"data row10 col7\" >0.396433</td>\n",
       "      <td id=\"T_85ee8_row10_col8\" class=\"data row10 col8\" >0.255800</td>\n",
       "      <td id=\"T_85ee8_row10_col9\" class=\"data row10 col9\" >-0.188389</td>\n",
       "      <td id=\"T_85ee8_row10_col10\" class=\"data row10 col10\" >1.000000</td>\n",
       "    </tr>\n",
       "  </tbody>\n",
       "</table>\n"
      ],
      "text/plain": [
       "<pandas.io.formats.style.Styler at 0x195377ed210>"
      ]
     },
     "execution_count": 299,
     "metadata": {},
     "output_type": "execute_result"
    }
   ],
   "source": [
    "corr = sd1.corr()\n",
    "corr.style.background_gradient(cmap='coolwarm')"
   ]
  },
  {
   "cell_type": "code",
   "execution_count": 71,
   "id": "f165959f",
   "metadata": {},
   "outputs": [
    {
     "name": "stderr",
     "output_type": "stream",
     "text": [
      "C:\\Python3\\lib\\site-packages\\pandas\\plotting\\_matplotlib\\core.py:1114: UserWarning: No data for colormapping provided via 'c'. Parameters 'cmap' will be ignored\n",
      "  scatter = ax.scatter(\n"
     ]
    },
    {
     "data": {
      "text/plain": [
       "Text(0, 0.5, 'TMDB Score')"
      ]
     },
     "execution_count": 71,
     "metadata": {},
     "output_type": "execute_result"
    },
    {
     "data": {
      "image/png": "[encoded data removed]",
      "text/plain": [
       "<Figure size 432x288 with 1 Axes>"
      ]
     },
     "metadata": {
      "needs_background": "light"
     },
     "output_type": "display_data"
    }
   ],
   "source": [
    "#Scatterplot of number of tmdb score and imdb score\n",
    "Plot = sd1.plot.scatter(x='imdb_score', y='tmdb_score')\n",
    "Plot.set_title(\"IMDB SCORE and TMDB SCORE\")\n",
    "Plot.set_xlabel(\"IMDB Score\")\n",
    "Plot.set_ylabel(\"TMDB Score\")"
   ]
  },
  {
   "cell_type": "code",
   "execution_count": 72,
   "id": "3332305f",
   "metadata": {},
   "outputs": [
    {
     "data": {
      "text/plain": [
       "Text(0, 0.5, 'TMDB Score')"
      ]
     },
     "execution_count": 72,
     "metadata": {},
     "output_type": "execute_result"
    },
    {
     "data": {
      "image/png": "[encoded data removed]",
      "text/plain": [
       "<Figure size 432x288 with 1 Axes>"
      ]
     },
     "metadata": {
      "needs_background": "light"
     },
     "output_type": "display_data"
    }
   ],
   "source": [
    "#tmdb score and genre\n",
    "Plot = sd1.plot.scatter(x='genre', y='tmdb_score')\n",
    "Plot.set_title(\"Genre and TMDB SCORE\")\n",
    "Plot.set_xlabel(\"Genre\")\n",
    "Plot.set_ylabel(\"TMDB Score\")"
   ]
  },
  {
   "cell_type": "code",
   "execution_count": 73,
   "id": "695f8fb7",
   "metadata": {},
   "outputs": [],
   "source": [
    "tmdb_score = sd1[['genre', 'tmdb_score']]\n",
    "imdb_scores = sd1[['genre', 'imdb_score']]"
   ]
  },
  {
   "cell_type": "code",
   "execution_count": 77,
   "id": "b54becd7",
   "metadata": {},
   "outputs": [
    {
     "data": {
      "text/plain": [
       "<AxesSubplot: >"
      ]
     },
     "execution_count": 77,
     "metadata": {},
     "output_type": "execute_result"
    },
    {
     "data": {
      "image/png": "[encoded data removed]",
      "text/plain": [
       "<Figure size 432x288 with 1 Axes>"
      ]
     },
     "metadata": {
      "needs_background": "light"
     },
     "output_type": "display_data"
    }
   ],
   "source": [
    "tmdb_score['genre'].value_counts().plot(kind='bar')"
   ]
  },
  {
   "cell_type": "code",
   "execution_count": 80,
   "id": "3c8a0c39",
   "metadata": {},
   "outputs": [
    {
     "data": {
      "text/plain": [
       "Amazon     9871\n",
       "Netflix    5850\n",
       "Hulu       2398\n",
       "Disney     1535\n",
       "Name: platform, dtype: int64"
      ]
     },
     "execution_count": 80,
     "metadata": {},
     "output_type": "execute_result"
    }
   ],
   "source": [
    "streamingdata.platform.value_counts()"
   ]
  },
  {
   "cell_type": "code",
   "execution_count": 82,
   "id": "262f1839",
   "metadata": {},
   "outputs": [],
   "source": [
    "amazon_df = streamingdata.loc[streamingdata['platform'] == 'Amazon']"
   ]
  },
  {
   "cell_type": "code",
   "execution_count": 83,
   "id": "6a0e112d",
   "metadata": {},
   "outputs": [
    {
     "data": {
      "text/html": [
       "<div>\n",
       "<style scoped>\n",
       "    .dataframe tbody tr th:only-of-type {\n",
       "        vertical-align: middle;\n",
       "    }\n",
       "\n",
       "    .dataframe tbody tr th {\n",
       "        vertical-align: top;\n",
       "    }\n",
       "\n",
       "    .dataframe thead th {\n",
       "        text-align: right;\n",
       "    }\n",
       "</style>\n",
       "<table border=\"1\" class=\"dataframe\">\n",
       "  <thead>\n",
       "    <tr style=\"text-align: right;\">\n",
       "      <th></th>\n",
       "      <th>platform</th>\n",
       "      <th>id</th>\n",
       "      <th>title</th>\n",
       "      <th>type</th>\n",
       "      <th>description</th>\n",
       "      <th>release_year</th>\n",
       "      <th>age_certification</th>\n",
       "      <th>runtime</th>\n",
       "      <th>genres</th>\n",
       "      <th>production_countries</th>\n",
       "      <th>...</th>\n",
       "      <th>genre5</th>\n",
       "      <th>genre6</th>\n",
       "      <th>genre7</th>\n",
       "      <th>genre8</th>\n",
       "      <th>genre9</th>\n",
       "      <th>genre10</th>\n",
       "      <th>genre</th>\n",
       "      <th>program_type</th>\n",
       "      <th>Platform</th>\n",
       "      <th>decade</th>\n",
       "    </tr>\n",
       "  </thead>\n",
       "  <tbody>\n",
       "    <tr>\n",
       "      <th>30</th>\n",
       "      <td>Amazon</td>\n",
       "      <td>tm89134</td>\n",
       "      <td>The Gunman From Bodie</td>\n",
       "      <td>MOVIE</td>\n",
       "      <td>The Rough Riders are after a gang of rustlers....</td>\n",
       "      <td>1941</td>\n",
       "      <td>NaN</td>\n",
       "      <td>62</td>\n",
       "      <td>western</td>\n",
       "      <td>['US']</td>\n",
       "      <td>...</td>\n",
       "      <td>NaN</td>\n",
       "      <td>NaN</td>\n",
       "      <td>NaN</td>\n",
       "      <td>NaN</td>\n",
       "      <td>NaN</td>\n",
       "      <td>NaN</td>\n",
       "      <td>19</td>\n",
       "      <td>2</td>\n",
       "      <td>4</td>\n",
       "      <td>1</td>\n",
       "    </tr>\n",
       "    <tr>\n",
       "      <th>31</th>\n",
       "      <td>Amazon</td>\n",
       "      <td>tm89134</td>\n",
       "      <td>The Gunman From Bodie</td>\n",
       "      <td>MOVIE</td>\n",
       "      <td>The Rough Riders are after a gang of rustlers....</td>\n",
       "      <td>1941</td>\n",
       "      <td>NaN</td>\n",
       "      <td>62</td>\n",
       "      <td>western</td>\n",
       "      <td>['US']</td>\n",
       "      <td>...</td>\n",
       "      <td>NaN</td>\n",
       "      <td>NaN</td>\n",
       "      <td>NaN</td>\n",
       "      <td>NaN</td>\n",
       "      <td>NaN</td>\n",
       "      <td>NaN</td>\n",
       "      <td>19</td>\n",
       "      <td>2</td>\n",
       "      <td>4</td>\n",
       "      <td>1</td>\n",
       "    </tr>\n",
       "    <tr>\n",
       "      <th>32</th>\n",
       "      <td>Amazon</td>\n",
       "      <td>tm66674</td>\n",
       "      <td>Dynamite</td>\n",
       "      <td>MOVIE</td>\n",
       "      <td>Two members of a dynamite crew--a rugged veter...</td>\n",
       "      <td>1949</td>\n",
       "      <td>NaN</td>\n",
       "      <td>68</td>\n",
       "      <td>drama, crime</td>\n",
       "      <td>['US']</td>\n",
       "      <td>...</td>\n",
       "      <td>NaN</td>\n",
       "      <td>NaN</td>\n",
       "      <td>NaN</td>\n",
       "      <td>NaN</td>\n",
       "      <td>NaN</td>\n",
       "      <td>NaN</td>\n",
       "      <td>6</td>\n",
       "      <td>2</td>\n",
       "      <td>4</td>\n",
       "      <td>1</td>\n",
       "    </tr>\n",
       "    <tr>\n",
       "      <th>33</th>\n",
       "      <td>Amazon</td>\n",
       "      <td>tm137955</td>\n",
       "      <td>Broken Dreams</td>\n",
       "      <td>MOVIE</td>\n",
       "      <td>Medical intern Robert Morley is distraught aft...</td>\n",
       "      <td>1933</td>\n",
       "      <td>NaN</td>\n",
       "      <td>68</td>\n",
       "      <td>drama, romance</td>\n",
       "      <td>['US']</td>\n",
       "      <td>...</td>\n",
       "      <td>NaN</td>\n",
       "      <td>NaN</td>\n",
       "      <td>NaN</td>\n",
       "      <td>NaN</td>\n",
       "      <td>NaN</td>\n",
       "      <td>NaN</td>\n",
       "      <td>6</td>\n",
       "      <td>2</td>\n",
       "      <td>4</td>\n",
       "      <td>1</td>\n",
       "    </tr>\n",
       "    <tr>\n",
       "      <th>34</th>\n",
       "      <td>Amazon</td>\n",
       "      <td>tm66674</td>\n",
       "      <td>Dynamite</td>\n",
       "      <td>MOVIE</td>\n",
       "      <td>Two members of a dynamite crew--a rugged veter...</td>\n",
       "      <td>1949</td>\n",
       "      <td>NaN</td>\n",
       "      <td>68</td>\n",
       "      <td>drama, crime</td>\n",
       "      <td>['US']</td>\n",
       "      <td>...</td>\n",
       "      <td>NaN</td>\n",
       "      <td>NaN</td>\n",
       "      <td>NaN</td>\n",
       "      <td>NaN</td>\n",
       "      <td>NaN</td>\n",
       "      <td>NaN</td>\n",
       "      <td>6</td>\n",
       "      <td>2</td>\n",
       "      <td>4</td>\n",
       "      <td>1</td>\n",
       "    </tr>\n",
       "  </tbody>\n",
       "</table>\n",
       "<p>5 rows × 30 columns</p>\n",
       "</div>"
      ],
      "text/plain": [
       "   platform        id                  title   type  \\\n",
       "30   Amazon   tm89134  The Gunman From Bodie  MOVIE   \n",
       "31   Amazon   tm89134  The Gunman From Bodie  MOVIE   \n",
       "32   Amazon   tm66674               Dynamite  MOVIE   \n",
       "33   Amazon  tm137955          Broken Dreams  MOVIE   \n",
       "34   Amazon   tm66674               Dynamite  MOVIE   \n",
       "\n",
       "                                          description  release_year  \\\n",
       "30  The Rough Riders are after a gang of rustlers....          1941   \n",
       "31  The Rough Riders are after a gang of rustlers....          1941   \n",
       "32  Two members of a dynamite crew--a rugged veter...          1949   \n",
       "33  Medical intern Robert Morley is distraught aft...          1933   \n",
       "34  Two members of a dynamite crew--a rugged veter...          1949   \n",
       "\n",
       "   age_certification  runtime          genres production_countries  ...  \\\n",
       "30               NaN       62         western               ['US']  ...   \n",
       "31               NaN       62         western               ['US']  ...   \n",
       "32               NaN       68    drama, crime               ['US']  ...   \n",
       "33               NaN       68  drama, romance               ['US']  ...   \n",
       "34               NaN       68    drama, crime               ['US']  ...   \n",
       "\n",
       "    genre5 genre6  genre7  genre8  genre9  genre10 genre program_type  \\\n",
       "30     NaN    NaN     NaN     NaN     NaN      NaN    19            2   \n",
       "31     NaN    NaN     NaN     NaN     NaN      NaN    19            2   \n",
       "32     NaN    NaN     NaN     NaN     NaN      NaN     6            2   \n",
       "33     NaN    NaN     NaN     NaN     NaN      NaN     6            2   \n",
       "34     NaN    NaN     NaN     NaN     NaN      NaN     6            2   \n",
       "\n",
       "   Platform decade  \n",
       "30        4      1  \n",
       "31        4      1  \n",
       "32        4      1  \n",
       "33        4      1  \n",
       "34        4      1  \n",
       "\n",
       "[5 rows x 30 columns]"
      ]
     },
     "execution_count": 83,
     "metadata": {},
     "output_type": "execute_result"
    }
   ],
   "source": [
    "amazon_df.head()"
   ]
  },
  {
   "cell_type": "code",
   "execution_count": 84,
   "id": "557e4e44",
   "metadata": {},
   "outputs": [],
   "source": [
    "hulu_df = streamingdata.loc[streamingdata['platform'] == 'Hulu']\n",
    "netflix_df = streamingdata.loc[streamingdata['platform'] == 'Netflix']\n",
    "disney_df = streamingdata.loc[streamingdata['platform'] == 'Disney']"
   ]
  },
  {
   "cell_type": "code",
   "execution_count": 159,
   "id": "7f721ca1",
   "metadata": {},
   "outputs": [
    {
     "data": {
      "text/html": [
       "<div>\n",
       "<style scoped>\n",
       "    .dataframe tbody tr th:only-of-type {\n",
       "        vertical-align: middle;\n",
       "    }\n",
       "\n",
       "    .dataframe tbody tr th {\n",
       "        vertical-align: top;\n",
       "    }\n",
       "\n",
       "    .dataframe thead th {\n",
       "        text-align: right;\n",
       "    }\n",
       "</style>\n",
       "<table border=\"1\" class=\"dataframe\">\n",
       "  <thead>\n",
       "    <tr style=\"text-align: right;\">\n",
       "      <th></th>\n",
       "      <th>platform</th>\n",
       "      <th>id</th>\n",
       "      <th>title</th>\n",
       "      <th>type</th>\n",
       "      <th>description</th>\n",
       "      <th>release_year</th>\n",
       "      <th>age_certification</th>\n",
       "      <th>runtime</th>\n",
       "      <th>genres</th>\n",
       "      <th>production_countries</th>\n",
       "      <th>seasons</th>\n",
       "      <th>imdb_id</th>\n",
       "      <th>imdb_score</th>\n",
       "      <th>imdb_votes</th>\n",
       "      <th>tmdb_popularity</th>\n",
       "      <th>tmdb_score</th>\n",
       "      <th>genre1</th>\n",
       "      <th>genre2</th>\n",
       "      <th>genre3</th>\n",
       "      <th>genre4</th>\n",
       "      <th>genre5</th>\n",
       "      <th>genre6</th>\n",
       "      <th>genre7</th>\n",
       "      <th>genre8</th>\n",
       "      <th>genre9</th>\n",
       "      <th>genre10</th>\n",
       "      <th>genre</th>\n",
       "      <th>program_type</th>\n",
       "      <th>Platform</th>\n",
       "      <th>decade</th>\n",
       "    </tr>\n",
       "  </thead>\n",
       "  <tbody>\n",
       "    <tr>\n",
       "      <th>528</th>\n",
       "      <td>Hulu</td>\n",
       "      <td>ts20005</td>\n",
       "      <td>I Love Lucy</td>\n",
       "      <td>SHOW</td>\n",
       "      <td>Cuban Bandleader Ricky Ricardo would be happy ...</td>\n",
       "      <td>1951</td>\n",
       "      <td>TV-G</td>\n",
       "      <td>30</td>\n",
       "      <td>comedy, family</td>\n",
       "      <td>['US']</td>\n",
       "      <td>9.0</td>\n",
       "      <td>tt0043208</td>\n",
       "      <td>8.5</td>\n",
       "      <td>25944.0</td>\n",
       "      <td>17.088</td>\n",
       "      <td>8.1</td>\n",
       "      <td>comedy</td>\n",
       "      <td>family</td>\n",
       "      <td>NaN</td>\n",
       "      <td>NaN</td>\n",
       "      <td>NaN</td>\n",
       "      <td>NaN</td>\n",
       "      <td>NaN</td>\n",
       "      <td>NaN</td>\n",
       "      <td>NaN</td>\n",
       "      <td>NaN</td>\n",
       "      <td>3</td>\n",
       "      <td>1</td>\n",
       "      <td>3</td>\n",
       "      <td>1</td>\n",
       "    </tr>\n",
       "    <tr>\n",
       "      <th>529</th>\n",
       "      <td>Hulu</td>\n",
       "      <td>ts20690</td>\n",
       "      <td>The Lucy Show</td>\n",
       "      <td>SHOW</td>\n",
       "      <td>The Lucy Show is an American sitcom that aired...</td>\n",
       "      <td>1962</td>\n",
       "      <td>NaN</td>\n",
       "      <td>30</td>\n",
       "      <td>comedy</td>\n",
       "      <td>['US']</td>\n",
       "      <td>6.0</td>\n",
       "      <td>tt0055686</td>\n",
       "      <td>7.2</td>\n",
       "      <td>2797.0</td>\n",
       "      <td>8.858</td>\n",
       "      <td>7.5</td>\n",
       "      <td>comedy</td>\n",
       "      <td>NaN</td>\n",
       "      <td>NaN</td>\n",
       "      <td>NaN</td>\n",
       "      <td>NaN</td>\n",
       "      <td>NaN</td>\n",
       "      <td>NaN</td>\n",
       "      <td>NaN</td>\n",
       "      <td>NaN</td>\n",
       "      <td>NaN</td>\n",
       "      <td>3</td>\n",
       "      <td>1</td>\n",
       "      <td>3</td>\n",
       "      <td>1</td>\n",
       "    </tr>\n",
       "    <tr>\n",
       "      <th>530</th>\n",
       "      <td>Hulu</td>\n",
       "      <td>tm19438</td>\n",
       "      <td>The Princess Bride</td>\n",
       "      <td>MOVIE</td>\n",
       "      <td>In this enchantingly cracked fairy tale, the b...</td>\n",
       "      <td>1987</td>\n",
       "      <td>PG</td>\n",
       "      <td>99</td>\n",
       "      <td>fantasy, family, romance</td>\n",
       "      <td>['US']</td>\n",
       "      <td>NaN</td>\n",
       "      <td>tt0093779</td>\n",
       "      <td>8.0</td>\n",
       "      <td>420521.0</td>\n",
       "      <td>21.284</td>\n",
       "      <td>7.7</td>\n",
       "      <td>fantasy</td>\n",
       "      <td>family</td>\n",
       "      <td>romance</td>\n",
       "      <td>NaN</td>\n",
       "      <td>NaN</td>\n",
       "      <td>NaN</td>\n",
       "      <td>NaN</td>\n",
       "      <td>NaN</td>\n",
       "      <td>NaN</td>\n",
       "      <td>NaN</td>\n",
       "      <td>9</td>\n",
       "      <td>2</td>\n",
       "      <td>3</td>\n",
       "      <td>3</td>\n",
       "    </tr>\n",
       "    <tr>\n",
       "      <th>531</th>\n",
       "      <td>Hulu</td>\n",
       "      <td>ts20711</td>\n",
       "      <td>The Simpsons</td>\n",
       "      <td>SHOW</td>\n",
       "      <td>The satiric adventures of a working-class fami...</td>\n",
       "      <td>1989</td>\n",
       "      <td>TV-14</td>\n",
       "      <td>27</td>\n",
       "      <td>animation, comedy</td>\n",
       "      <td>['US']</td>\n",
       "      <td>34.0</td>\n",
       "      <td>tt0096697</td>\n",
       "      <td>8.7</td>\n",
       "      <td>394764.0</td>\n",
       "      <td>516.381</td>\n",
       "      <td>7.9</td>\n",
       "      <td>animation</td>\n",
       "      <td>comedy</td>\n",
       "      <td>NaN</td>\n",
       "      <td>NaN</td>\n",
       "      <td>NaN</td>\n",
       "      <td>NaN</td>\n",
       "      <td>NaN</td>\n",
       "      <td>NaN</td>\n",
       "      <td>NaN</td>\n",
       "      <td>NaN</td>\n",
       "      <td>2</td>\n",
       "      <td>1</td>\n",
       "      <td>3</td>\n",
       "      <td>3</td>\n",
       "    </tr>\n",
       "    <tr>\n",
       "      <th>532</th>\n",
       "      <td>Hulu</td>\n",
       "      <td>tm180542</td>\n",
       "      <td>Once Upon a Time in America</td>\n",
       "      <td>MOVIE</td>\n",
       "      <td>A former Prohibition-era Jewish gangster retur...</td>\n",
       "      <td>1984</td>\n",
       "      <td>R</td>\n",
       "      <td>229</td>\n",
       "      <td>drama, crime, european</td>\n",
       "      <td>['US', 'IT']</td>\n",
       "      <td>NaN</td>\n",
       "      <td>tt0087843</td>\n",
       "      <td>8.3</td>\n",
       "      <td>342335.0</td>\n",
       "      <td>21.322</td>\n",
       "      <td>8.4</td>\n",
       "      <td>drama</td>\n",
       "      <td>crime</td>\n",
       "      <td>european</td>\n",
       "      <td>NaN</td>\n",
       "      <td>NaN</td>\n",
       "      <td>NaN</td>\n",
       "      <td>NaN</td>\n",
       "      <td>NaN</td>\n",
       "      <td>NaN</td>\n",
       "      <td>NaN</td>\n",
       "      <td>6</td>\n",
       "      <td>2</td>\n",
       "      <td>3</td>\n",
       "      <td>3</td>\n",
       "    </tr>\n",
       "  </tbody>\n",
       "</table>\n",
       "</div>"
      ],
      "text/plain": [
       "    platform        id                        title   type  \\\n",
       "528     Hulu   ts20005                  I Love Lucy   SHOW   \n",
       "529     Hulu   ts20690                The Lucy Show   SHOW   \n",
       "530     Hulu   tm19438           The Princess Bride  MOVIE   \n",
       "531     Hulu   ts20711                 The Simpsons   SHOW   \n",
       "532     Hulu  tm180542  Once Upon a Time in America  MOVIE   \n",
       "\n",
       "                                           description  release_year  \\\n",
       "528  Cuban Bandleader Ricky Ricardo would be happy ...          1951   \n",
       "529  The Lucy Show is an American sitcom that aired...          1962   \n",
       "530  In this enchantingly cracked fairy tale, the b...          1987   \n",
       "531  The satiric adventures of a working-class fami...          1989   \n",
       "532  A former Prohibition-era Jewish gangster retur...          1984   \n",
       "\n",
       "    age_certification  runtime                    genres production_countries  \\\n",
       "528              TV-G       30            comedy, family               ['US']   \n",
       "529               NaN       30                    comedy               ['US']   \n",
       "530                PG       99  fantasy, family, romance               ['US']   \n",
       "531             TV-14       27         animation, comedy               ['US']   \n",
       "532                 R      229    drama, crime, european         ['US', 'IT']   \n",
       "\n",
       "     seasons    imdb_id  imdb_score  imdb_votes  tmdb_popularity tmdb_score  \\\n",
       "528      9.0  tt0043208         8.5     25944.0           17.088        8.1   \n",
       "529      6.0  tt0055686         7.2      2797.0            8.858        7.5   \n",
       "530      NaN  tt0093779         8.0    420521.0           21.284        7.7   \n",
       "531     34.0  tt0096697         8.7    394764.0          516.381        7.9   \n",
       "532      NaN  tt0087843         8.3    342335.0           21.322        8.4   \n",
       "\n",
       "        genre1  genre2    genre3 genre4 genre5 genre6 genre7 genre8 genre9  \\\n",
       "528     comedy  family       NaN    NaN    NaN    NaN    NaN    NaN    NaN   \n",
       "529     comedy     NaN       NaN    NaN    NaN    NaN    NaN    NaN    NaN   \n",
       "530    fantasy  family   romance    NaN    NaN    NaN    NaN    NaN    NaN   \n",
       "531  animation  comedy       NaN    NaN    NaN    NaN    NaN    NaN    NaN   \n",
       "532      drama   crime  european    NaN    NaN    NaN    NaN    NaN    NaN   \n",
       "\n",
       "    genre10 genre program_type Platform  decade  \n",
       "528     NaN     3            1        3       1  \n",
       "529     NaN     3            1        3       1  \n",
       "530     NaN     9            2        3       3  \n",
       "531     NaN     2            1        3       3  \n",
       "532     NaN     6            2        3       3  "
      ]
     },
     "execution_count": 159,
     "metadata": {},
     "output_type": "execute_result"
    }
   ],
   "source": [
    "hulu_df.head()"
   ]
  },
  {
   "cell_type": "code",
   "execution_count": 158,
   "id": "dd0488a8",
   "metadata": {},
   "outputs": [],
   "source": [
    "pd.options.display.max_columns = None"
   ]
  },
  {
   "cell_type": "code",
   "execution_count": 160,
   "id": "08468f73",
   "metadata": {},
   "outputs": [
    {
     "data": {
      "text/plain": [
       "nan    160\n",
       "7.0     95\n",
       "7.5     94\n",
       "7.8     77\n",
       "6.0     76\n",
       "      ... \n",
       "2.5      1\n",
       "9.6      1\n",
       "9.8      1\n",
       "3.2      1\n",
       "3.1      1\n",
       "Name: tmdb_score, Length: 75, dtype: int64"
      ]
     },
     "execution_count": 160,
     "metadata": {},
     "output_type": "execute_result"
    }
   ],
   "source": [
    "hulu_df.tmdb_score.value_counts()"
   ]
  },
  {
   "cell_type": "code",
   "execution_count": 105,
   "id": "f81a6a3d",
   "metadata": {},
   "outputs": [],
   "source": [
    "hulu1 = hulu_df.drop(['description', 'age_certification', 'genres', 'production_countries','seasons','genre1', \n",
    "                      'genre2', 'genre3', 'genre4', 'genre5', 'genre6', \n",
    "                      'genre7','genre8', 'genre9', 'genre10'], axis=1)\n",
    "netflix1 = netflix_df.drop(['description', 'age_certification', 'genres', 'production_countries','seasons','genre1', \n",
    "                      'genre2', 'genre3', 'genre4', 'genre5', 'genre6', \n",
    "                      'genre7','genre8', 'genre9', 'genre10'], axis=1)\n",
    "disney1 = disney_df.drop(['description', 'age_certification', 'genres', 'production_countries','seasons','genre1', \n",
    "                      'genre2', 'genre3', 'genre4', 'genre5', 'genre6', \n",
    "                      'genre7','genre8', 'genre9', 'genre10'], axis=1)\n",
    "amazon1 = amazon_df.drop(['description', 'age_certification', 'genres', 'production_countries','seasons','genre1', \n",
    "                      'genre2', 'genre3', 'genre4', 'genre5', 'genre6', \n",
    "                      'genre7','genre8', 'genre9', 'genre10'], axis=1)"
   ]
  },
  {
   "cell_type": "code",
   "execution_count": 161,
   "id": "070c1acd",
   "metadata": {},
   "outputs": [],
   "source": [
    "hulu2 = hulu_df.drop(['description', 'age_certification', 'genres', 'production_countries','seasons','genre1', \n",
    "                      'genre2', 'genre3', 'genre4', 'genre5', 'genre6', \n",
    "                      'genre7','genre8', 'genre9', 'genre10'], axis=1)"
   ]
  },
  {
   "cell_type": "code",
   "execution_count": 162,
   "id": "01fd49b4",
   "metadata": {},
   "outputs": [
    {
     "data": {
      "text/plain": [
       "platform           2398\n",
       "id                 2398\n",
       "title              2398\n",
       "type               2398\n",
       "release_year       2398\n",
       "runtime            2398\n",
       "imdb_id            2263\n",
       "imdb_score         2232\n",
       "imdb_votes         2231\n",
       "tmdb_popularity    2348\n",
       "tmdb_score         2398\n",
       "genre              2374\n",
       "program_type       2398\n",
       "Platform           2398\n",
       "decade             2398\n",
       "dtype: int64"
      ]
     },
     "execution_count": 162,
     "metadata": {},
     "output_type": "execute_result"
    }
   ],
   "source": [
    "hulu2.count()"
   ]
  },
  {
   "cell_type": "code",
   "execution_count": 163,
   "id": "de08a449",
   "metadata": {},
   "outputs": [
    {
     "data": {
      "text/plain": [
       "platform             0\n",
       "id                   0\n",
       "title                0\n",
       "type                 0\n",
       "release_year         0\n",
       "runtime              0\n",
       "imdb_id            135\n",
       "imdb_score         166\n",
       "imdb_votes         167\n",
       "tmdb_popularity     50\n",
       "tmdb_score           0\n",
       "genre               24\n",
       "program_type         0\n",
       "Platform             0\n",
       "decade               0\n",
       "dtype: int64"
      ]
     },
     "execution_count": 163,
     "metadata": {},
     "output_type": "execute_result"
    }
   ],
   "source": [
    "hulu2.isnull().sum()"
   ]
  },
  {
   "cell_type": "code",
   "execution_count": 167,
   "id": "a740ed77",
   "metadata": {},
   "outputs": [],
   "source": [
    "hulu2.dropna(inplace=True)"
   ]
  },
  {
   "cell_type": "code",
   "execution_count": 168,
   "id": "3e34b806",
   "metadata": {},
   "outputs": [
    {
     "data": {
      "text/plain": [
       "platform           2193\n",
       "id                 2193\n",
       "title              2193\n",
       "type               2193\n",
       "release_year       2193\n",
       "runtime            2193\n",
       "imdb_id            2193\n",
       "imdb_score         2193\n",
       "imdb_votes         2193\n",
       "tmdb_popularity    2193\n",
       "tmdb_score         2193\n",
       "genre              2193\n",
       "program_type       2193\n",
       "Platform           2193\n",
       "decade             2193\n",
       "dtype: int64"
      ]
     },
     "execution_count": 168,
     "metadata": {},
     "output_type": "execute_result"
    }
   ],
   "source": [
    "hulu2.count()"
   ]
  },
  {
   "cell_type": "code",
   "execution_count": 172,
   "id": "78a77b90",
   "metadata": {},
   "outputs": [
    {
     "name": "stdout",
     "output_type": "stream",
     "text": [
      "platform            object\n",
      "id                  object\n",
      "title               object\n",
      "type                object\n",
      "release_year         int64\n",
      "runtime              int64\n",
      "imdb_id             object\n",
      "imdb_score         float64\n",
      "imdb_votes         float64\n",
      "tmdb_popularity    float64\n",
      "tmdb_score          object\n",
      "genre               object\n",
      "program_type        object\n",
      "Platform            object\n",
      "decade               int64\n",
      "dtype: object\n"
     ]
    }
   ],
   "source": [
    "print(hulu2.dtypes)"
   ]
  },
  {
   "cell_type": "code",
   "execution_count": 173,
   "id": "502b22a3",
   "metadata": {},
   "outputs": [],
   "source": [
    "hulu2['tmdb_score'] = hulu2['tmdb_score'].astype(float)"
   ]
  },
  {
   "cell_type": "code",
   "execution_count": 174,
   "id": "75cd9153",
   "metadata": {},
   "outputs": [],
   "source": [
    "hulu2_avg = hulu2.groupby('genre')['tmdb_score'].mean()"
   ]
  },
  {
   "cell_type": "code",
   "execution_count": 175,
   "id": "0e3af5ab",
   "metadata": {},
   "outputs": [
    {
     "data": {
      "text/plain": [
       "<AxesSubplot: xlabel='genre'>"
      ]
     },
     "execution_count": 175,
     "metadata": {},
     "output_type": "execute_result"
    },
    {
     "data": {
      "image/png": "[encoded data removed]",
      "text/plain": [
       "<Figure size 432x288 with 1 Axes>"
      ]
     },
     "metadata": {
      "needs_background": "light"
     },
     "output_type": "display_data"
    }
   ],
   "source": [
    "hulu2_avg.plot(kind='bar')"
   ]
  },
  {
   "cell_type": "code",
   "execution_count": 107,
   "id": "4d00ec6e",
   "metadata": {},
   "outputs": [
    {
     "data": {
      "text/plain": [
       "platform           1535\n",
       "id                 1535\n",
       "title              1535\n",
       "type               1535\n",
       "release_year       1535\n",
       "runtime            1535\n",
       "imdb_id            1133\n",
       "imdb_score         1108\n",
       "imdb_votes         1105\n",
       "tmdb_popularity    1524\n",
       "tmdb_score         1426\n",
       "genre              1507\n",
       "program_type       1535\n",
       "Platform           1535\n",
       "decade             1535\n",
       "dtype: int64"
      ]
     },
     "execution_count": 107,
     "metadata": {},
     "output_type": "execute_result"
    }
   ],
   "source": [
    "hulu1.count()\n",
    "amazon1.count()\n",
    "netflix1.count()\n",
    "disney1.count()"
   ]
  },
  {
   "cell_type": "code",
   "execution_count": 108,
   "id": "077fd412",
   "metadata": {},
   "outputs": [],
   "source": [
    "hulu1.dropna(inplace=True)\n",
    "netflix1.dropna(inplace=True)\n",
    "amazon1.dropna(inplace=True)\n",
    "disney1.dropna(inplace=True)"
   ]
  },
  {
   "cell_type": "code",
   "execution_count": 110,
   "id": "6020c7e6",
   "metadata": {},
   "outputs": [
    {
     "name": "stdout",
     "output_type": "stream",
     "text": [
      "platform            object\n",
      "id                  object\n",
      "title               object\n",
      "type                object\n",
      "release_year         int64\n",
      "runtime              int64\n",
      "imdb_id             object\n",
      "imdb_score         float64\n",
      "imdb_votes         float64\n",
      "tmdb_popularity    float64\n",
      "tmdb_score          object\n",
      "genre               object\n",
      "program_type        object\n",
      "Platform            object\n",
      "decade               int64\n",
      "dtype: object\n"
     ]
    }
   ],
   "source": [
    "print(hulu1.dtypes)"
   ]
  },
  {
   "cell_type": "code",
   "execution_count": 155,
   "id": "76cd4706",
   "metadata": {},
   "outputs": [
    {
     "data": {
      "text/plain": [
       "platform           2193\n",
       "id                 2193\n",
       "title              2193\n",
       "type               2193\n",
       "release_year       2193\n",
       "runtime            2193\n",
       "imdb_id            2193\n",
       "imdb_score         2193\n",
       "imdb_votes         2193\n",
       "tmdb_popularity    2193\n",
       "tmdb_score            0\n",
       "genre              2193\n",
       "program_type       2193\n",
       "Platform           2193\n",
       "decade             2193\n",
       "dtype: int64"
      ]
     },
     "execution_count": 155,
     "metadata": {},
     "output_type": "execute_result"
    }
   ],
   "source": [
    "hulu1.count()"
   ]
  },
  {
   "cell_type": "code",
   "execution_count": 156,
   "id": "f8a407d0",
   "metadata": {},
   "outputs": [
    {
     "data": {
      "text/html": [
       "<div>\n",
       "<style scoped>\n",
       "    .dataframe tbody tr th:only-of-type {\n",
       "        vertical-align: middle;\n",
       "    }\n",
       "\n",
       "    .dataframe tbody tr th {\n",
       "        vertical-align: top;\n",
       "    }\n",
       "\n",
       "    .dataframe thead th {\n",
       "        text-align: right;\n",
       "    }\n",
       "</style>\n",
       "<table border=\"1\" class=\"dataframe\">\n",
       "  <thead>\n",
       "    <tr style=\"text-align: right;\">\n",
       "      <th></th>\n",
       "      <th>platform</th>\n",
       "      <th>id</th>\n",
       "      <th>title</th>\n",
       "      <th>type</th>\n",
       "      <th>release_year</th>\n",
       "      <th>runtime</th>\n",
       "      <th>imdb_id</th>\n",
       "      <th>imdb_score</th>\n",
       "      <th>imdb_votes</th>\n",
       "      <th>tmdb_popularity</th>\n",
       "      <th>tmdb_score</th>\n",
       "      <th>genre</th>\n",
       "      <th>program_type</th>\n",
       "      <th>Platform</th>\n",
       "      <th>decade</th>\n",
       "    </tr>\n",
       "  </thead>\n",
       "  <tbody>\n",
       "    <tr>\n",
       "      <th>528</th>\n",
       "      <td>Hulu</td>\n",
       "      <td>ts20005</td>\n",
       "      <td>I Love Lucy</td>\n",
       "      <td>SHOW</td>\n",
       "      <td>1951</td>\n",
       "      <td>30</td>\n",
       "      <td>tt0043208</td>\n",
       "      <td>8.5</td>\n",
       "      <td>25944.0</td>\n",
       "      <td>17.088</td>\n",
       "      <td>NaN</td>\n",
       "      <td>3</td>\n",
       "      <td>1</td>\n",
       "      <td>3</td>\n",
       "      <td>1</td>\n",
       "    </tr>\n",
       "    <tr>\n",
       "      <th>529</th>\n",
       "      <td>Hulu</td>\n",
       "      <td>ts20690</td>\n",
       "      <td>The Lucy Show</td>\n",
       "      <td>SHOW</td>\n",
       "      <td>1962</td>\n",
       "      <td>30</td>\n",
       "      <td>tt0055686</td>\n",
       "      <td>7.2</td>\n",
       "      <td>2797.0</td>\n",
       "      <td>8.858</td>\n",
       "      <td>NaN</td>\n",
       "      <td>3</td>\n",
       "      <td>1</td>\n",
       "      <td>3</td>\n",
       "      <td>1</td>\n",
       "    </tr>\n",
       "    <tr>\n",
       "      <th>530</th>\n",
       "      <td>Hulu</td>\n",
       "      <td>tm19438</td>\n",
       "      <td>The Princess Bride</td>\n",
       "      <td>MOVIE</td>\n",
       "      <td>1987</td>\n",
       "      <td>99</td>\n",
       "      <td>tt0093779</td>\n",
       "      <td>8.0</td>\n",
       "      <td>420521.0</td>\n",
       "      <td>21.284</td>\n",
       "      <td>NaN</td>\n",
       "      <td>9</td>\n",
       "      <td>2</td>\n",
       "      <td>3</td>\n",
       "      <td>3</td>\n",
       "    </tr>\n",
       "    <tr>\n",
       "      <th>531</th>\n",
       "      <td>Hulu</td>\n",
       "      <td>ts20711</td>\n",
       "      <td>The Simpsons</td>\n",
       "      <td>SHOW</td>\n",
       "      <td>1989</td>\n",
       "      <td>27</td>\n",
       "      <td>tt0096697</td>\n",
       "      <td>8.7</td>\n",
       "      <td>394764.0</td>\n",
       "      <td>516.381</td>\n",
       "      <td>NaN</td>\n",
       "      <td>2</td>\n",
       "      <td>1</td>\n",
       "      <td>3</td>\n",
       "      <td>3</td>\n",
       "    </tr>\n",
       "    <tr>\n",
       "      <th>532</th>\n",
       "      <td>Hulu</td>\n",
       "      <td>tm180542</td>\n",
       "      <td>Once Upon a Time in America</td>\n",
       "      <td>MOVIE</td>\n",
       "      <td>1984</td>\n",
       "      <td>229</td>\n",
       "      <td>tt0087843</td>\n",
       "      <td>8.3</td>\n",
       "      <td>342335.0</td>\n",
       "      <td>21.322</td>\n",
       "      <td>NaN</td>\n",
       "      <td>6</td>\n",
       "      <td>2</td>\n",
       "      <td>3</td>\n",
       "      <td>3</td>\n",
       "    </tr>\n",
       "  </tbody>\n",
       "</table>\n",
       "</div>"
      ],
      "text/plain": [
       "    platform        id                        title   type  release_year  \\\n",
       "528     Hulu   ts20005                  I Love Lucy   SHOW          1951   \n",
       "529     Hulu   ts20690                The Lucy Show   SHOW          1962   \n",
       "530     Hulu   tm19438           The Princess Bride  MOVIE          1987   \n",
       "531     Hulu   ts20711                 The Simpsons   SHOW          1989   \n",
       "532     Hulu  tm180542  Once Upon a Time in America  MOVIE          1984   \n",
       "\n",
       "     runtime    imdb_id  imdb_score  imdb_votes  tmdb_popularity  tmdb_score  \\\n",
       "528       30  tt0043208         8.5     25944.0           17.088         NaN   \n",
       "529       30  tt0055686         7.2      2797.0            8.858         NaN   \n",
       "530       99  tt0093779         8.0    420521.0           21.284         NaN   \n",
       "531       27  tt0096697         8.7    394764.0          516.381         NaN   \n",
       "532      229  tt0087843         8.3    342335.0           21.322         NaN   \n",
       "\n",
       "     genre program_type Platform  decade  \n",
       "528      3            1        3       1  \n",
       "529      3            1        3       1  \n",
       "530      9            2        3       3  \n",
       "531      2            1        3       3  \n",
       "532      6            2        3       3  "
      ]
     },
     "execution_count": 156,
     "metadata": {},
     "output_type": "execute_result"
    }
   ],
   "source": [
    "hulu1.head()"
   ]
  },
  {
   "cell_type": "code",
   "execution_count": 114,
   "id": "9a9dad79",
   "metadata": {},
   "outputs": [],
   "source": [
    "disney1['genre'] = disney1['genre'].astype(int)\n",
    "disney1['tmdb_score'] = disney1['tmdb_score'].astype(float)"
   ]
  },
  {
   "cell_type": "code",
   "execution_count": 115,
   "id": "a1f4502f",
   "metadata": {},
   "outputs": [
    {
     "data": {
      "text/plain": [
       "genre\n",
       "1     7.165217\n",
       "10    6.514286\n",
       "11    6.900000\n",
       "12    7.050000\n",
       "13    7.526087\n",
       "14    6.789189\n",
       "15    7.110938\n",
       "17    6.923077\n",
       "18    8.400000\n",
       "19    6.725000\n",
       "2     6.743662\n",
       "3     6.658844\n",
       "4     7.375000\n",
       "5     7.297143\n",
       "6     6.909709\n",
       "9     6.759740\n",
       "Name: tmdb_score, dtype: float64"
      ]
     },
     "execution_count": 115,
     "metadata": {},
     "output_type": "execute_result"
    }
   ],
   "source": [
    "disney_df.groupby('genre')['tmdb_score'].mean()"
   ]
  },
  {
   "cell_type": "code",
   "execution_count": 116,
   "id": "4df0dcbd",
   "metadata": {},
   "outputs": [],
   "source": [
    "amazon1['genre'] = amazon1['genre'].astype(int)\n",
    "amazon1['tmdb_score'] = amazon1['tmdb_score'].astype(float)"
   ]
  },
  {
   "cell_type": "code",
   "execution_count": 117,
   "id": "75562269",
   "metadata": {},
   "outputs": [
    {
     "data": {
      "text/plain": [
       "genre\n",
       "1     5.970309\n",
       "10    6.678125\n",
       "11    5.032969\n",
       "12    6.718333\n",
       "13    7.055714\n",
       "14    5.866820\n",
       "15    5.939394\n",
       "16    6.350000\n",
       "17    5.621270\n",
       "18    6.897674\n",
       "19    5.320946\n",
       "2     6.924026\n",
       "3     5.975776\n",
       "4     6.064113\n",
       "5     6.824802\n",
       "6     6.155075\n",
       "7     5.850000\n",
       "8     6.549425\n",
       "9     5.796111\n",
       "Name: tmdb_score, dtype: float64"
      ]
     },
     "execution_count": 117,
     "metadata": {},
     "output_type": "execute_result"
    }
   ],
   "source": [
    "amazon_df.groupby('genre')['tmdb_score'].mean()"
   ]
  },
  {
   "cell_type": "code",
   "execution_count": 118,
   "id": "988cd8f6",
   "metadata": {},
   "outputs": [],
   "source": [
    "netflix1['genre'] = netflix1['genre'].astype(int)\n",
    "netflix1['tmdb_score'] = netflix1['tmdb_score'].astype(float)"
   ]
  },
  {
   "cell_type": "code",
   "execution_count": 129,
   "id": "e3502640",
   "metadata": {},
   "outputs": [],
   "source": [
    "\n",
    "netflix_avg = netflix_df.groupby('genre')['tmdb_score'].mean()\n"
   ]
  },
  {
   "cell_type": "code",
   "execution_count": 131,
   "id": "f2410704",
   "metadata": {},
   "outputs": [
    {
     "data": {
      "text/plain": [
       "<AxesSubplot: xlabel='genre'>"
      ]
     },
     "execution_count": 131,
     "metadata": {},
     "output_type": "execute_result"
    },
    {
     "data": {
      "image/png": "[encoded data removed]",
      "text/plain": [
       "<Figure size 432x288 with 1 Axes>"
      ]
     },
     "metadata": {
      "needs_background": "light"
     },
     "output_type": "display_data"
    }
   ],
   "source": [
    "netflix_avg.plot(kind='bar')"
   ]
  },
  {
   "cell_type": "code",
   "execution_count": 141,
   "id": "da25b72c",
   "metadata": {},
   "outputs": [],
   "source": [
    "amazon1['genre'] = amazon1['genre'].astype(int)\n",
    "amazon1['tmdb_score'] = amazon1['tmdb_score'].astype(float)"
   ]
  },
  {
   "cell_type": "code",
   "execution_count": 143,
   "id": "d93780c5",
   "metadata": {},
   "outputs": [],
   "source": [
    "amazon_avg = amazon_df.groupby('genre')['tmdb_score'].mean()"
   ]
  },
  {
   "cell_type": "code",
   "execution_count": 144,
   "id": "e0a38310",
   "metadata": {},
   "outputs": [
    {
     "data": {
      "text/plain": [
       "<AxesSubplot: xlabel='genre'>"
      ]
     },
     "execution_count": 144,
     "metadata": {},
     "output_type": "execute_result"
    },
    {
     "data": {
      "image/png": "[encoded data removed]",
      "text/plain": [
       "<Figure size 432x288 with 1 Axes>"
      ]
     },
     "metadata": {
      "needs_background": "light"
     },
     "output_type": "display_data"
    }
   ],
   "source": [
    "amazon_avg.plot(kind='bar')"
   ]
  },
  {
   "cell_type": "code",
   "execution_count": 145,
   "id": "c35e1aa5",
   "metadata": {},
   "outputs": [],
   "source": [
    "disney1['genre'] = disney1['genre'].astype(int)\n",
    "disney1['tmdb_score'] = disney1['tmdb_score'].astype(float)"
   ]
  },
  {
   "cell_type": "code",
   "execution_count": 146,
   "id": "6360cdac",
   "metadata": {},
   "outputs": [],
   "source": [
    "disney_avg = disney_df.groupby('genre')['tmdb_score'].mean()"
   ]
  },
  {
   "cell_type": "code",
   "execution_count": 147,
   "id": "5ce1e1c1",
   "metadata": {},
   "outputs": [
    {
     "data": {
      "text/plain": [
       "<AxesSubplot: xlabel='genre'>"
      ]
     },
     "execution_count": 147,
     "metadata": {},
     "output_type": "execute_result"
    },
    {
     "data": {
      "image/png": "[encoded data removed]",
      "text/plain": [
       "<Figure size 432x288 with 1 Axes>"
      ]
     },
     "metadata": {
      "needs_background": "light"
     },
     "output_type": "display_data"
    }
   ],
   "source": [
    "disney_avg.plot(kind='bar')"
   ]
  },
  {
   "cell_type": "code",
   "execution_count": 176,
   "id": "95dfe243",
   "metadata": {},
   "outputs": [],
   "source": [
    "import seaborn as sns\n",
    "%matplotlib inline\n",
    "from sklearn.cluster import KMeans"
   ]
  },
  {
   "cell_type": "code",
   "execution_count": 301,
   "id": "15e31db9",
   "metadata": {},
   "outputs": [],
   "source": [
    "sd2 = sd1.drop(['id', 'runtime','release_year','imdb_id','imdb_score','imdb_votes','program_type','Rating'], axis=1)"
   ]
  },
  {
   "cell_type": "code",
   "execution_count": 302,
   "id": "567f76ad",
   "metadata": {},
   "outputs": [
    {
     "data": {
      "text/html": [
       "<div>\n",
       "<style scoped>\n",
       "    .dataframe tbody tr th:only-of-type {\n",
       "        vertical-align: middle;\n",
       "    }\n",
       "\n",
       "    .dataframe tbody tr th {\n",
       "        vertical-align: top;\n",
       "    }\n",
       "\n",
       "    .dataframe thead th {\n",
       "        text-align: right;\n",
       "    }\n",
       "</style>\n",
       "<table border=\"1\" class=\"dataframe\">\n",
       "  <thead>\n",
       "    <tr style=\"text-align: right;\">\n",
       "      <th></th>\n",
       "      <th>tmdb_popularity</th>\n",
       "      <th>tmdb_score</th>\n",
       "      <th>genre</th>\n",
       "      <th>Platform</th>\n",
       "      <th>decade</th>\n",
       "      <th>Rating1</th>\n",
       "    </tr>\n",
       "  </thead>\n",
       "  <tbody>\n",
       "    <tr>\n",
       "      <th>0</th>\n",
       "      <td>21.284</td>\n",
       "      <td>7.7</td>\n",
       "      <td>9</td>\n",
       "      <td>2</td>\n",
       "      <td>3</td>\n",
       "      <td>1.0</td>\n",
       "    </tr>\n",
       "    <tr>\n",
       "      <th>1</th>\n",
       "      <td>516.381</td>\n",
       "      <td>7.9</td>\n",
       "      <td>2</td>\n",
       "      <td>2</td>\n",
       "      <td>3</td>\n",
       "      <td>1.0</td>\n",
       "    </tr>\n",
       "    <tr>\n",
       "      <th>2</th>\n",
       "      <td>18.117</td>\n",
       "      <td>7.0</td>\n",
       "      <td>2</td>\n",
       "      <td>2</td>\n",
       "      <td>3</td>\n",
       "      <td>1.0</td>\n",
       "    </tr>\n",
       "    <tr>\n",
       "      <th>3</th>\n",
       "      <td>8.697</td>\n",
       "      <td>6.8</td>\n",
       "      <td>2</td>\n",
       "      <td>2</td>\n",
       "      <td>4</td>\n",
       "      <td>1.0</td>\n",
       "    </tr>\n",
       "    <tr>\n",
       "      <th>4</th>\n",
       "      <td>37.730</td>\n",
       "      <td>6.5</td>\n",
       "      <td>9</td>\n",
       "      <td>2</td>\n",
       "      <td>5</td>\n",
       "      <td>1.0</td>\n",
       "    </tr>\n",
       "  </tbody>\n",
       "</table>\n",
       "</div>"
      ],
      "text/plain": [
       "   tmdb_popularity  tmdb_score  genre  Platform  decade  Rating1\n",
       "0           21.284         7.7      9         2       3      1.0\n",
       "1          516.381         7.9      2         2       3      1.0\n",
       "2           18.117         7.0      2         2       3      1.0\n",
       "3            8.697         6.8      2         2       4      1.0\n",
       "4           37.730         6.5      9         2       5      1.0"
      ]
     },
     "execution_count": 302,
     "metadata": {},
     "output_type": "execute_result"
    }
   ],
   "source": [
    "sd2.head()"
   ]
  },
  {
   "cell_type": "code",
   "execution_count": 303,
   "id": "6e07482d",
   "metadata": {},
   "outputs": [
    {
     "name": "stdout",
     "output_type": "stream",
     "text": [
      "tmdb_popularity    float64\n",
      "tmdb_score         float64\n",
      "genre                int32\n",
      "Platform             int32\n",
      "decade               int64\n",
      "Rating1            float64\n",
      "dtype: object\n"
     ]
    }
   ],
   "source": [
    "print(sd2.dtypes)"
   ]
  },
  {
   "cell_type": "code",
   "execution_count": 304,
   "id": "12692142",
   "metadata": {},
   "outputs": [
    {
     "data": {
      "text/html": [
       "<style>#sk-container-id-8 {color: black;background-color: white;}#sk-container-id-8 pre{padding: 0;}#sk-container-id-8 div.sk-toggleable {background-color: white;}#sk-container-id-8 label.sk-toggleable__label {cursor: pointer;display: block;width: 100%;margin-bottom: 0;padding: 0.3em;box-sizing: border-box;text-align: center;}#sk-container-id-8 label.sk-toggleable__label-arrow:before {content: \"▸\";float: left;margin-right: 0.25em;color: #696969;}#sk-container-id-8 label.sk-toggleable__label-arrow:hover:before {color: black;}#sk-container-id-8 div.sk-estimator:hover label.sk-toggleable__label-arrow:before {color: black;}#sk-container-id-8 div.sk-toggleable__content {max-height: 0;max-width: 0;overflow: hidden;text-align: left;background-color: #f0f8ff;}#sk-container-id-8 div.sk-toggleable__content pre {margin: 0.2em;color: black;border-radius: 0.25em;background-color: #f0f8ff;}#sk-container-id-8 input.sk-toggleable__control:checked~div.sk-toggleable__content {max-height: 200px;max-width: 100%;overflow: auto;}#sk-container-id-8 input.sk-toggleable__control:checked~label.sk-toggleable__label-arrow:before {content: \"▾\";}#sk-container-id-8 div.sk-estimator input.sk-toggleable__control:checked~label.sk-toggleable__label {background-color: #d4ebff;}#sk-container-id-8 div.sk-label input.sk-toggleable__control:checked~label.sk-toggleable__label {background-color: #d4ebff;}#sk-container-id-8 input.sk-hidden--visually {border: 0;clip: rect(1px 1px 1px 1px);clip: rect(1px, 1px, 1px, 1px);height: 1px;margin: -1px;overflow: hidden;padding: 0;position: absolute;width: 1px;}#sk-container-id-8 div.sk-estimator {font-family: monospace;background-color: #f0f8ff;border: 1px dotted black;border-radius: 0.25em;box-sizing: border-box;margin-bottom: 0.5em;}#sk-container-id-8 div.sk-estimator:hover {background-color: #d4ebff;}#sk-container-id-8 div.sk-parallel-item::after {content: \"\";width: 100%;border-bottom: 1px solid gray;flex-grow: 1;}#sk-container-id-8 div.sk-label:hover label.sk-toggleable__label {background-color: #d4ebff;}#sk-container-id-8 div.sk-serial::before {content: \"\";position: absolute;border-left: 1px solid gray;box-sizing: border-box;top: 0;bottom: 0;left: 50%;z-index: 0;}#sk-container-id-8 div.sk-serial {display: flex;flex-direction: column;align-items: center;background-color: white;padding-right: 0.2em;padding-left: 0.2em;position: relative;}#sk-container-id-8 div.sk-item {position: relative;z-index: 1;}#sk-container-id-8 div.sk-parallel {display: flex;align-items: stretch;justify-content: center;background-color: white;position: relative;}#sk-container-id-8 div.sk-item::before, #sk-container-id-8 div.sk-parallel-item::before {content: \"\";position: absolute;border-left: 1px solid gray;box-sizing: border-box;top: 0;bottom: 0;left: 50%;z-index: -1;}#sk-container-id-8 div.sk-parallel-item {display: flex;flex-direction: column;z-index: 1;position: relative;background-color: white;}#sk-container-id-8 div.sk-parallel-item:first-child::after {align-self: flex-end;width: 50%;}#sk-container-id-8 div.sk-parallel-item:last-child::after {align-self: flex-start;width: 50%;}#sk-container-id-8 div.sk-parallel-item:only-child::after {width: 0;}#sk-container-id-8 div.sk-dashed-wrapped {border: 1px dashed gray;margin: 0 0.4em 0.5em 0.4em;box-sizing: border-box;padding-bottom: 0.4em;background-color: white;}#sk-container-id-8 div.sk-label label {font-family: monospace;font-weight: bold;display: inline-block;line-height: 1.2em;}#sk-container-id-8 div.sk-label-container {text-align: center;}#sk-container-id-8 div.sk-container {/* jupyter's `normalize.less` sets `[hidden] { display: none; }` but bootstrap.min.css set `[hidden] { display: none !important; }` so we also need the `!important` here to be able to override the default hidden behavior on the sphinx rendered scikit-learn.org. See: https://github.com/scikit-learn/scikit-learn/issues/21755 */display: inline-block !important;position: relative;}#sk-container-id-8 div.sk-text-repr-fallback {display: none;}</style><div id=\"sk-container-id-8\" class=\"sk-top-container\"><div class=\"sk-text-repr-fallback\"><pre>KMeans(n_clusters=15)</pre><b>In a Jupyter environment, please rerun this cell to show the HTML representation or trust the notebook. <br />On GitHub, the HTML representation is unable to render, please try loading this page with nbviewer.org.</b></div><div class=\"sk-container\" hidden><div class=\"sk-item\"><div class=\"sk-estimator sk-toggleable\"><input class=\"sk-toggleable__control sk-hidden--visually\" id=\"sk-estimator-id-8\" type=\"checkbox\" checked><label for=\"sk-estimator-id-8\" class=\"sk-toggleable__label sk-toggleable__label-arrow\">KMeans</label><div class=\"sk-toggleable__content\"><pre>KMeans(n_clusters=15)</pre></div></div></div></div></div>"
      ],
      "text/plain": [
       "KMeans(n_clusters=15)"
      ]
     },
     "execution_count": 304,
     "metadata": {},
     "output_type": "execute_result"
    }
   ],
   "source": [
    "kmeans = KMeans(n_clusters=15)\n",
    "kmeans.fit(sd2)"
   ]
  },
  {
   "cell_type": "code",
   "execution_count": 305,
   "id": "45fe1642",
   "metadata": {},
   "outputs": [
    {
     "data": {
      "text/plain": [
       "<matplotlib.collections.PathCollection at 0x1950e117a00>"
      ]
     },
     "execution_count": 305,
     "metadata": {},
     "output_type": "execute_result"
    },
    {
     "data": {
      "image/png": "[encoded data removed]",
      "text/plain": [
       "<Figure size 720x432 with 1 Axes>"
      ]
     },
     "metadata": {
      "needs_background": "light"
     },
     "output_type": "display_data"
    }
   ],
   "source": [
    "plt.figure(figsize=(10,6))\n",
    "plt.title('K Means')\n",
    "plt.scatter(sd2['tmdb_score'], sd2['genre'], c=kmeans.labels_, cmap='viridis')"
   ]
  },
  {
   "cell_type": "code",
   "execution_count": 306,
   "id": "64363bb6",
   "metadata": {},
   "outputs": [
    {
     "data": {
      "text/plain": [
       "<matplotlib.collections.PathCollection at 0x195377b7ca0>"
      ]
     },
     "execution_count": 306,
     "metadata": {},
     "output_type": "execute_result"
    },
    {
     "data": {
      "image/png": "[encoded data removed]",
      "text/plain": [
       "<Figure size 720x432 with 1 Axes>"
      ]
     },
     "metadata": {
      "needs_background": "light"
     },
     "output_type": "display_data"
    }
   ],
   "source": [
    "plt.figure(figsize=(10,6))\n",
    "plt.title('K Means')\n",
    "plt.scatter(sd2['tmdb_score'], sd2['Platform'], c=kmeans.labels_, cmap='viridis')"
   ]
  },
  {
   "cell_type": "code",
   "execution_count": 307,
   "id": "697fbd76",
   "metadata": {},
   "outputs": [
    {
     "data": {
      "text/plain": [
       "<matplotlib.collections.PathCollection at 0x19539505a80>"
      ]
     },
     "execution_count": 307,
     "metadata": {},
     "output_type": "execute_result"
    },
    {
     "data": {
      "image/png": "[encoded data removed]",
      "text/plain": [
       "<Figure size 720x432 with 1 Axes>"
      ]
     },
     "metadata": {
      "needs_background": "light"
     },
     "output_type": "display_data"
    }
   ],
   "source": [
    "plt.figure(figsize=(10,6))\n",
    "plt.title('K Means')\n",
    "plt.scatter(sd2['tmdb_score'], sd2['decade'], c=kmeans.labels_, cmap='viridis')"
   ]
  },
  {
   "cell_type": "code",
   "execution_count": 308,
   "id": "7f518232",
   "metadata": {},
   "outputs": [
    {
     "data": {
      "text/plain": [
       "<matplotlib.collections.PathCollection at 0x195377ec580>"
      ]
     },
     "execution_count": 308,
     "metadata": {},
     "output_type": "execute_result"
    },
    {
     "data": {
      "image/png": "[encoded data removed]",
      "text/plain": [
       "<Figure size 720x432 with 1 Axes>"
      ]
     },
     "metadata": {
      "needs_background": "light"
     },
     "output_type": "display_data"
    }
   ],
   "source": [
    "plt.figure(figsize=(10,6))\n",
    "plt.title('K Means')\n",
    "plt.scatter(sd2['tmdb_popularity'], sd2['Platform'], c=kmeans.labels_, cmap='viridis')"
   ]
  },
  {
   "cell_type": "code",
   "execution_count": 309,
   "id": "cb014bf1",
   "metadata": {},
   "outputs": [
    {
     "data": {
      "text/plain": [
       "<matplotlib.collections.PathCollection at 0x1953a54df30>"
      ]
     },
     "execution_count": 309,
     "metadata": {},
     "output_type": "execute_result"
    },
    {
     "data": {
      "image/png": "[encoded data removed]",
      "text/plain": [
       "<Figure size 720x432 with 1 Axes>"
      ]
     },
     "metadata": {
      "needs_background": "light"
     },
     "output_type": "display_data"
    }
   ],
   "source": [
    "plt.figure(figsize=(10,6))\n",
    "plt.title('K Means')\n",
    "plt.scatter(sd2['tmdb_popularity'], sd2['genre'], c=kmeans.labels_, cmap='viridis')"
   ]
  },
  {
   "cell_type": "code",
   "execution_count": 267,
   "id": "acba06b1",
   "metadata": {},
   "outputs": [
    {
     "data": {
      "text/plain": [
       "<matplotlib.collections.PathCollection at 0x19537524850>"
      ]
     },
     "execution_count": 267,
     "metadata": {},
     "output_type": "execute_result"
    },
    {
     "data": {
      "image/png": "[encoded data removed]",
      "text/plain": [
       "<Figure size 720x432 with 1 Axes>"
      ]
     },
     "metadata": {
      "needs_background": "light"
     },
     "output_type": "display_data"
    }
   ],
   "source": [
    "plt.figure(figsize=(10,6))\n",
    "plt.title('K Means')\n",
    "plt.scatter(sd2['tmdb_popularity'], sd2['decade'], c=kmeans.labels_, cmap='viridis')"
   ]
  },
  {
   "cell_type": "code",
   "execution_count": 310,
   "id": "d96e33f0",
   "metadata": {},
   "outputs": [
    {
     "data": {
      "text/plain": [
       "<matplotlib.collections.PathCollection at 0x1953a54de10>"
      ]
     },
     "execution_count": 310,
     "metadata": {},
     "output_type": "execute_result"
    },
    {
     "data": {
      "image/png": "[encoded data removed]",
      "text/plain": [
       "<Figure size 720x432 with 1 Axes>"
      ]
     },
     "metadata": {
      "needs_background": "light"
     },
     "output_type": "display_data"
    }
   ],
   "source": [
    "plt.figure(figsize=(10,6))\n",
    "plt.title('K Means')\n",
    "plt.scatter(sd2['Platform'], sd2['genre'], c=kmeans.labels_, cmap='viridis')"
   ]
  },
  {
   "cell_type": "code",
   "execution_count": 311,
   "id": "d5d5e17a",
   "metadata": {},
   "outputs": [
    {
     "data": {
      "text/plain": [
       "<matplotlib.collections.PathCollection at 0x1953a692680>"
      ]
     },
     "execution_count": 311,
     "metadata": {},
     "output_type": "execute_result"
    },
    {
     "data": {
      "image/png": "[encoded data removed]",
      "text/plain": [
       "<Figure size 720x504 with 1 Axes>"
      ]
     },
     "metadata": {
      "needs_background": "light"
     },
     "output_type": "display_data"
    }
   ],
   "source": [
    "plt.figure(figsize=(10,7))\n",
    "plt.title('K Means')\n",
    "plt.scatter(sd2['decade'], sd2['genre'], c=kmeans.labels_, cmap='viridis')"
   ]
  },
  {
   "cell_type": "code",
   "execution_count": 318,
   "id": "b8c47c29",
   "metadata": {},
   "outputs": [
    {
     "data": {
      "text/plain": [
       "<matplotlib.collections.PathCollection at 0x1953a734640>"
      ]
     },
     "execution_count": 318,
     "metadata": {},
     "output_type": "execute_result"
    },
    {
     "data": {
      "image/png": "[encoded data removed]",
      "text/plain": [
       "<Figure size 720x504 with 1 Axes>"
      ]
     },
     "metadata": {
      "needs_background": "light"
     },
     "output_type": "display_data"
    }
   ],
   "source": [
    "plt.figure(figsize=(10,7))\n",
    "plt.title('K Means')\n",
    "plt.scatter(sd2['tmdb_popularity'], sd2['tmdb_score'], c=kmeans.labels_, cmap='viridis')"
   ]
  },
  {
   "cell_type": "code",
   "execution_count": 312,
   "id": "2af60f79",
   "metadata": {},
   "outputs": [],
   "source": [
    "sd2['Category'] = kmeans.labels_"
   ]
  },
  {
   "cell_type": "code",
   "execution_count": 313,
   "id": "e669f0e9",
   "metadata": {},
   "outputs": [
    {
     "data": {
      "text/html": [
       "<div>\n",
       "<style scoped>\n",
       "    .dataframe tbody tr th:only-of-type {\n",
       "        vertical-align: middle;\n",
       "    }\n",
       "\n",
       "    .dataframe tbody tr th {\n",
       "        vertical-align: top;\n",
       "    }\n",
       "\n",
       "    .dataframe thead th {\n",
       "        text-align: right;\n",
       "    }\n",
       "</style>\n",
       "<table border=\"1\" class=\"dataframe\">\n",
       "  <thead>\n",
       "    <tr style=\"text-align: right;\">\n",
       "      <th></th>\n",
       "      <th>tmdb_popularity</th>\n",
       "      <th>tmdb_score</th>\n",
       "      <th>genre</th>\n",
       "      <th>Platform</th>\n",
       "      <th>decade</th>\n",
       "      <th>Rating1</th>\n",
       "      <th>Category</th>\n",
       "    </tr>\n",
       "  </thead>\n",
       "  <tbody>\n",
       "    <tr>\n",
       "      <th>0</th>\n",
       "      <td>21.284</td>\n",
       "      <td>7.7</td>\n",
       "      <td>9</td>\n",
       "      <td>2</td>\n",
       "      <td>3</td>\n",
       "      <td>1.0</td>\n",
       "      <td>9</td>\n",
       "    </tr>\n",
       "    <tr>\n",
       "      <th>1</th>\n",
       "      <td>516.381</td>\n",
       "      <td>7.9</td>\n",
       "      <td>2</td>\n",
       "      <td>2</td>\n",
       "      <td>3</td>\n",
       "      <td>1.0</td>\n",
       "      <td>7</td>\n",
       "    </tr>\n",
       "    <tr>\n",
       "      <th>2</th>\n",
       "      <td>18.117</td>\n",
       "      <td>7.0</td>\n",
       "      <td>2</td>\n",
       "      <td>2</td>\n",
       "      <td>3</td>\n",
       "      <td>1.0</td>\n",
       "      <td>9</td>\n",
       "    </tr>\n",
       "    <tr>\n",
       "      <th>3</th>\n",
       "      <td>8.697</td>\n",
       "      <td>6.8</td>\n",
       "      <td>2</td>\n",
       "      <td>2</td>\n",
       "      <td>4</td>\n",
       "      <td>1.0</td>\n",
       "      <td>0</td>\n",
       "    </tr>\n",
       "    <tr>\n",
       "      <th>4</th>\n",
       "      <td>37.730</td>\n",
       "      <td>6.5</td>\n",
       "      <td>9</td>\n",
       "      <td>2</td>\n",
       "      <td>5</td>\n",
       "      <td>1.0</td>\n",
       "      <td>9</td>\n",
       "    </tr>\n",
       "  </tbody>\n",
       "</table>\n",
       "</div>"
      ],
      "text/plain": [
       "   tmdb_popularity  tmdb_score  genre  Platform  decade  Rating1  Category\n",
       "0           21.284         7.7      9         2       3      1.0         9\n",
       "1          516.381         7.9      2         2       3      1.0         7\n",
       "2           18.117         7.0      2         2       3      1.0         9\n",
       "3            8.697         6.8      2         2       4      1.0         0\n",
       "4           37.730         6.5      9         2       5      1.0         9"
      ]
     },
     "execution_count": 313,
     "metadata": {},
     "output_type": "execute_result"
    }
   ],
   "source": [
    "sd2.head()"
   ]
  },
  {
   "cell_type": "code",
   "execution_count": 314,
   "id": "91e13636",
   "metadata": {},
   "outputs": [
    {
     "data": {
      "text/plain": [
       "0     8414\n",
       "11    3587\n",
       "9     2152\n",
       "6      794\n",
       "10     316\n",
       "13     134\n",
       "3       77\n",
       "5       50\n",
       "7       28\n",
       "8       12\n",
       "2        7\n",
       "4        4\n",
       "14       2\n",
       "1        1\n",
       "12       1\n",
       "Name: Category, dtype: int64"
      ]
     },
     "execution_count": 314,
     "metadata": {},
     "output_type": "execute_result"
    }
   ],
   "source": [
    "sd2.Category.value_counts()"
   ]
  },
  {
   "cell_type": "code",
   "execution_count": 315,
   "id": "25da1c7b",
   "metadata": {},
   "outputs": [
    {
     "data": {
      "text/plain": [
       "Category\n",
       "0      4.440694\n",
       "1      1.000000\n",
       "2     10.142857\n",
       "3      7.584416\n",
       "4     11.000000\n",
       "5      7.740000\n",
       "6      7.853904\n",
       "7      7.892857\n",
       "8      7.666667\n",
       "9      7.199814\n",
       "10     7.310127\n",
       "11    14.972958\n",
       "12     6.000000\n",
       "13     6.694030\n",
       "14     3.000000\n",
       "Name: genre, dtype: float64"
      ]
     },
     "execution_count": 315,
     "metadata": {},
     "output_type": "execute_result"
    }
   ],
   "source": [
    "sd2.groupby('Category')['genre'].mean()"
   ]
  },
  {
   "cell_type": "code",
   "execution_count": 316,
   "id": "9d5e970b",
   "metadata": {},
   "outputs": [
    {
     "data": {
      "text/plain": [
       "Category\n",
       "0        4.713612\n",
       "1     9323.832000\n",
       "2     1282.435143\n",
       "3      245.253065\n",
       "4     2279.599500\n",
       "5      368.761420\n",
       "6       53.134123\n",
       "7      553.960714\n",
       "8      899.418750\n",
       "9       22.890201\n",
       "10      98.590943\n",
       "11       5.120366\n",
       "12    2989.846000\n",
       "13     159.902157\n",
       "14    1695.829500\n",
       "Name: tmdb_popularity, dtype: float64"
      ]
     },
     "execution_count": 316,
     "metadata": {},
     "output_type": "execute_result"
    }
   ],
   "source": [
    "sd2.groupby('Category')['tmdb_popularity'].mean()"
   ]
  },
  {
   "cell_type": "code",
   "execution_count": 317,
   "id": "819b979b",
   "metadata": {},
   "outputs": [
    {
     "data": {
      "text/plain": [
       "Category\n",
       "0     5.405871\n",
       "1     7.000000\n",
       "2     6.714286\n",
       "3     6.298701\n",
       "4     6.500000\n",
       "5     6.380000\n",
       "6     5.874055\n",
       "7     6.250000\n",
       "8     6.583333\n",
       "9     5.766264\n",
       "10    5.984177\n",
       "11    4.949261\n",
       "12    5.000000\n",
       "13    6.104478\n",
       "14    7.000000\n",
       "Name: decade, dtype: float64"
      ]
     },
     "execution_count": 317,
     "metadata": {},
     "output_type": "execute_result"
    }
   ],
   "source": [
    "sd2.groupby('Category')['decade'].mean()"
   ]
  },
  {
   "cell_type": "code",
   "execution_count": 276,
   "id": "7cb6e9bc",
   "metadata": {},
   "outputs": [],
   "source": [
    "#KNN\n",
    "from sklearn.preprocessing import StandardScaler\n",
    "from sklearn.model_selection import train_test_split\n",
    "from sklearn.neighbors import KNeighborsClassifier\n",
    "from sklearn.metrics import classification_report, confusion_matrix"
   ]
  },
  {
   "cell_type": "code",
   "execution_count": 324,
   "id": "6bd2d5c7",
   "metadata": {},
   "outputs": [],
   "source": [
    "#Predict Rating based on genre, score, platform\n",
    "sd3 = sd2.drop(['Category', 'decade','Rating1', 'tmdb_popularity'], axis=1)"
   ]
  },
  {
   "cell_type": "code",
   "execution_count": 325,
   "id": "67d79a41",
   "metadata": {},
   "outputs": [
    {
     "data": {
      "text/html": [
       "<div>\n",
       "<style scoped>\n",
       "    .dataframe tbody tr th:only-of-type {\n",
       "        vertical-align: middle;\n",
       "    }\n",
       "\n",
       "    .dataframe tbody tr th {\n",
       "        vertical-align: top;\n",
       "    }\n",
       "\n",
       "    .dataframe thead th {\n",
       "        text-align: right;\n",
       "    }\n",
       "</style>\n",
       "<table border=\"1\" class=\"dataframe\">\n",
       "  <thead>\n",
       "    <tr style=\"text-align: right;\">\n",
       "      <th></th>\n",
       "      <th>tmdb_score</th>\n",
       "      <th>genre</th>\n",
       "      <th>Platform</th>\n",
       "    </tr>\n",
       "  </thead>\n",
       "  <tbody>\n",
       "    <tr>\n",
       "      <th>0</th>\n",
       "      <td>7.7</td>\n",
       "      <td>9</td>\n",
       "      <td>2</td>\n",
       "    </tr>\n",
       "    <tr>\n",
       "      <th>1</th>\n",
       "      <td>7.9</td>\n",
       "      <td>2</td>\n",
       "      <td>2</td>\n",
       "    </tr>\n",
       "    <tr>\n",
       "      <th>2</th>\n",
       "      <td>7.0</td>\n",
       "      <td>2</td>\n",
       "      <td>2</td>\n",
       "    </tr>\n",
       "    <tr>\n",
       "      <th>3</th>\n",
       "      <td>6.8</td>\n",
       "      <td>2</td>\n",
       "      <td>2</td>\n",
       "    </tr>\n",
       "    <tr>\n",
       "      <th>4</th>\n",
       "      <td>6.5</td>\n",
       "      <td>9</td>\n",
       "      <td>2</td>\n",
       "    </tr>\n",
       "  </tbody>\n",
       "</table>\n",
       "</div>"
      ],
      "text/plain": [
       "   tmdb_score  genre  Platform\n",
       "0         7.7      9         2\n",
       "1         7.9      2         2\n",
       "2         7.0      2         2\n",
       "3         6.8      2         2\n",
       "4         6.5      9         2"
      ]
     },
     "execution_count": 325,
     "metadata": {},
     "output_type": "execute_result"
    }
   ],
   "source": [
    "sd3.head()"
   ]
  },
  {
   "cell_type": "code",
   "execution_count": 326,
   "id": "9b9cb350",
   "metadata": {},
   "outputs": [],
   "source": [
    "scaler = StandardScaler()\n",
    "scaler.fit(sd3)\n",
    "scaledVariables = scaler.transform(sd3)\n",
    "sd3scaled = pd.DataFrame(scaledVariables)"
   ]
  },
  {
   "cell_type": "code",
   "execution_count": 327,
   "id": "08ba8144",
   "metadata": {},
   "outputs": [
    {
     "data": {
      "text/html": [
       "<div>\n",
       "<style scoped>\n",
       "    .dataframe tbody tr th:only-of-type {\n",
       "        vertical-align: middle;\n",
       "    }\n",
       "\n",
       "    .dataframe tbody tr th {\n",
       "        vertical-align: top;\n",
       "    }\n",
       "\n",
       "    .dataframe thead th {\n",
       "        text-align: right;\n",
       "    }\n",
       "</style>\n",
       "<table border=\"1\" class=\"dataframe\">\n",
       "  <thead>\n",
       "    <tr style=\"text-align: right;\">\n",
       "      <th></th>\n",
       "      <th>0</th>\n",
       "      <th>1</th>\n",
       "      <th>2</th>\n",
       "    </tr>\n",
       "  </thead>\n",
       "  <tbody>\n",
       "    <tr>\n",
       "      <th>0</th>\n",
       "      <td>0.901477</td>\n",
       "      <td>0.277377</td>\n",
       "      <td>-0.556709</td>\n",
       "    </tr>\n",
       "    <tr>\n",
       "      <th>1</th>\n",
       "      <td>1.045401</td>\n",
       "      <td>-1.049907</td>\n",
       "      <td>-0.556709</td>\n",
       "    </tr>\n",
       "    <tr>\n",
       "      <th>2</th>\n",
       "      <td>0.397739</td>\n",
       "      <td>-1.049907</td>\n",
       "      <td>-0.556709</td>\n",
       "    </tr>\n",
       "    <tr>\n",
       "      <th>3</th>\n",
       "      <td>0.253815</td>\n",
       "      <td>-1.049907</td>\n",
       "      <td>-0.556709</td>\n",
       "    </tr>\n",
       "    <tr>\n",
       "      <th>4</th>\n",
       "      <td>0.037927</td>\n",
       "      <td>0.277377</td>\n",
       "      <td>-0.556709</td>\n",
       "    </tr>\n",
       "  </tbody>\n",
       "</table>\n",
       "</div>"
      ],
      "text/plain": [
       "          0         1         2\n",
       "0  0.901477  0.277377 -0.556709\n",
       "1  1.045401 -1.049907 -0.556709\n",
       "2  0.397739 -1.049907 -0.556709\n",
       "3  0.253815 -1.049907 -0.556709\n",
       "4  0.037927  0.277377 -0.556709"
      ]
     },
     "execution_count": 327,
     "metadata": {},
     "output_type": "execute_result"
    }
   ],
   "source": [
    "sd3scaled.head()"
   ]
  },
  {
   "cell_type": "code",
   "execution_count": 328,
   "id": "cb66c342",
   "metadata": {},
   "outputs": [],
   "source": [
    "sd3scaled.rename(columns={0: 'TMDB Score', 1: 'Genre', 2: 'Platform'}, inplace=True)"
   ]
  },
  {
   "cell_type": "code",
   "execution_count": 329,
   "id": "d6458cfd",
   "metadata": {},
   "outputs": [
    {
     "data": {
      "text/html": [
       "<div>\n",
       "<style scoped>\n",
       "    .dataframe tbody tr th:only-of-type {\n",
       "        vertical-align: middle;\n",
       "    }\n",
       "\n",
       "    .dataframe tbody tr th {\n",
       "        vertical-align: top;\n",
       "    }\n",
       "\n",
       "    .dataframe thead th {\n",
       "        text-align: right;\n",
       "    }\n",
       "</style>\n",
       "<table border=\"1\" class=\"dataframe\">\n",
       "  <thead>\n",
       "    <tr style=\"text-align: right;\">\n",
       "      <th></th>\n",
       "      <th>TMDB Score</th>\n",
       "      <th>Genre</th>\n",
       "      <th>Platform</th>\n",
       "    </tr>\n",
       "  </thead>\n",
       "  <tbody>\n",
       "    <tr>\n",
       "      <th>0</th>\n",
       "      <td>0.901477</td>\n",
       "      <td>0.277377</td>\n",
       "      <td>-0.556709</td>\n",
       "    </tr>\n",
       "    <tr>\n",
       "      <th>1</th>\n",
       "      <td>1.045401</td>\n",
       "      <td>-1.049907</td>\n",
       "      <td>-0.556709</td>\n",
       "    </tr>\n",
       "    <tr>\n",
       "      <th>2</th>\n",
       "      <td>0.397739</td>\n",
       "      <td>-1.049907</td>\n",
       "      <td>-0.556709</td>\n",
       "    </tr>\n",
       "    <tr>\n",
       "      <th>3</th>\n",
       "      <td>0.253815</td>\n",
       "      <td>-1.049907</td>\n",
       "      <td>-0.556709</td>\n",
       "    </tr>\n",
       "    <tr>\n",
       "      <th>4</th>\n",
       "      <td>0.037927</td>\n",
       "      <td>0.277377</td>\n",
       "      <td>-0.556709</td>\n",
       "    </tr>\n",
       "  </tbody>\n",
       "</table>\n",
       "</div>"
      ],
      "text/plain": [
       "   TMDB Score     Genre  Platform\n",
       "0    0.901477  0.277377 -0.556709\n",
       "1    1.045401 -1.049907 -0.556709\n",
       "2    0.397739 -1.049907 -0.556709\n",
       "3    0.253815 -1.049907 -0.556709\n",
       "4    0.037927  0.277377 -0.556709"
      ]
     },
     "execution_count": 329,
     "metadata": {},
     "output_type": "execute_result"
    }
   ],
   "source": [
    "sd3scaled.head()"
   ]
  },
  {
   "cell_type": "code",
   "execution_count": 330,
   "id": "52827ab7",
   "metadata": {},
   "outputs": [],
   "source": [
    "x = sd3scaled\n",
    "y = sd2['Rating1']"
   ]
  },
  {
   "cell_type": "code",
   "execution_count": 331,
   "id": "8a3d8ca0",
   "metadata": {},
   "outputs": [],
   "source": [
    "x_train, x_test, y_train, y_test = train_test_split (x,y, test_size = 0.3, random_state = 101)"
   ]
  },
  {
   "cell_type": "code",
   "execution_count": 333,
   "id": "4ba913bb",
   "metadata": {},
   "outputs": [],
   "source": [
    "#anaylis and interpretation\n",
    "errorRate = []\n",
    "for i in range(1,40):\n",
    "    knn = KNeighborsClassifier(n_neighbors = i)\n",
    "    knn.fit(x_train, y_train)\n",
    "    predI = knn.predict(x_test)\n",
    "    errorRate.append(np.mean(predI != y_test))"
   ]
  },
  {
   "cell_type": "code",
   "execution_count": 334,
   "id": "25e743b9",
   "metadata": {},
   "outputs": [
    {
     "data": {
      "text/plain": [
       "Text(0, 0.5, 'Error Rate')"
      ]
     },
     "execution_count": 334,
     "metadata": {},
     "output_type": "execute_result"
    },
    {
     "data": {
      "image/png": "[encoded data removed]",
      "text/plain": [
       "<Figure size 720x432 with 1 Axes>"
      ]
     },
     "metadata": {
      "needs_background": "light"
     },
     "output_type": "display_data"
    }
   ],
   "source": [
    "plt.figure(figsize=(10,6))\n",
    "plt.plot(range(1,40), errorRate, color='blue', linestyle='dashed', marker='o', markerfacecolor='red', markersize=10)\n",
    "plt.title('Error Rate vs K Value')\n",
    "plt.xlabel('K')\n",
    "plt.ylabel('Error Rate')"
   ]
  },
  {
   "cell_type": "code",
   "execution_count": 339,
   "id": "3baaf48d",
   "metadata": {},
   "outputs": [],
   "source": [
    "knn = KNeighborsClassifier(n_neighbors=1)\n",
    "knn.fit(x_train, y_train)\n",
    "pred = knn.predict(x_test)"
   ]
  },
  {
   "cell_type": "code",
   "execution_count": 340,
   "id": "36f5d40f",
   "metadata": {},
   "outputs": [
    {
     "name": "stdout",
     "output_type": "stream",
     "text": [
      "[[2463    6]\n",
      " [   4 2201]]\n"
     ]
    }
   ],
   "source": [
    "print(confusion_matrix(y_test, pred))"
   ]
  },
  {
   "cell_type": "code",
   "execution_count": 341,
   "id": "448a3775",
   "metadata": {},
   "outputs": [
    {
     "name": "stdout",
     "output_type": "stream",
     "text": [
      "              precision    recall  f1-score   support\n",
      "\n",
      "         1.0       1.00      1.00      1.00      2469\n",
      "         2.0       1.00      1.00      1.00      2205\n",
      "\n",
      "    accuracy                           1.00      4674\n",
      "   macro avg       1.00      1.00      1.00      4674\n",
      "weighted avg       1.00      1.00      1.00      4674\n",
      "\n"
     ]
    }
   ],
   "source": [
    "#able to predict with 100% accuracy a positive or negative rating based on genre, platform and tm\n",
    "print(classification_report(y_test, pred))"
   ]
  },
  {
   "cell_type": "code",
   "execution_count": 342,
   "id": "d2f1c20f",
   "metadata": {},
   "outputs": [],
   "source": [
    "#Predict Rating based on genre, platform\n",
    "sd4 = sd3.drop(['tmdb_score'], axis=1)"
   ]
  },
  {
   "cell_type": "code",
   "execution_count": 343,
   "id": "c63adf8c",
   "metadata": {},
   "outputs": [
    {
     "data": {
      "text/html": [
       "<div>\n",
       "<style scoped>\n",
       "    .dataframe tbody tr th:only-of-type {\n",
       "        vertical-align: middle;\n",
       "    }\n",
       "\n",
       "    .dataframe tbody tr th {\n",
       "        vertical-align: top;\n",
       "    }\n",
       "\n",
       "    .dataframe thead th {\n",
       "        text-align: right;\n",
       "    }\n",
       "</style>\n",
       "<table border=\"1\" class=\"dataframe\">\n",
       "  <thead>\n",
       "    <tr style=\"text-align: right;\">\n",
       "      <th></th>\n",
       "      <th>genre</th>\n",
       "      <th>Platform</th>\n",
       "    </tr>\n",
       "  </thead>\n",
       "  <tbody>\n",
       "    <tr>\n",
       "      <th>0</th>\n",
       "      <td>9</td>\n",
       "      <td>2</td>\n",
       "    </tr>\n",
       "    <tr>\n",
       "      <th>1</th>\n",
       "      <td>2</td>\n",
       "      <td>2</td>\n",
       "    </tr>\n",
       "    <tr>\n",
       "      <th>2</th>\n",
       "      <td>2</td>\n",
       "      <td>2</td>\n",
       "    </tr>\n",
       "    <tr>\n",
       "      <th>3</th>\n",
       "      <td>2</td>\n",
       "      <td>2</td>\n",
       "    </tr>\n",
       "    <tr>\n",
       "      <th>4</th>\n",
       "      <td>9</td>\n",
       "      <td>2</td>\n",
       "    </tr>\n",
       "  </tbody>\n",
       "</table>\n",
       "</div>"
      ],
      "text/plain": [
       "   genre  Platform\n",
       "0      9         2\n",
       "1      2         2\n",
       "2      2         2\n",
       "3      2         2\n",
       "4      9         2"
      ]
     },
     "execution_count": 343,
     "metadata": {},
     "output_type": "execute_result"
    }
   ],
   "source": [
    "sd4.head()"
   ]
  },
  {
   "cell_type": "code",
   "execution_count": 347,
   "id": "0b7fc76e",
   "metadata": {},
   "outputs": [],
   "source": [
    "scaler1 = StandardScaler()\n",
    "scaler1.fit(sd4)\n",
    "scaledVariables1 = scaler.transform(sd4)\n",
    "sd4scaled = pd.DataFrame(scaledVariables1)"
   ]
  },
  {
   "cell_type": "code",
   "execution_count": 348,
   "id": "5e021e4c",
   "metadata": {},
   "outputs": [
    {
     "data": {
      "text/html": [
       "<div>\n",
       "<style scoped>\n",
       "    .dataframe tbody tr th:only-of-type {\n",
       "        vertical-align: middle;\n",
       "    }\n",
       "\n",
       "    .dataframe tbody tr th {\n",
       "        vertical-align: top;\n",
       "    }\n",
       "\n",
       "    .dataframe thead th {\n",
       "        text-align: right;\n",
       "    }\n",
       "</style>\n",
       "<table border=\"1\" class=\"dataframe\">\n",
       "  <thead>\n",
       "    <tr style=\"text-align: right;\">\n",
       "      <th></th>\n",
       "      <th>0</th>\n",
       "      <th>1</th>\n",
       "    </tr>\n",
       "  </thead>\n",
       "  <tbody>\n",
       "    <tr>\n",
       "      <th>0</th>\n",
       "      <td>0.277377</td>\n",
       "      <td>-0.556709</td>\n",
       "    </tr>\n",
       "    <tr>\n",
       "      <th>1</th>\n",
       "      <td>-1.049907</td>\n",
       "      <td>-0.556709</td>\n",
       "    </tr>\n",
       "    <tr>\n",
       "      <th>2</th>\n",
       "      <td>-1.049907</td>\n",
       "      <td>-0.556709</td>\n",
       "    </tr>\n",
       "    <tr>\n",
       "      <th>3</th>\n",
       "      <td>-1.049907</td>\n",
       "      <td>-0.556709</td>\n",
       "    </tr>\n",
       "    <tr>\n",
       "      <th>4</th>\n",
       "      <td>0.277377</td>\n",
       "      <td>-0.556709</td>\n",
       "    </tr>\n",
       "  </tbody>\n",
       "</table>\n",
       "</div>"
      ],
      "text/plain": [
       "          0         1\n",
       "0  0.277377 -0.556709\n",
       "1 -1.049907 -0.556709\n",
       "2 -1.049907 -0.556709\n",
       "3 -1.049907 -0.556709\n",
       "4  0.277377 -0.556709"
      ]
     },
     "execution_count": 348,
     "metadata": {},
     "output_type": "execute_result"
    }
   ],
   "source": [
    "sd4scaled.head()"
   ]
  },
  {
   "cell_type": "code",
   "execution_count": 349,
   "id": "bed54db1",
   "metadata": {},
   "outputs": [],
   "source": [
    "sd4scaled.rename(columns={0: 'Genre', 1: 'Platform'}, inplace=True)"
   ]
  },
  {
   "cell_type": "code",
   "execution_count": 350,
   "id": "256a92f7",
   "metadata": {},
   "outputs": [
    {
     "data": {
      "text/html": [
       "<div>\n",
       "<style scoped>\n",
       "    .dataframe tbody tr th:only-of-type {\n",
       "        vertical-align: middle;\n",
       "    }\n",
       "\n",
       "    .dataframe tbody tr th {\n",
       "        vertical-align: top;\n",
       "    }\n",
       "\n",
       "    .dataframe thead th {\n",
       "        text-align: right;\n",
       "    }\n",
       "</style>\n",
       "<table border=\"1\" class=\"dataframe\">\n",
       "  <thead>\n",
       "    <tr style=\"text-align: right;\">\n",
       "      <th></th>\n",
       "      <th>Genre</th>\n",
       "      <th>Platform</th>\n",
       "    </tr>\n",
       "  </thead>\n",
       "  <tbody>\n",
       "    <tr>\n",
       "      <th>0</th>\n",
       "      <td>0.277377</td>\n",
       "      <td>-0.556709</td>\n",
       "    </tr>\n",
       "    <tr>\n",
       "      <th>1</th>\n",
       "      <td>-1.049907</td>\n",
       "      <td>-0.556709</td>\n",
       "    </tr>\n",
       "    <tr>\n",
       "      <th>2</th>\n",
       "      <td>-1.049907</td>\n",
       "      <td>-0.556709</td>\n",
       "    </tr>\n",
       "    <tr>\n",
       "      <th>3</th>\n",
       "      <td>-1.049907</td>\n",
       "      <td>-0.556709</td>\n",
       "    </tr>\n",
       "    <tr>\n",
       "      <th>4</th>\n",
       "      <td>0.277377</td>\n",
       "      <td>-0.556709</td>\n",
       "    </tr>\n",
       "  </tbody>\n",
       "</table>\n",
       "</div>"
      ],
      "text/plain": [
       "      Genre  Platform\n",
       "0  0.277377 -0.556709\n",
       "1 -1.049907 -0.556709\n",
       "2 -1.049907 -0.556709\n",
       "3 -1.049907 -0.556709\n",
       "4  0.277377 -0.556709"
      ]
     },
     "execution_count": 350,
     "metadata": {},
     "output_type": "execute_result"
    }
   ],
   "source": [
    "sd4scaled.head()"
   ]
  },
  {
   "cell_type": "code",
   "execution_count": 351,
   "id": "df30c89d",
   "metadata": {},
   "outputs": [],
   "source": [
    "x = sd4scaled\n",
    "y = sd2['Rating1']"
   ]
  },
  {
   "cell_type": "code",
   "execution_count": 352,
   "id": "c583d352",
   "metadata": {},
   "outputs": [],
   "source": [
    "x_train, x_test, y_train, y_test = train_test_split (x,y, test_size = 0.3, random_state = 101)"
   ]
  },
  {
   "cell_type": "code",
   "execution_count": 353,
   "id": "fe372f42",
   "metadata": {},
   "outputs": [],
   "source": [
    "#anaylis and interpretation\n",
    "errorRate = []\n",
    "for i in range(1,40):\n",
    "    knn = KNeighborsClassifier(n_neighbors = i)\n",
    "    knn.fit(x_train, y_train)\n",
    "    predI = knn.predict(x_test)\n",
    "    errorRate.append(np.mean(predI != y_test))"
   ]
  },
  {
   "cell_type": "code",
   "execution_count": 354,
   "id": "70a8db15",
   "metadata": {},
   "outputs": [
    {
     "data": {
      "text/plain": [
       "Text(0, 0.5, 'Error Rate')"
      ]
     },
     "execution_count": 354,
     "metadata": {},
     "output_type": "execute_result"
    },
    {
     "data": {
      "image/png": "[encoded data removed]",
      "text/plain": [
       "<Figure size 720x432 with 1 Axes>"
      ]
     },
     "metadata": {
      "needs_background": "light"
     },
     "output_type": "display_data"
    }
   ],
   "source": [
    "plt.figure(figsize=(10,6))\n",
    "plt.plot(range(1,40), errorRate, color='blue', linestyle='dashed', marker='o', markerfacecolor='red', markersize=10)\n",
    "plt.title('Error Rate vs K Value')\n",
    "plt.xlabel('K')\n",
    "plt.ylabel('Error Rate')"
   ]
  },
  {
   "cell_type": "code",
   "execution_count": 361,
   "id": "97730630",
   "metadata": {},
   "outputs": [],
   "source": [
    "knn = KNeighborsClassifier(n_neighbors=20)\n",
    "knn.fit(x_train, y_train)\n",
    "pred = knn.predict(x_test)"
   ]
  },
  {
   "cell_type": "code",
   "execution_count": 362,
   "id": "2343fa91",
   "metadata": {},
   "outputs": [
    {
     "name": "stdout",
     "output_type": "stream",
     "text": [
      "[[1648  821]\n",
      " [ 730 1475]]\n"
     ]
    }
   ],
   "source": [
    "print(confusion_matrix(y_test, pred))"
   ]
  },
  {
   "cell_type": "code",
   "execution_count": 363,
   "id": "1e2f3747",
   "metadata": {},
   "outputs": [
    {
     "name": "stdout",
     "output_type": "stream",
     "text": [
      "              precision    recall  f1-score   support\n",
      "\n",
      "         1.0       0.69      0.67      0.68      2469\n",
      "         2.0       0.64      0.67      0.66      2205\n",
      "\n",
      "    accuracy                           0.67      4674\n",
      "   macro avg       0.67      0.67      0.67      4674\n",
      "weighted avg       0.67      0.67      0.67      4674\n",
      "\n"
     ]
    }
   ],
   "source": [
    "#able to predict with 69% accuracy a positive rating and a 64% negative rating based on genre and platform with an overall\n",
    "#predicition of 67%\n",
    "print(classification_report(y_test, pred))"
   ]
  },
  {
   "cell_type": "code",
   "execution_count": null,
   "id": "8d67785d",
   "metadata": {},
   "outputs": [],
   "source": []
  }
 ],
 "metadata": {
  "kernelspec": {
   "display_name": "Python 3 (ipykernel)",
   "language": "python",
   "name": "python3"
  },
  "language_info": {
   "codemirror_mode": {
    "name": "ipython",
    "version": 3
   },
   "file_extension": ".py",
   "mimetype": "text/x-python",
   "name": "python",
   "nbconvert_exporter": "python",
   "pygments_lexer": "ipython3",
   "version": "3.10.6"
  }
 },
 "nbformat": 4,
 "nbformat_minor": 5
}
