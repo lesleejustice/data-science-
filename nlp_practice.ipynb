{
 "cells": [
  {
   "cell_type": "code",
   "execution_count": 1,
   "id": "cbd3a87a-4843-4485-95fd-7fa7ced6bd7e",
   "metadata": {},
   "outputs": [],
   "source": [
    "#https://towardsai.net/p/nlp/natural-language-processing-nlp-with-python-tutorial-for-beginners-1f54e610a1a0"
   ]
  },
  {
   "cell_type": "code",
   "execution_count": 2,
   "id": "75b0962b-51b2-458d-808b-2b0708096b73",
   "metadata": {},
   "outputs": [],
   "source": [
    "#open the text file\n",
    "text_file = open(\"text1.txt\")"
   ]
  },
  {
   "cell_type": "code",
   "execution_count": 3,
   "id": "ce29462f-bbe3-4c75-91a8-218909a66a42",
   "metadata": {},
   "outputs": [],
   "source": [
    "#read the data\n",
    "text = text_file.read()"
   ]
  },
  {
   "cell_type": "code",
   "execution_count": 4,
   "id": "35e757bd-1102-49b3-a611-1e2d38e4d4f8",
   "metadata": {},
   "outputs": [
    {
     "name": "stdout",
     "output_type": "stream",
     "text": [
      "<class 'str'>\n",
      "\n",
      "\n"
     ]
    }
   ],
   "source": [
    "#data type of the data read\n",
    "print(type(text))\n",
    "print(\"\\n\")"
   ]
  },
  {
   "cell_type": "code",
   "execution_count": 5,
   "id": "69357318-d48a-4c6b-bcd7-af2b2f2471aa",
   "metadata": {},
   "outputs": [
    {
     "name": "stdout",
     "output_type": "stream",
     "text": [
      "In this enchantingly cracked fairy tale, the beautiful Princess Buttercup and the dashing Westley must overcome staggering odds to find happiness amid six-fingered swordsmen, murderous princes, Sicilians and rodents of unusual size. But even death can't stop these true lovebirds from triumphing.\n",
      "\n"
     ]
    }
   ],
   "source": [
    "#print the text\n",
    "print(text)"
   ]
  },
  {
   "cell_type": "code",
   "execution_count": 6,
   "id": "9c34143c-9d76-4e61-a5b2-b65a28208fd2",
   "metadata": {},
   "outputs": [
    {
     "name": "stdout",
     "output_type": "stream",
     "text": [
      "297\n"
     ]
    }
   ],
   "source": [
    "#lenght of text\n",
    "print(len(text))"
   ]
  },
  {
   "cell_type": "code",
   "execution_count": 8,
   "id": "a9af4f95-3ecb-4891-9d4a-7b05cf066f2c",
   "metadata": {},
   "outputs": [
    {
     "name": "stdout",
     "output_type": "stream",
     "text": [
      "Collecting bs4\n",
      "  Downloading bs4-0.0.1.tar.gz (1.1 kB)\n",
      "  Preparing metadata (setup.py): started\n",
      "  Preparing metadata (setup.py): finished with status 'done'\n",
      "Requirement already satisfied: beautifulsoup4 in c:\\python3\\lib\\site-packages (from bs4) (4.11.1)\n",
      "Requirement already satisfied: soupsieve>1.2 in c:\\python3\\lib\\site-packages (from beautifulsoup4->bs4) (2.3.2.post1)\n",
      "Using legacy 'setup.py install' for bs4, since package 'wheel' is not installed.\n",
      "Installing collected packages: bs4\n",
      "  Running setup.py install for bs4: started\n",
      "  Running setup.py install for bs4: finished with status 'done'\n",
      "Successfully installed bs4-0.0.1\n",
      "Note: you may need to restart the kernel to use updated packages.\n"
     ]
    },
    {
     "name": "stderr",
     "output_type": "stream",
     "text": [
      "WARNING: You are using pip version 22.0.4; however, version 23.0 is available.\n",
      "You should consider upgrading via the 'C:\\Python3\\python.exe -m pip install --upgrade pip' command.\n"
     ]
    }
   ],
   "source": [
    "pip install bs4"
   ]
  },
  {
   "cell_type": "code",
   "execution_count": 9,
   "id": "a6b0b06f-d31e-4eef-9c24-bc48378f283d",
   "metadata": {},
   "outputs": [
    {
     "name": "stdout",
     "output_type": "stream",
     "text": [
      "Collecting nltk\n",
      "  Downloading nltk-3.8.1-py3-none-any.whl (1.5 MB)\n",
      "     ---------------------------------------- 1.5/1.5 MB 4.4 MB/s eta 0:00:00\n",
      "Requirement already satisfied: joblib in c:\\python3\\lib\\site-packages (from nltk) (1.2.0)\n",
      "Collecting click\n",
      "  Downloading click-8.1.3-py3-none-any.whl (96 kB)\n",
      "     -------------------------------------- 96.6/96.6 KB 502.0 kB/s eta 0:00:00\n",
      "Collecting tqdm\n",
      "  Downloading tqdm-4.64.1-py2.py3-none-any.whl (78 kB)\n",
      "     ---------------------------------------- 78.5/78.5 KB 2.2 MB/s eta 0:00:00\n",
      "Collecting regex>=2021.8.3\n",
      "  Downloading regex-2022.10.31-cp310-cp310-win_amd64.whl (267 kB)\n",
      "     -------------------------------------- 267.7/267.7 KB 5.5 MB/s eta 0:00:00\n",
      "Requirement already satisfied: colorama in c:\\python3\\lib\\site-packages (from click->nltk) (0.4.5)\n",
      "Installing collected packages: tqdm, regex, click, nltk\n",
      "Successfully installed click-8.1.3 nltk-3.8.1 regex-2022.10.31 tqdm-4.64.1\n",
      "Note: you may need to restart the kernel to use updated packages.\n"
     ]
    },
    {
     "name": "stderr",
     "output_type": "stream",
     "text": [
      "WARNING: You are using pip version 22.0.4; however, version 23.0 is available.\n",
      "You should consider upgrading via the 'C:\\Python3\\python.exe -m pip install --upgrade pip' command.\n"
     ]
    }
   ],
   "source": [
    "pip install nltk"
   ]
  },
  {
   "cell_type": "code",
   "execution_count": 10,
   "id": "1d278b40-303f-4524-a2fc-d795fd7d7c8c",
   "metadata": {},
   "outputs": [],
   "source": [
    "#import required libraries\n",
    "import nltk\n",
    "from nltk import sent_tokenize\n",
    "from nltk import word_tokenize"
   ]
  },
  {
   "cell_type": "code",
   "execution_count": 12,
   "id": "c7b3e109-a52b-4f0c-a936-3cd57fbad6f6",
   "metadata": {},
   "outputs": [
    {
     "name": "stderr",
     "output_type": "stream",
     "text": [
      "[nltk_data] Downloading package punkt to\n",
      "[nltk_data]     C:\\Users\\lesle\\AppData\\Roaming\\nltk_data...\n",
      "[nltk_data]   Unzipping tokenizers\\punkt.zip.\n"
     ]
    },
    {
     "data": {
      "text/plain": [
       "True"
      ]
     },
     "execution_count": 12,
     "metadata": {},
     "output_type": "execute_result"
    }
   ],
   "source": [
    "import nltk\n",
    "nltk.download('punkt')"
   ]
  },
  {
   "cell_type": "code",
   "execution_count": 13,
   "id": "07ecadce-134f-4d11-93ec-b405cc8aef56",
   "metadata": {},
   "outputs": [],
   "source": [
    "#tolkenize the text by sentences\n",
    "sentences = sent_tokenize(text)"
   ]
  },
  {
   "cell_type": "code",
   "execution_count": 14,
   "id": "11d66f25-0ac3-418d-8bb1-933e78f599dd",
   "metadata": {},
   "outputs": [
    {
     "name": "stdout",
     "output_type": "stream",
     "text": [
      "2\n"
     ]
    }
   ],
   "source": [
    "#How many sentences are there? \n",
    "print(len(sentences))"
   ]
  },
  {
   "cell_type": "code",
   "execution_count": 15,
   "id": "e4f0bf52-4599-4e1e-bdf9-8fffd923bf4c",
   "metadata": {},
   "outputs": [
    {
     "name": "stdout",
     "output_type": "stream",
     "text": [
      "['In this enchantingly cracked fairy tale, the beautiful Princess Buttercup and the dashing Westley must overcome staggering odds to find happiness amid six-fingered swordsmen, murderous princes, Sicilians and rodents of unusual size.', \"But even death can't stop these true lovebirds from triumphing.\"]\n"
     ]
    }
   ],
   "source": [
    "#Print the sentences\n",
    "print(sentences)"
   ]
  },
  {
   "cell_type": "code",
   "execution_count": 16,
   "id": "d34440d2-fb2f-4a16-bfe2-033294319174",
   "metadata": {},
   "outputs": [],
   "source": [
    "#tokenize the text with words\n",
    "words = word_tokenize(text)"
   ]
  },
  {
   "cell_type": "code",
   "execution_count": 17,
   "id": "f4e5b2d2-b0b8-42a4-b207-d3c78dfc5d61",
   "metadata": {},
   "outputs": [
    {
     "name": "stdout",
     "output_type": "stream",
     "text": [
      "48\n"
     ]
    }
   ],
   "source": [
    "#How many words are there? \n",
    "print(len(words))"
   ]
  },
  {
   "cell_type": "code",
   "execution_count": 18,
   "id": "9927154c-f4a0-4f7d-8494-d62dad599f44",
   "metadata": {},
   "outputs": [
    {
     "name": "stdout",
     "output_type": "stream",
     "text": [
      "['In', 'this', 'enchantingly', 'cracked', 'fairy', 'tale', ',', 'the', 'beautiful', 'Princess', 'Buttercup', 'and', 'the', 'dashing', 'Westley', 'must', 'overcome', 'staggering', 'odds', 'to', 'find', 'happiness', 'amid', 'six-fingered', 'swordsmen', ',', 'murderous', 'princes', ',', 'Sicilians', 'and', 'rodents', 'of', 'unusual', 'size', '.', 'But', 'even', 'death', 'ca', \"n't\", 'stop', 'these', 'true', 'lovebirds', 'from', 'triumphing', '.']\n"
     ]
    }
   ],
   "source": [
    "#Print words\n",
    "print(words)"
   ]
  },
  {
   "cell_type": "code",
   "execution_count": 19,
   "id": "b5b0ffe9-f86d-4c89-98ae-3e588531088c",
   "metadata": {},
   "outputs": [],
   "source": [
    "#Find the frequency distribution \n",
    "from nltk.probability import FreqDist"
   ]
  },
  {
   "cell_type": "code",
   "execution_count": 20,
   "id": "d637bd77-b763-45c0-ae2f-a0f8cbe69702",
   "metadata": {},
   "outputs": [],
   "source": [
    "#find the frequency\n",
    "fdist = FreqDist(words)"
   ]
  },
  {
   "cell_type": "code",
   "execution_count": 21,
   "id": "45921c22-ee47-4fdb-85f7-dd2648fdceb5",
   "metadata": {},
   "outputs": [
    {
     "data": {
      "text/plain": [
       "[(',', 3),\n",
       " ('the', 2),\n",
       " ('and', 2),\n",
       " ('.', 2),\n",
       " ('In', 1),\n",
       " ('this', 1),\n",
       " ('enchantingly', 1),\n",
       " ('cracked', 1),\n",
       " ('fairy', 1),\n",
       " ('tale', 1)]"
      ]
     },
     "execution_count": 21,
     "metadata": {},
     "output_type": "execute_result"
    }
   ],
   "source": [
    "fdist.most_common(10)"
   ]
  },
  {
   "cell_type": "code",
   "execution_count": 22,
   "id": "46fe6983-6b7b-41a6-97a9-2240a6e739db",
   "metadata": {},
   "outputs": [],
   "source": [
    "#Punctuation and stop words are the most used. These will have to be removed."
   ]
  },
  {
   "cell_type": "code",
   "execution_count": 23,
   "id": "ca48a3c6-4bb4-448e-ae2c-ff99455b4e9e",
   "metadata": {},
   "outputs": [],
   "source": [
    "#Plot the frequency graph \n",
    "import matplotlib.pyplot as plt"
   ]
  },
  {
   "cell_type": "code",
   "execution_count": 24,
   "id": "f9b98e0d-1cd6-4b45-aa50-f60f2df6d6a7",
   "metadata": {},
   "outputs": [
    {
     "data": {
      "image/png": "[encoded data removed]",
      "text/plain": [
       "<Figure size 432x288 with 1 Axes>"
      ]
     },
     "metadata": {
      "needs_background": "light"
     },
     "output_type": "display_data"
    },
    {
     "data": {
      "text/plain": [
       "<AxesSubplot: xlabel='Samples', ylabel='Counts'>"
      ]
     },
     "execution_count": 24,
     "metadata": {},
     "output_type": "execute_result"
    }
   ],
   "source": [
    "fdist.plot(10)"
   ]
  },
  {
   "cell_type": "code",
   "execution_count": null,
   "id": "513894b2-fea1-4de6-9ea0-5f2dae25102a",
   "metadata": {},
   "outputs": [],
   "source": []
  }
 ],
 "metadata": {
  "kernelspec": {
   "display_name": "Python 3 (ipykernel)",
   "language": "python",
   "name": "python3"
  },
  "language_info": {
   "codemirror_mode": {
    "name": "ipython",
    "version": 3
   },
   "file_extension": ".py",
   "mimetype": "text/x-python",
   "name": "python",
   "nbconvert_exporter": "python",
   "pygments_lexer": "ipython3",
   "version": "3.10.5"
  }
 },
 "nbformat": 4,
 "nbformat_minor": 5
}
