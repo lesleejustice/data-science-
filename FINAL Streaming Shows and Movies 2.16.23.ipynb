{
 "cells": [
  {
   "cell_type": "code",
   "execution_count": 1,
   "id": "ccd124c9",
   "metadata": {},
   "outputs": [],
   "source": [
    "import pandas as pd\n",
    "import matplotlib.mlab as mlab\n",
    "import matplotlib.pyplot as plt\n",
    "import seaborn as sns\n",
    "import numpy as np"
   ]
  },
  {
   "cell_type": "code",
   "execution_count": 2,
   "id": "513c9c33",
   "metadata": {},
   "outputs": [],
   "source": [
    "streamingdata = pd.read_csv(\"C:/Users/ssnip/OneDrive/Data Science/Final Project/Data/All Streaming Data 1.29.23.csv\")"
   ]
  },
  {
   "cell_type": "code",
   "execution_count": 3,
   "id": "ce5cbc7c",
   "metadata": {},
   "outputs": [
    {
     "data": {
      "text/html": [
       "<div>\n",
       "<style scoped>\n",
       "    .dataframe tbody tr th:only-of-type {\n",
       "        vertical-align: middle;\n",
       "    }\n",
       "\n",
       "    .dataframe tbody tr th {\n",
       "        vertical-align: top;\n",
       "    }\n",
       "\n",
       "    .dataframe thead th {\n",
       "        text-align: right;\n",
       "    }\n",
       "</style>\n",
       "<table border=\"1\" class=\"dataframe\">\n",
       "  <thead>\n",
       "    <tr style=\"text-align: right;\">\n",
       "      <th></th>\n",
       "      <th>platform</th>\n",
       "      <th>id</th>\n",
       "      <th>title</th>\n",
       "      <th>type</th>\n",
       "      <th>description</th>\n",
       "      <th>release_year</th>\n",
       "      <th>age_certification</th>\n",
       "      <th>runtime</th>\n",
       "      <th>genres</th>\n",
       "      <th>production_countries</th>\n",
       "      <th>...</th>\n",
       "      <th>genre1</th>\n",
       "      <th>genre2</th>\n",
       "      <th>genre3</th>\n",
       "      <th>genre4</th>\n",
       "      <th>genre5</th>\n",
       "      <th>genre6</th>\n",
       "      <th>genre7</th>\n",
       "      <th>genre8</th>\n",
       "      <th>genre9</th>\n",
       "      <th>genre10</th>\n",
       "    </tr>\n",
       "  </thead>\n",
       "  <tbody>\n",
       "    <tr>\n",
       "      <th>0</th>\n",
       "      <td>Disney</td>\n",
       "      <td>tm19438</td>\n",
       "      <td>The Princess Bride</td>\n",
       "      <td>MOVIE</td>\n",
       "      <td>In this enchantingly cracked fairy tale, the b...</td>\n",
       "      <td>1987</td>\n",
       "      <td>PG</td>\n",
       "      <td>99</td>\n",
       "      <td>fantasy, family, romance</td>\n",
       "      <td>['US']</td>\n",
       "      <td>...</td>\n",
       "      <td>fantasy</td>\n",
       "      <td>family</td>\n",
       "      <td>romance</td>\n",
       "      <td>NaN</td>\n",
       "      <td>NaN</td>\n",
       "      <td>NaN</td>\n",
       "      <td>NaN</td>\n",
       "      <td>NaN</td>\n",
       "      <td>NaN</td>\n",
       "      <td>NaN</td>\n",
       "    </tr>\n",
       "    <tr>\n",
       "      <th>1</th>\n",
       "      <td>Disney</td>\n",
       "      <td>ts20711</td>\n",
       "      <td>The Simpsons</td>\n",
       "      <td>SHOW</td>\n",
       "      <td>The satiric adventures of a working-class fami...</td>\n",
       "      <td>1989</td>\n",
       "      <td>TV-14</td>\n",
       "      <td>27</td>\n",
       "      <td>animation, comedy</td>\n",
       "      <td>['US']</td>\n",
       "      <td>...</td>\n",
       "      <td>animation</td>\n",
       "      <td>comedy</td>\n",
       "      <td>NaN</td>\n",
       "      <td>NaN</td>\n",
       "      <td>NaN</td>\n",
       "      <td>NaN</td>\n",
       "      <td>NaN</td>\n",
       "      <td>NaN</td>\n",
       "      <td>NaN</td>\n",
       "      <td>NaN</td>\n",
       "    </tr>\n",
       "    <tr>\n",
       "      <th>2</th>\n",
       "      <td>Disney</td>\n",
       "      <td>ts15377</td>\n",
       "      <td>America's Funniest Home Videos</td>\n",
       "      <td>SHOW</td>\n",
       "      <td>America's Funniest Home Videos is the longest-...</td>\n",
       "      <td>1989</td>\n",
       "      <td>TV-PG</td>\n",
       "      <td>49</td>\n",
       "      <td>animation, reality, comedy</td>\n",
       "      <td>['US']</td>\n",
       "      <td>...</td>\n",
       "      <td>animation</td>\n",
       "      <td>reality</td>\n",
       "      <td>comedy</td>\n",
       "      <td>NaN</td>\n",
       "      <td>NaN</td>\n",
       "      <td>NaN</td>\n",
       "      <td>NaN</td>\n",
       "      <td>NaN</td>\n",
       "      <td>NaN</td>\n",
       "      <td>NaN</td>\n",
       "    </tr>\n",
       "  </tbody>\n",
       "</table>\n",
       "<p>3 rows × 26 columns</p>\n",
       "</div>"
      ],
      "text/plain": [
       "  platform       id                           title   type  \\\n",
       "0   Disney  tm19438              The Princess Bride  MOVIE   \n",
       "1   Disney  ts20711                    The Simpsons   SHOW   \n",
       "2   Disney  ts15377  America's Funniest Home Videos   SHOW   \n",
       "\n",
       "                                         description  release_year  \\\n",
       "0  In this enchantingly cracked fairy tale, the b...          1987   \n",
       "1  The satiric adventures of a working-class fami...          1989   \n",
       "2  America's Funniest Home Videos is the longest-...          1989   \n",
       "\n",
       "  age_certification  runtime                      genres production_countries  \\\n",
       "0                PG       99    fantasy, family, romance               ['US']   \n",
       "1             TV-14       27           animation, comedy               ['US']   \n",
       "2             TV-PG       49  animation, reality, comedy               ['US']   \n",
       "\n",
       "   ...     genre1   genre2   genre3  genre4  genre5  genre6 genre7 genre8  \\\n",
       "0  ...    fantasy   family  romance     NaN     NaN     NaN    NaN    NaN   \n",
       "1  ...  animation   comedy      NaN     NaN     NaN     NaN    NaN    NaN   \n",
       "2  ...  animation  reality   comedy     NaN     NaN     NaN    NaN    NaN   \n",
       "\n",
       "  genre9 genre10  \n",
       "0    NaN     NaN  \n",
       "1    NaN     NaN  \n",
       "2    NaN     NaN  \n",
       "\n",
       "[3 rows x 26 columns]"
      ]
     },
     "execution_count": 3,
     "metadata": {},
     "output_type": "execute_result"
    }
   ],
   "source": [
    "streamingdata.head(3)"
   ]
  },
  {
   "cell_type": "code",
   "execution_count": 4,
   "id": "338c38f6",
   "metadata": {},
   "outputs": [],
   "source": [
    "#recode genre1\n",
    "def genre (series):\n",
    "  if series == \"genre1\":\n",
    "    return \"0\"\n",
    "  if series == \"action\": \n",
    "    return \"1\"\n",
    "  if series == \"animation\": \n",
    "    return \"2\"\n",
    "  if series == \"comedy\":\n",
    "    return \"3\"\n",
    "  if series == \"crime\":\n",
    "    return \"4\"\n",
    "  if series == \"documentation\":\n",
    "    return \"5\"\n",
    "  if series == \"drama\":\n",
    "    return \"6\"\n",
    "  if series == \"european\":\n",
    "    return \"7\"    \n",
    "  if series == \"family\":\n",
    "    return \"8\"\n",
    "  if series == \"fantasy\":\n",
    "    return \"9\"\n",
    "  if series == \"history\":\n",
    "    return \"10\"\n",
    "  if series == \"horror\":\n",
    "    return \"11\"\n",
    "  if series == \"music\":\n",
    "    return \"12\"\n",
    "  if series == \"reality\":\n",
    "    return \"13\"\n",
    "  if series == \"romance\":\n",
    "    return \"14\"\n",
    "  if series == \"scifi\":\n",
    "    return \"15\"\n",
    "  if series == \"sport\":\n",
    "    return \"16\"\n",
    "  if series == \"thriller\":\n",
    "    return \"17\"\n",
    "  if series == \"war\":\n",
    "    return \"18\"\n",
    "  if series == \"western\":\n",
    "    return \"19\"\n",
    "  if series == \"None\":\n",
    "    return \"20\"    \n",
    "streamingdata[\"genre\"] = streamingdata[\"genre1\"].apply(genre)"
   ]
  },
  {
   "cell_type": "code",
   "execution_count": 5,
   "id": "e4fe41c5",
   "metadata": {},
   "outputs": [],
   "source": [
    "#recode type\n",
    "def program_type (series):\n",
    "  if series == \"type\":\n",
    "    return \"0\"\n",
    "  if series == \"SHOW\": \n",
    "    return \"1\"\n",
    "  if series == \"MOVIE\": \n",
    "    return \"2\"\n",
    "streamingdata[\"program_type\"] = streamingdata[\"type\"].apply(program_type)"
   ]
  },
  {
   "cell_type": "code",
   "execution_count": 6,
   "id": "da191603",
   "metadata": {},
   "outputs": [],
   "source": [
    "#recode platform\n",
    "def Platform (series):\n",
    "  if series == \"platform\":\n",
    "    return \"0\"\n",
    "  if series == \"Netflix\": \n",
    "    return \"1\"\n",
    "  if series == \"Disney\": \n",
    "    return \"2\"\n",
    "  if series == \"Hulu\":\n",
    "    return \"3\"\n",
    "  if series == \"Amazon\":\n",
    "    return \"4\"\n",
    "streamingdata[\"Platform\"] = streamingdata[\"platform\"].apply(Platform)"
   ]
  },
  {
   "cell_type": "code",
   "execution_count": 7,
   "id": "d79c56c7",
   "metadata": {},
   "outputs": [
    {
     "data": {
      "text/plain": [
       "platform                19654\n",
       "id                      19654\n",
       "title                   19653\n",
       "type                    19654\n",
       "description             19498\n",
       "release_year            19654\n",
       "age_certification        9538\n",
       "runtime                 19654\n",
       "genres                  19654\n",
       "production_countries    19654\n",
       "seasons                  5208\n",
       "imdb_id                 18047\n",
       "imdb_score              17558\n",
       "imdb_votes              17528\n",
       "tmdb_popularity         18955\n",
       "tmdb_score              16992\n",
       "genre1                  19654\n",
       "genre2                  13794\n",
       "genre3                   8309\n",
       "genre4                   4000\n",
       "genre5                   1695\n",
       "genre6                    620\n",
       "genre7                    218\n",
       "genre8                     67\n",
       "genre9                     18\n",
       "genre10                     2\n",
       "genre                   19334\n",
       "program_type            19654\n",
       "Platform                19654\n",
       "dtype: int64"
      ]
     },
     "execution_count": 7,
     "metadata": {},
     "output_type": "execute_result"
    }
   ],
   "source": [
    "streamingdata.count()"
   ]
  },
  {
   "cell_type": "code",
   "execution_count": 8,
   "id": "62bf7a5c",
   "metadata": {},
   "outputs": [
    {
     "data": {
      "text/plain": [
       "6     4645\n",
       "3     3655\n",
       "5     1993\n",
       "17    1662\n",
       "1     1126\n",
       "2     1092\n",
       "15     949\n",
       "14     824\n",
       "11     813\n",
       "4      611\n",
       "9      491\n",
       "13     473\n",
       "19     448\n",
       "12     183\n",
       "8      134\n",
       "18     116\n",
       "10      84\n",
       "16      29\n",
       "7        6\n",
       "Name: genre, dtype: int64"
      ]
     },
     "execution_count": 8,
     "metadata": {},
     "output_type": "execute_result"
    }
   ],
   "source": [
    "streamingdata.genre.value_counts()"
   ]
  },
  {
   "cell_type": "code",
   "execution_count": 9,
   "id": "a099316f",
   "metadata": {},
   "outputs": [],
   "source": [
    "shows_movies = streamingdata.drop(['title', 'description', 'age_certification', 'genres', \n",
    "                        'production_countries','seasons','tmdb_popularity','tmdb_score','genre1', 'genre2', 'genre3', 'genre4', 'genre5', 'genre6', \n",
    "                        'genre7','genre8', 'genre9', 'genre10'], axis=1)"
   ]
  },
  {
   "cell_type": "code",
   "execution_count": 10,
   "id": "16f00cb8",
   "metadata": {},
   "outputs": [
    {
     "data": {
      "text/html": [
       "<div>\n",
       "<style scoped>\n",
       "    .dataframe tbody tr th:only-of-type {\n",
       "        vertical-align: middle;\n",
       "    }\n",
       "\n",
       "    .dataframe tbody tr th {\n",
       "        vertical-align: top;\n",
       "    }\n",
       "\n",
       "    .dataframe thead th {\n",
       "        text-align: right;\n",
       "    }\n",
       "</style>\n",
       "<table border=\"1\" class=\"dataframe\">\n",
       "  <thead>\n",
       "    <tr style=\"text-align: right;\">\n",
       "      <th></th>\n",
       "      <th>platform</th>\n",
       "      <th>id</th>\n",
       "      <th>type</th>\n",
       "      <th>release_year</th>\n",
       "      <th>runtime</th>\n",
       "      <th>imdb_id</th>\n",
       "      <th>imdb_score</th>\n",
       "      <th>imdb_votes</th>\n",
       "      <th>genre</th>\n",
       "      <th>program_type</th>\n",
       "      <th>Platform</th>\n",
       "    </tr>\n",
       "  </thead>\n",
       "  <tbody>\n",
       "    <tr>\n",
       "      <th>0</th>\n",
       "      <td>Disney</td>\n",
       "      <td>tm19438</td>\n",
       "      <td>MOVIE</td>\n",
       "      <td>1987</td>\n",
       "      <td>99</td>\n",
       "      <td>tt0093779</td>\n",
       "      <td>8.0</td>\n",
       "      <td>420521.0</td>\n",
       "      <td>9</td>\n",
       "      <td>2</td>\n",
       "      <td>2</td>\n",
       "    </tr>\n",
       "    <tr>\n",
       "      <th>1</th>\n",
       "      <td>Disney</td>\n",
       "      <td>ts20711</td>\n",
       "      <td>SHOW</td>\n",
       "      <td>1989</td>\n",
       "      <td>27</td>\n",
       "      <td>tt0096697</td>\n",
       "      <td>8.7</td>\n",
       "      <td>394764.0</td>\n",
       "      <td>2</td>\n",
       "      <td>1</td>\n",
       "      <td>2</td>\n",
       "    </tr>\n",
       "    <tr>\n",
       "      <th>2</th>\n",
       "      <td>Disney</td>\n",
       "      <td>ts15377</td>\n",
       "      <td>SHOW</td>\n",
       "      <td>1989</td>\n",
       "      <td>49</td>\n",
       "      <td>tt0098740</td>\n",
       "      <td>6.2</td>\n",
       "      <td>5356.0</td>\n",
       "      <td>2</td>\n",
       "      <td>1</td>\n",
       "      <td>2</td>\n",
       "    </tr>\n",
       "  </tbody>\n",
       "</table>\n",
       "</div>"
      ],
      "text/plain": [
       "  platform       id   type  release_year  runtime    imdb_id  imdb_score  \\\n",
       "0   Disney  tm19438  MOVIE          1987       99  tt0093779         8.0   \n",
       "1   Disney  ts20711   SHOW          1989       27  tt0096697         8.7   \n",
       "2   Disney  ts15377   SHOW          1989       49  tt0098740         6.2   \n",
       "\n",
       "   imdb_votes genre program_type Platform  \n",
       "0    420521.0     9            2        2  \n",
       "1    394764.0     2            1        2  \n",
       "2      5356.0     2            1        2  "
      ]
     },
     "execution_count": 10,
     "metadata": {},
     "output_type": "execute_result"
    }
   ],
   "source": [
    "shows_movies.head(3)"
   ]
  },
  {
   "cell_type": "code",
   "execution_count": 11,
   "id": "315c7907",
   "metadata": {},
   "outputs": [
    {
     "data": {
      "text/plain": [
       "platform           0\n",
       "id                 0\n",
       "type               0\n",
       "release_year       0\n",
       "runtime            0\n",
       "imdb_id         1607\n",
       "imdb_score      2096\n",
       "imdb_votes      2126\n",
       "genre            320\n",
       "program_type       0\n",
       "Platform           0\n",
       "dtype: int64"
      ]
     },
     "execution_count": 11,
     "metadata": {},
     "output_type": "execute_result"
    }
   ],
   "source": [
    "shows_movies.isnull().sum()"
   ]
  },
  {
   "cell_type": "code",
   "execution_count": 12,
   "id": "30a10413",
   "metadata": {},
   "outputs": [],
   "source": [
    "shows_movies.dropna(inplace=True)"
   ]
  },
  {
   "cell_type": "code",
   "execution_count": 13,
   "id": "c77400f9",
   "metadata": {},
   "outputs": [
    {
     "data": {
      "text/plain": [
       "platform        17457\n",
       "id              17457\n",
       "type            17457\n",
       "release_year    17457\n",
       "runtime         17457\n",
       "imdb_id         17457\n",
       "imdb_score      17457\n",
       "imdb_votes      17457\n",
       "genre           17457\n",
       "program_type    17457\n",
       "Platform        17457\n",
       "dtype: int64"
      ]
     },
     "execution_count": 13,
     "metadata": {},
     "output_type": "execute_result"
    }
   ],
   "source": [
    "shows_movies.count()"
   ]
  },
  {
   "cell_type": "code",
   "execution_count": 14,
   "id": "d2dec8e1",
   "metadata": {},
   "outputs": [
    {
     "data": {
      "text/plain": [
       "6.271352466059461"
      ]
     },
     "execution_count": 14,
     "metadata": {},
     "output_type": "execute_result"
    }
   ],
   "source": [
    "#Average IMDB score for shows and movies\n",
    "shows_movies.loc[:, 'imdb_score'].mean()"
   ]
  },
  {
   "cell_type": "code",
   "execution_count": 15,
   "id": "21c04f39",
   "metadata": {},
   "outputs": [
    {
     "data": {
      "text/plain": [
       "80.46090393538408"
      ]
     },
     "execution_count": 15,
     "metadata": {},
     "output_type": "execute_result"
    }
   ],
   "source": [
    "#Average runtime for shows and movies\n",
    "shows_movies.loc[:, 'runtime'].mean()"
   ]
  },
  {
   "cell_type": "code",
   "execution_count": 16,
   "id": "1eaacac1",
   "metadata": {},
   "outputs": [],
   "source": [
    "#recoding score\n",
    "def Rating (series):\n",
    "  if series == \"imdb_score\":\n",
    "    return \"0\"\n",
    "  if series <= 6.1: \n",
    "    return \"Negative\"\n",
    "  if series >= 6.2: \n",
    "    return \"Positive\"\n",
    "shows_movies[\"Rating\"] = shows_movies[\"imdb_score\"].apply(Rating)"
   ]
  },
  {
   "cell_type": "code",
   "execution_count": 17,
   "id": "159fa34e",
   "metadata": {},
   "outputs": [],
   "source": [
    "def Rating1 (series):\n",
    "  if series == \"Rating\":\n",
    "    return \"0\"\n",
    "  if series == \"Positive\": \n",
    "    return 1\n",
    "  if series == \"Negative\":\n",
    "    return 2\n",
    "shows_movies[\"Rating1\"] = shows_movies[\"Rating\"].apply(Rating1)"
   ]
  },
  {
   "cell_type": "code",
   "execution_count": 18,
   "id": "a353aa91",
   "metadata": {},
   "outputs": [
    {
     "data": {
      "text/html": [
       "<div>\n",
       "<style scoped>\n",
       "    .dataframe tbody tr th:only-of-type {\n",
       "        vertical-align: middle;\n",
       "    }\n",
       "\n",
       "    .dataframe tbody tr th {\n",
       "        vertical-align: top;\n",
       "    }\n",
       "\n",
       "    .dataframe thead th {\n",
       "        text-align: right;\n",
       "    }\n",
       "</style>\n",
       "<table border=\"1\" class=\"dataframe\">\n",
       "  <thead>\n",
       "    <tr style=\"text-align: right;\">\n",
       "      <th></th>\n",
       "      <th>platform</th>\n",
       "      <th>id</th>\n",
       "      <th>type</th>\n",
       "      <th>release_year</th>\n",
       "      <th>runtime</th>\n",
       "      <th>imdb_id</th>\n",
       "      <th>imdb_score</th>\n",
       "      <th>imdb_votes</th>\n",
       "      <th>genre</th>\n",
       "      <th>program_type</th>\n",
       "      <th>Platform</th>\n",
       "      <th>Rating</th>\n",
       "      <th>Rating1</th>\n",
       "    </tr>\n",
       "  </thead>\n",
       "  <tbody>\n",
       "    <tr>\n",
       "      <th>0</th>\n",
       "      <td>Disney</td>\n",
       "      <td>tm19438</td>\n",
       "      <td>MOVIE</td>\n",
       "      <td>1987</td>\n",
       "      <td>99</td>\n",
       "      <td>tt0093779</td>\n",
       "      <td>8.0</td>\n",
       "      <td>420521.0</td>\n",
       "      <td>9</td>\n",
       "      <td>2</td>\n",
       "      <td>2</td>\n",
       "      <td>Positive</td>\n",
       "      <td>1</td>\n",
       "    </tr>\n",
       "    <tr>\n",
       "      <th>1</th>\n",
       "      <td>Disney</td>\n",
       "      <td>ts20711</td>\n",
       "      <td>SHOW</td>\n",
       "      <td>1989</td>\n",
       "      <td>27</td>\n",
       "      <td>tt0096697</td>\n",
       "      <td>8.7</td>\n",
       "      <td>394764.0</td>\n",
       "      <td>2</td>\n",
       "      <td>1</td>\n",
       "      <td>2</td>\n",
       "      <td>Positive</td>\n",
       "      <td>1</td>\n",
       "    </tr>\n",
       "    <tr>\n",
       "      <th>2</th>\n",
       "      <td>Disney</td>\n",
       "      <td>ts15377</td>\n",
       "      <td>SHOW</td>\n",
       "      <td>1989</td>\n",
       "      <td>49</td>\n",
       "      <td>tt0098740</td>\n",
       "      <td>6.2</td>\n",
       "      <td>5356.0</td>\n",
       "      <td>2</td>\n",
       "      <td>1</td>\n",
       "      <td>2</td>\n",
       "      <td>Positive</td>\n",
       "      <td>1</td>\n",
       "    </tr>\n",
       "  </tbody>\n",
       "</table>\n",
       "</div>"
      ],
      "text/plain": [
       "  platform       id   type  release_year  runtime    imdb_id  imdb_score  \\\n",
       "0   Disney  tm19438  MOVIE          1987       99  tt0093779         8.0   \n",
       "1   Disney  ts20711   SHOW          1989       27  tt0096697         8.7   \n",
       "2   Disney  ts15377   SHOW          1989       49  tt0098740         6.2   \n",
       "\n",
       "   imdb_votes genre program_type Platform    Rating  Rating1  \n",
       "0    420521.0     9            2        2  Positive        1  \n",
       "1    394764.0     2            1        2  Positive        1  \n",
       "2      5356.0     2            1        2  Positive        1  "
      ]
     },
     "execution_count": 18,
     "metadata": {},
     "output_type": "execute_result"
    }
   ],
   "source": [
    "shows_movies.head(3)"
   ]
  },
  {
   "cell_type": "code",
   "execution_count": 19,
   "id": "056383fc",
   "metadata": {},
   "outputs": [
    {
     "data": {
      "text/plain": [
       "Rating\n",
       "Negative     7428\n",
       "Positive    10029\n",
       "Name: genre, dtype: int64"
      ]
     },
     "execution_count": 19,
     "metadata": {},
     "output_type": "execute_result"
    }
   ],
   "source": [
    "shows_movies.groupby('Rating')['genre'].count()"
   ]
  },
  {
   "cell_type": "code",
   "execution_count": 20,
   "id": "a7f08a07",
   "metadata": {},
   "outputs": [
    {
     "name": "stdout",
     "output_type": "stream",
     "text": [
      "platform         object\n",
      "id               object\n",
      "type             object\n",
      "release_year      int64\n",
      "runtime           int64\n",
      "imdb_id          object\n",
      "imdb_score      float64\n",
      "imdb_votes      float64\n",
      "genre            object\n",
      "program_type     object\n",
      "Platform         object\n",
      "Rating           object\n",
      "Rating1           int64\n",
      "dtype: object\n"
     ]
    }
   ],
   "source": [
    "print(shows_movies.dtypes)"
   ]
  },
  {
   "cell_type": "code",
   "execution_count": 21,
   "id": "aa0950b5",
   "metadata": {},
   "outputs": [],
   "source": [
    "shows_movies['genre'] = shows_movies['genre'].astype(int)\n",
    "shows_movies['program_type'] = shows_movies['program_type'].astype(int)\n",
    "shows_movies['Platform'] = shows_movies['Platform'].astype(int)"
   ]
  },
  {
   "cell_type": "code",
   "execution_count": 22,
   "id": "381670f6",
   "metadata": {},
   "outputs": [
    {
     "name": "stdout",
     "output_type": "stream",
     "text": [
      "platform         object\n",
      "id               object\n",
      "type             object\n",
      "release_year      int64\n",
      "runtime           int64\n",
      "imdb_id          object\n",
      "imdb_score      float64\n",
      "imdb_votes      float64\n",
      "genre             int32\n",
      "program_type      int32\n",
      "Platform          int32\n",
      "Rating           object\n",
      "Rating1           int64\n",
      "dtype: object\n"
     ]
    }
   ],
   "source": [
    "print(shows_movies.dtypes)"
   ]
  },
  {
   "cell_type": "code",
   "execution_count": 23,
   "id": "992f7b95",
   "metadata": {},
   "outputs": [
    {
     "data": {
      "text/html": [
       "<style type=\"text/css\">\n",
       "#T_35671_row0_col0, #T_35671_row1_col1, #T_35671_row2_col2, #T_35671_row3_col3, #T_35671_row4_col4, #T_35671_row5_col5, #T_35671_row6_col6, #T_35671_row7_col7 {\n",
       "  background-color: #b40426;\n",
       "  color: #f1f1f1;\n",
       "}\n",
       "#T_35671_row0_col1, #T_35671_row0_col3 {\n",
       "  background-color: #6485ec;\n",
       "  color: #f1f1f1;\n",
       "}\n",
       "#T_35671_row0_col2 {\n",
       "  background-color: #d9dce1;\n",
       "  color: #000000;\n",
       "}\n",
       "#T_35671_row0_col4, #T_35671_row0_col6, #T_35671_row2_col1, #T_35671_row2_col5, #T_35671_row2_col7, #T_35671_row6_col0, #T_35671_row7_col2, #T_35671_row7_col3 {\n",
       "  background-color: #3b4cc0;\n",
       "  color: #f1f1f1;\n",
       "}\n",
       "#T_35671_row0_col5, #T_35671_row4_col0 {\n",
       "  background-color: #6180e9;\n",
       "  color: #f1f1f1;\n",
       "}\n",
       "#T_35671_row0_col7 {\n",
       "  background-color: #bbd1f8;\n",
       "  color: #000000;\n",
       "}\n",
       "#T_35671_row1_col0 {\n",
       "  background-color: #84a7fc;\n",
       "  color: #f1f1f1;\n",
       "}\n",
       "#T_35671_row1_col2, #T_35671_row6_col2 {\n",
       "  background-color: #adc9fd;\n",
       "  color: #000000;\n",
       "}\n",
       "#T_35671_row1_col3 {\n",
       "  background-color: #8caffe;\n",
       "  color: #000000;\n",
       "}\n",
       "#T_35671_row1_col4, #T_35671_row5_col2 {\n",
       "  background-color: #89acfd;\n",
       "  color: #000000;\n",
       "}\n",
       "#T_35671_row1_col5 {\n",
       "  background-color: #eb7d62;\n",
       "  color: #f1f1f1;\n",
       "}\n",
       "#T_35671_row1_col6 {\n",
       "  background-color: #a7c5fe;\n",
       "  color: #000000;\n",
       "}\n",
       "#T_35671_row1_col7 {\n",
       "  background-color: #e3d9d3;\n",
       "  color: #000000;\n",
       "}\n",
       "#T_35671_row2_col0, #T_35671_row2_col3 {\n",
       "  background-color: #9fbfff;\n",
       "  color: #000000;\n",
       "}\n",
       "#T_35671_row2_col4 {\n",
       "  background-color: #3c4ec2;\n",
       "  color: #f1f1f1;\n",
       "}\n",
       "#T_35671_row2_col6 {\n",
       "  background-color: #5a78e4;\n",
       "  color: #f1f1f1;\n",
       "}\n",
       "#T_35671_row3_col0, #T_35671_row6_col1 {\n",
       "  background-color: #8badfd;\n",
       "  color: #000000;\n",
       "}\n",
       "#T_35671_row3_col1 {\n",
       "  background-color: #93b5fe;\n",
       "  color: #000000;\n",
       "}\n",
       "#T_35671_row3_col2 {\n",
       "  background-color: #ead5c9;\n",
       "  color: #000000;\n",
       "}\n",
       "#T_35671_row3_col4, #T_35671_row3_col6, #T_35671_row7_col0 {\n",
       "  background-color: #6f92f3;\n",
       "  color: #f1f1f1;\n",
       "}\n",
       "#T_35671_row3_col5 {\n",
       "  background-color: #9bbcff;\n",
       "  color: #000000;\n",
       "}\n",
       "#T_35671_row3_col7, #T_35671_row4_col2 {\n",
       "  background-color: #b3cdfb;\n",
       "  color: #000000;\n",
       "}\n",
       "#T_35671_row4_col1, #T_35671_row7_col4 {\n",
       "  background-color: #8fb1fe;\n",
       "  color: #000000;\n",
       "}\n",
       "#T_35671_row4_col3 {\n",
       "  background-color: #6e90f2;\n",
       "  color: #f1f1f1;\n",
       "}\n",
       "#T_35671_row4_col5 {\n",
       "  background-color: #afcafc;\n",
       "  color: #000000;\n",
       "}\n",
       "#T_35671_row4_col6 {\n",
       "  background-color: #b2ccfb;\n",
       "  color: #000000;\n",
       "}\n",
       "#T_35671_row4_col7 {\n",
       "  background-color: #e2dad5;\n",
       "  color: #000000;\n",
       "}\n",
       "#T_35671_row5_col0 {\n",
       "  background-color: #5673e0;\n",
       "  color: #f1f1f1;\n",
       "}\n",
       "#T_35671_row5_col1 {\n",
       "  background-color: #f08a6c;\n",
       "  color: #f1f1f1;\n",
       "}\n",
       "#T_35671_row5_col3 {\n",
       "  background-color: #6b8df0;\n",
       "  color: #f1f1f1;\n",
       "}\n",
       "#T_35671_row5_col4 {\n",
       "  background-color: #85a8fc;\n",
       "  color: #f1f1f1;\n",
       "}\n",
       "#T_35671_row5_col6 {\n",
       "  background-color: #c4d5f3;\n",
       "  color: #000000;\n",
       "}\n",
       "#T_35671_row5_col7 {\n",
       "  background-color: #f3c7b1;\n",
       "  color: #000000;\n",
       "}\n",
       "#T_35671_row6_col3 {\n",
       "  background-color: #465ecf;\n",
       "  color: #f1f1f1;\n",
       "}\n",
       "#T_35671_row6_col4 {\n",
       "  background-color: #92b4fe;\n",
       "  color: #000000;\n",
       "}\n",
       "#T_35671_row6_col5 {\n",
       "  background-color: #cad8ef;\n",
       "  color: #000000;\n",
       "}\n",
       "#T_35671_row6_col7 {\n",
       "  background-color: #e7d7ce;\n",
       "  color: #000000;\n",
       "}\n",
       "#T_35671_row7_col1 {\n",
       "  background-color: #96b7ff;\n",
       "  color: #000000;\n",
       "}\n",
       "#T_35671_row7_col5 {\n",
       "  background-color: #dbdcde;\n",
       "  color: #000000;\n",
       "}\n",
       "#T_35671_row7_col6 {\n",
       "  background-color: #b9d0f9;\n",
       "  color: #000000;\n",
       "}\n",
       "</style>\n",
       "<table id=\"T_35671\">\n",
       "  <thead>\n",
       "    <tr>\n",
       "      <th class=\"blank level0\" >&nbsp;</th>\n",
       "      <th id=\"T_35671_level0_col0\" class=\"col_heading level0 col0\" >release_year</th>\n",
       "      <th id=\"T_35671_level0_col1\" class=\"col_heading level0 col1\" >runtime</th>\n",
       "      <th id=\"T_35671_level0_col2\" class=\"col_heading level0 col2\" >imdb_score</th>\n",
       "      <th id=\"T_35671_level0_col3\" class=\"col_heading level0 col3\" >imdb_votes</th>\n",
       "      <th id=\"T_35671_level0_col4\" class=\"col_heading level0 col4\" >genre</th>\n",
       "      <th id=\"T_35671_level0_col5\" class=\"col_heading level0 col5\" >program_type</th>\n",
       "      <th id=\"T_35671_level0_col6\" class=\"col_heading level0 col6\" >Platform</th>\n",
       "      <th id=\"T_35671_level0_col7\" class=\"col_heading level0 col7\" >Rating1</th>\n",
       "    </tr>\n",
       "  </thead>\n",
       "  <tbody>\n",
       "    <tr>\n",
       "      <th id=\"T_35671_level0_row0\" class=\"row_heading level0 row0\" >release_year</th>\n",
       "      <td id=\"T_35671_row0_col0\" class=\"data row0 col0\" >1.000000</td>\n",
       "      <td id=\"T_35671_row0_col1\" class=\"data row0 col1\" >-0.024191</td>\n",
       "      <td id=\"T_35671_row0_col2\" class=\"data row0 col2\" >0.075395</td>\n",
       "      <td id=\"T_35671_row0_col3\" class=\"data row0 col3\" >0.002621</td>\n",
       "      <td id=\"T_35671_row0_col4\" class=\"data row0 col4\" >-0.157186</td>\n",
       "      <td id=\"T_35671_row0_col5\" class=\"data row0 col5\" >-0.199665</td>\n",
       "      <td id=\"T_35671_row0_col6\" class=\"data row0 col6\" >-0.322462</td>\n",
       "      <td id=\"T_35671_row0_col7\" class=\"data row0 col7\" >-0.104789</td>\n",
       "    </tr>\n",
       "    <tr>\n",
       "      <th id=\"T_35671_level0_row1\" class=\"row_heading level0 row1\" >runtime</th>\n",
       "      <td id=\"T_35671_row1_col0\" class=\"data row1 col0\" >-0.024191</td>\n",
       "      <td id=\"T_35671_row1_col1\" class=\"data row1 col1\" >1.000000</td>\n",
       "      <td id=\"T_35671_row1_col2\" class=\"data row1 col2\" >-0.183354</td>\n",
       "      <td id=\"T_35671_row1_col3\" class=\"data row1 col3\" >0.134082</td>\n",
       "      <td id=\"T_35671_row1_col4\" class=\"data row1 col4\" >0.119711</td>\n",
       "      <td id=\"T_35671_row1_col5\" class=\"data row1 col5\" >0.748200</td>\n",
       "      <td id=\"T_35671_row1_col6\" class=\"data row1 col6\" >0.107378</td>\n",
       "      <td id=\"T_35671_row1_col7\" class=\"data row1 col7\" >0.144447</td>\n",
       "    </tr>\n",
       "    <tr>\n",
       "      <th id=\"T_35671_level0_row2\" class=\"row_heading level0 row2\" >imdb_score</th>\n",
       "      <td id=\"T_35671_row2_col0\" class=\"data row2 col0\" >0.075395</td>\n",
       "      <td id=\"T_35671_row2_col1\" class=\"data row2 col1\" >-0.183354</td>\n",
       "      <td id=\"T_35671_row2_col2\" class=\"data row2 col2\" >1.000000</td>\n",
       "      <td id=\"T_35671_row2_col3\" class=\"data row2 col3\" >0.197689</td>\n",
       "      <td id=\"T_35671_row2_col4\" class=\"data row2 col4\" >-0.152649</td>\n",
       "      <td id=\"T_35671_row2_col5\" class=\"data row2 col5\" >-0.369704</td>\n",
       "      <td id=\"T_35671_row2_col6\" class=\"data row2 col6\" >-0.184624</td>\n",
       "      <td id=\"T_35671_row2_col7\" class=\"data row2 col7\" >-0.800337</td>\n",
       "    </tr>\n",
       "    <tr>\n",
       "      <th id=\"T_35671_level0_row3\" class=\"row_heading level0 row3\" >imdb_votes</th>\n",
       "      <td id=\"T_35671_row3_col0\" class=\"data row3 col0\" >0.002621</td>\n",
       "      <td id=\"T_35671_row3_col1\" class=\"data row3 col1\" >0.134082</td>\n",
       "      <td id=\"T_35671_row3_col2\" class=\"data row3 col2\" >0.197689</td>\n",
       "      <td id=\"T_35671_row3_col3\" class=\"data row3 col3\" >1.000000</td>\n",
       "      <td id=\"T_35671_row3_col4\" class=\"data row3 col4\" >0.034152</td>\n",
       "      <td id=\"T_35671_row3_col5\" class=\"data row3 col5\" >0.027393</td>\n",
       "      <td id=\"T_35671_row3_col6\" class=\"data row3 col6\" >-0.101702</td>\n",
       "      <td id=\"T_35671_row3_col7\" class=\"data row3 col7\" >-0.150562</td>\n",
       "    </tr>\n",
       "    <tr>\n",
       "      <th id=\"T_35671_level0_row4\" class=\"row_heading level0 row4\" >genre</th>\n",
       "      <td id=\"T_35671_row4_col0\" class=\"data row4 col0\" >-0.157186</td>\n",
       "      <td id=\"T_35671_row4_col1\" class=\"data row4 col1\" >0.119711</td>\n",
       "      <td id=\"T_35671_row4_col2\" class=\"data row4 col2\" >-0.152649</td>\n",
       "      <td id=\"T_35671_row4_col3\" class=\"data row4 col3\" >0.034152</td>\n",
       "      <td id=\"T_35671_row4_col4\" class=\"data row4 col4\" >1.000000</td>\n",
       "      <td id=\"T_35671_row4_col5\" class=\"data row4 col5\" >0.108215</td>\n",
       "      <td id=\"T_35671_row4_col6\" class=\"data row4 col6\" >0.148416</td>\n",
       "      <td id=\"T_35671_row4_col7\" class=\"data row4 col7\" >0.136741</td>\n",
       "    </tr>\n",
       "    <tr>\n",
       "      <th id=\"T_35671_level0_row5\" class=\"row_heading level0 row5\" >program_type</th>\n",
       "      <td id=\"T_35671_row5_col0\" class=\"data row5 col0\" >-0.199665</td>\n",
       "      <td id=\"T_35671_row5_col1\" class=\"data row5 col1\" >0.748200</td>\n",
       "      <td id=\"T_35671_row5_col2\" class=\"data row5 col2\" >-0.369704</td>\n",
       "      <td id=\"T_35671_row5_col3\" class=\"data row5 col3\" >0.027393</td>\n",
       "      <td id=\"T_35671_row5_col4\" class=\"data row5 col4\" >0.108215</td>\n",
       "      <td id=\"T_35671_row5_col5\" class=\"data row5 col5\" >1.000000</td>\n",
       "      <td id=\"T_35671_row5_col6\" class=\"data row5 col6\" >0.221985</td>\n",
       "      <td id=\"T_35671_row5_col7\" class=\"data row5 col7\" >0.308469</td>\n",
       "    </tr>\n",
       "    <tr>\n",
       "      <th id=\"T_35671_level0_row6\" class=\"row_heading level0 row6\" >Platform</th>\n",
       "      <td id=\"T_35671_row6_col0\" class=\"data row6 col0\" >-0.322462</td>\n",
       "      <td id=\"T_35671_row6_col1\" class=\"data row6 col1\" >0.107378</td>\n",
       "      <td id=\"T_35671_row6_col2\" class=\"data row6 col2\" >-0.184624</td>\n",
       "      <td id=\"T_35671_row6_col3\" class=\"data row6 col3\" >-0.101702</td>\n",
       "      <td id=\"T_35671_row6_col4\" class=\"data row6 col4\" >0.148416</td>\n",
       "      <td id=\"T_35671_row6_col5\" class=\"data row6 col5\" >0.221985</td>\n",
       "      <td id=\"T_35671_row6_col6\" class=\"data row6 col6\" >1.000000</td>\n",
       "      <td id=\"T_35671_row6_col7\" class=\"data row6 col7\" >0.173947</td>\n",
       "    </tr>\n",
       "    <tr>\n",
       "      <th id=\"T_35671_level0_row7\" class=\"row_heading level0 row7\" >Rating1</th>\n",
       "      <td id=\"T_35671_row7_col0\" class=\"data row7 col0\" >-0.104789</td>\n",
       "      <td id=\"T_35671_row7_col1\" class=\"data row7 col1\" >0.144447</td>\n",
       "      <td id=\"T_35671_row7_col2\" class=\"data row7 col2\" >-0.800337</td>\n",
       "      <td id=\"T_35671_row7_col3\" class=\"data row7 col3\" >-0.150562</td>\n",
       "      <td id=\"T_35671_row7_col4\" class=\"data row7 col4\" >0.136741</td>\n",
       "      <td id=\"T_35671_row7_col5\" class=\"data row7 col5\" >0.308469</td>\n",
       "      <td id=\"T_35671_row7_col6\" class=\"data row7 col6\" >0.173947</td>\n",
       "      <td id=\"T_35671_row7_col7\" class=\"data row7 col7\" >1.000000</td>\n",
       "    </tr>\n",
       "  </tbody>\n",
       "</table>\n"
      ],
      "text/plain": [
       "<pandas.io.formats.style.Styler at 0x1458e026500>"
      ]
     },
     "execution_count": 23,
     "metadata": {},
     "output_type": "execute_result"
    }
   ],
   "source": [
    "corr = shows_movies.corr()\n",
    "corr.style.background_gradient(cmap='coolwarm')"
   ]
  },
  {
   "cell_type": "code",
   "execution_count": 24,
   "id": "4ee01cef",
   "metadata": {},
   "outputs": [],
   "source": [
    "shows_movies_1 = shows_movies[['genre', 'imdb_score']]"
   ]
  },
  {
   "cell_type": "code",
   "execution_count": 25,
   "id": "6784d45c",
   "metadata": {},
   "outputs": [],
   "source": [
    "shows_movies_avg = shows_movies_1.groupby('genre')['imdb_score'].mean()"
   ]
  },
  {
   "cell_type": "code",
   "execution_count": 26,
   "id": "c86eb01b",
   "metadata": {},
   "outputs": [
    {
     "data": {
      "text/plain": [
       "Text(0, 0.5, 'AVG IMDB Score')"
      ]
     },
     "execution_count": 26,
     "metadata": {},
     "output_type": "execute_result"
    },
    {
     "data": {
      "image/png": "[encoded data removed]",
      "text/plain": [
       "<Figure size 432x288 with 1 Axes>"
      ]
     },
     "metadata": {
      "needs_background": "light"
     },
     "output_type": "display_data"
    }
   ],
   "source": [
    "shows_movies_avg.plot(kind='bar')\n",
    "plt.title('All Shows and Movies')\n",
    "plt.xlabel('Genre')\n",
    "plt.ylabel('AVG IMDB Score')"
   ]
  },
  {
   "cell_type": "code",
   "execution_count": 27,
   "id": "80927c89",
   "metadata": {},
   "outputs": [
    {
     "name": "stdout",
     "output_type": "stream",
     "text": [
      "genre\n",
      "1     6.083017\n",
      "2     6.542289\n",
      "3     6.237474\n",
      "4     6.443621\n",
      "5     7.078345\n",
      "6     6.470215\n",
      "7     6.425000\n",
      "8     5.947934\n",
      "9     6.063048\n",
      "10    6.733333\n",
      "11    4.711961\n",
      "12    6.678014\n",
      "13    6.397732\n",
      "14    5.991899\n",
      "15    6.428716\n",
      "16    7.120000\n",
      "17    5.690149\n",
      "18    7.050000\n",
      "19    5.779452\n",
      "Name: imdb_score, dtype: float64\n"
     ]
    }
   ],
   "source": [
    "print(shows_movies_avg)"
   ]
  },
  {
   "cell_type": "code",
   "execution_count": 28,
   "id": "f6a22735",
   "metadata": {},
   "outputs": [],
   "source": [
    "movie_df = streamingdata.loc[streamingdata['type'] == 'MOVIE']"
   ]
  },
  {
   "cell_type": "code",
   "execution_count": 29,
   "id": "5bd9e371",
   "metadata": {},
   "outputs": [
    {
     "data": {
      "text/html": [
       "<div>\n",
       "<style scoped>\n",
       "    .dataframe tbody tr th:only-of-type {\n",
       "        vertical-align: middle;\n",
       "    }\n",
       "\n",
       "    .dataframe tbody tr th {\n",
       "        vertical-align: top;\n",
       "    }\n",
       "\n",
       "    .dataframe thead th {\n",
       "        text-align: right;\n",
       "    }\n",
       "</style>\n",
       "<table border=\"1\" class=\"dataframe\">\n",
       "  <thead>\n",
       "    <tr style=\"text-align: right;\">\n",
       "      <th></th>\n",
       "      <th>platform</th>\n",
       "      <th>id</th>\n",
       "      <th>title</th>\n",
       "      <th>type</th>\n",
       "      <th>description</th>\n",
       "      <th>release_year</th>\n",
       "      <th>age_certification</th>\n",
       "      <th>runtime</th>\n",
       "      <th>genres</th>\n",
       "      <th>production_countries</th>\n",
       "      <th>...</th>\n",
       "      <th>genre4</th>\n",
       "      <th>genre5</th>\n",
       "      <th>genre6</th>\n",
       "      <th>genre7</th>\n",
       "      <th>genre8</th>\n",
       "      <th>genre9</th>\n",
       "      <th>genre10</th>\n",
       "      <th>genre</th>\n",
       "      <th>program_type</th>\n",
       "      <th>Platform</th>\n",
       "    </tr>\n",
       "  </thead>\n",
       "  <tbody>\n",
       "    <tr>\n",
       "      <th>0</th>\n",
       "      <td>Disney</td>\n",
       "      <td>tm19438</td>\n",
       "      <td>The Princess Bride</td>\n",
       "      <td>MOVIE</td>\n",
       "      <td>In this enchantingly cracked fairy tale, the b...</td>\n",
       "      <td>1987</td>\n",
       "      <td>PG</td>\n",
       "      <td>99</td>\n",
       "      <td>fantasy, family, romance</td>\n",
       "      <td>['US']</td>\n",
       "      <td>...</td>\n",
       "      <td>NaN</td>\n",
       "      <td>NaN</td>\n",
       "      <td>NaN</td>\n",
       "      <td>NaN</td>\n",
       "      <td>NaN</td>\n",
       "      <td>NaN</td>\n",
       "      <td>NaN</td>\n",
       "      <td>9</td>\n",
       "      <td>2</td>\n",
       "      <td>2</td>\n",
       "    </tr>\n",
       "    <tr>\n",
       "      <th>4</th>\n",
       "      <td>Disney</td>\n",
       "      <td>tm38852</td>\n",
       "      <td>Horton Hears a Who!</td>\n",
       "      <td>MOVIE</td>\n",
       "      <td>One day, Horton the elephant hears a cry from ...</td>\n",
       "      <td>2008</td>\n",
       "      <td>G</td>\n",
       "      <td>86</td>\n",
       "      <td>fantasy, family, drama, romance, comedy, music...</td>\n",
       "      <td>['US']</td>\n",
       "      <td>...</td>\n",
       "      <td>romance</td>\n",
       "      <td>comedy</td>\n",
       "      <td>music</td>\n",
       "      <td>animation</td>\n",
       "      <td>NaN</td>\n",
       "      <td>NaN</td>\n",
       "      <td>NaN</td>\n",
       "      <td>9</td>\n",
       "      <td>2</td>\n",
       "      <td>2</td>\n",
       "    </tr>\n",
       "    <tr>\n",
       "      <th>8</th>\n",
       "      <td>Disney</td>\n",
       "      <td>tm37884</td>\n",
       "      <td>Red Tails</td>\n",
       "      <td>MOVIE</td>\n",
       "      <td>The story of the Tuskegee Airmen, the first Af...</td>\n",
       "      <td>2012</td>\n",
       "      <td>PG-13</td>\n",
       "      <td>125</td>\n",
       "      <td>action, drama, history, war</td>\n",
       "      <td>['US']</td>\n",
       "      <td>...</td>\n",
       "      <td>war</td>\n",
       "      <td>NaN</td>\n",
       "      <td>NaN</td>\n",
       "      <td>NaN</td>\n",
       "      <td>NaN</td>\n",
       "      <td>NaN</td>\n",
       "      <td>NaN</td>\n",
       "      <td>1</td>\n",
       "      <td>2</td>\n",
       "      <td>2</td>\n",
       "    </tr>\n",
       "  </tbody>\n",
       "</table>\n",
       "<p>3 rows × 29 columns</p>\n",
       "</div>"
      ],
      "text/plain": [
       "  platform       id                title   type  \\\n",
       "0   Disney  tm19438   The Princess Bride  MOVIE   \n",
       "4   Disney  tm38852  Horton Hears a Who!  MOVIE   \n",
       "8   Disney  tm37884            Red Tails  MOVIE   \n",
       "\n",
       "                                         description  release_year  \\\n",
       "0  In this enchantingly cracked fairy tale, the b...          1987   \n",
       "4  One day, Horton the elephant hears a cry from ...          2008   \n",
       "8  The story of the Tuskegee Airmen, the first Af...          2012   \n",
       "\n",
       "  age_certification  runtime  \\\n",
       "0                PG       99   \n",
       "4                 G       86   \n",
       "8             PG-13      125   \n",
       "\n",
       "                                              genres production_countries  \\\n",
       "0                           fantasy, family, romance               ['US']   \n",
       "4  fantasy, family, drama, romance, comedy, music...               ['US']   \n",
       "8                        action, drama, history, war               ['US']   \n",
       "\n",
       "   ...   genre4  genre5  genre6     genre7  genre8  genre9 genre10 genre  \\\n",
       "0  ...      NaN     NaN     NaN        NaN     NaN     NaN     NaN     9   \n",
       "4  ...  romance  comedy   music  animation     NaN     NaN     NaN     9   \n",
       "8  ...      war     NaN     NaN        NaN     NaN     NaN     NaN     1   \n",
       "\n",
       "  program_type Platform  \n",
       "0            2        2  \n",
       "4            2        2  \n",
       "8            2        2  \n",
       "\n",
       "[3 rows x 29 columns]"
      ]
     },
     "execution_count": 29,
     "metadata": {},
     "output_type": "execute_result"
    }
   ],
   "source": [
    "movie_df.head(3)"
   ]
  },
  {
   "cell_type": "code",
   "execution_count": 30,
   "id": "c471650d",
   "metadata": {},
   "outputs": [],
   "source": [
    "movies = movie_df.drop(['title', 'description', 'age_certification', 'genres', \n",
    "                        'production_countries','seasons','tmdb_popularity','tmdb_score','program_type',\n",
    "                        'genre1', 'genre2', 'genre3', 'genre4', 'genre5', 'genre6', \n",
    "                        'genre7','genre8', 'genre9', 'genre10'], axis=1)"
   ]
  },
  {
   "cell_type": "code",
   "execution_count": 31,
   "id": "4e0f340c",
   "metadata": {},
   "outputs": [
    {
     "data": {
      "text/html": [
       "<div>\n",
       "<style scoped>\n",
       "    .dataframe tbody tr th:only-of-type {\n",
       "        vertical-align: middle;\n",
       "    }\n",
       "\n",
       "    .dataframe tbody tr th {\n",
       "        vertical-align: top;\n",
       "    }\n",
       "\n",
       "    .dataframe thead th {\n",
       "        text-align: right;\n",
       "    }\n",
       "</style>\n",
       "<table border=\"1\" class=\"dataframe\">\n",
       "  <thead>\n",
       "    <tr style=\"text-align: right;\">\n",
       "      <th></th>\n",
       "      <th>platform</th>\n",
       "      <th>id</th>\n",
       "      <th>type</th>\n",
       "      <th>release_year</th>\n",
       "      <th>runtime</th>\n",
       "      <th>imdb_id</th>\n",
       "      <th>imdb_score</th>\n",
       "      <th>imdb_votes</th>\n",
       "      <th>genre</th>\n",
       "      <th>Platform</th>\n",
       "    </tr>\n",
       "  </thead>\n",
       "  <tbody>\n",
       "    <tr>\n",
       "      <th>0</th>\n",
       "      <td>Disney</td>\n",
       "      <td>tm19438</td>\n",
       "      <td>MOVIE</td>\n",
       "      <td>1987</td>\n",
       "      <td>99</td>\n",
       "      <td>tt0093779</td>\n",
       "      <td>8.0</td>\n",
       "      <td>420521.0</td>\n",
       "      <td>9</td>\n",
       "      <td>2</td>\n",
       "    </tr>\n",
       "    <tr>\n",
       "      <th>4</th>\n",
       "      <td>Disney</td>\n",
       "      <td>tm38852</td>\n",
       "      <td>MOVIE</td>\n",
       "      <td>2008</td>\n",
       "      <td>86</td>\n",
       "      <td>tt0451079</td>\n",
       "      <td>6.8</td>\n",
       "      <td>138363.0</td>\n",
       "      <td>9</td>\n",
       "      <td>2</td>\n",
       "    </tr>\n",
       "    <tr>\n",
       "      <th>8</th>\n",
       "      <td>Disney</td>\n",
       "      <td>tm37884</td>\n",
       "      <td>MOVIE</td>\n",
       "      <td>2012</td>\n",
       "      <td>125</td>\n",
       "      <td>tt0485985</td>\n",
       "      <td>5.9</td>\n",
       "      <td>35424.0</td>\n",
       "      <td>1</td>\n",
       "      <td>2</td>\n",
       "    </tr>\n",
       "  </tbody>\n",
       "</table>\n",
       "</div>"
      ],
      "text/plain": [
       "  platform       id   type  release_year  runtime    imdb_id  imdb_score  \\\n",
       "0   Disney  tm19438  MOVIE          1987       99  tt0093779         8.0   \n",
       "4   Disney  tm38852  MOVIE          2008       86  tt0451079         6.8   \n",
       "8   Disney  tm37884  MOVIE          2012      125  tt0485985         5.9   \n",
       "\n",
       "   imdb_votes genre Platform  \n",
       "0    420521.0     9        2  \n",
       "4    138363.0     9        2  \n",
       "8     35424.0     1        2  "
      ]
     },
     "execution_count": 31,
     "metadata": {},
     "output_type": "execute_result"
    }
   ],
   "source": [
    "movies.head(3)"
   ]
  },
  {
   "cell_type": "code",
   "execution_count": 32,
   "id": "aaf62472",
   "metadata": {},
   "outputs": [
    {
     "data": {
      "text/plain": [
       "platform           0\n",
       "id                 0\n",
       "type               0\n",
       "release_year       0\n",
       "runtime            0\n",
       "imdb_id         1263\n",
       "imdb_score      1604\n",
       "imdb_votes      1632\n",
       "genre            202\n",
       "Platform           0\n",
       "dtype: int64"
      ]
     },
     "execution_count": 32,
     "metadata": {},
     "output_type": "execute_result"
    }
   ],
   "source": [
    "movies.isnull().sum()"
   ]
  },
  {
   "cell_type": "code",
   "execution_count": 33,
   "id": "94666c9f",
   "metadata": {},
   "outputs": [],
   "source": [
    "movies.dropna(inplace=True)"
   ]
  },
  {
   "cell_type": "code",
   "execution_count": 34,
   "id": "8c0d19a9",
   "metadata": {},
   "outputs": [
    {
     "data": {
      "text/plain": [
       "platform        12777\n",
       "id              12777\n",
       "type            12777\n",
       "release_year    12777\n",
       "runtime         12777\n",
       "imdb_id         12777\n",
       "imdb_score      12777\n",
       "imdb_votes      12777\n",
       "genre           12777\n",
       "Platform        12777\n",
       "dtype: int64"
      ]
     },
     "execution_count": 34,
     "metadata": {},
     "output_type": "execute_result"
    }
   ],
   "source": [
    "movies.count()"
   ]
  },
  {
   "cell_type": "code",
   "execution_count": 35,
   "id": "282e8f15",
   "metadata": {},
   "outputs": [
    {
     "data": {
      "text/plain": [
       "5.9822102214917425"
      ]
     },
     "execution_count": 35,
     "metadata": {},
     "output_type": "execute_result"
    }
   ],
   "source": [
    "#Average IMDB Score for Movies\n",
    "movies.loc[:, 'imdb_score'].mean()"
   ]
  },
  {
   "cell_type": "code",
   "execution_count": 36,
   "id": "74beffc8",
   "metadata": {},
   "outputs": [
    {
     "data": {
      "text/plain": [
       "96.71519135947406"
      ]
     },
     "execution_count": 36,
     "metadata": {},
     "output_type": "execute_result"
    }
   ],
   "source": [
    "#Average runtime for movies\n",
    "movies.loc[:, 'runtime'].mean()"
   ]
  },
  {
   "cell_type": "code",
   "execution_count": 37,
   "id": "ecf3e5e6",
   "metadata": {},
   "outputs": [],
   "source": [
    "#recoding score\n",
    "def MovieRating (series):\n",
    "  if series == \"imdb_score\":\n",
    "    return \"0\"\n",
    "  if series <= 5.8: \n",
    "    return \"Negative\"\n",
    "  if series >= 5.9: \n",
    "    return \"Positive\"\n",
    "movies[\"MovieRating\"] = movies[\"imdb_score\"].apply(MovieRating)"
   ]
  },
  {
   "cell_type": "code",
   "execution_count": 38,
   "id": "d408d8ac",
   "metadata": {},
   "outputs": [],
   "source": [
    "def MovieRating1 (series):\n",
    "  if series == \"Rating\":\n",
    "    return \"0\"\n",
    "  if series == \"Positive\": \n",
    "    return 1\n",
    "  if series == \"Negative\":\n",
    "    return 2\n",
    "movies[\"MovieRating1\"] = movies[\"MovieRating\"].apply(MovieRating1)"
   ]
  },
  {
   "cell_type": "code",
   "execution_count": 39,
   "id": "38d73139",
   "metadata": {},
   "outputs": [
    {
     "data": {
      "text/html": [
       "<div>\n",
       "<style scoped>\n",
       "    .dataframe tbody tr th:only-of-type {\n",
       "        vertical-align: middle;\n",
       "    }\n",
       "\n",
       "    .dataframe tbody tr th {\n",
       "        vertical-align: top;\n",
       "    }\n",
       "\n",
       "    .dataframe thead th {\n",
       "        text-align: right;\n",
       "    }\n",
       "</style>\n",
       "<table border=\"1\" class=\"dataframe\">\n",
       "  <thead>\n",
       "    <tr style=\"text-align: right;\">\n",
       "      <th></th>\n",
       "      <th>platform</th>\n",
       "      <th>id</th>\n",
       "      <th>type</th>\n",
       "      <th>release_year</th>\n",
       "      <th>runtime</th>\n",
       "      <th>imdb_id</th>\n",
       "      <th>imdb_score</th>\n",
       "      <th>imdb_votes</th>\n",
       "      <th>genre</th>\n",
       "      <th>Platform</th>\n",
       "      <th>MovieRating</th>\n",
       "      <th>MovieRating1</th>\n",
       "    </tr>\n",
       "  </thead>\n",
       "  <tbody>\n",
       "    <tr>\n",
       "      <th>0</th>\n",
       "      <td>Disney</td>\n",
       "      <td>tm19438</td>\n",
       "      <td>MOVIE</td>\n",
       "      <td>1987</td>\n",
       "      <td>99</td>\n",
       "      <td>tt0093779</td>\n",
       "      <td>8.0</td>\n",
       "      <td>420521.0</td>\n",
       "      <td>9</td>\n",
       "      <td>2</td>\n",
       "      <td>Positive</td>\n",
       "      <td>1</td>\n",
       "    </tr>\n",
       "    <tr>\n",
       "      <th>4</th>\n",
       "      <td>Disney</td>\n",
       "      <td>tm38852</td>\n",
       "      <td>MOVIE</td>\n",
       "      <td>2008</td>\n",
       "      <td>86</td>\n",
       "      <td>tt0451079</td>\n",
       "      <td>6.8</td>\n",
       "      <td>138363.0</td>\n",
       "      <td>9</td>\n",
       "      <td>2</td>\n",
       "      <td>Positive</td>\n",
       "      <td>1</td>\n",
       "    </tr>\n",
       "    <tr>\n",
       "      <th>8</th>\n",
       "      <td>Disney</td>\n",
       "      <td>tm37884</td>\n",
       "      <td>MOVIE</td>\n",
       "      <td>2012</td>\n",
       "      <td>125</td>\n",
       "      <td>tt0485985</td>\n",
       "      <td>5.9</td>\n",
       "      <td>35424.0</td>\n",
       "      <td>1</td>\n",
       "      <td>2</td>\n",
       "      <td>Positive</td>\n",
       "      <td>1</td>\n",
       "    </tr>\n",
       "  </tbody>\n",
       "</table>\n",
       "</div>"
      ],
      "text/plain": [
       "  platform       id   type  release_year  runtime    imdb_id  imdb_score  \\\n",
       "0   Disney  tm19438  MOVIE          1987       99  tt0093779         8.0   \n",
       "4   Disney  tm38852  MOVIE          2008       86  tt0451079         6.8   \n",
       "8   Disney  tm37884  MOVIE          2012      125  tt0485985         5.9   \n",
       "\n",
       "   imdb_votes genre Platform MovieRating  MovieRating1  \n",
       "0    420521.0     9        2    Positive             1  \n",
       "4    138363.0     9        2    Positive             1  \n",
       "8     35424.0     1        2    Positive             1  "
      ]
     },
     "execution_count": 39,
     "metadata": {},
     "output_type": "execute_result"
    }
   ],
   "source": [
    "movies.head(3)"
   ]
  },
  {
   "cell_type": "code",
   "execution_count": 40,
   "id": "701ca6e5",
   "metadata": {},
   "outputs": [
    {
     "data": {
      "text/plain": [
       "MovieRating\n",
       "Negative    5425\n",
       "Positive    7352\n",
       "Name: genre, dtype: int64"
      ]
     },
     "execution_count": 40,
     "metadata": {},
     "output_type": "execute_result"
    }
   ],
   "source": [
    "movies.groupby('MovieRating')['genre'].count()"
   ]
  },
  {
   "cell_type": "code",
   "execution_count": 41,
   "id": "d165df15",
   "metadata": {},
   "outputs": [
    {
     "name": "stdout",
     "output_type": "stream",
     "text": [
      "platform         object\n",
      "id               object\n",
      "type             object\n",
      "release_year      int64\n",
      "runtime           int64\n",
      "imdb_id          object\n",
      "imdb_score      float64\n",
      "imdb_votes      float64\n",
      "genre            object\n",
      "Platform         object\n",
      "MovieRating      object\n",
      "MovieRating1      int64\n",
      "dtype: object\n"
     ]
    }
   ],
   "source": [
    "print(movies.dtypes)"
   ]
  },
  {
   "cell_type": "code",
   "execution_count": 42,
   "id": "c0dcf9d1",
   "metadata": {},
   "outputs": [],
   "source": [
    "movies['genre'] = movies['genre'].astype(int)\n",
    "movies['Platform'] = movies['Platform'].astype(int)"
   ]
  },
  {
   "cell_type": "code",
   "execution_count": 43,
   "id": "dbbbb3cf",
   "metadata": {},
   "outputs": [
    {
     "name": "stdout",
     "output_type": "stream",
     "text": [
      "platform         object\n",
      "id               object\n",
      "type             object\n",
      "release_year      int64\n",
      "runtime           int64\n",
      "imdb_id          object\n",
      "imdb_score      float64\n",
      "imdb_votes      float64\n",
      "genre             int32\n",
      "Platform          int32\n",
      "MovieRating      object\n",
      "MovieRating1      int64\n",
      "dtype: object\n"
     ]
    }
   ],
   "source": [
    "print(movies.dtypes)"
   ]
  },
  {
   "cell_type": "code",
   "execution_count": 44,
   "id": "b8782162",
   "metadata": {},
   "outputs": [
    {
     "data": {
      "text/html": [
       "<style type=\"text/css\">\n",
       "#T_5036e_row0_col0, #T_5036e_row1_col1, #T_5036e_row2_col2, #T_5036e_row3_col3, #T_5036e_row4_col4, #T_5036e_row5_col5, #T_5036e_row6_col6 {\n",
       "  background-color: #b40426;\n",
       "  color: #f1f1f1;\n",
       "}\n",
       "#T_5036e_row0_col1 {\n",
       "  background-color: #9bbcff;\n",
       "  color: #000000;\n",
       "}\n",
       "#T_5036e_row0_col2 {\n",
       "  background-color: #cfdaea;\n",
       "  color: #000000;\n",
       "}\n",
       "#T_5036e_row0_col3 {\n",
       "  background-color: #6a8bef;\n",
       "  color: #f1f1f1;\n",
       "}\n",
       "#T_5036e_row0_col4, #T_5036e_row0_col5, #T_5036e_row2_col6, #T_5036e_row5_col0, #T_5036e_row6_col1, #T_5036e_row6_col2, #T_5036e_row6_col3 {\n",
       "  background-color: #3b4cc0;\n",
       "  color: #f1f1f1;\n",
       "}\n",
       "#T_5036e_row0_col6 {\n",
       "  background-color: #c9d7f0;\n",
       "  color: #000000;\n",
       "}\n",
       "#T_5036e_row1_col0 {\n",
       "  background-color: #bcd2f7;\n",
       "  color: #000000;\n",
       "}\n",
       "#T_5036e_row1_col2 {\n",
       "  background-color: #e4d9d2;\n",
       "  color: #000000;\n",
       "}\n",
       "#T_5036e_row1_col3 {\n",
       "  background-color: #9dbdff;\n",
       "  color: #000000;\n",
       "}\n",
       "#T_5036e_row1_col4, #T_5036e_row3_col4 {\n",
       "  background-color: #7093f3;\n",
       "  color: #f1f1f1;\n",
       "}\n",
       "#T_5036e_row1_col5, #T_5036e_row4_col3 {\n",
       "  background-color: #6e90f2;\n",
       "  color: #f1f1f1;\n",
       "}\n",
       "#T_5036e_row1_col6 {\n",
       "  background-color: #b7cff9;\n",
       "  color: #000000;\n",
       "}\n",
       "#T_5036e_row2_col0, #T_5036e_row2_col1, #T_5036e_row3_col0 {\n",
       "  background-color: #8caffe;\n",
       "  color: #000000;\n",
       "}\n",
       "#T_5036e_row2_col3 {\n",
       "  background-color: #a7c5fe;\n",
       "  color: #000000;\n",
       "}\n",
       "#T_5036e_row2_col4 {\n",
       "  background-color: #3d50c3;\n",
       "  color: #f1f1f1;\n",
       "}\n",
       "#T_5036e_row2_col5 {\n",
       "  background-color: #5a78e4;\n",
       "  color: #f1f1f1;\n",
       "}\n",
       "#T_5036e_row3_col1 {\n",
       "  background-color: #97b8ff;\n",
       "  color: #000000;\n",
       "}\n",
       "#T_5036e_row3_col2 {\n",
       "  background-color: #edd2c3;\n",
       "  color: #000000;\n",
       "}\n",
       "#T_5036e_row3_col5 {\n",
       "  background-color: #6485ec;\n",
       "  color: #f1f1f1;\n",
       "}\n",
       "#T_5036e_row3_col6, #T_5036e_row4_col2, #T_5036e_row4_col5 {\n",
       "  background-color: #b2ccfb;\n",
       "  color: #000000;\n",
       "}\n",
       "#T_5036e_row4_col0 {\n",
       "  background-color: #5b7ae5;\n",
       "  color: #f1f1f1;\n",
       "}\n",
       "#T_5036e_row4_col1 {\n",
       "  background-color: #6788ee;\n",
       "  color: #f1f1f1;\n",
       "}\n",
       "#T_5036e_row4_col6 {\n",
       "  background-color: #e1dad6;\n",
       "  color: #000000;\n",
       "}\n",
       "#T_5036e_row5_col1 {\n",
       "  background-color: #445acc;\n",
       "  color: #f1f1f1;\n",
       "}\n",
       "#T_5036e_row5_col2 {\n",
       "  background-color: #afcafc;\n",
       "  color: #000000;\n",
       "}\n",
       "#T_5036e_row5_col3 {\n",
       "  background-color: #4055c8;\n",
       "  color: #f1f1f1;\n",
       "}\n",
       "#T_5036e_row5_col4 {\n",
       "  background-color: #96b7ff;\n",
       "  color: #000000;\n",
       "}\n",
       "#T_5036e_row5_col6 {\n",
       "  background-color: #e3d9d3;\n",
       "  color: #000000;\n",
       "}\n",
       "#T_5036e_row6_col0 {\n",
       "  background-color: #80a3fa;\n",
       "  color: #f1f1f1;\n",
       "}\n",
       "#T_5036e_row6_col4 {\n",
       "  background-color: #8fb1fe;\n",
       "  color: #000000;\n",
       "}\n",
       "#T_5036e_row6_col5 {\n",
       "  background-color: #aec9fc;\n",
       "  color: #000000;\n",
       "}\n",
       "</style>\n",
       "<table id=\"T_5036e\">\n",
       "  <thead>\n",
       "    <tr>\n",
       "      <th class=\"blank level0\" >&nbsp;</th>\n",
       "      <th id=\"T_5036e_level0_col0\" class=\"col_heading level0 col0\" >release_year</th>\n",
       "      <th id=\"T_5036e_level0_col1\" class=\"col_heading level0 col1\" >runtime</th>\n",
       "      <th id=\"T_5036e_level0_col2\" class=\"col_heading level0 col2\" >imdb_score</th>\n",
       "      <th id=\"T_5036e_level0_col3\" class=\"col_heading level0 col3\" >imdb_votes</th>\n",
       "      <th id=\"T_5036e_level0_col4\" class=\"col_heading level0 col4\" >genre</th>\n",
       "      <th id=\"T_5036e_level0_col5\" class=\"col_heading level0 col5\" >Platform</th>\n",
       "      <th id=\"T_5036e_level0_col6\" class=\"col_heading level0 col6\" >MovieRating1</th>\n",
       "    </tr>\n",
       "  </thead>\n",
       "  <tbody>\n",
       "    <tr>\n",
       "      <th id=\"T_5036e_level0_row0\" class=\"row_heading level0 row0\" >release_year</th>\n",
       "      <td id=\"T_5036e_row0_col0\" class=\"data row0 col0\" >1.000000</td>\n",
       "      <td id=\"T_5036e_row0_col1\" class=\"data row0 col1\" >0.200089</td>\n",
       "      <td id=\"T_5036e_row0_col2\" class=\"data row0 col2\" >0.016710</td>\n",
       "      <td id=\"T_5036e_row0_col3\" class=\"data row0 col3\" >0.016418</td>\n",
       "      <td id=\"T_5036e_row0_col4\" class=\"data row0 col4\" >-0.164833</td>\n",
       "      <td id=\"T_5036e_row0_col5\" class=\"data row0 col5\" >-0.306179</td>\n",
       "      <td id=\"T_5036e_row0_col6\" class=\"data row0 col6\" >-0.030374</td>\n",
       "    </tr>\n",
       "    <tr>\n",
       "      <th id=\"T_5036e_level0_row1\" class=\"row_heading level0 row1\" >runtime</th>\n",
       "      <td id=\"T_5036e_row1_col0\" class=\"data row1 col0\" >0.200089</td>\n",
       "      <td id=\"T_5036e_row1_col1\" class=\"data row1 col1\" >1.000000</td>\n",
       "      <td id=\"T_5036e_row1_col2\" class=\"data row1 col2\" >0.152285</td>\n",
       "      <td id=\"T_5036e_row1_col3\" class=\"data row1 col3\" >0.184907</td>\n",
       "      <td id=\"T_5036e_row1_col4\" class=\"data row1 col4\" >0.032111</td>\n",
       "      <td id=\"T_5036e_row1_col5\" class=\"data row1 col5\" >-0.094054</td>\n",
       "      <td id=\"T_5036e_row1_col6\" class=\"data row1 col6\" >-0.129412</td>\n",
       "    </tr>\n",
       "    <tr>\n",
       "      <th id=\"T_5036e_level0_row2\" class=\"row_heading level0 row2\" >imdb_score</th>\n",
       "      <td id=\"T_5036e_row2_col0\" class=\"data row2 col0\" >0.016710</td>\n",
       "      <td id=\"T_5036e_row2_col1\" class=\"data row2 col1\" >0.152285</td>\n",
       "      <td id=\"T_5036e_row2_col2\" class=\"data row2 col2\" >1.000000</td>\n",
       "      <td id=\"T_5036e_row2_col3\" class=\"data row2 col3\" >0.222447</td>\n",
       "      <td id=\"T_5036e_row2_col4\" class=\"data row2 col4\" >-0.151424</td>\n",
       "      <td id=\"T_5036e_row2_col5\" class=\"data row2 col5\" >-0.170125</td>\n",
       "      <td id=\"T_5036e_row2_col6\" class=\"data row2 col6\" >-0.796924</td>\n",
       "    </tr>\n",
       "    <tr>\n",
       "      <th id=\"T_5036e_level0_row3\" class=\"row_heading level0 row3\" >imdb_votes</th>\n",
       "      <td id=\"T_5036e_row3_col0\" class=\"data row3 col0\" >0.016418</td>\n",
       "      <td id=\"T_5036e_row3_col1\" class=\"data row3 col1\" >0.184907</td>\n",
       "      <td id=\"T_5036e_row3_col2\" class=\"data row3 col2\" >0.222447</td>\n",
       "      <td id=\"T_5036e_row3_col3\" class=\"data row3 col3\" >1.000000</td>\n",
       "      <td id=\"T_5036e_row3_col4\" class=\"data row3 col4\" >0.033618</td>\n",
       "      <td id=\"T_5036e_row3_col5\" class=\"data row3 col5\" >-0.130249</td>\n",
       "      <td id=\"T_5036e_row3_col6\" class=\"data row3 col6\" >-0.155567</td>\n",
       "    </tr>\n",
       "    <tr>\n",
       "      <th id=\"T_5036e_level0_row4\" class=\"row_heading level0 row4\" >genre</th>\n",
       "      <td id=\"T_5036e_row4_col0\" class=\"data row4 col0\" >-0.164833</td>\n",
       "      <td id=\"T_5036e_row4_col1\" class=\"data row4 col1\" >0.032111</td>\n",
       "      <td id=\"T_5036e_row4_col2\" class=\"data row4 col2\" >-0.151424</td>\n",
       "      <td id=\"T_5036e_row4_col3\" class=\"data row4 col3\" >0.033618</td>\n",
       "      <td id=\"T_5036e_row4_col4\" class=\"data row4 col4\" >1.000000</td>\n",
       "      <td id=\"T_5036e_row4_col5\" class=\"data row4 col5\" >0.158170</td>\n",
       "      <td id=\"T_5036e_row4_col6\" class=\"data row4 col6\" >0.130986</td>\n",
       "    </tr>\n",
       "    <tr>\n",
       "      <th id=\"T_5036e_level0_row5\" class=\"row_heading level0 row5\" >Platform</th>\n",
       "      <td id=\"T_5036e_row5_col0\" class=\"data row5 col0\" >-0.306179</td>\n",
       "      <td id=\"T_5036e_row5_col1\" class=\"data row5 col1\" >-0.094054</td>\n",
       "      <td id=\"T_5036e_row5_col2\" class=\"data row5 col2\" >-0.170125</td>\n",
       "      <td id=\"T_5036e_row5_col3\" class=\"data row5 col3\" >-0.130249</td>\n",
       "      <td id=\"T_5036e_row5_col4\" class=\"data row5 col4\" >0.158170</td>\n",
       "      <td id=\"T_5036e_row5_col5\" class=\"data row5 col5\" >1.000000</td>\n",
       "      <td id=\"T_5036e_row5_col6\" class=\"data row5 col6\" >0.147019</td>\n",
       "    </tr>\n",
       "    <tr>\n",
       "      <th id=\"T_5036e_level0_row6\" class=\"row_heading level0 row6\" >MovieRating1</th>\n",
       "      <td id=\"T_5036e_row6_col0\" class=\"data row6 col0\" >-0.030374</td>\n",
       "      <td id=\"T_5036e_row6_col1\" class=\"data row6 col1\" >-0.129412</td>\n",
       "      <td id=\"T_5036e_row6_col2\" class=\"data row6 col2\" >-0.796924</td>\n",
       "      <td id=\"T_5036e_row6_col3\" class=\"data row6 col3\" >-0.155567</td>\n",
       "      <td id=\"T_5036e_row6_col4\" class=\"data row6 col4\" >0.130986</td>\n",
       "      <td id=\"T_5036e_row6_col5\" class=\"data row6 col5\" >0.147019</td>\n",
       "      <td id=\"T_5036e_row6_col6\" class=\"data row6 col6\" >1.000000</td>\n",
       "    </tr>\n",
       "  </tbody>\n",
       "</table>\n"
      ],
      "text/plain": [
       "<pandas.io.formats.style.Styler at 0x1458e80baf0>"
      ]
     },
     "execution_count": 44,
     "metadata": {},
     "output_type": "execute_result"
    }
   ],
   "source": [
    "corr = movies.corr()\n",
    "corr.style.background_gradient(cmap='coolwarm')"
   ]
  },
  {
   "cell_type": "code",
   "execution_count": 45,
   "id": "e98459aa",
   "metadata": {},
   "outputs": [],
   "source": [
    "movies_1 = movies[['genre', 'imdb_score']]"
   ]
  },
  {
   "cell_type": "code",
   "execution_count": 46,
   "id": "6da028f9",
   "metadata": {},
   "outputs": [
    {
     "data": {
      "text/plain": [
       "Text(0, 0.5, 'AVG IMDB Score')"
      ]
     },
     "execution_count": 46,
     "metadata": {},
     "output_type": "execute_result"
    },
    {
     "data": {
      "image/png": "[encoded data removed]",
      "text/plain": [
       "<Figure size 432x288 with 1 Axes>"
      ]
     },
     "metadata": {
      "needs_background": "light"
     },
     "output_type": "display_data"
    }
   ],
   "source": [
    "movies_avg = movies_1.groupby('genre')['imdb_score'].mean()\n",
    "movies_avg.plot(kind='bar')\n",
    "plt.title('All Movies')\n",
    "plt.xlabel('Genre')\n",
    "plt.ylabel('AVG IMDB Score')"
   ]
  },
  {
   "cell_type": "code",
   "execution_count": 47,
   "id": "3c0f4e86",
   "metadata": {},
   "outputs": [
    {
     "name": "stdout",
     "output_type": "stream",
     "text": [
      "genre\n",
      "1     5.584081\n",
      "2     6.186446\n",
      "3     5.975863\n",
      "4     6.004222\n",
      "5     6.944305\n",
      "6     6.219239\n",
      "7     6.425000\n",
      "8     5.700000\n",
      "9     6.028504\n",
      "10    6.570968\n",
      "11    4.693069\n",
      "12    6.735156\n",
      "13    7.150000\n",
      "14    5.958693\n",
      "15    5.392857\n",
      "16    6.814286\n",
      "17    5.613855\n",
      "18    6.471429\n",
      "19    5.720991\n",
      "Name: imdb_score, dtype: float64\n"
     ]
    }
   ],
   "source": [
    "print(movies_avg)"
   ]
  },
  {
   "cell_type": "code",
   "execution_count": 48,
   "id": "f5a953f6",
   "metadata": {},
   "outputs": [],
   "source": [
    "shows_df = streamingdata.loc[streamingdata['type'] == 'SHOW']"
   ]
  },
  {
   "cell_type": "code",
   "execution_count": 49,
   "id": "3c8ea7a1",
   "metadata": {},
   "outputs": [
    {
     "data": {
      "text/html": [
       "<div>\n",
       "<style scoped>\n",
       "    .dataframe tbody tr th:only-of-type {\n",
       "        vertical-align: middle;\n",
       "    }\n",
       "\n",
       "    .dataframe tbody tr th {\n",
       "        vertical-align: top;\n",
       "    }\n",
       "\n",
       "    .dataframe thead th {\n",
       "        text-align: right;\n",
       "    }\n",
       "</style>\n",
       "<table border=\"1\" class=\"dataframe\">\n",
       "  <thead>\n",
       "    <tr style=\"text-align: right;\">\n",
       "      <th></th>\n",
       "      <th>platform</th>\n",
       "      <th>id</th>\n",
       "      <th>title</th>\n",
       "      <th>type</th>\n",
       "      <th>description</th>\n",
       "      <th>release_year</th>\n",
       "      <th>age_certification</th>\n",
       "      <th>runtime</th>\n",
       "      <th>genres</th>\n",
       "      <th>production_countries</th>\n",
       "      <th>...</th>\n",
       "      <th>genre4</th>\n",
       "      <th>genre5</th>\n",
       "      <th>genre6</th>\n",
       "      <th>genre7</th>\n",
       "      <th>genre8</th>\n",
       "      <th>genre9</th>\n",
       "      <th>genre10</th>\n",
       "      <th>genre</th>\n",
       "      <th>program_type</th>\n",
       "      <th>Platform</th>\n",
       "    </tr>\n",
       "  </thead>\n",
       "  <tbody>\n",
       "    <tr>\n",
       "      <th>1</th>\n",
       "      <td>Disney</td>\n",
       "      <td>ts20711</td>\n",
       "      <td>The Simpsons</td>\n",
       "      <td>SHOW</td>\n",
       "      <td>The satiric adventures of a working-class fami...</td>\n",
       "      <td>1989</td>\n",
       "      <td>TV-14</td>\n",
       "      <td>27</td>\n",
       "      <td>animation, comedy</td>\n",
       "      <td>['US']</td>\n",
       "      <td>...</td>\n",
       "      <td>NaN</td>\n",
       "      <td>NaN</td>\n",
       "      <td>NaN</td>\n",
       "      <td>NaN</td>\n",
       "      <td>NaN</td>\n",
       "      <td>NaN</td>\n",
       "      <td>NaN</td>\n",
       "      <td>2</td>\n",
       "      <td>1</td>\n",
       "      <td>2</td>\n",
       "    </tr>\n",
       "    <tr>\n",
       "      <th>2</th>\n",
       "      <td>Disney</td>\n",
       "      <td>ts15377</td>\n",
       "      <td>America's Funniest Home Videos</td>\n",
       "      <td>SHOW</td>\n",
       "      <td>America's Funniest Home Videos is the longest-...</td>\n",
       "      <td>1989</td>\n",
       "      <td>TV-PG</td>\n",
       "      <td>49</td>\n",
       "      <td>animation, reality, comedy</td>\n",
       "      <td>['US']</td>\n",
       "      <td>...</td>\n",
       "      <td>NaN</td>\n",
       "      <td>NaN</td>\n",
       "      <td>NaN</td>\n",
       "      <td>NaN</td>\n",
       "      <td>NaN</td>\n",
       "      <td>NaN</td>\n",
       "      <td>NaN</td>\n",
       "      <td>2</td>\n",
       "      <td>1</td>\n",
       "      <td>2</td>\n",
       "    </tr>\n",
       "    <tr>\n",
       "      <th>3</th>\n",
       "      <td>Disney</td>\n",
       "      <td>ts22130</td>\n",
       "      <td>Rolie Polie Olie</td>\n",
       "      <td>SHOW</td>\n",
       "      <td>Rolie Polie Olie was a children's television s...</td>\n",
       "      <td>1998</td>\n",
       "      <td>TV-Y</td>\n",
       "      <td>21</td>\n",
       "      <td>animation, comedy, family, fantasy, scifi</td>\n",
       "      <td>['FR', 'GB', 'US', 'CA']</td>\n",
       "      <td>...</td>\n",
       "      <td>fantasy</td>\n",
       "      <td>scifi</td>\n",
       "      <td>NaN</td>\n",
       "      <td>NaN</td>\n",
       "      <td>NaN</td>\n",
       "      <td>NaN</td>\n",
       "      <td>NaN</td>\n",
       "      <td>2</td>\n",
       "      <td>1</td>\n",
       "      <td>2</td>\n",
       "    </tr>\n",
       "  </tbody>\n",
       "</table>\n",
       "<p>3 rows × 29 columns</p>\n",
       "</div>"
      ],
      "text/plain": [
       "  platform       id                           title  type  \\\n",
       "1   Disney  ts20711                    The Simpsons  SHOW   \n",
       "2   Disney  ts15377  America's Funniest Home Videos  SHOW   \n",
       "3   Disney  ts22130                Rolie Polie Olie  SHOW   \n",
       "\n",
       "                                         description  release_year  \\\n",
       "1  The satiric adventures of a working-class fami...          1989   \n",
       "2  America's Funniest Home Videos is the longest-...          1989   \n",
       "3  Rolie Polie Olie was a children's television s...          1998   \n",
       "\n",
       "  age_certification  runtime                                     genres  \\\n",
       "1             TV-14       27                          animation, comedy   \n",
       "2             TV-PG       49                 animation, reality, comedy   \n",
       "3              TV-Y       21  animation, comedy, family, fantasy, scifi   \n",
       "\n",
       "       production_countries  ...   genre4 genre5  genre6  genre7  genre8  \\\n",
       "1                    ['US']  ...      NaN    NaN     NaN     NaN     NaN   \n",
       "2                    ['US']  ...      NaN    NaN     NaN     NaN     NaN   \n",
       "3  ['FR', 'GB', 'US', 'CA']  ...  fantasy  scifi     NaN     NaN     NaN   \n",
       "\n",
       "   genre9 genre10 genre program_type Platform  \n",
       "1     NaN     NaN     2            1        2  \n",
       "2     NaN     NaN     2            1        2  \n",
       "3     NaN     NaN     2            1        2  \n",
       "\n",
       "[3 rows x 29 columns]"
      ]
     },
     "execution_count": 49,
     "metadata": {},
     "output_type": "execute_result"
    }
   ],
   "source": [
    "shows_df.head(3)"
   ]
  },
  {
   "cell_type": "code",
   "execution_count": 50,
   "id": "b3d73a72",
   "metadata": {},
   "outputs": [],
   "source": [
    "shows = shows_df.drop(['title', 'description', 'age_certification', 'genres', 'program_type',\n",
    "                       'production_countries','tmdb_popularity','tmdb_score',\n",
    "                       'genre1', 'genre2', 'genre3', 'genre4', 'genre5', 'genre6', \n",
    "                       'genre7','genre8', 'genre9', 'genre10'], axis=1)"
   ]
  },
  {
   "cell_type": "code",
   "execution_count": 51,
   "id": "3f327f9b",
   "metadata": {},
   "outputs": [
    {
     "data": {
      "text/html": [
       "<div>\n",
       "<style scoped>\n",
       "    .dataframe tbody tr th:only-of-type {\n",
       "        vertical-align: middle;\n",
       "    }\n",
       "\n",
       "    .dataframe tbody tr th {\n",
       "        vertical-align: top;\n",
       "    }\n",
       "\n",
       "    .dataframe thead th {\n",
       "        text-align: right;\n",
       "    }\n",
       "</style>\n",
       "<table border=\"1\" class=\"dataframe\">\n",
       "  <thead>\n",
       "    <tr style=\"text-align: right;\">\n",
       "      <th></th>\n",
       "      <th>platform</th>\n",
       "      <th>id</th>\n",
       "      <th>type</th>\n",
       "      <th>release_year</th>\n",
       "      <th>runtime</th>\n",
       "      <th>seasons</th>\n",
       "      <th>imdb_id</th>\n",
       "      <th>imdb_score</th>\n",
       "      <th>imdb_votes</th>\n",
       "      <th>genre</th>\n",
       "      <th>Platform</th>\n",
       "    </tr>\n",
       "  </thead>\n",
       "  <tbody>\n",
       "    <tr>\n",
       "      <th>1</th>\n",
       "      <td>Disney</td>\n",
       "      <td>ts20711</td>\n",
       "      <td>SHOW</td>\n",
       "      <td>1989</td>\n",
       "      <td>27</td>\n",
       "      <td>34.0</td>\n",
       "      <td>tt0096697</td>\n",
       "      <td>8.7</td>\n",
       "      <td>394764.0</td>\n",
       "      <td>2</td>\n",
       "      <td>2</td>\n",
       "    </tr>\n",
       "    <tr>\n",
       "      <th>2</th>\n",
       "      <td>Disney</td>\n",
       "      <td>ts15377</td>\n",
       "      <td>SHOW</td>\n",
       "      <td>1989</td>\n",
       "      <td>49</td>\n",
       "      <td>32.0</td>\n",
       "      <td>tt0098740</td>\n",
       "      <td>6.2</td>\n",
       "      <td>5356.0</td>\n",
       "      <td>2</td>\n",
       "      <td>2</td>\n",
       "    </tr>\n",
       "    <tr>\n",
       "      <th>3</th>\n",
       "      <td>Disney</td>\n",
       "      <td>ts22130</td>\n",
       "      <td>SHOW</td>\n",
       "      <td>1998</td>\n",
       "      <td>21</td>\n",
       "      <td>6.0</td>\n",
       "      <td>tt0172049</td>\n",
       "      <td>6.3</td>\n",
       "      <td>2861.0</td>\n",
       "      <td>2</td>\n",
       "      <td>2</td>\n",
       "    </tr>\n",
       "  </tbody>\n",
       "</table>\n",
       "</div>"
      ],
      "text/plain": [
       "  platform       id  type  release_year  runtime  seasons    imdb_id  \\\n",
       "1   Disney  ts20711  SHOW          1989       27     34.0  tt0096697   \n",
       "2   Disney  ts15377  SHOW          1989       49     32.0  tt0098740   \n",
       "3   Disney  ts22130  SHOW          1998       21      6.0  tt0172049   \n",
       "\n",
       "   imdb_score  imdb_votes genre Platform  \n",
       "1         8.7    394764.0     2        2  \n",
       "2         6.2      5356.0     2        2  \n",
       "3         6.3      2861.0     2        2  "
      ]
     },
     "execution_count": 51,
     "metadata": {},
     "output_type": "execute_result"
    }
   ],
   "source": [
    "shows.head(3)"
   ]
  },
  {
   "cell_type": "code",
   "execution_count": 52,
   "id": "b8cd58c4",
   "metadata": {},
   "outputs": [
    {
     "data": {
      "text/plain": [
       "platform          0\n",
       "id                0\n",
       "type              0\n",
       "release_year      0\n",
       "runtime           0\n",
       "seasons           0\n",
       "imdb_id         344\n",
       "imdb_score      492\n",
       "imdb_votes      494\n",
       "genre           118\n",
       "Platform          0\n",
       "dtype: int64"
      ]
     },
     "execution_count": 52,
     "metadata": {},
     "output_type": "execute_result"
    }
   ],
   "source": [
    "shows.isnull().sum()"
   ]
  },
  {
   "cell_type": "code",
   "execution_count": 53,
   "id": "0b60bbaf",
   "metadata": {},
   "outputs": [],
   "source": [
    "shows.dropna(inplace=True)"
   ]
  },
  {
   "cell_type": "code",
   "execution_count": 54,
   "id": "999195c7",
   "metadata": {},
   "outputs": [
    {
     "data": {
      "text/plain": [
       "platform        4680\n",
       "id              4680\n",
       "type            4680\n",
       "release_year    4680\n",
       "runtime         4680\n",
       "seasons         4680\n",
       "imdb_id         4680\n",
       "imdb_score      4680\n",
       "imdb_votes      4680\n",
       "genre           4680\n",
       "Platform        4680\n",
       "dtype: int64"
      ]
     },
     "execution_count": 54,
     "metadata": {},
     "output_type": "execute_result"
    }
   ],
   "source": [
    "shows.count()"
   ]
  },
  {
   "cell_type": "code",
   "execution_count": 55,
   "id": "01478286",
   "metadata": {},
   "outputs": [
    {
     "data": {
      "text/plain": [
       "7.0607478632478635"
      ]
     },
     "execution_count": 55,
     "metadata": {},
     "output_type": "execute_result"
    }
   ],
   "source": [
    "#Average IMDB Score for shows\n",
    "shows.loc[:, 'imdb_score'].mean()"
   ]
  },
  {
   "cell_type": "code",
   "execution_count": 56,
   "id": "9aa19221",
   "metadata": {},
   "outputs": [
    {
     "data": {
      "text/plain": [
       "36.08461538461538"
      ]
     },
     "execution_count": 56,
     "metadata": {},
     "output_type": "execute_result"
    }
   ],
   "source": [
    "#Average runtime for shows\n",
    "shows.loc[:, 'runtime'].mean()"
   ]
  },
  {
   "cell_type": "code",
   "execution_count": 57,
   "id": "870100a5",
   "metadata": {},
   "outputs": [],
   "source": [
    "#recoding score\n",
    "def ShowRating (series):\n",
    "  if series == \"imdb_score\":\n",
    "    return \"0\"\n",
    "  if series <= 6.9: \n",
    "    return \"Negative\"\n",
    "  if series >= 7.0: \n",
    "    return \"Positive\"\n",
    "shows[\"ShowRating\"] = shows[\"imdb_score\"].apply(ShowRating)"
   ]
  },
  {
   "cell_type": "code",
   "execution_count": 58,
   "id": "15297956",
   "metadata": {},
   "outputs": [],
   "source": [
    "def ShowRating1 (series):\n",
    "  if series == \"Rating\":\n",
    "    return \"0\"\n",
    "  if series == \"Positive\": \n",
    "    return 1\n",
    "  if series == \"Negative\":\n",
    "    return 2\n",
    "shows[\"ShowRating1\"] = shows[\"ShowRating\"].apply(ShowRating1)"
   ]
  },
  {
   "cell_type": "code",
   "execution_count": 59,
   "id": "45c62f27",
   "metadata": {},
   "outputs": [
    {
     "data": {
      "text/html": [
       "<div>\n",
       "<style scoped>\n",
       "    .dataframe tbody tr th:only-of-type {\n",
       "        vertical-align: middle;\n",
       "    }\n",
       "\n",
       "    .dataframe tbody tr th {\n",
       "        vertical-align: top;\n",
       "    }\n",
       "\n",
       "    .dataframe thead th {\n",
       "        text-align: right;\n",
       "    }\n",
       "</style>\n",
       "<table border=\"1\" class=\"dataframe\">\n",
       "  <thead>\n",
       "    <tr style=\"text-align: right;\">\n",
       "      <th></th>\n",
       "      <th>platform</th>\n",
       "      <th>id</th>\n",
       "      <th>type</th>\n",
       "      <th>release_year</th>\n",
       "      <th>runtime</th>\n",
       "      <th>seasons</th>\n",
       "      <th>imdb_id</th>\n",
       "      <th>imdb_score</th>\n",
       "      <th>imdb_votes</th>\n",
       "      <th>genre</th>\n",
       "      <th>Platform</th>\n",
       "      <th>ShowRating</th>\n",
       "      <th>ShowRating1</th>\n",
       "    </tr>\n",
       "  </thead>\n",
       "  <tbody>\n",
       "    <tr>\n",
       "      <th>1</th>\n",
       "      <td>Disney</td>\n",
       "      <td>ts20711</td>\n",
       "      <td>SHOW</td>\n",
       "      <td>1989</td>\n",
       "      <td>27</td>\n",
       "      <td>34.0</td>\n",
       "      <td>tt0096697</td>\n",
       "      <td>8.7</td>\n",
       "      <td>394764.0</td>\n",
       "      <td>2</td>\n",
       "      <td>2</td>\n",
       "      <td>Positive</td>\n",
       "      <td>1</td>\n",
       "    </tr>\n",
       "    <tr>\n",
       "      <th>2</th>\n",
       "      <td>Disney</td>\n",
       "      <td>ts15377</td>\n",
       "      <td>SHOW</td>\n",
       "      <td>1989</td>\n",
       "      <td>49</td>\n",
       "      <td>32.0</td>\n",
       "      <td>tt0098740</td>\n",
       "      <td>6.2</td>\n",
       "      <td>5356.0</td>\n",
       "      <td>2</td>\n",
       "      <td>2</td>\n",
       "      <td>Negative</td>\n",
       "      <td>2</td>\n",
       "    </tr>\n",
       "    <tr>\n",
       "      <th>3</th>\n",
       "      <td>Disney</td>\n",
       "      <td>ts22130</td>\n",
       "      <td>SHOW</td>\n",
       "      <td>1998</td>\n",
       "      <td>21</td>\n",
       "      <td>6.0</td>\n",
       "      <td>tt0172049</td>\n",
       "      <td>6.3</td>\n",
       "      <td>2861.0</td>\n",
       "      <td>2</td>\n",
       "      <td>2</td>\n",
       "      <td>Negative</td>\n",
       "      <td>2</td>\n",
       "    </tr>\n",
       "  </tbody>\n",
       "</table>\n",
       "</div>"
      ],
      "text/plain": [
       "  platform       id  type  release_year  runtime  seasons    imdb_id  \\\n",
       "1   Disney  ts20711  SHOW          1989       27     34.0  tt0096697   \n",
       "2   Disney  ts15377  SHOW          1989       49     32.0  tt0098740   \n",
       "3   Disney  ts22130  SHOW          1998       21      6.0  tt0172049   \n",
       "\n",
       "   imdb_score  imdb_votes genre Platform ShowRating  ShowRating1  \n",
       "1         8.7    394764.0     2        2   Positive            1  \n",
       "2         6.2      5356.0     2        2   Negative            2  \n",
       "3         6.3      2861.0     2        2   Negative            2  "
      ]
     },
     "execution_count": 59,
     "metadata": {},
     "output_type": "execute_result"
    }
   ],
   "source": [
    "shows.head(3)"
   ]
  },
  {
   "cell_type": "code",
   "execution_count": 60,
   "id": "0772de4d",
   "metadata": {},
   "outputs": [
    {
     "data": {
      "text/plain": [
       "ShowRating\n",
       "Negative    1880\n",
       "Positive    2800\n",
       "Name: genre, dtype: int64"
      ]
     },
     "execution_count": 60,
     "metadata": {},
     "output_type": "execute_result"
    }
   ],
   "source": [
    "shows.groupby('ShowRating')['genre'].count()"
   ]
  },
  {
   "cell_type": "code",
   "execution_count": 61,
   "id": "bfe0daf0",
   "metadata": {},
   "outputs": [
    {
     "name": "stdout",
     "output_type": "stream",
     "text": [
      "platform         object\n",
      "id               object\n",
      "type             object\n",
      "release_year      int64\n",
      "runtime           int64\n",
      "seasons         float64\n",
      "imdb_id          object\n",
      "imdb_score      float64\n",
      "imdb_votes      float64\n",
      "genre            object\n",
      "Platform         object\n",
      "ShowRating       object\n",
      "ShowRating1       int64\n",
      "dtype: object\n"
     ]
    }
   ],
   "source": [
    "print(shows.dtypes)"
   ]
  },
  {
   "cell_type": "code",
   "execution_count": 62,
   "id": "b05aa126",
   "metadata": {},
   "outputs": [],
   "source": [
    "shows['genre'] = shows['genre'].astype(int)\n",
    "shows['Platform'] = shows['Platform'].astype(int)"
   ]
  },
  {
   "cell_type": "code",
   "execution_count": 63,
   "id": "5f50067b",
   "metadata": {},
   "outputs": [
    {
     "name": "stdout",
     "output_type": "stream",
     "text": [
      "platform         object\n",
      "id               object\n",
      "type             object\n",
      "release_year      int64\n",
      "runtime           int64\n",
      "seasons         float64\n",
      "imdb_id          object\n",
      "imdb_score      float64\n",
      "imdb_votes      float64\n",
      "genre             int32\n",
      "Platform          int32\n",
      "ShowRating       object\n",
      "ShowRating1       int64\n",
      "dtype: object\n"
     ]
    }
   ],
   "source": [
    "print(shows.dtypes)"
   ]
  },
  {
   "cell_type": "code",
   "execution_count": 64,
   "id": "5655c565",
   "metadata": {},
   "outputs": [
    {
     "data": {
      "text/html": [
       "<style type=\"text/css\">\n",
       "#T_5fb3b_row0_col0, #T_5fb3b_row1_col1, #T_5fb3b_row2_col2, #T_5fb3b_row3_col3, #T_5fb3b_row4_col4, #T_5fb3b_row5_col5, #T_5fb3b_row6_col6, #T_5fb3b_row7_col7 {\n",
       "  background-color: #b40426;\n",
       "  color: #f1f1f1;\n",
       "}\n",
       "#T_5fb3b_row0_col1, #T_5fb3b_row5_col6 {\n",
       "  background-color: #8db0fe;\n",
       "  color: #000000;\n",
       "}\n",
       "#T_5fb3b_row0_col2, #T_5fb3b_row0_col6, #T_5fb3b_row2_col0, #T_5fb3b_row3_col5, #T_5fb3b_row3_col7, #T_5fb3b_row7_col1, #T_5fb3b_row7_col3, #T_5fb3b_row7_col4 {\n",
       "  background-color: #3b4cc0;\n",
       "  color: #f1f1f1;\n",
       "}\n",
       "#T_5fb3b_row0_col3 {\n",
       "  background-color: #b7cff9;\n",
       "  color: #000000;\n",
       "}\n",
       "#T_5fb3b_row0_col4 {\n",
       "  background-color: #536edd;\n",
       "  color: #f1f1f1;\n",
       "}\n",
       "#T_5fb3b_row0_col5 {\n",
       "  background-color: #455cce;\n",
       "  color: #f1f1f1;\n",
       "}\n",
       "#T_5fb3b_row0_col7 {\n",
       "  background-color: #dddcdc;\n",
       "  color: #000000;\n",
       "}\n",
       "#T_5fb3b_row1_col0 {\n",
       "  background-color: #bcd2f7;\n",
       "  color: #000000;\n",
       "}\n",
       "#T_5fb3b_row1_col2, #T_5fb3b_row3_col1 {\n",
       "  background-color: #94b6ff;\n",
       "  color: #000000;\n",
       "}\n",
       "#T_5fb3b_row1_col3 {\n",
       "  background-color: #e3d9d3;\n",
       "  color: #000000;\n",
       "}\n",
       "#T_5fb3b_row1_col4, #T_5fb3b_row3_col0 {\n",
       "  background-color: #81a4fb;\n",
       "  color: #f1f1f1;\n",
       "}\n",
       "#T_5fb3b_row1_col5 {\n",
       "  background-color: #7da0f9;\n",
       "  color: #f1f1f1;\n",
       "}\n",
       "#T_5fb3b_row1_col6 {\n",
       "  background-color: #6e90f2;\n",
       "  color: #f1f1f1;\n",
       "}\n",
       "#T_5fb3b_row1_col7, #T_5fb3b_row3_col4 {\n",
       "  background-color: #afcafc;\n",
       "  color: #000000;\n",
       "}\n",
       "#T_5fb3b_row2_col1 {\n",
       "  background-color: #5b7ae5;\n",
       "  color: #f1f1f1;\n",
       "}\n",
       "#T_5fb3b_row2_col3 {\n",
       "  background-color: #d4dbe6;\n",
       "  color: #000000;\n",
       "}\n",
       "#T_5fb3b_row2_col4 {\n",
       "  background-color: #9dbdff;\n",
       "  color: #000000;\n",
       "}\n",
       "#T_5fb3b_row2_col5 {\n",
       "  background-color: #506bda;\n",
       "  color: #f1f1f1;\n",
       "}\n",
       "#T_5fb3b_row2_col6 {\n",
       "  background-color: #a6c4fe;\n",
       "  color: #000000;\n",
       "}\n",
       "#T_5fb3b_row2_col7 {\n",
       "  background-color: #c3d5f4;\n",
       "  color: #000000;\n",
       "}\n",
       "#T_5fb3b_row3_col2 {\n",
       "  background-color: #a9c6fd;\n",
       "  color: #000000;\n",
       "}\n",
       "#T_5fb3b_row3_col6 {\n",
       "  background-color: #97b8ff;\n",
       "  color: #000000;\n",
       "}\n",
       "#T_5fb3b_row4_col0 {\n",
       "  background-color: #8badfd;\n",
       "  color: #000000;\n",
       "}\n",
       "#T_5fb3b_row4_col1 {\n",
       "  background-color: #7ea1fa;\n",
       "  color: #f1f1f1;\n",
       "}\n",
       "#T_5fb3b_row4_col2 {\n",
       "  background-color: #c6d6f1;\n",
       "  color: #000000;\n",
       "}\n",
       "#T_5fb3b_row4_col3 {\n",
       "  background-color: #edd1c2;\n",
       "  color: #000000;\n",
       "}\n",
       "#T_5fb3b_row4_col5 {\n",
       "  background-color: #485fd1;\n",
       "  color: #f1f1f1;\n",
       "}\n",
       "#T_5fb3b_row4_col6 {\n",
       "  background-color: #7b9ff9;\n",
       "  color: #f1f1f1;\n",
       "}\n",
       "#T_5fb3b_row4_col7 {\n",
       "  background-color: #adc9fd;\n",
       "  color: #000000;\n",
       "}\n",
       "#T_5fb3b_row5_col0 {\n",
       "  background-color: #a2c1ff;\n",
       "  color: #000000;\n",
       "}\n",
       "#T_5fb3b_row5_col1 {\n",
       "  background-color: #9ebeff;\n",
       "  color: #000000;\n",
       "}\n",
       "#T_5fb3b_row5_col2 {\n",
       "  background-color: #aac7fd;\n",
       "  color: #000000;\n",
       "}\n",
       "#T_5fb3b_row5_col3 {\n",
       "  background-color: #c9d7f0;\n",
       "  color: #000000;\n",
       "}\n",
       "#T_5fb3b_row5_col4 {\n",
       "  background-color: #6f92f3;\n",
       "  color: #f1f1f1;\n",
       "}\n",
       "#T_5fb3b_row5_col7 {\n",
       "  background-color: #cbd8ee;\n",
       "  color: #000000;\n",
       "}\n",
       "#T_5fb3b_row6_col0 {\n",
       "  background-color: #5875e1;\n",
       "  color: #f1f1f1;\n",
       "}\n",
       "#T_5fb3b_row6_col1 {\n",
       "  background-color: #4f69d9;\n",
       "  color: #f1f1f1;\n",
       "}\n",
       "#T_5fb3b_row6_col2 {\n",
       "  background-color: #bbd1f8;\n",
       "  color: #000000;\n",
       "}\n",
       "#T_5fb3b_row6_col3 {\n",
       "  background-color: #d7dce3;\n",
       "  color: #000000;\n",
       "}\n",
       "#T_5fb3b_row6_col4 {\n",
       "  background-color: #5f7fe8;\n",
       "  color: #f1f1f1;\n",
       "}\n",
       "#T_5fb3b_row6_col5 {\n",
       "  background-color: #4b64d5;\n",
       "  color: #f1f1f1;\n",
       "}\n",
       "#T_5fb3b_row6_col7 {\n",
       "  background-color: #bed2f6;\n",
       "  color: #000000;\n",
       "}\n",
       "#T_5fb3b_row7_col0 {\n",
       "  background-color: #b9d0f9;\n",
       "  color: #000000;\n",
       "}\n",
       "#T_5fb3b_row7_col2 {\n",
       "  background-color: #90b2fe;\n",
       "  color: #000000;\n",
       "}\n",
       "#T_5fb3b_row7_col5 {\n",
       "  background-color: #3f53c6;\n",
       "  color: #f1f1f1;\n",
       "}\n",
       "#T_5fb3b_row7_col6 {\n",
       "  background-color: #6c8ff1;\n",
       "  color: #f1f1f1;\n",
       "}\n",
       "</style>\n",
       "<table id=\"T_5fb3b\">\n",
       "  <thead>\n",
       "    <tr>\n",
       "      <th class=\"blank level0\" >&nbsp;</th>\n",
       "      <th id=\"T_5fb3b_level0_col0\" class=\"col_heading level0 col0\" >release_year</th>\n",
       "      <th id=\"T_5fb3b_level0_col1\" class=\"col_heading level0 col1\" >runtime</th>\n",
       "      <th id=\"T_5fb3b_level0_col2\" class=\"col_heading level0 col2\" >seasons</th>\n",
       "      <th id=\"T_5fb3b_level0_col3\" class=\"col_heading level0 col3\" >imdb_score</th>\n",
       "      <th id=\"T_5fb3b_level0_col4\" class=\"col_heading level0 col4\" >imdb_votes</th>\n",
       "      <th id=\"T_5fb3b_level0_col5\" class=\"col_heading level0 col5\" >genre</th>\n",
       "      <th id=\"T_5fb3b_level0_col6\" class=\"col_heading level0 col6\" >Platform</th>\n",
       "      <th id=\"T_5fb3b_level0_col7\" class=\"col_heading level0 col7\" >ShowRating1</th>\n",
       "    </tr>\n",
       "  </thead>\n",
       "  <tbody>\n",
       "    <tr>\n",
       "      <th id=\"T_5fb3b_level0_row0\" class=\"row_heading level0 row0\" >release_year</th>\n",
       "      <td id=\"T_5fb3b_row0_col0\" class=\"data row0 col0\" >1.000000</td>\n",
       "      <td id=\"T_5fb3b_row0_col1\" class=\"data row0 col1\" >0.131342</td>\n",
       "      <td id=\"T_5fb3b_row0_col2\" class=\"data row0 col2\" >-0.425161</td>\n",
       "      <td id=\"T_5fb3b_row0_col3\" class=\"data row0 col3\" >-0.117619</td>\n",
       "      <td id=\"T_5fb3b_row0_col4\" class=\"data row0 col4\" >-0.079179</td>\n",
       "      <td id=\"T_5fb3b_row0_col5\" class=\"data row0 col5\" >0.015224</td>\n",
       "      <td id=\"T_5fb3b_row0_col6\" class=\"data row0 col6\" >-0.289097</td>\n",
       "      <td id=\"T_5fb3b_row0_col7\" class=\"data row0 col7\" >0.111109</td>\n",
       "    </tr>\n",
       "    <tr>\n",
       "      <th id=\"T_5fb3b_level0_row1\" class=\"row_heading level0 row1\" >runtime</th>\n",
       "      <td id=\"T_5fb3b_row1_col0\" class=\"data row1 col0\" >0.131342</td>\n",
       "      <td id=\"T_5fb3b_row1_col1\" class=\"data row1 col1\" >1.000000</td>\n",
       "      <td id=\"T_5fb3b_row1_col2\" class=\"data row1 col2\" >-0.037344</td>\n",
       "      <td id=\"T_5fb3b_row1_col3\" class=\"data row1 col3\" >0.154152</td>\n",
       "      <td id=\"T_5fb3b_row1_col4\" class=\"data row1 col4\" >0.082987</td>\n",
       "      <td id=\"T_5fb3b_row1_col5\" class=\"data row1 col5\" >0.188018</td>\n",
       "      <td id=\"T_5fb3b_row1_col6\" class=\"data row1 col6\" >-0.081678</td>\n",
       "      <td id=\"T_5fb3b_row1_col7\" class=\"data row1 col7\" >-0.159734</td>\n",
       "    </tr>\n",
       "    <tr>\n",
       "      <th id=\"T_5fb3b_level0_row2\" class=\"row_heading level0 row2\" >seasons</th>\n",
       "      <td id=\"T_5fb3b_row2_col0\" class=\"data row2 col0\" >-0.425161</td>\n",
       "      <td id=\"T_5fb3b_row2_col1\" class=\"data row2 col1\" >-0.037344</td>\n",
       "      <td id=\"T_5fb3b_row2_col2\" class=\"data row2 col2\" >1.000000</td>\n",
       "      <td id=\"T_5fb3b_row2_col3\" class=\"data row2 col3\" >0.047680</td>\n",
       "      <td id=\"T_5fb3b_row2_col4\" class=\"data row2 col4\" >0.172709</td>\n",
       "      <td id=\"T_5fb3b_row2_col5\" class=\"data row2 col5\" >0.049440</td>\n",
       "      <td id=\"T_5fb3b_row2_col6\" class=\"data row2 col6\" >0.124868</td>\n",
       "      <td id=\"T_5fb3b_row2_col7\" class=\"data row2 col7\" >-0.057307</td>\n",
       "    </tr>\n",
       "    <tr>\n",
       "      <th id=\"T_5fb3b_level0_row3\" class=\"row_heading level0 row3\" >imdb_score</th>\n",
       "      <td id=\"T_5fb3b_row3_col0\" class=\"data row3 col0\" >-0.117619</td>\n",
       "      <td id=\"T_5fb3b_row3_col1\" class=\"data row3 col1\" >0.154152</td>\n",
       "      <td id=\"T_5fb3b_row3_col2\" class=\"data row3 col2\" >0.047680</td>\n",
       "      <td id=\"T_5fb3b_row3_col3\" class=\"data row3 col3\" >1.000000</td>\n",
       "      <td id=\"T_5fb3b_row3_col4\" class=\"data row3 col4\" >0.238268</td>\n",
       "      <td id=\"T_5fb3b_row3_col5\" class=\"data row3 col5\" >-0.023473</td>\n",
       "      <td id=\"T_5fb3b_row3_col6\" class=\"data row3 col6\" >0.069343</td>\n",
       "      <td id=\"T_5fb3b_row3_col7\" class=\"data row3 col7\" >-0.783769</td>\n",
       "    </tr>\n",
       "    <tr>\n",
       "      <th id=\"T_5fb3b_level0_row4\" class=\"row_heading level0 row4\" >imdb_votes</th>\n",
       "      <td id=\"T_5fb3b_row4_col0\" class=\"data row4 col0\" >-0.079179</td>\n",
       "      <td id=\"T_5fb3b_row4_col1\" class=\"data row4 col1\" >0.082987</td>\n",
       "      <td id=\"T_5fb3b_row4_col2\" class=\"data row4 col2\" >0.172709</td>\n",
       "      <td id=\"T_5fb3b_row4_col3\" class=\"data row4 col3\" >0.238268</td>\n",
       "      <td id=\"T_5fb3b_row4_col4\" class=\"data row4 col4\" >1.000000</td>\n",
       "      <td id=\"T_5fb3b_row4_col5\" class=\"data row4 col5\" >0.022523</td>\n",
       "      <td id=\"T_5fb3b_row4_col6\" class=\"data row4 col6\" >-0.030625</td>\n",
       "      <td id=\"T_5fb3b_row4_col7\" class=\"data row4 col7\" >-0.170738</td>\n",
       "    </tr>\n",
       "    <tr>\n",
       "      <th id=\"T_5fb3b_level0_row5\" class=\"row_heading level0 row5\" >genre</th>\n",
       "      <td id=\"T_5fb3b_row5_col0\" class=\"data row5 col0\" >0.015224</td>\n",
       "      <td id=\"T_5fb3b_row5_col1\" class=\"data row5 col1\" >0.188018</td>\n",
       "      <td id=\"T_5fb3b_row5_col2\" class=\"data row5 col2\" >0.049440</td>\n",
       "      <td id=\"T_5fb3b_row5_col3\" class=\"data row5 col3\" >-0.023473</td>\n",
       "      <td id=\"T_5fb3b_row5_col4\" class=\"data row5 col4\" >0.022523</td>\n",
       "      <td id=\"T_5fb3b_row5_col5\" class=\"data row5 col5\" >1.000000</td>\n",
       "      <td id=\"T_5fb3b_row5_col6\" class=\"data row5 col6\" >0.033452</td>\n",
       "      <td id=\"T_5fb3b_row5_col7\" class=\"data row5 col7\" >-0.004454</td>\n",
       "    </tr>\n",
       "    <tr>\n",
       "      <th id=\"T_5fb3b_level0_row6\" class=\"row_heading level0 row6\" >Platform</th>\n",
       "      <td id=\"T_5fb3b_row6_col0\" class=\"data row6 col0\" >-0.289097</td>\n",
       "      <td id=\"T_5fb3b_row6_col1\" class=\"data row6 col1\" >-0.081678</td>\n",
       "      <td id=\"T_5fb3b_row6_col2\" class=\"data row6 col2\" >0.124868</td>\n",
       "      <td id=\"T_5fb3b_row6_col3\" class=\"data row6 col3\" >0.069343</td>\n",
       "      <td id=\"T_5fb3b_row6_col4\" class=\"data row6 col4\" >-0.030625</td>\n",
       "      <td id=\"T_5fb3b_row6_col5\" class=\"data row6 col5\" >0.033452</td>\n",
       "      <td id=\"T_5fb3b_row6_col6\" class=\"data row6 col6\" >1.000000</td>\n",
       "      <td id=\"T_5fb3b_row6_col7\" class=\"data row6 col7\" >-0.085940</td>\n",
       "    </tr>\n",
       "    <tr>\n",
       "      <th id=\"T_5fb3b_level0_row7\" class=\"row_heading level0 row7\" >ShowRating1</th>\n",
       "      <td id=\"T_5fb3b_row7_col0\" class=\"data row7 col0\" >0.111109</td>\n",
       "      <td id=\"T_5fb3b_row7_col1\" class=\"data row7 col1\" >-0.159734</td>\n",
       "      <td id=\"T_5fb3b_row7_col2\" class=\"data row7 col2\" >-0.057307</td>\n",
       "      <td id=\"T_5fb3b_row7_col3\" class=\"data row7 col3\" >-0.783769</td>\n",
       "      <td id=\"T_5fb3b_row7_col4\" class=\"data row7 col4\" >-0.170738</td>\n",
       "      <td id=\"T_5fb3b_row7_col5\" class=\"data row7 col5\" >-0.004454</td>\n",
       "      <td id=\"T_5fb3b_row7_col6\" class=\"data row7 col6\" >-0.085940</td>\n",
       "      <td id=\"T_5fb3b_row7_col7\" class=\"data row7 col7\" >1.000000</td>\n",
       "    </tr>\n",
       "  </tbody>\n",
       "</table>\n"
      ],
      "text/plain": [
       "<pandas.io.formats.style.Styler at 0x1458efd2ef0>"
      ]
     },
     "execution_count": 64,
     "metadata": {},
     "output_type": "execute_result"
    }
   ],
   "source": [
    "corr = shows.corr()\n",
    "corr.style.background_gradient(cmap='coolwarm')"
   ]
  },
  {
   "cell_type": "code",
   "execution_count": 65,
   "id": "95355d90",
   "metadata": {},
   "outputs": [
    {
     "data": {
      "text/plain": [
       "Text(0, 0.5, 'AVG IMDB Score')"
      ]
     },
     "execution_count": 65,
     "metadata": {},
     "output_type": "execute_result"
    },
    {
     "data": {
      "image/png": "[encoded data removed]",
      "text/plain": [
       "<Figure size 432x288 with 1 Axes>"
      ]
     },
     "metadata": {
      "needs_background": "light"
     },
     "output_type": "display_data"
    }
   ],
   "source": [
    "shows_1 = shows[['genre', 'imdb_score']]\n",
    "shows_avg = shows_1.groupby('genre')['imdb_score'].mean()\n",
    "shows_avg.plot(kind='bar')\n",
    "plt.title('All Shows')\n",
    "plt.xlabel('Genre')\n",
    "plt.ylabel('AVG IMDB Score')"
   ]
  },
  {
   "cell_type": "code",
   "execution_count": 66,
   "id": "edd63df3",
   "metadata": {},
   "outputs": [
    {
     "name": "stdout",
     "output_type": "stream",
     "text": [
      "genre\n",
      "1     7.032782\n",
      "2     6.779518\n",
      "3     7.002938\n",
      "4     7.272139\n",
      "5     7.360870\n",
      "6     7.268195\n",
      "8     6.734483\n",
      "9     7.275000\n",
      "10    7.507692\n",
      "11    5.825000\n",
      "12    6.115385\n",
      "13    6.394305\n",
      "14    7.008000\n",
      "15    7.196471\n",
      "16    7.509091\n",
      "17    6.998824\n",
      "18    7.698000\n",
      "19    7.550000\n",
      "Name: imdb_score, dtype: float64\n"
     ]
    }
   ],
   "source": [
    "print(shows_avg)"
   ]
  },
  {
   "cell_type": "code",
   "execution_count": 67,
   "id": "051eace6",
   "metadata": {},
   "outputs": [
    {
     "data": {
      "text/plain": [
       "Amazon     8787\n",
       "Netflix    5348\n",
       "Hulu       2223\n",
       "Disney     1099\n",
       "Name: platform, dtype: int64"
      ]
     },
     "execution_count": 67,
     "metadata": {},
     "output_type": "execute_result"
    }
   ],
   "source": [
    "shows_movies.platform.value_counts()"
   ]
  },
  {
   "cell_type": "code",
   "execution_count": 68,
   "id": "7bdb88b8",
   "metadata": {},
   "outputs": [],
   "source": [
    "amazon_df = streamingdata.loc[streamingdata['platform'] == 'Amazon']"
   ]
  },
  {
   "cell_type": "code",
   "execution_count": 69,
   "id": "319eaf4a",
   "metadata": {},
   "outputs": [
    {
     "data": {
      "text/html": [
       "<div>\n",
       "<style scoped>\n",
       "    .dataframe tbody tr th:only-of-type {\n",
       "        vertical-align: middle;\n",
       "    }\n",
       "\n",
       "    .dataframe tbody tr th {\n",
       "        vertical-align: top;\n",
       "    }\n",
       "\n",
       "    .dataframe thead th {\n",
       "        text-align: right;\n",
       "    }\n",
       "</style>\n",
       "<table border=\"1\" class=\"dataframe\">\n",
       "  <thead>\n",
       "    <tr style=\"text-align: right;\">\n",
       "      <th></th>\n",
       "      <th>platform</th>\n",
       "      <th>id</th>\n",
       "      <th>title</th>\n",
       "      <th>type</th>\n",
       "      <th>description</th>\n",
       "      <th>release_year</th>\n",
       "      <th>age_certification</th>\n",
       "      <th>runtime</th>\n",
       "      <th>genres</th>\n",
       "      <th>production_countries</th>\n",
       "      <th>...</th>\n",
       "      <th>genre4</th>\n",
       "      <th>genre5</th>\n",
       "      <th>genre6</th>\n",
       "      <th>genre7</th>\n",
       "      <th>genre8</th>\n",
       "      <th>genre9</th>\n",
       "      <th>genre10</th>\n",
       "      <th>genre</th>\n",
       "      <th>program_type</th>\n",
       "      <th>Platform</th>\n",
       "    </tr>\n",
       "  </thead>\n",
       "  <tbody>\n",
       "    <tr>\n",
       "      <th>30</th>\n",
       "      <td>Amazon</td>\n",
       "      <td>tm89134</td>\n",
       "      <td>The Gunman From Bodie</td>\n",
       "      <td>MOVIE</td>\n",
       "      <td>The Rough Riders are after a gang of rustlers....</td>\n",
       "      <td>1941</td>\n",
       "      <td>NaN</td>\n",
       "      <td>62</td>\n",
       "      <td>western</td>\n",
       "      <td>['US']</td>\n",
       "      <td>...</td>\n",
       "      <td>NaN</td>\n",
       "      <td>NaN</td>\n",
       "      <td>NaN</td>\n",
       "      <td>NaN</td>\n",
       "      <td>NaN</td>\n",
       "      <td>NaN</td>\n",
       "      <td>NaN</td>\n",
       "      <td>19</td>\n",
       "      <td>2</td>\n",
       "      <td>4</td>\n",
       "    </tr>\n",
       "    <tr>\n",
       "      <th>31</th>\n",
       "      <td>Amazon</td>\n",
       "      <td>tm89134</td>\n",
       "      <td>The Gunman From Bodie</td>\n",
       "      <td>MOVIE</td>\n",
       "      <td>The Rough Riders are after a gang of rustlers....</td>\n",
       "      <td>1941</td>\n",
       "      <td>NaN</td>\n",
       "      <td>62</td>\n",
       "      <td>western</td>\n",
       "      <td>['US']</td>\n",
       "      <td>...</td>\n",
       "      <td>NaN</td>\n",
       "      <td>NaN</td>\n",
       "      <td>NaN</td>\n",
       "      <td>NaN</td>\n",
       "      <td>NaN</td>\n",
       "      <td>NaN</td>\n",
       "      <td>NaN</td>\n",
       "      <td>19</td>\n",
       "      <td>2</td>\n",
       "      <td>4</td>\n",
       "    </tr>\n",
       "    <tr>\n",
       "      <th>32</th>\n",
       "      <td>Amazon</td>\n",
       "      <td>tm66674</td>\n",
       "      <td>Dynamite</td>\n",
       "      <td>MOVIE</td>\n",
       "      <td>Two members of a dynamite crew--a rugged veter...</td>\n",
       "      <td>1949</td>\n",
       "      <td>NaN</td>\n",
       "      <td>68</td>\n",
       "      <td>drama, crime</td>\n",
       "      <td>['US']</td>\n",
       "      <td>...</td>\n",
       "      <td>NaN</td>\n",
       "      <td>NaN</td>\n",
       "      <td>NaN</td>\n",
       "      <td>NaN</td>\n",
       "      <td>NaN</td>\n",
       "      <td>NaN</td>\n",
       "      <td>NaN</td>\n",
       "      <td>6</td>\n",
       "      <td>2</td>\n",
       "      <td>4</td>\n",
       "    </tr>\n",
       "  </tbody>\n",
       "</table>\n",
       "<p>3 rows × 29 columns</p>\n",
       "</div>"
      ],
      "text/plain": [
       "   platform       id                  title   type  \\\n",
       "30   Amazon  tm89134  The Gunman From Bodie  MOVIE   \n",
       "31   Amazon  tm89134  The Gunman From Bodie  MOVIE   \n",
       "32   Amazon  tm66674               Dynamite  MOVIE   \n",
       "\n",
       "                                          description  release_year  \\\n",
       "30  The Rough Riders are after a gang of rustlers....          1941   \n",
       "31  The Rough Riders are after a gang of rustlers....          1941   \n",
       "32  Two members of a dynamite crew--a rugged veter...          1949   \n",
       "\n",
       "   age_certification  runtime        genres production_countries  ...  genre4  \\\n",
       "30               NaN       62       western               ['US']  ...     NaN   \n",
       "31               NaN       62       western               ['US']  ...     NaN   \n",
       "32               NaN       68  drama, crime               ['US']  ...     NaN   \n",
       "\n",
       "   genre5  genre6  genre7  genre8  genre9 genre10 genre program_type Platform  \n",
       "30    NaN     NaN     NaN     NaN     NaN     NaN    19            2        4  \n",
       "31    NaN     NaN     NaN     NaN     NaN     NaN    19            2        4  \n",
       "32    NaN     NaN     NaN     NaN     NaN     NaN     6            2        4  \n",
       "\n",
       "[3 rows x 29 columns]"
      ]
     },
     "execution_count": 69,
     "metadata": {},
     "output_type": "execute_result"
    }
   ],
   "source": [
    "amazon_df.head(3)"
   ]
  },
  {
   "cell_type": "code",
   "execution_count": 70,
   "id": "80027bf4",
   "metadata": {},
   "outputs": [],
   "source": [
    "all_amazon = amazon_df.drop(['title', 'description', 'age_certification', 'genres', \n",
    "                        'production_countries','seasons','tmdb_popularity','tmdb_score','program_type',\n",
    "                        'Platform','genre1', 'genre2', 'genre3', 'genre4', 'genre5', 'genre6', \n",
    "                        'genre7','genre8', 'genre9', 'genre10'], axis=1)"
   ]
  },
  {
   "cell_type": "code",
   "execution_count": 71,
   "id": "ba768d0f",
   "metadata": {},
   "outputs": [
    {
     "data": {
      "text/html": [
       "<div>\n",
       "<style scoped>\n",
       "    .dataframe tbody tr th:only-of-type {\n",
       "        vertical-align: middle;\n",
       "    }\n",
       "\n",
       "    .dataframe tbody tr th {\n",
       "        vertical-align: top;\n",
       "    }\n",
       "\n",
       "    .dataframe thead th {\n",
       "        text-align: right;\n",
       "    }\n",
       "</style>\n",
       "<table border=\"1\" class=\"dataframe\">\n",
       "  <thead>\n",
       "    <tr style=\"text-align: right;\">\n",
       "      <th></th>\n",
       "      <th>platform</th>\n",
       "      <th>id</th>\n",
       "      <th>type</th>\n",
       "      <th>release_year</th>\n",
       "      <th>runtime</th>\n",
       "      <th>imdb_id</th>\n",
       "      <th>imdb_score</th>\n",
       "      <th>imdb_votes</th>\n",
       "      <th>genre</th>\n",
       "    </tr>\n",
       "  </thead>\n",
       "  <tbody>\n",
       "    <tr>\n",
       "      <th>30</th>\n",
       "      <td>Amazon</td>\n",
       "      <td>tm89134</td>\n",
       "      <td>MOVIE</td>\n",
       "      <td>1941</td>\n",
       "      <td>62</td>\n",
       "      <td>tt0033683</td>\n",
       "      <td>5.9</td>\n",
       "      <td>133.0</td>\n",
       "      <td>19</td>\n",
       "    </tr>\n",
       "    <tr>\n",
       "      <th>31</th>\n",
       "      <td>Amazon</td>\n",
       "      <td>tm89134</td>\n",
       "      <td>MOVIE</td>\n",
       "      <td>1941</td>\n",
       "      <td>62</td>\n",
       "      <td>tt0033683</td>\n",
       "      <td>5.9</td>\n",
       "      <td>133.0</td>\n",
       "      <td>19</td>\n",
       "    </tr>\n",
       "    <tr>\n",
       "      <th>32</th>\n",
       "      <td>Amazon</td>\n",
       "      <td>tm66674</td>\n",
       "      <td>MOVIE</td>\n",
       "      <td>1949</td>\n",
       "      <td>68</td>\n",
       "      <td>tt0039343</td>\n",
       "      <td>5.0</td>\n",
       "      <td>24.0</td>\n",
       "      <td>6</td>\n",
       "    </tr>\n",
       "  </tbody>\n",
       "</table>\n",
       "</div>"
      ],
      "text/plain": [
       "   platform       id   type  release_year  runtime    imdb_id  imdb_score  \\\n",
       "30   Amazon  tm89134  MOVIE          1941       62  tt0033683         5.9   \n",
       "31   Amazon  tm89134  MOVIE          1941       62  tt0033683         5.9   \n",
       "32   Amazon  tm66674  MOVIE          1949       68  tt0039343         5.0   \n",
       "\n",
       "    imdb_votes genre  \n",
       "30       133.0    19  \n",
       "31       133.0    19  \n",
       "32        24.0     6  "
      ]
     },
     "execution_count": 71,
     "metadata": {},
     "output_type": "execute_result"
    }
   ],
   "source": [
    "all_amazon.head(3)"
   ]
  },
  {
   "cell_type": "code",
   "execution_count": 72,
   "id": "ce51ff01",
   "metadata": {},
   "outputs": [
    {
     "data": {
      "text/plain": [
       "platform           0\n",
       "id                 0\n",
       "type               0\n",
       "release_year       0\n",
       "runtime            0\n",
       "imdb_id          667\n",
       "imdb_score      1021\n",
       "imdb_votes      1031\n",
       "genre            209\n",
       "dtype: int64"
      ]
     },
     "execution_count": 72,
     "metadata": {},
     "output_type": "execute_result"
    }
   ],
   "source": [
    "all_amazon.isnull().sum()"
   ]
  },
  {
   "cell_type": "code",
   "execution_count": 73,
   "id": "ee72cba6",
   "metadata": {},
   "outputs": [],
   "source": [
    "all_amazon.dropna(inplace=True)"
   ]
  },
  {
   "cell_type": "code",
   "execution_count": 74,
   "id": "ba5acfdd",
   "metadata": {},
   "outputs": [
    {
     "data": {
      "text/plain": [
       "platform        8787\n",
       "id              8787\n",
       "type            8787\n",
       "release_year    8787\n",
       "runtime         8787\n",
       "imdb_id         8787\n",
       "imdb_score      8787\n",
       "imdb_votes      8787\n",
       "genre           8787\n",
       "dtype: int64"
      ]
     },
     "execution_count": 74,
     "metadata": {},
     "output_type": "execute_result"
    }
   ],
   "source": [
    "all_amazon.count()"
   ]
  },
  {
   "cell_type": "code",
   "execution_count": 75,
   "id": "7b5f76bd",
   "metadata": {},
   "outputs": [
    {
     "data": {
      "text/plain": [
       "5.9747695459201084"
      ]
     },
     "execution_count": 75,
     "metadata": {},
     "output_type": "execute_result"
    }
   ],
   "source": [
    "#Average IMDB Score for All Amazon titles\n",
    "all_amazon.loc[:, 'imdb_score'].mean()"
   ]
  },
  {
   "cell_type": "code",
   "execution_count": 76,
   "id": "a374fa03",
   "metadata": {},
   "outputs": [
    {
     "data": {
      "text/plain": [
       "87.28655969045181"
      ]
     },
     "execution_count": 76,
     "metadata": {},
     "output_type": "execute_result"
    }
   ],
   "source": [
    "#Average runtime for All Amazon titles\n",
    "all_amazon.loc[:, 'runtime'].mean()"
   ]
  },
  {
   "cell_type": "code",
   "execution_count": 77,
   "id": "c66aab4e",
   "metadata": {},
   "outputs": [],
   "source": [
    "#recoding score\n",
    "def Rating (series):\n",
    "  if series == \"imdb_score\":\n",
    "    return \"0\"\n",
    "  if series <= 5.8: \n",
    "    return \"Negative\"\n",
    "  if series >= 5.9: \n",
    "    return \"Positive\"\n",
    "all_amazon[\"Rating\"] = all_amazon['imdb_score'].apply(Rating)"
   ]
  },
  {
   "cell_type": "code",
   "execution_count": 78,
   "id": "6528b0d8",
   "metadata": {},
   "outputs": [],
   "source": [
    "def Rating1 (series):\n",
    "  if series == \"Rating\":\n",
    "    return \"0\"\n",
    "  if series == \"Positive\": \n",
    "    return 1\n",
    "  if series == \"Negative\":\n",
    "    return 2\n",
    "all_amazon[\"Rating1\"] = all_amazon[\"Rating\"].apply(Rating1)"
   ]
  },
  {
   "cell_type": "code",
   "execution_count": 79,
   "id": "d176499e",
   "metadata": {},
   "outputs": [
    {
     "data": {
      "text/html": [
       "<div>\n",
       "<style scoped>\n",
       "    .dataframe tbody tr th:only-of-type {\n",
       "        vertical-align: middle;\n",
       "    }\n",
       "\n",
       "    .dataframe tbody tr th {\n",
       "        vertical-align: top;\n",
       "    }\n",
       "\n",
       "    .dataframe thead th {\n",
       "        text-align: right;\n",
       "    }\n",
       "</style>\n",
       "<table border=\"1\" class=\"dataframe\">\n",
       "  <thead>\n",
       "    <tr style=\"text-align: right;\">\n",
       "      <th></th>\n",
       "      <th>platform</th>\n",
       "      <th>id</th>\n",
       "      <th>type</th>\n",
       "      <th>release_year</th>\n",
       "      <th>runtime</th>\n",
       "      <th>imdb_id</th>\n",
       "      <th>imdb_score</th>\n",
       "      <th>imdb_votes</th>\n",
       "      <th>genre</th>\n",
       "      <th>Rating</th>\n",
       "      <th>Rating1</th>\n",
       "    </tr>\n",
       "  </thead>\n",
       "  <tbody>\n",
       "    <tr>\n",
       "      <th>30</th>\n",
       "      <td>Amazon</td>\n",
       "      <td>tm89134</td>\n",
       "      <td>MOVIE</td>\n",
       "      <td>1941</td>\n",
       "      <td>62</td>\n",
       "      <td>tt0033683</td>\n",
       "      <td>5.9</td>\n",
       "      <td>133.0</td>\n",
       "      <td>19</td>\n",
       "      <td>Positive</td>\n",
       "      <td>1</td>\n",
       "    </tr>\n",
       "    <tr>\n",
       "      <th>31</th>\n",
       "      <td>Amazon</td>\n",
       "      <td>tm89134</td>\n",
       "      <td>MOVIE</td>\n",
       "      <td>1941</td>\n",
       "      <td>62</td>\n",
       "      <td>tt0033683</td>\n",
       "      <td>5.9</td>\n",
       "      <td>133.0</td>\n",
       "      <td>19</td>\n",
       "      <td>Positive</td>\n",
       "      <td>1</td>\n",
       "    </tr>\n",
       "    <tr>\n",
       "      <th>32</th>\n",
       "      <td>Amazon</td>\n",
       "      <td>tm66674</td>\n",
       "      <td>MOVIE</td>\n",
       "      <td>1949</td>\n",
       "      <td>68</td>\n",
       "      <td>tt0039343</td>\n",
       "      <td>5.0</td>\n",
       "      <td>24.0</td>\n",
       "      <td>6</td>\n",
       "      <td>Negative</td>\n",
       "      <td>2</td>\n",
       "    </tr>\n",
       "  </tbody>\n",
       "</table>\n",
       "</div>"
      ],
      "text/plain": [
       "   platform       id   type  release_year  runtime    imdb_id  imdb_score  \\\n",
       "30   Amazon  tm89134  MOVIE          1941       62  tt0033683         5.9   \n",
       "31   Amazon  tm89134  MOVIE          1941       62  tt0033683         5.9   \n",
       "32   Amazon  tm66674  MOVIE          1949       68  tt0039343         5.0   \n",
       "\n",
       "    imdb_votes genre    Rating  Rating1  \n",
       "30       133.0    19  Positive        1  \n",
       "31       133.0    19  Positive        1  \n",
       "32        24.0     6  Negative        2  "
      ]
     },
     "execution_count": 79,
     "metadata": {},
     "output_type": "execute_result"
    }
   ],
   "source": [
    "all_amazon.head(3)"
   ]
  },
  {
   "cell_type": "code",
   "execution_count": 80,
   "id": "a671bd3a",
   "metadata": {},
   "outputs": [
    {
     "data": {
      "text/plain": [
       "Rating\n",
       "Negative    3864\n",
       "Positive    4923\n",
       "Name: genre, dtype: int64"
      ]
     },
     "execution_count": 80,
     "metadata": {},
     "output_type": "execute_result"
    }
   ],
   "source": [
    "all_amazon.groupby('Rating')['genre'].count()"
   ]
  },
  {
   "cell_type": "code",
   "execution_count": 81,
   "id": "4a51344a",
   "metadata": {},
   "outputs": [
    {
     "name": "stdout",
     "output_type": "stream",
     "text": [
      "platform         object\n",
      "id               object\n",
      "type             object\n",
      "release_year      int64\n",
      "runtime           int64\n",
      "imdb_id          object\n",
      "imdb_score      float64\n",
      "imdb_votes      float64\n",
      "genre            object\n",
      "Rating           object\n",
      "Rating1           int64\n",
      "dtype: object\n"
     ]
    }
   ],
   "source": [
    "print(all_amazon.dtypes)"
   ]
  },
  {
   "cell_type": "code",
   "execution_count": 82,
   "id": "fe3bffeb",
   "metadata": {},
   "outputs": [],
   "source": [
    "all_amazon['genre'] = all_amazon['genre'].astype(int)"
   ]
  },
  {
   "cell_type": "code",
   "execution_count": 83,
   "id": "e119ee0f",
   "metadata": {},
   "outputs": [
    {
     "name": "stdout",
     "output_type": "stream",
     "text": [
      "platform         object\n",
      "id               object\n",
      "type             object\n",
      "release_year      int64\n",
      "runtime           int64\n",
      "imdb_id          object\n",
      "imdb_score      float64\n",
      "imdb_votes      float64\n",
      "genre             int32\n",
      "Rating           object\n",
      "Rating1           int64\n",
      "dtype: object\n"
     ]
    }
   ],
   "source": [
    "print(all_amazon.dtypes)"
   ]
  },
  {
   "cell_type": "code",
   "execution_count": 84,
   "id": "3c842796",
   "metadata": {},
   "outputs": [
    {
     "data": {
      "text/html": [
       "<style type=\"text/css\">\n",
       "#T_78348_row0_col0, #T_78348_row1_col1, #T_78348_row2_col2, #T_78348_row3_col3, #T_78348_row4_col4, #T_78348_row5_col5 {\n",
       "  background-color: #b40426;\n",
       "  color: #f1f1f1;\n",
       "}\n",
       "#T_78348_row0_col1, #T_78348_row3_col4 {\n",
       "  background-color: #7699f6;\n",
       "  color: #f1f1f1;\n",
       "}\n",
       "#T_78348_row0_col2 {\n",
       "  background-color: #d3dbe7;\n",
       "  color: #000000;\n",
       "}\n",
       "#T_78348_row0_col3 {\n",
       "  background-color: #6384eb;\n",
       "  color: #f1f1f1;\n",
       "}\n",
       "#T_78348_row0_col4, #T_78348_row2_col1, #T_78348_row2_col4, #T_78348_row2_col5, #T_78348_row4_col0, #T_78348_row5_col2, #T_78348_row5_col3 {\n",
       "  background-color: #3b4cc0;\n",
       "  color: #f1f1f1;\n",
       "}\n",
       "#T_78348_row0_col5 {\n",
       "  background-color: #c6d6f1;\n",
       "  color: #000000;\n",
       "}\n",
       "#T_78348_row1_col0 {\n",
       "  background-color: #86a9fc;\n",
       "  color: #f1f1f1;\n",
       "}\n",
       "#T_78348_row1_col2 {\n",
       "  background-color: #bcd2f7;\n",
       "  color: #000000;\n",
       "}\n",
       "#T_78348_row1_col3, #T_78348_row1_col4 {\n",
       "  background-color: #7b9ff9;\n",
       "  color: #f1f1f1;\n",
       "}\n",
       "#T_78348_row1_col5 {\n",
       "  background-color: #d6dce4;\n",
       "  color: #000000;\n",
       "}\n",
       "#T_78348_row2_col0 {\n",
       "  background-color: #7396f5;\n",
       "  color: #f1f1f1;\n",
       "}\n",
       "#T_78348_row2_col3 {\n",
       "  background-color: #90b2fe;\n",
       "  color: #000000;\n",
       "}\n",
       "#T_78348_row3_col0 {\n",
       "  background-color: #7093f3;\n",
       "  color: #f1f1f1;\n",
       "}\n",
       "#T_78348_row3_col1 {\n",
       "  background-color: #7597f6;\n",
       "  color: #f1f1f1;\n",
       "}\n",
       "#T_78348_row3_col2 {\n",
       "  background-color: #e6d7cf;\n",
       "  color: #000000;\n",
       "}\n",
       "#T_78348_row3_col5 {\n",
       "  background-color: #b7cff9;\n",
       "  color: #000000;\n",
       "}\n",
       "#T_78348_row4_col1, #T_78348_row4_col3 {\n",
       "  background-color: #6a8bef;\n",
       "  color: #f1f1f1;\n",
       "}\n",
       "#T_78348_row4_col2 {\n",
       "  background-color: #aec9fc;\n",
       "  color: #000000;\n",
       "}\n",
       "#T_78348_row4_col5 {\n",
       "  background-color: #e4d9d2;\n",
       "  color: #000000;\n",
       "}\n",
       "#T_78348_row5_col0 {\n",
       "  background-color: #5d7ce6;\n",
       "  color: #f1f1f1;\n",
       "}\n",
       "#T_78348_row5_col1 {\n",
       "  background-color: #6788ee;\n",
       "  color: #f1f1f1;\n",
       "}\n",
       "#T_78348_row5_col4 {\n",
       "  background-color: #98b9ff;\n",
       "  color: #000000;\n",
       "}\n",
       "</style>\n",
       "<table id=\"T_78348\">\n",
       "  <thead>\n",
       "    <tr>\n",
       "      <th class=\"blank level0\" >&nbsp;</th>\n",
       "      <th id=\"T_78348_level0_col0\" class=\"col_heading level0 col0\" >release_year</th>\n",
       "      <th id=\"T_78348_level0_col1\" class=\"col_heading level0 col1\" >runtime</th>\n",
       "      <th id=\"T_78348_level0_col2\" class=\"col_heading level0 col2\" >imdb_score</th>\n",
       "      <th id=\"T_78348_level0_col3\" class=\"col_heading level0 col3\" >imdb_votes</th>\n",
       "      <th id=\"T_78348_level0_col4\" class=\"col_heading level0 col4\" >genre</th>\n",
       "      <th id=\"T_78348_level0_col5\" class=\"col_heading level0 col5\" >Rating1</th>\n",
       "    </tr>\n",
       "  </thead>\n",
       "  <tbody>\n",
       "    <tr>\n",
       "      <th id=\"T_78348_level0_row0\" class=\"row_heading level0 row0\" >release_year</th>\n",
       "      <td id=\"T_78348_row0_col0\" class=\"data row0 col0\" >1.000000</td>\n",
       "      <td id=\"T_78348_row0_col1\" class=\"data row0 col1\" >0.101762</td>\n",
       "      <td id=\"T_78348_row0_col2\" class=\"data row0 col2\" >0.034038</td>\n",
       "      <td id=\"T_78348_row0_col3\" class=\"data row0 col3\" >0.024532</td>\n",
       "      <td id=\"T_78348_row0_col4\" class=\"data row0 col4\" >-0.173025</td>\n",
       "      <td id=\"T_78348_row0_col5\" class=\"data row0 col5\" >-0.044379</td>\n",
       "    </tr>\n",
       "    <tr>\n",
       "      <th id=\"T_78348_level0_row1\" class=\"row_heading level0 row1\" >runtime</th>\n",
       "      <td id=\"T_78348_row1_col0\" class=\"data row1 col0\" >0.101762</td>\n",
       "      <td id=\"T_78348_row1_col1\" class=\"data row1 col1\" >1.000000</td>\n",
       "      <td id=\"T_78348_row1_col2\" class=\"data row1 col2\" >-0.101208</td>\n",
       "      <td id=\"T_78348_row1_col3\" class=\"data row1 col3\" >0.100136</td>\n",
       "      <td id=\"T_78348_row1_col4\" class=\"data row1 col4\" >0.062596</td>\n",
       "      <td id=\"T_78348_row1_col5\" class=\"data row1 col5\" >0.057073</td>\n",
       "    </tr>\n",
       "    <tr>\n",
       "      <th id=\"T_78348_level0_row2\" class=\"row_heading level0 row2\" >imdb_score</th>\n",
       "      <td id=\"T_78348_row2_col0\" class=\"data row2 col0\" >0.034038</td>\n",
       "      <td id=\"T_78348_row2_col1\" class=\"data row2 col1\" >-0.101208</td>\n",
       "      <td id=\"T_78348_row2_col2\" class=\"data row2 col2\" >1.000000</td>\n",
       "      <td id=\"T_78348_row2_col3\" class=\"data row2 col3\" >0.166783</td>\n",
       "      <td id=\"T_78348_row2_col4\" class=\"data row2 col4\" >-0.175719</td>\n",
       "      <td id=\"T_78348_row2_col5\" class=\"data row2 col5\" >-0.798661</td>\n",
       "    </tr>\n",
       "    <tr>\n",
       "      <th id=\"T_78348_level0_row3\" class=\"row_heading level0 row3\" >imdb_votes</th>\n",
       "      <td id=\"T_78348_row3_col0\" class=\"data row3 col0\" >0.024532</td>\n",
       "      <td id=\"T_78348_row3_col1\" class=\"data row3 col1\" >0.100136</td>\n",
       "      <td id=\"T_78348_row3_col2\" class=\"data row3 col2\" >0.166783</td>\n",
       "      <td id=\"T_78348_row3_col3\" class=\"data row3 col3\" >1.000000</td>\n",
       "      <td id=\"T_78348_row3_col4\" class=\"data row3 col4\" >0.043976</td>\n",
       "      <td id=\"T_78348_row3_col5\" class=\"data row3 col5\" >-0.124334</td>\n",
       "    </tr>\n",
       "    <tr>\n",
       "      <th id=\"T_78348_level0_row4\" class=\"row_heading level0 row4\" >genre</th>\n",
       "      <td id=\"T_78348_row4_col0\" class=\"data row4 col0\" >-0.173025</td>\n",
       "      <td id=\"T_78348_row4_col1\" class=\"data row4 col1\" >0.062596</td>\n",
       "      <td id=\"T_78348_row4_col2\" class=\"data row4 col2\" >-0.175719</td>\n",
       "      <td id=\"T_78348_row4_col3\" class=\"data row4 col3\" >0.043976</td>\n",
       "      <td id=\"T_78348_row4_col4\" class=\"data row4 col4\" >1.000000</td>\n",
       "      <td id=\"T_78348_row4_col5\" class=\"data row4 col5\" >0.156233</td>\n",
       "    </tr>\n",
       "    <tr>\n",
       "      <th id=\"T_78348_level0_row5\" class=\"row_heading level0 row5\" >Rating1</th>\n",
       "      <td id=\"T_78348_row5_col0\" class=\"data row5 col0\" >-0.044379</td>\n",
       "      <td id=\"T_78348_row5_col1\" class=\"data row5 col1\" >0.057073</td>\n",
       "      <td id=\"T_78348_row5_col2\" class=\"data row5 col2\" >-0.798661</td>\n",
       "      <td id=\"T_78348_row5_col3\" class=\"data row5 col3\" >-0.124334</td>\n",
       "      <td id=\"T_78348_row5_col4\" class=\"data row5 col4\" >0.156233</td>\n",
       "      <td id=\"T_78348_row5_col5\" class=\"data row5 col5\" >1.000000</td>\n",
       "    </tr>\n",
       "  </tbody>\n",
       "</table>\n"
      ],
      "text/plain": [
       "<pandas.io.formats.style.Styler at 0x1458e024a00>"
      ]
     },
     "execution_count": 84,
     "metadata": {},
     "output_type": "execute_result"
    }
   ],
   "source": [
    "corr = all_amazon.corr()\n",
    "corr.style.background_gradient(cmap='coolwarm')"
   ]
  },
  {
   "cell_type": "code",
   "execution_count": 85,
   "id": "111549ab",
   "metadata": {},
   "outputs": [
    {
     "data": {
      "text/plain": [
       "Text(0, 0.5, 'AVG IMDB Score')"
      ]
     },
     "execution_count": 85,
     "metadata": {},
     "output_type": "execute_result"
    },
    {
     "data": {
      "image/png": "[encoded data removed]",
      "text/plain": [
       "<Figure size 432x288 with 1 Axes>"
      ]
     },
     "metadata": {
      "needs_background": "light"
     },
     "output_type": "display_data"
    }
   ],
   "source": [
    "all_amazon_1 = all_amazon[['genre', 'imdb_score']]\n",
    "all_amazon_avg = all_amazon_1.groupby('genre')['imdb_score'].mean()\n",
    "all_amazon_avg.plot(kind='bar')\n",
    "plt.title('Amazon Shows and Movies')\n",
    "plt.xlabel('Genre')\n",
    "plt.ylabel('AVG IMDB Score')"
   ]
  },
  {
   "cell_type": "code",
   "execution_count": 86,
   "id": "359e9b05",
   "metadata": {},
   "outputs": [
    {
     "name": "stdout",
     "output_type": "stream",
     "text": [
      "genre\n",
      "1     5.606721\n",
      "2     6.506599\n",
      "3     6.038939\n",
      "4     6.055282\n",
      "5     7.093981\n",
      "6     6.248433\n",
      "7     6.425000\n",
      "8     5.947934\n",
      "9     5.651099\n",
      "10    6.717949\n",
      "11    4.508813\n",
      "12    6.796825\n",
      "13    6.589362\n",
      "14    5.927789\n",
      "15    5.550825\n",
      "16    7.229412\n",
      "17    5.494002\n",
      "18    6.791304\n",
      "19    5.722414\n",
      "Name: imdb_score, dtype: float64\n"
     ]
    }
   ],
   "source": [
    "print(all_amazon_avg)"
   ]
  },
  {
   "cell_type": "code",
   "execution_count": 87,
   "id": "59115525",
   "metadata": {},
   "outputs": [],
   "source": [
    "amazon_shows_df = amazon_df.loc[amazon_df['type'] == 'SHOW']"
   ]
  },
  {
   "cell_type": "code",
   "execution_count": 88,
   "id": "fe0fe6b9",
   "metadata": {},
   "outputs": [
    {
     "data": {
      "text/html": [
       "<div>\n",
       "<style scoped>\n",
       "    .dataframe tbody tr th:only-of-type {\n",
       "        vertical-align: middle;\n",
       "    }\n",
       "\n",
       "    .dataframe tbody tr th {\n",
       "        vertical-align: top;\n",
       "    }\n",
       "\n",
       "    .dataframe thead th {\n",
       "        text-align: right;\n",
       "    }\n",
       "</style>\n",
       "<table border=\"1\" class=\"dataframe\">\n",
       "  <thead>\n",
       "    <tr style=\"text-align: right;\">\n",
       "      <th></th>\n",
       "      <th>platform</th>\n",
       "      <th>id</th>\n",
       "      <th>title</th>\n",
       "      <th>type</th>\n",
       "      <th>description</th>\n",
       "      <th>release_year</th>\n",
       "      <th>age_certification</th>\n",
       "      <th>runtime</th>\n",
       "      <th>genres</th>\n",
       "      <th>production_countries</th>\n",
       "      <th>...</th>\n",
       "      <th>genre4</th>\n",
       "      <th>genre5</th>\n",
       "      <th>genre6</th>\n",
       "      <th>genre7</th>\n",
       "      <th>genre8</th>\n",
       "      <th>genre9</th>\n",
       "      <th>genre10</th>\n",
       "      <th>genre</th>\n",
       "      <th>program_type</th>\n",
       "      <th>Platform</th>\n",
       "    </tr>\n",
       "  </thead>\n",
       "  <tbody>\n",
       "    <tr>\n",
       "      <th>36</th>\n",
       "      <td>Amazon</td>\n",
       "      <td>ts20005</td>\n",
       "      <td>I Love Lucy</td>\n",
       "      <td>SHOW</td>\n",
       "      <td>Cuban Bandleader Ricky Ricardo would be happy ...</td>\n",
       "      <td>1951</td>\n",
       "      <td>TV-G</td>\n",
       "      <td>30</td>\n",
       "      <td>comedy, family</td>\n",
       "      <td>['US']</td>\n",
       "      <td>...</td>\n",
       "      <td>NaN</td>\n",
       "      <td>NaN</td>\n",
       "      <td>NaN</td>\n",
       "      <td>NaN</td>\n",
       "      <td>NaN</td>\n",
       "      <td>NaN</td>\n",
       "      <td>NaN</td>\n",
       "      <td>3</td>\n",
       "      <td>1</td>\n",
       "      <td>4</td>\n",
       "    </tr>\n",
       "    <tr>\n",
       "      <th>37</th>\n",
       "      <td>Amazon</td>\n",
       "      <td>ts20690</td>\n",
       "      <td>The Lucy Show</td>\n",
       "      <td>SHOW</td>\n",
       "      <td>The Lucy Show is an American sitcom that aired...</td>\n",
       "      <td>1962</td>\n",
       "      <td>NaN</td>\n",
       "      <td>30</td>\n",
       "      <td>comedy</td>\n",
       "      <td>['US']</td>\n",
       "      <td>...</td>\n",
       "      <td>NaN</td>\n",
       "      <td>NaN</td>\n",
       "      <td>NaN</td>\n",
       "      <td>NaN</td>\n",
       "      <td>NaN</td>\n",
       "      <td>NaN</td>\n",
       "      <td>NaN</td>\n",
       "      <td>3</td>\n",
       "      <td>1</td>\n",
       "      <td>4</td>\n",
       "    </tr>\n",
       "    <tr>\n",
       "      <th>40</th>\n",
       "      <td>Amazon</td>\n",
       "      <td>ts21396</td>\n",
       "      <td>Mr. Bean</td>\n",
       "      <td>SHOW</td>\n",
       "      <td>Mr Bean turns simple everyday tasks into chaot...</td>\n",
       "      <td>1990</td>\n",
       "      <td>TV-PG</td>\n",
       "      <td>21</td>\n",
       "      <td>comedy, family, european</td>\n",
       "      <td>['GB']</td>\n",
       "      <td>...</td>\n",
       "      <td>NaN</td>\n",
       "      <td>NaN</td>\n",
       "      <td>NaN</td>\n",
       "      <td>NaN</td>\n",
       "      <td>NaN</td>\n",
       "      <td>NaN</td>\n",
       "      <td>NaN</td>\n",
       "      <td>3</td>\n",
       "      <td>1</td>\n",
       "      <td>4</td>\n",
       "    </tr>\n",
       "  </tbody>\n",
       "</table>\n",
       "<p>3 rows × 29 columns</p>\n",
       "</div>"
      ],
      "text/plain": [
       "   platform       id          title  type  \\\n",
       "36   Amazon  ts20005    I Love Lucy  SHOW   \n",
       "37   Amazon  ts20690  The Lucy Show  SHOW   \n",
       "40   Amazon  ts21396       Mr. Bean  SHOW   \n",
       "\n",
       "                                          description  release_year  \\\n",
       "36  Cuban Bandleader Ricky Ricardo would be happy ...          1951   \n",
       "37  The Lucy Show is an American sitcom that aired...          1962   \n",
       "40  Mr Bean turns simple everyday tasks into chaot...          1990   \n",
       "\n",
       "   age_certification  runtime                    genres production_countries  \\\n",
       "36              TV-G       30            comedy, family               ['US']   \n",
       "37               NaN       30                    comedy               ['US']   \n",
       "40             TV-PG       21  comedy, family, european               ['GB']   \n",
       "\n",
       "    ...  genre4 genre5  genre6  genre7  genre8  genre9 genre10 genre  \\\n",
       "36  ...     NaN    NaN     NaN     NaN     NaN     NaN     NaN     3   \n",
       "37  ...     NaN    NaN     NaN     NaN     NaN     NaN     NaN     3   \n",
       "40  ...     NaN    NaN     NaN     NaN     NaN     NaN     NaN     3   \n",
       "\n",
       "   program_type Platform  \n",
       "36            1        4  \n",
       "37            1        4  \n",
       "40            1        4  \n",
       "\n",
       "[3 rows x 29 columns]"
      ]
     },
     "execution_count": 88,
     "metadata": {},
     "output_type": "execute_result"
    }
   ],
   "source": [
    "amazon_shows_df.head(3)"
   ]
  },
  {
   "cell_type": "code",
   "execution_count": 89,
   "id": "6d63defc",
   "metadata": {},
   "outputs": [],
   "source": [
    "amazon_shows = amazon_shows_df.drop(['title', 'type','description', 'age_certification', 'genres', \n",
    "                        'production_countries','tmdb_popularity','tmdb_score','program_type',\n",
    "                        'Platform','genre1', 'genre2', 'genre3', 'genre4', 'genre5', 'genre6', \n",
    "                        'genre7','genre8', 'genre9', 'genre10'], axis=1)"
   ]
  },
  {
   "cell_type": "code",
   "execution_count": 90,
   "id": "5c18084c",
   "metadata": {},
   "outputs": [
    {
     "data": {
      "text/html": [
       "<div>\n",
       "<style scoped>\n",
       "    .dataframe tbody tr th:only-of-type {\n",
       "        vertical-align: middle;\n",
       "    }\n",
       "\n",
       "    .dataframe tbody tr th {\n",
       "        vertical-align: top;\n",
       "    }\n",
       "\n",
       "    .dataframe thead th {\n",
       "        text-align: right;\n",
       "    }\n",
       "</style>\n",
       "<table border=\"1\" class=\"dataframe\">\n",
       "  <thead>\n",
       "    <tr style=\"text-align: right;\">\n",
       "      <th></th>\n",
       "      <th>platform</th>\n",
       "      <th>id</th>\n",
       "      <th>release_year</th>\n",
       "      <th>runtime</th>\n",
       "      <th>seasons</th>\n",
       "      <th>imdb_id</th>\n",
       "      <th>imdb_score</th>\n",
       "      <th>imdb_votes</th>\n",
       "      <th>genre</th>\n",
       "    </tr>\n",
       "  </thead>\n",
       "  <tbody>\n",
       "    <tr>\n",
       "      <th>36</th>\n",
       "      <td>Amazon</td>\n",
       "      <td>ts20005</td>\n",
       "      <td>1951</td>\n",
       "      <td>30</td>\n",
       "      <td>9.0</td>\n",
       "      <td>tt0043208</td>\n",
       "      <td>8.5</td>\n",
       "      <td>25944.0</td>\n",
       "      <td>3</td>\n",
       "    </tr>\n",
       "    <tr>\n",
       "      <th>37</th>\n",
       "      <td>Amazon</td>\n",
       "      <td>ts20690</td>\n",
       "      <td>1962</td>\n",
       "      <td>30</td>\n",
       "      <td>6.0</td>\n",
       "      <td>tt0055686</td>\n",
       "      <td>7.2</td>\n",
       "      <td>2797.0</td>\n",
       "      <td>3</td>\n",
       "    </tr>\n",
       "    <tr>\n",
       "      <th>40</th>\n",
       "      <td>Amazon</td>\n",
       "      <td>ts21396</td>\n",
       "      <td>1990</td>\n",
       "      <td>21</td>\n",
       "      <td>3.0</td>\n",
       "      <td>tt0096657</td>\n",
       "      <td>8.6</td>\n",
       "      <td>114774.0</td>\n",
       "      <td>3</td>\n",
       "    </tr>\n",
       "  </tbody>\n",
       "</table>\n",
       "</div>"
      ],
      "text/plain": [
       "   platform       id  release_year  runtime  seasons    imdb_id  imdb_score  \\\n",
       "36   Amazon  ts20005          1951       30      9.0  tt0043208         8.5   \n",
       "37   Amazon  ts20690          1962       30      6.0  tt0055686         7.2   \n",
       "40   Amazon  ts21396          1990       21      3.0  tt0096657         8.6   \n",
       "\n",
       "    imdb_votes genre  \n",
       "36     25944.0     3  \n",
       "37      2797.0     3  \n",
       "40    114774.0     3  "
      ]
     },
     "execution_count": 90,
     "metadata": {},
     "output_type": "execute_result"
    }
   ],
   "source": [
    "amazon_shows.head(3)"
   ]
  },
  {
   "cell_type": "code",
   "execution_count": 91,
   "id": "f8e0d526",
   "metadata": {},
   "outputs": [
    {
     "data": {
      "text/plain": [
       "platform          0\n",
       "id                0\n",
       "release_year      0\n",
       "runtime           0\n",
       "seasons           0\n",
       "imdb_id         108\n",
       "imdb_score      191\n",
       "imdb_votes      193\n",
       "genre            54\n",
       "dtype: int64"
      ]
     },
     "execution_count": 91,
     "metadata": {},
     "output_type": "execute_result"
    }
   ],
   "source": [
    "amazon_shows.isnull().sum()"
   ]
  },
  {
   "cell_type": "code",
   "execution_count": 92,
   "id": "4740d72f",
   "metadata": {},
   "outputs": [],
   "source": [
    "amazon_shows.dropna(inplace=True)"
   ]
  },
  {
   "cell_type": "code",
   "execution_count": 93,
   "id": "9064c608",
   "metadata": {},
   "outputs": [
    {
     "data": {
      "text/plain": [
       "platform        1144\n",
       "id              1144\n",
       "release_year    1144\n",
       "runtime         1144\n",
       "seasons         1144\n",
       "imdb_id         1144\n",
       "imdb_score      1144\n",
       "imdb_votes      1144\n",
       "genre           1144\n",
       "dtype: int64"
      ]
     },
     "execution_count": 93,
     "metadata": {},
     "output_type": "execute_result"
    }
   ],
   "source": [
    "amazon_shows.count()"
   ]
  },
  {
   "cell_type": "code",
   "execution_count": 94,
   "id": "23b9a991",
   "metadata": {},
   "outputs": [
    {
     "data": {
      "text/plain": [
       "7.133216783216783"
      ]
     },
     "execution_count": 94,
     "metadata": {},
     "output_type": "execute_result"
    }
   ],
   "source": [
    "#Average IMDB Score for Amazon Shows\n",
    "amazon_shows.loc[:, 'imdb_score'].mean()"
   ]
  },
  {
   "cell_type": "code",
   "execution_count": 95,
   "id": "bee3e9ec",
   "metadata": {},
   "outputs": [
    {
     "data": {
      "text/plain": [
       "35.86538461538461"
      ]
     },
     "execution_count": 95,
     "metadata": {},
     "output_type": "execute_result"
    }
   ],
   "source": [
    "#Average runtime for Amazon Shows\n",
    "amazon_shows.loc[:, 'runtime'].mean()"
   ]
  },
  {
   "cell_type": "code",
   "execution_count": 96,
   "id": "f91fd1a8",
   "metadata": {},
   "outputs": [],
   "source": [
    "#recoding score\n",
    "def Rating (series):\n",
    "  if series == \"imdb_score\":\n",
    "    return \"0\"\n",
    "  if series <= 7.0: \n",
    "    return \"Negative\"\n",
    "  if series >= 7.1: \n",
    "    return \"Positive\"\n",
    "amazon_shows[\"Rating\"] = amazon_shows['imdb_score'].apply(Rating)"
   ]
  },
  {
   "cell_type": "code",
   "execution_count": 97,
   "id": "992b935a",
   "metadata": {},
   "outputs": [],
   "source": [
    "def Rating1 (series):\n",
    "  if series == \"Rating\":\n",
    "    return \"0\"\n",
    "  if series == \"Positive\": \n",
    "    return 1\n",
    "  if series == \"Negative\":\n",
    "    return 2\n",
    "amazon_shows[\"Rating1\"] = amazon_shows[\"Rating\"].apply(Rating1)"
   ]
  },
  {
   "cell_type": "code",
   "execution_count": 98,
   "id": "a33267a0",
   "metadata": {},
   "outputs": [
    {
     "data": {
      "text/html": [
       "<div>\n",
       "<style scoped>\n",
       "    .dataframe tbody tr th:only-of-type {\n",
       "        vertical-align: middle;\n",
       "    }\n",
       "\n",
       "    .dataframe tbody tr th {\n",
       "        vertical-align: top;\n",
       "    }\n",
       "\n",
       "    .dataframe thead th {\n",
       "        text-align: right;\n",
       "    }\n",
       "</style>\n",
       "<table border=\"1\" class=\"dataframe\">\n",
       "  <thead>\n",
       "    <tr style=\"text-align: right;\">\n",
       "      <th></th>\n",
       "      <th>platform</th>\n",
       "      <th>id</th>\n",
       "      <th>release_year</th>\n",
       "      <th>runtime</th>\n",
       "      <th>seasons</th>\n",
       "      <th>imdb_id</th>\n",
       "      <th>imdb_score</th>\n",
       "      <th>imdb_votes</th>\n",
       "      <th>genre</th>\n",
       "      <th>Rating</th>\n",
       "      <th>Rating1</th>\n",
       "    </tr>\n",
       "  </thead>\n",
       "  <tbody>\n",
       "    <tr>\n",
       "      <th>36</th>\n",
       "      <td>Amazon</td>\n",
       "      <td>ts20005</td>\n",
       "      <td>1951</td>\n",
       "      <td>30</td>\n",
       "      <td>9.0</td>\n",
       "      <td>tt0043208</td>\n",
       "      <td>8.5</td>\n",
       "      <td>25944.0</td>\n",
       "      <td>3</td>\n",
       "      <td>Positive</td>\n",
       "      <td>1</td>\n",
       "    </tr>\n",
       "    <tr>\n",
       "      <th>37</th>\n",
       "      <td>Amazon</td>\n",
       "      <td>ts20690</td>\n",
       "      <td>1962</td>\n",
       "      <td>30</td>\n",
       "      <td>6.0</td>\n",
       "      <td>tt0055686</td>\n",
       "      <td>7.2</td>\n",
       "      <td>2797.0</td>\n",
       "      <td>3</td>\n",
       "      <td>Positive</td>\n",
       "      <td>1</td>\n",
       "    </tr>\n",
       "    <tr>\n",
       "      <th>40</th>\n",
       "      <td>Amazon</td>\n",
       "      <td>ts21396</td>\n",
       "      <td>1990</td>\n",
       "      <td>21</td>\n",
       "      <td>3.0</td>\n",
       "      <td>tt0096657</td>\n",
       "      <td>8.6</td>\n",
       "      <td>114774.0</td>\n",
       "      <td>3</td>\n",
       "      <td>Positive</td>\n",
       "      <td>1</td>\n",
       "    </tr>\n",
       "  </tbody>\n",
       "</table>\n",
       "</div>"
      ],
      "text/plain": [
       "   platform       id  release_year  runtime  seasons    imdb_id  imdb_score  \\\n",
       "36   Amazon  ts20005          1951       30      9.0  tt0043208         8.5   \n",
       "37   Amazon  ts20690          1962       30      6.0  tt0055686         7.2   \n",
       "40   Amazon  ts21396          1990       21      3.0  tt0096657         8.6   \n",
       "\n",
       "    imdb_votes genre    Rating  Rating1  \n",
       "36     25944.0     3  Positive        1  \n",
       "37      2797.0     3  Positive        1  \n",
       "40    114774.0     3  Positive        1  "
      ]
     },
     "execution_count": 98,
     "metadata": {},
     "output_type": "execute_result"
    }
   ],
   "source": [
    "amazon_shows.head(3)"
   ]
  },
  {
   "cell_type": "code",
   "execution_count": 99,
   "id": "cb499e9e",
   "metadata": {},
   "outputs": [
    {
     "data": {
      "text/plain": [
       "Rating\n",
       "Negative    444\n",
       "Positive    700\n",
       "Name: genre, dtype: int64"
      ]
     },
     "execution_count": 99,
     "metadata": {},
     "output_type": "execute_result"
    }
   ],
   "source": [
    "amazon_shows.groupby('Rating')['genre'].count()"
   ]
  },
  {
   "cell_type": "code",
   "execution_count": 100,
   "id": "8a5f27f8",
   "metadata": {},
   "outputs": [
    {
     "name": "stdout",
     "output_type": "stream",
     "text": [
      "platform         object\n",
      "id               object\n",
      "release_year      int64\n",
      "runtime           int64\n",
      "seasons         float64\n",
      "imdb_id          object\n",
      "imdb_score      float64\n",
      "imdb_votes      float64\n",
      "genre            object\n",
      "Rating           object\n",
      "Rating1           int64\n",
      "dtype: object\n"
     ]
    }
   ],
   "source": [
    "print(amazon_shows.dtypes)"
   ]
  },
  {
   "cell_type": "code",
   "execution_count": 101,
   "id": "3ed2d70a",
   "metadata": {},
   "outputs": [],
   "source": [
    "amazon_shows['genre'] = amazon_shows['genre'].astype(int)"
   ]
  },
  {
   "cell_type": "code",
   "execution_count": 102,
   "id": "98a4d36b",
   "metadata": {},
   "outputs": [
    {
     "name": "stdout",
     "output_type": "stream",
     "text": [
      "platform         object\n",
      "id               object\n",
      "release_year      int64\n",
      "runtime           int64\n",
      "seasons         float64\n",
      "imdb_id          object\n",
      "imdb_score      float64\n",
      "imdb_votes      float64\n",
      "genre             int32\n",
      "Rating           object\n",
      "Rating1           int64\n",
      "dtype: object\n"
     ]
    }
   ],
   "source": [
    "print(amazon_shows.dtypes)"
   ]
  },
  {
   "cell_type": "code",
   "execution_count": 103,
   "id": "d416086d",
   "metadata": {},
   "outputs": [
    {
     "data": {
      "text/html": [
       "<style type=\"text/css\">\n",
       "#T_17169_row0_col0, #T_17169_row1_col1, #T_17169_row2_col2, #T_17169_row3_col3, #T_17169_row4_col4, #T_17169_row5_col5, #T_17169_row6_col6 {\n",
       "  background-color: #b40426;\n",
       "  color: #f1f1f1;\n",
       "}\n",
       "#T_17169_row0_col1 {\n",
       "  background-color: #799cf8;\n",
       "  color: #f1f1f1;\n",
       "}\n",
       "#T_17169_row0_col2, #T_17169_row2_col0, #T_17169_row3_col5, #T_17169_row3_col6, #T_17169_row6_col1, #T_17169_row6_col3, #T_17169_row6_col4 {\n",
       "  background-color: #3b4cc0;\n",
       "  color: #f1f1f1;\n",
       "}\n",
       "#T_17169_row0_col3 {\n",
       "  background-color: #c0d4f5;\n",
       "  color: #000000;\n",
       "}\n",
       "#T_17169_row0_col4 {\n",
       "  background-color: #6180e9;\n",
       "  color: #f1f1f1;\n",
       "}\n",
       "#T_17169_row0_col5 {\n",
       "  background-color: #4358cb;\n",
       "  color: #f1f1f1;\n",
       "}\n",
       "#T_17169_row0_col6 {\n",
       "  background-color: #d4dbe6;\n",
       "  color: #000000;\n",
       "}\n",
       "#T_17169_row1_col0 {\n",
       "  background-color: #afcafc;\n",
       "  color: #000000;\n",
       "}\n",
       "#T_17169_row1_col2 {\n",
       "  background-color: #89acfd;\n",
       "  color: #000000;\n",
       "}\n",
       "#T_17169_row1_col3 {\n",
       "  background-color: #e3d9d3;\n",
       "  color: #000000;\n",
       "}\n",
       "#T_17169_row1_col4 {\n",
       "  background-color: #80a3fa;\n",
       "  color: #f1f1f1;\n",
       "}\n",
       "#T_17169_row1_col5 {\n",
       "  background-color: #7da0f9;\n",
       "  color: #f1f1f1;\n",
       "}\n",
       "#T_17169_row1_col6 {\n",
       "  background-color: #b5cdfa;\n",
       "  color: #000000;\n",
       "}\n",
       "#T_17169_row2_col1 {\n",
       "  background-color: #4b64d5;\n",
       "  color: #f1f1f1;\n",
       "}\n",
       "#T_17169_row2_col3, #T_17169_row5_col6 {\n",
       "  background-color: #cbd8ee;\n",
       "  color: #000000;\n",
       "}\n",
       "#T_17169_row2_col4, #T_17169_row3_col0 {\n",
       "  background-color: #88abfd;\n",
       "  color: #000000;\n",
       "}\n",
       "#T_17169_row2_col5 {\n",
       "  background-color: #516ddb;\n",
       "  color: #f1f1f1;\n",
       "}\n",
       "#T_17169_row2_col6, #T_17169_row5_col3 {\n",
       "  background-color: #c6d6f1;\n",
       "  color: #000000;\n",
       "}\n",
       "#T_17169_row3_col1 {\n",
       "  background-color: #8db0fe;\n",
       "  color: #000000;\n",
       "}\n",
       "#T_17169_row3_col2 {\n",
       "  background-color: #98b9ff;\n",
       "  color: #000000;\n",
       "}\n",
       "#T_17169_row3_col4 {\n",
       "  background-color: #9ebeff;\n",
       "  color: #000000;\n",
       "}\n",
       "#T_17169_row4_col0 {\n",
       "  background-color: #97b8ff;\n",
       "  color: #000000;\n",
       "}\n",
       "#T_17169_row4_col1 {\n",
       "  background-color: #7b9ff9;\n",
       "  color: #f1f1f1;\n",
       "}\n",
       "#T_17169_row4_col2 {\n",
       "  background-color: #b7cff9;\n",
       "  color: #000000;\n",
       "}\n",
       "#T_17169_row4_col3 {\n",
       "  background-color: #e8d6cc;\n",
       "  color: #000000;\n",
       "}\n",
       "#T_17169_row4_col5 {\n",
       "  background-color: #4257c9;\n",
       "  color: #f1f1f1;\n",
       "}\n",
       "#T_17169_row4_col6 {\n",
       "  background-color: #b1cbfc;\n",
       "  color: #000000;\n",
       "}\n",
       "#T_17169_row5_col0 {\n",
       "  background-color: #9abbff;\n",
       "  color: #000000;\n",
       "}\n",
       "#T_17169_row5_col1 {\n",
       "  background-color: #96b7ff;\n",
       "  color: #000000;\n",
       "}\n",
       "#T_17169_row5_col2 {\n",
       "  background-color: #a6c4fe;\n",
       "  color: #000000;\n",
       "}\n",
       "#T_17169_row5_col4 {\n",
       "  background-color: #6384eb;\n",
       "  color: #f1f1f1;\n",
       "}\n",
       "#T_17169_row6_col0 {\n",
       "  background-color: #a5c3fe;\n",
       "  color: #000000;\n",
       "}\n",
       "#T_17169_row6_col2 {\n",
       "  background-color: #92b4fe;\n",
       "  color: #000000;\n",
       "}\n",
       "#T_17169_row6_col5 {\n",
       "  background-color: #4055c8;\n",
       "  color: #f1f1f1;\n",
       "}\n",
       "</style>\n",
       "<table id=\"T_17169\">\n",
       "  <thead>\n",
       "    <tr>\n",
       "      <th class=\"blank level0\" >&nbsp;</th>\n",
       "      <th id=\"T_17169_level0_col0\" class=\"col_heading level0 col0\" >release_year</th>\n",
       "      <th id=\"T_17169_level0_col1\" class=\"col_heading level0 col1\" >runtime</th>\n",
       "      <th id=\"T_17169_level0_col2\" class=\"col_heading level0 col2\" >seasons</th>\n",
       "      <th id=\"T_17169_level0_col3\" class=\"col_heading level0 col3\" >imdb_score</th>\n",
       "      <th id=\"T_17169_level0_col4\" class=\"col_heading level0 col4\" >imdb_votes</th>\n",
       "      <th id=\"T_17169_level0_col5\" class=\"col_heading level0 col5\" >genre</th>\n",
       "      <th id=\"T_17169_level0_col6\" class=\"col_heading level0 col6\" >Rating1</th>\n",
       "    </tr>\n",
       "  </thead>\n",
       "  <tbody>\n",
       "    <tr>\n",
       "      <th id=\"T_17169_level0_row0\" class=\"row_heading level0 row0\" >release_year</th>\n",
       "      <td id=\"T_17169_row0_col0\" class=\"data row0 col0\" >1.000000</td>\n",
       "      <td id=\"T_17169_row0_col1\" class=\"data row0 col1\" >0.091762</td>\n",
       "      <td id=\"T_17169_row0_col2\" class=\"data row0 col2\" >-0.395904</td>\n",
       "      <td id=\"T_17169_row0_col3\" class=\"data row0 col3\" >-0.064205</td>\n",
       "      <td id=\"T_17169_row0_col4\" class=\"data row0 col4\" >-0.007090</td>\n",
       "      <td id=\"T_17169_row0_col5\" class=\"data row0 col5\" >0.004259</td>\n",
       "      <td id=\"T_17169_row0_col6\" class=\"data row0 col6\" >0.050698</td>\n",
       "    </tr>\n",
       "    <tr>\n",
       "      <th id=\"T_17169_level0_row1\" class=\"row_heading level0 row1\" >runtime</th>\n",
       "      <td id=\"T_17169_row1_col0\" class=\"data row1 col0\" >0.091762</td>\n",
       "      <td id=\"T_17169_row1_col1\" class=\"data row1 col1\" >1.000000</td>\n",
       "      <td id=\"T_17169_row1_col2\" class=\"data row1 col2\" >-0.063091</td>\n",
       "      <td id=\"T_17169_row1_col3\" class=\"data row1 col3\" >0.156728</td>\n",
       "      <td id=\"T_17169_row1_col4\" class=\"data row1 col4\" >0.097549</td>\n",
       "      <td id=\"T_17169_row1_col5\" class=\"data row1 col5\" >0.183191</td>\n",
       "      <td id=\"T_17169_row1_col6\" class=\"data row1 col6\" >-0.128325</td>\n",
       "    </tr>\n",
       "    <tr>\n",
       "      <th id=\"T_17169_level0_row2\" class=\"row_heading level0 row2\" >seasons</th>\n",
       "      <td id=\"T_17169_row2_col0\" class=\"data row2 col0\" >-0.395904</td>\n",
       "      <td id=\"T_17169_row2_col1\" class=\"data row2 col1\" >-0.063091</td>\n",
       "      <td id=\"T_17169_row2_col2\" class=\"data row2 col2\" >1.000000</td>\n",
       "      <td id=\"T_17169_row2_col3\" class=\"data row2 col3\" >0.001541</td>\n",
       "      <td id=\"T_17169_row2_col4\" class=\"data row2 col4\" >0.124855</td>\n",
       "      <td id=\"T_17169_row2_col5\" class=\"data row2 col5\" >0.052287</td>\n",
       "      <td id=\"T_17169_row2_col6\" class=\"data row2 col6\" >-0.029572</td>\n",
       "    </tr>\n",
       "    <tr>\n",
       "      <th id=\"T_17169_level0_row3\" class=\"row_heading level0 row3\" >imdb_score</th>\n",
       "      <td id=\"T_17169_row3_col0\" class=\"data row3 col0\" >-0.064205</td>\n",
       "      <td id=\"T_17169_row3_col1\" class=\"data row3 col1\" >0.156728</td>\n",
       "      <td id=\"T_17169_row3_col2\" class=\"data row3 col2\" >0.001541</td>\n",
       "      <td id=\"T_17169_row3_col3\" class=\"data row3 col3\" >1.000000</td>\n",
       "      <td id=\"T_17169_row3_col4\" class=\"data row3 col4\" >0.194893</td>\n",
       "      <td id=\"T_17169_row3_col5\" class=\"data row3 col5\" >-0.025946</td>\n",
       "      <td id=\"T_17169_row3_col6\" class=\"data row3 col6\" >-0.774552</td>\n",
       "    </tr>\n",
       "    <tr>\n",
       "      <th id=\"T_17169_level0_row4\" class=\"row_heading level0 row4\" >imdb_votes</th>\n",
       "      <td id=\"T_17169_row4_col0\" class=\"data row4 col0\" >-0.007090</td>\n",
       "      <td id=\"T_17169_row4_col1\" class=\"data row4 col1\" >0.097549</td>\n",
       "      <td id=\"T_17169_row4_col2\" class=\"data row4 col2\" >0.124855</td>\n",
       "      <td id=\"T_17169_row4_col3\" class=\"data row4 col3\" >0.194893</td>\n",
       "      <td id=\"T_17169_row4_col4\" class=\"data row4 col4\" >1.000000</td>\n",
       "      <td id=\"T_17169_row4_col5\" class=\"data row4 col5\" >0.001586</td>\n",
       "      <td id=\"T_17169_row4_col6\" class=\"data row4 col6\" >-0.146454</td>\n",
       "    </tr>\n",
       "    <tr>\n",
       "      <th id=\"T_17169_level0_row5\" class=\"row_heading level0 row5\" >genre</th>\n",
       "      <td id=\"T_17169_row5_col0\" class=\"data row5 col0\" >0.004259</td>\n",
       "      <td id=\"T_17169_row5_col1\" class=\"data row5 col1\" >0.183191</td>\n",
       "      <td id=\"T_17169_row5_col2\" class=\"data row5 col2\" >0.052287</td>\n",
       "      <td id=\"T_17169_row5_col3\" class=\"data row5 col3\" >-0.025946</td>\n",
       "      <td id=\"T_17169_row5_col4\" class=\"data row5 col4\" >0.001586</td>\n",
       "      <td id=\"T_17169_row5_col5\" class=\"data row5 col5\" >1.000000</td>\n",
       "      <td id=\"T_17169_row5_col6\" class=\"data row5 col6\" >-0.003268</td>\n",
       "    </tr>\n",
       "    <tr>\n",
       "      <th id=\"T_17169_level0_row6\" class=\"row_heading level0 row6\" >Rating1</th>\n",
       "      <td id=\"T_17169_row6_col0\" class=\"data row6 col0\" >0.050698</td>\n",
       "      <td id=\"T_17169_row6_col1\" class=\"data row6 col1\" >-0.128325</td>\n",
       "      <td id=\"T_17169_row6_col2\" class=\"data row6 col2\" >-0.029572</td>\n",
       "      <td id=\"T_17169_row6_col3\" class=\"data row6 col3\" >-0.774552</td>\n",
       "      <td id=\"T_17169_row6_col4\" class=\"data row6 col4\" >-0.146454</td>\n",
       "      <td id=\"T_17169_row6_col5\" class=\"data row6 col5\" >-0.003268</td>\n",
       "      <td id=\"T_17169_row6_col6\" class=\"data row6 col6\" >1.000000</td>\n",
       "    </tr>\n",
       "  </tbody>\n",
       "</table>\n"
      ],
      "text/plain": [
       "<pandas.io.formats.style.Styler at 0x14590420f70>"
      ]
     },
     "execution_count": 103,
     "metadata": {},
     "output_type": "execute_result"
    }
   ],
   "source": [
    "corr = amazon_shows.corr()\n",
    "corr.style.background_gradient(cmap='coolwarm')"
   ]
  },
  {
   "cell_type": "code",
   "execution_count": 104,
   "id": "484e4165",
   "metadata": {},
   "outputs": [
    {
     "data": {
      "text/plain": [
       "Text(0, 0.5, 'AVG IMDB Score')"
      ]
     },
     "execution_count": 104,
     "metadata": {},
     "output_type": "execute_result"
    },
    {
     "data": {
      "image/png": "[encoded data removed]",
      "text/plain": [
       "<Figure size 432x288 with 1 Axes>"
      ]
     },
     "metadata": {
      "needs_background": "light"
     },
     "output_type": "display_data"
    }
   ],
   "source": [
    "amazon_shows_1 = amazon_shows[['genre', 'imdb_score']]\n",
    "amazon_shows_avg = amazon_shows_1.groupby('genre')['imdb_score'].mean()\n",
    "amazon_shows_avg.plot(kind='bar')\n",
    "plt.title('Amazon Shows')\n",
    "plt.xlabel('Genre')\n",
    "plt.ylabel('AVG IMDB Score')"
   ]
  },
  {
   "cell_type": "code",
   "execution_count": 105,
   "id": "8f1d9e95",
   "metadata": {},
   "outputs": [
    {
     "name": "stdout",
     "output_type": "stream",
     "text": [
      "genre\n",
      "1     7.154430\n",
      "2     6.858268\n",
      "3     6.971649\n",
      "4     7.341860\n",
      "5     7.577622\n",
      "6     7.322464\n",
      "8     6.734483\n",
      "9     7.260000\n",
      "10    7.800000\n",
      "11    4.866667\n",
      "12    5.450000\n",
      "13    6.589362\n",
      "14    6.900000\n",
      "15    7.140426\n",
      "16    7.600000\n",
      "17    6.754545\n",
      "18    7.687500\n",
      "19    7.487500\n",
      "Name: imdb_score, dtype: float64\n"
     ]
    }
   ],
   "source": [
    "print(amazon_shows_avg)"
   ]
  },
  {
   "cell_type": "code",
   "execution_count": 106,
   "id": "fbf1b936",
   "metadata": {},
   "outputs": [],
   "source": [
    "amazon_movies_df = amazon_df.loc[amazon_df['type'] == 'MOVIE']"
   ]
  },
  {
   "cell_type": "code",
   "execution_count": 107,
   "id": "4cbd250b",
   "metadata": {},
   "outputs": [
    {
     "data": {
      "text/html": [
       "<div>\n",
       "<style scoped>\n",
       "    .dataframe tbody tr th:only-of-type {\n",
       "        vertical-align: middle;\n",
       "    }\n",
       "\n",
       "    .dataframe tbody tr th {\n",
       "        vertical-align: top;\n",
       "    }\n",
       "\n",
       "    .dataframe thead th {\n",
       "        text-align: right;\n",
       "    }\n",
       "</style>\n",
       "<table border=\"1\" class=\"dataframe\">\n",
       "  <thead>\n",
       "    <tr style=\"text-align: right;\">\n",
       "      <th></th>\n",
       "      <th>platform</th>\n",
       "      <th>id</th>\n",
       "      <th>title</th>\n",
       "      <th>type</th>\n",
       "      <th>description</th>\n",
       "      <th>release_year</th>\n",
       "      <th>age_certification</th>\n",
       "      <th>runtime</th>\n",
       "      <th>genres</th>\n",
       "      <th>production_countries</th>\n",
       "      <th>...</th>\n",
       "      <th>genre4</th>\n",
       "      <th>genre5</th>\n",
       "      <th>genre6</th>\n",
       "      <th>genre7</th>\n",
       "      <th>genre8</th>\n",
       "      <th>genre9</th>\n",
       "      <th>genre10</th>\n",
       "      <th>genre</th>\n",
       "      <th>program_type</th>\n",
       "      <th>Platform</th>\n",
       "    </tr>\n",
       "  </thead>\n",
       "  <tbody>\n",
       "    <tr>\n",
       "      <th>30</th>\n",
       "      <td>Amazon</td>\n",
       "      <td>tm89134</td>\n",
       "      <td>The Gunman From Bodie</td>\n",
       "      <td>MOVIE</td>\n",
       "      <td>The Rough Riders are after a gang of rustlers....</td>\n",
       "      <td>1941</td>\n",
       "      <td>NaN</td>\n",
       "      <td>62</td>\n",
       "      <td>western</td>\n",
       "      <td>['US']</td>\n",
       "      <td>...</td>\n",
       "      <td>NaN</td>\n",
       "      <td>NaN</td>\n",
       "      <td>NaN</td>\n",
       "      <td>NaN</td>\n",
       "      <td>NaN</td>\n",
       "      <td>NaN</td>\n",
       "      <td>NaN</td>\n",
       "      <td>19</td>\n",
       "      <td>2</td>\n",
       "      <td>4</td>\n",
       "    </tr>\n",
       "    <tr>\n",
       "      <th>31</th>\n",
       "      <td>Amazon</td>\n",
       "      <td>tm89134</td>\n",
       "      <td>The Gunman From Bodie</td>\n",
       "      <td>MOVIE</td>\n",
       "      <td>The Rough Riders are after a gang of rustlers....</td>\n",
       "      <td>1941</td>\n",
       "      <td>NaN</td>\n",
       "      <td>62</td>\n",
       "      <td>western</td>\n",
       "      <td>['US']</td>\n",
       "      <td>...</td>\n",
       "      <td>NaN</td>\n",
       "      <td>NaN</td>\n",
       "      <td>NaN</td>\n",
       "      <td>NaN</td>\n",
       "      <td>NaN</td>\n",
       "      <td>NaN</td>\n",
       "      <td>NaN</td>\n",
       "      <td>19</td>\n",
       "      <td>2</td>\n",
       "      <td>4</td>\n",
       "    </tr>\n",
       "    <tr>\n",
       "      <th>32</th>\n",
       "      <td>Amazon</td>\n",
       "      <td>tm66674</td>\n",
       "      <td>Dynamite</td>\n",
       "      <td>MOVIE</td>\n",
       "      <td>Two members of a dynamite crew--a rugged veter...</td>\n",
       "      <td>1949</td>\n",
       "      <td>NaN</td>\n",
       "      <td>68</td>\n",
       "      <td>drama, crime</td>\n",
       "      <td>['US']</td>\n",
       "      <td>...</td>\n",
       "      <td>NaN</td>\n",
       "      <td>NaN</td>\n",
       "      <td>NaN</td>\n",
       "      <td>NaN</td>\n",
       "      <td>NaN</td>\n",
       "      <td>NaN</td>\n",
       "      <td>NaN</td>\n",
       "      <td>6</td>\n",
       "      <td>2</td>\n",
       "      <td>4</td>\n",
       "    </tr>\n",
       "  </tbody>\n",
       "</table>\n",
       "<p>3 rows × 29 columns</p>\n",
       "</div>"
      ],
      "text/plain": [
       "   platform       id                  title   type  \\\n",
       "30   Amazon  tm89134  The Gunman From Bodie  MOVIE   \n",
       "31   Amazon  tm89134  The Gunman From Bodie  MOVIE   \n",
       "32   Amazon  tm66674               Dynamite  MOVIE   \n",
       "\n",
       "                                          description  release_year  \\\n",
       "30  The Rough Riders are after a gang of rustlers....          1941   \n",
       "31  The Rough Riders are after a gang of rustlers....          1941   \n",
       "32  Two members of a dynamite crew--a rugged veter...          1949   \n",
       "\n",
       "   age_certification  runtime        genres production_countries  ...  genre4  \\\n",
       "30               NaN       62       western               ['US']  ...     NaN   \n",
       "31               NaN       62       western               ['US']  ...     NaN   \n",
       "32               NaN       68  drama, crime               ['US']  ...     NaN   \n",
       "\n",
       "   genre5  genre6  genre7  genre8  genre9 genre10 genre program_type Platform  \n",
       "30    NaN     NaN     NaN     NaN     NaN     NaN    19            2        4  \n",
       "31    NaN     NaN     NaN     NaN     NaN     NaN    19            2        4  \n",
       "32    NaN     NaN     NaN     NaN     NaN     NaN     6            2        4  \n",
       "\n",
       "[3 rows x 29 columns]"
      ]
     },
     "execution_count": 107,
     "metadata": {},
     "output_type": "execute_result"
    }
   ],
   "source": [
    "amazon_movies_df.head(3)"
   ]
  },
  {
   "cell_type": "code",
   "execution_count": 108,
   "id": "a1b80b05",
   "metadata": {},
   "outputs": [],
   "source": [
    "amazon_movies = amazon_movies_df.drop(['title', 'type','description', 'age_certification', 'genres', \n",
    "                        'production_countries','seasons','tmdb_popularity','tmdb_score','program_type',\n",
    "                        'Platform','genre1', 'genre2', 'genre3', 'genre4', 'genre5', 'genre6', \n",
    "                        'genre7','genre8', 'genre9', 'genre10'], axis=1)"
   ]
  },
  {
   "cell_type": "code",
   "execution_count": 109,
   "id": "88e5b9dc",
   "metadata": {},
   "outputs": [
    {
     "data": {
      "text/html": [
       "<div>\n",
       "<style scoped>\n",
       "    .dataframe tbody tr th:only-of-type {\n",
       "        vertical-align: middle;\n",
       "    }\n",
       "\n",
       "    .dataframe tbody tr th {\n",
       "        vertical-align: top;\n",
       "    }\n",
       "\n",
       "    .dataframe thead th {\n",
       "        text-align: right;\n",
       "    }\n",
       "</style>\n",
       "<table border=\"1\" class=\"dataframe\">\n",
       "  <thead>\n",
       "    <tr style=\"text-align: right;\">\n",
       "      <th></th>\n",
       "      <th>platform</th>\n",
       "      <th>id</th>\n",
       "      <th>release_year</th>\n",
       "      <th>runtime</th>\n",
       "      <th>imdb_id</th>\n",
       "      <th>imdb_score</th>\n",
       "      <th>imdb_votes</th>\n",
       "      <th>genre</th>\n",
       "    </tr>\n",
       "  </thead>\n",
       "  <tbody>\n",
       "    <tr>\n",
       "      <th>30</th>\n",
       "      <td>Amazon</td>\n",
       "      <td>tm89134</td>\n",
       "      <td>1941</td>\n",
       "      <td>62</td>\n",
       "      <td>tt0033683</td>\n",
       "      <td>5.9</td>\n",
       "      <td>133.0</td>\n",
       "      <td>19</td>\n",
       "    </tr>\n",
       "    <tr>\n",
       "      <th>31</th>\n",
       "      <td>Amazon</td>\n",
       "      <td>tm89134</td>\n",
       "      <td>1941</td>\n",
       "      <td>62</td>\n",
       "      <td>tt0033683</td>\n",
       "      <td>5.9</td>\n",
       "      <td>133.0</td>\n",
       "      <td>19</td>\n",
       "    </tr>\n",
       "    <tr>\n",
       "      <th>32</th>\n",
       "      <td>Amazon</td>\n",
       "      <td>tm66674</td>\n",
       "      <td>1949</td>\n",
       "      <td>68</td>\n",
       "      <td>tt0039343</td>\n",
       "      <td>5.0</td>\n",
       "      <td>24.0</td>\n",
       "      <td>6</td>\n",
       "    </tr>\n",
       "  </tbody>\n",
       "</table>\n",
       "</div>"
      ],
      "text/plain": [
       "   platform       id  release_year  runtime    imdb_id  imdb_score  \\\n",
       "30   Amazon  tm89134          1941       62  tt0033683         5.9   \n",
       "31   Amazon  tm89134          1941       62  tt0033683         5.9   \n",
       "32   Amazon  tm66674          1949       68  tt0039343         5.0   \n",
       "\n",
       "    imdb_votes genre  \n",
       "30       133.0    19  \n",
       "31       133.0    19  \n",
       "32        24.0     6  "
      ]
     },
     "execution_count": 109,
     "metadata": {},
     "output_type": "execute_result"
    }
   ],
   "source": [
    "amazon_movies.head(3)"
   ]
  },
  {
   "cell_type": "code",
   "execution_count": 110,
   "id": "cee3837f",
   "metadata": {},
   "outputs": [
    {
     "data": {
      "text/plain": [
       "platform          0\n",
       "id                0\n",
       "release_year      0\n",
       "runtime           0\n",
       "imdb_id         559\n",
       "imdb_score      830\n",
       "imdb_votes      838\n",
       "genre           155\n",
       "dtype: int64"
      ]
     },
     "execution_count": 110,
     "metadata": {},
     "output_type": "execute_result"
    }
   ],
   "source": [
    "amazon_movies.isnull().sum()"
   ]
  },
  {
   "cell_type": "code",
   "execution_count": 111,
   "id": "79521382",
   "metadata": {},
   "outputs": [],
   "source": [
    "amazon_movies.dropna(inplace=True)"
   ]
  },
  {
   "cell_type": "code",
   "execution_count": 112,
   "id": "0c1e1e00",
   "metadata": {},
   "outputs": [
    {
     "data": {
      "text/plain": [
       "platform        7643\n",
       "id              7643\n",
       "release_year    7643\n",
       "runtime         7643\n",
       "imdb_id         7643\n",
       "imdb_score      7643\n",
       "imdb_votes      7643\n",
       "genre           7643\n",
       "dtype: int64"
      ]
     },
     "execution_count": 112,
     "metadata": {},
     "output_type": "execute_result"
    }
   ],
   "source": [
    "amazon_movies.count()"
   ]
  },
  {
   "cell_type": "code",
   "execution_count": 113,
   "id": "e6535ab7",
   "metadata": {},
   "outputs": [
    {
     "data": {
      "text/plain": [
       "5.801373806097081"
      ]
     },
     "execution_count": 113,
     "metadata": {},
     "output_type": "execute_result"
    }
   ],
   "source": [
    "#Average IMDB Score for Amazon Movies\n",
    "amazon_movies.loc[:, 'imdb_score'].mean()"
   ]
  },
  {
   "cell_type": "code",
   "execution_count": 114,
   "id": "da572be5",
   "metadata": {},
   "outputs": [
    {
     "data": {
      "text/plain": [
       "94.98325264948319"
      ]
     },
     "execution_count": 114,
     "metadata": {},
     "output_type": "execute_result"
    }
   ],
   "source": [
    "#Average runtime for Amazon Movies\n",
    "amazon_movies.loc[:, 'runtime'].mean()"
   ]
  },
  {
   "cell_type": "code",
   "execution_count": 115,
   "id": "2d25cb08",
   "metadata": {},
   "outputs": [],
   "source": [
    "#recoding score\n",
    "def Rating (series):\n",
    "  if series == \"imdb_score\":\n",
    "    return \"0\"\n",
    "  if series <= 5.7: \n",
    "    return \"Negative\"\n",
    "  if series >= 5.8: \n",
    "    return \"Positive\"\n",
    "amazon_movies[\"Rating\"] = amazon_movies['imdb_score'].apply(Rating)"
   ]
  },
  {
   "cell_type": "code",
   "execution_count": 116,
   "id": "e53ae033",
   "metadata": {},
   "outputs": [],
   "source": [
    "def Rating1 (series):\n",
    "  if series == \"Rating\":\n",
    "    return \"0\"\n",
    "  if series == \"Positive\": \n",
    "    return 1\n",
    "  if series == \"Negative\":\n",
    "    return 2\n",
    "amazon_movies[\"Rating1\"] = amazon_movies[\"Rating\"].apply(Rating1)"
   ]
  },
  {
   "cell_type": "code",
   "execution_count": 117,
   "id": "f162cce0",
   "metadata": {},
   "outputs": [
    {
     "data": {
      "text/html": [
       "<div>\n",
       "<style scoped>\n",
       "    .dataframe tbody tr th:only-of-type {\n",
       "        vertical-align: middle;\n",
       "    }\n",
       "\n",
       "    .dataframe tbody tr th {\n",
       "        vertical-align: top;\n",
       "    }\n",
       "\n",
       "    .dataframe thead th {\n",
       "        text-align: right;\n",
       "    }\n",
       "</style>\n",
       "<table border=\"1\" class=\"dataframe\">\n",
       "  <thead>\n",
       "    <tr style=\"text-align: right;\">\n",
       "      <th></th>\n",
       "      <th>platform</th>\n",
       "      <th>id</th>\n",
       "      <th>release_year</th>\n",
       "      <th>runtime</th>\n",
       "      <th>imdb_id</th>\n",
       "      <th>imdb_score</th>\n",
       "      <th>imdb_votes</th>\n",
       "      <th>genre</th>\n",
       "      <th>Rating</th>\n",
       "      <th>Rating1</th>\n",
       "    </tr>\n",
       "  </thead>\n",
       "  <tbody>\n",
       "    <tr>\n",
       "      <th>30</th>\n",
       "      <td>Amazon</td>\n",
       "      <td>tm89134</td>\n",
       "      <td>1941</td>\n",
       "      <td>62</td>\n",
       "      <td>tt0033683</td>\n",
       "      <td>5.9</td>\n",
       "      <td>133.0</td>\n",
       "      <td>19</td>\n",
       "      <td>Positive</td>\n",
       "      <td>1</td>\n",
       "    </tr>\n",
       "    <tr>\n",
       "      <th>31</th>\n",
       "      <td>Amazon</td>\n",
       "      <td>tm89134</td>\n",
       "      <td>1941</td>\n",
       "      <td>62</td>\n",
       "      <td>tt0033683</td>\n",
       "      <td>5.9</td>\n",
       "      <td>133.0</td>\n",
       "      <td>19</td>\n",
       "      <td>Positive</td>\n",
       "      <td>1</td>\n",
       "    </tr>\n",
       "    <tr>\n",
       "      <th>32</th>\n",
       "      <td>Amazon</td>\n",
       "      <td>tm66674</td>\n",
       "      <td>1949</td>\n",
       "      <td>68</td>\n",
       "      <td>tt0039343</td>\n",
       "      <td>5.0</td>\n",
       "      <td>24.0</td>\n",
       "      <td>6</td>\n",
       "      <td>Negative</td>\n",
       "      <td>2</td>\n",
       "    </tr>\n",
       "  </tbody>\n",
       "</table>\n",
       "</div>"
      ],
      "text/plain": [
       "   platform       id  release_year  runtime    imdb_id  imdb_score  \\\n",
       "30   Amazon  tm89134          1941       62  tt0033683         5.9   \n",
       "31   Amazon  tm89134          1941       62  tt0033683         5.9   \n",
       "32   Amazon  tm66674          1949       68  tt0039343         5.0   \n",
       "\n",
       "    imdb_votes genre    Rating  Rating1  \n",
       "30       133.0    19  Positive        1  \n",
       "31       133.0    19  Positive        1  \n",
       "32        24.0     6  Negative        2  "
      ]
     },
     "execution_count": 117,
     "metadata": {},
     "output_type": "execute_result"
    }
   ],
   "source": [
    "amazon_movies.head(3)"
   ]
  },
  {
   "cell_type": "code",
   "execution_count": 118,
   "id": "ae13c386",
   "metadata": {},
   "outputs": [
    {
     "data": {
      "text/plain": [
       "Rating\n",
       "Negative    3490\n",
       "Positive    4153\n",
       "Name: genre, dtype: int64"
      ]
     },
     "execution_count": 118,
     "metadata": {},
     "output_type": "execute_result"
    }
   ],
   "source": [
    "amazon_movies.groupby('Rating')['genre'].count()"
   ]
  },
  {
   "cell_type": "code",
   "execution_count": 119,
   "id": "2e675c5b",
   "metadata": {},
   "outputs": [
    {
     "name": "stdout",
     "output_type": "stream",
     "text": [
      "platform         object\n",
      "id               object\n",
      "release_year      int64\n",
      "runtime           int64\n",
      "imdb_id          object\n",
      "imdb_score      float64\n",
      "imdb_votes      float64\n",
      "genre            object\n",
      "Rating           object\n",
      "Rating1           int64\n",
      "dtype: object\n"
     ]
    }
   ],
   "source": [
    "print(amazon_movies.dtypes)"
   ]
  },
  {
   "cell_type": "code",
   "execution_count": 120,
   "id": "49df4678",
   "metadata": {},
   "outputs": [],
   "source": [
    "amazon_movies['genre'] = amazon_movies['genre'].astype(int)"
   ]
  },
  {
   "cell_type": "code",
   "execution_count": 121,
   "id": "32d61856",
   "metadata": {},
   "outputs": [
    {
     "name": "stdout",
     "output_type": "stream",
     "text": [
      "platform         object\n",
      "id               object\n",
      "release_year      int64\n",
      "runtime           int64\n",
      "imdb_id          object\n",
      "imdb_score      float64\n",
      "imdb_votes      float64\n",
      "genre             int32\n",
      "Rating           object\n",
      "Rating1           int64\n",
      "dtype: object\n"
     ]
    }
   ],
   "source": [
    "print(amazon_movies.dtypes)"
   ]
  },
  {
   "cell_type": "code",
   "execution_count": 122,
   "id": "3ae55246",
   "metadata": {},
   "outputs": [
    {
     "data": {
      "text/html": [
       "<style type=\"text/css\">\n",
       "#T_05495_row0_col0, #T_05495_row1_col1, #T_05495_row2_col2, #T_05495_row3_col3, #T_05495_row4_col4, #T_05495_row5_col5 {\n",
       "  background-color: #b40426;\n",
       "  color: #f1f1f1;\n",
       "}\n",
       "#T_05495_row0_col1, #T_05495_row4_col2 {\n",
       "  background-color: #b2ccfb;\n",
       "  color: #000000;\n",
       "}\n",
       "#T_05495_row0_col2 {\n",
       "  background-color: #cad8ef;\n",
       "  color: #000000;\n",
       "}\n",
       "#T_05495_row0_col3 {\n",
       "  background-color: #6485ec;\n",
       "  color: #f1f1f1;\n",
       "}\n",
       "#T_05495_row0_col4, #T_05495_row2_col5, #T_05495_row4_col0, #T_05495_row5_col1, #T_05495_row5_col2, #T_05495_row5_col3 {\n",
       "  background-color: #3b4cc0;\n",
       "  color: #f1f1f1;\n",
       "}\n",
       "#T_05495_row0_col5 {\n",
       "  background-color: #cedaeb;\n",
       "  color: #000000;\n",
       "}\n",
       "#T_05495_row1_col0 {\n",
       "  background-color: #b9d0f9;\n",
       "  color: #000000;\n",
       "}\n",
       "#T_05495_row1_col2 {\n",
       "  background-color: #e3d9d3;\n",
       "  color: #000000;\n",
       "}\n",
       "#T_05495_row1_col3 {\n",
       "  background-color: #89acfd;\n",
       "  color: #000000;\n",
       "}\n",
       "#T_05495_row1_col4 {\n",
       "  background-color: #5b7ae5;\n",
       "  color: #f1f1f1;\n",
       "}\n",
       "#T_05495_row1_col5, #T_05495_row3_col5 {\n",
       "  background-color: #b7cff9;\n",
       "  color: #000000;\n",
       "}\n",
       "#T_05495_row2_col0 {\n",
       "  background-color: #6180e9;\n",
       "  color: #f1f1f1;\n",
       "}\n",
       "#T_05495_row2_col1, #T_05495_row3_col1 {\n",
       "  background-color: #8badfd;\n",
       "  color: #000000;\n",
       "}\n",
       "#T_05495_row2_col3 {\n",
       "  background-color: #90b2fe;\n",
       "  color: #000000;\n",
       "}\n",
       "#T_05495_row2_col4 {\n",
       "  background-color: #3d50c3;\n",
       "  color: #f1f1f1;\n",
       "}\n",
       "#T_05495_row3_col0 {\n",
       "  background-color: #6e90f2;\n",
       "  color: #f1f1f1;\n",
       "}\n",
       "#T_05495_row3_col2 {\n",
       "  background-color: #e6d7cf;\n",
       "  color: #000000;\n",
       "}\n",
       "#T_05495_row3_col4 {\n",
       "  background-color: #7699f6;\n",
       "  color: #f1f1f1;\n",
       "}\n",
       "#T_05495_row4_col1 {\n",
       "  background-color: #516ddb;\n",
       "  color: #f1f1f1;\n",
       "}\n",
       "#T_05495_row4_col3 {\n",
       "  background-color: #6c8ff1;\n",
       "  color: #f1f1f1;\n",
       "}\n",
       "#T_05495_row4_col5 {\n",
       "  background-color: #e1dad6;\n",
       "  color: #000000;\n",
       "}\n",
       "#T_05495_row5_col0 {\n",
       "  background-color: #6a8bef;\n",
       "  color: #f1f1f1;\n",
       "}\n",
       "#T_05495_row5_col4 {\n",
       "  background-color: #8fb1fe;\n",
       "  color: #000000;\n",
       "}\n",
       "</style>\n",
       "<table id=\"T_05495\">\n",
       "  <thead>\n",
       "    <tr>\n",
       "      <th class=\"blank level0\" >&nbsp;</th>\n",
       "      <th id=\"T_05495_level0_col0\" class=\"col_heading level0 col0\" >release_year</th>\n",
       "      <th id=\"T_05495_level0_col1\" class=\"col_heading level0 col1\" >runtime</th>\n",
       "      <th id=\"T_05495_level0_col2\" class=\"col_heading level0 col2\" >imdb_score</th>\n",
       "      <th id=\"T_05495_level0_col3\" class=\"col_heading level0 col3\" >imdb_votes</th>\n",
       "      <th id=\"T_05495_level0_col4\" class=\"col_heading level0 col4\" >genre</th>\n",
       "      <th id=\"T_05495_level0_col5\" class=\"col_heading level0 col5\" >Rating1</th>\n",
       "    </tr>\n",
       "  </thead>\n",
       "  <tbody>\n",
       "    <tr>\n",
       "      <th id=\"T_05495_level0_row0\" class=\"row_heading level0 row0\" >release_year</th>\n",
       "      <td id=\"T_05495_row0_col0\" class=\"data row0 col0\" >1.000000</td>\n",
       "      <td id=\"T_05495_row0_col1\" class=\"data row0 col1\" >0.274201</td>\n",
       "      <td id=\"T_05495_row0_col2\" class=\"data row0 col2\" >-0.020344</td>\n",
       "      <td id=\"T_05495_row0_col3\" class=\"data row0 col3\" >0.024808</td>\n",
       "      <td id=\"T_05495_row0_col4\" class=\"data row0 col4\" >-0.165581</td>\n",
       "      <td id=\"T_05495_row0_col5\" class=\"data row0 col5\" >0.009924</td>\n",
       "    </tr>\n",
       "    <tr>\n",
       "      <th id=\"T_05495_level0_row1\" class=\"row_heading level0 row1\" >runtime</th>\n",
       "      <td id=\"T_05495_row1_col0\" class=\"data row1 col0\" >0.274201</td>\n",
       "      <td id=\"T_05495_row1_col1\" class=\"data row1 col1\" >1.000000</td>\n",
       "      <td id=\"T_05495_row1_col2\" class=\"data row1 col2\" >0.145840</td>\n",
       "      <td id=\"T_05495_row1_col3\" class=\"data row1 col3\" >0.146273</td>\n",
       "      <td id=\"T_05495_row1_col4\" class=\"data row1 col4\" >-0.040911</td>\n",
       "      <td id=\"T_05495_row1_col5\" class=\"data row1 col5\" >-0.127899</td>\n",
       "    </tr>\n",
       "    <tr>\n",
       "      <th id=\"T_05495_level0_row2\" class=\"row_heading level0 row2\" >imdb_score</th>\n",
       "      <td id=\"T_05495_row2_col0\" class=\"data row2 col0\" >-0.020344</td>\n",
       "      <td id=\"T_05495_row2_col1\" class=\"data row2 col1\" >0.145840</td>\n",
       "      <td id=\"T_05495_row2_col2\" class=\"data row2 col2\" >1.000000</td>\n",
       "      <td id=\"T_05495_row2_col3\" class=\"data row2 col3\" >0.168465</td>\n",
       "      <td id=\"T_05495_row2_col4\" class=\"data row2 col4\" >-0.155006</td>\n",
       "      <td id=\"T_05495_row2_col5\" class=\"data row2 col5\" >-0.794871</td>\n",
       "    </tr>\n",
       "    <tr>\n",
       "      <th id=\"T_05495_level0_row3\" class=\"row_heading level0 row3\" >imdb_votes</th>\n",
       "      <td id=\"T_05495_row3_col0\" class=\"data row3 col0\" >0.024808</td>\n",
       "      <td id=\"T_05495_row3_col1\" class=\"data row3 col1\" >0.146273</td>\n",
       "      <td id=\"T_05495_row3_col2\" class=\"data row3 col2\" >0.168465</td>\n",
       "      <td id=\"T_05495_row3_col3\" class=\"data row3 col3\" >1.000000</td>\n",
       "      <td id=\"T_05495_row3_col4\" class=\"data row3 col4\" >0.052234</td>\n",
       "      <td id=\"T_05495_row3_col5\" class=\"data row3 col5\" >-0.126261</td>\n",
       "    </tr>\n",
       "    <tr>\n",
       "      <th id=\"T_05495_level0_row4\" class=\"row_heading level0 row4\" >genre</th>\n",
       "      <td id=\"T_05495_row4_col0\" class=\"data row4 col0\" >-0.165581</td>\n",
       "      <td id=\"T_05495_row4_col1\" class=\"data row4 col1\" >-0.040911</td>\n",
       "      <td id=\"T_05495_row4_col2\" class=\"data row4 col2\" >-0.155006</td>\n",
       "      <td id=\"T_05495_row4_col3\" class=\"data row4 col3\" >0.052234</td>\n",
       "      <td id=\"T_05495_row4_col4\" class=\"data row4 col4\" >1.000000</td>\n",
       "      <td id=\"T_05495_row4_col5\" class=\"data row4 col5\" >0.132017</td>\n",
       "    </tr>\n",
       "    <tr>\n",
       "      <th id=\"T_05495_level0_row5\" class=\"row_heading level0 row5\" >Rating1</th>\n",
       "      <td id=\"T_05495_row5_col0\" class=\"data row5 col0\" >0.009924</td>\n",
       "      <td id=\"T_05495_row5_col1\" class=\"data row5 col1\" >-0.127899</td>\n",
       "      <td id=\"T_05495_row5_col2\" class=\"data row5 col2\" >-0.794871</td>\n",
       "      <td id=\"T_05495_row5_col3\" class=\"data row5 col3\" >-0.126261</td>\n",
       "      <td id=\"T_05495_row5_col4\" class=\"data row5 col4\" >0.132017</td>\n",
       "      <td id=\"T_05495_row5_col5\" class=\"data row5 col5\" >1.000000</td>\n",
       "    </tr>\n",
       "  </tbody>\n",
       "</table>\n"
      ],
      "text/plain": [
       "<pandas.io.formats.style.Styler at 0x145904f58a0>"
      ]
     },
     "execution_count": 122,
     "metadata": {},
     "output_type": "execute_result"
    }
   ],
   "source": [
    "corr = amazon_movies.corr()\n",
    "corr.style.background_gradient(cmap='coolwarm')"
   ]
  },
  {
   "cell_type": "code",
   "execution_count": 123,
   "id": "786472f5",
   "metadata": {},
   "outputs": [
    {
     "data": {
      "text/plain": [
       "Text(0, 0.5, 'AVG IMDB Score')"
      ]
     },
     "execution_count": 123,
     "metadata": {},
     "output_type": "execute_result"
    },
    {
     "data": {
      "image/png": "[encoded data removed]",
      "text/plain": [
       "<Figure size 432x288 with 1 Axes>"
      ]
     },
     "metadata": {
      "needs_background": "light"
     },
     "output_type": "display_data"
    }
   ],
   "source": [
    "amazon_movies_1 = amazon_movies[['genre', 'imdb_score']]\n",
    "amazon_movies_avg = amazon_movies_1.groupby('genre')['imdb_score'].mean()\n",
    "amazon_movies_avg.plot(kind='bar')\n",
    "plt.title('Amazon Movies')\n",
    "plt.xlabel('Genre')\n",
    "plt.ylabel('AVG IMDB Score')"
   ]
  },
  {
   "cell_type": "code",
   "execution_count": 124,
   "id": "f997661d",
   "metadata": {},
   "outputs": [
    {
     "name": "stdout",
     "output_type": "stream",
     "text": [
      "genre\n",
      "1     5.309951\n",
      "2     5.868571\n",
      "3     5.894988\n",
      "4     5.825726\n",
      "5     6.957030\n",
      "6     6.108408\n",
      "7     6.425000\n",
      "8     5.700000\n",
      "9     5.605650\n",
      "10    6.594286\n",
      "11    4.506872\n",
      "12    6.840984\n",
      "14    5.909013\n",
      "15    4.835885\n",
      "16    6.970000\n",
      "17    5.480219\n",
      "18    6.313333\n",
      "19    5.686935\n",
      "Name: imdb_score, dtype: float64\n"
     ]
    }
   ],
   "source": [
    "print(amazon_movies_avg)"
   ]
  },
  {
   "cell_type": "code",
   "execution_count": 125,
   "id": "fa28f72b",
   "metadata": {},
   "outputs": [],
   "source": [
    "netflix_df = streamingdata.loc[streamingdata['platform'] == 'Netflix']"
   ]
  },
  {
   "cell_type": "code",
   "execution_count": 126,
   "id": "c90fdeff",
   "metadata": {},
   "outputs": [
    {
     "data": {
      "text/html": [
       "<div>\n",
       "<style scoped>\n",
       "    .dataframe tbody tr th:only-of-type {\n",
       "        vertical-align: middle;\n",
       "    }\n",
       "\n",
       "    .dataframe tbody tr th {\n",
       "        vertical-align: top;\n",
       "    }\n",
       "\n",
       "    .dataframe thead th {\n",
       "        text-align: right;\n",
       "    }\n",
       "</style>\n",
       "<table border=\"1\" class=\"dataframe\">\n",
       "  <thead>\n",
       "    <tr style=\"text-align: right;\">\n",
       "      <th></th>\n",
       "      <th>platform</th>\n",
       "      <th>id</th>\n",
       "      <th>title</th>\n",
       "      <th>type</th>\n",
       "      <th>description</th>\n",
       "      <th>release_year</th>\n",
       "      <th>age_certification</th>\n",
       "      <th>runtime</th>\n",
       "      <th>genres</th>\n",
       "      <th>production_countries</th>\n",
       "      <th>...</th>\n",
       "      <th>genre4</th>\n",
       "      <th>genre5</th>\n",
       "      <th>genre6</th>\n",
       "      <th>genre7</th>\n",
       "      <th>genre8</th>\n",
       "      <th>genre9</th>\n",
       "      <th>genre10</th>\n",
       "      <th>genre</th>\n",
       "      <th>program_type</th>\n",
       "      <th>Platform</th>\n",
       "    </tr>\n",
       "  </thead>\n",
       "  <tbody>\n",
       "    <tr>\n",
       "      <th>313</th>\n",
       "      <td>Netflix</td>\n",
       "      <td>tm94651</td>\n",
       "      <td>Dostana</td>\n",
       "      <td>MOVIE</td>\n",
       "      <td>Two close friends decide to enter law enforcem...</td>\n",
       "      <td>1980</td>\n",
       "      <td>NaN</td>\n",
       "      <td>161</td>\n",
       "      <td>drama, comedy, crime, romance, action</td>\n",
       "      <td>['IN']</td>\n",
       "      <td>...</td>\n",
       "      <td>romance</td>\n",
       "      <td>action</td>\n",
       "      <td>NaN</td>\n",
       "      <td>NaN</td>\n",
       "      <td>NaN</td>\n",
       "      <td>NaN</td>\n",
       "      <td>NaN</td>\n",
       "      <td>6</td>\n",
       "      <td>2</td>\n",
       "      <td>1</td>\n",
       "    </tr>\n",
       "    <tr>\n",
       "      <th>314</th>\n",
       "      <td>Netflix</td>\n",
       "      <td>tm180542</td>\n",
       "      <td>Once Upon a Time in America</td>\n",
       "      <td>MOVIE</td>\n",
       "      <td>A former Prohibition-era Jewish gangster retur...</td>\n",
       "      <td>1984</td>\n",
       "      <td>R</td>\n",
       "      <td>139</td>\n",
       "      <td>crime, drama, european</td>\n",
       "      <td>['US', 'IT']</td>\n",
       "      <td>...</td>\n",
       "      <td>NaN</td>\n",
       "      <td>NaN</td>\n",
       "      <td>NaN</td>\n",
       "      <td>NaN</td>\n",
       "      <td>NaN</td>\n",
       "      <td>NaN</td>\n",
       "      <td>NaN</td>\n",
       "      <td>4</td>\n",
       "      <td>2</td>\n",
       "      <td>1</td>\n",
       "    </tr>\n",
       "    <tr>\n",
       "      <th>315</th>\n",
       "      <td>Netflix</td>\n",
       "      <td>tm133087</td>\n",
       "      <td>Steel Magnolias</td>\n",
       "      <td>MOVIE</td>\n",
       "      <td>A young beautician, newly arrived in a small L...</td>\n",
       "      <td>1989</td>\n",
       "      <td>PG</td>\n",
       "      <td>119</td>\n",
       "      <td>comedy, drama, romance</td>\n",
       "      <td>['US']</td>\n",
       "      <td>...</td>\n",
       "      <td>NaN</td>\n",
       "      <td>NaN</td>\n",
       "      <td>NaN</td>\n",
       "      <td>NaN</td>\n",
       "      <td>NaN</td>\n",
       "      <td>NaN</td>\n",
       "      <td>NaN</td>\n",
       "      <td>3</td>\n",
       "      <td>2</td>\n",
       "      <td>1</td>\n",
       "    </tr>\n",
       "  </tbody>\n",
       "</table>\n",
       "<p>3 rows × 29 columns</p>\n",
       "</div>"
      ],
      "text/plain": [
       "    platform        id                        title   type  \\\n",
       "313  Netflix   tm94651                      Dostana  MOVIE   \n",
       "314  Netflix  tm180542  Once Upon a Time in America  MOVIE   \n",
       "315  Netflix  tm133087              Steel Magnolias  MOVIE   \n",
       "\n",
       "                                           description  release_year  \\\n",
       "313  Two close friends decide to enter law enforcem...          1980   \n",
       "314  A former Prohibition-era Jewish gangster retur...          1984   \n",
       "315  A young beautician, newly arrived in a small L...          1989   \n",
       "\n",
       "    age_certification  runtime                                 genres  \\\n",
       "313               NaN      161  drama, comedy, crime, romance, action   \n",
       "314                 R      139                 crime, drama, european   \n",
       "315                PG      119                 comedy, drama, romance   \n",
       "\n",
       "    production_countries  ...   genre4  genre5  genre6  genre7  genre8  \\\n",
       "313               ['IN']  ...  romance  action     NaN     NaN     NaN   \n",
       "314         ['US', 'IT']  ...      NaN     NaN     NaN     NaN     NaN   \n",
       "315               ['US']  ...      NaN     NaN     NaN     NaN     NaN   \n",
       "\n",
       "     genre9 genre10 genre program_type Platform  \n",
       "313     NaN     NaN     6            2        1  \n",
       "314     NaN     NaN     4            2        1  \n",
       "315     NaN     NaN     3            2        1  \n",
       "\n",
       "[3 rows x 29 columns]"
      ]
     },
     "execution_count": 126,
     "metadata": {},
     "output_type": "execute_result"
    }
   ],
   "source": [
    "netflix_df.head(3)"
   ]
  },
  {
   "cell_type": "code",
   "execution_count": 127,
   "id": "225ed43f",
   "metadata": {},
   "outputs": [],
   "source": [
    "all_netflix = netflix_df.drop(['title', 'description', 'age_certification', 'genres', \n",
    "                        'production_countries','tmdb_popularity','tmdb_score','program_type',\n",
    "                        'Platform','seasons','genre1', 'genre2', 'genre3', 'genre4', 'genre5', 'genre6', \n",
    "                        'genre7','genre8', 'genre9', 'genre10'], axis=1)"
   ]
  },
  {
   "cell_type": "code",
   "execution_count": 128,
   "id": "b9c24522",
   "metadata": {},
   "outputs": [
    {
     "data": {
      "text/html": [
       "<div>\n",
       "<style scoped>\n",
       "    .dataframe tbody tr th:only-of-type {\n",
       "        vertical-align: middle;\n",
       "    }\n",
       "\n",
       "    .dataframe tbody tr th {\n",
       "        vertical-align: top;\n",
       "    }\n",
       "\n",
       "    .dataframe thead th {\n",
       "        text-align: right;\n",
       "    }\n",
       "</style>\n",
       "<table border=\"1\" class=\"dataframe\">\n",
       "  <thead>\n",
       "    <tr style=\"text-align: right;\">\n",
       "      <th></th>\n",
       "      <th>platform</th>\n",
       "      <th>id</th>\n",
       "      <th>type</th>\n",
       "      <th>release_year</th>\n",
       "      <th>runtime</th>\n",
       "      <th>imdb_id</th>\n",
       "      <th>imdb_score</th>\n",
       "      <th>imdb_votes</th>\n",
       "      <th>genre</th>\n",
       "    </tr>\n",
       "  </thead>\n",
       "  <tbody>\n",
       "    <tr>\n",
       "      <th>313</th>\n",
       "      <td>Netflix</td>\n",
       "      <td>tm94651</td>\n",
       "      <td>MOVIE</td>\n",
       "      <td>1980</td>\n",
       "      <td>161</td>\n",
       "      <td>tt0080653</td>\n",
       "      <td>2.1</td>\n",
       "      <td>25.0</td>\n",
       "      <td>6</td>\n",
       "    </tr>\n",
       "    <tr>\n",
       "      <th>314</th>\n",
       "      <td>Netflix</td>\n",
       "      <td>tm180542</td>\n",
       "      <td>MOVIE</td>\n",
       "      <td>1984</td>\n",
       "      <td>139</td>\n",
       "      <td>tt0087843</td>\n",
       "      <td>8.3</td>\n",
       "      <td>345714.0</td>\n",
       "      <td>4</td>\n",
       "    </tr>\n",
       "    <tr>\n",
       "      <th>315</th>\n",
       "      <td>Netflix</td>\n",
       "      <td>tm133087</td>\n",
       "      <td>MOVIE</td>\n",
       "      <td>1989</td>\n",
       "      <td>119</td>\n",
       "      <td>tt0098384</td>\n",
       "      <td>7.3</td>\n",
       "      <td>54946.0</td>\n",
       "      <td>3</td>\n",
       "    </tr>\n",
       "  </tbody>\n",
       "</table>\n",
       "</div>"
      ],
      "text/plain": [
       "    platform        id   type  release_year  runtime    imdb_id  imdb_score  \\\n",
       "313  Netflix   tm94651  MOVIE          1980      161  tt0080653         2.1   \n",
       "314  Netflix  tm180542  MOVIE          1984      139  tt0087843         8.3   \n",
       "315  Netflix  tm133087  MOVIE          1989      119  tt0098384         7.3   \n",
       "\n",
       "     imdb_votes genre  \n",
       "313        25.0     6  \n",
       "314    345714.0     4  \n",
       "315     54946.0     3  "
      ]
     },
     "execution_count": 128,
     "metadata": {},
     "output_type": "execute_result"
    }
   ],
   "source": [
    "all_netflix.head(3)"
   ]
  },
  {
   "cell_type": "code",
   "execution_count": 129,
   "id": "19b1b192",
   "metadata": {},
   "outputs": [
    {
     "data": {
      "text/plain": [
       "platform          0\n",
       "id                0\n",
       "type              0\n",
       "release_year      0\n",
       "runtime           0\n",
       "imdb_id         403\n",
       "imdb_score      482\n",
       "imdb_votes      498\n",
       "genre            59\n",
       "dtype: int64"
      ]
     },
     "execution_count": 129,
     "metadata": {},
     "output_type": "execute_result"
    }
   ],
   "source": [
    "all_netflix.isnull().sum()"
   ]
  },
  {
   "cell_type": "code",
   "execution_count": 130,
   "id": "da696993",
   "metadata": {},
   "outputs": [
    {
     "data": {
      "text/plain": [
       "platform        5348\n",
       "id              5348\n",
       "type            5348\n",
       "release_year    5348\n",
       "runtime         5348\n",
       "imdb_id         5348\n",
       "imdb_score      5348\n",
       "imdb_votes      5348\n",
       "genre           5348\n",
       "dtype: int64"
      ]
     },
     "execution_count": 130,
     "metadata": {},
     "output_type": "execute_result"
    }
   ],
   "source": [
    "all_netflix.dropna(inplace=True)\n",
    "all_netflix.count()"
   ]
  },
  {
   "cell_type": "code",
   "execution_count": 131,
   "id": "8214defe",
   "metadata": {},
   "outputs": [
    {
     "data": {
      "text/plain": [
       "6.510003739715781"
      ]
     },
     "execution_count": 131,
     "metadata": {},
     "output_type": "execute_result"
    }
   ],
   "source": [
    "#Average IMDB Score for All Netflix titles\n",
    "all_netflix.loc[:, 'imdb_score'].mean()"
   ]
  },
  {
   "cell_type": "code",
   "execution_count": 132,
   "id": "4cb6c4af",
   "metadata": {},
   "outputs": [
    {
     "data": {
      "text/plain": [
       "78.68941660433806"
      ]
     },
     "execution_count": 132,
     "metadata": {},
     "output_type": "execute_result"
    }
   ],
   "source": [
    "#Average runtime for All Netflix titles\n",
    "all_netflix.loc[:, 'runtime'].mean()"
   ]
  },
  {
   "cell_type": "code",
   "execution_count": 133,
   "id": "7767ca81",
   "metadata": {},
   "outputs": [],
   "source": [
    "#recoding score\n",
    "def Rating (series):\n",
    "  if series == \"imdb_score\":\n",
    "    return \"0\"\n",
    "  if series <= 6.4: \n",
    "    return \"Negative\"\n",
    "  if series >= 6.5: \n",
    "    return \"Positive\"\n",
    "all_netflix[\"Rating\"] = all_netflix['imdb_score'].apply(Rating)"
   ]
  },
  {
   "cell_type": "code",
   "execution_count": 134,
   "id": "35867207",
   "metadata": {},
   "outputs": [],
   "source": [
    "def Rating1 (series):\n",
    "  if series == \"Rating\":\n",
    "    return \"0\"\n",
    "  if series == \"Positive\": \n",
    "    return 1\n",
    "  if series == \"Negative\":\n",
    "    return 2\n",
    "all_netflix[\"Rating1\"] = all_netflix[\"Rating\"].apply(Rating1)"
   ]
  },
  {
   "cell_type": "code",
   "execution_count": 135,
   "id": "86570719",
   "metadata": {},
   "outputs": [
    {
     "data": {
      "text/html": [
       "<div>\n",
       "<style scoped>\n",
       "    .dataframe tbody tr th:only-of-type {\n",
       "        vertical-align: middle;\n",
       "    }\n",
       "\n",
       "    .dataframe tbody tr th {\n",
       "        vertical-align: top;\n",
       "    }\n",
       "\n",
       "    .dataframe thead th {\n",
       "        text-align: right;\n",
       "    }\n",
       "</style>\n",
       "<table border=\"1\" class=\"dataframe\">\n",
       "  <thead>\n",
       "    <tr style=\"text-align: right;\">\n",
       "      <th></th>\n",
       "      <th>platform</th>\n",
       "      <th>id</th>\n",
       "      <th>type</th>\n",
       "      <th>release_year</th>\n",
       "      <th>runtime</th>\n",
       "      <th>imdb_id</th>\n",
       "      <th>imdb_score</th>\n",
       "      <th>imdb_votes</th>\n",
       "      <th>genre</th>\n",
       "      <th>Rating</th>\n",
       "      <th>Rating1</th>\n",
       "    </tr>\n",
       "  </thead>\n",
       "  <tbody>\n",
       "    <tr>\n",
       "      <th>313</th>\n",
       "      <td>Netflix</td>\n",
       "      <td>tm94651</td>\n",
       "      <td>MOVIE</td>\n",
       "      <td>1980</td>\n",
       "      <td>161</td>\n",
       "      <td>tt0080653</td>\n",
       "      <td>2.1</td>\n",
       "      <td>25.0</td>\n",
       "      <td>6</td>\n",
       "      <td>Negative</td>\n",
       "      <td>2</td>\n",
       "    </tr>\n",
       "    <tr>\n",
       "      <th>314</th>\n",
       "      <td>Netflix</td>\n",
       "      <td>tm180542</td>\n",
       "      <td>MOVIE</td>\n",
       "      <td>1984</td>\n",
       "      <td>139</td>\n",
       "      <td>tt0087843</td>\n",
       "      <td>8.3</td>\n",
       "      <td>345714.0</td>\n",
       "      <td>4</td>\n",
       "      <td>Positive</td>\n",
       "      <td>1</td>\n",
       "    </tr>\n",
       "    <tr>\n",
       "      <th>315</th>\n",
       "      <td>Netflix</td>\n",
       "      <td>tm133087</td>\n",
       "      <td>MOVIE</td>\n",
       "      <td>1989</td>\n",
       "      <td>119</td>\n",
       "      <td>tt0098384</td>\n",
       "      <td>7.3</td>\n",
       "      <td>54946.0</td>\n",
       "      <td>3</td>\n",
       "      <td>Positive</td>\n",
       "      <td>1</td>\n",
       "    </tr>\n",
       "  </tbody>\n",
       "</table>\n",
       "</div>"
      ],
      "text/plain": [
       "    platform        id   type  release_year  runtime    imdb_id  imdb_score  \\\n",
       "313  Netflix   tm94651  MOVIE          1980      161  tt0080653         2.1   \n",
       "314  Netflix  tm180542  MOVIE          1984      139  tt0087843         8.3   \n",
       "315  Netflix  tm133087  MOVIE          1989      119  tt0098384         7.3   \n",
       "\n",
       "     imdb_votes genre    Rating  Rating1  \n",
       "313        25.0     6  Negative        2  \n",
       "314    345714.0     4  Positive        1  \n",
       "315     54946.0     3  Positive        1  "
      ]
     },
     "execution_count": 135,
     "metadata": {},
     "output_type": "execute_result"
    }
   ],
   "source": [
    "all_netflix.head(3)"
   ]
  },
  {
   "cell_type": "code",
   "execution_count": 136,
   "id": "a5a3a498",
   "metadata": {},
   "outputs": [
    {
     "data": {
      "text/plain": [
       "Rating\n",
       "Negative    2341\n",
       "Positive    3007\n",
       "Name: genre, dtype: int64"
      ]
     },
     "execution_count": 136,
     "metadata": {},
     "output_type": "execute_result"
    }
   ],
   "source": [
    "all_netflix.groupby('Rating')['genre'].count()"
   ]
  },
  {
   "cell_type": "code",
   "execution_count": 137,
   "id": "81555763",
   "metadata": {},
   "outputs": [
    {
     "name": "stdout",
     "output_type": "stream",
     "text": [
      "platform         object\n",
      "id               object\n",
      "type             object\n",
      "release_year      int64\n",
      "runtime           int64\n",
      "imdb_id          object\n",
      "imdb_score      float64\n",
      "imdb_votes      float64\n",
      "genre            object\n",
      "Rating           object\n",
      "Rating1           int64\n",
      "dtype: object\n"
     ]
    }
   ],
   "source": [
    "print(all_netflix.dtypes)"
   ]
  },
  {
   "cell_type": "code",
   "execution_count": 138,
   "id": "f40c56f5",
   "metadata": {},
   "outputs": [
    {
     "name": "stdout",
     "output_type": "stream",
     "text": [
      "platform         object\n",
      "id               object\n",
      "type             object\n",
      "release_year      int64\n",
      "runtime           int64\n",
      "imdb_id          object\n",
      "imdb_score      float64\n",
      "imdb_votes      float64\n",
      "genre             int32\n",
      "Rating           object\n",
      "Rating1           int64\n",
      "dtype: object\n"
     ]
    }
   ],
   "source": [
    "all_netflix['genre'] = all_netflix['genre'].astype(int)\n",
    "print(all_netflix.dtypes)"
   ]
  },
  {
   "cell_type": "code",
   "execution_count": 139,
   "id": "29c324ea",
   "metadata": {},
   "outputs": [
    {
     "data": {
      "text/html": [
       "<style type=\"text/css\">\n",
       "#T_6635f_row0_col0, #T_6635f_row1_col1, #T_6635f_row2_col2, #T_6635f_row3_col3, #T_6635f_row4_col4, #T_6635f_row5_col5 {\n",
       "  background-color: #b40426;\n",
       "  color: #f1f1f1;\n",
       "}\n",
       "#T_6635f_row0_col1, #T_6635f_row0_col3, #T_6635f_row2_col4, #T_6635f_row2_col5, #T_6635f_row3_col0, #T_6635f_row5_col2 {\n",
       "  background-color: #3b4cc0;\n",
       "  color: #f1f1f1;\n",
       "}\n",
       "#T_6635f_row0_col2, #T_6635f_row3_col5 {\n",
       "  background-color: #b6cefa;\n",
       "  color: #000000;\n",
       "}\n",
       "#T_6635f_row0_col4 {\n",
       "  background-color: #4c66d6;\n",
       "  color: #f1f1f1;\n",
       "}\n",
       "#T_6635f_row0_col5 {\n",
       "  background-color: #dcdddd;\n",
       "  color: #000000;\n",
       "}\n",
       "#T_6635f_row1_col0 {\n",
       "  background-color: #4358cb;\n",
       "  color: #f1f1f1;\n",
       "}\n",
       "#T_6635f_row1_col2 {\n",
       "  background-color: #b3cdfb;\n",
       "  color: #000000;\n",
       "}\n",
       "#T_6635f_row1_col3 {\n",
       "  background-color: #9abbff;\n",
       "  color: #000000;\n",
       "}\n",
       "#T_6635f_row1_col4 {\n",
       "  background-color: #7a9df8;\n",
       "  color: #f1f1f1;\n",
       "}\n",
       "#T_6635f_row1_col5 {\n",
       "  background-color: #e1dad6;\n",
       "  color: #000000;\n",
       "}\n",
       "#T_6635f_row2_col0 {\n",
       "  background-color: #4e68d8;\n",
       "  color: #f1f1f1;\n",
       "}\n",
       "#T_6635f_row2_col1 {\n",
       "  background-color: #4055c8;\n",
       "  color: #f1f1f1;\n",
       "}\n",
       "#T_6635f_row2_col3 {\n",
       "  background-color: #a9c6fd;\n",
       "  color: #000000;\n",
       "}\n",
       "#T_6635f_row3_col1 {\n",
       "  background-color: #93b5fe;\n",
       "  color: #000000;\n",
       "}\n",
       "#T_6635f_row3_col2 {\n",
       "  background-color: #e9d5cb;\n",
       "  color: #000000;\n",
       "}\n",
       "#T_6635f_row3_col4, #T_6635f_row5_col4 {\n",
       "  background-color: #5d7ce6;\n",
       "  color: #f1f1f1;\n",
       "}\n",
       "#T_6635f_row4_col0 {\n",
       "  background-color: #7396f5;\n",
       "  color: #f1f1f1;\n",
       "}\n",
       "#T_6635f_row4_col1 {\n",
       "  background-color: #96b7ff;\n",
       "  color: #000000;\n",
       "}\n",
       "#T_6635f_row4_col2 {\n",
       "  background-color: #c3d5f4;\n",
       "  color: #000000;\n",
       "}\n",
       "#T_6635f_row4_col3 {\n",
       "  background-color: #82a6fb;\n",
       "  color: #f1f1f1;\n",
       "}\n",
       "#T_6635f_row4_col5 {\n",
       "  background-color: #d6dce4;\n",
       "  color: #000000;\n",
       "}\n",
       "#T_6635f_row5_col0 {\n",
       "  background-color: #8fb1fe;\n",
       "  color: #000000;\n",
       "}\n",
       "#T_6635f_row5_col1 {\n",
       "  background-color: #92b4fe;\n",
       "  color: #000000;\n",
       "}\n",
       "#T_6635f_row5_col3 {\n",
       "  background-color: #4f69d9;\n",
       "  color: #f1f1f1;\n",
       "}\n",
       "</style>\n",
       "<table id=\"T_6635f\">\n",
       "  <thead>\n",
       "    <tr>\n",
       "      <th class=\"blank level0\" >&nbsp;</th>\n",
       "      <th id=\"T_6635f_level0_col0\" class=\"col_heading level0 col0\" >release_year</th>\n",
       "      <th id=\"T_6635f_level0_col1\" class=\"col_heading level0 col1\" >runtime</th>\n",
       "      <th id=\"T_6635f_level0_col2\" class=\"col_heading level0 col2\" >imdb_score</th>\n",
       "      <th id=\"T_6635f_level0_col3\" class=\"col_heading level0 col3\" >imdb_votes</th>\n",
       "      <th id=\"T_6635f_level0_col4\" class=\"col_heading level0 col4\" >genre</th>\n",
       "      <th id=\"T_6635f_level0_col5\" class=\"col_heading level0 col5\" >Rating1</th>\n",
       "    </tr>\n",
       "  </thead>\n",
       "  <tbody>\n",
       "    <tr>\n",
       "      <th id=\"T_6635f_level0_row0\" class=\"row_heading level0 row0\" >release_year</th>\n",
       "      <td id=\"T_6635f_row0_col0\" class=\"data row0 col0\" >1.000000</td>\n",
       "      <td id=\"T_6635f_row0_col1\" class=\"data row0 col1\" >-0.173566</td>\n",
       "      <td id=\"T_6635f_row0_col2\" class=\"data row0 col2\" >-0.129778</td>\n",
       "      <td id=\"T_6635f_row0_col3\" class=\"data row0 col3\" >-0.208782</td>\n",
       "      <td id=\"T_6635f_row0_col4\" class=\"data row0 col4\" >0.004470</td>\n",
       "      <td id=\"T_6635f_row0_col5\" class=\"data row0 col5\" >0.099467</td>\n",
       "    </tr>\n",
       "    <tr>\n",
       "      <th id=\"T_6635f_level0_row1\" class=\"row_heading level0 row1\" >runtime</th>\n",
       "      <td id=\"T_6635f_row1_col0\" class=\"data row1 col0\" >-0.173566</td>\n",
       "      <td id=\"T_6635f_row1_col1\" class=\"data row1 col1\" >1.000000</td>\n",
       "      <td id=\"T_6635f_row1_col2\" class=\"data row1 col2\" >-0.147113</td>\n",
       "      <td id=\"T_6635f_row1_col3\" class=\"data row1 col3\" >0.139670</td>\n",
       "      <td id=\"T_6635f_row1_col4\" class=\"data row1 col4\" >0.147471</td>\n",
       "      <td id=\"T_6635f_row1_col5\" class=\"data row1 col5\" >0.134918</td>\n",
       "    </tr>\n",
       "    <tr>\n",
       "      <th id=\"T_6635f_level0_row2\" class=\"row_heading level0 row2\" >imdb_score</th>\n",
       "      <td id=\"T_6635f_row2_col0\" class=\"data row2 col0\" >-0.129778</td>\n",
       "      <td id=\"T_6635f_row2_col1\" class=\"data row2 col1\" >-0.147113</td>\n",
       "      <td id=\"T_6635f_row2_col2\" class=\"data row2 col2\" >1.000000</td>\n",
       "      <td id=\"T_6635f_row2_col3\" class=\"data row2 col3\" >0.190941</td>\n",
       "      <td id=\"T_6635f_row2_col4\" class=\"data row2 col4\" >-0.060307</td>\n",
       "      <td id=\"T_6635f_row2_col5\" class=\"data row2 col5\" >-0.791038</td>\n",
       "    </tr>\n",
       "    <tr>\n",
       "      <th id=\"T_6635f_level0_row3\" class=\"row_heading level0 row3\" >imdb_votes</th>\n",
       "      <td id=\"T_6635f_row3_col0\" class=\"data row3 col0\" >-0.208782</td>\n",
       "      <td id=\"T_6635f_row3_col1\" class=\"data row3 col1\" >0.139670</td>\n",
       "      <td id=\"T_6635f_row3_col2\" class=\"data row3 col2\" >0.190941</td>\n",
       "      <td id=\"T_6635f_row3_col3\" class=\"data row3 col3\" >1.000000</td>\n",
       "      <td id=\"T_6635f_row3_col4\" class=\"data row3 col4\" >0.058725</td>\n",
       "      <td id=\"T_6635f_row3_col5\" class=\"data row3 col5\" >-0.128315</td>\n",
       "    </tr>\n",
       "    <tr>\n",
       "      <th id=\"T_6635f_level0_row4\" class=\"row_heading level0 row4\" >genre</th>\n",
       "      <td id=\"T_6635f_row4_col0\" class=\"data row4 col0\" >0.004470</td>\n",
       "      <td id=\"T_6635f_row4_col1\" class=\"data row4 col1\" >0.147471</td>\n",
       "      <td id=\"T_6635f_row4_col2\" class=\"data row4 col2\" >-0.060307</td>\n",
       "      <td id=\"T_6635f_row4_col3\" class=\"data row4 col3\" >0.058725</td>\n",
       "      <td id=\"T_6635f_row4_col4\" class=\"data row4 col4\" >1.000000</td>\n",
       "      <td id=\"T_6635f_row4_col5\" class=\"data row4 col5\" >0.059064</td>\n",
       "    </tr>\n",
       "    <tr>\n",
       "      <th id=\"T_6635f_level0_row5\" class=\"row_heading level0 row5\" >Rating1</th>\n",
       "      <td id=\"T_6635f_row5_col0\" class=\"data row5 col0\" >0.099467</td>\n",
       "      <td id=\"T_6635f_row5_col1\" class=\"data row5 col1\" >0.134918</td>\n",
       "      <td id=\"T_6635f_row5_col2\" class=\"data row5 col2\" >-0.791038</td>\n",
       "      <td id=\"T_6635f_row5_col3\" class=\"data row5 col3\" >-0.128315</td>\n",
       "      <td id=\"T_6635f_row5_col4\" class=\"data row5 col4\" >0.059064</td>\n",
       "      <td id=\"T_6635f_row5_col5\" class=\"data row5 col5\" >1.000000</td>\n",
       "    </tr>\n",
       "  </tbody>\n",
       "</table>\n"
      ],
      "text/plain": [
       "<pandas.io.formats.style.Styler at 0x145907705b0>"
      ]
     },
     "execution_count": 139,
     "metadata": {},
     "output_type": "execute_result"
    }
   ],
   "source": [
    "corr = all_netflix.corr()\n",
    "corr.style.background_gradient(cmap='coolwarm')"
   ]
  },
  {
   "cell_type": "code",
   "execution_count": 140,
   "id": "5bfd8736",
   "metadata": {},
   "outputs": [
    {
     "data": {
      "text/plain": [
       "Text(0, 0.5, 'AVG IMDB Score')"
      ]
     },
     "execution_count": 140,
     "metadata": {},
     "output_type": "execute_result"
    },
    {
     "data": {
      "image/png": "[encoded data removed]",
      "text/plain": [
       "<Figure size 432x288 with 1 Axes>"
      ]
     },
     "metadata": {
      "needs_background": "light"
     },
     "output_type": "display_data"
    }
   ],
   "source": [
    "all_netflix_1 = all_netflix[['genre', 'imdb_score']]\n",
    "all_netflix_avg = all_netflix_1.groupby('genre')['imdb_score'].mean()\n",
    "all_netflix_avg.plot(kind='bar')\n",
    "plt.title('Netflix Shows and Movies')\n",
    "plt.xlabel('Genre')\n",
    "plt.ylabel('AVG IMDB Score')"
   ]
  },
  {
   "cell_type": "code",
   "execution_count": 141,
   "id": "79c35f3a",
   "metadata": {},
   "outputs": [
    {
     "name": "stdout",
     "output_type": "stream",
     "text": [
      "genre\n",
      "1     6.286431\n",
      "2     6.451482\n",
      "3     6.326792\n",
      "4     6.730973\n",
      "5     7.068641\n",
      "6     6.726002\n",
      "9     6.232500\n",
      "10    6.685714\n",
      "11    5.445794\n",
      "12    6.651020\n",
      "13    6.324074\n",
      "14    6.070852\n",
      "15    6.685463\n",
      "16    6.675000\n",
      "17    6.122129\n",
      "18    7.028571\n",
      "19    6.233333\n",
      "Name: imdb_score, dtype: float64\n"
     ]
    }
   ],
   "source": [
    "print(all_netflix_avg)"
   ]
  },
  {
   "cell_type": "code",
   "execution_count": 142,
   "id": "4c7a4441",
   "metadata": {},
   "outputs": [],
   "source": [
    "netflix_movies_df = netflix_df.loc[netflix_df['type'] == 'MOVIE']"
   ]
  },
  {
   "cell_type": "code",
   "execution_count": 143,
   "id": "7f3a9439",
   "metadata": {},
   "outputs": [
    {
     "data": {
      "text/html": [
       "<div>\n",
       "<style scoped>\n",
       "    .dataframe tbody tr th:only-of-type {\n",
       "        vertical-align: middle;\n",
       "    }\n",
       "\n",
       "    .dataframe tbody tr th {\n",
       "        vertical-align: top;\n",
       "    }\n",
       "\n",
       "    .dataframe thead th {\n",
       "        text-align: right;\n",
       "    }\n",
       "</style>\n",
       "<table border=\"1\" class=\"dataframe\">\n",
       "  <thead>\n",
       "    <tr style=\"text-align: right;\">\n",
       "      <th></th>\n",
       "      <th>platform</th>\n",
       "      <th>id</th>\n",
       "      <th>title</th>\n",
       "      <th>type</th>\n",
       "      <th>description</th>\n",
       "      <th>release_year</th>\n",
       "      <th>age_certification</th>\n",
       "      <th>runtime</th>\n",
       "      <th>genres</th>\n",
       "      <th>production_countries</th>\n",
       "      <th>...</th>\n",
       "      <th>genre4</th>\n",
       "      <th>genre5</th>\n",
       "      <th>genre6</th>\n",
       "      <th>genre7</th>\n",
       "      <th>genre8</th>\n",
       "      <th>genre9</th>\n",
       "      <th>genre10</th>\n",
       "      <th>genre</th>\n",
       "      <th>program_type</th>\n",
       "      <th>Platform</th>\n",
       "    </tr>\n",
       "  </thead>\n",
       "  <tbody>\n",
       "    <tr>\n",
       "      <th>313</th>\n",
       "      <td>Netflix</td>\n",
       "      <td>tm94651</td>\n",
       "      <td>Dostana</td>\n",
       "      <td>MOVIE</td>\n",
       "      <td>Two close friends decide to enter law enforcem...</td>\n",
       "      <td>1980</td>\n",
       "      <td>NaN</td>\n",
       "      <td>161</td>\n",
       "      <td>drama, comedy, crime, romance, action</td>\n",
       "      <td>['IN']</td>\n",
       "      <td>...</td>\n",
       "      <td>romance</td>\n",
       "      <td>action</td>\n",
       "      <td>NaN</td>\n",
       "      <td>NaN</td>\n",
       "      <td>NaN</td>\n",
       "      <td>NaN</td>\n",
       "      <td>NaN</td>\n",
       "      <td>6</td>\n",
       "      <td>2</td>\n",
       "      <td>1</td>\n",
       "    </tr>\n",
       "    <tr>\n",
       "      <th>314</th>\n",
       "      <td>Netflix</td>\n",
       "      <td>tm180542</td>\n",
       "      <td>Once Upon a Time in America</td>\n",
       "      <td>MOVIE</td>\n",
       "      <td>A former Prohibition-era Jewish gangster retur...</td>\n",
       "      <td>1984</td>\n",
       "      <td>R</td>\n",
       "      <td>139</td>\n",
       "      <td>crime, drama, european</td>\n",
       "      <td>['US', 'IT']</td>\n",
       "      <td>...</td>\n",
       "      <td>NaN</td>\n",
       "      <td>NaN</td>\n",
       "      <td>NaN</td>\n",
       "      <td>NaN</td>\n",
       "      <td>NaN</td>\n",
       "      <td>NaN</td>\n",
       "      <td>NaN</td>\n",
       "      <td>4</td>\n",
       "      <td>2</td>\n",
       "      <td>1</td>\n",
       "    </tr>\n",
       "    <tr>\n",
       "      <th>315</th>\n",
       "      <td>Netflix</td>\n",
       "      <td>tm133087</td>\n",
       "      <td>Steel Magnolias</td>\n",
       "      <td>MOVIE</td>\n",
       "      <td>A young beautician, newly arrived in a small L...</td>\n",
       "      <td>1989</td>\n",
       "      <td>PG</td>\n",
       "      <td>119</td>\n",
       "      <td>comedy, drama, romance</td>\n",
       "      <td>['US']</td>\n",
       "      <td>...</td>\n",
       "      <td>NaN</td>\n",
       "      <td>NaN</td>\n",
       "      <td>NaN</td>\n",
       "      <td>NaN</td>\n",
       "      <td>NaN</td>\n",
       "      <td>NaN</td>\n",
       "      <td>NaN</td>\n",
       "      <td>3</td>\n",
       "      <td>2</td>\n",
       "      <td>1</td>\n",
       "    </tr>\n",
       "  </tbody>\n",
       "</table>\n",
       "<p>3 rows × 29 columns</p>\n",
       "</div>"
      ],
      "text/plain": [
       "    platform        id                        title   type  \\\n",
       "313  Netflix   tm94651                      Dostana  MOVIE   \n",
       "314  Netflix  tm180542  Once Upon a Time in America  MOVIE   \n",
       "315  Netflix  tm133087              Steel Magnolias  MOVIE   \n",
       "\n",
       "                                           description  release_year  \\\n",
       "313  Two close friends decide to enter law enforcem...          1980   \n",
       "314  A former Prohibition-era Jewish gangster retur...          1984   \n",
       "315  A young beautician, newly arrived in a small L...          1989   \n",
       "\n",
       "    age_certification  runtime                                 genres  \\\n",
       "313               NaN      161  drama, comedy, crime, romance, action   \n",
       "314                 R      139                 crime, drama, european   \n",
       "315                PG      119                 comedy, drama, romance   \n",
       "\n",
       "    production_countries  ...   genre4  genre5  genre6  genre7  genre8  \\\n",
       "313               ['IN']  ...  romance  action     NaN     NaN     NaN   \n",
       "314         ['US', 'IT']  ...      NaN     NaN     NaN     NaN     NaN   \n",
       "315               ['US']  ...      NaN     NaN     NaN     NaN     NaN   \n",
       "\n",
       "     genre9 genre10 genre program_type Platform  \n",
       "313     NaN     NaN     6            2        1  \n",
       "314     NaN     NaN     4            2        1  \n",
       "315     NaN     NaN     3            2        1  \n",
       "\n",
       "[3 rows x 29 columns]"
      ]
     },
     "execution_count": 143,
     "metadata": {},
     "output_type": "execute_result"
    }
   ],
   "source": [
    "netflix_movies_df.head(3)"
   ]
  },
  {
   "cell_type": "code",
   "execution_count": 144,
   "id": "38c2e50f",
   "metadata": {},
   "outputs": [],
   "source": [
    "netflix_movies = netflix_movies_df.drop(['title', 'type','description', 'age_certification', 'genres', \n",
    "                        'production_countries','seasons','tmdb_popularity','tmdb_score','program_type',\n",
    "                        'Platform','genre1', 'genre2', 'genre3', 'genre4', 'genre5', 'genre6', \n",
    "                        'genre7','genre8', 'genre9', 'genre10'], axis=1)"
   ]
  },
  {
   "cell_type": "code",
   "execution_count": 145,
   "id": "dcb3f551",
   "metadata": {},
   "outputs": [
    {
     "data": {
      "text/html": [
       "<div>\n",
       "<style scoped>\n",
       "    .dataframe tbody tr th:only-of-type {\n",
       "        vertical-align: middle;\n",
       "    }\n",
       "\n",
       "    .dataframe tbody tr th {\n",
       "        vertical-align: top;\n",
       "    }\n",
       "\n",
       "    .dataframe thead th {\n",
       "        text-align: right;\n",
       "    }\n",
       "</style>\n",
       "<table border=\"1\" class=\"dataframe\">\n",
       "  <thead>\n",
       "    <tr style=\"text-align: right;\">\n",
       "      <th></th>\n",
       "      <th>platform</th>\n",
       "      <th>id</th>\n",
       "      <th>release_year</th>\n",
       "      <th>runtime</th>\n",
       "      <th>imdb_id</th>\n",
       "      <th>imdb_score</th>\n",
       "      <th>imdb_votes</th>\n",
       "      <th>genre</th>\n",
       "    </tr>\n",
       "  </thead>\n",
       "  <tbody>\n",
       "    <tr>\n",
       "      <th>313</th>\n",
       "      <td>Netflix</td>\n",
       "      <td>tm94651</td>\n",
       "      <td>1980</td>\n",
       "      <td>161</td>\n",
       "      <td>tt0080653</td>\n",
       "      <td>2.1</td>\n",
       "      <td>25.0</td>\n",
       "      <td>6</td>\n",
       "    </tr>\n",
       "    <tr>\n",
       "      <th>314</th>\n",
       "      <td>Netflix</td>\n",
       "      <td>tm180542</td>\n",
       "      <td>1984</td>\n",
       "      <td>139</td>\n",
       "      <td>tt0087843</td>\n",
       "      <td>8.3</td>\n",
       "      <td>345714.0</td>\n",
       "      <td>4</td>\n",
       "    </tr>\n",
       "    <tr>\n",
       "      <th>315</th>\n",
       "      <td>Netflix</td>\n",
       "      <td>tm133087</td>\n",
       "      <td>1989</td>\n",
       "      <td>119</td>\n",
       "      <td>tt0098384</td>\n",
       "      <td>7.3</td>\n",
       "      <td>54946.0</td>\n",
       "      <td>3</td>\n",
       "    </tr>\n",
       "  </tbody>\n",
       "</table>\n",
       "</div>"
      ],
      "text/plain": [
       "    platform        id  release_year  runtime    imdb_id  imdb_score  \\\n",
       "313  Netflix   tm94651          1980      161  tt0080653         2.1   \n",
       "314  Netflix  tm180542          1984      139  tt0087843         8.3   \n",
       "315  Netflix  tm133087          1989      119  tt0098384         7.3   \n",
       "\n",
       "     imdb_votes genre  \n",
       "313        25.0     6  \n",
       "314    345714.0     4  \n",
       "315     54946.0     3  "
      ]
     },
     "execution_count": 145,
     "metadata": {},
     "output_type": "execute_result"
    }
   ],
   "source": [
    "netflix_movies.head(3)"
   ]
  },
  {
   "cell_type": "code",
   "execution_count": 146,
   "id": "f561a5de",
   "metadata": {},
   "outputs": [
    {
     "data": {
      "text/plain": [
       "platform          0\n",
       "id                0\n",
       "release_year      0\n",
       "runtime           0\n",
       "imdb_id         262\n",
       "imdb_score      315\n",
       "imdb_votes      331\n",
       "genre            34\n",
       "dtype: int64"
      ]
     },
     "execution_count": 146,
     "metadata": {},
     "output_type": "execute_result"
    }
   ],
   "source": [
    "netflix_movies.isnull().sum()"
   ]
  },
  {
   "cell_type": "code",
   "execution_count": 147,
   "id": "f5957313",
   "metadata": {},
   "outputs": [],
   "source": [
    "netflix_movies.dropna(inplace=True)"
   ]
  },
  {
   "cell_type": "code",
   "execution_count": 148,
   "id": "9f0f9afa",
   "metadata": {},
   "outputs": [
    {
     "data": {
      "text/plain": [
       "platform        3413\n",
       "id              3413\n",
       "release_year    3413\n",
       "runtime         3413\n",
       "imdb_id         3413\n",
       "imdb_score      3413\n",
       "imdb_votes      3413\n",
       "genre           3413\n",
       "dtype: int64"
      ]
     },
     "execution_count": 148,
     "metadata": {},
     "output_type": "execute_result"
    }
   ],
   "source": [
    "netflix_movies.count()"
   ]
  },
  {
   "cell_type": "code",
   "execution_count": 149,
   "id": "f758d125",
   "metadata": {},
   "outputs": [
    {
     "data": {
      "text/plain": [
       "6.2451215939056555"
      ]
     },
     "execution_count": 149,
     "metadata": {},
     "output_type": "execute_result"
    }
   ],
   "source": [
    "#Average IMDB Score for Netflix Movies\n",
    "netflix_movies.loc[:, 'imdb_score'].mean()"
   ]
  },
  {
   "cell_type": "code",
   "execution_count": 150,
   "id": "7ddb981c",
   "metadata": {},
   "outputs": [
    {
     "data": {
      "text/plain": [
       "101.33548198066218"
      ]
     },
     "execution_count": 150,
     "metadata": {},
     "output_type": "execute_result"
    }
   ],
   "source": [
    "#Average runtime for Netflix movies\n",
    "netflix_movies.loc[:, 'runtime'].mean()"
   ]
  },
  {
   "cell_type": "code",
   "execution_count": 151,
   "id": "8915dfd3",
   "metadata": {},
   "outputs": [],
   "source": [
    "#recoding score\n",
    "def Rating (series):\n",
    "  if series == \"imdb_score\":\n",
    "    return \"0\"\n",
    "  if series <= 6.1: \n",
    "    return \"Negative\"\n",
    "  if series >= 6.2: \n",
    "    return \"Positive\"\n",
    "netflix_movies[\"Rating\"] = netflix_movies['imdb_score'].apply(Rating)"
   ]
  },
  {
   "cell_type": "code",
   "execution_count": 152,
   "id": "1248d390",
   "metadata": {},
   "outputs": [],
   "source": [
    "def Rating1 (series):\n",
    "  if series == \"Rating\":\n",
    "    return \"0\"\n",
    "  if series == \"Positive\": \n",
    "    return 1\n",
    "  if series == \"Negative\":\n",
    "    return 2\n",
    "netflix_movies[\"Rating1\"] = netflix_movies[\"Rating\"].apply(Rating1)"
   ]
  },
  {
   "cell_type": "code",
   "execution_count": 153,
   "id": "cee9b69b",
   "metadata": {},
   "outputs": [
    {
     "data": {
      "text/html": [
       "<div>\n",
       "<style scoped>\n",
       "    .dataframe tbody tr th:only-of-type {\n",
       "        vertical-align: middle;\n",
       "    }\n",
       "\n",
       "    .dataframe tbody tr th {\n",
       "        vertical-align: top;\n",
       "    }\n",
       "\n",
       "    .dataframe thead th {\n",
       "        text-align: right;\n",
       "    }\n",
       "</style>\n",
       "<table border=\"1\" class=\"dataframe\">\n",
       "  <thead>\n",
       "    <tr style=\"text-align: right;\">\n",
       "      <th></th>\n",
       "      <th>platform</th>\n",
       "      <th>id</th>\n",
       "      <th>release_year</th>\n",
       "      <th>runtime</th>\n",
       "      <th>imdb_id</th>\n",
       "      <th>imdb_score</th>\n",
       "      <th>imdb_votes</th>\n",
       "      <th>genre</th>\n",
       "      <th>Rating</th>\n",
       "      <th>Rating1</th>\n",
       "    </tr>\n",
       "  </thead>\n",
       "  <tbody>\n",
       "    <tr>\n",
       "      <th>313</th>\n",
       "      <td>Netflix</td>\n",
       "      <td>tm94651</td>\n",
       "      <td>1980</td>\n",
       "      <td>161</td>\n",
       "      <td>tt0080653</td>\n",
       "      <td>2.1</td>\n",
       "      <td>25.0</td>\n",
       "      <td>6</td>\n",
       "      <td>Negative</td>\n",
       "      <td>2</td>\n",
       "    </tr>\n",
       "    <tr>\n",
       "      <th>314</th>\n",
       "      <td>Netflix</td>\n",
       "      <td>tm180542</td>\n",
       "      <td>1984</td>\n",
       "      <td>139</td>\n",
       "      <td>tt0087843</td>\n",
       "      <td>8.3</td>\n",
       "      <td>345714.0</td>\n",
       "      <td>4</td>\n",
       "      <td>Positive</td>\n",
       "      <td>1</td>\n",
       "    </tr>\n",
       "    <tr>\n",
       "      <th>315</th>\n",
       "      <td>Netflix</td>\n",
       "      <td>tm133087</td>\n",
       "      <td>1989</td>\n",
       "      <td>119</td>\n",
       "      <td>tt0098384</td>\n",
       "      <td>7.3</td>\n",
       "      <td>54946.0</td>\n",
       "      <td>3</td>\n",
       "      <td>Positive</td>\n",
       "      <td>1</td>\n",
       "    </tr>\n",
       "  </tbody>\n",
       "</table>\n",
       "</div>"
      ],
      "text/plain": [
       "    platform        id  release_year  runtime    imdb_id  imdb_score  \\\n",
       "313  Netflix   tm94651          1980      161  tt0080653         2.1   \n",
       "314  Netflix  tm180542          1984      139  tt0087843         8.3   \n",
       "315  Netflix  tm133087          1989      119  tt0098384         7.3   \n",
       "\n",
       "     imdb_votes genre    Rating  Rating1  \n",
       "313        25.0     6  Negative        2  \n",
       "314    345714.0     4  Positive        1  \n",
       "315     54946.0     3  Positive        1  "
      ]
     },
     "execution_count": 153,
     "metadata": {},
     "output_type": "execute_result"
    }
   ],
   "source": [
    "netflix_movies.head(3)"
   ]
  },
  {
   "cell_type": "code",
   "execution_count": 154,
   "id": "79d35b60",
   "metadata": {},
   "outputs": [
    {
     "data": {
      "text/plain": [
       "Rating\n",
       "Negative    1442\n",
       "Positive    1971\n",
       "Name: genre, dtype: int64"
      ]
     },
     "execution_count": 154,
     "metadata": {},
     "output_type": "execute_result"
    }
   ],
   "source": [
    "netflix_movies.groupby('Rating')['genre'].count()"
   ]
  },
  {
   "cell_type": "code",
   "execution_count": 155,
   "id": "d70fc2c0",
   "metadata": {},
   "outputs": [
    {
     "name": "stdout",
     "output_type": "stream",
     "text": [
      "platform         object\n",
      "id               object\n",
      "release_year      int64\n",
      "runtime           int64\n",
      "imdb_id          object\n",
      "imdb_score      float64\n",
      "imdb_votes      float64\n",
      "genre            object\n",
      "Rating           object\n",
      "Rating1           int64\n",
      "dtype: object\n"
     ]
    }
   ],
   "source": [
    "print(netflix_movies.dtypes)"
   ]
  },
  {
   "cell_type": "code",
   "execution_count": 156,
   "id": "8eee9f40",
   "metadata": {},
   "outputs": [
    {
     "name": "stdout",
     "output_type": "stream",
     "text": [
      "platform         object\n",
      "id               object\n",
      "release_year      int64\n",
      "runtime           int64\n",
      "imdb_id          object\n",
      "imdb_score      float64\n",
      "imdb_votes      float64\n",
      "genre             int32\n",
      "Rating           object\n",
      "Rating1           int64\n",
      "dtype: object\n"
     ]
    }
   ],
   "source": [
    "netflix_movies['genre'] = netflix_movies['genre'].astype(int)\n",
    "print(netflix_movies.dtypes)"
   ]
  },
  {
   "cell_type": "code",
   "execution_count": 157,
   "id": "b0f3c320",
   "metadata": {},
   "outputs": [
    {
     "data": {
      "text/html": [
       "<style type=\"text/css\">\n",
       "#T_3756b_row0_col0, #T_3756b_row1_col1, #T_3756b_row2_col2, #T_3756b_row3_col3, #T_3756b_row4_col4, #T_3756b_row5_col5 {\n",
       "  background-color: #b40426;\n",
       "  color: #f1f1f1;\n",
       "}\n",
       "#T_3756b_row0_col1, #T_3756b_row0_col3, #T_3756b_row2_col4, #T_3756b_row2_col5, #T_3756b_row3_col0, #T_3756b_row5_col2 {\n",
       "  background-color: #3b4cc0;\n",
       "  color: #f1f1f1;\n",
       "}\n",
       "#T_3756b_row0_col2 {\n",
       "  background-color: #adc9fd;\n",
       "  color: #000000;\n",
       "}\n",
       "#T_3756b_row0_col4 {\n",
       "  background-color: #4961d2;\n",
       "  color: #f1f1f1;\n",
       "}\n",
       "#T_3756b_row0_col5 {\n",
       "  background-color: #e2dad5;\n",
       "  color: #000000;\n",
       "}\n",
       "#T_3756b_row1_col0 {\n",
       "  background-color: #3d50c3;\n",
       "  color: #f1f1f1;\n",
       "}\n",
       "#T_3756b_row1_col2 {\n",
       "  background-color: #dfdbd9;\n",
       "  color: #000000;\n",
       "}\n",
       "#T_3756b_row1_col3 {\n",
       "  background-color: #a9c6fd;\n",
       "  color: #000000;\n",
       "}\n",
       "#T_3756b_row1_col4 {\n",
       "  background-color: #8db0fe;\n",
       "  color: #000000;\n",
       "}\n",
       "#T_3756b_row1_col5 {\n",
       "  background-color: #bcd2f7;\n",
       "  color: #000000;\n",
       "}\n",
       "#T_3756b_row2_col0 {\n",
       "  background-color: #445acc;\n",
       "  color: #f1f1f1;\n",
       "}\n",
       "#T_3756b_row2_col1 {\n",
       "  background-color: #94b6ff;\n",
       "  color: #000000;\n",
       "}\n",
       "#T_3756b_row2_col3 {\n",
       "  background-color: #b1cbfc;\n",
       "  color: #000000;\n",
       "}\n",
       "#T_3756b_row3_col1 {\n",
       "  background-color: #a6c4fe;\n",
       "  color: #000000;\n",
       "}\n",
       "#T_3756b_row3_col2 {\n",
       "  background-color: #ebd3c6;\n",
       "  color: #000000;\n",
       "}\n",
       "#T_3756b_row3_col4 {\n",
       "  background-color: #6180e9;\n",
       "  color: #f1f1f1;\n",
       "}\n",
       "#T_3756b_row3_col5 {\n",
       "  background-color: #b5cdfa;\n",
       "  color: #000000;\n",
       "}\n",
       "#T_3756b_row4_col0 {\n",
       "  background-color: #6e90f2;\n",
       "  color: #f1f1f1;\n",
       "}\n",
       "#T_3756b_row4_col1 {\n",
       "  background-color: #abc8fd;\n",
       "  color: #000000;\n",
       "}\n",
       "#T_3756b_row4_col2 {\n",
       "  background-color: #c1d4f4;\n",
       "  color: #000000;\n",
       "}\n",
       "#T_3756b_row4_col3 {\n",
       "  background-color: #86a9fc;\n",
       "  color: #f1f1f1;\n",
       "}\n",
       "#T_3756b_row4_col5 {\n",
       "  background-color: #d7dce3;\n",
       "  color: #000000;\n",
       "}\n",
       "#T_3756b_row5_col0 {\n",
       "  background-color: #9dbdff;\n",
       "  color: #000000;\n",
       "}\n",
       "#T_3756b_row5_col1 {\n",
       "  background-color: #5673e0;\n",
       "  color: #f1f1f1;\n",
       "}\n",
       "#T_3756b_row5_col3 {\n",
       "  background-color: #4e68d8;\n",
       "  color: #f1f1f1;\n",
       "}\n",
       "#T_3756b_row5_col4 {\n",
       "  background-color: #6282ea;\n",
       "  color: #f1f1f1;\n",
       "}\n",
       "</style>\n",
       "<table id=\"T_3756b\">\n",
       "  <thead>\n",
       "    <tr>\n",
       "      <th class=\"blank level0\" >&nbsp;</th>\n",
       "      <th id=\"T_3756b_level0_col0\" class=\"col_heading level0 col0\" >release_year</th>\n",
       "      <th id=\"T_3756b_level0_col1\" class=\"col_heading level0 col1\" >runtime</th>\n",
       "      <th id=\"T_3756b_level0_col2\" class=\"col_heading level0 col2\" >imdb_score</th>\n",
       "      <th id=\"T_3756b_level0_col3\" class=\"col_heading level0 col3\" >imdb_votes</th>\n",
       "      <th id=\"T_3756b_level0_col4\" class=\"col_heading level0 col4\" >genre</th>\n",
       "      <th id=\"T_3756b_level0_col5\" class=\"col_heading level0 col5\" >Rating1</th>\n",
       "    </tr>\n",
       "  </thead>\n",
       "  <tbody>\n",
       "    <tr>\n",
       "      <th id=\"T_3756b_level0_row0\" class=\"row_heading level0 row0\" >release_year</th>\n",
       "      <td id=\"T_3756b_row0_col0\" class=\"data row0 col0\" >1.000000</td>\n",
       "      <td id=\"T_3756b_row0_col1\" class=\"data row0 col1\" >-0.206251</td>\n",
       "      <td id=\"T_3756b_row0_col2\" class=\"data row0 col2\" >-0.179198</td>\n",
       "      <td id=\"T_3756b_row0_col3\" class=\"data row0 col3\" >-0.219292</td>\n",
       "      <td id=\"T_3756b_row0_col4\" class=\"data row0 col4\" >-0.020030</td>\n",
       "      <td id=\"T_3756b_row0_col5\" class=\"data row0 col5\" >0.142365</td>\n",
       "    </tr>\n",
       "    <tr>\n",
       "      <th id=\"T_3756b_level0_row1\" class=\"row_heading level0 row1\" >runtime</th>\n",
       "      <td id=\"T_3756b_row1_col0\" class=\"data row1 col0\" >-0.206251</td>\n",
       "      <td id=\"T_3756b_row1_col1\" class=\"data row1 col1\" >1.000000</td>\n",
       "      <td id=\"T_3756b_row1_col2\" class=\"data row1 col2\" >0.121754</td>\n",
       "      <td id=\"T_3756b_row1_col3\" class=\"data row1 col3\" >0.183019</td>\n",
       "      <td id=\"T_3756b_row1_col4\" class=\"data row1 col4\" >0.200317</td>\n",
       "      <td id=\"T_3756b_row1_col5\" class=\"data row1 col5\" >-0.093873</td>\n",
       "    </tr>\n",
       "    <tr>\n",
       "      <th id=\"T_3756b_level0_row2\" class=\"row_heading level0 row2\" >imdb_score</th>\n",
       "      <td id=\"T_3756b_row2_col0\" class=\"data row2 col0\" >-0.179198</td>\n",
       "      <td id=\"T_3756b_row2_col1\" class=\"data row2 col1\" >0.121754</td>\n",
       "      <td id=\"T_3756b_row2_col2\" class=\"data row2 col2\" >1.000000</td>\n",
       "      <td id=\"T_3756b_row2_col3\" class=\"data row2 col3\" >0.209770</td>\n",
       "      <td id=\"T_3756b_row2_col4\" class=\"data row2 col4\" >-0.071412</td>\n",
       "      <td id=\"T_3756b_row2_col5\" class=\"data row2 col5\" >-0.793107</td>\n",
       "    </tr>\n",
       "    <tr>\n",
       "      <th id=\"T_3756b_level0_row3\" class=\"row_heading level0 row3\" >imdb_votes</th>\n",
       "      <td id=\"T_3756b_row3_col0\" class=\"data row3 col0\" >-0.219292</td>\n",
       "      <td id=\"T_3756b_row3_col1\" class=\"data row3 col1\" >0.183019</td>\n",
       "      <td id=\"T_3756b_row3_col2\" class=\"data row3 col2\" >0.209770</td>\n",
       "      <td id=\"T_3756b_row3_col3\" class=\"data row3 col3\" >1.000000</td>\n",
       "      <td id=\"T_3756b_row3_col4\" class=\"data row3 col4\" >0.061865</td>\n",
       "      <td id=\"T_3756b_row3_col5\" class=\"data row3 col5\" >-0.138874</td>\n",
       "    </tr>\n",
       "    <tr>\n",
       "      <th id=\"T_3756b_level0_row4\" class=\"row_heading level0 row4\" >genre</th>\n",
       "      <td id=\"T_3756b_row4_col0\" class=\"data row4 col0\" >-0.020030</td>\n",
       "      <td id=\"T_3756b_row4_col1\" class=\"data row4 col1\" >0.200317</td>\n",
       "      <td id=\"T_3756b_row4_col2\" class=\"data row4 col2\" >-0.071412</td>\n",
       "      <td id=\"T_3756b_row4_col3\" class=\"data row4 col3\" >0.061865</td>\n",
       "      <td id=\"T_3756b_row4_col4\" class=\"data row4 col4\" >1.000000</td>\n",
       "      <td id=\"T_3756b_row4_col5\" class=\"data row4 col5\" >0.066607</td>\n",
       "    </tr>\n",
       "    <tr>\n",
       "      <th id=\"T_3756b_level0_row5\" class=\"row_heading level0 row5\" >Rating1</th>\n",
       "      <td id=\"T_3756b_row5_col0\" class=\"data row5 col0\" >0.142365</td>\n",
       "      <td id=\"T_3756b_row5_col1\" class=\"data row5 col1\" >-0.093873</td>\n",
       "      <td id=\"T_3756b_row5_col2\" class=\"data row5 col2\" >-0.793107</td>\n",
       "      <td id=\"T_3756b_row5_col3\" class=\"data row5 col3\" >-0.138874</td>\n",
       "      <td id=\"T_3756b_row5_col4\" class=\"data row5 col4\" >0.066607</td>\n",
       "      <td id=\"T_3756b_row5_col5\" class=\"data row5 col5\" >1.000000</td>\n",
       "    </tr>\n",
       "  </tbody>\n",
       "</table>\n"
      ],
      "text/plain": [
       "<pandas.io.formats.style.Styler at 0x14590844a00>"
      ]
     },
     "execution_count": 157,
     "metadata": {},
     "output_type": "execute_result"
    }
   ],
   "source": [
    "corr = netflix_movies.corr()\n",
    "corr.style.background_gradient(cmap='coolwarm')"
   ]
  },
  {
   "cell_type": "code",
   "execution_count": 158,
   "id": "1c4f85e6",
   "metadata": {},
   "outputs": [
    {
     "data": {
      "text/plain": [
       "Text(0, 0.5, 'AVG IMDB Score')"
      ]
     },
     "execution_count": 158,
     "metadata": {},
     "output_type": "execute_result"
    },
    {
     "data": {
      "image/png": "[encoded data removed]",
      "text/plain": [
       "<Figure size 432x288 with 1 Axes>"
      ]
     },
     "metadata": {
      "needs_background": "light"
     },
     "output_type": "display_data"
    }
   ],
   "source": [
    "netflix_movies_1 = netflix_movies[['genre', 'imdb_score']]\n",
    "netflix_movies_avg = netflix_movies_1.groupby('genre')['imdb_score'].mean()\n",
    "netflix_movies_avg.plot(kind='bar')\n",
    "plt.title('Netflix Movies')\n",
    "plt.xlabel('Genre')\n",
    "plt.ylabel('AVG IMDB Score')"
   ]
  },
  {
   "cell_type": "code",
   "execution_count": 159,
   "id": "1b145fdf",
   "metadata": {},
   "outputs": [
    {
     "name": "stdout",
     "output_type": "stream",
     "text": [
      "genre\n",
      "1     5.948372\n",
      "2     6.127083\n",
      "3     6.088346\n",
      "4     6.390517\n",
      "5     6.994428\n",
      "6     6.454067\n",
      "9     6.207792\n",
      "10    6.433333\n",
      "11    5.394000\n",
      "12    6.682222\n",
      "13    7.150000\n",
      "14    6.014554\n",
      "15    5.889333\n",
      "16    6.266667\n",
      "17    5.936054\n",
      "18    6.586957\n",
      "19    6.046154\n",
      "Name: imdb_score, dtype: float64\n"
     ]
    }
   ],
   "source": [
    "print(netflix_movies_avg)"
   ]
  },
  {
   "cell_type": "code",
   "execution_count": 160,
   "id": "c95f5443",
   "metadata": {},
   "outputs": [],
   "source": [
    "netflix_shows_df = netflix_df.loc[netflix_df['type'] == 'SHOW']"
   ]
  },
  {
   "cell_type": "code",
   "execution_count": 161,
   "id": "ad63b710",
   "metadata": {
    "scrolled": true
   },
   "outputs": [
    {
     "data": {
      "text/html": [
       "<div>\n",
       "<style scoped>\n",
       "    .dataframe tbody tr th:only-of-type {\n",
       "        vertical-align: middle;\n",
       "    }\n",
       "\n",
       "    .dataframe tbody tr th {\n",
       "        vertical-align: top;\n",
       "    }\n",
       "\n",
       "    .dataframe thead th {\n",
       "        text-align: right;\n",
       "    }\n",
       "</style>\n",
       "<table border=\"1\" class=\"dataframe\">\n",
       "  <thead>\n",
       "    <tr style=\"text-align: right;\">\n",
       "      <th></th>\n",
       "      <th>platform</th>\n",
       "      <th>id</th>\n",
       "      <th>title</th>\n",
       "      <th>type</th>\n",
       "      <th>description</th>\n",
       "      <th>release_year</th>\n",
       "      <th>age_certification</th>\n",
       "      <th>runtime</th>\n",
       "      <th>genres</th>\n",
       "      <th>production_countries</th>\n",
       "      <th>...</th>\n",
       "      <th>genre4</th>\n",
       "      <th>genre5</th>\n",
       "      <th>genre6</th>\n",
       "      <th>genre7</th>\n",
       "      <th>genre8</th>\n",
       "      <th>genre9</th>\n",
       "      <th>genre10</th>\n",
       "      <th>genre</th>\n",
       "      <th>program_type</th>\n",
       "      <th>Platform</th>\n",
       "    </tr>\n",
       "  </thead>\n",
       "  <tbody>\n",
       "    <tr>\n",
       "      <th>316</th>\n",
       "      <td>Netflix</td>\n",
       "      <td>ts21715</td>\n",
       "      <td>Thomas &amp; Friends</td>\n",
       "      <td>SHOW</td>\n",
       "      <td>Thomas &amp; Friends is a British children's telev...</td>\n",
       "      <td>1984</td>\n",
       "      <td>TV-Y</td>\n",
       "      <td>10</td>\n",
       "      <td>animation, family, comedy, fantasy, drama, act...</td>\n",
       "      <td>['GB']</td>\n",
       "      <td>...</td>\n",
       "      <td>fantasy</td>\n",
       "      <td>drama</td>\n",
       "      <td>action</td>\n",
       "      <td>music</td>\n",
       "      <td>NaN</td>\n",
       "      <td>NaN</td>\n",
       "      <td>NaN</td>\n",
       "      <td>2</td>\n",
       "      <td>1</td>\n",
       "      <td>1</td>\n",
       "    </tr>\n",
       "    <tr>\n",
       "      <th>317</th>\n",
       "      <td>Netflix</td>\n",
       "      <td>ts20678</td>\n",
       "      <td>Saved by the Bell</td>\n",
       "      <td>SHOW</td>\n",
       "      <td>Lovable schemer Zack Morris leads his pals on ...</td>\n",
       "      <td>1989</td>\n",
       "      <td>TV-G</td>\n",
       "      <td>23</td>\n",
       "      <td>animation, comedy, romance</td>\n",
       "      <td>['US']</td>\n",
       "      <td>...</td>\n",
       "      <td>NaN</td>\n",
       "      <td>NaN</td>\n",
       "      <td>NaN</td>\n",
       "      <td>NaN</td>\n",
       "      <td>NaN</td>\n",
       "      <td>NaN</td>\n",
       "      <td>NaN</td>\n",
       "      <td>2</td>\n",
       "      <td>1</td>\n",
       "      <td>1</td>\n",
       "    </tr>\n",
       "    <tr>\n",
       "      <th>318</th>\n",
       "      <td>Netflix</td>\n",
       "      <td>ts2760</td>\n",
       "      <td>Fireman Sam</td>\n",
       "      <td>SHOW</td>\n",
       "      <td>Follow the adventures of fireman Sam and his c...</td>\n",
       "      <td>1987</td>\n",
       "      <td>TV-Y</td>\n",
       "      <td>10</td>\n",
       "      <td>animation, comedy, family, crime, european</td>\n",
       "      <td>['GB']</td>\n",
       "      <td>...</td>\n",
       "      <td>crime</td>\n",
       "      <td>european</td>\n",
       "      <td>NaN</td>\n",
       "      <td>NaN</td>\n",
       "      <td>NaN</td>\n",
       "      <td>NaN</td>\n",
       "      <td>NaN</td>\n",
       "      <td>2</td>\n",
       "      <td>1</td>\n",
       "      <td>1</td>\n",
       "    </tr>\n",
       "  </tbody>\n",
       "</table>\n",
       "<p>3 rows × 29 columns</p>\n",
       "</div>"
      ],
      "text/plain": [
       "    platform       id              title  type  \\\n",
       "316  Netflix  ts21715   Thomas & Friends  SHOW   \n",
       "317  Netflix  ts20678  Saved by the Bell  SHOW   \n",
       "318  Netflix   ts2760        Fireman Sam  SHOW   \n",
       "\n",
       "                                           description  release_year  \\\n",
       "316  Thomas & Friends is a British children's telev...          1984   \n",
       "317  Lovable schemer Zack Morris leads his pals on ...          1989   \n",
       "318  Follow the adventures of fireman Sam and his c...          1987   \n",
       "\n",
       "    age_certification  runtime  \\\n",
       "316              TV-Y       10   \n",
       "317              TV-G       23   \n",
       "318              TV-Y       10   \n",
       "\n",
       "                                                genres production_countries  \\\n",
       "316  animation, family, comedy, fantasy, drama, act...               ['GB']   \n",
       "317                         animation, comedy, romance               ['US']   \n",
       "318         animation, comedy, family, crime, european               ['GB']   \n",
       "\n",
       "     ...   genre4    genre5  genre6  genre7  genre8  genre9 genre10 genre  \\\n",
       "316  ...  fantasy     drama  action   music     NaN     NaN     NaN     2   \n",
       "317  ...      NaN       NaN     NaN     NaN     NaN     NaN     NaN     2   \n",
       "318  ...    crime  european     NaN     NaN     NaN     NaN     NaN     2   \n",
       "\n",
       "    program_type Platform  \n",
       "316            1        1  \n",
       "317            1        1  \n",
       "318            1        1  \n",
       "\n",
       "[3 rows x 29 columns]"
      ]
     },
     "execution_count": 161,
     "metadata": {},
     "output_type": "execute_result"
    }
   ],
   "source": [
    "netflix_shows_df.head(3)"
   ]
  },
  {
   "cell_type": "code",
   "execution_count": 162,
   "id": "0632aebb",
   "metadata": {},
   "outputs": [],
   "source": [
    "netflix_shows = netflix_shows_df.drop(['title', 'type','description', 'age_certification', 'genres', \n",
    "                        'production_countries','tmdb_popularity','tmdb_score','program_type',\n",
    "                        'Platform','genre1', 'genre2', 'genre3', 'genre4', 'genre5', 'genre6', \n",
    "                        'genre7','genre8', 'genre9', 'genre10'], axis=1)"
   ]
  },
  {
   "cell_type": "code",
   "execution_count": 163,
   "id": "93fcf618",
   "metadata": {},
   "outputs": [
    {
     "data": {
      "text/html": [
       "<div>\n",
       "<style scoped>\n",
       "    .dataframe tbody tr th:only-of-type {\n",
       "        vertical-align: middle;\n",
       "    }\n",
       "\n",
       "    .dataframe tbody tr th {\n",
       "        vertical-align: top;\n",
       "    }\n",
       "\n",
       "    .dataframe thead th {\n",
       "        text-align: right;\n",
       "    }\n",
       "</style>\n",
       "<table border=\"1\" class=\"dataframe\">\n",
       "  <thead>\n",
       "    <tr style=\"text-align: right;\">\n",
       "      <th></th>\n",
       "      <th>platform</th>\n",
       "      <th>id</th>\n",
       "      <th>release_year</th>\n",
       "      <th>runtime</th>\n",
       "      <th>seasons</th>\n",
       "      <th>imdb_id</th>\n",
       "      <th>imdb_score</th>\n",
       "      <th>imdb_votes</th>\n",
       "      <th>genre</th>\n",
       "    </tr>\n",
       "  </thead>\n",
       "  <tbody>\n",
       "    <tr>\n",
       "      <th>316</th>\n",
       "      <td>Netflix</td>\n",
       "      <td>ts21715</td>\n",
       "      <td>1984</td>\n",
       "      <td>10</td>\n",
       "      <td>24.0</td>\n",
       "      <td>tt0086815</td>\n",
       "      <td>6.5</td>\n",
       "      <td>5104.0</td>\n",
       "      <td>2</td>\n",
       "    </tr>\n",
       "    <tr>\n",
       "      <th>317</th>\n",
       "      <td>Netflix</td>\n",
       "      <td>ts20678</td>\n",
       "      <td>1989</td>\n",
       "      <td>23</td>\n",
       "      <td>5.0</td>\n",
       "      <td>tt0096694</td>\n",
       "      <td>7.1</td>\n",
       "      <td>35034.0</td>\n",
       "      <td>2</td>\n",
       "    </tr>\n",
       "    <tr>\n",
       "      <th>318</th>\n",
       "      <td>Netflix</td>\n",
       "      <td>ts2760</td>\n",
       "      <td>1987</td>\n",
       "      <td>10</td>\n",
       "      <td>13.0</td>\n",
       "      <td>tt0329829</td>\n",
       "      <td>6.1</td>\n",
       "      <td>1785.0</td>\n",
       "      <td>2</td>\n",
       "    </tr>\n",
       "    <tr>\n",
       "      <th>324</th>\n",
       "      <td>Netflix</td>\n",
       "      <td>ts20981</td>\n",
       "      <td>2000</td>\n",
       "      <td>48</td>\n",
       "      <td>42.0</td>\n",
       "      <td>tt0239195</td>\n",
       "      <td>7.4</td>\n",
       "      <td>24687.0</td>\n",
       "      <td>13</td>\n",
       "    </tr>\n",
       "    <tr>\n",
       "      <th>325</th>\n",
       "      <td>Netflix</td>\n",
       "      <td>ts21223</td>\n",
       "      <td>1997</td>\n",
       "      <td>22</td>\n",
       "      <td>25.0</td>\n",
       "      <td>tt14053732</td>\n",
       "      <td>7.4</td>\n",
       "      <td>198.0</td>\n",
       "      <td>1</td>\n",
       "    </tr>\n",
       "  </tbody>\n",
       "</table>\n",
       "</div>"
      ],
      "text/plain": [
       "    platform       id  release_year  runtime  seasons     imdb_id  imdb_score  \\\n",
       "316  Netflix  ts21715          1984       10     24.0   tt0086815         6.5   \n",
       "317  Netflix  ts20678          1989       23      5.0   tt0096694         7.1   \n",
       "318  Netflix   ts2760          1987       10     13.0   tt0329829         6.1   \n",
       "324  Netflix  ts20981          2000       48     42.0   tt0239195         7.4   \n",
       "325  Netflix  ts21223          1997       22     25.0  tt14053732         7.4   \n",
       "\n",
       "     imdb_votes genre  \n",
       "316      5104.0     2  \n",
       "317     35034.0     2  \n",
       "318      1785.0     2  \n",
       "324     24687.0    13  \n",
       "325       198.0     1  "
      ]
     },
     "execution_count": 163,
     "metadata": {},
     "output_type": "execute_result"
    }
   ],
   "source": [
    "netflix_shows.head()"
   ]
  },
  {
   "cell_type": "code",
   "execution_count": 164,
   "id": "67b8a529",
   "metadata": {},
   "outputs": [
    {
     "data": {
      "text/plain": [
       "platform          0\n",
       "id                0\n",
       "release_year      0\n",
       "runtime           0\n",
       "seasons           0\n",
       "imdb_id         141\n",
       "imdb_score      167\n",
       "imdb_votes      167\n",
       "genre            25\n",
       "dtype: int64"
      ]
     },
     "execution_count": 164,
     "metadata": {},
     "output_type": "execute_result"
    }
   ],
   "source": [
    "netflix_shows.isnull().sum()"
   ]
  },
  {
   "cell_type": "code",
   "execution_count": 165,
   "id": "693e33f4",
   "metadata": {},
   "outputs": [
    {
     "data": {
      "text/plain": [
       "platform        1935\n",
       "id              1935\n",
       "release_year    1935\n",
       "runtime         1935\n",
       "seasons         1935\n",
       "imdb_id         1935\n",
       "imdb_score      1935\n",
       "imdb_votes      1935\n",
       "genre           1935\n",
       "dtype: int64"
      ]
     },
     "execution_count": 165,
     "metadata": {},
     "output_type": "execute_result"
    }
   ],
   "source": [
    "netflix_shows.dropna(inplace=True)\n",
    "netflix_shows.count()"
   ]
  },
  {
   "cell_type": "code",
   "execution_count": 166,
   "id": "f9e235d0",
   "metadata": {},
   "outputs": [
    {
     "data": {
      "text/plain": [
       "6.977209302325583"
      ]
     },
     "execution_count": 166,
     "metadata": {},
     "output_type": "execute_result"
    }
   ],
   "source": [
    "#Average IMDB Score for Netflix shows\n",
    "netflix_shows.loc[:, 'imdb_score'].mean()"
   ]
  },
  {
   "cell_type": "code",
   "execution_count": 167,
   "id": "eda031a9",
   "metadata": {},
   "outputs": [
    {
     "data": {
      "text/plain": [
       "38.74573643410853"
      ]
     },
     "execution_count": 167,
     "metadata": {},
     "output_type": "execute_result"
    }
   ],
   "source": [
    "#Average runtime for Netflix shows\n",
    "netflix_shows.loc[:, 'runtime'].mean()"
   ]
  },
  {
   "cell_type": "code",
   "execution_count": 168,
   "id": "44de6c48",
   "metadata": {},
   "outputs": [],
   "source": [
    "#recoding score\n",
    "def Rating (series):\n",
    "  if series == \"imdb_score\":\n",
    "    return \"0\"\n",
    "  if series <= 6.8: \n",
    "    return \"Negative\"\n",
    "  if series >= 6.9: \n",
    "    return \"Positive\"\n",
    "netflix_shows[\"Rating\"] = netflix_shows['imdb_score'].apply(Rating)"
   ]
  },
  {
   "cell_type": "code",
   "execution_count": 169,
   "id": "2661b567",
   "metadata": {},
   "outputs": [],
   "source": [
    "def Rating1 (series):\n",
    "  if series == \"Rating\":\n",
    "    return \"0\"\n",
    "  if series == \"Positive\": \n",
    "    return 1\n",
    "  if series == \"Negative\":\n",
    "    return 2\n",
    "netflix_shows[\"Rating1\"] = netflix_shows[\"Rating\"].apply(Rating1)"
   ]
  },
  {
   "cell_type": "code",
   "execution_count": 170,
   "id": "76ab674a",
   "metadata": {},
   "outputs": [
    {
     "data": {
      "text/html": [
       "<div>\n",
       "<style scoped>\n",
       "    .dataframe tbody tr th:only-of-type {\n",
       "        vertical-align: middle;\n",
       "    }\n",
       "\n",
       "    .dataframe tbody tr th {\n",
       "        vertical-align: top;\n",
       "    }\n",
       "\n",
       "    .dataframe thead th {\n",
       "        text-align: right;\n",
       "    }\n",
       "</style>\n",
       "<table border=\"1\" class=\"dataframe\">\n",
       "  <thead>\n",
       "    <tr style=\"text-align: right;\">\n",
       "      <th></th>\n",
       "      <th>platform</th>\n",
       "      <th>id</th>\n",
       "      <th>release_year</th>\n",
       "      <th>runtime</th>\n",
       "      <th>seasons</th>\n",
       "      <th>imdb_id</th>\n",
       "      <th>imdb_score</th>\n",
       "      <th>imdb_votes</th>\n",
       "      <th>genre</th>\n",
       "      <th>Rating</th>\n",
       "      <th>Rating1</th>\n",
       "    </tr>\n",
       "  </thead>\n",
       "  <tbody>\n",
       "    <tr>\n",
       "      <th>316</th>\n",
       "      <td>Netflix</td>\n",
       "      <td>ts21715</td>\n",
       "      <td>1984</td>\n",
       "      <td>10</td>\n",
       "      <td>24.0</td>\n",
       "      <td>tt0086815</td>\n",
       "      <td>6.5</td>\n",
       "      <td>5104.0</td>\n",
       "      <td>2</td>\n",
       "      <td>Negative</td>\n",
       "      <td>2</td>\n",
       "    </tr>\n",
       "    <tr>\n",
       "      <th>317</th>\n",
       "      <td>Netflix</td>\n",
       "      <td>ts20678</td>\n",
       "      <td>1989</td>\n",
       "      <td>23</td>\n",
       "      <td>5.0</td>\n",
       "      <td>tt0096694</td>\n",
       "      <td>7.1</td>\n",
       "      <td>35034.0</td>\n",
       "      <td>2</td>\n",
       "      <td>Positive</td>\n",
       "      <td>1</td>\n",
       "    </tr>\n",
       "    <tr>\n",
       "      <th>318</th>\n",
       "      <td>Netflix</td>\n",
       "      <td>ts2760</td>\n",
       "      <td>1987</td>\n",
       "      <td>10</td>\n",
       "      <td>13.0</td>\n",
       "      <td>tt0329829</td>\n",
       "      <td>6.1</td>\n",
       "      <td>1785.0</td>\n",
       "      <td>2</td>\n",
       "      <td>Negative</td>\n",
       "      <td>2</td>\n",
       "    </tr>\n",
       "  </tbody>\n",
       "</table>\n",
       "</div>"
      ],
      "text/plain": [
       "    platform       id  release_year  runtime  seasons    imdb_id  imdb_score  \\\n",
       "316  Netflix  ts21715          1984       10     24.0  tt0086815         6.5   \n",
       "317  Netflix  ts20678          1989       23      5.0  tt0096694         7.1   \n",
       "318  Netflix   ts2760          1987       10     13.0  tt0329829         6.1   \n",
       "\n",
       "     imdb_votes genre    Rating  Rating1  \n",
       "316      5104.0     2  Negative        2  \n",
       "317     35034.0     2  Positive        1  \n",
       "318      1785.0     2  Negative        2  "
      ]
     },
     "execution_count": 170,
     "metadata": {},
     "output_type": "execute_result"
    }
   ],
   "source": [
    "netflix_shows.head(3)"
   ]
  },
  {
   "cell_type": "code",
   "execution_count": 171,
   "id": "ccbd802e",
   "metadata": {},
   "outputs": [
    {
     "data": {
      "text/plain": [
       "Rating\n",
       "Negative     794\n",
       "Positive    1141\n",
       "Name: genre, dtype: int64"
      ]
     },
     "execution_count": 171,
     "metadata": {},
     "output_type": "execute_result"
    }
   ],
   "source": [
    "netflix_shows.groupby('Rating')['genre'].count()"
   ]
  },
  {
   "cell_type": "code",
   "execution_count": 172,
   "id": "8c41d451",
   "metadata": {},
   "outputs": [
    {
     "name": "stdout",
     "output_type": "stream",
     "text": [
      "platform         object\n",
      "id               object\n",
      "release_year      int64\n",
      "runtime           int64\n",
      "seasons         float64\n",
      "imdb_id          object\n",
      "imdb_score      float64\n",
      "imdb_votes      float64\n",
      "genre            object\n",
      "Rating           object\n",
      "Rating1           int64\n",
      "dtype: object\n"
     ]
    }
   ],
   "source": [
    "print(netflix_shows.dtypes)"
   ]
  },
  {
   "cell_type": "code",
   "execution_count": 173,
   "id": "c7b6472e",
   "metadata": {},
   "outputs": [
    {
     "name": "stdout",
     "output_type": "stream",
     "text": [
      "platform         object\n",
      "id               object\n",
      "release_year      int64\n",
      "runtime           int64\n",
      "seasons         float64\n",
      "imdb_id          object\n",
      "imdb_score      float64\n",
      "imdb_votes      float64\n",
      "genre             int32\n",
      "Rating           object\n",
      "Rating1           int64\n",
      "dtype: object\n"
     ]
    }
   ],
   "source": [
    "netflix_shows['genre'] = netflix_shows['genre'].astype(int)\n",
    "print(netflix_shows.dtypes)"
   ]
  },
  {
   "cell_type": "code",
   "execution_count": 174,
   "id": "cd38f89c",
   "metadata": {},
   "outputs": [
    {
     "data": {
      "text/html": [
       "<style type=\"text/css\">\n",
       "#T_93994_row0_col0, #T_93994_row1_col1, #T_93994_row2_col2, #T_93994_row3_col3, #T_93994_row4_col4, #T_93994_row5_col5, #T_93994_row6_col6 {\n",
       "  background-color: #b40426;\n",
       "  color: #f1f1f1;\n",
       "}\n",
       "#T_93994_row0_col1, #T_93994_row6_col2 {\n",
       "  background-color: #a1c0ff;\n",
       "  color: #000000;\n",
       "}\n",
       "#T_93994_row0_col2, #T_93994_row2_col0, #T_93994_row2_col5, #T_93994_row3_col5, #T_93994_row3_col6, #T_93994_row6_col1, #T_93994_row6_col3, #T_93994_row6_col4 {\n",
       "  background-color: #3b4cc0;\n",
       "  color: #f1f1f1;\n",
       "}\n",
       "#T_93994_row0_col3, #T_93994_row3_col4, #T_93994_row5_col1 {\n",
       "  background-color: #aec9fc;\n",
       "  color: #000000;\n",
       "}\n",
       "#T_93994_row0_col4 {\n",
       "  background-color: #3d50c3;\n",
       "  color: #f1f1f1;\n",
       "}\n",
       "#T_93994_row0_col5 {\n",
       "  background-color: #5a78e4;\n",
       "  color: #f1f1f1;\n",
       "}\n",
       "#T_93994_row0_col6 {\n",
       "  background-color: #dfdbd9;\n",
       "  color: #000000;\n",
       "}\n",
       "#T_93994_row1_col0 {\n",
       "  background-color: #cedaeb;\n",
       "  color: #000000;\n",
       "}\n",
       "#T_93994_row1_col2 {\n",
       "  background-color: #90b2fe;\n",
       "  color: #000000;\n",
       "}\n",
       "#T_93994_row1_col3 {\n",
       "  background-color: #edd2c3;\n",
       "  color: #000000;\n",
       "}\n",
       "#T_93994_row1_col4 {\n",
       "  background-color: #7da0f9;\n",
       "  color: #f1f1f1;\n",
       "}\n",
       "#T_93994_row1_col5 {\n",
       "  background-color: #7ea1fa;\n",
       "  color: #f1f1f1;\n",
       "}\n",
       "#T_93994_row1_col6 {\n",
       "  background-color: #a2c1ff;\n",
       "  color: #000000;\n",
       "}\n",
       "#T_93994_row2_col1 {\n",
       "  background-color: #506bda;\n",
       "  color: #f1f1f1;\n",
       "}\n",
       "#T_93994_row2_col3 {\n",
       "  background-color: #dcdddd;\n",
       "  color: #000000;\n",
       "}\n",
       "#T_93994_row2_col4 {\n",
       "  background-color: #a3c2fe;\n",
       "  color: #000000;\n",
       "}\n",
       "#T_93994_row2_col6 {\n",
       "  background-color: #c0d4f5;\n",
       "  color: #000000;\n",
       "}\n",
       "#T_93994_row3_col0 {\n",
       "  background-color: #8badfd;\n",
       "  color: #000000;\n",
       "}\n",
       "#T_93994_row3_col1 {\n",
       "  background-color: #b7cff9;\n",
       "  color: #000000;\n",
       "}\n",
       "#T_93994_row3_col2 {\n",
       "  background-color: #c6d6f1;\n",
       "  color: #000000;\n",
       "}\n",
       "#T_93994_row4_col0, #T_93994_row4_col1 {\n",
       "  background-color: #8db0fe;\n",
       "  color: #000000;\n",
       "}\n",
       "#T_93994_row4_col2 {\n",
       "  background-color: #d8dce2;\n",
       "  color: #000000;\n",
       "}\n",
       "#T_93994_row4_col3 {\n",
       "  background-color: #edd1c2;\n",
       "  color: #000000;\n",
       "}\n",
       "#T_93994_row4_col5 {\n",
       "  background-color: #4e68d8;\n",
       "  color: #f1f1f1;\n",
       "}\n",
       "#T_93994_row4_col6 {\n",
       "  background-color: #afcafc;\n",
       "  color: #000000;\n",
       "}\n",
       "#T_93994_row5_col0 {\n",
       "  background-color: #c3d5f4;\n",
       "  color: #000000;\n",
       "}\n",
       "#T_93994_row5_col2 {\n",
       "  background-color: #abc8fd;\n",
       "  color: #000000;\n",
       "}\n",
       "#T_93994_row5_col3 {\n",
       "  background-color: #c9d7f0;\n",
       "  color: #000000;\n",
       "}\n",
       "#T_93994_row5_col4 {\n",
       "  background-color: #7396f5;\n",
       "  color: #f1f1f1;\n",
       "}\n",
       "#T_93994_row5_col6 {\n",
       "  background-color: #ccd9ed;\n",
       "  color: #000000;\n",
       "}\n",
       "#T_93994_row6_col0 {\n",
       "  background-color: #cad8ef;\n",
       "  color: #000000;\n",
       "}\n",
       "#T_93994_row6_col5 {\n",
       "  background-color: #3f53c6;\n",
       "  color: #f1f1f1;\n",
       "}\n",
       "</style>\n",
       "<table id=\"T_93994\">\n",
       "  <thead>\n",
       "    <tr>\n",
       "      <th class=\"blank level0\" >&nbsp;</th>\n",
       "      <th id=\"T_93994_level0_col0\" class=\"col_heading level0 col0\" >release_year</th>\n",
       "      <th id=\"T_93994_level0_col1\" class=\"col_heading level0 col1\" >runtime</th>\n",
       "      <th id=\"T_93994_level0_col2\" class=\"col_heading level0 col2\" >seasons</th>\n",
       "      <th id=\"T_93994_level0_col3\" class=\"col_heading level0 col3\" >imdb_score</th>\n",
       "      <th id=\"T_93994_level0_col4\" class=\"col_heading level0 col4\" >imdb_votes</th>\n",
       "      <th id=\"T_93994_level0_col5\" class=\"col_heading level0 col5\" >genre</th>\n",
       "      <th id=\"T_93994_level0_col6\" class=\"col_heading level0 col6\" >Rating1</th>\n",
       "    </tr>\n",
       "  </thead>\n",
       "  <tbody>\n",
       "    <tr>\n",
       "      <th id=\"T_93994_level0_row0\" class=\"row_heading level0 row0\" >release_year</th>\n",
       "      <td id=\"T_93994_row0_col0\" class=\"data row0 col0\" >1.000000</td>\n",
       "      <td id=\"T_93994_row0_col1\" class=\"data row0 col1\" >0.149592</td>\n",
       "      <td id=\"T_93994_row0_col2\" class=\"data row0 col2\" >-0.539105</td>\n",
       "      <td id=\"T_93994_row0_col3\" class=\"data row0 col3\" >-0.163103</td>\n",
       "      <td id=\"T_93994_row0_col4\" class=\"data row0 col4\" >-0.148558</td>\n",
       "      <td id=\"T_93994_row0_col5\" class=\"data row0 col5\" >0.086515</td>\n",
       "      <td id=\"T_93994_row0_col6\" class=\"data row0 col6\" >0.127494</td>\n",
       "    </tr>\n",
       "    <tr>\n",
       "      <th id=\"T_93994_level0_row1\" class=\"row_heading level0 row1\" >runtime</th>\n",
       "      <td id=\"T_93994_row1_col0\" class=\"data row1 col0\" >0.149592</td>\n",
       "      <td id=\"T_93994_row1_col1\" class=\"data row1 col1\" >1.000000</td>\n",
       "      <td id=\"T_93994_row1_col2\" class=\"data row1 col2\" >-0.138789</td>\n",
       "      <td id=\"T_93994_row1_col3\" class=\"data row1 col3\" >0.230590</td>\n",
       "      <td id=\"T_93994_row1_col4\" class=\"data row1 col4\" >0.080223</td>\n",
       "      <td id=\"T_93994_row1_col5\" class=\"data row1 col5\" >0.194524</td>\n",
       "      <td id=\"T_93994_row1_col6\" class=\"data row1 col6\" >-0.227726</td>\n",
       "    </tr>\n",
       "    <tr>\n",
       "      <th id=\"T_93994_level0_row2\" class=\"row_heading level0 row2\" >seasons</th>\n",
       "      <td id=\"T_93994_row2_col0\" class=\"data row2 col0\" >-0.539105</td>\n",
       "      <td id=\"T_93994_row2_col1\" class=\"data row2 col1\" >-0.138789</td>\n",
       "      <td id=\"T_93994_row2_col2\" class=\"data row2 col2\" >1.000000</td>\n",
       "      <td id=\"T_93994_row2_col3\" class=\"data row2 col3\" >0.106939</td>\n",
       "      <td id=\"T_93994_row2_col4\" class=\"data row2 col4\" >0.206033</td>\n",
       "      <td id=\"T_93994_row2_col5\" class=\"data row2 col5\" >-0.018084</td>\n",
       "      <td id=\"T_93994_row2_col6\" class=\"data row2 col6\" >-0.070156</td>\n",
       "    </tr>\n",
       "    <tr>\n",
       "      <th id=\"T_93994_level0_row3\" class=\"row_heading level0 row3\" >imdb_score</th>\n",
       "      <td id=\"T_93994_row3_col0\" class=\"data row3 col0\" >-0.163103</td>\n",
       "      <td id=\"T_93994_row3_col1\" class=\"data row3 col1\" >0.230590</td>\n",
       "      <td id=\"T_93994_row3_col2\" class=\"data row3 col2\" >0.106939</td>\n",
       "      <td id=\"T_93994_row3_col3\" class=\"data row3 col3\" >1.000000</td>\n",
       "      <td id=\"T_93994_row3_col4\" class=\"data row3 col4\" >0.241557</td>\n",
       "      <td id=\"T_93994_row3_col5\" class=\"data row3 col5\" >-0.018151</td>\n",
       "      <td id=\"T_93994_row3_col6\" class=\"data row3 col6\" >-0.780263</td>\n",
       "    </tr>\n",
       "    <tr>\n",
       "      <th id=\"T_93994_level0_row4\" class=\"row_heading level0 row4\" >imdb_votes</th>\n",
       "      <td id=\"T_93994_row4_col0\" class=\"data row4 col0\" >-0.148558</td>\n",
       "      <td id=\"T_93994_row4_col1\" class=\"data row4 col1\" >0.080223</td>\n",
       "      <td id=\"T_93994_row4_col2\" class=\"data row4 col2\" >0.206033</td>\n",
       "      <td id=\"T_93994_row4_col3\" class=\"data row4 col3\" >0.241557</td>\n",
       "      <td id=\"T_93994_row4_col4\" class=\"data row4 col4\" >1.000000</td>\n",
       "      <td id=\"T_93994_row4_col5\" class=\"data row4 col5\" >0.047390</td>\n",
       "      <td id=\"T_93994_row4_col6\" class=\"data row4 col6\" >-0.158122</td>\n",
       "    </tr>\n",
       "    <tr>\n",
       "      <th id=\"T_93994_level0_row5\" class=\"row_heading level0 row5\" >genre</th>\n",
       "      <td id=\"T_93994_row5_col0\" class=\"data row5 col0\" >0.086515</td>\n",
       "      <td id=\"T_93994_row5_col1\" class=\"data row5 col1\" >0.194524</td>\n",
       "      <td id=\"T_93994_row5_col2\" class=\"data row5 col2\" >-0.018084</td>\n",
       "      <td id=\"T_93994_row5_col3\" class=\"data row5 col3\" >-0.018151</td>\n",
       "      <td id=\"T_93994_row5_col4\" class=\"data row5 col4\" >0.047390</td>\n",
       "      <td id=\"T_93994_row5_col5\" class=\"data row5 col5\" >1.000000</td>\n",
       "      <td id=\"T_93994_row5_col6\" class=\"data row5 col6\" >-0.000849</td>\n",
       "    </tr>\n",
       "    <tr>\n",
       "      <th id=\"T_93994_level0_row6\" class=\"row_heading level0 row6\" >Rating1</th>\n",
       "      <td id=\"T_93994_row6_col0\" class=\"data row6 col0\" >0.127494</td>\n",
       "      <td id=\"T_93994_row6_col1\" class=\"data row6 col1\" >-0.227726</td>\n",
       "      <td id=\"T_93994_row6_col2\" class=\"data row6 col2\" >-0.070156</td>\n",
       "      <td id=\"T_93994_row6_col3\" class=\"data row6 col3\" >-0.780263</td>\n",
       "      <td id=\"T_93994_row6_col4\" class=\"data row6 col4\" >-0.158122</td>\n",
       "      <td id=\"T_93994_row6_col5\" class=\"data row6 col5\" >-0.000849</td>\n",
       "      <td id=\"T_93994_row6_col6\" class=\"data row6 col6\" >1.000000</td>\n",
       "    </tr>\n",
       "  </tbody>\n",
       "</table>\n"
      ],
      "text/plain": [
       "<pandas.io.formats.style.Styler at 0x1459091d780>"
      ]
     },
     "execution_count": 174,
     "metadata": {},
     "output_type": "execute_result"
    }
   ],
   "source": [
    "corr = netflix_shows.corr()\n",
    "corr.style.background_gradient(cmap='coolwarm')"
   ]
  },
  {
   "cell_type": "code",
   "execution_count": 175,
   "id": "fe49a5a3",
   "metadata": {},
   "outputs": [
    {
     "data": {
      "text/plain": [
       "Text(0, 0.5, 'AVG IMDB Score')"
      ]
     },
     "execution_count": 175,
     "metadata": {},
     "output_type": "execute_result"
    },
    {
     "data": {
      "image/png": "[encoded data removed]",
      "text/plain": [
       "<Figure size 432x288 with 1 Axes>"
      ]
     },
     "metadata": {
      "needs_background": "light"
     },
     "output_type": "display_data"
    }
   ],
   "source": [
    "netflix_shows_1 = netflix_shows[['genre', 'imdb_score']]\n",
    "netflix_shows_avg = netflix_shows_1.groupby('genre')['imdb_score'].mean()\n",
    "netflix_shows_avg.plot(kind='bar')\n",
    "plt.title('Netflix Shows')\n",
    "plt.xlabel('Genre')\n",
    "plt.ylabel('AVG IMDB Score')"
   ]
  },
  {
   "cell_type": "code",
   "execution_count": 176,
   "id": "8ff735df",
   "metadata": {},
   "outputs": [
    {
     "name": "stdout",
     "output_type": "stream",
     "text": [
      "genre\n",
      "1     6.872581\n",
      "2     6.657269\n",
      "3     6.983792\n",
      "4     7.090000\n",
      "5     7.177253\n",
      "6     7.192813\n",
      "9     6.866667\n",
      "10    7.316667\n",
      "11    6.185714\n",
      "12    6.300000\n",
      "13    6.313750\n",
      "14    7.270000\n",
      "15    7.078289\n",
      "16    7.900000\n",
      "17    6.990476\n",
      "18    7.563158\n",
      "19    7.450000\n",
      "Name: imdb_score, dtype: float64\n"
     ]
    }
   ],
   "source": [
    "print(netflix_shows_avg)"
   ]
  },
  {
   "cell_type": "code",
   "execution_count": 177,
   "id": "3ceb8a19",
   "metadata": {},
   "outputs": [],
   "source": [
    "hulu_df = streamingdata.loc[streamingdata['platform'] == 'Hulu']"
   ]
  },
  {
   "cell_type": "code",
   "execution_count": 178,
   "id": "fcd4a870",
   "metadata": {
    "scrolled": true
   },
   "outputs": [
    {
     "data": {
      "text/html": [
       "<div>\n",
       "<style scoped>\n",
       "    .dataframe tbody tr th:only-of-type {\n",
       "        vertical-align: middle;\n",
       "    }\n",
       "\n",
       "    .dataframe tbody tr th {\n",
       "        vertical-align: top;\n",
       "    }\n",
       "\n",
       "    .dataframe thead th {\n",
       "        text-align: right;\n",
       "    }\n",
       "</style>\n",
       "<table border=\"1\" class=\"dataframe\">\n",
       "  <thead>\n",
       "    <tr style=\"text-align: right;\">\n",
       "      <th></th>\n",
       "      <th>platform</th>\n",
       "      <th>id</th>\n",
       "      <th>title</th>\n",
       "      <th>type</th>\n",
       "      <th>description</th>\n",
       "      <th>release_year</th>\n",
       "      <th>age_certification</th>\n",
       "      <th>runtime</th>\n",
       "      <th>genres</th>\n",
       "      <th>production_countries</th>\n",
       "      <th>...</th>\n",
       "      <th>genre4</th>\n",
       "      <th>genre5</th>\n",
       "      <th>genre6</th>\n",
       "      <th>genre7</th>\n",
       "      <th>genre8</th>\n",
       "      <th>genre9</th>\n",
       "      <th>genre10</th>\n",
       "      <th>genre</th>\n",
       "      <th>program_type</th>\n",
       "      <th>Platform</th>\n",
       "    </tr>\n",
       "  </thead>\n",
       "  <tbody>\n",
       "    <tr>\n",
       "      <th>528</th>\n",
       "      <td>Hulu</td>\n",
       "      <td>ts20005</td>\n",
       "      <td>I Love Lucy</td>\n",
       "      <td>SHOW</td>\n",
       "      <td>Cuban Bandleader Ricky Ricardo would be happy ...</td>\n",
       "      <td>1951</td>\n",
       "      <td>TV-G</td>\n",
       "      <td>30</td>\n",
       "      <td>comedy, family</td>\n",
       "      <td>['US']</td>\n",
       "      <td>...</td>\n",
       "      <td>NaN</td>\n",
       "      <td>NaN</td>\n",
       "      <td>NaN</td>\n",
       "      <td>NaN</td>\n",
       "      <td>NaN</td>\n",
       "      <td>NaN</td>\n",
       "      <td>NaN</td>\n",
       "      <td>3</td>\n",
       "      <td>1</td>\n",
       "      <td>3</td>\n",
       "    </tr>\n",
       "    <tr>\n",
       "      <th>529</th>\n",
       "      <td>Hulu</td>\n",
       "      <td>ts20690</td>\n",
       "      <td>The Lucy Show</td>\n",
       "      <td>SHOW</td>\n",
       "      <td>The Lucy Show is an American sitcom that aired...</td>\n",
       "      <td>1962</td>\n",
       "      <td>NaN</td>\n",
       "      <td>30</td>\n",
       "      <td>comedy</td>\n",
       "      <td>['US']</td>\n",
       "      <td>...</td>\n",
       "      <td>NaN</td>\n",
       "      <td>NaN</td>\n",
       "      <td>NaN</td>\n",
       "      <td>NaN</td>\n",
       "      <td>NaN</td>\n",
       "      <td>NaN</td>\n",
       "      <td>NaN</td>\n",
       "      <td>3</td>\n",
       "      <td>1</td>\n",
       "      <td>3</td>\n",
       "    </tr>\n",
       "    <tr>\n",
       "      <th>530</th>\n",
       "      <td>Hulu</td>\n",
       "      <td>tm19438</td>\n",
       "      <td>The Princess Bride</td>\n",
       "      <td>MOVIE</td>\n",
       "      <td>In this enchantingly cracked fairy tale, the b...</td>\n",
       "      <td>1987</td>\n",
       "      <td>PG</td>\n",
       "      <td>99</td>\n",
       "      <td>fantasy, family, romance</td>\n",
       "      <td>['US']</td>\n",
       "      <td>...</td>\n",
       "      <td>NaN</td>\n",
       "      <td>NaN</td>\n",
       "      <td>NaN</td>\n",
       "      <td>NaN</td>\n",
       "      <td>NaN</td>\n",
       "      <td>NaN</td>\n",
       "      <td>NaN</td>\n",
       "      <td>9</td>\n",
       "      <td>2</td>\n",
       "      <td>3</td>\n",
       "    </tr>\n",
       "  </tbody>\n",
       "</table>\n",
       "<p>3 rows × 29 columns</p>\n",
       "</div>"
      ],
      "text/plain": [
       "    platform       id               title   type  \\\n",
       "528     Hulu  ts20005         I Love Lucy   SHOW   \n",
       "529     Hulu  ts20690       The Lucy Show   SHOW   \n",
       "530     Hulu  tm19438  The Princess Bride  MOVIE   \n",
       "\n",
       "                                           description  release_year  \\\n",
       "528  Cuban Bandleader Ricky Ricardo would be happy ...          1951   \n",
       "529  The Lucy Show is an American sitcom that aired...          1962   \n",
       "530  In this enchantingly cracked fairy tale, the b...          1987   \n",
       "\n",
       "    age_certification  runtime                    genres production_countries  \\\n",
       "528              TV-G       30            comedy, family               ['US']   \n",
       "529               NaN       30                    comedy               ['US']   \n",
       "530                PG       99  fantasy, family, romance               ['US']   \n",
       "\n",
       "     ...  genre4 genre5  genre6  genre7  genre8  genre9 genre10 genre  \\\n",
       "528  ...     NaN    NaN     NaN     NaN     NaN     NaN     NaN     3   \n",
       "529  ...     NaN    NaN     NaN     NaN     NaN     NaN     NaN     3   \n",
       "530  ...     NaN    NaN     NaN     NaN     NaN     NaN     NaN     9   \n",
       "\n",
       "    program_type Platform  \n",
       "528            1        3  \n",
       "529            1        3  \n",
       "530            2        3  \n",
       "\n",
       "[3 rows x 29 columns]"
      ]
     },
     "execution_count": 178,
     "metadata": {},
     "output_type": "execute_result"
    }
   ],
   "source": [
    "hulu_df.head(3)"
   ]
  },
  {
   "cell_type": "code",
   "execution_count": 179,
   "id": "e68d7f0d",
   "metadata": {},
   "outputs": [],
   "source": [
    "all_hulu = hulu_df.drop(['title', 'description', 'age_certification', 'genres', \n",
    "                        'production_countries','tmdb_popularity','tmdb_score','program_type',\n",
    "                        'Platform','seasons','genre1', 'genre2', 'genre3', 'genre4', 'genre5', 'genre6', \n",
    "                        'genre7','genre8', 'genre9', 'genre10'], axis=1)"
   ]
  },
  {
   "cell_type": "code",
   "execution_count": 180,
   "id": "014400e0",
   "metadata": {},
   "outputs": [
    {
     "data": {
      "text/html": [
       "<div>\n",
       "<style scoped>\n",
       "    .dataframe tbody tr th:only-of-type {\n",
       "        vertical-align: middle;\n",
       "    }\n",
       "\n",
       "    .dataframe tbody tr th {\n",
       "        vertical-align: top;\n",
       "    }\n",
       "\n",
       "    .dataframe thead th {\n",
       "        text-align: right;\n",
       "    }\n",
       "</style>\n",
       "<table border=\"1\" class=\"dataframe\">\n",
       "  <thead>\n",
       "    <tr style=\"text-align: right;\">\n",
       "      <th></th>\n",
       "      <th>platform</th>\n",
       "      <th>id</th>\n",
       "      <th>type</th>\n",
       "      <th>release_year</th>\n",
       "      <th>runtime</th>\n",
       "      <th>imdb_id</th>\n",
       "      <th>imdb_score</th>\n",
       "      <th>imdb_votes</th>\n",
       "      <th>genre</th>\n",
       "    </tr>\n",
       "  </thead>\n",
       "  <tbody>\n",
       "    <tr>\n",
       "      <th>528</th>\n",
       "      <td>Hulu</td>\n",
       "      <td>ts20005</td>\n",
       "      <td>SHOW</td>\n",
       "      <td>1951</td>\n",
       "      <td>30</td>\n",
       "      <td>tt0043208</td>\n",
       "      <td>8.5</td>\n",
       "      <td>25944.0</td>\n",
       "      <td>3</td>\n",
       "    </tr>\n",
       "    <tr>\n",
       "      <th>529</th>\n",
       "      <td>Hulu</td>\n",
       "      <td>ts20690</td>\n",
       "      <td>SHOW</td>\n",
       "      <td>1962</td>\n",
       "      <td>30</td>\n",
       "      <td>tt0055686</td>\n",
       "      <td>7.2</td>\n",
       "      <td>2797.0</td>\n",
       "      <td>3</td>\n",
       "    </tr>\n",
       "    <tr>\n",
       "      <th>530</th>\n",
       "      <td>Hulu</td>\n",
       "      <td>tm19438</td>\n",
       "      <td>MOVIE</td>\n",
       "      <td>1987</td>\n",
       "      <td>99</td>\n",
       "      <td>tt0093779</td>\n",
       "      <td>8.0</td>\n",
       "      <td>420521.0</td>\n",
       "      <td>9</td>\n",
       "    </tr>\n",
       "  </tbody>\n",
       "</table>\n",
       "</div>"
      ],
      "text/plain": [
       "    platform       id   type  release_year  runtime    imdb_id  imdb_score  \\\n",
       "528     Hulu  ts20005   SHOW          1951       30  tt0043208         8.5   \n",
       "529     Hulu  ts20690   SHOW          1962       30  tt0055686         7.2   \n",
       "530     Hulu  tm19438  MOVIE          1987       99  tt0093779         8.0   \n",
       "\n",
       "     imdb_votes genre  \n",
       "528     25944.0     3  \n",
       "529      2797.0     3  \n",
       "530    420521.0     9  "
      ]
     },
     "execution_count": 180,
     "metadata": {},
     "output_type": "execute_result"
    }
   ],
   "source": [
    "all_hulu.head(3)"
   ]
  },
  {
   "cell_type": "code",
   "execution_count": 181,
   "id": "b0064065",
   "metadata": {},
   "outputs": [
    {
     "data": {
      "text/plain": [
       "platform          0\n",
       "id                0\n",
       "type              0\n",
       "release_year      0\n",
       "runtime           0\n",
       "imdb_id         135\n",
       "imdb_score      166\n",
       "imdb_votes      167\n",
       "genre            24\n",
       "dtype: int64"
      ]
     },
     "execution_count": 181,
     "metadata": {},
     "output_type": "execute_result"
    }
   ],
   "source": [
    "all_hulu.isnull().sum()"
   ]
  },
  {
   "cell_type": "code",
   "execution_count": 182,
   "id": "51e9d993",
   "metadata": {},
   "outputs": [
    {
     "data": {
      "text/plain": [
       "platform        2223\n",
       "id              2223\n",
       "type            2223\n",
       "release_year    2223\n",
       "runtime         2223\n",
       "imdb_id         2223\n",
       "imdb_score      2223\n",
       "imdb_votes      2223\n",
       "genre           2223\n",
       "dtype: int64"
      ]
     },
     "execution_count": 182,
     "metadata": {},
     "output_type": "execute_result"
    }
   ],
   "source": [
    "all_hulu.dropna(inplace=True)\n",
    "all_hulu.count()"
   ]
  },
  {
   "cell_type": "code",
   "execution_count": 183,
   "id": "857d8ecf",
   "metadata": {},
   "outputs": [
    {
     "data": {
      "text/plain": [
       "6.7031488978857405"
      ]
     },
     "execution_count": 183,
     "metadata": {},
     "output_type": "execute_result"
    }
   ],
   "source": [
    "#Average IMDB Score for All Hulu titles\n",
    "all_hulu.loc[:, 'imdb_score'].mean()"
   ]
  },
  {
   "cell_type": "code",
   "execution_count": 184,
   "id": "b1dcbfd6",
   "metadata": {},
   "outputs": [
    {
     "data": {
      "text/plain": [
       "62.417004048582996"
      ]
     },
     "execution_count": 184,
     "metadata": {},
     "output_type": "execute_result"
    }
   ],
   "source": [
    "#Average runtime for All Hulu titles\n",
    "all_hulu.loc[:, 'runtime'].mean()"
   ]
  },
  {
   "cell_type": "code",
   "execution_count": 185,
   "id": "425312ef",
   "metadata": {},
   "outputs": [],
   "source": [
    "#recoding score\n",
    "def Rating (series):\n",
    "  if series == \"imdb_score\":\n",
    "    return \"0\"\n",
    "  if series <= 6.6: \n",
    "    return \"Negative\"\n",
    "  if series >= 6.7: \n",
    "    return \"Positive\"\n",
    "all_hulu[\"Rating\"] = all_hulu['imdb_score'].apply(Rating)"
   ]
  },
  {
   "cell_type": "code",
   "execution_count": 186,
   "id": "d01a103c",
   "metadata": {},
   "outputs": [],
   "source": [
    "def Rating1 (series):\n",
    "  if series == \"Rating\":\n",
    "    return \"0\"\n",
    "  if series == \"Positive\": \n",
    "    return 1\n",
    "  if series == \"Negative\":\n",
    "    return 2\n",
    "all_hulu[\"Rating1\"] = all_hulu[\"Rating\"].apply(Rating1)"
   ]
  },
  {
   "cell_type": "code",
   "execution_count": 187,
   "id": "70735896",
   "metadata": {},
   "outputs": [
    {
     "data": {
      "text/html": [
       "<div>\n",
       "<style scoped>\n",
       "    .dataframe tbody tr th:only-of-type {\n",
       "        vertical-align: middle;\n",
       "    }\n",
       "\n",
       "    .dataframe tbody tr th {\n",
       "        vertical-align: top;\n",
       "    }\n",
       "\n",
       "    .dataframe thead th {\n",
       "        text-align: right;\n",
       "    }\n",
       "</style>\n",
       "<table border=\"1\" class=\"dataframe\">\n",
       "  <thead>\n",
       "    <tr style=\"text-align: right;\">\n",
       "      <th></th>\n",
       "      <th>platform</th>\n",
       "      <th>id</th>\n",
       "      <th>type</th>\n",
       "      <th>release_year</th>\n",
       "      <th>runtime</th>\n",
       "      <th>imdb_id</th>\n",
       "      <th>imdb_score</th>\n",
       "      <th>imdb_votes</th>\n",
       "      <th>genre</th>\n",
       "      <th>Rating</th>\n",
       "      <th>Rating1</th>\n",
       "    </tr>\n",
       "  </thead>\n",
       "  <tbody>\n",
       "    <tr>\n",
       "      <th>528</th>\n",
       "      <td>Hulu</td>\n",
       "      <td>ts20005</td>\n",
       "      <td>SHOW</td>\n",
       "      <td>1951</td>\n",
       "      <td>30</td>\n",
       "      <td>tt0043208</td>\n",
       "      <td>8.5</td>\n",
       "      <td>25944.0</td>\n",
       "      <td>3</td>\n",
       "      <td>Positive</td>\n",
       "      <td>1</td>\n",
       "    </tr>\n",
       "    <tr>\n",
       "      <th>529</th>\n",
       "      <td>Hulu</td>\n",
       "      <td>ts20690</td>\n",
       "      <td>SHOW</td>\n",
       "      <td>1962</td>\n",
       "      <td>30</td>\n",
       "      <td>tt0055686</td>\n",
       "      <td>7.2</td>\n",
       "      <td>2797.0</td>\n",
       "      <td>3</td>\n",
       "      <td>Positive</td>\n",
       "      <td>1</td>\n",
       "    </tr>\n",
       "    <tr>\n",
       "      <th>530</th>\n",
       "      <td>Hulu</td>\n",
       "      <td>tm19438</td>\n",
       "      <td>MOVIE</td>\n",
       "      <td>1987</td>\n",
       "      <td>99</td>\n",
       "      <td>tt0093779</td>\n",
       "      <td>8.0</td>\n",
       "      <td>420521.0</td>\n",
       "      <td>9</td>\n",
       "      <td>Positive</td>\n",
       "      <td>1</td>\n",
       "    </tr>\n",
       "  </tbody>\n",
       "</table>\n",
       "</div>"
      ],
      "text/plain": [
       "    platform       id   type  release_year  runtime    imdb_id  imdb_score  \\\n",
       "528     Hulu  ts20005   SHOW          1951       30  tt0043208         8.5   \n",
       "529     Hulu  ts20690   SHOW          1962       30  tt0055686         7.2   \n",
       "530     Hulu  tm19438  MOVIE          1987       99  tt0093779         8.0   \n",
       "\n",
       "     imdb_votes genre    Rating  Rating1  \n",
       "528     25944.0     3  Positive        1  \n",
       "529      2797.0     3  Positive        1  \n",
       "530    420521.0     9  Positive        1  "
      ]
     },
     "execution_count": 187,
     "metadata": {},
     "output_type": "execute_result"
    }
   ],
   "source": [
    "all_hulu.head(3)"
   ]
  },
  {
   "cell_type": "code",
   "execution_count": 188,
   "id": "bddc6ef3",
   "metadata": {},
   "outputs": [
    {
     "data": {
      "text/plain": [
       "Rating\n",
       "Negative     990\n",
       "Positive    1233\n",
       "Name: genre, dtype: int64"
      ]
     },
     "execution_count": 188,
     "metadata": {},
     "output_type": "execute_result"
    }
   ],
   "source": [
    "all_hulu.groupby('Rating')['genre'].count()"
   ]
  },
  {
   "cell_type": "code",
   "execution_count": 189,
   "id": "bc52923d",
   "metadata": {},
   "outputs": [
    {
     "name": "stdout",
     "output_type": "stream",
     "text": [
      "platform         object\n",
      "id               object\n",
      "type             object\n",
      "release_year      int64\n",
      "runtime           int64\n",
      "imdb_id          object\n",
      "imdb_score      float64\n",
      "imdb_votes      float64\n",
      "genre            object\n",
      "Rating           object\n",
      "Rating1           int64\n",
      "dtype: object\n"
     ]
    }
   ],
   "source": [
    "print(all_hulu.dtypes)"
   ]
  },
  {
   "cell_type": "code",
   "execution_count": 190,
   "id": "55090e4d",
   "metadata": {},
   "outputs": [
    {
     "name": "stdout",
     "output_type": "stream",
     "text": [
      "platform         object\n",
      "id               object\n",
      "type             object\n",
      "release_year      int64\n",
      "runtime           int64\n",
      "imdb_id          object\n",
      "imdb_score      float64\n",
      "imdb_votes      float64\n",
      "genre             int32\n",
      "Rating           object\n",
      "Rating1           int64\n",
      "dtype: object\n"
     ]
    }
   ],
   "source": [
    "all_hulu['genre'] = all_hulu['genre'].astype(int)\n",
    "print(all_hulu.dtypes)"
   ]
  },
  {
   "cell_type": "code",
   "execution_count": 191,
   "id": "2f93244e",
   "metadata": {},
   "outputs": [
    {
     "data": {
      "text/html": [
       "<style type=\"text/css\">\n",
       "#T_f0367_row0_col0, #T_f0367_row1_col1, #T_f0367_row2_col2, #T_f0367_row3_col3, #T_f0367_row4_col4, #T_f0367_row5_col5 {\n",
       "  background-color: #b40426;\n",
       "  color: #f1f1f1;\n",
       "}\n",
       "#T_f0367_row0_col1 {\n",
       "  background-color: #afcafc;\n",
       "  color: #000000;\n",
       "}\n",
       "#T_f0367_row0_col2 {\n",
       "  background-color: #a9c6fd;\n",
       "  color: #000000;\n",
       "}\n",
       "#T_f0367_row0_col3, #T_f0367_row2_col1, #T_f0367_row2_col4, #T_f0367_row2_col5, #T_f0367_row3_col0, #T_f0367_row5_col2 {\n",
       "  background-color: #3b4cc0;\n",
       "  color: #f1f1f1;\n",
       "}\n",
       "#T_f0367_row0_col4 {\n",
       "  background-color: #6c8ff1;\n",
       "  color: #f1f1f1;\n",
       "}\n",
       "#T_f0367_row0_col5 {\n",
       "  background-color: #e6d7cf;\n",
       "  color: #000000;\n",
       "}\n",
       "#T_f0367_row1_col0 {\n",
       "  background-color: #9abbff;\n",
       "  color: #000000;\n",
       "}\n",
       "#T_f0367_row1_col2 {\n",
       "  background-color: #90b2fe;\n",
       "  color: #000000;\n",
       "}\n",
       "#T_f0367_row1_col3, #T_f0367_row3_col5, #T_f0367_row4_col1 {\n",
       "  background-color: #b2ccfb;\n",
       "  color: #000000;\n",
       "}\n",
       "#T_f0367_row1_col4 {\n",
       "  background-color: #8badfd;\n",
       "  color: #000000;\n",
       "}\n",
       "#T_f0367_row1_col5 {\n",
       "  background-color: #f5c2aa;\n",
       "  color: #000000;\n",
       "}\n",
       "#T_f0367_row2_col0 {\n",
       "  background-color: #3d50c3;\n",
       "  color: #f1f1f1;\n",
       "}\n",
       "#T_f0367_row2_col3 {\n",
       "  background-color: #b3cdfb;\n",
       "  color: #000000;\n",
       "}\n",
       "#T_f0367_row3_col1 {\n",
       "  background-color: #c4d5f3;\n",
       "  color: #000000;\n",
       "}\n",
       "#T_f0367_row3_col2 {\n",
       "  background-color: #ecd3c5;\n",
       "  color: #000000;\n",
       "}\n",
       "#T_f0367_row3_col4 {\n",
       "  background-color: #6a8bef;\n",
       "  color: #f1f1f1;\n",
       "}\n",
       "#T_f0367_row4_col0 {\n",
       "  background-color: #82a6fb;\n",
       "  color: #f1f1f1;\n",
       "}\n",
       "#T_f0367_row4_col2 {\n",
       "  background-color: #b7cff9;\n",
       "  color: #000000;\n",
       "}\n",
       "#T_f0367_row4_col3 {\n",
       "  background-color: #80a3fa;\n",
       "  color: #f1f1f1;\n",
       "}\n",
       "#T_f0367_row4_col5, #T_f0367_row5_col1 {\n",
       "  background-color: #dcdddd;\n",
       "  color: #000000;\n",
       "}\n",
       "#T_f0367_row5_col0 {\n",
       "  background-color: #a5c3fe;\n",
       "  color: #000000;\n",
       "}\n",
       "#T_f0367_row5_col3 {\n",
       "  background-color: #4961d2;\n",
       "  color: #f1f1f1;\n",
       "}\n",
       "#T_f0367_row5_col4 {\n",
       "  background-color: #7a9df8;\n",
       "  color: #f1f1f1;\n",
       "}\n",
       "</style>\n",
       "<table id=\"T_f0367\">\n",
       "  <thead>\n",
       "    <tr>\n",
       "      <th class=\"blank level0\" >&nbsp;</th>\n",
       "      <th id=\"T_f0367_level0_col0\" class=\"col_heading level0 col0\" >release_year</th>\n",
       "      <th id=\"T_f0367_level0_col1\" class=\"col_heading level0 col1\" >runtime</th>\n",
       "      <th id=\"T_f0367_level0_col2\" class=\"col_heading level0 col2\" >imdb_score</th>\n",
       "      <th id=\"T_f0367_level0_col3\" class=\"col_heading level0 col3\" >imdb_votes</th>\n",
       "      <th id=\"T_f0367_level0_col4\" class=\"col_heading level0 col4\" >genre</th>\n",
       "      <th id=\"T_f0367_level0_col5\" class=\"col_heading level0 col5\" >Rating1</th>\n",
       "    </tr>\n",
       "  </thead>\n",
       "  <tbody>\n",
       "    <tr>\n",
       "      <th id=\"T_f0367_level0_row0\" class=\"row_heading level0 row0\" >release_year</th>\n",
       "      <td id=\"T_f0367_row0_col0\" class=\"data row0 col0\" >1.000000</td>\n",
       "      <td id=\"T_f0367_row0_col1\" class=\"data row0 col1\" >0.130035</td>\n",
       "      <td id=\"T_f0367_row0_col2\" class=\"data row0 col2\" >-0.208215</td>\n",
       "      <td id=\"T_f0367_row0_col3\" class=\"data row0 col3\" >-0.221867</td>\n",
       "      <td id=\"T_f0367_row0_col4\" class=\"data row0 col4\" >0.046081</td>\n",
       "      <td id=\"T_f0367_row0_col5\" class=\"data row0 col5\" >0.167168</td>\n",
       "    </tr>\n",
       "    <tr>\n",
       "      <th id=\"T_f0367_level0_row1\" class=\"row_heading level0 row1\" >runtime</th>\n",
       "      <td id=\"T_f0367_row1_col0\" class=\"data row1 col0\" >0.130035</td>\n",
       "      <td id=\"T_f0367_row1_col1\" class=\"data row1 col1\" >1.000000</td>\n",
       "      <td id=\"T_f0367_row1_col2\" class=\"data row1 col2\" >-0.336040</td>\n",
       "      <td id=\"T_f0367_row1_col3\" class=\"data row1 col3\" >0.213866</td>\n",
       "      <td id=\"T_f0367_row1_col4\" class=\"data row1 col4\" >0.142704</td>\n",
       "      <td id=\"T_f0367_row1_col5\" class=\"data row1 col5\" >0.331146</td>\n",
       "    </tr>\n",
       "    <tr>\n",
       "      <th id=\"T_f0367_level0_row2\" class=\"row_heading level0 row2\" >imdb_score</th>\n",
       "      <td id=\"T_f0367_row2_col0\" class=\"data row2 col0\" >-0.208215</td>\n",
       "      <td id=\"T_f0367_row2_col1\" class=\"data row2 col1\" >-0.336040</td>\n",
       "      <td id=\"T_f0367_row2_col2\" class=\"data row2 col2\" >1.000000</td>\n",
       "      <td id=\"T_f0367_row2_col3\" class=\"data row2 col3\" >0.218194</td>\n",
       "      <td id=\"T_f0367_row2_col4\" class=\"data row2 col4\" >-0.132401</td>\n",
       "      <td id=\"T_f0367_row2_col5\" class=\"data row2 col5\" >-0.802560</td>\n",
       "    </tr>\n",
       "    <tr>\n",
       "      <th id=\"T_f0367_level0_row3\" class=\"row_heading level0 row3\" >imdb_votes</th>\n",
       "      <td id=\"T_f0367_row3_col0\" class=\"data row3 col0\" >-0.221867</td>\n",
       "      <td id=\"T_f0367_row3_col1\" class=\"data row3 col1\" >0.213866</td>\n",
       "      <td id=\"T_f0367_row3_col2\" class=\"data row3 col2\" >0.218194</td>\n",
       "      <td id=\"T_f0367_row3_col3\" class=\"data row3 col3\" >1.000000</td>\n",
       "      <td id=\"T_f0367_row3_col4\" class=\"data row3 col4\" >0.037655</td>\n",
       "      <td id=\"T_f0367_row3_col5\" class=\"data row3 col5\" >-0.161781</td>\n",
       "    </tr>\n",
       "    <tr>\n",
       "      <th id=\"T_f0367_level0_row4\" class=\"row_heading level0 row4\" >genre</th>\n",
       "      <td id=\"T_f0367_row4_col0\" class=\"data row4 col0\" >0.046081</td>\n",
       "      <td id=\"T_f0367_row4_col1\" class=\"data row4 col1\" >0.142704</td>\n",
       "      <td id=\"T_f0367_row4_col2\" class=\"data row4 col2\" >-0.132401</td>\n",
       "      <td id=\"T_f0367_row4_col3\" class=\"data row4 col3\" >0.037655</td>\n",
       "      <td id=\"T_f0367_row4_col4\" class=\"data row4 col4\" >1.000000</td>\n",
       "      <td id=\"T_f0367_row4_col5\" class=\"data row4 col5\" >0.092622</td>\n",
       "    </tr>\n",
       "    <tr>\n",
       "      <th id=\"T_f0367_level0_row5\" class=\"row_heading level0 row5\" >Rating1</th>\n",
       "      <td id=\"T_f0367_row5_col0\" class=\"data row5 col0\" >0.167168</td>\n",
       "      <td id=\"T_f0367_row5_col1\" class=\"data row5 col1\" >0.331146</td>\n",
       "      <td id=\"T_f0367_row5_col2\" class=\"data row5 col2\" >-0.802560</td>\n",
       "      <td id=\"T_f0367_row5_col3\" class=\"data row5 col3\" >-0.161781</td>\n",
       "      <td id=\"T_f0367_row5_col4\" class=\"data row5 col4\" >0.092622</td>\n",
       "      <td id=\"T_f0367_row5_col5\" class=\"data row5 col5\" >1.000000</td>\n",
       "    </tr>\n",
       "  </tbody>\n",
       "</table>\n"
      ],
      "text/plain": [
       "<pandas.io.formats.style.Styler at 0x14590a11240>"
      ]
     },
     "execution_count": 191,
     "metadata": {},
     "output_type": "execute_result"
    }
   ],
   "source": [
    "corr = all_hulu.corr()\n",
    "corr.style.background_gradient(cmap='coolwarm')"
   ]
  },
  {
   "cell_type": "code",
   "execution_count": 192,
   "id": "11fed02a",
   "metadata": {},
   "outputs": [
    {
     "data": {
      "text/plain": [
       "Text(0, 0.5, 'AVG IMDB Score')"
      ]
     },
     "execution_count": 192,
     "metadata": {},
     "output_type": "execute_result"
    },
    {
     "data": {
      "image/png": "[encoded data removed]",
      "text/plain": [
       "<Figure size 432x288 with 1 Axes>"
      ]
     },
     "metadata": {
      "needs_background": "light"
     },
     "output_type": "display_data"
    }
   ],
   "source": [
    "all_hulu_1 = all_hulu[['genre', 'imdb_score']]\n",
    "all_hulu_avg = all_hulu_1.groupby('genre')['imdb_score'].mean()\n",
    "all_hulu_avg.plot(kind='bar')\n",
    "plt.title('Hulu Shows and Movies')\n",
    "plt.xlabel('Genre')\n",
    "plt.ylabel('AVG IMDB Score')"
   ]
  },
  {
   "cell_type": "code",
   "execution_count": 193,
   "id": "6731b766",
   "metadata": {},
   "outputs": [
    {
     "name": "stdout",
     "output_type": "stream",
     "text": [
      "genre\n",
      "1     6.931655\n",
      "2     6.725641\n",
      "3     6.734732\n",
      "4     7.077273\n",
      "5     7.022321\n",
      "6     6.862762\n",
      "9     6.065116\n",
      "10    6.857143\n",
      "11    5.283333\n",
      "12    6.792857\n",
      "13    6.244720\n",
      "14    6.036066\n",
      "15    7.111789\n",
      "16    7.100000\n",
      "17    5.908861\n",
      "18    7.729412\n",
      "19    7.060000\n",
      "Name: imdb_score, dtype: float64\n"
     ]
    }
   ],
   "source": [
    "print(all_hulu_avg)"
   ]
  },
  {
   "cell_type": "code",
   "execution_count": 194,
   "id": "ae1a69c3",
   "metadata": {},
   "outputs": [],
   "source": [
    "hulu_shows_df = hulu_df.loc[hulu_df['type'] == 'SHOW']"
   ]
  },
  {
   "cell_type": "code",
   "execution_count": 195,
   "id": "2a8fc0d9",
   "metadata": {},
   "outputs": [
    {
     "data": {
      "text/html": [
       "<div>\n",
       "<style scoped>\n",
       "    .dataframe tbody tr th:only-of-type {\n",
       "        vertical-align: middle;\n",
       "    }\n",
       "\n",
       "    .dataframe tbody tr th {\n",
       "        vertical-align: top;\n",
       "    }\n",
       "\n",
       "    .dataframe thead th {\n",
       "        text-align: right;\n",
       "    }\n",
       "</style>\n",
       "<table border=\"1\" class=\"dataframe\">\n",
       "  <thead>\n",
       "    <tr style=\"text-align: right;\">\n",
       "      <th></th>\n",
       "      <th>platform</th>\n",
       "      <th>id</th>\n",
       "      <th>title</th>\n",
       "      <th>type</th>\n",
       "      <th>description</th>\n",
       "      <th>release_year</th>\n",
       "      <th>age_certification</th>\n",
       "      <th>runtime</th>\n",
       "      <th>genres</th>\n",
       "      <th>production_countries</th>\n",
       "      <th>...</th>\n",
       "      <th>genre4</th>\n",
       "      <th>genre5</th>\n",
       "      <th>genre6</th>\n",
       "      <th>genre7</th>\n",
       "      <th>genre8</th>\n",
       "      <th>genre9</th>\n",
       "      <th>genre10</th>\n",
       "      <th>genre</th>\n",
       "      <th>program_type</th>\n",
       "      <th>Platform</th>\n",
       "    </tr>\n",
       "  </thead>\n",
       "  <tbody>\n",
       "    <tr>\n",
       "      <th>528</th>\n",
       "      <td>Hulu</td>\n",
       "      <td>ts20005</td>\n",
       "      <td>I Love Lucy</td>\n",
       "      <td>SHOW</td>\n",
       "      <td>Cuban Bandleader Ricky Ricardo would be happy ...</td>\n",
       "      <td>1951</td>\n",
       "      <td>TV-G</td>\n",
       "      <td>30</td>\n",
       "      <td>comedy, family</td>\n",
       "      <td>['US']</td>\n",
       "      <td>...</td>\n",
       "      <td>NaN</td>\n",
       "      <td>NaN</td>\n",
       "      <td>NaN</td>\n",
       "      <td>NaN</td>\n",
       "      <td>NaN</td>\n",
       "      <td>NaN</td>\n",
       "      <td>NaN</td>\n",
       "      <td>3</td>\n",
       "      <td>1</td>\n",
       "      <td>3</td>\n",
       "    </tr>\n",
       "    <tr>\n",
       "      <th>529</th>\n",
       "      <td>Hulu</td>\n",
       "      <td>ts20690</td>\n",
       "      <td>The Lucy Show</td>\n",
       "      <td>SHOW</td>\n",
       "      <td>The Lucy Show is an American sitcom that aired...</td>\n",
       "      <td>1962</td>\n",
       "      <td>NaN</td>\n",
       "      <td>30</td>\n",
       "      <td>comedy</td>\n",
       "      <td>['US']</td>\n",
       "      <td>...</td>\n",
       "      <td>NaN</td>\n",
       "      <td>NaN</td>\n",
       "      <td>NaN</td>\n",
       "      <td>NaN</td>\n",
       "      <td>NaN</td>\n",
       "      <td>NaN</td>\n",
       "      <td>NaN</td>\n",
       "      <td>3</td>\n",
       "      <td>1</td>\n",
       "      <td>3</td>\n",
       "    </tr>\n",
       "    <tr>\n",
       "      <th>531</th>\n",
       "      <td>Hulu</td>\n",
       "      <td>ts20711</td>\n",
       "      <td>The Simpsons</td>\n",
       "      <td>SHOW</td>\n",
       "      <td>The satiric adventures of a working-class fami...</td>\n",
       "      <td>1989</td>\n",
       "      <td>TV-14</td>\n",
       "      <td>27</td>\n",
       "      <td>animation, comedy</td>\n",
       "      <td>['US']</td>\n",
       "      <td>...</td>\n",
       "      <td>NaN</td>\n",
       "      <td>NaN</td>\n",
       "      <td>NaN</td>\n",
       "      <td>NaN</td>\n",
       "      <td>NaN</td>\n",
       "      <td>NaN</td>\n",
       "      <td>NaN</td>\n",
       "      <td>2</td>\n",
       "      <td>1</td>\n",
       "      <td>3</td>\n",
       "    </tr>\n",
       "  </tbody>\n",
       "</table>\n",
       "<p>3 rows × 29 columns</p>\n",
       "</div>"
      ],
      "text/plain": [
       "    platform       id          title  type  \\\n",
       "528     Hulu  ts20005    I Love Lucy  SHOW   \n",
       "529     Hulu  ts20690  The Lucy Show  SHOW   \n",
       "531     Hulu  ts20711   The Simpsons  SHOW   \n",
       "\n",
       "                                           description  release_year  \\\n",
       "528  Cuban Bandleader Ricky Ricardo would be happy ...          1951   \n",
       "529  The Lucy Show is an American sitcom that aired...          1962   \n",
       "531  The satiric adventures of a working-class fami...          1989   \n",
       "\n",
       "    age_certification  runtime             genres production_countries  ...  \\\n",
       "528              TV-G       30     comedy, family               ['US']  ...   \n",
       "529               NaN       30             comedy               ['US']  ...   \n",
       "531             TV-14       27  animation, comedy               ['US']  ...   \n",
       "\n",
       "     genre4 genre5  genre6  genre7  genre8  genre9 genre10 genre program_type  \\\n",
       "528     NaN    NaN     NaN     NaN     NaN     NaN     NaN     3            1   \n",
       "529     NaN    NaN     NaN     NaN     NaN     NaN     NaN     3            1   \n",
       "531     NaN    NaN     NaN     NaN     NaN     NaN     NaN     2            1   \n",
       "\n",
       "    Platform  \n",
       "528        3  \n",
       "529        3  \n",
       "531        3  \n",
       "\n",
       "[3 rows x 29 columns]"
      ]
     },
     "execution_count": 195,
     "metadata": {},
     "output_type": "execute_result"
    }
   ],
   "source": [
    "hulu_shows_df.head(3)"
   ]
  },
  {
   "cell_type": "code",
   "execution_count": 196,
   "id": "6106392e",
   "metadata": {},
   "outputs": [],
   "source": [
    "hulu_shows = hulu_shows_df.drop(['title', 'type','description', 'age_certification', 'genres', \n",
    "                        'production_countries','tmdb_popularity','tmdb_score','program_type',\n",
    "                        'Platform','genre1', 'genre2', 'genre3', 'genre4', 'genre5', 'genre6', \n",
    "                        'genre7','genre8', 'genre9', 'genre10'], axis=1)"
   ]
  },
  {
   "cell_type": "code",
   "execution_count": 197,
   "id": "318dcac6",
   "metadata": {},
   "outputs": [
    {
     "data": {
      "text/html": [
       "<div>\n",
       "<style scoped>\n",
       "    .dataframe tbody tr th:only-of-type {\n",
       "        vertical-align: middle;\n",
       "    }\n",
       "\n",
       "    .dataframe tbody tr th {\n",
       "        vertical-align: top;\n",
       "    }\n",
       "\n",
       "    .dataframe thead th {\n",
       "        text-align: right;\n",
       "    }\n",
       "</style>\n",
       "<table border=\"1\" class=\"dataframe\">\n",
       "  <thead>\n",
       "    <tr style=\"text-align: right;\">\n",
       "      <th></th>\n",
       "      <th>platform</th>\n",
       "      <th>id</th>\n",
       "      <th>release_year</th>\n",
       "      <th>runtime</th>\n",
       "      <th>seasons</th>\n",
       "      <th>imdb_id</th>\n",
       "      <th>imdb_score</th>\n",
       "      <th>imdb_votes</th>\n",
       "      <th>genre</th>\n",
       "    </tr>\n",
       "  </thead>\n",
       "  <tbody>\n",
       "    <tr>\n",
       "      <th>528</th>\n",
       "      <td>Hulu</td>\n",
       "      <td>ts20005</td>\n",
       "      <td>1951</td>\n",
       "      <td>30</td>\n",
       "      <td>9.0</td>\n",
       "      <td>tt0043208</td>\n",
       "      <td>8.5</td>\n",
       "      <td>25944.0</td>\n",
       "      <td>3</td>\n",
       "    </tr>\n",
       "    <tr>\n",
       "      <th>529</th>\n",
       "      <td>Hulu</td>\n",
       "      <td>ts20690</td>\n",
       "      <td>1962</td>\n",
       "      <td>30</td>\n",
       "      <td>6.0</td>\n",
       "      <td>tt0055686</td>\n",
       "      <td>7.2</td>\n",
       "      <td>2797.0</td>\n",
       "      <td>3</td>\n",
       "    </tr>\n",
       "    <tr>\n",
       "      <th>531</th>\n",
       "      <td>Hulu</td>\n",
       "      <td>ts20711</td>\n",
       "      <td>1989</td>\n",
       "      <td>27</td>\n",
       "      <td>34.0</td>\n",
       "      <td>tt0096697</td>\n",
       "      <td>8.7</td>\n",
       "      <td>394764.0</td>\n",
       "      <td>2</td>\n",
       "    </tr>\n",
       "  </tbody>\n",
       "</table>\n",
       "</div>"
      ],
      "text/plain": [
       "    platform       id  release_year  runtime  seasons    imdb_id  imdb_score  \\\n",
       "528     Hulu  ts20005          1951       30      9.0  tt0043208         8.5   \n",
       "529     Hulu  ts20690          1962       30      6.0  tt0055686         7.2   \n",
       "531     Hulu  ts20711          1989       27     34.0  tt0096697         8.7   \n",
       "\n",
       "     imdb_votes genre  \n",
       "528     25944.0     3  \n",
       "529      2797.0     3  \n",
       "531    394764.0     2  "
      ]
     },
     "execution_count": 197,
     "metadata": {},
     "output_type": "execute_result"
    }
   ],
   "source": [
    "hulu_shows.head(3)"
   ]
  },
  {
   "cell_type": "code",
   "execution_count": 198,
   "id": "95990f98",
   "metadata": {},
   "outputs": [
    {
     "data": {
      "text/plain": [
       "platform         0\n",
       "id               0\n",
       "release_year     0\n",
       "runtime          0\n",
       "seasons          0\n",
       "imdb_id         54\n",
       "imdb_score      80\n",
       "imdb_votes      80\n",
       "genre           21\n",
       "dtype: int64"
      ]
     },
     "execution_count": 198,
     "metadata": {},
     "output_type": "execute_result"
    }
   ],
   "source": [
    "hulu_shows.isnull().sum()"
   ]
  },
  {
   "cell_type": "code",
   "execution_count": 199,
   "id": "3a876f48",
   "metadata": {},
   "outputs": [
    {
     "data": {
      "text/plain": [
       "platform        1242\n",
       "id              1242\n",
       "release_year    1242\n",
       "runtime         1242\n",
       "seasons         1242\n",
       "imdb_id         1242\n",
       "imdb_score      1242\n",
       "imdb_votes      1242\n",
       "genre           1242\n",
       "dtype: int64"
      ]
     },
     "execution_count": 199,
     "metadata": {},
     "output_type": "execute_result"
    }
   ],
   "source": [
    "hulu_shows.dropna(inplace=True)\n",
    "hulu_shows.count()"
   ]
  },
  {
   "cell_type": "code",
   "execution_count": 200,
   "id": "0512c525",
   "metadata": {},
   "outputs": [
    {
     "data": {
      "text/plain": [
       "7.156924315619968"
      ]
     },
     "execution_count": 200,
     "metadata": {},
     "output_type": "execute_result"
    }
   ],
   "source": [
    "#Average IMDB Score for Hulu Shows\n",
    "hulu_shows.loc[:, 'imdb_score'].mean()"
   ]
  },
  {
   "cell_type": "code",
   "execution_count": 201,
   "id": "0904b32e",
   "metadata": {},
   "outputs": [
    {
     "data": {
      "text/plain": [
       "34.33252818035427"
      ]
     },
     "execution_count": 201,
     "metadata": {},
     "output_type": "execute_result"
    }
   ],
   "source": [
    "#Average runtime for Hulu Shows\n",
    "hulu_shows.loc[:, 'runtime'].mean()"
   ]
  },
  {
   "cell_type": "code",
   "execution_count": 202,
   "id": "4efd09de",
   "metadata": {},
   "outputs": [],
   "source": [
    "#recoding score\n",
    "def Rating (series):\n",
    "  if series == \"imdb_score\":\n",
    "    return \"0\"\n",
    "  if series <= 7.0: \n",
    "    return \"Negative\"\n",
    "  if series >= 7.1: \n",
    "    return \"Positive\"\n",
    "hulu_shows[\"Rating\"] = hulu_shows['imdb_score'].apply(Rating)"
   ]
  },
  {
   "cell_type": "code",
   "execution_count": 203,
   "id": "72d5af6e",
   "metadata": {},
   "outputs": [],
   "source": [
    "def Rating1 (series):\n",
    "  if series == \"Rating\":\n",
    "    return \"0\"\n",
    "  if series == \"Positive\": \n",
    "    return 1\n",
    "  if series == \"Negative\":\n",
    "    return 2\n",
    "hulu_shows[\"Rating1\"] = hulu_shows[\"Rating\"].apply(Rating1)"
   ]
  },
  {
   "cell_type": "code",
   "execution_count": 204,
   "id": "e847e258",
   "metadata": {},
   "outputs": [
    {
     "data": {
      "text/html": [
       "<div>\n",
       "<style scoped>\n",
       "    .dataframe tbody tr th:only-of-type {\n",
       "        vertical-align: middle;\n",
       "    }\n",
       "\n",
       "    .dataframe tbody tr th {\n",
       "        vertical-align: top;\n",
       "    }\n",
       "\n",
       "    .dataframe thead th {\n",
       "        text-align: right;\n",
       "    }\n",
       "</style>\n",
       "<table border=\"1\" class=\"dataframe\">\n",
       "  <thead>\n",
       "    <tr style=\"text-align: right;\">\n",
       "      <th></th>\n",
       "      <th>platform</th>\n",
       "      <th>id</th>\n",
       "      <th>release_year</th>\n",
       "      <th>runtime</th>\n",
       "      <th>seasons</th>\n",
       "      <th>imdb_id</th>\n",
       "      <th>imdb_score</th>\n",
       "      <th>imdb_votes</th>\n",
       "      <th>genre</th>\n",
       "      <th>Rating</th>\n",
       "      <th>Rating1</th>\n",
       "    </tr>\n",
       "  </thead>\n",
       "  <tbody>\n",
       "    <tr>\n",
       "      <th>528</th>\n",
       "      <td>Hulu</td>\n",
       "      <td>ts20005</td>\n",
       "      <td>1951</td>\n",
       "      <td>30</td>\n",
       "      <td>9.0</td>\n",
       "      <td>tt0043208</td>\n",
       "      <td>8.5</td>\n",
       "      <td>25944.0</td>\n",
       "      <td>3</td>\n",
       "      <td>Positive</td>\n",
       "      <td>1</td>\n",
       "    </tr>\n",
       "    <tr>\n",
       "      <th>529</th>\n",
       "      <td>Hulu</td>\n",
       "      <td>ts20690</td>\n",
       "      <td>1962</td>\n",
       "      <td>30</td>\n",
       "      <td>6.0</td>\n",
       "      <td>tt0055686</td>\n",
       "      <td>7.2</td>\n",
       "      <td>2797.0</td>\n",
       "      <td>3</td>\n",
       "      <td>Positive</td>\n",
       "      <td>1</td>\n",
       "    </tr>\n",
       "    <tr>\n",
       "      <th>531</th>\n",
       "      <td>Hulu</td>\n",
       "      <td>ts20711</td>\n",
       "      <td>1989</td>\n",
       "      <td>27</td>\n",
       "      <td>34.0</td>\n",
       "      <td>tt0096697</td>\n",
       "      <td>8.7</td>\n",
       "      <td>394764.0</td>\n",
       "      <td>2</td>\n",
       "      <td>Positive</td>\n",
       "      <td>1</td>\n",
       "    </tr>\n",
       "  </tbody>\n",
       "</table>\n",
       "</div>"
      ],
      "text/plain": [
       "    platform       id  release_year  runtime  seasons    imdb_id  imdb_score  \\\n",
       "528     Hulu  ts20005          1951       30      9.0  tt0043208         8.5   \n",
       "529     Hulu  ts20690          1962       30      6.0  tt0055686         7.2   \n",
       "531     Hulu  ts20711          1989       27     34.0  tt0096697         8.7   \n",
       "\n",
       "     imdb_votes genre    Rating  Rating1  \n",
       "528     25944.0     3  Positive        1  \n",
       "529      2797.0     3  Positive        1  \n",
       "531    394764.0     2  Positive        1  "
      ]
     },
     "execution_count": 204,
     "metadata": {},
     "output_type": "execute_result"
    }
   ],
   "source": [
    "hulu_shows.head(3)"
   ]
  },
  {
   "cell_type": "code",
   "execution_count": 205,
   "id": "75248ca1",
   "metadata": {},
   "outputs": [
    {
     "data": {
      "text/plain": [
       "Rating\n",
       "Negative    475\n",
       "Positive    767\n",
       "Name: genre, dtype: int64"
      ]
     },
     "execution_count": 205,
     "metadata": {},
     "output_type": "execute_result"
    }
   ],
   "source": [
    "hulu_shows.groupby('Rating')['genre'].count()"
   ]
  },
  {
   "cell_type": "code",
   "execution_count": 206,
   "id": "2187203a",
   "metadata": {},
   "outputs": [
    {
     "name": "stdout",
     "output_type": "stream",
     "text": [
      "platform         object\n",
      "id               object\n",
      "release_year      int64\n",
      "runtime           int64\n",
      "seasons         float64\n",
      "imdb_id          object\n",
      "imdb_score      float64\n",
      "imdb_votes      float64\n",
      "genre            object\n",
      "Rating           object\n",
      "Rating1           int64\n",
      "dtype: object\n"
     ]
    }
   ],
   "source": [
    "print(hulu_shows.dtypes)"
   ]
  },
  {
   "cell_type": "code",
   "execution_count": 207,
   "id": "0b0edf5d",
   "metadata": {},
   "outputs": [
    {
     "name": "stdout",
     "output_type": "stream",
     "text": [
      "platform         object\n",
      "id               object\n",
      "release_year      int64\n",
      "runtime           int64\n",
      "seasons         float64\n",
      "imdb_id          object\n",
      "imdb_score      float64\n",
      "imdb_votes      float64\n",
      "genre             int32\n",
      "Rating           object\n",
      "Rating1           int64\n",
      "dtype: object\n"
     ]
    }
   ],
   "source": [
    "hulu_shows['genre'] = hulu_shows['genre'].astype(int)\n",
    "print(hulu_shows.dtypes)"
   ]
  },
  {
   "cell_type": "code",
   "execution_count": 208,
   "id": "433dfcb4",
   "metadata": {},
   "outputs": [
    {
     "data": {
      "text/html": [
       "<style type=\"text/css\">\n",
       "#T_b339d_row0_col0, #T_b339d_row1_col1, #T_b339d_row2_col2, #T_b339d_row3_col3, #T_b339d_row4_col4, #T_b339d_row5_col5, #T_b339d_row6_col6 {\n",
       "  background-color: #b40426;\n",
       "  color: #f1f1f1;\n",
       "}\n",
       "#T_b339d_row0_col1 {\n",
       "  background-color: #506bda;\n",
       "  color: #f1f1f1;\n",
       "}\n",
       "#T_b339d_row0_col2, #T_b339d_row2_col0, #T_b339d_row3_col5, #T_b339d_row3_col6, #T_b339d_row6_col1, #T_b339d_row6_col3, #T_b339d_row6_col4 {\n",
       "  background-color: #3b4cc0;\n",
       "  color: #f1f1f1;\n",
       "}\n",
       "#T_b339d_row0_col3 {\n",
       "  background-color: #b2ccfb;\n",
       "  color: #000000;\n",
       "}\n",
       "#T_b339d_row0_col4 {\n",
       "  background-color: #455cce;\n",
       "  color: #f1f1f1;\n",
       "}\n",
       "#T_b339d_row0_col5 {\n",
       "  background-color: #5572df;\n",
       "  color: #f1f1f1;\n",
       "}\n",
       "#T_b339d_row0_col6 {\n",
       "  background-color: #e2dad5;\n",
       "  color: #000000;\n",
       "}\n",
       "#T_b339d_row1_col0 {\n",
       "  background-color: #a7c5fe;\n",
       "  color: #000000;\n",
       "}\n",
       "#T_b339d_row1_col2 {\n",
       "  background-color: #bbd1f8;\n",
       "  color: #000000;\n",
       "}\n",
       "#T_b339d_row1_col3 {\n",
       "  background-color: #cad8ef;\n",
       "  color: #000000;\n",
       "}\n",
       "#T_b339d_row1_col4 {\n",
       "  background-color: #84a7fc;\n",
       "  color: #f1f1f1;\n",
       "}\n",
       "#T_b339d_row1_col5 {\n",
       "  background-color: #98b9ff;\n",
       "  color: #000000;\n",
       "}\n",
       "#T_b339d_row1_col6 {\n",
       "  background-color: #c6d6f1;\n",
       "  color: #000000;\n",
       "}\n",
       "#T_b339d_row2_col1 {\n",
       "  background-color: #6c8ff1;\n",
       "  color: #f1f1f1;\n",
       "}\n",
       "#T_b339d_row2_col3, #T_b339d_row4_col2 {\n",
       "  background-color: #cbd8ee;\n",
       "  color: #000000;\n",
       "}\n",
       "#T_b339d_row2_col4 {\n",
       "  background-color: #afcafc;\n",
       "  color: #000000;\n",
       "}\n",
       "#T_b339d_row2_col5, #T_b339d_row5_col4 {\n",
       "  background-color: #688aef;\n",
       "  color: #f1f1f1;\n",
       "}\n",
       "#T_b339d_row2_col6 {\n",
       "  background-color: #c5d6f2;\n",
       "  color: #000000;\n",
       "}\n",
       "#T_b339d_row3_col0 {\n",
       "  background-color: #779af7;\n",
       "  color: #f1f1f1;\n",
       "}\n",
       "#T_b339d_row3_col1 {\n",
       "  background-color: #4055c8;\n",
       "  color: #f1f1f1;\n",
       "}\n",
       "#T_b339d_row3_col2 {\n",
       "  background-color: #9abbff;\n",
       "  color: #000000;\n",
       "}\n",
       "#T_b339d_row3_col4 {\n",
       "  background-color: #c9d7f0;\n",
       "  color: #000000;\n",
       "}\n",
       "#T_b339d_row4_col0 {\n",
       "  background-color: #6f92f3;\n",
       "  color: #f1f1f1;\n",
       "}\n",
       "#T_b339d_row4_col1 {\n",
       "  background-color: #516ddb;\n",
       "  color: #f1f1f1;\n",
       "}\n",
       "#T_b339d_row4_col3 {\n",
       "  background-color: #f2cab5;\n",
       "  color: #000000;\n",
       "}\n",
       "#T_b339d_row4_col5 {\n",
       "  background-color: #465ecf;\n",
       "  color: #f1f1f1;\n",
       "}\n",
       "#T_b339d_row4_col6 {\n",
       "  background-color: #a2c1ff;\n",
       "  color: #000000;\n",
       "}\n",
       "#T_b339d_row5_col0 {\n",
       "  background-color: #9dbdff;\n",
       "  color: #000000;\n",
       "}\n",
       "#T_b339d_row5_col1 {\n",
       "  background-color: #89acfd;\n",
       "  color: #000000;\n",
       "}\n",
       "#T_b339d_row5_col2 {\n",
       "  background-color: #adc9fd;\n",
       "  color: #000000;\n",
       "}\n",
       "#T_b339d_row5_col3 {\n",
       "  background-color: #bcd2f7;\n",
       "  color: #000000;\n",
       "}\n",
       "#T_b339d_row5_col6 {\n",
       "  background-color: #cfdaea;\n",
       "  color: #000000;\n",
       "}\n",
       "#T_b339d_row6_col0 {\n",
       "  background-color: #bfd3f6;\n",
       "  color: #000000;\n",
       "}\n",
       "#T_b339d_row6_col2 {\n",
       "  background-color: #92b4fe;\n",
       "  color: #000000;\n",
       "}\n",
       "#T_b339d_row6_col5 {\n",
       "  background-color: #5977e3;\n",
       "  color: #f1f1f1;\n",
       "}\n",
       "</style>\n",
       "<table id=\"T_b339d\">\n",
       "  <thead>\n",
       "    <tr>\n",
       "      <th class=\"blank level0\" >&nbsp;</th>\n",
       "      <th id=\"T_b339d_level0_col0\" class=\"col_heading level0 col0\" >release_year</th>\n",
       "      <th id=\"T_b339d_level0_col1\" class=\"col_heading level0 col1\" >runtime</th>\n",
       "      <th id=\"T_b339d_level0_col2\" class=\"col_heading level0 col2\" >seasons</th>\n",
       "      <th id=\"T_b339d_level0_col3\" class=\"col_heading level0 col3\" >imdb_score</th>\n",
       "      <th id=\"T_b339d_level0_col4\" class=\"col_heading level0 col4\" >imdb_votes</th>\n",
       "      <th id=\"T_b339d_level0_col5\" class=\"col_heading level0 col5\" >genre</th>\n",
       "      <th id=\"T_b339d_level0_col6\" class=\"col_heading level0 col6\" >Rating1</th>\n",
       "    </tr>\n",
       "  </thead>\n",
       "  <tbody>\n",
       "    <tr>\n",
       "      <th id=\"T_b339d_level0_row0\" class=\"row_heading level0 row0\" >release_year</th>\n",
       "      <td id=\"T_b339d_row0_col0\" class=\"data row0 col0\" >1.000000</td>\n",
       "      <td id=\"T_b339d_row0_col1\" class=\"data row0 col1\" >0.047429</td>\n",
       "      <td id=\"T_b339d_row0_col2\" class=\"data row0 col2\" >-0.410281</td>\n",
       "      <td id=\"T_b339d_row0_col3\" class=\"data row0 col3\" >-0.144133</td>\n",
       "      <td id=\"T_b339d_row0_col4\" class=\"data row0 col4\" >-0.178140</td>\n",
       "      <td id=\"T_b339d_row0_col5\" class=\"data row0 col5\" >0.006380</td>\n",
       "      <td id=\"T_b339d_row0_col6\" class=\"data row0 col6\" >0.146797</td>\n",
       "    </tr>\n",
       "    <tr>\n",
       "      <th id=\"T_b339d_level0_row1\" class=\"row_heading level0 row1\" >runtime</th>\n",
       "      <td id=\"T_b339d_row1_col0\" class=\"data row1 col0\" >0.047429</td>\n",
       "      <td id=\"T_b339d_row1_col1\" class=\"data row1 col1\" >1.000000</td>\n",
       "      <td id=\"T_b339d_row1_col2\" class=\"data row1 col2\" >0.134367</td>\n",
       "      <td id=\"T_b339d_row1_col3\" class=\"data row1 col3\" >-0.007995</td>\n",
       "      <td id=\"T_b339d_row1_col4\" class=\"data row1 col4\" >0.048474</td>\n",
       "      <td id=\"T_b339d_row1_col5\" class=\"data row1 col5\" >0.218575</td>\n",
       "      <td id=\"T_b339d_row1_col6\" class=\"data row1 col6\" >-0.028452</td>\n",
       "    </tr>\n",
       "    <tr>\n",
       "      <th id=\"T_b339d_level0_row2\" class=\"row_heading level0 row2\" >seasons</th>\n",
       "      <td id=\"T_b339d_row2_col0\" class=\"data row2 col0\" >-0.410281</td>\n",
       "      <td id=\"T_b339d_row2_col1\" class=\"data row2 col1\" >0.134367</td>\n",
       "      <td id=\"T_b339d_row2_col2\" class=\"data row2 col2\" >1.000000</td>\n",
       "      <td id=\"T_b339d_row2_col3\" class=\"data row2 col3\" >-0.005889</td>\n",
       "      <td id=\"T_b339d_row2_col4\" class=\"data row2 col4\" >0.203579</td>\n",
       "      <td id=\"T_b339d_row2_col5\" class=\"data row2 col5\" >0.069826</td>\n",
       "      <td id=\"T_b339d_row2_col6\" class=\"data row2 col6\" >-0.038435</td>\n",
       "    </tr>\n",
       "    <tr>\n",
       "      <th id=\"T_b339d_level0_row3\" class=\"row_heading level0 row3\" >imdb_score</th>\n",
       "      <td id=\"T_b339d_row3_col0\" class=\"data row3 col0\" >-0.144133</td>\n",
       "      <td id=\"T_b339d_row3_col1\" class=\"data row3 col1\" >-0.007995</td>\n",
       "      <td id=\"T_b339d_row3_col2\" class=\"data row3 col2\" >-0.005889</td>\n",
       "      <td id=\"T_b339d_row3_col3\" class=\"data row3 col3\" >1.000000</td>\n",
       "      <td id=\"T_b339d_row3_col4\" class=\"data row3 col4\" >0.297422</td>\n",
       "      <td id=\"T_b339d_row3_col5\" class=\"data row3 col5\" >-0.088032</td>\n",
       "      <td id=\"T_b339d_row3_col6\" class=\"data row3 col6\" >-0.777644</td>\n",
       "    </tr>\n",
       "    <tr>\n",
       "      <th id=\"T_b339d_level0_row4\" class=\"row_heading level0 row4\" >imdb_votes</th>\n",
       "      <td id=\"T_b339d_row4_col0\" class=\"data row4 col0\" >-0.178140</td>\n",
       "      <td id=\"T_b339d_row4_col1\" class=\"data row4 col1\" >0.048474</td>\n",
       "      <td id=\"T_b339d_row4_col2\" class=\"data row4 col2\" >0.203579</td>\n",
       "      <td id=\"T_b339d_row4_col3\" class=\"data row4 col3\" >0.297422</td>\n",
       "      <td id=\"T_b339d_row4_col4\" class=\"data row4 col4\" >1.000000</td>\n",
       "      <td id=\"T_b339d_row4_col5\" class=\"data row4 col5\" >-0.044890</td>\n",
       "      <td id=\"T_b339d_row4_col6\" class=\"data row4 col6\" >-0.225361</td>\n",
       "    </tr>\n",
       "    <tr>\n",
       "      <th id=\"T_b339d_level0_row5\" class=\"row_heading level0 row5\" >genre</th>\n",
       "      <td id=\"T_b339d_row5_col0\" class=\"data row5 col0\" >0.006380</td>\n",
       "      <td id=\"T_b339d_row5_col1\" class=\"data row5 col1\" >0.218575</td>\n",
       "      <td id=\"T_b339d_row5_col2\" class=\"data row5 col2\" >0.069826</td>\n",
       "      <td id=\"T_b339d_row5_col3\" class=\"data row5 col3\" >-0.088032</td>\n",
       "      <td id=\"T_b339d_row5_col4\" class=\"data row5 col4\" >-0.044890</td>\n",
       "      <td id=\"T_b339d_row5_col5\" class=\"data row5 col5\" >1.000000</td>\n",
       "      <td id=\"T_b339d_row5_col6\" class=\"data row5 col6\" >0.021304</td>\n",
       "    </tr>\n",
       "    <tr>\n",
       "      <th id=\"T_b339d_level0_row6\" class=\"row_heading level0 row6\" >Rating1</th>\n",
       "      <td id=\"T_b339d_row6_col0\" class=\"data row6 col0\" >0.146797</td>\n",
       "      <td id=\"T_b339d_row6_col1\" class=\"data row6 col1\" >-0.028452</td>\n",
       "      <td id=\"T_b339d_row6_col2\" class=\"data row6 col2\" >-0.038435</td>\n",
       "      <td id=\"T_b339d_row6_col3\" class=\"data row6 col3\" >-0.777644</td>\n",
       "      <td id=\"T_b339d_row6_col4\" class=\"data row6 col4\" >-0.225361</td>\n",
       "      <td id=\"T_b339d_row6_col5\" class=\"data row6 col5\" >0.021304</td>\n",
       "      <td id=\"T_b339d_row6_col6\" class=\"data row6 col6\" >1.000000</td>\n",
       "    </tr>\n",
       "  </tbody>\n",
       "</table>\n"
      ],
      "text/plain": [
       "<pandas.io.formats.style.Styler at 0x14590f6a2c0>"
      ]
     },
     "execution_count": 208,
     "metadata": {},
     "output_type": "execute_result"
    }
   ],
   "source": [
    "corr = hulu_shows.corr()\n",
    "corr.style.background_gradient(cmap='coolwarm')"
   ]
  },
  {
   "cell_type": "code",
   "execution_count": 209,
   "id": "a8e62e04",
   "metadata": {},
   "outputs": [
    {
     "data": {
      "text/plain": [
       "Text(0, 0.5, 'AVG IMDB Score')"
      ]
     },
     "execution_count": 209,
     "metadata": {},
     "output_type": "execute_result"
    },
    {
     "data": {
      "image/png": "[encoded data removed]",
      "text/plain": [
       "<Figure size 432x288 with 1 Axes>"
      ]
     },
     "metadata": {
      "needs_background": "light"
     },
     "output_type": "display_data"
    }
   ],
   "source": [
    "hulu_shows_1 = hulu_shows[['genre', 'imdb_score']]\n",
    "hulu_shows_avg = hulu_shows_1.groupby('genre')['imdb_score'].mean()\n",
    "hulu_shows_avg.plot(kind='bar')\n",
    "plt.title('Hulu Shows')\n",
    "plt.xlabel('Genre')\n",
    "plt.ylabel('AVG IMDB Score')"
   ]
  },
  {
   "cell_type": "code",
   "execution_count": 210,
   "id": "79be6e52",
   "metadata": {},
   "outputs": [
    {
     "name": "stdout",
     "output_type": "stream",
     "text": [
      "genre\n",
      "1     7.217699\n",
      "2     6.982353\n",
      "3     7.228736\n",
      "4     7.608511\n",
      "5     7.236364\n",
      "6     7.410246\n",
      "9     7.800000\n",
      "10    7.400000\n",
      "11    6.000000\n",
      "12    6.500000\n",
      "13    6.244720\n",
      "14    6.733333\n",
      "15    7.346226\n",
      "16    7.166667\n",
      "17    7.211111\n",
      "18    7.850000\n",
      "19    8.300000\n",
      "Name: imdb_score, dtype: float64\n"
     ]
    }
   ],
   "source": [
    "print(hulu_shows_avg)"
   ]
  },
  {
   "cell_type": "code",
   "execution_count": 211,
   "id": "87426f5e",
   "metadata": {},
   "outputs": [],
   "source": [
    "hulu_movies_df = hulu_df.loc[hulu_df['type'] == 'MOVIE']"
   ]
  },
  {
   "cell_type": "code",
   "execution_count": 212,
   "id": "21f83f4a",
   "metadata": {},
   "outputs": [
    {
     "data": {
      "text/html": [
       "<div>\n",
       "<style scoped>\n",
       "    .dataframe tbody tr th:only-of-type {\n",
       "        vertical-align: middle;\n",
       "    }\n",
       "\n",
       "    .dataframe tbody tr th {\n",
       "        vertical-align: top;\n",
       "    }\n",
       "\n",
       "    .dataframe thead th {\n",
       "        text-align: right;\n",
       "    }\n",
       "</style>\n",
       "<table border=\"1\" class=\"dataframe\">\n",
       "  <thead>\n",
       "    <tr style=\"text-align: right;\">\n",
       "      <th></th>\n",
       "      <th>platform</th>\n",
       "      <th>id</th>\n",
       "      <th>title</th>\n",
       "      <th>type</th>\n",
       "      <th>description</th>\n",
       "      <th>release_year</th>\n",
       "      <th>age_certification</th>\n",
       "      <th>runtime</th>\n",
       "      <th>genres</th>\n",
       "      <th>production_countries</th>\n",
       "      <th>...</th>\n",
       "      <th>genre4</th>\n",
       "      <th>genre5</th>\n",
       "      <th>genre6</th>\n",
       "      <th>genre7</th>\n",
       "      <th>genre8</th>\n",
       "      <th>genre9</th>\n",
       "      <th>genre10</th>\n",
       "      <th>genre</th>\n",
       "      <th>program_type</th>\n",
       "      <th>Platform</th>\n",
       "    </tr>\n",
       "  </thead>\n",
       "  <tbody>\n",
       "    <tr>\n",
       "      <th>530</th>\n",
       "      <td>Hulu</td>\n",
       "      <td>tm19438</td>\n",
       "      <td>The Princess Bride</td>\n",
       "      <td>MOVIE</td>\n",
       "      <td>In this enchantingly cracked fairy tale, the b...</td>\n",
       "      <td>1987</td>\n",
       "      <td>PG</td>\n",
       "      <td>99</td>\n",
       "      <td>fantasy, family, romance</td>\n",
       "      <td>['US']</td>\n",
       "      <td>...</td>\n",
       "      <td>NaN</td>\n",
       "      <td>NaN</td>\n",
       "      <td>NaN</td>\n",
       "      <td>NaN</td>\n",
       "      <td>NaN</td>\n",
       "      <td>NaN</td>\n",
       "      <td>NaN</td>\n",
       "      <td>9</td>\n",
       "      <td>2</td>\n",
       "      <td>3</td>\n",
       "    </tr>\n",
       "    <tr>\n",
       "      <th>532</th>\n",
       "      <td>Hulu</td>\n",
       "      <td>tm180542</td>\n",
       "      <td>Once Upon a Time in America</td>\n",
       "      <td>MOVIE</td>\n",
       "      <td>A former Prohibition-era Jewish gangster retur...</td>\n",
       "      <td>1984</td>\n",
       "      <td>R</td>\n",
       "      <td>229</td>\n",
       "      <td>drama, crime, european</td>\n",
       "      <td>['US', 'IT']</td>\n",
       "      <td>...</td>\n",
       "      <td>NaN</td>\n",
       "      <td>NaN</td>\n",
       "      <td>NaN</td>\n",
       "      <td>NaN</td>\n",
       "      <td>NaN</td>\n",
       "      <td>NaN</td>\n",
       "      <td>NaN</td>\n",
       "      <td>6</td>\n",
       "      <td>2</td>\n",
       "      <td>3</td>\n",
       "    </tr>\n",
       "    <tr>\n",
       "      <th>543</th>\n",
       "      <td>Hulu</td>\n",
       "      <td>tm192037</td>\n",
       "      <td>Starship Troopers</td>\n",
       "      <td>MOVIE</td>\n",
       "      <td>Set in the future, the story follows a young s...</td>\n",
       "      <td>1997</td>\n",
       "      <td>R</td>\n",
       "      <td>129</td>\n",
       "      <td>scifi, thriller, action</td>\n",
       "      <td>['US']</td>\n",
       "      <td>...</td>\n",
       "      <td>NaN</td>\n",
       "      <td>NaN</td>\n",
       "      <td>NaN</td>\n",
       "      <td>NaN</td>\n",
       "      <td>NaN</td>\n",
       "      <td>NaN</td>\n",
       "      <td>NaN</td>\n",
       "      <td>15</td>\n",
       "      <td>2</td>\n",
       "      <td>3</td>\n",
       "    </tr>\n",
       "  </tbody>\n",
       "</table>\n",
       "<p>3 rows × 29 columns</p>\n",
       "</div>"
      ],
      "text/plain": [
       "    platform        id                        title   type  \\\n",
       "530     Hulu   tm19438           The Princess Bride  MOVIE   \n",
       "532     Hulu  tm180542  Once Upon a Time in America  MOVIE   \n",
       "543     Hulu  tm192037            Starship Troopers  MOVIE   \n",
       "\n",
       "                                           description  release_year  \\\n",
       "530  In this enchantingly cracked fairy tale, the b...          1987   \n",
       "532  A former Prohibition-era Jewish gangster retur...          1984   \n",
       "543  Set in the future, the story follows a young s...          1997   \n",
       "\n",
       "    age_certification  runtime                    genres production_countries  \\\n",
       "530                PG       99  fantasy, family, romance               ['US']   \n",
       "532                 R      229    drama, crime, european         ['US', 'IT']   \n",
       "543                 R      129   scifi, thriller, action               ['US']   \n",
       "\n",
       "     ...  genre4 genre5  genre6  genre7  genre8  genre9 genre10 genre  \\\n",
       "530  ...     NaN    NaN     NaN     NaN     NaN     NaN     NaN     9   \n",
       "532  ...     NaN    NaN     NaN     NaN     NaN     NaN     NaN     6   \n",
       "543  ...     NaN    NaN     NaN     NaN     NaN     NaN     NaN    15   \n",
       "\n",
       "    program_type Platform  \n",
       "530            2        3  \n",
       "532            2        3  \n",
       "543            2        3  \n",
       "\n",
       "[3 rows x 29 columns]"
      ]
     },
     "execution_count": 212,
     "metadata": {},
     "output_type": "execute_result"
    }
   ],
   "source": [
    "hulu_movies_df.head(3)"
   ]
  },
  {
   "cell_type": "code",
   "execution_count": 213,
   "id": "b28ab47b",
   "metadata": {},
   "outputs": [],
   "source": [
    "hulu_movies = hulu_movies_df.drop(['title', 'type','description', 'age_certification', 'genres', \n",
    "                        'production_countries','seasons','tmdb_popularity','tmdb_score','program_type',\n",
    "                        'Platform','genre1', 'genre2', 'genre3', 'genre4', 'genre5', 'genre6', \n",
    "                        'genre7','genre8', 'genre9', 'genre10'], axis=1)"
   ]
  },
  {
   "cell_type": "code",
   "execution_count": 214,
   "id": "48ff0422",
   "metadata": {},
   "outputs": [
    {
     "data": {
      "text/html": [
       "<div>\n",
       "<style scoped>\n",
       "    .dataframe tbody tr th:only-of-type {\n",
       "        vertical-align: middle;\n",
       "    }\n",
       "\n",
       "    .dataframe tbody tr th {\n",
       "        vertical-align: top;\n",
       "    }\n",
       "\n",
       "    .dataframe thead th {\n",
       "        text-align: right;\n",
       "    }\n",
       "</style>\n",
       "<table border=\"1\" class=\"dataframe\">\n",
       "  <thead>\n",
       "    <tr style=\"text-align: right;\">\n",
       "      <th></th>\n",
       "      <th>platform</th>\n",
       "      <th>id</th>\n",
       "      <th>release_year</th>\n",
       "      <th>runtime</th>\n",
       "      <th>imdb_id</th>\n",
       "      <th>imdb_score</th>\n",
       "      <th>imdb_votes</th>\n",
       "      <th>genre</th>\n",
       "    </tr>\n",
       "  </thead>\n",
       "  <tbody>\n",
       "    <tr>\n",
       "      <th>530</th>\n",
       "      <td>Hulu</td>\n",
       "      <td>tm19438</td>\n",
       "      <td>1987</td>\n",
       "      <td>99</td>\n",
       "      <td>tt0093779</td>\n",
       "      <td>8.0</td>\n",
       "      <td>420521.0</td>\n",
       "      <td>9</td>\n",
       "    </tr>\n",
       "    <tr>\n",
       "      <th>532</th>\n",
       "      <td>Hulu</td>\n",
       "      <td>tm180542</td>\n",
       "      <td>1984</td>\n",
       "      <td>229</td>\n",
       "      <td>tt0087843</td>\n",
       "      <td>8.3</td>\n",
       "      <td>342335.0</td>\n",
       "      <td>6</td>\n",
       "    </tr>\n",
       "    <tr>\n",
       "      <th>543</th>\n",
       "      <td>Hulu</td>\n",
       "      <td>tm192037</td>\n",
       "      <td>1997</td>\n",
       "      <td>129</td>\n",
       "      <td>tt0120201</td>\n",
       "      <td>7.3</td>\n",
       "      <td>288960.0</td>\n",
       "      <td>15</td>\n",
       "    </tr>\n",
       "  </tbody>\n",
       "</table>\n",
       "</div>"
      ],
      "text/plain": [
       "    platform        id  release_year  runtime    imdb_id  imdb_score  \\\n",
       "530     Hulu   tm19438          1987       99  tt0093779         8.0   \n",
       "532     Hulu  tm180542          1984      229  tt0087843         8.3   \n",
       "543     Hulu  tm192037          1997      129  tt0120201         7.3   \n",
       "\n",
       "     imdb_votes genre  \n",
       "530    420521.0     9  \n",
       "532    342335.0     6  \n",
       "543    288960.0    15  "
      ]
     },
     "execution_count": 214,
     "metadata": {},
     "output_type": "execute_result"
    }
   ],
   "source": [
    "hulu_movies.head(3)"
   ]
  },
  {
   "cell_type": "code",
   "execution_count": 215,
   "id": "efa5773b",
   "metadata": {},
   "outputs": [
    {
     "data": {
      "text/plain": [
       "platform         0\n",
       "id               0\n",
       "release_year     0\n",
       "runtime          0\n",
       "imdb_id         81\n",
       "imdb_score      86\n",
       "imdb_votes      87\n",
       "genre            3\n",
       "dtype: int64"
      ]
     },
     "execution_count": 215,
     "metadata": {},
     "output_type": "execute_result"
    }
   ],
   "source": [
    "hulu_movies.isnull().sum()"
   ]
  },
  {
   "cell_type": "code",
   "execution_count": 216,
   "id": "48c4837d",
   "metadata": {},
   "outputs": [
    {
     "data": {
      "text/plain": [
       "platform        981\n",
       "id              981\n",
       "release_year    981\n",
       "runtime         981\n",
       "imdb_id         981\n",
       "imdb_score      981\n",
       "imdb_votes      981\n",
       "genre           981\n",
       "dtype: int64"
      ]
     },
     "execution_count": 216,
     "metadata": {},
     "output_type": "execute_result"
    }
   ],
   "source": [
    "hulu_movies.dropna(inplace=True)\n",
    "hulu_movies.count()"
   ]
  },
  {
   "cell_type": "code",
   "execution_count": 217,
   "id": "769b989a",
   "metadata": {},
   "outputs": [
    {
     "data": {
      "text/plain": [
       "6.128644240570847"
      ]
     },
     "execution_count": 217,
     "metadata": {},
     "output_type": "execute_result"
    }
   ],
   "source": [
    "#Average IMDB Score for Hulu Movies\n",
    "hulu_movies.loc[:, 'imdb_score'].mean()"
   ]
  },
  {
   "cell_type": "code",
   "execution_count": 218,
   "id": "fe125c75",
   "metadata": {},
   "outputs": [
    {
     "data": {
      "text/plain": [
       "97.97349643221203"
      ]
     },
     "execution_count": 218,
     "metadata": {},
     "output_type": "execute_result"
    }
   ],
   "source": [
    "#Average runtime for Hulu Movies\n",
    "hulu_movies.loc[:, 'runtime'].mean()"
   ]
  },
  {
   "cell_type": "code",
   "execution_count": 219,
   "id": "7d896afd",
   "metadata": {},
   "outputs": [],
   "source": [
    "def Rating (series):\n",
    "  if series == \"imdb_score\":\n",
    "    return \"0\"\n",
    "  if series <= 6.0: \n",
    "    return \"Negative\"\n",
    "  if series >= 6.1: \n",
    "    return \"Positive\"\n",
    "hulu_movies[\"Rating\"] = hulu_movies['imdb_score'].apply(Rating)"
   ]
  },
  {
   "cell_type": "code",
   "execution_count": 220,
   "id": "e8f0d2c7",
   "metadata": {},
   "outputs": [],
   "source": [
    "def Rating1 (series):\n",
    "  if series == \"Rating\":\n",
    "    return \"0\"\n",
    "  if series == \"Positive\": \n",
    "    return 1\n",
    "  if series == \"Negative\":\n",
    "    return 2\n",
    "hulu_movies[\"Rating1\"] = hulu_movies[\"Rating\"].apply(Rating1)"
   ]
  },
  {
   "cell_type": "code",
   "execution_count": 221,
   "id": "4d59723e",
   "metadata": {},
   "outputs": [
    {
     "data": {
      "text/html": [
       "<div>\n",
       "<style scoped>\n",
       "    .dataframe tbody tr th:only-of-type {\n",
       "        vertical-align: middle;\n",
       "    }\n",
       "\n",
       "    .dataframe tbody tr th {\n",
       "        vertical-align: top;\n",
       "    }\n",
       "\n",
       "    .dataframe thead th {\n",
       "        text-align: right;\n",
       "    }\n",
       "</style>\n",
       "<table border=\"1\" class=\"dataframe\">\n",
       "  <thead>\n",
       "    <tr style=\"text-align: right;\">\n",
       "      <th></th>\n",
       "      <th>platform</th>\n",
       "      <th>id</th>\n",
       "      <th>release_year</th>\n",
       "      <th>runtime</th>\n",
       "      <th>imdb_id</th>\n",
       "      <th>imdb_score</th>\n",
       "      <th>imdb_votes</th>\n",
       "      <th>genre</th>\n",
       "      <th>Rating</th>\n",
       "      <th>Rating1</th>\n",
       "    </tr>\n",
       "  </thead>\n",
       "  <tbody>\n",
       "    <tr>\n",
       "      <th>530</th>\n",
       "      <td>Hulu</td>\n",
       "      <td>tm19438</td>\n",
       "      <td>1987</td>\n",
       "      <td>99</td>\n",
       "      <td>tt0093779</td>\n",
       "      <td>8.0</td>\n",
       "      <td>420521.0</td>\n",
       "      <td>9</td>\n",
       "      <td>Positive</td>\n",
       "      <td>1</td>\n",
       "    </tr>\n",
       "    <tr>\n",
       "      <th>532</th>\n",
       "      <td>Hulu</td>\n",
       "      <td>tm180542</td>\n",
       "      <td>1984</td>\n",
       "      <td>229</td>\n",
       "      <td>tt0087843</td>\n",
       "      <td>8.3</td>\n",
       "      <td>342335.0</td>\n",
       "      <td>6</td>\n",
       "      <td>Positive</td>\n",
       "      <td>1</td>\n",
       "    </tr>\n",
       "    <tr>\n",
       "      <th>543</th>\n",
       "      <td>Hulu</td>\n",
       "      <td>tm192037</td>\n",
       "      <td>1997</td>\n",
       "      <td>129</td>\n",
       "      <td>tt0120201</td>\n",
       "      <td>7.3</td>\n",
       "      <td>288960.0</td>\n",
       "      <td>15</td>\n",
       "      <td>Positive</td>\n",
       "      <td>1</td>\n",
       "    </tr>\n",
       "  </tbody>\n",
       "</table>\n",
       "</div>"
      ],
      "text/plain": [
       "    platform        id  release_year  runtime    imdb_id  imdb_score  \\\n",
       "530     Hulu   tm19438          1987       99  tt0093779         8.0   \n",
       "532     Hulu  tm180542          1984      229  tt0087843         8.3   \n",
       "543     Hulu  tm192037          1997      129  tt0120201         7.3   \n",
       "\n",
       "     imdb_votes genre    Rating  Rating1  \n",
       "530    420521.0     9  Positive        1  \n",
       "532    342335.0     6  Positive        1  \n",
       "543    288960.0    15  Positive        1  "
      ]
     },
     "execution_count": 221,
     "metadata": {},
     "output_type": "execute_result"
    }
   ],
   "source": [
    "hulu_movies.head(3)"
   ]
  },
  {
   "cell_type": "code",
   "execution_count": 222,
   "id": "aeae2788",
   "metadata": {},
   "outputs": [
    {
     "data": {
      "text/plain": [
       "Rating\n",
       "Negative    424\n",
       "Positive    557\n",
       "Name: genre, dtype: int64"
      ]
     },
     "execution_count": 222,
     "metadata": {},
     "output_type": "execute_result"
    }
   ],
   "source": [
    "hulu_movies.groupby('Rating')['genre'].count()"
   ]
  },
  {
   "cell_type": "code",
   "execution_count": 223,
   "id": "89f64af2",
   "metadata": {},
   "outputs": [
    {
     "name": "stdout",
     "output_type": "stream",
     "text": [
      "platform         object\n",
      "id               object\n",
      "release_year      int64\n",
      "runtime           int64\n",
      "imdb_id          object\n",
      "imdb_score      float64\n",
      "imdb_votes      float64\n",
      "genre            object\n",
      "Rating           object\n",
      "Rating1           int64\n",
      "dtype: object\n"
     ]
    }
   ],
   "source": [
    "print(hulu_movies.dtypes)"
   ]
  },
  {
   "cell_type": "code",
   "execution_count": 224,
   "id": "aa86f856",
   "metadata": {},
   "outputs": [
    {
     "name": "stdout",
     "output_type": "stream",
     "text": [
      "platform         object\n",
      "id               object\n",
      "release_year      int64\n",
      "runtime           int64\n",
      "imdb_id          object\n",
      "imdb_score      float64\n",
      "imdb_votes      float64\n",
      "genre             int32\n",
      "Rating           object\n",
      "Rating1           int64\n",
      "dtype: object\n"
     ]
    }
   ],
   "source": [
    "hulu_movies['genre'] = hulu_movies['genre'].astype(int)\n",
    "print(hulu_movies.dtypes)"
   ]
  },
  {
   "cell_type": "code",
   "execution_count": 225,
   "id": "871f375a",
   "metadata": {},
   "outputs": [
    {
     "data": {
      "text/html": [
       "<style type=\"text/css\">\n",
       "#T_ef6e3_row0_col0, #T_ef6e3_row1_col1, #T_ef6e3_row2_col2, #T_ef6e3_row3_col3, #T_ef6e3_row4_col4, #T_ef6e3_row5_col5 {\n",
       "  background-color: #b40426;\n",
       "  color: #f1f1f1;\n",
       "}\n",
       "#T_ef6e3_row0_col1 {\n",
       "  background-color: #6282ea;\n",
       "  color: #f1f1f1;\n",
       "}\n",
       "#T_ef6e3_row0_col2 {\n",
       "  background-color: #adc9fd;\n",
       "  color: #000000;\n",
       "}\n",
       "#T_ef6e3_row0_col3, #T_ef6e3_row2_col4, #T_ef6e3_row2_col5, #T_ef6e3_row3_col0, #T_ef6e3_row5_col1, #T_ef6e3_row5_col2 {\n",
       "  background-color: #3b4cc0;\n",
       "  color: #f1f1f1;\n",
       "}\n",
       "#T_ef6e3_row0_col4, #T_ef6e3_row1_col0 {\n",
       "  background-color: #799cf8;\n",
       "  color: #f1f1f1;\n",
       "}\n",
       "#T_ef6e3_row0_col5 {\n",
       "  background-color: #e6d7cf;\n",
       "  color: #000000;\n",
       "}\n",
       "#T_ef6e3_row1_col2 {\n",
       "  background-color: #edd1c2;\n",
       "  color: #000000;\n",
       "}\n",
       "#T_ef6e3_row1_col3 {\n",
       "  background-color: #dddcdc;\n",
       "  color: #000000;\n",
       "}\n",
       "#T_ef6e3_row1_col4 {\n",
       "  background-color: #8caffe;\n",
       "  color: #000000;\n",
       "}\n",
       "#T_ef6e3_row1_col5 {\n",
       "  background-color: #a7c5fe;\n",
       "  color: #000000;\n",
       "}\n",
       "#T_ef6e3_row2_col0 {\n",
       "  background-color: #5977e3;\n",
       "  color: #f1f1f1;\n",
       "}\n",
       "#T_ef6e3_row2_col1 {\n",
       "  background-color: #b6cefa;\n",
       "  color: #000000;\n",
       "}\n",
       "#T_ef6e3_row2_col3 {\n",
       "  background-color: #dadce0;\n",
       "  color: #000000;\n",
       "}\n",
       "#T_ef6e3_row3_col1 {\n",
       "  background-color: #d2dbe8;\n",
       "  color: #000000;\n",
       "}\n",
       "#T_ef6e3_row3_col2 {\n",
       "  background-color: #f5c4ac;\n",
       "  color: #000000;\n",
       "}\n",
       "#T_ef6e3_row3_col4 {\n",
       "  background-color: #7b9ff9;\n",
       "  color: #f1f1f1;\n",
       "}\n",
       "#T_ef6e3_row3_col5 {\n",
       "  background-color: #a2c1ff;\n",
       "  color: #000000;\n",
       "}\n",
       "#T_ef6e3_row4_col0 {\n",
       "  background-color: #9ebeff;\n",
       "  color: #000000;\n",
       "}\n",
       "#T_ef6e3_row4_col1 {\n",
       "  background-color: #9dbdff;\n",
       "  color: #000000;\n",
       "}\n",
       "#T_ef6e3_row4_col2, #T_ef6e3_row5_col0 {\n",
       "  background-color: #b5cdfa;\n",
       "  color: #000000;\n",
       "}\n",
       "#T_ef6e3_row4_col3 {\n",
       "  background-color: #a1c0ff;\n",
       "  color: #000000;\n",
       "}\n",
       "#T_ef6e3_row4_col5 {\n",
       "  background-color: #dcdddd;\n",
       "  color: #000000;\n",
       "}\n",
       "#T_ef6e3_row5_col3 {\n",
       "  background-color: #4b64d5;\n",
       "  color: #f1f1f1;\n",
       "}\n",
       "#T_ef6e3_row5_col4 {\n",
       "  background-color: #7ea1fa;\n",
       "  color: #f1f1f1;\n",
       "}\n",
       "</style>\n",
       "<table id=\"T_ef6e3\">\n",
       "  <thead>\n",
       "    <tr>\n",
       "      <th class=\"blank level0\" >&nbsp;</th>\n",
       "      <th id=\"T_ef6e3_level0_col0\" class=\"col_heading level0 col0\" >release_year</th>\n",
       "      <th id=\"T_ef6e3_level0_col1\" class=\"col_heading level0 col1\" >runtime</th>\n",
       "      <th id=\"T_ef6e3_level0_col2\" class=\"col_heading level0 col2\" >imdb_score</th>\n",
       "      <th id=\"T_ef6e3_level0_col3\" class=\"col_heading level0 col3\" >imdb_votes</th>\n",
       "      <th id=\"T_ef6e3_level0_col4\" class=\"col_heading level0 col4\" >genre</th>\n",
       "      <th id=\"T_ef6e3_level0_col5\" class=\"col_heading level0 col5\" >Rating1</th>\n",
       "    </tr>\n",
       "  </thead>\n",
       "  <tbody>\n",
       "    <tr>\n",
       "      <th id=\"T_ef6e3_level0_row0\" class=\"row_heading level0 row0\" >release_year</th>\n",
       "      <td id=\"T_ef6e3_row0_col0\" class=\"data row0 col0\" >1.000000</td>\n",
       "      <td id=\"T_ef6e3_row0_col1\" class=\"data row0 col1\" >-0.064704</td>\n",
       "      <td id=\"T_ef6e3_row0_col2\" class=\"data row0 col2\" >-0.187701</td>\n",
       "      <td id=\"T_ef6e3_row0_col3\" class=\"data row0 col3\" >-0.318593</td>\n",
       "      <td id=\"T_ef6e3_row0_col4\" class=\"data row0 col4\" >0.076725</td>\n",
       "      <td id=\"T_ef6e3_row0_col5\" class=\"data row0 col5\" >0.164979</td>\n",
       "    </tr>\n",
       "    <tr>\n",
       "      <th id=\"T_ef6e3_level0_row1\" class=\"row_heading level0 row1\" >runtime</th>\n",
       "      <td id=\"T_ef6e3_row1_col0\" class=\"data row1 col0\" >-0.064704</td>\n",
       "      <td id=\"T_ef6e3_row1_col1\" class=\"data row1 col1\" >1.000000</td>\n",
       "      <td id=\"T_ef6e3_row1_col2\" class=\"data row1 col2\" >0.229913</td>\n",
       "      <td id=\"T_ef6e3_row1_col3\" class=\"data row1 col3\" >0.341278</td>\n",
       "      <td id=\"T_ef6e3_row1_col4\" class=\"data row1 col4\" >0.138964</td>\n",
       "      <td id=\"T_ef6e3_row1_col5\" class=\"data row1 col5\" >-0.217999</td>\n",
       "    </tr>\n",
       "    <tr>\n",
       "      <th id=\"T_ef6e3_level0_row2\" class=\"row_heading level0 row2\" >imdb_score</th>\n",
       "      <td id=\"T_ef6e3_row2_col0\" class=\"data row2 col0\" >-0.187701</td>\n",
       "      <td id=\"T_ef6e3_row2_col1\" class=\"data row2 col1\" >0.229913</td>\n",
       "      <td id=\"T_ef6e3_row2_col2\" class=\"data row2 col2\" >1.000000</td>\n",
       "      <td id=\"T_ef6e3_row2_col3\" class=\"data row2 col3\" >0.327811</td>\n",
       "      <td id=\"T_ef6e3_row2_col4\" class=\"data row2 col4\" >-0.145764</td>\n",
       "      <td id=\"T_ef6e3_row2_col5\" class=\"data row2 col5\" >-0.803856</td>\n",
       "    </tr>\n",
       "    <tr>\n",
       "      <th id=\"T_ef6e3_level0_row3\" class=\"row_heading level0 row3\" >imdb_votes</th>\n",
       "      <td id=\"T_ef6e3_row3_col0\" class=\"data row3 col0\" >-0.318593</td>\n",
       "      <td id=\"T_ef6e3_row3_col1\" class=\"data row3 col1\" >0.341278</td>\n",
       "      <td id=\"T_ef6e3_row3_col2\" class=\"data row3 col2\" >0.327811</td>\n",
       "      <td id=\"T_ef6e3_row3_col3\" class=\"data row3 col3\" >1.000000</td>\n",
       "      <td id=\"T_ef6e3_row3_col4\" class=\"data row3 col4\" >0.084094</td>\n",
       "      <td id=\"T_ef6e3_row3_col5\" class=\"data row3 col5\" >-0.245582</td>\n",
       "    </tr>\n",
       "    <tr>\n",
       "      <th id=\"T_ef6e3_level0_row4\" class=\"row_heading level0 row4\" >genre</th>\n",
       "      <td id=\"T_ef6e3_row4_col0\" class=\"data row4 col0\" >0.076725</td>\n",
       "      <td id=\"T_ef6e3_row4_col1\" class=\"data row4 col1\" >0.138964</td>\n",
       "      <td id=\"T_ef6e3_row4_col2\" class=\"data row4 col2\" >-0.145764</td>\n",
       "      <td id=\"T_ef6e3_row4_col3\" class=\"data row4 col3\" >0.084094</td>\n",
       "      <td id=\"T_ef6e3_row4_col4\" class=\"data row4 col4\" >1.000000</td>\n",
       "      <td id=\"T_ef6e3_row4_col5\" class=\"data row4 col5\" >0.092431</td>\n",
       "    </tr>\n",
       "    <tr>\n",
       "      <th id=\"T_ef6e3_level0_row5\" class=\"row_heading level0 row5\" >Rating1</th>\n",
       "      <td id=\"T_ef6e3_row5_col0\" class=\"data row5 col0\" >0.164979</td>\n",
       "      <td id=\"T_ef6e3_row5_col1\" class=\"data row5 col1\" >-0.217999</td>\n",
       "      <td id=\"T_ef6e3_row5_col2\" class=\"data row5 col2\" >-0.803856</td>\n",
       "      <td id=\"T_ef6e3_row5_col3\" class=\"data row5 col3\" >-0.245582</td>\n",
       "      <td id=\"T_ef6e3_row5_col4\" class=\"data row5 col4\" >0.092431</td>\n",
       "      <td id=\"T_ef6e3_row5_col5\" class=\"data row5 col5\" >1.000000</td>\n",
       "    </tr>\n",
       "  </tbody>\n",
       "</table>\n"
      ],
      "text/plain": [
       "<pandas.io.formats.style.Styler at 0x145904ad150>"
      ]
     },
     "execution_count": 225,
     "metadata": {},
     "output_type": "execute_result"
    }
   ],
   "source": [
    "corr = hulu_movies.corr()\n",
    "corr.style.background_gradient(cmap='coolwarm')"
   ]
  },
  {
   "cell_type": "code",
   "execution_count": 226,
   "id": "c32ed5c2",
   "metadata": {},
   "outputs": [
    {
     "data": {
      "text/plain": [
       "Text(0, 0.5, 'AVG IMDB Score')"
      ]
     },
     "execution_count": 226,
     "metadata": {},
     "output_type": "execute_result"
    },
    {
     "data": {
      "image/png": "[encoded data removed]",
      "text/plain": [
       "<Figure size 432x288 with 1 Axes>"
      ]
     },
     "metadata": {
      "needs_background": "light"
     },
     "output_type": "display_data"
    }
   ],
   "source": [
    "hulu_movies_1 = hulu_movies[['genre', 'imdb_score']]\n",
    "hulu_movies_avg = hulu_movies_1.groupby('genre')['imdb_score'].mean()\n",
    "hulu_movies_avg.plot(kind='bar')\n",
    "plt.title('Hulu Movies')\n",
    "plt.xlabel('Genre')\n",
    "plt.ylabel('AVG IMDB Score')"
   ]
  },
  {
   "cell_type": "code",
   "execution_count": 227,
   "id": "de4a8975",
   "metadata": {},
   "outputs": [
    {
     "name": "stdout",
     "output_type": "stream",
     "text": [
      "genre\n",
      "1     5.688462\n",
      "2     6.043750\n",
      "3     5.967262\n",
      "4     5.763158\n",
      "5     6.910204\n",
      "6     6.291880\n",
      "9     6.023810\n",
      "10    6.640000\n",
      "11    5.255769\n",
      "12    6.872727\n",
      "14    5.960000\n",
      "15    5.650000\n",
      "16    6.900000\n",
      "17    5.830201\n",
      "18    7.166667\n",
      "19    6.233333\n",
      "Name: imdb_score, dtype: float64\n"
     ]
    }
   ],
   "source": [
    "print(hulu_movies_avg)"
   ]
  },
  {
   "cell_type": "code",
   "execution_count": 228,
   "id": "443e5871",
   "metadata": {},
   "outputs": [],
   "source": [
    "disney_df = streamingdata.loc[streamingdata['platform'] == 'Disney']"
   ]
  },
  {
   "cell_type": "code",
   "execution_count": 229,
   "id": "11ce8b58",
   "metadata": {},
   "outputs": [
    {
     "data": {
      "text/html": [
       "<div>\n",
       "<style scoped>\n",
       "    .dataframe tbody tr th:only-of-type {\n",
       "        vertical-align: middle;\n",
       "    }\n",
       "\n",
       "    .dataframe tbody tr th {\n",
       "        vertical-align: top;\n",
       "    }\n",
       "\n",
       "    .dataframe thead th {\n",
       "        text-align: right;\n",
       "    }\n",
       "</style>\n",
       "<table border=\"1\" class=\"dataframe\">\n",
       "  <thead>\n",
       "    <tr style=\"text-align: right;\">\n",
       "      <th></th>\n",
       "      <th>platform</th>\n",
       "      <th>id</th>\n",
       "      <th>title</th>\n",
       "      <th>type</th>\n",
       "      <th>description</th>\n",
       "      <th>release_year</th>\n",
       "      <th>age_certification</th>\n",
       "      <th>runtime</th>\n",
       "      <th>genres</th>\n",
       "      <th>production_countries</th>\n",
       "      <th>...</th>\n",
       "      <th>genre4</th>\n",
       "      <th>genre5</th>\n",
       "      <th>genre6</th>\n",
       "      <th>genre7</th>\n",
       "      <th>genre8</th>\n",
       "      <th>genre9</th>\n",
       "      <th>genre10</th>\n",
       "      <th>genre</th>\n",
       "      <th>program_type</th>\n",
       "      <th>Platform</th>\n",
       "    </tr>\n",
       "  </thead>\n",
       "  <tbody>\n",
       "    <tr>\n",
       "      <th>0</th>\n",
       "      <td>Disney</td>\n",
       "      <td>tm19438</td>\n",
       "      <td>The Princess Bride</td>\n",
       "      <td>MOVIE</td>\n",
       "      <td>In this enchantingly cracked fairy tale, the b...</td>\n",
       "      <td>1987</td>\n",
       "      <td>PG</td>\n",
       "      <td>99</td>\n",
       "      <td>fantasy, family, romance</td>\n",
       "      <td>['US']</td>\n",
       "      <td>...</td>\n",
       "      <td>NaN</td>\n",
       "      <td>NaN</td>\n",
       "      <td>NaN</td>\n",
       "      <td>NaN</td>\n",
       "      <td>NaN</td>\n",
       "      <td>NaN</td>\n",
       "      <td>NaN</td>\n",
       "      <td>9</td>\n",
       "      <td>2</td>\n",
       "      <td>2</td>\n",
       "    </tr>\n",
       "    <tr>\n",
       "      <th>1</th>\n",
       "      <td>Disney</td>\n",
       "      <td>ts20711</td>\n",
       "      <td>The Simpsons</td>\n",
       "      <td>SHOW</td>\n",
       "      <td>The satiric adventures of a working-class fami...</td>\n",
       "      <td>1989</td>\n",
       "      <td>TV-14</td>\n",
       "      <td>27</td>\n",
       "      <td>animation, comedy</td>\n",
       "      <td>['US']</td>\n",
       "      <td>...</td>\n",
       "      <td>NaN</td>\n",
       "      <td>NaN</td>\n",
       "      <td>NaN</td>\n",
       "      <td>NaN</td>\n",
       "      <td>NaN</td>\n",
       "      <td>NaN</td>\n",
       "      <td>NaN</td>\n",
       "      <td>2</td>\n",
       "      <td>1</td>\n",
       "      <td>2</td>\n",
       "    </tr>\n",
       "    <tr>\n",
       "      <th>2</th>\n",
       "      <td>Disney</td>\n",
       "      <td>ts15377</td>\n",
       "      <td>America's Funniest Home Videos</td>\n",
       "      <td>SHOW</td>\n",
       "      <td>America's Funniest Home Videos is the longest-...</td>\n",
       "      <td>1989</td>\n",
       "      <td>TV-PG</td>\n",
       "      <td>49</td>\n",
       "      <td>animation, reality, comedy</td>\n",
       "      <td>['US']</td>\n",
       "      <td>...</td>\n",
       "      <td>NaN</td>\n",
       "      <td>NaN</td>\n",
       "      <td>NaN</td>\n",
       "      <td>NaN</td>\n",
       "      <td>NaN</td>\n",
       "      <td>NaN</td>\n",
       "      <td>NaN</td>\n",
       "      <td>2</td>\n",
       "      <td>1</td>\n",
       "      <td>2</td>\n",
       "    </tr>\n",
       "  </tbody>\n",
       "</table>\n",
       "<p>3 rows × 29 columns</p>\n",
       "</div>"
      ],
      "text/plain": [
       "  platform       id                           title   type  \\\n",
       "0   Disney  tm19438              The Princess Bride  MOVIE   \n",
       "1   Disney  ts20711                    The Simpsons   SHOW   \n",
       "2   Disney  ts15377  America's Funniest Home Videos   SHOW   \n",
       "\n",
       "                                         description  release_year  \\\n",
       "0  In this enchantingly cracked fairy tale, the b...          1987   \n",
       "1  The satiric adventures of a working-class fami...          1989   \n",
       "2  America's Funniest Home Videos is the longest-...          1989   \n",
       "\n",
       "  age_certification  runtime                      genres production_countries  \\\n",
       "0                PG       99    fantasy, family, romance               ['US']   \n",
       "1             TV-14       27           animation, comedy               ['US']   \n",
       "2             TV-PG       49  animation, reality, comedy               ['US']   \n",
       "\n",
       "   ...  genre4 genre5  genre6  genre7  genre8  genre9 genre10 genre  \\\n",
       "0  ...     NaN    NaN     NaN     NaN     NaN     NaN     NaN     9   \n",
       "1  ...     NaN    NaN     NaN     NaN     NaN     NaN     NaN     2   \n",
       "2  ...     NaN    NaN     NaN     NaN     NaN     NaN     NaN     2   \n",
       "\n",
       "  program_type Platform  \n",
       "0            2        2  \n",
       "1            1        2  \n",
       "2            1        2  \n",
       "\n",
       "[3 rows x 29 columns]"
      ]
     },
     "execution_count": 229,
     "metadata": {},
     "output_type": "execute_result"
    }
   ],
   "source": [
    "disney_df.head(3)"
   ]
  },
  {
   "cell_type": "code",
   "execution_count": 230,
   "id": "93312168",
   "metadata": {},
   "outputs": [],
   "source": [
    "all_disney = disney_df.drop(['title', 'description', 'age_certification', 'genres', \n",
    "                        'production_countries','tmdb_popularity','tmdb_score','program_type',\n",
    "                        'Platform','seasons','genre1', 'genre2', 'genre3', 'genre4', 'genre5', 'genre6', \n",
    "                        'genre7','genre8', 'genre9', 'genre10'], axis=1)"
   ]
  },
  {
   "cell_type": "code",
   "execution_count": 231,
   "id": "74d40033",
   "metadata": {},
   "outputs": [
    {
     "data": {
      "text/html": [
       "<div>\n",
       "<style scoped>\n",
       "    .dataframe tbody tr th:only-of-type {\n",
       "        vertical-align: middle;\n",
       "    }\n",
       "\n",
       "    .dataframe tbody tr th {\n",
       "        vertical-align: top;\n",
       "    }\n",
       "\n",
       "    .dataframe thead th {\n",
       "        text-align: right;\n",
       "    }\n",
       "</style>\n",
       "<table border=\"1\" class=\"dataframe\">\n",
       "  <thead>\n",
       "    <tr style=\"text-align: right;\">\n",
       "      <th></th>\n",
       "      <th>platform</th>\n",
       "      <th>id</th>\n",
       "      <th>type</th>\n",
       "      <th>release_year</th>\n",
       "      <th>runtime</th>\n",
       "      <th>imdb_id</th>\n",
       "      <th>imdb_score</th>\n",
       "      <th>imdb_votes</th>\n",
       "      <th>genre</th>\n",
       "    </tr>\n",
       "  </thead>\n",
       "  <tbody>\n",
       "    <tr>\n",
       "      <th>0</th>\n",
       "      <td>Disney</td>\n",
       "      <td>tm19438</td>\n",
       "      <td>MOVIE</td>\n",
       "      <td>1987</td>\n",
       "      <td>99</td>\n",
       "      <td>tt0093779</td>\n",
       "      <td>8.0</td>\n",
       "      <td>420521.0</td>\n",
       "      <td>9</td>\n",
       "    </tr>\n",
       "    <tr>\n",
       "      <th>1</th>\n",
       "      <td>Disney</td>\n",
       "      <td>ts20711</td>\n",
       "      <td>SHOW</td>\n",
       "      <td>1989</td>\n",
       "      <td>27</td>\n",
       "      <td>tt0096697</td>\n",
       "      <td>8.7</td>\n",
       "      <td>394764.0</td>\n",
       "      <td>2</td>\n",
       "    </tr>\n",
       "    <tr>\n",
       "      <th>2</th>\n",
       "      <td>Disney</td>\n",
       "      <td>ts15377</td>\n",
       "      <td>SHOW</td>\n",
       "      <td>1989</td>\n",
       "      <td>49</td>\n",
       "      <td>tt0098740</td>\n",
       "      <td>6.2</td>\n",
       "      <td>5356.0</td>\n",
       "      <td>2</td>\n",
       "    </tr>\n",
       "  </tbody>\n",
       "</table>\n",
       "</div>"
      ],
      "text/plain": [
       "  platform       id   type  release_year  runtime    imdb_id  imdb_score  \\\n",
       "0   Disney  tm19438  MOVIE          1987       99  tt0093779         8.0   \n",
       "1   Disney  ts20711   SHOW          1989       27  tt0096697         8.7   \n",
       "2   Disney  ts15377   SHOW          1989       49  tt0098740         6.2   \n",
       "\n",
       "   imdb_votes genre  \n",
       "0    420521.0     9  \n",
       "1    394764.0     2  \n",
       "2      5356.0     2  "
      ]
     },
     "execution_count": 231,
     "metadata": {},
     "output_type": "execute_result"
    }
   ],
   "source": [
    "all_disney.head(3)"
   ]
  },
  {
   "cell_type": "code",
   "execution_count": 232,
   "id": "d7d226fb",
   "metadata": {},
   "outputs": [
    {
     "data": {
      "text/plain": [
       "platform          0\n",
       "id                0\n",
       "type              0\n",
       "release_year      0\n",
       "runtime           0\n",
       "imdb_id         402\n",
       "imdb_score      427\n",
       "imdb_votes      430\n",
       "genre            28\n",
       "dtype: int64"
      ]
     },
     "execution_count": 232,
     "metadata": {},
     "output_type": "execute_result"
    }
   ],
   "source": [
    "all_disney.isnull().sum()"
   ]
  },
  {
   "cell_type": "code",
   "execution_count": 233,
   "id": "d290ee53",
   "metadata": {},
   "outputs": [
    {
     "data": {
      "text/plain": [
       "platform        1099\n",
       "id              1099\n",
       "type            1099\n",
       "release_year    1099\n",
       "runtime         1099\n",
       "imdb_id         1099\n",
       "imdb_score      1099\n",
       "imdb_votes      1099\n",
       "genre           1099\n",
       "dtype: int64"
      ]
     },
     "execution_count": 233,
     "metadata": {},
     "output_type": "execute_result"
    }
   ],
   "source": [
    "all_disney.dropna(inplace=True)\n",
    "all_disney.count()"
   ]
  },
  {
   "cell_type": "code",
   "execution_count": 234,
   "id": "62afdcc6",
   "metadata": {},
   "outputs": [
    {
     "data": {
      "text/plain": [
       "6.607916287534122"
      ]
     },
     "execution_count": 234,
     "metadata": {},
     "output_type": "execute_result"
    }
   ],
   "source": [
    "#Average IMDB Score for All Disney Titles\n",
    "all_disney.loc[:, 'imdb_score'].mean()"
   ]
  },
  {
   "cell_type": "code",
   "execution_count": 235,
   "id": "416dd172",
   "metadata": {},
   "outputs": [
    {
     "data": {
      "text/plain": [
       "71.00545950864422"
      ]
     },
     "execution_count": 235,
     "metadata": {},
     "output_type": "execute_result"
    }
   ],
   "source": [
    "#Average runtime for All Disney Titles\n",
    "all_disney.loc[:, 'runtime'].mean()"
   ]
  },
  {
   "cell_type": "code",
   "execution_count": 236,
   "id": "ee2e5091",
   "metadata": {},
   "outputs": [],
   "source": [
    "#recoding score\n",
    "def Rating (series):\n",
    "  if series == \"imdb_score\":\n",
    "    return \"0\"\n",
    "  if series <= 6.5: \n",
    "    return \"Negative\"\n",
    "  if series >= 6.6: \n",
    "    return \"Positive\"\n",
    "all_disney[\"Rating\"] = all_disney['imdb_score'].apply(Rating)"
   ]
  },
  {
   "cell_type": "code",
   "execution_count": 237,
   "id": "396412e7",
   "metadata": {},
   "outputs": [],
   "source": [
    "def Rating1 (series):\n",
    "  if series == \"Rating\":\n",
    "    return \"0\"\n",
    "  if series == \"Positive\": \n",
    "    return 1\n",
    "  if series == \"Negative\":\n",
    "    return 2\n",
    "all_disney[\"Rating1\"] = all_disney[\"Rating\"].apply(Rating1)"
   ]
  },
  {
   "cell_type": "code",
   "execution_count": 238,
   "id": "374e08f0",
   "metadata": {},
   "outputs": [
    {
     "data": {
      "text/html": [
       "<div>\n",
       "<style scoped>\n",
       "    .dataframe tbody tr th:only-of-type {\n",
       "        vertical-align: middle;\n",
       "    }\n",
       "\n",
       "    .dataframe tbody tr th {\n",
       "        vertical-align: top;\n",
       "    }\n",
       "\n",
       "    .dataframe thead th {\n",
       "        text-align: right;\n",
       "    }\n",
       "</style>\n",
       "<table border=\"1\" class=\"dataframe\">\n",
       "  <thead>\n",
       "    <tr style=\"text-align: right;\">\n",
       "      <th></th>\n",
       "      <th>platform</th>\n",
       "      <th>id</th>\n",
       "      <th>type</th>\n",
       "      <th>release_year</th>\n",
       "      <th>runtime</th>\n",
       "      <th>imdb_id</th>\n",
       "      <th>imdb_score</th>\n",
       "      <th>imdb_votes</th>\n",
       "      <th>genre</th>\n",
       "      <th>Rating</th>\n",
       "      <th>Rating1</th>\n",
       "    </tr>\n",
       "  </thead>\n",
       "  <tbody>\n",
       "    <tr>\n",
       "      <th>0</th>\n",
       "      <td>Disney</td>\n",
       "      <td>tm19438</td>\n",
       "      <td>MOVIE</td>\n",
       "      <td>1987</td>\n",
       "      <td>99</td>\n",
       "      <td>tt0093779</td>\n",
       "      <td>8.0</td>\n",
       "      <td>420521.0</td>\n",
       "      <td>9</td>\n",
       "      <td>Positive</td>\n",
       "      <td>1</td>\n",
       "    </tr>\n",
       "    <tr>\n",
       "      <th>1</th>\n",
       "      <td>Disney</td>\n",
       "      <td>ts20711</td>\n",
       "      <td>SHOW</td>\n",
       "      <td>1989</td>\n",
       "      <td>27</td>\n",
       "      <td>tt0096697</td>\n",
       "      <td>8.7</td>\n",
       "      <td>394764.0</td>\n",
       "      <td>2</td>\n",
       "      <td>Positive</td>\n",
       "      <td>1</td>\n",
       "    </tr>\n",
       "    <tr>\n",
       "      <th>2</th>\n",
       "      <td>Disney</td>\n",
       "      <td>ts15377</td>\n",
       "      <td>SHOW</td>\n",
       "      <td>1989</td>\n",
       "      <td>49</td>\n",
       "      <td>tt0098740</td>\n",
       "      <td>6.2</td>\n",
       "      <td>5356.0</td>\n",
       "      <td>2</td>\n",
       "      <td>Negative</td>\n",
       "      <td>2</td>\n",
       "    </tr>\n",
       "  </tbody>\n",
       "</table>\n",
       "</div>"
      ],
      "text/plain": [
       "  platform       id   type  release_year  runtime    imdb_id  imdb_score  \\\n",
       "0   Disney  tm19438  MOVIE          1987       99  tt0093779         8.0   \n",
       "1   Disney  ts20711   SHOW          1989       27  tt0096697         8.7   \n",
       "2   Disney  ts15377   SHOW          1989       49  tt0098740         6.2   \n",
       "\n",
       "   imdb_votes genre    Rating  Rating1  \n",
       "0    420521.0     9  Positive        1  \n",
       "1    394764.0     2  Positive        1  \n",
       "2      5356.0     2  Negative        2  "
      ]
     },
     "execution_count": 238,
     "metadata": {},
     "output_type": "execute_result"
    }
   ],
   "source": [
    "all_disney.head(3)"
   ]
  },
  {
   "cell_type": "code",
   "execution_count": 239,
   "id": "9039ad81",
   "metadata": {},
   "outputs": [
    {
     "data": {
      "text/plain": [
       "Rating\n",
       "Negative    518\n",
       "Positive    581\n",
       "Name: genre, dtype: int64"
      ]
     },
     "execution_count": 239,
     "metadata": {},
     "output_type": "execute_result"
    }
   ],
   "source": [
    "all_disney.groupby('Rating')['genre'].count()"
   ]
  },
  {
   "cell_type": "code",
   "execution_count": 240,
   "id": "3565ee30",
   "metadata": {},
   "outputs": [
    {
     "name": "stdout",
     "output_type": "stream",
     "text": [
      "platform         object\n",
      "id               object\n",
      "type             object\n",
      "release_year      int64\n",
      "runtime           int64\n",
      "imdb_id          object\n",
      "imdb_score      float64\n",
      "imdb_votes      float64\n",
      "genre            object\n",
      "Rating           object\n",
      "Rating1           int64\n",
      "dtype: object\n"
     ]
    }
   ],
   "source": [
    "print(all_disney.dtypes)"
   ]
  },
  {
   "cell_type": "code",
   "execution_count": 241,
   "id": "3c53182f",
   "metadata": {},
   "outputs": [
    {
     "name": "stdout",
     "output_type": "stream",
     "text": [
      "platform         object\n",
      "id               object\n",
      "type             object\n",
      "release_year      int64\n",
      "runtime           int64\n",
      "imdb_id          object\n",
      "imdb_score      float64\n",
      "imdb_votes      float64\n",
      "genre             int32\n",
      "Rating           object\n",
      "Rating1           int64\n",
      "dtype: object\n"
     ]
    }
   ],
   "source": [
    "all_disney['genre'] = all_disney['genre'].astype(int)\n",
    "print(all_disney.dtypes)"
   ]
  },
  {
   "cell_type": "code",
   "execution_count": 242,
   "id": "0c4e275a",
   "metadata": {},
   "outputs": [
    {
     "data": {
      "text/html": [
       "<style type=\"text/css\">\n",
       "#T_9ab23_row0_col0, #T_9ab23_row1_col1, #T_9ab23_row2_col2, #T_9ab23_row3_col3, #T_9ab23_row4_col4, #T_9ab23_row5_col5 {\n",
       "  background-color: #b40426;\n",
       "  color: #f1f1f1;\n",
       "}\n",
       "#T_9ab23_row0_col1, #T_9ab23_row1_col0, #T_9ab23_row2_col5, #T_9ab23_row5_col2, #T_9ab23_row5_col3, #T_9ab23_row5_col4 {\n",
       "  background-color: #3b4cc0;\n",
       "  color: #f1f1f1;\n",
       "}\n",
       "#T_9ab23_row0_col2 {\n",
       "  background-color: #d1dae9;\n",
       "  color: #000000;\n",
       "}\n",
       "#T_9ab23_row0_col3, #T_9ab23_row3_col4 {\n",
       "  background-color: #7da0f9;\n",
       "  color: #f1f1f1;\n",
       "}\n",
       "#T_9ab23_row0_col4 {\n",
       "  background-color: #455cce;\n",
       "  color: #f1f1f1;\n",
       "}\n",
       "#T_9ab23_row0_col5 {\n",
       "  background-color: #cfdaea;\n",
       "  color: #000000;\n",
       "}\n",
       "#T_9ab23_row1_col2, #T_9ab23_row4_col5 {\n",
       "  background-color: #c4d5f3;\n",
       "  color: #000000;\n",
       "}\n",
       "#T_9ab23_row1_col3 {\n",
       "  background-color: #e9d5cb;\n",
       "  color: #000000;\n",
       "}\n",
       "#T_9ab23_row1_col4, #T_9ab23_row5_col0 {\n",
       "  background-color: #7ea1fa;\n",
       "  color: #f1f1f1;\n",
       "}\n",
       "#T_9ab23_row1_col5, #T_9ab23_row2_col3 {\n",
       "  background-color: #ccd9ed;\n",
       "  color: #000000;\n",
       "}\n",
       "#T_9ab23_row2_col0 {\n",
       "  background-color: #81a4fb;\n",
       "  color: #f1f1f1;\n",
       "}\n",
       "#T_9ab23_row2_col1 {\n",
       "  background-color: #6a8bef;\n",
       "  color: #f1f1f1;\n",
       "}\n",
       "#T_9ab23_row2_col4 {\n",
       "  background-color: #5f7fe8;\n",
       "  color: #f1f1f1;\n",
       "}\n",
       "#T_9ab23_row3_col0 {\n",
       "  background-color: #779af7;\n",
       "  color: #f1f1f1;\n",
       "}\n",
       "#T_9ab23_row3_col1 {\n",
       "  background-color: #e8d6cc;\n",
       "  color: #000000;\n",
       "}\n",
       "#T_9ab23_row3_col2 {\n",
       "  background-color: #f2c9b4;\n",
       "  color: #000000;\n",
       "}\n",
       "#T_9ab23_row3_col5 {\n",
       "  background-color: #9dbdff;\n",
       "  color: #000000;\n",
       "}\n",
       "#T_9ab23_row4_col0 {\n",
       "  background-color: #7699f6;\n",
       "  color: #f1f1f1;\n",
       "}\n",
       "#T_9ab23_row4_col1 {\n",
       "  background-color: #a9c6fd;\n",
       "  color: #000000;\n",
       "}\n",
       "#T_9ab23_row4_col2 {\n",
       "  background-color: #d7dce3;\n",
       "  color: #000000;\n",
       "}\n",
       "#T_9ab23_row4_col3 {\n",
       "  background-color: #aac7fd;\n",
       "  color: #000000;\n",
       "}\n",
       "#T_9ab23_row5_col1 {\n",
       "  background-color: #799cf8;\n",
       "  color: #f1f1f1;\n",
       "}\n",
       "</style>\n",
       "<table id=\"T_9ab23\">\n",
       "  <thead>\n",
       "    <tr>\n",
       "      <th class=\"blank level0\" >&nbsp;</th>\n",
       "      <th id=\"T_9ab23_level0_col0\" class=\"col_heading level0 col0\" >release_year</th>\n",
       "      <th id=\"T_9ab23_level0_col1\" class=\"col_heading level0 col1\" >runtime</th>\n",
       "      <th id=\"T_9ab23_level0_col2\" class=\"col_heading level0 col2\" >imdb_score</th>\n",
       "      <th id=\"T_9ab23_level0_col3\" class=\"col_heading level0 col3\" >imdb_votes</th>\n",
       "      <th id=\"T_9ab23_level0_col4\" class=\"col_heading level0 col4\" >genre</th>\n",
       "      <th id=\"T_9ab23_level0_col5\" class=\"col_heading level0 col5\" >Rating1</th>\n",
       "    </tr>\n",
       "  </thead>\n",
       "  <tbody>\n",
       "    <tr>\n",
       "      <th id=\"T_9ab23_level0_row0\" class=\"row_heading level0 row0\" >release_year</th>\n",
       "      <td id=\"T_9ab23_row0_col0\" class=\"data row0 col0\" >1.000000</td>\n",
       "      <td id=\"T_9ab23_row0_col1\" class=\"data row0 col1\" >-0.245954</td>\n",
       "      <td id=\"T_9ab23_row0_col2\" class=\"data row0 col2\" >0.021784</td>\n",
       "      <td id=\"T_9ab23_row0_col3\" class=\"data row0 col3\" >-0.008260</td>\n",
       "      <td id=\"T_9ab23_row0_col4\" class=\"data row0 col4\" >-0.016472</td>\n",
       "      <td id=\"T_9ab23_row0_col5\" class=\"data row0 col5\" >0.016536</td>\n",
       "    </tr>\n",
       "    <tr>\n",
       "      <th id=\"T_9ab23_level0_row1\" class=\"row_heading level0 row1\" >runtime</th>\n",
       "      <td id=\"T_9ab23_row1_col0\" class=\"data row1 col0\" >-0.245954</td>\n",
       "      <td id=\"T_9ab23_row1_col1\" class=\"data row1 col1\" >1.000000</td>\n",
       "      <td id=\"T_9ab23_row1_col2\" class=\"data row1 col2\" >-0.056142</td>\n",
       "      <td id=\"T_9ab23_row1_col3\" class=\"data row1 col3\" >0.431444</td>\n",
       "      <td id=\"T_9ab23_row1_col4\" class=\"data row1 col4\" >0.166206</td>\n",
       "      <td id=\"T_9ab23_row1_col5\" class=\"data row1 col5\" >-0.005326</td>\n",
       "    </tr>\n",
       "    <tr>\n",
       "      <th id=\"T_9ab23_level0_row2\" class=\"row_heading level0 row2\" >imdb_score</th>\n",
       "      <td id=\"T_9ab23_row2_col0\" class=\"data row2 col0\" >0.021784</td>\n",
       "      <td id=\"T_9ab23_row2_col1\" class=\"data row2 col1\" >-0.056142</td>\n",
       "      <td id=\"T_9ab23_row2_col2\" class=\"data row2 col2\" >1.000000</td>\n",
       "      <td id=\"T_9ab23_row2_col3\" class=\"data row2 col3\" >0.292941</td>\n",
       "      <td id=\"T_9ab23_row2_col4\" class=\"data row2 col4\" >0.067847</td>\n",
       "      <td id=\"T_9ab23_row2_col5\" class=\"data row2 col5\" >-0.792264</td>\n",
       "    </tr>\n",
       "    <tr>\n",
       "      <th id=\"T_9ab23_level0_row3\" class=\"row_heading level0 row3\" >imdb_votes</th>\n",
       "      <td id=\"T_9ab23_row3_col0\" class=\"data row3 col0\" >-0.008260</td>\n",
       "      <td id=\"T_9ab23_row3_col1\" class=\"data row3 col1\" >0.431444</td>\n",
       "      <td id=\"T_9ab23_row3_col2\" class=\"data row3 col2\" >0.292941</td>\n",
       "      <td id=\"T_9ab23_row3_col3\" class=\"data row3 col3\" >1.000000</td>\n",
       "      <td id=\"T_9ab23_row3_col4\" class=\"data row3 col4\" >0.158749</td>\n",
       "      <td id=\"T_9ab23_row3_col5\" class=\"data row3 col5\" >-0.265436</td>\n",
       "    </tr>\n",
       "    <tr>\n",
       "      <th id=\"T_9ab23_level0_row4\" class=\"row_heading level0 row4\" >genre</th>\n",
       "      <td id=\"T_9ab23_row4_col0\" class=\"data row4 col0\" >-0.016472</td>\n",
       "      <td id=\"T_9ab23_row4_col1\" class=\"data row4 col1\" >0.166206</td>\n",
       "      <td id=\"T_9ab23_row4_col2\" class=\"data row4 col2\" >0.067847</td>\n",
       "      <td id=\"T_9ab23_row4_col3\" class=\"data row4 col3\" >0.158749</td>\n",
       "      <td id=\"T_9ab23_row4_col4\" class=\"data row4 col4\" >1.000000</td>\n",
       "      <td id=\"T_9ab23_row4_col5\" class=\"data row4 col5\" >-0.055997</td>\n",
       "    </tr>\n",
       "    <tr>\n",
       "      <th id=\"T_9ab23_level0_row5\" class=\"row_heading level0 row5\" >Rating1</th>\n",
       "      <td id=\"T_9ab23_row5_col0\" class=\"data row5 col0\" >0.016536</td>\n",
       "      <td id=\"T_9ab23_row5_col1\" class=\"data row5 col1\" >-0.005326</td>\n",
       "      <td id=\"T_9ab23_row5_col2\" class=\"data row5 col2\" >-0.792264</td>\n",
       "      <td id=\"T_9ab23_row5_col3\" class=\"data row5 col3\" >-0.265436</td>\n",
       "      <td id=\"T_9ab23_row5_col4\" class=\"data row5 col4\" >-0.055997</td>\n",
       "      <td id=\"T_9ab23_row5_col5\" class=\"data row5 col5\" >1.000000</td>\n",
       "    </tr>\n",
       "  </tbody>\n",
       "</table>\n"
      ],
      "text/plain": [
       "<pandas.io.formats.style.Styler at 0x145910f5930>"
      ]
     },
     "execution_count": 242,
     "metadata": {},
     "output_type": "execute_result"
    }
   ],
   "source": [
    "corr = all_disney.corr()\n",
    "corr.style.background_gradient(cmap='coolwarm')"
   ]
  },
  {
   "cell_type": "code",
   "execution_count": 243,
   "id": "36016f31",
   "metadata": {},
   "outputs": [
    {
     "data": {
      "text/plain": [
       "Text(0, 0.5, 'AVG IMDB Score')"
      ]
     },
     "execution_count": 243,
     "metadata": {},
     "output_type": "execute_result"
    },
    {
     "data": {
      "image/png": "[encoded data removed]",
      "text/plain": [
       "<Figure size 432x288 with 1 Axes>"
      ]
     },
     "metadata": {
      "needs_background": "light"
     },
     "output_type": "display_data"
    }
   ],
   "source": [
    "all_disney_1 = all_disney[['genre', 'imdb_score']]\n",
    "all_disney_avg = all_disney_1.groupby('genre')['imdb_score'].mean()\n",
    "all_disney_avg.plot(kind='bar')\n",
    "plt.title('Disney Shows and Movies')\n",
    "plt.xlabel('Genre')\n",
    "plt.ylabel('AVG IMDB Score')"
   ]
  },
  {
   "cell_type": "code",
   "execution_count": 244,
   "id": "983516ea",
   "metadata": {},
   "outputs": [
    {
     "name": "stdout",
     "output_type": "stream",
     "text": [
      "genre\n",
      "1     6.635294\n",
      "2     6.675172\n",
      "3     6.087554\n",
      "4     7.325000\n",
      "5     7.118687\n",
      "6     6.522222\n",
      "9     6.542187\n",
      "10    6.825000\n",
      "11    6.500000\n",
      "12    6.160000\n",
      "13    7.170833\n",
      "14    6.319355\n",
      "15    6.783036\n",
      "17    6.663636\n",
      "18    8.300000\n",
      "19    6.608333\n",
      "Name: imdb_score, dtype: float64\n"
     ]
    }
   ],
   "source": [
    "print(all_disney_avg)"
   ]
  },
  {
   "cell_type": "code",
   "execution_count": 245,
   "id": "62e44e35",
   "metadata": {},
   "outputs": [],
   "source": [
    "disney_shows_df = disney_df.loc[disney_df['type'] == 'SHOW']"
   ]
  },
  {
   "cell_type": "code",
   "execution_count": 246,
   "id": "8bc2acaa",
   "metadata": {},
   "outputs": [
    {
     "data": {
      "text/html": [
       "<div>\n",
       "<style scoped>\n",
       "    .dataframe tbody tr th:only-of-type {\n",
       "        vertical-align: middle;\n",
       "    }\n",
       "\n",
       "    .dataframe tbody tr th {\n",
       "        vertical-align: top;\n",
       "    }\n",
       "\n",
       "    .dataframe thead th {\n",
       "        text-align: right;\n",
       "    }\n",
       "</style>\n",
       "<table border=\"1\" class=\"dataframe\">\n",
       "  <thead>\n",
       "    <tr style=\"text-align: right;\">\n",
       "      <th></th>\n",
       "      <th>platform</th>\n",
       "      <th>id</th>\n",
       "      <th>title</th>\n",
       "      <th>type</th>\n",
       "      <th>description</th>\n",
       "      <th>release_year</th>\n",
       "      <th>age_certification</th>\n",
       "      <th>runtime</th>\n",
       "      <th>genres</th>\n",
       "      <th>production_countries</th>\n",
       "      <th>...</th>\n",
       "      <th>genre4</th>\n",
       "      <th>genre5</th>\n",
       "      <th>genre6</th>\n",
       "      <th>genre7</th>\n",
       "      <th>genre8</th>\n",
       "      <th>genre9</th>\n",
       "      <th>genre10</th>\n",
       "      <th>genre</th>\n",
       "      <th>program_type</th>\n",
       "      <th>Platform</th>\n",
       "    </tr>\n",
       "  </thead>\n",
       "  <tbody>\n",
       "    <tr>\n",
       "      <th>1</th>\n",
       "      <td>Disney</td>\n",
       "      <td>ts20711</td>\n",
       "      <td>The Simpsons</td>\n",
       "      <td>SHOW</td>\n",
       "      <td>The satiric adventures of a working-class fami...</td>\n",
       "      <td>1989</td>\n",
       "      <td>TV-14</td>\n",
       "      <td>27</td>\n",
       "      <td>animation, comedy</td>\n",
       "      <td>['US']</td>\n",
       "      <td>...</td>\n",
       "      <td>NaN</td>\n",
       "      <td>NaN</td>\n",
       "      <td>NaN</td>\n",
       "      <td>NaN</td>\n",
       "      <td>NaN</td>\n",
       "      <td>NaN</td>\n",
       "      <td>NaN</td>\n",
       "      <td>2</td>\n",
       "      <td>1</td>\n",
       "      <td>2</td>\n",
       "    </tr>\n",
       "    <tr>\n",
       "      <th>2</th>\n",
       "      <td>Disney</td>\n",
       "      <td>ts15377</td>\n",
       "      <td>America's Funniest Home Videos</td>\n",
       "      <td>SHOW</td>\n",
       "      <td>America's Funniest Home Videos is the longest-...</td>\n",
       "      <td>1989</td>\n",
       "      <td>TV-PG</td>\n",
       "      <td>49</td>\n",
       "      <td>animation, reality, comedy</td>\n",
       "      <td>['US']</td>\n",
       "      <td>...</td>\n",
       "      <td>NaN</td>\n",
       "      <td>NaN</td>\n",
       "      <td>NaN</td>\n",
       "      <td>NaN</td>\n",
       "      <td>NaN</td>\n",
       "      <td>NaN</td>\n",
       "      <td>NaN</td>\n",
       "      <td>2</td>\n",
       "      <td>1</td>\n",
       "      <td>2</td>\n",
       "    </tr>\n",
       "    <tr>\n",
       "      <th>3</th>\n",
       "      <td>Disney</td>\n",
       "      <td>ts22130</td>\n",
       "      <td>Rolie Polie Olie</td>\n",
       "      <td>SHOW</td>\n",
       "      <td>Rolie Polie Olie was a children's television s...</td>\n",
       "      <td>1998</td>\n",
       "      <td>TV-Y</td>\n",
       "      <td>21</td>\n",
       "      <td>animation, comedy, family, fantasy, scifi</td>\n",
       "      <td>['FR', 'GB', 'US', 'CA']</td>\n",
       "      <td>...</td>\n",
       "      <td>fantasy</td>\n",
       "      <td>scifi</td>\n",
       "      <td>NaN</td>\n",
       "      <td>NaN</td>\n",
       "      <td>NaN</td>\n",
       "      <td>NaN</td>\n",
       "      <td>NaN</td>\n",
       "      <td>2</td>\n",
       "      <td>1</td>\n",
       "      <td>2</td>\n",
       "    </tr>\n",
       "  </tbody>\n",
       "</table>\n",
       "<p>3 rows × 29 columns</p>\n",
       "</div>"
      ],
      "text/plain": [
       "  platform       id                           title  type  \\\n",
       "1   Disney  ts20711                    The Simpsons  SHOW   \n",
       "2   Disney  ts15377  America's Funniest Home Videos  SHOW   \n",
       "3   Disney  ts22130                Rolie Polie Olie  SHOW   \n",
       "\n",
       "                                         description  release_year  \\\n",
       "1  The satiric adventures of a working-class fami...          1989   \n",
       "2  America's Funniest Home Videos is the longest-...          1989   \n",
       "3  Rolie Polie Olie was a children's television s...          1998   \n",
       "\n",
       "  age_certification  runtime                                     genres  \\\n",
       "1             TV-14       27                          animation, comedy   \n",
       "2             TV-PG       49                 animation, reality, comedy   \n",
       "3              TV-Y       21  animation, comedy, family, fantasy, scifi   \n",
       "\n",
       "       production_countries  ...   genre4 genre5  genre6  genre7  genre8  \\\n",
       "1                    ['US']  ...      NaN    NaN     NaN     NaN     NaN   \n",
       "2                    ['US']  ...      NaN    NaN     NaN     NaN     NaN   \n",
       "3  ['FR', 'GB', 'US', 'CA']  ...  fantasy  scifi     NaN     NaN     NaN   \n",
       "\n",
       "   genre9 genre10 genre program_type Platform  \n",
       "1     NaN     NaN     2            1        2  \n",
       "2     NaN     NaN     2            1        2  \n",
       "3     NaN     NaN     2            1        2  \n",
       "\n",
       "[3 rows x 29 columns]"
      ]
     },
     "execution_count": 246,
     "metadata": {},
     "output_type": "execute_result"
    }
   ],
   "source": [
    "disney_shows_df.head(3)"
   ]
  },
  {
   "cell_type": "code",
   "execution_count": 247,
   "id": "b5926054",
   "metadata": {},
   "outputs": [],
   "source": [
    "disney_shows = disney_shows_df.drop(['title', 'type','description', 'age_certification', 'genres', \n",
    "                        'production_countries','tmdb_popularity','tmdb_score','program_type',\n",
    "                        'Platform','genre1', 'genre2', 'genre3', 'genre4', 'genre5', 'genre6', \n",
    "                        'genre7','genre8', 'genre9', 'genre10'], axis=1)"
   ]
  },
  {
   "cell_type": "code",
   "execution_count": 248,
   "id": "9e9f4579",
   "metadata": {},
   "outputs": [
    {
     "data": {
      "text/html": [
       "<div>\n",
       "<style scoped>\n",
       "    .dataframe tbody tr th:only-of-type {\n",
       "        vertical-align: middle;\n",
       "    }\n",
       "\n",
       "    .dataframe tbody tr th {\n",
       "        vertical-align: top;\n",
       "    }\n",
       "\n",
       "    .dataframe thead th {\n",
       "        text-align: right;\n",
       "    }\n",
       "</style>\n",
       "<table border=\"1\" class=\"dataframe\">\n",
       "  <thead>\n",
       "    <tr style=\"text-align: right;\">\n",
       "      <th></th>\n",
       "      <th>platform</th>\n",
       "      <th>id</th>\n",
       "      <th>release_year</th>\n",
       "      <th>runtime</th>\n",
       "      <th>seasons</th>\n",
       "      <th>imdb_id</th>\n",
       "      <th>imdb_score</th>\n",
       "      <th>imdb_votes</th>\n",
       "      <th>genre</th>\n",
       "    </tr>\n",
       "  </thead>\n",
       "  <tbody>\n",
       "    <tr>\n",
       "      <th>1</th>\n",
       "      <td>Disney</td>\n",
       "      <td>ts20711</td>\n",
       "      <td>1989</td>\n",
       "      <td>27</td>\n",
       "      <td>34.0</td>\n",
       "      <td>tt0096697</td>\n",
       "      <td>8.7</td>\n",
       "      <td>394764.0</td>\n",
       "      <td>2</td>\n",
       "    </tr>\n",
       "    <tr>\n",
       "      <th>2</th>\n",
       "      <td>Disney</td>\n",
       "      <td>ts15377</td>\n",
       "      <td>1989</td>\n",
       "      <td>49</td>\n",
       "      <td>32.0</td>\n",
       "      <td>tt0098740</td>\n",
       "      <td>6.2</td>\n",
       "      <td>5356.0</td>\n",
       "      <td>2</td>\n",
       "    </tr>\n",
       "    <tr>\n",
       "      <th>3</th>\n",
       "      <td>Disney</td>\n",
       "      <td>ts22130</td>\n",
       "      <td>1998</td>\n",
       "      <td>21</td>\n",
       "      <td>6.0</td>\n",
       "      <td>tt0172049</td>\n",
       "      <td>6.3</td>\n",
       "      <td>2861.0</td>\n",
       "      <td>2</td>\n",
       "    </tr>\n",
       "  </tbody>\n",
       "</table>\n",
       "</div>"
      ],
      "text/plain": [
       "  platform       id  release_year  runtime  seasons    imdb_id  imdb_score  \\\n",
       "1   Disney  ts20711          1989       27     34.0  tt0096697         8.7   \n",
       "2   Disney  ts15377          1989       49     32.0  tt0098740         6.2   \n",
       "3   Disney  ts22130          1998       21      6.0  tt0172049         6.3   \n",
       "\n",
       "   imdb_votes genre  \n",
       "1    394764.0     2  \n",
       "2      5356.0     2  \n",
       "3      2861.0     2  "
      ]
     },
     "execution_count": 248,
     "metadata": {},
     "output_type": "execute_result"
    }
   ],
   "source": [
    "disney_shows.head(3)"
   ]
  },
  {
   "cell_type": "code",
   "execution_count": 249,
   "id": "871b3111",
   "metadata": {},
   "outputs": [
    {
     "data": {
      "text/plain": [
       "platform         0\n",
       "id               0\n",
       "release_year     0\n",
       "runtime          0\n",
       "seasons          0\n",
       "imdb_id         41\n",
       "imdb_score      54\n",
       "imdb_votes      54\n",
       "genre           18\n",
       "dtype: int64"
      ]
     },
     "execution_count": 249,
     "metadata": {},
     "output_type": "execute_result"
    }
   ],
   "source": [
    "disney_shows.isnull().sum()"
   ]
  },
  {
   "cell_type": "code",
   "execution_count": 250,
   "id": "4c445d1a",
   "metadata": {},
   "outputs": [
    {
     "data": {
      "text/plain": [
       "platform        359\n",
       "id              359\n",
       "release_year    359\n",
       "runtime         359\n",
       "seasons         359\n",
       "imdb_id         359\n",
       "imdb_score      359\n",
       "imdb_votes      359\n",
       "genre           359\n",
       "dtype: int64"
      ]
     },
     "execution_count": 250,
     "metadata": {},
     "output_type": "execute_result"
    }
   ],
   "source": [
    "disney_shows.dropna(inplace=True)\n",
    "disney_shows.count()"
   ]
  },
  {
   "cell_type": "code",
   "execution_count": 251,
   "id": "da6fa7bf",
   "metadata": {},
   "outputs": [
    {
     "data": {
      "text/plain": [
       "6.947353760445682"
      ]
     },
     "execution_count": 251,
     "metadata": {},
     "output_type": "execute_result"
    }
   ],
   "source": [
    "#Average IMDB Score for Disney Shows\n",
    "disney_shows.loc[:, 'imdb_score'].mean()"
   ]
  },
  {
   "cell_type": "code",
   "execution_count": 252,
   "id": "e1338a67",
   "metadata": {},
   "outputs": [
    {
     "data": {
      "text/plain": [
       "28.501392757660167"
      ]
     },
     "execution_count": 252,
     "metadata": {},
     "output_type": "execute_result"
    }
   ],
   "source": [
    "#Average runtime for Disney Shows\n",
    "disney_shows.loc[:, 'runtime'].mean()"
   ]
  },
  {
   "cell_type": "code",
   "execution_count": 253,
   "id": "349dbbc1",
   "metadata": {},
   "outputs": [],
   "source": [
    "#recoding score\n",
    "def Rating (series):\n",
    "  if series == \"imdb_score\":\n",
    "    return \"0\"\n",
    "  if series <= 6.8: \n",
    "    return \"Negative\"\n",
    "  if series >= 6.9: \n",
    "    return \"Positive\"\n",
    "disney_shows[\"Rating\"] = disney_shows['imdb_score'].apply(Rating)"
   ]
  },
  {
   "cell_type": "code",
   "execution_count": 254,
   "id": "3b2dd0f7",
   "metadata": {},
   "outputs": [
    {
     "data": {
      "text/html": [
       "<div>\n",
       "<style scoped>\n",
       "    .dataframe tbody tr th:only-of-type {\n",
       "        vertical-align: middle;\n",
       "    }\n",
       "\n",
       "    .dataframe tbody tr th {\n",
       "        vertical-align: top;\n",
       "    }\n",
       "\n",
       "    .dataframe thead th {\n",
       "        text-align: right;\n",
       "    }\n",
       "</style>\n",
       "<table border=\"1\" class=\"dataframe\">\n",
       "  <thead>\n",
       "    <tr style=\"text-align: right;\">\n",
       "      <th></th>\n",
       "      <th>platform</th>\n",
       "      <th>id</th>\n",
       "      <th>release_year</th>\n",
       "      <th>runtime</th>\n",
       "      <th>seasons</th>\n",
       "      <th>imdb_id</th>\n",
       "      <th>imdb_score</th>\n",
       "      <th>imdb_votes</th>\n",
       "      <th>genre</th>\n",
       "      <th>Rating</th>\n",
       "      <th>Rating1</th>\n",
       "    </tr>\n",
       "  </thead>\n",
       "  <tbody>\n",
       "    <tr>\n",
       "      <th>1</th>\n",
       "      <td>Disney</td>\n",
       "      <td>ts20711</td>\n",
       "      <td>1989</td>\n",
       "      <td>27</td>\n",
       "      <td>34.0</td>\n",
       "      <td>tt0096697</td>\n",
       "      <td>8.7</td>\n",
       "      <td>394764.0</td>\n",
       "      <td>2</td>\n",
       "      <td>Positive</td>\n",
       "      <td>1</td>\n",
       "    </tr>\n",
       "    <tr>\n",
       "      <th>2</th>\n",
       "      <td>Disney</td>\n",
       "      <td>ts15377</td>\n",
       "      <td>1989</td>\n",
       "      <td>49</td>\n",
       "      <td>32.0</td>\n",
       "      <td>tt0098740</td>\n",
       "      <td>6.2</td>\n",
       "      <td>5356.0</td>\n",
       "      <td>2</td>\n",
       "      <td>Negative</td>\n",
       "      <td>2</td>\n",
       "    </tr>\n",
       "    <tr>\n",
       "      <th>3</th>\n",
       "      <td>Disney</td>\n",
       "      <td>ts22130</td>\n",
       "      <td>1998</td>\n",
       "      <td>21</td>\n",
       "      <td>6.0</td>\n",
       "      <td>tt0172049</td>\n",
       "      <td>6.3</td>\n",
       "      <td>2861.0</td>\n",
       "      <td>2</td>\n",
       "      <td>Negative</td>\n",
       "      <td>2</td>\n",
       "    </tr>\n",
       "  </tbody>\n",
       "</table>\n",
       "</div>"
      ],
      "text/plain": [
       "  platform       id  release_year  runtime  seasons    imdb_id  imdb_score  \\\n",
       "1   Disney  ts20711          1989       27     34.0  tt0096697         8.7   \n",
       "2   Disney  ts15377          1989       49     32.0  tt0098740         6.2   \n",
       "3   Disney  ts22130          1998       21      6.0  tt0172049         6.3   \n",
       "\n",
       "   imdb_votes genre    Rating  Rating1  \n",
       "1    394764.0     2  Positive        1  \n",
       "2      5356.0     2  Negative        2  \n",
       "3      2861.0     2  Negative        2  "
      ]
     },
     "execution_count": 254,
     "metadata": {},
     "output_type": "execute_result"
    }
   ],
   "source": [
    "def Rating1 (series):\n",
    "  if series == \"Rating\":\n",
    "    return \"0\"\n",
    "  if series == \"Positive\": \n",
    "    return 1\n",
    "  if series == \"Negative\":\n",
    "    return 2\n",
    "disney_shows[\"Rating1\"] = disney_shows[\"Rating\"].apply(Rating1)\n",
    "\n",
    "disney_shows.head(3)"
   ]
  },
  {
   "cell_type": "code",
   "execution_count": 255,
   "id": "d228d7fc",
   "metadata": {},
   "outputs": [
    {
     "data": {
      "text/plain": [
       "Rating\n",
       "Negative    171\n",
       "Positive    188\n",
       "Name: genre, dtype: int64"
      ]
     },
     "execution_count": 255,
     "metadata": {},
     "output_type": "execute_result"
    }
   ],
   "source": [
    "disney_shows.groupby('Rating')['genre'].count()"
   ]
  },
  {
   "cell_type": "code",
   "execution_count": 256,
   "id": "4435fe06",
   "metadata": {},
   "outputs": [
    {
     "name": "stdout",
     "output_type": "stream",
     "text": [
      "platform         object\n",
      "id               object\n",
      "release_year      int64\n",
      "runtime           int64\n",
      "seasons         float64\n",
      "imdb_id          object\n",
      "imdb_score      float64\n",
      "imdb_votes      float64\n",
      "genre            object\n",
      "Rating           object\n",
      "Rating1           int64\n",
      "dtype: object\n"
     ]
    }
   ],
   "source": [
    "print(disney_shows.dtypes)"
   ]
  },
  {
   "cell_type": "code",
   "execution_count": 257,
   "id": "88841d50",
   "metadata": {},
   "outputs": [
    {
     "name": "stdout",
     "output_type": "stream",
     "text": [
      "platform         object\n",
      "id               object\n",
      "release_year      int64\n",
      "runtime           int64\n",
      "seasons         float64\n",
      "imdb_id          object\n",
      "imdb_score      float64\n",
      "imdb_votes      float64\n",
      "genre             int32\n",
      "Rating           object\n",
      "Rating1           int64\n",
      "dtype: object\n"
     ]
    }
   ],
   "source": [
    "disney_shows['genre'] = disney_shows['genre'].astype(int)\n",
    "print(disney_shows.dtypes)"
   ]
  },
  {
   "cell_type": "code",
   "execution_count": 258,
   "id": "c6a36a5e",
   "metadata": {},
   "outputs": [
    {
     "data": {
      "text/html": [
       "<style type=\"text/css\">\n",
       "#T_2dcfe_row0_col0, #T_2dcfe_row1_col1, #T_2dcfe_row2_col2, #T_2dcfe_row3_col3, #T_2dcfe_row4_col4, #T_2dcfe_row5_col5, #T_2dcfe_row6_col6 {\n",
       "  background-color: #b40426;\n",
       "  color: #f1f1f1;\n",
       "}\n",
       "#T_2dcfe_row0_col1 {\n",
       "  background-color: #b7cff9;\n",
       "  color: #000000;\n",
       "}\n",
       "#T_2dcfe_row0_col2, #T_2dcfe_row2_col0, #T_2dcfe_row3_col6, #T_2dcfe_row6_col1, #T_2dcfe_row6_col3, #T_2dcfe_row6_col4, #T_2dcfe_row6_col5 {\n",
       "  background-color: #3b4cc0;\n",
       "  color: #f1f1f1;\n",
       "}\n",
       "#T_2dcfe_row0_col3 {\n",
       "  background-color: #cdd9ec;\n",
       "  color: #000000;\n",
       "}\n",
       "#T_2dcfe_row0_col4 {\n",
       "  background-color: #6e90f2;\n",
       "  color: #f1f1f1;\n",
       "}\n",
       "#T_2dcfe_row0_col5 {\n",
       "  background-color: #6b8df0;\n",
       "  color: #f1f1f1;\n",
       "}\n",
       "#T_2dcfe_row0_col6 {\n",
       "  background-color: #d1dae9;\n",
       "  color: #000000;\n",
       "}\n",
       "#T_2dcfe_row1_col0, #T_2dcfe_row4_col1, #T_2dcfe_row5_col6 {\n",
       "  background-color: #bad0f8;\n",
       "  color: #000000;\n",
       "}\n",
       "#T_2dcfe_row1_col2 {\n",
       "  background-color: #90b2fe;\n",
       "  color: #000000;\n",
       "}\n",
       "#T_2dcfe_row1_col3 {\n",
       "  background-color: #f4c6af;\n",
       "  color: #000000;\n",
       "}\n",
       "#T_2dcfe_row1_col4, #T_2dcfe_row4_col6 {\n",
       "  background-color: #abc8fd;\n",
       "  color: #000000;\n",
       "}\n",
       "#T_2dcfe_row1_col5 {\n",
       "  background-color: #96b7ff;\n",
       "  color: #000000;\n",
       "}\n",
       "#T_2dcfe_row1_col6 {\n",
       "  background-color: #9dbdff;\n",
       "  color: #000000;\n",
       "}\n",
       "#T_2dcfe_row2_col1 {\n",
       "  background-color: #8fb1fe;\n",
       "  color: #000000;\n",
       "}\n",
       "#T_2dcfe_row2_col3 {\n",
       "  background-color: #dfdbd9;\n",
       "  color: #000000;\n",
       "}\n",
       "#T_2dcfe_row2_col4 {\n",
       "  background-color: #b1cbfc;\n",
       "  color: #000000;\n",
       "}\n",
       "#T_2dcfe_row2_col5 {\n",
       "  background-color: #6384eb;\n",
       "  color: #f1f1f1;\n",
       "}\n",
       "#T_2dcfe_row2_col6 {\n",
       "  background-color: #c4d5f3;\n",
       "  color: #000000;\n",
       "}\n",
       "#T_2dcfe_row3_col0 {\n",
       "  background-color: #80a3fa;\n",
       "  color: #f1f1f1;\n",
       "}\n",
       "#T_2dcfe_row3_col1 {\n",
       "  background-color: #d2dbe8;\n",
       "  color: #000000;\n",
       "}\n",
       "#T_2dcfe_row3_col2 {\n",
       "  background-color: #a2c1ff;\n",
       "  color: #000000;\n",
       "}\n",
       "#T_2dcfe_row3_col4, #T_2dcfe_row5_col1 {\n",
       "  background-color: #b3cdfb;\n",
       "  color: #000000;\n",
       "}\n",
       "#T_2dcfe_row3_col5, #T_2dcfe_row4_col0 {\n",
       "  background-color: #82a6fb;\n",
       "  color: #f1f1f1;\n",
       "}\n",
       "#T_2dcfe_row4_col2 {\n",
       "  background-color: #bfd3f6;\n",
       "  color: #000000;\n",
       "}\n",
       "#T_2dcfe_row4_col3 {\n",
       "  background-color: #eed0c0;\n",
       "  color: #000000;\n",
       "}\n",
       "#T_2dcfe_row4_col5 {\n",
       "  background-color: #85a8fc;\n",
       "  color: #f1f1f1;\n",
       "}\n",
       "#T_2dcfe_row5_col0 {\n",
       "  background-color: #92b4fe;\n",
       "  color: #000000;\n",
       "}\n",
       "#T_2dcfe_row5_col2 {\n",
       "  background-color: #8badfd;\n",
       "  color: #000000;\n",
       "}\n",
       "#T_2dcfe_row5_col3 {\n",
       "  background-color: #e1dad6;\n",
       "  color: #000000;\n",
       "}\n",
       "#T_2dcfe_row5_col4 {\n",
       "  background-color: #97b8ff;\n",
       "  color: #000000;\n",
       "}\n",
       "#T_2dcfe_row6_col0 {\n",
       "  background-color: #88abfd;\n",
       "  color: #000000;\n",
       "}\n",
       "#T_2dcfe_row6_col2 {\n",
       "  background-color: #7295f4;\n",
       "  color: #f1f1f1;\n",
       "}\n",
       "</style>\n",
       "<table id=\"T_2dcfe\">\n",
       "  <thead>\n",
       "    <tr>\n",
       "      <th class=\"blank level0\" >&nbsp;</th>\n",
       "      <th id=\"T_2dcfe_level0_col0\" class=\"col_heading level0 col0\" >release_year</th>\n",
       "      <th id=\"T_2dcfe_level0_col1\" class=\"col_heading level0 col1\" >runtime</th>\n",
       "      <th id=\"T_2dcfe_level0_col2\" class=\"col_heading level0 col2\" >seasons</th>\n",
       "      <th id=\"T_2dcfe_level0_col3\" class=\"col_heading level0 col3\" >imdb_score</th>\n",
       "      <th id=\"T_2dcfe_level0_col4\" class=\"col_heading level0 col4\" >imdb_votes</th>\n",
       "      <th id=\"T_2dcfe_level0_col5\" class=\"col_heading level0 col5\" >genre</th>\n",
       "      <th id=\"T_2dcfe_level0_col6\" class=\"col_heading level0 col6\" >Rating1</th>\n",
       "    </tr>\n",
       "  </thead>\n",
       "  <tbody>\n",
       "    <tr>\n",
       "      <th id=\"T_2dcfe_level0_row0\" class=\"row_heading level0 row0\" >release_year</th>\n",
       "      <td id=\"T_2dcfe_row0_col0\" class=\"data row0 col0\" >1.000000</td>\n",
       "      <td id=\"T_2dcfe_row0_col1\" class=\"data row0 col1\" >0.195024</td>\n",
       "      <td id=\"T_2dcfe_row0_col2\" class=\"data row0 col2\" >-0.296672</td>\n",
       "      <td id=\"T_2dcfe_row0_col3\" class=\"data row0 col3\" >-0.018373</td>\n",
       "      <td id=\"T_2dcfe_row0_col4\" class=\"data row0 col4\" >-0.012836</td>\n",
       "      <td id=\"T_2dcfe_row0_col5\" class=\"data row0 col5\" >0.045140</td>\n",
       "      <td id=\"T_2dcfe_row0_col6\" class=\"data row0 col6\" >0.008541</td>\n",
       "    </tr>\n",
       "    <tr>\n",
       "      <th id=\"T_2dcfe_level0_row1\" class=\"row_heading level0 row1\" >runtime</th>\n",
       "      <td id=\"T_2dcfe_row1_col0\" class=\"data row1 col0\" >0.195024</td>\n",
       "      <td id=\"T_2dcfe_row1_col1\" class=\"data row1 col1\" >1.000000</td>\n",
       "      <td id=\"T_2dcfe_row1_col2\" class=\"data row1 col2\" >0.042049</td>\n",
       "      <td id=\"T_2dcfe_row1_col3\" class=\"data row1 col3\" >0.305699</td>\n",
       "      <td id=\"T_2dcfe_row1_col4\" class=\"data row1 col4\" >0.202371</td>\n",
       "      <td id=\"T_2dcfe_row1_col5\" class=\"data row1 col5\" >0.180351</td>\n",
       "      <td id=\"T_2dcfe_row1_col6\" class=\"data row1 col6\" >-0.284791</td>\n",
       "    </tr>\n",
       "    <tr>\n",
       "      <th id=\"T_2dcfe_level0_row2\" class=\"row_heading level0 row2\" >seasons</th>\n",
       "      <td id=\"T_2dcfe_row2_col0\" class=\"data row2 col0\" >-0.296672</td>\n",
       "      <td id=\"T_2dcfe_row2_col1\" class=\"data row2 col1\" >0.042049</td>\n",
       "      <td id=\"T_2dcfe_row2_col2\" class=\"data row2 col2\" >1.000000</td>\n",
       "      <td id=\"T_2dcfe_row2_col3\" class=\"data row2 col3\" >0.107684</td>\n",
       "      <td id=\"T_2dcfe_row2_col4\" class=\"data row2 col4\" >0.219867</td>\n",
       "      <td id=\"T_2dcfe_row2_col5\" class=\"data row2 col5\" >0.019213</td>\n",
       "      <td id=\"T_2dcfe_row2_col6\" class=\"data row2 col6\" >-0.072451</td>\n",
       "    </tr>\n",
       "    <tr>\n",
       "      <th id=\"T_2dcfe_level0_row3\" class=\"row_heading level0 row3\" >imdb_score</th>\n",
       "      <td id=\"T_2dcfe_row3_col0\" class=\"data row3 col0\" >-0.018373</td>\n",
       "      <td id=\"T_2dcfe_row3_col1\" class=\"data row3 col1\" >0.305699</td>\n",
       "      <td id=\"T_2dcfe_row3_col2\" class=\"data row3 col2\" >0.107684</td>\n",
       "      <td id=\"T_2dcfe_row3_col3\" class=\"data row3 col3\" >1.000000</td>\n",
       "      <td id=\"T_2dcfe_row3_col4\" class=\"data row3 col4\" >0.227617</td>\n",
       "      <td id=\"T_2dcfe_row3_col5\" class=\"data row3 col5\" >0.121134</td>\n",
       "      <td id=\"T_2dcfe_row3_col6\" class=\"data row3 col6\" >-0.824632</td>\n",
       "    </tr>\n",
       "    <tr>\n",
       "      <th id=\"T_2dcfe_level0_row4\" class=\"row_heading level0 row4\" >imdb_votes</th>\n",
       "      <td id=\"T_2dcfe_row4_col0\" class=\"data row4 col0\" >-0.012836</td>\n",
       "      <td id=\"T_2dcfe_row4_col1\" class=\"data row4 col1\" >0.202371</td>\n",
       "      <td id=\"T_2dcfe_row4_col2\" class=\"data row4 col2\" >0.219867</td>\n",
       "      <td id=\"T_2dcfe_row4_col3\" class=\"data row4 col3\" >0.227617</td>\n",
       "      <td id=\"T_2dcfe_row4_col4\" class=\"data row4 col4\" >1.000000</td>\n",
       "      <td id=\"T_2dcfe_row4_col5\" class=\"data row4 col5\" >0.128292</td>\n",
       "      <td id=\"T_2dcfe_row4_col6\" class=\"data row4 col6\" >-0.206371</td>\n",
       "    </tr>\n",
       "    <tr>\n",
       "      <th id=\"T_2dcfe_level0_row5\" class=\"row_heading level0 row5\" >genre</th>\n",
       "      <td id=\"T_2dcfe_row5_col0\" class=\"data row5 col0\" >0.045140</td>\n",
       "      <td id=\"T_2dcfe_row5_col1\" class=\"data row5 col1\" >0.180351</td>\n",
       "      <td id=\"T_2dcfe_row5_col2\" class=\"data row5 col2\" >0.019213</td>\n",
       "      <td id=\"T_2dcfe_row5_col3\" class=\"data row5 col3\" >0.121134</td>\n",
       "      <td id=\"T_2dcfe_row5_col4\" class=\"data row5 col4\" >0.128292</td>\n",
       "      <td id=\"T_2dcfe_row5_col5\" class=\"data row5 col5\" >1.000000</td>\n",
       "      <td id=\"T_2dcfe_row5_col6\" class=\"data row5 col6\" >-0.128427</td>\n",
       "    </tr>\n",
       "    <tr>\n",
       "      <th id=\"T_2dcfe_level0_row6\" class=\"row_heading level0 row6\" >Rating1</th>\n",
       "      <td id=\"T_2dcfe_row6_col0\" class=\"data row6 col0\" >0.008541</td>\n",
       "      <td id=\"T_2dcfe_row6_col1\" class=\"data row6 col1\" >-0.284791</td>\n",
       "      <td id=\"T_2dcfe_row6_col2\" class=\"data row6 col2\" >-0.072451</td>\n",
       "      <td id=\"T_2dcfe_row6_col3\" class=\"data row6 col3\" >-0.824632</td>\n",
       "      <td id=\"T_2dcfe_row6_col4\" class=\"data row6 col4\" >-0.206371</td>\n",
       "      <td id=\"T_2dcfe_row6_col5\" class=\"data row6 col5\" >-0.128427</td>\n",
       "      <td id=\"T_2dcfe_row6_col6\" class=\"data row6 col6\" >1.000000</td>\n",
       "    </tr>\n",
       "  </tbody>\n",
       "</table>\n"
      ],
      "text/plain": [
       "<pandas.io.formats.style.Styler at 0x145909db850>"
      ]
     },
     "execution_count": 258,
     "metadata": {},
     "output_type": "execute_result"
    }
   ],
   "source": [
    "corr = disney_shows.corr()\n",
    "corr.style.background_gradient(cmap='coolwarm')"
   ]
  },
  {
   "cell_type": "code",
   "execution_count": 259,
   "id": "9c79c083",
   "metadata": {},
   "outputs": [
    {
     "data": {
      "text/plain": [
       "Text(0, 0.5, 'AVG IMDB Score')"
      ]
     },
     "execution_count": 259,
     "metadata": {},
     "output_type": "execute_result"
    },
    {
     "data": {
      "image/png": "[encoded data removed]",
      "text/plain": [
       "<Figure size 432x288 with 1 Axes>"
      ]
     },
     "metadata": {
      "needs_background": "light"
     },
     "output_type": "display_data"
    }
   ],
   "source": [
    "disney_shows_1 = disney_shows[['genre', 'imdb_score']]\n",
    "disney_shows_avg = disney_shows_1.groupby('genre')['imdb_score'].mean()\n",
    "disney_shows_avg.plot(kind='bar')\n",
    "plt.title('Disney Shows')\n",
    "plt.xlabel('Genre')\n",
    "plt.ylabel('AVG IMDB Score')"
   ]
  },
  {
   "cell_type": "code",
   "execution_count": 260,
   "id": "48a8df82",
   "metadata": {},
   "outputs": [
    {
     "name": "stdout",
     "output_type": "stream",
     "text": [
      "genre\n",
      "1     6.806383\n",
      "2     6.788136\n",
      "3     6.327536\n",
      "4     8.500000\n",
      "5     7.642105\n",
      "6     6.550000\n",
      "9     7.533333\n",
      "10    7.700000\n",
      "12    5.975000\n",
      "13    7.170833\n",
      "15    7.032692\n",
      "17    7.650000\n",
      "18    8.300000\n",
      "19    7.150000\n",
      "Name: imdb_score, dtype: float64\n"
     ]
    }
   ],
   "source": [
    "print(disney_shows_avg)"
   ]
  },
  {
   "cell_type": "code",
   "execution_count": 261,
   "id": "81988710",
   "metadata": {},
   "outputs": [],
   "source": [
    "disney_movies_df = disney_df.loc[disney_df['type'] == 'MOVIE']"
   ]
  },
  {
   "cell_type": "code",
   "execution_count": 262,
   "id": "18272ae0",
   "metadata": {
    "scrolled": true
   },
   "outputs": [
    {
     "data": {
      "text/html": [
       "<div>\n",
       "<style scoped>\n",
       "    .dataframe tbody tr th:only-of-type {\n",
       "        vertical-align: middle;\n",
       "    }\n",
       "\n",
       "    .dataframe tbody tr th {\n",
       "        vertical-align: top;\n",
       "    }\n",
       "\n",
       "    .dataframe thead th {\n",
       "        text-align: right;\n",
       "    }\n",
       "</style>\n",
       "<table border=\"1\" class=\"dataframe\">\n",
       "  <thead>\n",
       "    <tr style=\"text-align: right;\">\n",
       "      <th></th>\n",
       "      <th>platform</th>\n",
       "      <th>id</th>\n",
       "      <th>title</th>\n",
       "      <th>type</th>\n",
       "      <th>description</th>\n",
       "      <th>release_year</th>\n",
       "      <th>age_certification</th>\n",
       "      <th>runtime</th>\n",
       "      <th>genres</th>\n",
       "      <th>production_countries</th>\n",
       "      <th>...</th>\n",
       "      <th>genre4</th>\n",
       "      <th>genre5</th>\n",
       "      <th>genre6</th>\n",
       "      <th>genre7</th>\n",
       "      <th>genre8</th>\n",
       "      <th>genre9</th>\n",
       "      <th>genre10</th>\n",
       "      <th>genre</th>\n",
       "      <th>program_type</th>\n",
       "      <th>Platform</th>\n",
       "    </tr>\n",
       "  </thead>\n",
       "  <tbody>\n",
       "    <tr>\n",
       "      <th>0</th>\n",
       "      <td>Disney</td>\n",
       "      <td>tm19438</td>\n",
       "      <td>The Princess Bride</td>\n",
       "      <td>MOVIE</td>\n",
       "      <td>In this enchantingly cracked fairy tale, the b...</td>\n",
       "      <td>1987</td>\n",
       "      <td>PG</td>\n",
       "      <td>99</td>\n",
       "      <td>fantasy, family, romance</td>\n",
       "      <td>['US']</td>\n",
       "      <td>...</td>\n",
       "      <td>NaN</td>\n",
       "      <td>NaN</td>\n",
       "      <td>NaN</td>\n",
       "      <td>NaN</td>\n",
       "      <td>NaN</td>\n",
       "      <td>NaN</td>\n",
       "      <td>NaN</td>\n",
       "      <td>9</td>\n",
       "      <td>2</td>\n",
       "      <td>2</td>\n",
       "    </tr>\n",
       "    <tr>\n",
       "      <th>4</th>\n",
       "      <td>Disney</td>\n",
       "      <td>tm38852</td>\n",
       "      <td>Horton Hears a Who!</td>\n",
       "      <td>MOVIE</td>\n",
       "      <td>One day, Horton the elephant hears a cry from ...</td>\n",
       "      <td>2008</td>\n",
       "      <td>G</td>\n",
       "      <td>86</td>\n",
       "      <td>fantasy, family, drama, romance, comedy, music...</td>\n",
       "      <td>['US']</td>\n",
       "      <td>...</td>\n",
       "      <td>romance</td>\n",
       "      <td>comedy</td>\n",
       "      <td>music</td>\n",
       "      <td>animation</td>\n",
       "      <td>NaN</td>\n",
       "      <td>NaN</td>\n",
       "      <td>NaN</td>\n",
       "      <td>9</td>\n",
       "      <td>2</td>\n",
       "      <td>2</td>\n",
       "    </tr>\n",
       "    <tr>\n",
       "      <th>8</th>\n",
       "      <td>Disney</td>\n",
       "      <td>tm37884</td>\n",
       "      <td>Red Tails</td>\n",
       "      <td>MOVIE</td>\n",
       "      <td>The story of the Tuskegee Airmen, the first Af...</td>\n",
       "      <td>2012</td>\n",
       "      <td>PG-13</td>\n",
       "      <td>125</td>\n",
       "      <td>action, drama, history, war</td>\n",
       "      <td>['US']</td>\n",
       "      <td>...</td>\n",
       "      <td>war</td>\n",
       "      <td>NaN</td>\n",
       "      <td>NaN</td>\n",
       "      <td>NaN</td>\n",
       "      <td>NaN</td>\n",
       "      <td>NaN</td>\n",
       "      <td>NaN</td>\n",
       "      <td>1</td>\n",
       "      <td>2</td>\n",
       "      <td>2</td>\n",
       "    </tr>\n",
       "  </tbody>\n",
       "</table>\n",
       "<p>3 rows × 29 columns</p>\n",
       "</div>"
      ],
      "text/plain": [
       "  platform       id                title   type  \\\n",
       "0   Disney  tm19438   The Princess Bride  MOVIE   \n",
       "4   Disney  tm38852  Horton Hears a Who!  MOVIE   \n",
       "8   Disney  tm37884            Red Tails  MOVIE   \n",
       "\n",
       "                                         description  release_year  \\\n",
       "0  In this enchantingly cracked fairy tale, the b...          1987   \n",
       "4  One day, Horton the elephant hears a cry from ...          2008   \n",
       "8  The story of the Tuskegee Airmen, the first Af...          2012   \n",
       "\n",
       "  age_certification  runtime  \\\n",
       "0                PG       99   \n",
       "4                 G       86   \n",
       "8             PG-13      125   \n",
       "\n",
       "                                              genres production_countries  \\\n",
       "0                           fantasy, family, romance               ['US']   \n",
       "4  fantasy, family, drama, romance, comedy, music...               ['US']   \n",
       "8                        action, drama, history, war               ['US']   \n",
       "\n",
       "   ...   genre4  genre5  genre6     genre7  genre8  genre9 genre10 genre  \\\n",
       "0  ...      NaN     NaN     NaN        NaN     NaN     NaN     NaN     9   \n",
       "4  ...  romance  comedy   music  animation     NaN     NaN     NaN     9   \n",
       "8  ...      war     NaN     NaN        NaN     NaN     NaN     NaN     1   \n",
       "\n",
       "  program_type Platform  \n",
       "0            2        2  \n",
       "4            2        2  \n",
       "8            2        2  \n",
       "\n",
       "[3 rows x 29 columns]"
      ]
     },
     "execution_count": 262,
     "metadata": {},
     "output_type": "execute_result"
    }
   ],
   "source": [
    "disney_movies_df.head(3)"
   ]
  },
  {
   "cell_type": "code",
   "execution_count": 263,
   "id": "05117b9a",
   "metadata": {},
   "outputs": [],
   "source": [
    "disney_movies = disney_movies_df.drop(['title', 'type','description', 'age_certification', 'genres', \n",
    "                        'production_countries','seasons','tmdb_popularity','tmdb_score','program_type',\n",
    "                        'Platform','genre1', 'genre2', 'genre3', 'genre4', 'genre5', 'genre6', \n",
    "                        'genre7','genre8', 'genre9', 'genre10'], axis=1)"
   ]
  },
  {
   "cell_type": "code",
   "execution_count": 264,
   "id": "11900048",
   "metadata": {},
   "outputs": [
    {
     "data": {
      "text/html": [
       "<div>\n",
       "<style scoped>\n",
       "    .dataframe tbody tr th:only-of-type {\n",
       "        vertical-align: middle;\n",
       "    }\n",
       "\n",
       "    .dataframe tbody tr th {\n",
       "        vertical-align: top;\n",
       "    }\n",
       "\n",
       "    .dataframe thead th {\n",
       "        text-align: right;\n",
       "    }\n",
       "</style>\n",
       "<table border=\"1\" class=\"dataframe\">\n",
       "  <thead>\n",
       "    <tr style=\"text-align: right;\">\n",
       "      <th></th>\n",
       "      <th>platform</th>\n",
       "      <th>id</th>\n",
       "      <th>release_year</th>\n",
       "      <th>runtime</th>\n",
       "      <th>imdb_id</th>\n",
       "      <th>imdb_score</th>\n",
       "      <th>imdb_votes</th>\n",
       "      <th>genre</th>\n",
       "    </tr>\n",
       "  </thead>\n",
       "  <tbody>\n",
       "    <tr>\n",
       "      <th>0</th>\n",
       "      <td>Disney</td>\n",
       "      <td>tm19438</td>\n",
       "      <td>1987</td>\n",
       "      <td>99</td>\n",
       "      <td>tt0093779</td>\n",
       "      <td>8.0</td>\n",
       "      <td>420521.0</td>\n",
       "      <td>9</td>\n",
       "    </tr>\n",
       "    <tr>\n",
       "      <th>4</th>\n",
       "      <td>Disney</td>\n",
       "      <td>tm38852</td>\n",
       "      <td>2008</td>\n",
       "      <td>86</td>\n",
       "      <td>tt0451079</td>\n",
       "      <td>6.8</td>\n",
       "      <td>138363.0</td>\n",
       "      <td>9</td>\n",
       "    </tr>\n",
       "    <tr>\n",
       "      <th>8</th>\n",
       "      <td>Disney</td>\n",
       "      <td>tm37884</td>\n",
       "      <td>2012</td>\n",
       "      <td>125</td>\n",
       "      <td>tt0485985</td>\n",
       "      <td>5.9</td>\n",
       "      <td>35424.0</td>\n",
       "      <td>1</td>\n",
       "    </tr>\n",
       "  </tbody>\n",
       "</table>\n",
       "</div>"
      ],
      "text/plain": [
       "  platform       id  release_year  runtime    imdb_id  imdb_score  imdb_votes  \\\n",
       "0   Disney  tm19438          1987       99  tt0093779         8.0    420521.0   \n",
       "4   Disney  tm38852          2008       86  tt0451079         6.8    138363.0   \n",
       "8   Disney  tm37884          2012      125  tt0485985         5.9     35424.0   \n",
       "\n",
       "  genre  \n",
       "0     9  \n",
       "4     9  \n",
       "8     1  "
      ]
     },
     "execution_count": 264,
     "metadata": {},
     "output_type": "execute_result"
    }
   ],
   "source": [
    "disney_movies.head(3)"
   ]
  },
  {
   "cell_type": "code",
   "execution_count": 265,
   "id": "82147ee0",
   "metadata": {},
   "outputs": [
    {
     "data": {
      "text/plain": [
       "platform          0\n",
       "id                0\n",
       "release_year      0\n",
       "runtime           0\n",
       "imdb_id         361\n",
       "imdb_score      373\n",
       "imdb_votes      376\n",
       "genre            10\n",
       "dtype: int64"
      ]
     },
     "execution_count": 265,
     "metadata": {},
     "output_type": "execute_result"
    }
   ],
   "source": [
    "disney_movies.isnull().sum()"
   ]
  },
  {
   "cell_type": "code",
   "execution_count": 266,
   "id": "8d27d2e9",
   "metadata": {},
   "outputs": [
    {
     "data": {
      "text/plain": [
       "platform        740\n",
       "id              740\n",
       "release_year    740\n",
       "runtime         740\n",
       "imdb_id         740\n",
       "imdb_score      740\n",
       "imdb_votes      740\n",
       "genre           740\n",
       "dtype: int64"
      ]
     },
     "execution_count": 266,
     "metadata": {},
     "output_type": "execute_result"
    }
   ],
   "source": [
    "disney_movies.dropna(inplace=True)\n",
    "disney_movies.count()"
   ]
  },
  {
   "cell_type": "code",
   "execution_count": 267,
   "id": "e34af82b",
   "metadata": {},
   "outputs": [
    {
     "data": {
      "text/plain": [
       "6.443243243243243"
      ]
     },
     "execution_count": 267,
     "metadata": {},
     "output_type": "execute_result"
    }
   ],
   "source": [
    "#Average IMDB Score for Disney Movies\n",
    "disney_movies.loc[:, 'imdb_score'].mean()"
   ]
  },
  {
   "cell_type": "code",
   "execution_count": 268,
   "id": "5edde5d1",
   "metadata": {},
   "outputs": [
    {
     "data": {
      "text/plain": [
       "91.62567567567568"
      ]
     },
     "execution_count": 268,
     "metadata": {},
     "output_type": "execute_result"
    }
   ],
   "source": [
    "#Average runtime for Disney Movies\n",
    "disney_movies.loc[:, 'runtime'].mean()"
   ]
  },
  {
   "cell_type": "code",
   "execution_count": 269,
   "id": "6eb2d279",
   "metadata": {},
   "outputs": [],
   "source": [
    "#recoding score\n",
    "def Rating (series):\n",
    "  if series == \"imdb_score\":\n",
    "    return \"0\"\n",
    "  if series <= 6.3: \n",
    "    return \"Negative\"\n",
    "  if series >= 6.4: \n",
    "    return \"Positive\"\n",
    "disney_movies[\"Rating\"] = disney_movies['imdb_score'].apply(Rating)"
   ]
  },
  {
   "cell_type": "code",
   "execution_count": 270,
   "id": "87f08326",
   "metadata": {},
   "outputs": [
    {
     "data": {
      "text/html": [
       "<div>\n",
       "<style scoped>\n",
       "    .dataframe tbody tr th:only-of-type {\n",
       "        vertical-align: middle;\n",
       "    }\n",
       "\n",
       "    .dataframe tbody tr th {\n",
       "        vertical-align: top;\n",
       "    }\n",
       "\n",
       "    .dataframe thead th {\n",
       "        text-align: right;\n",
       "    }\n",
       "</style>\n",
       "<table border=\"1\" class=\"dataframe\">\n",
       "  <thead>\n",
       "    <tr style=\"text-align: right;\">\n",
       "      <th></th>\n",
       "      <th>platform</th>\n",
       "      <th>id</th>\n",
       "      <th>release_year</th>\n",
       "      <th>runtime</th>\n",
       "      <th>imdb_id</th>\n",
       "      <th>imdb_score</th>\n",
       "      <th>imdb_votes</th>\n",
       "      <th>genre</th>\n",
       "      <th>Rating</th>\n",
       "      <th>Rating1</th>\n",
       "    </tr>\n",
       "  </thead>\n",
       "  <tbody>\n",
       "    <tr>\n",
       "      <th>0</th>\n",
       "      <td>Disney</td>\n",
       "      <td>tm19438</td>\n",
       "      <td>1987</td>\n",
       "      <td>99</td>\n",
       "      <td>tt0093779</td>\n",
       "      <td>8.0</td>\n",
       "      <td>420521.0</td>\n",
       "      <td>9</td>\n",
       "      <td>Positive</td>\n",
       "      <td>1</td>\n",
       "    </tr>\n",
       "    <tr>\n",
       "      <th>4</th>\n",
       "      <td>Disney</td>\n",
       "      <td>tm38852</td>\n",
       "      <td>2008</td>\n",
       "      <td>86</td>\n",
       "      <td>tt0451079</td>\n",
       "      <td>6.8</td>\n",
       "      <td>138363.0</td>\n",
       "      <td>9</td>\n",
       "      <td>Positive</td>\n",
       "      <td>1</td>\n",
       "    </tr>\n",
       "    <tr>\n",
       "      <th>8</th>\n",
       "      <td>Disney</td>\n",
       "      <td>tm37884</td>\n",
       "      <td>2012</td>\n",
       "      <td>125</td>\n",
       "      <td>tt0485985</td>\n",
       "      <td>5.9</td>\n",
       "      <td>35424.0</td>\n",
       "      <td>1</td>\n",
       "      <td>Negative</td>\n",
       "      <td>2</td>\n",
       "    </tr>\n",
       "  </tbody>\n",
       "</table>\n",
       "</div>"
      ],
      "text/plain": [
       "  platform       id  release_year  runtime    imdb_id  imdb_score  imdb_votes  \\\n",
       "0   Disney  tm19438          1987       99  tt0093779         8.0    420521.0   \n",
       "4   Disney  tm38852          2008       86  tt0451079         6.8    138363.0   \n",
       "8   Disney  tm37884          2012      125  tt0485985         5.9     35424.0   \n",
       "\n",
       "  genre    Rating  Rating1  \n",
       "0     9  Positive        1  \n",
       "4     9  Positive        1  \n",
       "8     1  Negative        2  "
      ]
     },
     "execution_count": 270,
     "metadata": {},
     "output_type": "execute_result"
    }
   ],
   "source": [
    "def Rating1 (series):\n",
    "  if series == \"Rating\":\n",
    "    return \"0\"\n",
    "  if series == \"Positive\": \n",
    "    return 1\n",
    "  if series == \"Negative\":\n",
    "    return 2\n",
    "disney_movies[\"Rating1\"] = disney_movies[\"Rating\"].apply(Rating1)\n",
    "\n",
    "disney_movies.head(3)"
   ]
  },
  {
   "cell_type": "code",
   "execution_count": 271,
   "id": "d5de33c5",
   "metadata": {},
   "outputs": [
    {
     "data": {
      "text/plain": [
       "Rating\n",
       "Negative    324\n",
       "Positive    416\n",
       "Name: genre, dtype: int64"
      ]
     },
     "execution_count": 271,
     "metadata": {},
     "output_type": "execute_result"
    }
   ],
   "source": [
    "disney_movies.groupby('Rating')['genre'].count()"
   ]
  },
  {
   "cell_type": "code",
   "execution_count": 272,
   "id": "f3eba278",
   "metadata": {},
   "outputs": [
    {
     "name": "stdout",
     "output_type": "stream",
     "text": [
      "platform         object\n",
      "id               object\n",
      "release_year      int64\n",
      "runtime           int64\n",
      "imdb_id          object\n",
      "imdb_score      float64\n",
      "imdb_votes      float64\n",
      "genre            object\n",
      "Rating           object\n",
      "Rating1           int64\n",
      "dtype: object\n"
     ]
    }
   ],
   "source": [
    "print(disney_movies.dtypes)"
   ]
  },
  {
   "cell_type": "code",
   "execution_count": 273,
   "id": "4288a498",
   "metadata": {},
   "outputs": [
    {
     "name": "stdout",
     "output_type": "stream",
     "text": [
      "platform         object\n",
      "id               object\n",
      "release_year      int64\n",
      "runtime           int64\n",
      "imdb_id          object\n",
      "imdb_score      float64\n",
      "imdb_votes      float64\n",
      "genre             int32\n",
      "Rating           object\n",
      "Rating1           int64\n",
      "dtype: object\n"
     ]
    }
   ],
   "source": [
    "disney_movies['genre'] = disney_movies['genre'].astype(int)\n",
    "print(disney_movies.dtypes)"
   ]
  },
  {
   "cell_type": "code",
   "execution_count": 274,
   "id": "4ab974a0",
   "metadata": {},
   "outputs": [
    {
     "data": {
      "text/html": [
       "<style type=\"text/css\">\n",
       "#T_eabb5_row0_col0, #T_eabb5_row1_col1, #T_eabb5_row2_col2, #T_eabb5_row3_col3, #T_eabb5_row4_col4, #T_eabb5_row5_col5 {\n",
       "  background-color: #b40426;\n",
       "  color: #f1f1f1;\n",
       "}\n",
       "#T_eabb5_row0_col1 {\n",
       "  background-color: #455cce;\n",
       "  color: #f1f1f1;\n",
       "}\n",
       "#T_eabb5_row0_col2 {\n",
       "  background-color: #c5d6f2;\n",
       "  color: #000000;\n",
       "}\n",
       "#T_eabb5_row0_col3 {\n",
       "  background-color: #9ebeff;\n",
       "  color: #000000;\n",
       "}\n",
       "#T_eabb5_row0_col4, #T_eabb5_row2_col0 {\n",
       "  background-color: #465ecf;\n",
       "  color: #f1f1f1;\n",
       "}\n",
       "#T_eabb5_row0_col5 {\n",
       "  background-color: #d4dbe6;\n",
       "  color: #000000;\n",
       "}\n",
       "#T_eabb5_row1_col0, #T_eabb5_row2_col5, #T_eabb5_row5_col1, #T_eabb5_row5_col2, #T_eabb5_row5_col3, #T_eabb5_row5_col4 {\n",
       "  background-color: #3b4cc0;\n",
       "  color: #f1f1f1;\n",
       "}\n",
       "#T_eabb5_row1_col2 {\n",
       "  background-color: #e6d7cf;\n",
       "  color: #000000;\n",
       "}\n",
       "#T_eabb5_row1_col3 {\n",
       "  background-color: #efcfbf;\n",
       "  color: #000000;\n",
       "}\n",
       "#T_eabb5_row1_col4 {\n",
       "  background-color: #92b4fe;\n",
       "  color: #000000;\n",
       "}\n",
       "#T_eabb5_row1_col5 {\n",
       "  background-color: #b5cdfa;\n",
       "  color: #000000;\n",
       "}\n",
       "#T_eabb5_row2_col1 {\n",
       "  background-color: #93b5fe;\n",
       "  color: #000000;\n",
       "}\n",
       "#T_eabb5_row2_col3 {\n",
       "  background-color: #eed0c0;\n",
       "  color: #000000;\n",
       "}\n",
       "#T_eabb5_row2_col4 {\n",
       "  background-color: #5d7ce6;\n",
       "  color: #f1f1f1;\n",
       "}\n",
       "#T_eabb5_row3_col0 {\n",
       "  background-color: #688aef;\n",
       "  color: #f1f1f1;\n",
       "}\n",
       "#T_eabb5_row3_col1 {\n",
       "  background-color: #dedcdb;\n",
       "  color: #000000;\n",
       "}\n",
       "#T_eabb5_row3_col2 {\n",
       "  background-color: #f7b194;\n",
       "  color: #000000;\n",
       "}\n",
       "#T_eabb5_row3_col4 {\n",
       "  background-color: #84a7fc;\n",
       "  color: #f1f1f1;\n",
       "}\n",
       "#T_eabb5_row3_col5 {\n",
       "  background-color: #90b2fe;\n",
       "  color: #000000;\n",
       "}\n",
       "#T_eabb5_row4_col0 {\n",
       "  background-color: #506bda;\n",
       "  color: #f1f1f1;\n",
       "}\n",
       "#T_eabb5_row4_col1 {\n",
       "  background-color: #a2c1ff;\n",
       "  color: #000000;\n",
       "}\n",
       "#T_eabb5_row4_col2 {\n",
       "  background-color: #d6dce4;\n",
       "  color: #000000;\n",
       "}\n",
       "#T_eabb5_row4_col3 {\n",
       "  background-color: #bad0f8;\n",
       "  color: #000000;\n",
       "}\n",
       "#T_eabb5_row4_col5 {\n",
       "  background-color: #c3d5f4;\n",
       "  color: #000000;\n",
       "}\n",
       "#T_eabb5_row5_col0 {\n",
       "  background-color: #6282ea;\n",
       "  color: #f1f1f1;\n",
       "}\n",
       "</style>\n",
       "<table id=\"T_eabb5\">\n",
       "  <thead>\n",
       "    <tr>\n",
       "      <th class=\"blank level0\" >&nbsp;</th>\n",
       "      <th id=\"T_eabb5_level0_col0\" class=\"col_heading level0 col0\" >release_year</th>\n",
       "      <th id=\"T_eabb5_level0_col1\" class=\"col_heading level0 col1\" >runtime</th>\n",
       "      <th id=\"T_eabb5_level0_col2\" class=\"col_heading level0 col2\" >imdb_score</th>\n",
       "      <th id=\"T_eabb5_level0_col3\" class=\"col_heading level0 col3\" >imdb_votes</th>\n",
       "      <th id=\"T_eabb5_level0_col4\" class=\"col_heading level0 col4\" >genre</th>\n",
       "      <th id=\"T_eabb5_level0_col5\" class=\"col_heading level0 col5\" >Rating1</th>\n",
       "    </tr>\n",
       "  </thead>\n",
       "  <tbody>\n",
       "    <tr>\n",
       "      <th id=\"T_eabb5_level0_row0\" class=\"row_heading level0 row0\" >release_year</th>\n",
       "      <td id=\"T_eabb5_row0_col0\" class=\"data row0 col0\" >1.000000</td>\n",
       "      <td id=\"T_eabb5_row0_col1\" class=\"data row0 col1\" >-0.095508</td>\n",
       "      <td id=\"T_eabb5_row0_col2\" class=\"data row0 col2\" >-0.050120</td>\n",
       "      <td id=\"T_eabb5_row0_col3\" class=\"data row0 col3\" >0.063536</td>\n",
       "      <td id=\"T_eabb5_row0_col4\" class=\"data row0 col4\" >-0.016980</td>\n",
       "      <td id=\"T_eabb5_row0_col5\" class=\"data row0 col5\" >0.045158</td>\n",
       "    </tr>\n",
       "    <tr>\n",
       "      <th id=\"T_eabb5_level0_row1\" class=\"row_heading level0 row1\" >runtime</th>\n",
       "      <td id=\"T_eabb5_row1_col0\" class=\"data row1 col0\" >-0.095508</td>\n",
       "      <td id=\"T_eabb5_row1_col1\" class=\"data row1 col1\" >1.000000</td>\n",
       "      <td id=\"T_eabb5_row1_col2\" class=\"data row1 col2\" >0.167587</td>\n",
       "      <td id=\"T_eabb5_row1_col3\" class=\"data row1 col3\" >0.439727</td>\n",
       "      <td id=\"T_eabb5_row1_col4\" class=\"data row1 col4\" >0.217721</td>\n",
       "      <td id=\"T_eabb5_row1_col5\" class=\"data row1 col5\" >-0.137012</td>\n",
       "    </tr>\n",
       "    <tr>\n",
       "      <th id=\"T_eabb5_level0_row2\" class=\"row_heading level0 row2\" >imdb_score</th>\n",
       "      <td id=\"T_eabb5_row2_col0\" class=\"data row2 col0\" >-0.050120</td>\n",
       "      <td id=\"T_eabb5_row2_col1\" class=\"data row2 col1\" >0.167587</td>\n",
       "      <td id=\"T_eabb5_row2_col2\" class=\"data row2 col2\" >1.000000</td>\n",
       "      <td id=\"T_eabb5_row2_col3\" class=\"data row2 col3\" >0.434023</td>\n",
       "      <td id=\"T_eabb5_row2_col4\" class=\"data row2 col4\" >0.058088</td>\n",
       "      <td id=\"T_eabb5_row2_col5\" class=\"data row2 col5\" >-0.795352</td>\n",
       "    </tr>\n",
       "    <tr>\n",
       "      <th id=\"T_eabb5_level0_row3\" class=\"row_heading level0 row3\" >imdb_votes</th>\n",
       "      <td id=\"T_eabb5_row3_col0\" class=\"data row3 col0\" >0.063536</td>\n",
       "      <td id=\"T_eabb5_row3_col1\" class=\"data row3 col1\" >0.439727</td>\n",
       "      <td id=\"T_eabb5_row3_col2\" class=\"data row3 col2\" >0.434023</td>\n",
       "      <td id=\"T_eabb5_row3_col3\" class=\"data row3 col3\" >1.000000</td>\n",
       "      <td id=\"T_eabb5_row3_col4\" class=\"data row3 col4\" >0.177418</td>\n",
       "      <td id=\"T_eabb5_row3_col5\" class=\"data row3 col5\" >-0.332197</td>\n",
       "    </tr>\n",
       "    <tr>\n",
       "      <th id=\"T_eabb5_level0_row4\" class=\"row_heading level0 row4\" >genre</th>\n",
       "      <td id=\"T_eabb5_row4_col0\" class=\"data row4 col0\" >-0.016980</td>\n",
       "      <td id=\"T_eabb5_row4_col1\" class=\"data row4 col1\" >0.217721</td>\n",
       "      <td id=\"T_eabb5_row4_col2\" class=\"data row4 col2\" >0.058088</td>\n",
       "      <td id=\"T_eabb5_row4_col3\" class=\"data row4 col3\" >0.177418</td>\n",
       "      <td id=\"T_eabb5_row4_col4\" class=\"data row4 col4\" >1.000000</td>\n",
       "      <td id=\"T_eabb5_row4_col5\" class=\"data row4 col5\" >-0.060174</td>\n",
       "    </tr>\n",
       "    <tr>\n",
       "      <th id=\"T_eabb5_level0_row5\" class=\"row_heading level0 row5\" >Rating1</th>\n",
       "      <td id=\"T_eabb5_row5_col0\" class=\"data row5 col0\" >0.045158</td>\n",
       "      <td id=\"T_eabb5_row5_col1\" class=\"data row5 col1\" >-0.137012</td>\n",
       "      <td id=\"T_eabb5_row5_col2\" class=\"data row5 col2\" >-0.795352</td>\n",
       "      <td id=\"T_eabb5_row5_col3\" class=\"data row5 col3\" >-0.332197</td>\n",
       "      <td id=\"T_eabb5_row5_col4\" class=\"data row5 col4\" >-0.060174</td>\n",
       "      <td id=\"T_eabb5_row5_col5\" class=\"data row5 col5\" >1.000000</td>\n",
       "    </tr>\n",
       "  </tbody>\n",
       "</table>\n"
      ],
      "text/plain": [
       "<pandas.io.formats.style.Styler at 0x1459124b430>"
      ]
     },
     "execution_count": 274,
     "metadata": {},
     "output_type": "execute_result"
    }
   ],
   "source": [
    "corr = disney_movies.corr()\n",
    "corr.style.background_gradient(cmap='coolwarm')"
   ]
  },
  {
   "cell_type": "code",
   "execution_count": 275,
   "id": "80e669f7",
   "metadata": {},
   "outputs": [
    {
     "data": {
      "text/plain": [
       "Text(0, 0.5, 'AVG IMDB Score')"
      ]
     },
     "execution_count": 275,
     "metadata": {},
     "output_type": "execute_result"
    },
    {
     "data": {
      "image/png": "[encoded data removed]",
      "text/plain": [
       "<Figure size 432x288 with 1 Axes>"
      ]
     },
     "metadata": {
      "needs_background": "light"
     },
     "output_type": "display_data"
    }
   ],
   "source": [
    "disney_movies_1 = disney_movies[['genre', 'imdb_score']]\n",
    "disney_movies_avg = disney_movies_1.groupby('genre')['imdb_score'].mean()\n",
    "disney_movies_avg.plot(kind='bar')\n",
    "plt.title('Disney Movies')\n",
    "plt.xlabel('Genre')\n",
    "plt.ylabel('AVG IMDB Score')"
   ]
  },
  {
   "cell_type": "code",
   "execution_count": 276,
   "id": "82306fe2",
   "metadata": {},
   "outputs": [
    {
     "name": "stdout",
     "output_type": "stream",
     "text": [
      "genre\n",
      "1     6.423684\n",
      "2     6.597674\n",
      "3     5.986585\n",
      "4     6.933333\n",
      "5     6.792623\n",
      "6     6.515278\n",
      "9     6.518400\n",
      "10    6.700000\n",
      "11    6.500000\n",
      "12    6.227273\n",
      "14    6.319355\n",
      "15    6.566667\n",
      "17    6.444444\n",
      "19    6.500000\n",
      "Name: imdb_score, dtype: float64\n"
     ]
    }
   ],
   "source": [
    "print(disney_movies_avg)"
   ]
  },
  {
   "cell_type": "code",
   "execution_count": 277,
   "id": "9c3b588e",
   "metadata": {},
   "outputs": [],
   "source": [
    "from scipy import stats"
   ]
  },
  {
   "cell_type": "code",
   "execution_count": 278,
   "id": "36b13ca2",
   "metadata": {},
   "outputs": [],
   "source": [
    "#chi square analysis for the following question:  Does Genre influence the rating of the program?\n",
    "chisquare = streamingdata.drop(['title', 'description', 'age_certification', 'genres', \n",
    "                        'production_countries','seasons','tmdb_popularity','tmdb_score','genre1', 'genre2', 'genre3', 'genre4', 'genre5', 'genre6', \n",
    "                        'genre7','genre8', 'genre9', 'genre10'], axis=1)"
   ]
  },
  {
   "cell_type": "code",
   "execution_count": 279,
   "id": "1a4d3ce8",
   "metadata": {},
   "outputs": [
    {
     "data": {
      "text/html": [
       "<div>\n",
       "<style scoped>\n",
       "    .dataframe tbody tr th:only-of-type {\n",
       "        vertical-align: middle;\n",
       "    }\n",
       "\n",
       "    .dataframe tbody tr th {\n",
       "        vertical-align: top;\n",
       "    }\n",
       "\n",
       "    .dataframe thead th {\n",
       "        text-align: right;\n",
       "    }\n",
       "</style>\n",
       "<table border=\"1\" class=\"dataframe\">\n",
       "  <thead>\n",
       "    <tr style=\"text-align: right;\">\n",
       "      <th></th>\n",
       "      <th>platform</th>\n",
       "      <th>id</th>\n",
       "      <th>type</th>\n",
       "      <th>release_year</th>\n",
       "      <th>runtime</th>\n",
       "      <th>imdb_id</th>\n",
       "      <th>imdb_score</th>\n",
       "      <th>imdb_votes</th>\n",
       "      <th>genre</th>\n",
       "      <th>program_type</th>\n",
       "      <th>Platform</th>\n",
       "    </tr>\n",
       "  </thead>\n",
       "  <tbody>\n",
       "    <tr>\n",
       "      <th>0</th>\n",
       "      <td>Disney</td>\n",
       "      <td>tm19438</td>\n",
       "      <td>MOVIE</td>\n",
       "      <td>1987</td>\n",
       "      <td>99</td>\n",
       "      <td>tt0093779</td>\n",
       "      <td>8.0</td>\n",
       "      <td>420521.0</td>\n",
       "      <td>9</td>\n",
       "      <td>2</td>\n",
       "      <td>2</td>\n",
       "    </tr>\n",
       "    <tr>\n",
       "      <th>1</th>\n",
       "      <td>Disney</td>\n",
       "      <td>ts20711</td>\n",
       "      <td>SHOW</td>\n",
       "      <td>1989</td>\n",
       "      <td>27</td>\n",
       "      <td>tt0096697</td>\n",
       "      <td>8.7</td>\n",
       "      <td>394764.0</td>\n",
       "      <td>2</td>\n",
       "      <td>1</td>\n",
       "      <td>2</td>\n",
       "    </tr>\n",
       "    <tr>\n",
       "      <th>2</th>\n",
       "      <td>Disney</td>\n",
       "      <td>ts15377</td>\n",
       "      <td>SHOW</td>\n",
       "      <td>1989</td>\n",
       "      <td>49</td>\n",
       "      <td>tt0098740</td>\n",
       "      <td>6.2</td>\n",
       "      <td>5356.0</td>\n",
       "      <td>2</td>\n",
       "      <td>1</td>\n",
       "      <td>2</td>\n",
       "    </tr>\n",
       "  </tbody>\n",
       "</table>\n",
       "</div>"
      ],
      "text/plain": [
       "  platform       id   type  release_year  runtime    imdb_id  imdb_score  \\\n",
       "0   Disney  tm19438  MOVIE          1987       99  tt0093779         8.0   \n",
       "1   Disney  ts20711   SHOW          1989       27  tt0096697         8.7   \n",
       "2   Disney  ts15377   SHOW          1989       49  tt0098740         6.2   \n",
       "\n",
       "   imdb_votes genre program_type Platform  \n",
       "0    420521.0     9            2        2  \n",
       "1    394764.0     2            1        2  \n",
       "2      5356.0     2            1        2  "
      ]
     },
     "execution_count": 279,
     "metadata": {},
     "output_type": "execute_result"
    }
   ],
   "source": [
    "chisquare.head(3)"
   ]
  },
  {
   "cell_type": "code",
   "execution_count": 280,
   "id": "84ab6c06",
   "metadata": {},
   "outputs": [
    {
     "data": {
      "text/plain": [
       "6.271352090215286"
      ]
     },
     "execution_count": 280,
     "metadata": {},
     "output_type": "execute_result"
    }
   ],
   "source": [
    "chisquare.loc[:, 'imdb_score'].mean()"
   ]
  },
  {
   "cell_type": "code",
   "execution_count": 281,
   "id": "330762b4",
   "metadata": {},
   "outputs": [],
   "source": [
    "#recoding score\n",
    "def Rating (series):\n",
    "  if series == \"imdb_score\":\n",
    "    return \"0\"\n",
    "  if series <= 6.1: \n",
    "    return \"Negative\"\n",
    "  if series >= 6.2: \n",
    "    return \"Positive\"\n",
    "chisquare[\"Rating\"] = chisquare['imdb_score'].apply(Rating)"
   ]
  },
  {
   "cell_type": "code",
   "execution_count": 282,
   "id": "9482bd7e",
   "metadata": {},
   "outputs": [
    {
     "data": {
      "text/html": [
       "<div>\n",
       "<style scoped>\n",
       "    .dataframe tbody tr th:only-of-type {\n",
       "        vertical-align: middle;\n",
       "    }\n",
       "\n",
       "    .dataframe tbody tr th {\n",
       "        vertical-align: top;\n",
       "    }\n",
       "\n",
       "    .dataframe thead th {\n",
       "        text-align: right;\n",
       "    }\n",
       "</style>\n",
       "<table border=\"1\" class=\"dataframe\">\n",
       "  <thead>\n",
       "    <tr style=\"text-align: right;\">\n",
       "      <th></th>\n",
       "      <th>platform</th>\n",
       "      <th>id</th>\n",
       "      <th>type</th>\n",
       "      <th>release_year</th>\n",
       "      <th>runtime</th>\n",
       "      <th>imdb_id</th>\n",
       "      <th>imdb_score</th>\n",
       "      <th>imdb_votes</th>\n",
       "      <th>genre</th>\n",
       "      <th>program_type</th>\n",
       "      <th>Platform</th>\n",
       "      <th>Rating</th>\n",
       "      <th>Rating1</th>\n",
       "    </tr>\n",
       "  </thead>\n",
       "  <tbody>\n",
       "    <tr>\n",
       "      <th>0</th>\n",
       "      <td>Disney</td>\n",
       "      <td>tm19438</td>\n",
       "      <td>MOVIE</td>\n",
       "      <td>1987</td>\n",
       "      <td>99</td>\n",
       "      <td>tt0093779</td>\n",
       "      <td>8.0</td>\n",
       "      <td>420521.0</td>\n",
       "      <td>9</td>\n",
       "      <td>2</td>\n",
       "      <td>2</td>\n",
       "      <td>Positive</td>\n",
       "      <td>1.0</td>\n",
       "    </tr>\n",
       "    <tr>\n",
       "      <th>1</th>\n",
       "      <td>Disney</td>\n",
       "      <td>ts20711</td>\n",
       "      <td>SHOW</td>\n",
       "      <td>1989</td>\n",
       "      <td>27</td>\n",
       "      <td>tt0096697</td>\n",
       "      <td>8.7</td>\n",
       "      <td>394764.0</td>\n",
       "      <td>2</td>\n",
       "      <td>1</td>\n",
       "      <td>2</td>\n",
       "      <td>Positive</td>\n",
       "      <td>1.0</td>\n",
       "    </tr>\n",
       "    <tr>\n",
       "      <th>2</th>\n",
       "      <td>Disney</td>\n",
       "      <td>ts15377</td>\n",
       "      <td>SHOW</td>\n",
       "      <td>1989</td>\n",
       "      <td>49</td>\n",
       "      <td>tt0098740</td>\n",
       "      <td>6.2</td>\n",
       "      <td>5356.0</td>\n",
       "      <td>2</td>\n",
       "      <td>1</td>\n",
       "      <td>2</td>\n",
       "      <td>Positive</td>\n",
       "      <td>1.0</td>\n",
       "    </tr>\n",
       "  </tbody>\n",
       "</table>\n",
       "</div>"
      ],
      "text/plain": [
       "  platform       id   type  release_year  runtime    imdb_id  imdb_score  \\\n",
       "0   Disney  tm19438  MOVIE          1987       99  tt0093779         8.0   \n",
       "1   Disney  ts20711   SHOW          1989       27  tt0096697         8.7   \n",
       "2   Disney  ts15377   SHOW          1989       49  tt0098740         6.2   \n",
       "\n",
       "   imdb_votes genre program_type Platform    Rating  Rating1  \n",
       "0    420521.0     9            2        2  Positive      1.0  \n",
       "1    394764.0     2            1        2  Positive      1.0  \n",
       "2      5356.0     2            1        2  Positive      1.0  "
      ]
     },
     "execution_count": 282,
     "metadata": {},
     "output_type": "execute_result"
    }
   ],
   "source": [
    "def Rating1 (series):\n",
    "  if series == \"Rating\":\n",
    "    return \"0\"\n",
    "  if series == \"Positive\": \n",
    "    return 1\n",
    "  if series == \"Negative\":\n",
    "    return 2\n",
    "chisquare[\"Rating1\"] = chisquare[\"Rating\"].apply(Rating1)\n",
    "\n",
    "chisquare.head(3)"
   ]
  },
  {
   "cell_type": "code",
   "execution_count": 283,
   "id": "31c72350",
   "metadata": {},
   "outputs": [
    {
     "data": {
      "text/plain": [
       "platform        19654\n",
       "id              19654\n",
       "type            19654\n",
       "release_year    19654\n",
       "runtime         19654\n",
       "imdb_id         18047\n",
       "imdb_score      17558\n",
       "imdb_votes      17528\n",
       "genre           19334\n",
       "program_type    19654\n",
       "Platform        19654\n",
       "Rating          17558\n",
       "Rating1         17558\n",
       "dtype: int64"
      ]
     },
     "execution_count": 283,
     "metadata": {},
     "output_type": "execute_result"
    }
   ],
   "source": [
    "chisquare.count()"
   ]
  },
  {
   "cell_type": "code",
   "execution_count": 284,
   "id": "e742ec93",
   "metadata": {},
   "outputs": [
    {
     "data": {
      "text/plain": [
       "platform           0\n",
       "id                 0\n",
       "type               0\n",
       "release_year       0\n",
       "runtime            0\n",
       "imdb_id         1607\n",
       "imdb_score      2096\n",
       "imdb_votes      2126\n",
       "genre            320\n",
       "program_type       0\n",
       "Platform           0\n",
       "Rating          2096\n",
       "Rating1         2096\n",
       "dtype: int64"
      ]
     },
     "execution_count": 284,
     "metadata": {},
     "output_type": "execute_result"
    }
   ],
   "source": [
    "chisquare.isnull().sum()"
   ]
  },
  {
   "cell_type": "code",
   "execution_count": 285,
   "id": "ff546d1d",
   "metadata": {},
   "outputs": [
    {
     "data": {
      "text/plain": [
       "platform        17457\n",
       "id              17457\n",
       "type            17457\n",
       "release_year    17457\n",
       "runtime         17457\n",
       "imdb_id         17457\n",
       "imdb_score      17457\n",
       "imdb_votes      17457\n",
       "genre           17457\n",
       "program_type    17457\n",
       "Platform        17457\n",
       "Rating          17457\n",
       "Rating1         17457\n",
       "dtype: int64"
      ]
     },
     "execution_count": 285,
     "metadata": {},
     "output_type": "execute_result"
    }
   ],
   "source": [
    "chisquare.dropna(inplace=True)\n",
    "chisquare.count()"
   ]
  },
  {
   "cell_type": "code",
   "execution_count": 286,
   "id": "56889f87",
   "metadata": {},
   "outputs": [],
   "source": [
    "chitest = chisquare.drop(['platform', 'id', 'type','release_year', 'runtime', 'imdb_id', 'imdb_score', \n",
    "                         'imdb_votes', 'program_type', 'Platform', 'Rating'], axis=1)"
   ]
  },
  {
   "cell_type": "code",
   "execution_count": 287,
   "id": "212a4d06",
   "metadata": {},
   "outputs": [
    {
     "data": {
      "text/html": [
       "<div>\n",
       "<style scoped>\n",
       "    .dataframe tbody tr th:only-of-type {\n",
       "        vertical-align: middle;\n",
       "    }\n",
       "\n",
       "    .dataframe tbody tr th {\n",
       "        vertical-align: top;\n",
       "    }\n",
       "\n",
       "    .dataframe thead th {\n",
       "        text-align: right;\n",
       "    }\n",
       "</style>\n",
       "<table border=\"1\" class=\"dataframe\">\n",
       "  <thead>\n",
       "    <tr style=\"text-align: right;\">\n",
       "      <th></th>\n",
       "      <th>genre</th>\n",
       "      <th>Rating1</th>\n",
       "    </tr>\n",
       "  </thead>\n",
       "  <tbody>\n",
       "    <tr>\n",
       "      <th>0</th>\n",
       "      <td>9</td>\n",
       "      <td>1.0</td>\n",
       "    </tr>\n",
       "    <tr>\n",
       "      <th>1</th>\n",
       "      <td>2</td>\n",
       "      <td>1.0</td>\n",
       "    </tr>\n",
       "    <tr>\n",
       "      <th>2</th>\n",
       "      <td>2</td>\n",
       "      <td>1.0</td>\n",
       "    </tr>\n",
       "  </tbody>\n",
       "</table>\n",
       "</div>"
      ],
      "text/plain": [
       "  genre  Rating1\n",
       "0     9      1.0\n",
       "1     2      1.0\n",
       "2     2      1.0"
      ]
     },
     "execution_count": 287,
     "metadata": {},
     "output_type": "execute_result"
    }
   ],
   "source": [
    "chitest.head(3)"
   ]
  },
  {
   "cell_type": "code",
   "execution_count": 288,
   "id": "2394853d",
   "metadata": {},
   "outputs": [],
   "source": [
    "chitest_crosstab = pd.crosstab(chitest['genre'], chitest['Rating1'])"
   ]
  },
  {
   "cell_type": "code",
   "execution_count": 289,
   "id": "80476128",
   "metadata": {},
   "outputs": [
    {
     "data": {
      "text/plain": [
       "(1786.9197978462,\n",
       " 0.0,\n",
       " 18,\n",
       " array([[6.05520192e+02, 4.48479808e+02],\n",
       "        [4.30873002e+01, 3.19126998e+01],\n",
       "        [4.13063585e+02, 3.05936415e+02],\n",
       "        [8.10041244e+01, 5.99958756e+01],\n",
       "        [2.53353325e+02, 1.87646675e+02],\n",
       "        [4.53852896e+02, 3.36147104e+02],\n",
       "        [5.10153635e+02, 3.77846365e+02],\n",
       "        [1.43624334e+01, 1.06375666e+01],\n",
       "        [8.86449390e+02, 6.56550610e+02],\n",
       "        [6.08967176e+01, 4.51032824e+01],\n",
       "        [2.51629833e+02, 1.86370167e+02],\n",
       "        [4.76832789e+02, 3.53167211e+02],\n",
       "        [1.91939560e+03, 1.42160440e+03],\n",
       "        [3.33208455e+02, 2.46791545e+02],\n",
       "        [9.44473621e+02, 6.99526379e+02],\n",
       "        [2.46114659e+03, 1.82285341e+03],\n",
       "        [2.29798935e+00, 1.70201065e+00],\n",
       "        [6.95141777e+01, 5.14858223e+01],\n",
       "        [2.48757347e+02, 1.84242653e+02]]))"
      ]
     },
     "execution_count": 289,
     "metadata": {},
     "output_type": "execute_result"
    }
   ],
   "source": [
    "#Genre does infulence rating of the program.\n",
    "stats.chi2_contingency(chitest_crosstab)"
   ]
  },
  {
   "cell_type": "code",
   "execution_count": 290,
   "id": "da80c8e1",
   "metadata": {},
   "outputs": [],
   "source": [
    "#Does Number of Votes infulence the rating of the program?\n",
    "chitest2 = chisquare.drop(['platform', 'id', 'type','release_year', 'runtime', 'imdb_id', 'imdb_score', \n",
    "                          'genre','program_type', 'Platform', 'Rating'], axis=1)"
   ]
  },
  {
   "cell_type": "code",
   "execution_count": 291,
   "id": "ab791943",
   "metadata": {},
   "outputs": [
    {
     "data": {
      "text/html": [
       "<div>\n",
       "<style scoped>\n",
       "    .dataframe tbody tr th:only-of-type {\n",
       "        vertical-align: middle;\n",
       "    }\n",
       "\n",
       "    .dataframe tbody tr th {\n",
       "        vertical-align: top;\n",
       "    }\n",
       "\n",
       "    .dataframe thead th {\n",
       "        text-align: right;\n",
       "    }\n",
       "</style>\n",
       "<table border=\"1\" class=\"dataframe\">\n",
       "  <thead>\n",
       "    <tr style=\"text-align: right;\">\n",
       "      <th></th>\n",
       "      <th>imdb_votes</th>\n",
       "      <th>Rating1</th>\n",
       "    </tr>\n",
       "  </thead>\n",
       "  <tbody>\n",
       "    <tr>\n",
       "      <th>0</th>\n",
       "      <td>420521.0</td>\n",
       "      <td>1.0</td>\n",
       "    </tr>\n",
       "    <tr>\n",
       "      <th>1</th>\n",
       "      <td>394764.0</td>\n",
       "      <td>1.0</td>\n",
       "    </tr>\n",
       "    <tr>\n",
       "      <th>2</th>\n",
       "      <td>5356.0</td>\n",
       "      <td>1.0</td>\n",
       "    </tr>\n",
       "  </tbody>\n",
       "</table>\n",
       "</div>"
      ],
      "text/plain": [
       "   imdb_votes  Rating1\n",
       "0    420521.0      1.0\n",
       "1    394764.0      1.0\n",
       "2      5356.0      1.0"
      ]
     },
     "execution_count": 291,
     "metadata": {},
     "output_type": "execute_result"
    }
   ],
   "source": [
    "chitest2.head(3)"
   ]
  },
  {
   "cell_type": "code",
   "execution_count": 292,
   "id": "0bf44b80",
   "metadata": {},
   "outputs": [],
   "source": [
    "chitest_crosstab2 = pd.crosstab(chitest2['imdb_votes'], chitest['Rating1'])"
   ]
  },
  {
   "cell_type": "code",
   "execution_count": 293,
   "id": "f791780d",
   "metadata": {},
   "outputs": [
    {
     "data": {
      "text/plain": [
       "(7955.294965209201,\n",
       " 0.11650315701493524,\n",
       " 7806,\n",
       " array([[14.93693074, 11.06306926],\n",
       "        [24.12888813, 17.87111187],\n",
       "        [24.70338546, 18.29661454],\n",
       "        ...,\n",
       "        [ 0.57449734,  0.42550266],\n",
       "        [ 0.57449734,  0.42550266],\n",
       "        [ 0.57449734,  0.42550266]]))"
      ]
     },
     "execution_count": 293,
     "metadata": {},
     "output_type": "execute_result"
    }
   ],
   "source": [
    "#Number of votes does not influence the rating of the program.\n",
    "stats.chi2_contingency(chitest_crosstab2)"
   ]
  },
  {
   "cell_type": "code",
   "execution_count": 294,
   "id": "71df1d5d",
   "metadata": {},
   "outputs": [],
   "source": [
    "#Does the Platform influence the rating of the program?\n",
    "chitest3 = chisquare.drop(['platform', 'id', 'type','release_year', 'runtime', 'imdb_id', 'imdb_score', \n",
    "                          'genre','program_type','imdb_votes', 'Rating'], axis=1)"
   ]
  },
  {
   "cell_type": "code",
   "execution_count": 295,
   "id": "ea94880c",
   "metadata": {},
   "outputs": [
    {
     "data": {
      "text/html": [
       "<div>\n",
       "<style scoped>\n",
       "    .dataframe tbody tr th:only-of-type {\n",
       "        vertical-align: middle;\n",
       "    }\n",
       "\n",
       "    .dataframe tbody tr th {\n",
       "        vertical-align: top;\n",
       "    }\n",
       "\n",
       "    .dataframe thead th {\n",
       "        text-align: right;\n",
       "    }\n",
       "</style>\n",
       "<table border=\"1\" class=\"dataframe\">\n",
       "  <thead>\n",
       "    <tr style=\"text-align: right;\">\n",
       "      <th></th>\n",
       "      <th>Platform</th>\n",
       "      <th>Rating1</th>\n",
       "    </tr>\n",
       "  </thead>\n",
       "  <tbody>\n",
       "    <tr>\n",
       "      <th>0</th>\n",
       "      <td>2</td>\n",
       "      <td>1.0</td>\n",
       "    </tr>\n",
       "    <tr>\n",
       "      <th>1</th>\n",
       "      <td>2</td>\n",
       "      <td>1.0</td>\n",
       "    </tr>\n",
       "    <tr>\n",
       "      <th>2</th>\n",
       "      <td>2</td>\n",
       "      <td>1.0</td>\n",
       "    </tr>\n",
       "  </tbody>\n",
       "</table>\n",
       "</div>"
      ],
      "text/plain": [
       "  Platform  Rating1\n",
       "0        2      1.0\n",
       "1        2      1.0\n",
       "2        2      1.0"
      ]
     },
     "execution_count": 295,
     "metadata": {},
     "output_type": "execute_result"
    }
   ],
   "source": [
    "chitest3.head(3)"
   ]
  },
  {
   "cell_type": "code",
   "execution_count": 296,
   "id": "3b5b270c",
   "metadata": {},
   "outputs": [],
   "source": [
    "chitest_crosstab3 = pd.crosstab(chitest3['Platform'], chitest['Rating1'])"
   ]
  },
  {
   "cell_type": "code",
   "execution_count": 297,
   "id": "44ddbded",
   "metadata": {},
   "outputs": [
    {
     "data": {
      "text/plain": [
       "(793.981406065433,\n",
       " 8.740162092984668e-172,\n",
       " 3,\n",
       " array([[3072.4117546 , 2275.5882454 ],\n",
       "        [ 631.37257261,  467.62742739],\n",
       "        [1277.10757862,  945.89242138],\n",
       "        [5048.10809417, 3738.89190583]]))"
      ]
     },
     "execution_count": 297,
     "metadata": {},
     "output_type": "execute_result"
    }
   ],
   "source": [
    "#The Platform does influence the rating of the program\n",
    "stats.chi2_contingency(chitest_crosstab3)"
   ]
  },
  {
   "cell_type": "code",
   "execution_count": 298,
   "id": "1552ac37",
   "metadata": {},
   "outputs": [],
   "source": [
    "chitest4 = chisquare.drop(['platform', 'id', 'type','release_year', 'runtime', 'imdb_id', 'imdb_score', \n",
    "                          'genre','Platform','imdb_votes', 'Rating'], axis=1)"
   ]
  },
  {
   "cell_type": "code",
   "execution_count": 299,
   "id": "c49c1134",
   "metadata": {},
   "outputs": [
    {
     "data": {
      "text/html": [
       "<div>\n",
       "<style scoped>\n",
       "    .dataframe tbody tr th:only-of-type {\n",
       "        vertical-align: middle;\n",
       "    }\n",
       "\n",
       "    .dataframe tbody tr th {\n",
       "        vertical-align: top;\n",
       "    }\n",
       "\n",
       "    .dataframe thead th {\n",
       "        text-align: right;\n",
       "    }\n",
       "</style>\n",
       "<table border=\"1\" class=\"dataframe\">\n",
       "  <thead>\n",
       "    <tr style=\"text-align: right;\">\n",
       "      <th></th>\n",
       "      <th>program_type</th>\n",
       "      <th>Rating1</th>\n",
       "    </tr>\n",
       "  </thead>\n",
       "  <tbody>\n",
       "    <tr>\n",
       "      <th>0</th>\n",
       "      <td>2</td>\n",
       "      <td>1.0</td>\n",
       "    </tr>\n",
       "    <tr>\n",
       "      <th>1</th>\n",
       "      <td>1</td>\n",
       "      <td>1.0</td>\n",
       "    </tr>\n",
       "    <tr>\n",
       "      <th>2</th>\n",
       "      <td>1</td>\n",
       "      <td>1.0</td>\n",
       "    </tr>\n",
       "  </tbody>\n",
       "</table>\n",
       "</div>"
      ],
      "text/plain": [
       "  program_type  Rating1\n",
       "0            2      1.0\n",
       "1            1      1.0\n",
       "2            1      1.0"
      ]
     },
     "execution_count": 299,
     "metadata": {},
     "output_type": "execute_result"
    }
   ],
   "source": [
    "#Does the program type influence the rating of the program?\n",
    "chitest4.head(3)"
   ]
  },
  {
   "cell_type": "code",
   "execution_count": 300,
   "id": "2a2aadce",
   "metadata": {},
   "outputs": [],
   "source": [
    "chitest_crosstab4 = pd.crosstab(chitest4['program_type'], chitest['Rating1'])"
   ]
  },
  {
   "cell_type": "code",
   "execution_count": 301,
   "id": "98ef54aa",
   "metadata": {},
   "outputs": [
    {
     "data": {
      "text/plain": [
       "(1659.6766126338853,\n",
       " 0.0,\n",
       " 1,\n",
       " array([[2688.64753394, 1991.35246606],\n",
       "        [7340.35246606, 5436.64753394]]))"
      ]
     },
     "execution_count": 301,
     "metadata": {},
     "output_type": "execute_result"
    }
   ],
   "source": [
    "#Program type does influence the rating of the program.\n",
    "stats.chi2_contingency(chitest_crosstab4)"
   ]
  },
  {
   "cell_type": "code",
   "execution_count": 302,
   "id": "e9554dce",
   "metadata": {},
   "outputs": [],
   "source": [
    "#Does runtime influence the program rating?\n",
    "chitest5 = chisquare.drop(['platform', 'id', 'type','release_year', 'program_type', 'imdb_id', 'imdb_score', \n",
    "                          'genre','Platform','imdb_votes', 'Rating'], axis=1)"
   ]
  },
  {
   "cell_type": "code",
   "execution_count": 303,
   "id": "b789dea5",
   "metadata": {},
   "outputs": [
    {
     "data": {
      "text/html": [
       "<div>\n",
       "<style scoped>\n",
       "    .dataframe tbody tr th:only-of-type {\n",
       "        vertical-align: middle;\n",
       "    }\n",
       "\n",
       "    .dataframe tbody tr th {\n",
       "        vertical-align: top;\n",
       "    }\n",
       "\n",
       "    .dataframe thead th {\n",
       "        text-align: right;\n",
       "    }\n",
       "</style>\n",
       "<table border=\"1\" class=\"dataframe\">\n",
       "  <thead>\n",
       "    <tr style=\"text-align: right;\">\n",
       "      <th></th>\n",
       "      <th>runtime</th>\n",
       "      <th>Rating1</th>\n",
       "    </tr>\n",
       "  </thead>\n",
       "  <tbody>\n",
       "    <tr>\n",
       "      <th>0</th>\n",
       "      <td>99</td>\n",
       "      <td>1.0</td>\n",
       "    </tr>\n",
       "    <tr>\n",
       "      <th>1</th>\n",
       "      <td>27</td>\n",
       "      <td>1.0</td>\n",
       "    </tr>\n",
       "    <tr>\n",
       "      <th>2</th>\n",
       "      <td>49</td>\n",
       "      <td>1.0</td>\n",
       "    </tr>\n",
       "  </tbody>\n",
       "</table>\n",
       "</div>"
      ],
      "text/plain": [
       "   runtime  Rating1\n",
       "0       99      1.0\n",
       "1       27      1.0\n",
       "2       49      1.0"
      ]
     },
     "execution_count": 303,
     "metadata": {},
     "output_type": "execute_result"
    }
   ],
   "source": [
    "chitest5.head(3)"
   ]
  },
  {
   "cell_type": "code",
   "execution_count": 304,
   "id": "b3841bc8",
   "metadata": {},
   "outputs": [
    {
     "data": {
      "text/plain": [
       "(2217.4780120206524,\n",
       " 0.0,\n",
       " 211,\n",
       " array([[  6.89396804,   5.10603196],\n",
       "        [  4.59597869,   3.40402131],\n",
       "        [ 10.91544939,   8.08455061],\n",
       "        [ 12.06444406,   8.93555594],\n",
       "        [  9.19195738,   6.80804262],\n",
       "        [ 12.06444406,   8.93555594],\n",
       "        [ 10.34095205,   7.65904795],\n",
       "        [ 13.78793607,  10.21206393],\n",
       "        [  8.04296271,   5.95703729],\n",
       "        [  9.76645472,   7.23354528],\n",
       "        [ 14.93693074,  11.06306926],\n",
       "        [ 28.15036948,  20.84963052],\n",
       "        [ 22.40539612,  16.59460388],\n",
       "        [ 24.12888813,  17.87111187],\n",
       "        [ 18.38391476,  13.61608524],\n",
       "        [ 16.66042275,  12.33957725],\n",
       "        [  8.04296271,   5.95703729],\n",
       "        [ 14.36243341,  10.63756659],\n",
       "        [ 12.6389414 ,   9.3610586 ],\n",
       "        [ 21.25640144,  15.74359856],\n",
       "        [ 26.42687747,  19.57312253],\n",
       "        [ 81.57862176,  60.42137824],\n",
       "        [153.3907888 , 113.6092112 ],\n",
       "        [166.02973019, 122.97026981],\n",
       "        [214.28750644, 158.71249356],\n",
       "        [121.21893796,  89.78106204],\n",
       "        [ 55.15174429,  40.84825571],\n",
       "        [ 59.17322564,  43.82677436],\n",
       "        [ 45.9597869 ,  34.0402131 ],\n",
       "        [ 48.25777625,  35.74222375],\n",
       "        [ 58.5987283 ,  43.4012717 ],\n",
       "        [ 20.68190411,  15.31809589],\n",
       "        [ 24.12888813,  17.87111187],\n",
       "        [ 20.68190411,  15.31809589],\n",
       "        [ 17.23492009,  12.76507991],\n",
       "        [ 12.06444406,   8.93555594],\n",
       "        [ 15.51142808,  11.48857192],\n",
       "        [ 14.36243341,  10.63756659],\n",
       "        [ 16.66042275,  12.33957725],\n",
       "        [ 18.9584121 ,  14.0415879 ],\n",
       "        [ 31.02285616,  22.97714384],\n",
       "        [ 42.51280289,  31.48719711],\n",
       "        [ 91.34507647,  67.65492353],\n",
       "        [134.4323767 ,  99.5676233 ],\n",
       "        [167.7532222 , 124.2467778 ],\n",
       "        [128.68740333,  95.31259667],\n",
       "        [ 84.45110844,  62.54889156],\n",
       "        [ 80.42962708,  59.57037292],\n",
       "        [ 68.93968036,  51.06031964],\n",
       "        [ 59.74772298,  44.25227702],\n",
       "        [ 71.2376697 ,  52.7623303 ],\n",
       "        [ 44.81079223,  33.18920777],\n",
       "        [ 56.30073896,  41.69926104],\n",
       "        [ 48.83227359,  36.16772641],\n",
       "        [ 53.42825228,  39.57174772],\n",
       "        [ 59.17322564,  43.82677436],\n",
       "        [ 65.49269634,  48.50730366],\n",
       "        [ 60.32222031,  44.67777969],\n",
       "        [ 95.36655783,  70.63344217],\n",
       "        [ 75.25915106,  55.74084894],\n",
       "        [110.30348857,  81.69651143],\n",
       "        [ 64.34370167,  47.65629833],\n",
       "        [ 60.32222031,  44.67777969],\n",
       "        [ 53.42825228,  39.57174772],\n",
       "        [ 52.2792576 ,  38.7207424 ],\n",
       "        [ 47.68327891,  35.31672109],\n",
       "        [ 47.68327891,  35.31672109],\n",
       "        [ 40.78931088,  30.21068912],\n",
       "        [ 37.34232686,  27.65767314],\n",
       "        [ 44.81079223,  33.18920777],\n",
       "        [ 59.74772298,  44.25227702],\n",
       "        [ 51.13026293,  37.86973707],\n",
       "        [ 52.2792576 ,  38.7207424 ],\n",
       "        [ 47.68327891,  35.31672109],\n",
       "        [ 52.2792576 ,  38.7207424 ],\n",
       "        [ 74.11015638,  54.88984362],\n",
       "        [ 50.5557656 ,  37.4442344 ],\n",
       "        [ 48.83227359,  36.16772641],\n",
       "        [ 69.51417769,  51.48582231],\n",
       "        [ 55.72624162,  41.27375838],\n",
       "        [121.21893796,  89.78106204],\n",
       "        [ 78.13163774,  57.86836226],\n",
       "        [100.53703385,  74.46296615],\n",
       "        [ 99.96253652,  74.03746348],\n",
       "        [102.26052586,  75.73947414],\n",
       "        [168.90221688, 125.09778312],\n",
       "        [127.53840866,  94.46159134],\n",
       "        [135.00687403,  99.99312597],\n",
       "        [162.58274618, 120.41725382],\n",
       "        [153.96528613, 114.03471387],\n",
       "        [394.10517271, 291.89482729],\n",
       "        [139.02835539, 102.97164461],\n",
       "        [174.0726929 , 128.9273071 ],\n",
       "        [185.56263963, 137.43736037],\n",
       "        [167.7532222 , 124.2467778 ],\n",
       "        [209.11703042, 154.88296958],\n",
       "        [153.3907888 , 113.6092112 ],\n",
       "        [152.81629146, 113.18370854],\n",
       "        [141.32634473, 104.67365527],\n",
       "        [ 97.66454717,  72.33545283],\n",
       "        [194.18009967, 143.81990033],\n",
       "        [ 92.49407115,  68.50592885],\n",
       "        [113.75047259,  84.24952741],\n",
       "        [ 94.21756316,  69.78243684],\n",
       "        [120.06994329,  88.93005671],\n",
       "        [135.58137137, 100.41862863],\n",
       "        [ 87.89809246,  65.10190754],\n",
       "        [ 92.49407115,  68.50592885],\n",
       "        [ 76.40814573,  56.59185427],\n",
       "        [ 71.81216704,  53.18783296],\n",
       "        [102.8350232 ,  76.1649768 ],\n",
       "        [ 60.89671765,  45.10328235],\n",
       "        [ 64.918199  ,  48.081801  ],\n",
       "        [ 61.47121499,  45.52878501],\n",
       "        [ 43.66179756,  32.33820244],\n",
       "        [ 67.79068568,  50.20931432],\n",
       "        [ 47.10878158,  34.89121842],\n",
       "        [ 47.68327891,  35.31672109],\n",
       "        [ 62.62020966,  46.37979034],\n",
       "        [ 44.2362949 ,  32.7637051 ],\n",
       "        [ 78.70613507,  58.29386493],\n",
       "        [ 29.29936415,  21.70063585],\n",
       "        [ 34.46984018,  25.53015982],\n",
       "        [ 35.04433752,  25.95566248],\n",
       "        [ 35.04433752,  25.95566248],\n",
       "        [ 47.10878158,  34.89121842],\n",
       "        [ 31.5973535 ,  23.4026465 ],\n",
       "        [ 32.74634817,  24.25365183],\n",
       "        [ 39.64031621,  29.35968379],\n",
       "        [ 29.87386149,  22.12613851],\n",
       "        [ 43.66179756,  32.33820244],\n",
       "        [ 33.32084551,  24.67915449],\n",
       "        [ 28.15036948,  20.84963052],\n",
       "        [ 20.68190411,  15.31809589],\n",
       "        [ 31.02285616,  22.97714384],\n",
       "        [ 35.61883485,  26.38116515],\n",
       "        [ 28.15036948,  20.84963052],\n",
       "        [ 17.23492009,  12.76507991],\n",
       "        [ 24.70338546,  18.29661454],\n",
       "        [ 23.55439079,  17.44560921],\n",
       "        [ 36.19333219,  26.80666781],\n",
       "        [ 25.2778828 ,  18.7221172 ],\n",
       "        [ 19.53290943,  14.46709057],\n",
       "        [ 14.93693074,  11.06306926],\n",
       "        [ 13.21343874,   9.78656126],\n",
       "        [ 23.55439079,  17.44560921],\n",
       "        [ 17.80941743,  13.19058257],\n",
       "        [ 12.06444406,   8.93555594],\n",
       "        [ 16.66042275,  12.33957725],\n",
       "        [ 16.08592542,  11.91407458],\n",
       "        [ 33.89534284,  25.10465716],\n",
       "        [ 12.6389414 ,   9.3610586 ],\n",
       "        [  9.76645472,   7.23354528],\n",
       "        [ 12.6389414 ,   9.3610586 ],\n",
       "        [  5.17047603,   3.82952397],\n",
       "        [ 17.80941743,  13.19058257],\n",
       "        [ 16.08592542,  11.91407458],\n",
       "        [ 12.6389414 ,   9.3610586 ],\n",
       "        [  9.19195738,   6.80804262],\n",
       "        [  9.19195738,   6.80804262],\n",
       "        [ 14.36243341,  10.63756659],\n",
       "        [  8.61746004,   6.38253996],\n",
       "        [  9.19195738,   6.80804262],\n",
       "        [  6.89396804,   5.10603196],\n",
       "        [  5.74497336,   4.25502664],\n",
       "        [ 11.48994673,   8.51005327],\n",
       "        [  5.74497336,   4.25502664],\n",
       "        [  5.74497336,   4.25502664],\n",
       "        [  4.59597869,   3.40402131],\n",
       "        [  5.74497336,   4.25502664],\n",
       "        [  8.61746004,   6.38253996],\n",
       "        [  2.87248668,   2.12751332],\n",
       "        [  5.17047603,   3.82952397],\n",
       "        [  4.02148135,   2.97851865],\n",
       "        [  3.44698402,   2.55301598],\n",
       "        [  2.87248668,   2.12751332],\n",
       "        [  2.87248668,   2.12751332],\n",
       "        [  3.44698402,   2.55301598],\n",
       "        [  2.87248668,   2.12751332],\n",
       "        [  4.59597869,   3.40402131],\n",
       "        [  5.17047603,   3.82952397],\n",
       "        [  3.44698402,   2.55301598],\n",
       "        [  3.44698402,   2.55301598],\n",
       "        [  1.72349201,   1.27650799],\n",
       "        [  1.14899467,   0.85100533],\n",
       "        [  1.72349201,   1.27650799],\n",
       "        [  3.44698402,   2.55301598],\n",
       "        [  1.72349201,   1.27650799],\n",
       "        [  0.57449734,   0.42550266],\n",
       "        [  1.72349201,   1.27650799],\n",
       "        [  0.57449734,   0.42550266],\n",
       "        [  1.14899467,   0.85100533],\n",
       "        [  0.57449734,   0.42550266],\n",
       "        [  1.14899467,   0.85100533],\n",
       "        [  0.57449734,   0.42550266],\n",
       "        [  1.14899467,   0.85100533],\n",
       "        [  0.57449734,   0.42550266],\n",
       "        [  0.57449734,   0.42550266],\n",
       "        [  0.57449734,   0.42550266],\n",
       "        [  0.57449734,   0.42550266],\n",
       "        [  1.72349201,   1.27650799],\n",
       "        [  0.57449734,   0.42550266],\n",
       "        [  0.57449734,   0.42550266],\n",
       "        [  0.57449734,   0.42550266],\n",
       "        [  0.57449734,   0.42550266],\n",
       "        [  0.57449734,   0.42550266],\n",
       "        [  0.57449734,   0.42550266],\n",
       "        [  0.57449734,   0.42550266],\n",
       "        [  0.57449734,   0.42550266],\n",
       "        [  0.57449734,   0.42550266],\n",
       "        [  0.57449734,   0.42550266],\n",
       "        [  0.57449734,   0.42550266]]))"
      ]
     },
     "execution_count": 304,
     "metadata": {},
     "output_type": "execute_result"
    }
   ],
   "source": [
    "#Runtime does influence the program rating\n",
    "chitest_crosstab5 = pd.crosstab(chitest5['runtime'], chitest['Rating1'])\n",
    "stats.chi2_contingency(chitest_crosstab5)"
   ]
  },
  {
   "cell_type": "code",
   "execution_count": 305,
   "id": "6f7ca2ad",
   "metadata": {},
   "outputs": [],
   "source": [
    "#KNN\n",
    "from sklearn.preprocessing import StandardScaler\n",
    "from sklearn.model_selection import train_test_split\n",
    "from sklearn.neighbors import KNeighborsClassifier\n",
    "from sklearn.metrics import classification_report, confusion_matrix"
   ]
  },
  {
   "cell_type": "code",
   "execution_count": 306,
   "id": "904db597",
   "metadata": {},
   "outputs": [],
   "source": [
    "#Predict Rating based on genre, platform, and program type\n",
    "sdml = chisquare.drop(['platform', 'id', 'type','release_year', 'runtime', 'imdb_id', 'imdb_score', \n",
    "                         'imdb_votes', 'Rating', 'Rating1'], axis=1)"
   ]
  },
  {
   "cell_type": "code",
   "execution_count": 307,
   "id": "be1de99d",
   "metadata": {},
   "outputs": [
    {
     "data": {
      "text/html": [
       "<div>\n",
       "<style scoped>\n",
       "    .dataframe tbody tr th:only-of-type {\n",
       "        vertical-align: middle;\n",
       "    }\n",
       "\n",
       "    .dataframe tbody tr th {\n",
       "        vertical-align: top;\n",
       "    }\n",
       "\n",
       "    .dataframe thead th {\n",
       "        text-align: right;\n",
       "    }\n",
       "</style>\n",
       "<table border=\"1\" class=\"dataframe\">\n",
       "  <thead>\n",
       "    <tr style=\"text-align: right;\">\n",
       "      <th></th>\n",
       "      <th>genre</th>\n",
       "      <th>program_type</th>\n",
       "      <th>Platform</th>\n",
       "    </tr>\n",
       "  </thead>\n",
       "  <tbody>\n",
       "    <tr>\n",
       "      <th>0</th>\n",
       "      <td>9</td>\n",
       "      <td>2</td>\n",
       "      <td>2</td>\n",
       "    </tr>\n",
       "    <tr>\n",
       "      <th>1</th>\n",
       "      <td>2</td>\n",
       "      <td>1</td>\n",
       "      <td>2</td>\n",
       "    </tr>\n",
       "    <tr>\n",
       "      <th>2</th>\n",
       "      <td>2</td>\n",
       "      <td>1</td>\n",
       "      <td>2</td>\n",
       "    </tr>\n",
       "  </tbody>\n",
       "</table>\n",
       "</div>"
      ],
      "text/plain": [
       "  genre program_type Platform\n",
       "0     9            2        2\n",
       "1     2            1        2\n",
       "2     2            1        2"
      ]
     },
     "execution_count": 307,
     "metadata": {},
     "output_type": "execute_result"
    }
   ],
   "source": [
    "sdml.head(3)"
   ]
  },
  {
   "cell_type": "code",
   "execution_count": 308,
   "id": "3f4b8d6f",
   "metadata": {},
   "outputs": [
    {
     "data": {
      "text/plain": [
       "genre           17457\n",
       "program_type    17457\n",
       "Platform        17457\n",
       "dtype: int64"
      ]
     },
     "execution_count": 308,
     "metadata": {},
     "output_type": "execute_result"
    }
   ],
   "source": [
    "sdml.count()"
   ]
  },
  {
   "cell_type": "code",
   "execution_count": 309,
   "id": "44acc731",
   "metadata": {},
   "outputs": [
    {
     "data": {
      "text/plain": [
       "genre           0\n",
       "program_type    0\n",
       "Platform        0\n",
       "dtype: int64"
      ]
     },
     "execution_count": 309,
     "metadata": {},
     "output_type": "execute_result"
    }
   ],
   "source": [
    "sdml.isnull().sum()"
   ]
  },
  {
   "cell_type": "code",
   "execution_count": 310,
   "id": "9f78cc92",
   "metadata": {},
   "outputs": [],
   "source": [
    "scaler = StandardScaler()\n",
    "scaler.fit(sdml)\n",
    "scaledVariables = scaler.transform(sdml)\n",
    "sdmlscaled = pd.DataFrame(scaledVariables)"
   ]
  },
  {
   "cell_type": "code",
   "execution_count": 311,
   "id": "c96f2abe",
   "metadata": {},
   "outputs": [
    {
     "data": {
      "text/html": [
       "<div>\n",
       "<style scoped>\n",
       "    .dataframe tbody tr th:only-of-type {\n",
       "        vertical-align: middle;\n",
       "    }\n",
       "\n",
       "    .dataframe tbody tr th {\n",
       "        vertical-align: top;\n",
       "    }\n",
       "\n",
       "    .dataframe thead th {\n",
       "        text-align: right;\n",
       "    }\n",
       "</style>\n",
       "<table border=\"1\" class=\"dataframe\">\n",
       "  <thead>\n",
       "    <tr style=\"text-align: right;\">\n",
       "      <th></th>\n",
       "      <th>0</th>\n",
       "      <th>1</th>\n",
       "      <th>2</th>\n",
       "    </tr>\n",
       "  </thead>\n",
       "  <tbody>\n",
       "    <tr>\n",
       "      <th>0</th>\n",
       "      <td>0.281691</td>\n",
       "      <td>0.605213</td>\n",
       "      <td>-0.623537</td>\n",
       "    </tr>\n",
       "    <tr>\n",
       "      <th>1</th>\n",
       "      <td>-1.046641</td>\n",
       "      <td>-1.652310</td>\n",
       "      <td>-0.623537</td>\n",
       "    </tr>\n",
       "    <tr>\n",
       "      <th>2</th>\n",
       "      <td>-1.046641</td>\n",
       "      <td>-1.652310</td>\n",
       "      <td>-0.623537</td>\n",
       "    </tr>\n",
       "    <tr>\n",
       "      <th>3</th>\n",
       "      <td>-1.046641</td>\n",
       "      <td>-1.652310</td>\n",
       "      <td>-0.623537</td>\n",
       "    </tr>\n",
       "    <tr>\n",
       "      <th>4</th>\n",
       "      <td>0.281691</td>\n",
       "      <td>0.605213</td>\n",
       "      <td>-0.623537</td>\n",
       "    </tr>\n",
       "  </tbody>\n",
       "</table>\n",
       "</div>"
      ],
      "text/plain": [
       "          0         1         2\n",
       "0  0.281691  0.605213 -0.623537\n",
       "1 -1.046641 -1.652310 -0.623537\n",
       "2 -1.046641 -1.652310 -0.623537\n",
       "3 -1.046641 -1.652310 -0.623537\n",
       "4  0.281691  0.605213 -0.623537"
      ]
     },
     "execution_count": 311,
     "metadata": {},
     "output_type": "execute_result"
    }
   ],
   "source": [
    "sdmlscaled.head()"
   ]
  },
  {
   "cell_type": "code",
   "execution_count": 312,
   "id": "924a7e3d",
   "metadata": {},
   "outputs": [],
   "source": [
    "sdmlscaled.rename(columns={0: 'Genre', 1: 'Program Type', 2: 'Platform'}, inplace=True)"
   ]
  },
  {
   "cell_type": "code",
   "execution_count": 313,
   "id": "d49c6a25",
   "metadata": {},
   "outputs": [
    {
     "data": {
      "text/html": [
       "<div>\n",
       "<style scoped>\n",
       "    .dataframe tbody tr th:only-of-type {\n",
       "        vertical-align: middle;\n",
       "    }\n",
       "\n",
       "    .dataframe tbody tr th {\n",
       "        vertical-align: top;\n",
       "    }\n",
       "\n",
       "    .dataframe thead th {\n",
       "        text-align: right;\n",
       "    }\n",
       "</style>\n",
       "<table border=\"1\" class=\"dataframe\">\n",
       "  <thead>\n",
       "    <tr style=\"text-align: right;\">\n",
       "      <th></th>\n",
       "      <th>Genre</th>\n",
       "      <th>Program Type</th>\n",
       "      <th>Platform</th>\n",
       "    </tr>\n",
       "  </thead>\n",
       "  <tbody>\n",
       "    <tr>\n",
       "      <th>0</th>\n",
       "      <td>0.281691</td>\n",
       "      <td>0.605213</td>\n",
       "      <td>-0.623537</td>\n",
       "    </tr>\n",
       "    <tr>\n",
       "      <th>1</th>\n",
       "      <td>-1.046641</td>\n",
       "      <td>-1.652310</td>\n",
       "      <td>-0.623537</td>\n",
       "    </tr>\n",
       "    <tr>\n",
       "      <th>2</th>\n",
       "      <td>-1.046641</td>\n",
       "      <td>-1.652310</td>\n",
       "      <td>-0.623537</td>\n",
       "    </tr>\n",
       "  </tbody>\n",
       "</table>\n",
       "</div>"
      ],
      "text/plain": [
       "      Genre  Program Type  Platform\n",
       "0  0.281691      0.605213 -0.623537\n",
       "1 -1.046641     -1.652310 -0.623537\n",
       "2 -1.046641     -1.652310 -0.623537"
      ]
     },
     "execution_count": 313,
     "metadata": {},
     "output_type": "execute_result"
    }
   ],
   "source": [
    "sdmlscaled.head(3)"
   ]
  },
  {
   "cell_type": "code",
   "execution_count": 314,
   "id": "09e4bdee",
   "metadata": {},
   "outputs": [
    {
     "data": {
      "text/plain": [
       "Genre           0\n",
       "Program Type    0\n",
       "Platform        0\n",
       "dtype: int64"
      ]
     },
     "execution_count": 314,
     "metadata": {},
     "output_type": "execute_result"
    }
   ],
   "source": [
    "sdmlscaled.isnull().sum()"
   ]
  },
  {
   "cell_type": "code",
   "execution_count": 315,
   "id": "cdef5254",
   "metadata": {},
   "outputs": [
    {
     "name": "stdout",
     "output_type": "stream",
     "text": [
      "Genre           float64\n",
      "Program Type    float64\n",
      "Platform        float64\n",
      "dtype: object\n"
     ]
    }
   ],
   "source": [
    "print(sdmlscaled.dtypes)"
   ]
  },
  {
   "cell_type": "code",
   "execution_count": 316,
   "id": "0a4aba74",
   "metadata": {},
   "outputs": [],
   "source": [
    "x = sdmlscaled\n",
    "y = chisquare['Rating1']"
   ]
  },
  {
   "cell_type": "code",
   "execution_count": 317,
   "id": "96e38408",
   "metadata": {},
   "outputs": [],
   "source": [
    "x_train, x_test, y_train, y_test = train_test_split (x,y, test_size = 0.3, random_state = 101)"
   ]
  },
  {
   "cell_type": "code",
   "execution_count": 318,
   "id": "6b6bb6e8",
   "metadata": {},
   "outputs": [],
   "source": [
    "#anaylis and interpretation\n",
    "errorRate = []\n",
    "for i in range(1,40):\n",
    "    knn = KNeighborsClassifier(n_neighbors = i)\n",
    "    knn.fit(x_train, y_train)\n",
    "    predI = knn.predict(x_test)\n",
    "    errorRate.append(np.mean(predI != y_test))"
   ]
  },
  {
   "cell_type": "code",
   "execution_count": 319,
   "id": "61dffcd6",
   "metadata": {},
   "outputs": [
    {
     "data": {
      "text/plain": [
       "Text(0, 0.5, 'Error Rate')"
      ]
     },
     "execution_count": 319,
     "metadata": {},
     "output_type": "execute_result"
    },
    {
     "data": {
      "image/png": "[encoded data removed]",
      "text/plain": [
       "<Figure size 720x432 with 1 Axes>"
      ]
     },
     "metadata": {
      "needs_background": "light"
     },
     "output_type": "display_data"
    }
   ],
   "source": [
    "plt.figure(figsize=(10,6))\n",
    "plt.plot(range(1,40), errorRate, color='blue', linestyle='dashed', marker='o', markerfacecolor='red', markersize=10)\n",
    "plt.title('Error Rate vs K Value')\n",
    "plt.xlabel('K')\n",
    "plt.ylabel('Error Rate')"
   ]
  },
  {
   "cell_type": "code",
   "execution_count": 320,
   "id": "07d51232",
   "metadata": {},
   "outputs": [],
   "source": [
    "knn = KNeighborsClassifier(n_neighbors=29)\n",
    "knn.fit(x_train, y_train)\n",
    "pred = knn.predict(x_test)"
   ]
  },
  {
   "cell_type": "code",
   "execution_count": 321,
   "id": "0c13c66c",
   "metadata": {},
   "outputs": [
    {
     "name": "stdout",
     "output_type": "stream",
     "text": [
      "[[1811 1211]\n",
      " [ 534 1682]]\n"
     ]
    }
   ],
   "source": [
    "print(confusion_matrix(y_test, pred))"
   ]
  },
  {
   "cell_type": "code",
   "execution_count": 322,
   "id": "645201ce",
   "metadata": {},
   "outputs": [
    {
     "name": "stdout",
     "output_type": "stream",
     "text": [
      "              precision    recall  f1-score   support\n",
      "\n",
      "         1.0       0.77      0.60      0.67      3022\n",
      "         2.0       0.58      0.76      0.66      2216\n",
      "\n",
      "    accuracy                           0.67      5238\n",
      "   macro avg       0.68      0.68      0.67      5238\n",
      "weighted avg       0.69      0.67      0.67      5238\n",
      "\n"
     ]
    }
   ],
   "source": [
    "print(classification_report(y_test, pred))"
   ]
  },
  {
   "cell_type": "code",
   "execution_count": 323,
   "id": "a1166da6",
   "metadata": {},
   "outputs": [],
   "source": [
    "#Predict Rating based on genre, platform, and runtime\n",
    "sdml2 = chisquare.drop(['platform', 'id', 'type','release_year', 'program_type', 'imdb_id', 'imdb_score', \n",
    "                         'imdb_votes', 'Rating', 'Rating1'], axis=1)"
   ]
  },
  {
   "cell_type": "code",
   "execution_count": 324,
   "id": "3224e690",
   "metadata": {},
   "outputs": [
    {
     "data": {
      "text/plain": [
       "runtime     0\n",
       "genre       0\n",
       "Platform    0\n",
       "dtype: int64"
      ]
     },
     "execution_count": 324,
     "metadata": {},
     "output_type": "execute_result"
    }
   ],
   "source": [
    "sdml2.isnull().sum()"
   ]
  },
  {
   "cell_type": "code",
   "execution_count": 325,
   "id": "25fc92a3",
   "metadata": {},
   "outputs": [
    {
     "name": "stderr",
     "output_type": "stream",
     "text": [
      "C:\\Python3\\lib\\site-packages\\sklearn\\base.py:493: FutureWarning: The feature names should match those that were passed during fit. Starting version 1.2, an error will be raised.\n",
      "Feature names unseen at fit time:\n",
      "- runtime\n",
      "Feature names seen at fit time, yet now missing:\n",
      "- program_type\n",
      "\n",
      "  warnings.warn(message, FutureWarning)\n"
     ]
    }
   ],
   "source": [
    "scaler2 = StandardScaler()\n",
    "scaler2.fit(sdml2)\n",
    "scaledVariables2 = scaler.transform(sdml2)\n",
    "sdmlscaled2 = pd.DataFrame(scaledVariables2)"
   ]
  },
  {
   "cell_type": "code",
   "execution_count": 326,
   "id": "439d4c9c",
   "metadata": {},
   "outputs": [
    {
     "data": {
      "text/html": [
       "<div>\n",
       "<style scoped>\n",
       "    .dataframe tbody tr th:only-of-type {\n",
       "        vertical-align: middle;\n",
       "    }\n",
       "\n",
       "    .dataframe tbody tr th {\n",
       "        vertical-align: top;\n",
       "    }\n",
       "\n",
       "    .dataframe thead th {\n",
       "        text-align: right;\n",
       "    }\n",
       "</style>\n",
       "<table border=\"1\" class=\"dataframe\">\n",
       "  <thead>\n",
       "    <tr style=\"text-align: right;\">\n",
       "      <th></th>\n",
       "      <th>0</th>\n",
       "      <th>1</th>\n",
       "      <th>2</th>\n",
       "    </tr>\n",
       "  </thead>\n",
       "  <tbody>\n",
       "    <tr>\n",
       "      <th>0</th>\n",
       "      <td>17.360256</td>\n",
       "      <td>16.407876</td>\n",
       "      <td>-0.623537</td>\n",
       "    </tr>\n",
       "    <tr>\n",
       "      <th>1</th>\n",
       "      <td>3.697404</td>\n",
       "      <td>0.605213</td>\n",
       "      <td>-0.623537</td>\n",
       "    </tr>\n",
       "    <tr>\n",
       "      <th>2</th>\n",
       "      <td>7.872165</td>\n",
       "      <td>0.605213</td>\n",
       "      <td>-0.623537</td>\n",
       "    </tr>\n",
       "    <tr>\n",
       "      <th>3</th>\n",
       "      <td>2.558833</td>\n",
       "      <td>0.605213</td>\n",
       "      <td>-0.623537</td>\n",
       "    </tr>\n",
       "    <tr>\n",
       "      <th>4</th>\n",
       "      <td>14.893352</td>\n",
       "      <td>16.407876</td>\n",
       "      <td>-0.623537</td>\n",
       "    </tr>\n",
       "  </tbody>\n",
       "</table>\n",
       "</div>"
      ],
      "text/plain": [
       "           0          1         2\n",
       "0  17.360256  16.407876 -0.623537\n",
       "1   3.697404   0.605213 -0.623537\n",
       "2   7.872165   0.605213 -0.623537\n",
       "3   2.558833   0.605213 -0.623537\n",
       "4  14.893352  16.407876 -0.623537"
      ]
     },
     "execution_count": 326,
     "metadata": {},
     "output_type": "execute_result"
    }
   ],
   "source": [
    "sdmlscaled2.head()"
   ]
  },
  {
   "cell_type": "code",
   "execution_count": 327,
   "id": "142fe8e2",
   "metadata": {},
   "outputs": [],
   "source": [
    "sdmlscaled2.rename(columns={0: 'RunTime', 1: 'Genre', 2: 'Platform'}, inplace=True)"
   ]
  },
  {
   "cell_type": "code",
   "execution_count": 328,
   "id": "c81f3e68",
   "metadata": {},
   "outputs": [
    {
     "data": {
      "text/html": [
       "<div>\n",
       "<style scoped>\n",
       "    .dataframe tbody tr th:only-of-type {\n",
       "        vertical-align: middle;\n",
       "    }\n",
       "\n",
       "    .dataframe tbody tr th {\n",
       "        vertical-align: top;\n",
       "    }\n",
       "\n",
       "    .dataframe thead th {\n",
       "        text-align: right;\n",
       "    }\n",
       "</style>\n",
       "<table border=\"1\" class=\"dataframe\">\n",
       "  <thead>\n",
       "    <tr style=\"text-align: right;\">\n",
       "      <th></th>\n",
       "      <th>RunTime</th>\n",
       "      <th>Genre</th>\n",
       "      <th>Platform</th>\n",
       "    </tr>\n",
       "  </thead>\n",
       "  <tbody>\n",
       "    <tr>\n",
       "      <th>0</th>\n",
       "      <td>17.360256</td>\n",
       "      <td>16.407876</td>\n",
       "      <td>-0.623537</td>\n",
       "    </tr>\n",
       "    <tr>\n",
       "      <th>1</th>\n",
       "      <td>3.697404</td>\n",
       "      <td>0.605213</td>\n",
       "      <td>-0.623537</td>\n",
       "    </tr>\n",
       "    <tr>\n",
       "      <th>2</th>\n",
       "      <td>7.872165</td>\n",
       "      <td>0.605213</td>\n",
       "      <td>-0.623537</td>\n",
       "    </tr>\n",
       "  </tbody>\n",
       "</table>\n",
       "</div>"
      ],
      "text/plain": [
       "     RunTime      Genre  Platform\n",
       "0  17.360256  16.407876 -0.623537\n",
       "1   3.697404   0.605213 -0.623537\n",
       "2   7.872165   0.605213 -0.623537"
      ]
     },
     "execution_count": 328,
     "metadata": {},
     "output_type": "execute_result"
    }
   ],
   "source": [
    "sdmlscaled2.head(3)"
   ]
  },
  {
   "cell_type": "code",
   "execution_count": 329,
   "id": "51912f6d",
   "metadata": {},
   "outputs": [],
   "source": [
    "x = sdmlscaled2\n",
    "y = chisquare['Rating1']"
   ]
  },
  {
   "cell_type": "code",
   "execution_count": 330,
   "id": "f3c47075",
   "metadata": {},
   "outputs": [],
   "source": [
    "x_train, x_test, y_train, y_test = train_test_split (x,y, test_size = 0.3, random_state = 101)"
   ]
  },
  {
   "cell_type": "code",
   "execution_count": 331,
   "id": "d5b10316",
   "metadata": {},
   "outputs": [],
   "source": [
    "#anaylis and interpretation\n",
    "errorRate = []\n",
    "for i in range(1,40):\n",
    "    knn = KNeighborsClassifier(n_neighbors = i)\n",
    "    knn.fit(x_train, y_train)\n",
    "    predI = knn.predict(x_test)\n",
    "    errorRate.append(np.mean(predI != y_test))"
   ]
  },
  {
   "cell_type": "code",
   "execution_count": 332,
   "id": "74ca68cf",
   "metadata": {},
   "outputs": [
    {
     "data": {
      "text/plain": [
       "Text(0, 0.5, 'Error Rate')"
      ]
     },
     "execution_count": 332,
     "metadata": {},
     "output_type": "execute_result"
    },
    {
     "data": {
      "image/png": "[encoded data removed]",
      "text/plain": [
       "<Figure size 720x432 with 1 Axes>"
      ]
     },
     "metadata": {
      "needs_background": "light"
     },
     "output_type": "display_data"
    }
   ],
   "source": [
    "plt.figure(figsize=(10,6))\n",
    "plt.plot(range(1,40), errorRate, color='blue', linestyle='dashed', marker='o', markerfacecolor='red', markersize=10)\n",
    "plt.title('Error Rate vs K Value')\n",
    "plt.xlabel('K')\n",
    "plt.ylabel('Error Rate')"
   ]
  },
  {
   "cell_type": "code",
   "execution_count": 333,
   "id": "c44f5606",
   "metadata": {},
   "outputs": [],
   "source": [
    "knn = KNeighborsClassifier(n_neighbors=36)\n",
    "knn.fit(x_train, y_train)\n",
    "pred = knn.predict(x_test)"
   ]
  },
  {
   "cell_type": "code",
   "execution_count": 334,
   "id": "d9c942db",
   "metadata": {},
   "outputs": [
    {
     "name": "stdout",
     "output_type": "stream",
     "text": [
      "[[2378  644]\n",
      " [ 912 1304]]\n"
     ]
    }
   ],
   "source": [
    "print(confusion_matrix(y_test, pred))"
   ]
  },
  {
   "cell_type": "code",
   "execution_count": 335,
   "id": "a3613810",
   "metadata": {},
   "outputs": [
    {
     "name": "stdout",
     "output_type": "stream",
     "text": [
      "              precision    recall  f1-score   support\n",
      "\n",
      "         1.0       0.72      0.79      0.75      3022\n",
      "         2.0       0.67      0.59      0.63      2216\n",
      "\n",
      "    accuracy                           0.70      5238\n",
      "   macro avg       0.70      0.69      0.69      5238\n",
      "weighted avg       0.70      0.70      0.70      5238\n",
      "\n"
     ]
    }
   ],
   "source": [
    "print(classification_report(y_test, pred))"
   ]
  },
  {
   "cell_type": "code",
   "execution_count": null,
   "id": "b2b6d9ef",
   "metadata": {},
   "outputs": [],
   "source": []
  }
 ],
 "metadata": {
  "kernelspec": {
   "display_name": "Python 3 (ipykernel)",
   "language": "python",
   "name": "python3"
  },
  "language_info": {
   "codemirror_mode": {
    "name": "ipython",
    "version": 3
   },
   "file_extension": ".py",
   "mimetype": "text/x-python",
   "name": "python",
   "nbconvert_exporter": "python",
   "pygments_lexer": "ipython3",
   "version": "3.10.6"
  }
 },
 "nbformat": 4,
 "nbformat_minor": 5
}
