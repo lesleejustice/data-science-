{
 "cells": [
  {
   "cell_type": "code",
   "execution_count": 1,
   "id": "a03a8eec",
   "metadata": {},
   "outputs": [],
   "source": [
    "import pandas as pd\n",
    "import matplotlib.mlab as mlab\n",
    "import matplotlib.pyplot as plt\n",
    "import seaborn as sns"
   ]
  },
  {
   "cell_type": "code",
   "execution_count": 2,
   "id": "4b320e13",
   "metadata": {},
   "outputs": [],
   "source": [
    "#Importing Data\n",
    "streamingdata = pd.read_csv(\"C:/Users/ssnip/OneDrive/Data Science/Final Project/Data/All Streaming Data 1.29.23.csv\")"
   ]
  },
  {
   "cell_type": "code",
   "execution_count": 3,
   "id": "fcac8290",
   "metadata": {},
   "outputs": [
    {
     "data": {
      "text/html": [
       "<div>\n",
       "<style scoped>\n",
       "    .dataframe tbody tr th:only-of-type {\n",
       "        vertical-align: middle;\n",
       "    }\n",
       "\n",
       "    .dataframe tbody tr th {\n",
       "        vertical-align: top;\n",
       "    }\n",
       "\n",
       "    .dataframe thead th {\n",
       "        text-align: right;\n",
       "    }\n",
       "</style>\n",
       "<table border=\"1\" class=\"dataframe\">\n",
       "  <thead>\n",
       "    <tr style=\"text-align: right;\">\n",
       "      <th></th>\n",
       "      <th>platform</th>\n",
       "      <th>id</th>\n",
       "      <th>title</th>\n",
       "      <th>type</th>\n",
       "      <th>description</th>\n",
       "      <th>release_year</th>\n",
       "      <th>age_certification</th>\n",
       "      <th>runtime</th>\n",
       "      <th>genres</th>\n",
       "      <th>production_countries</th>\n",
       "      <th>...</th>\n",
       "      <th>genre1</th>\n",
       "      <th>genre2</th>\n",
       "      <th>genre3</th>\n",
       "      <th>genre4</th>\n",
       "      <th>genre5</th>\n",
       "      <th>genre6</th>\n",
       "      <th>genre7</th>\n",
       "      <th>genre8</th>\n",
       "      <th>genre9</th>\n",
       "      <th>genre10</th>\n",
       "    </tr>\n",
       "  </thead>\n",
       "  <tbody>\n",
       "    <tr>\n",
       "      <th>0</th>\n",
       "      <td>Disney</td>\n",
       "      <td>tm19438</td>\n",
       "      <td>The Princess Bride</td>\n",
       "      <td>MOVIE</td>\n",
       "      <td>In this enchantingly cracked fairy tale, the b...</td>\n",
       "      <td>1987</td>\n",
       "      <td>PG</td>\n",
       "      <td>99</td>\n",
       "      <td>fantasy, family, romance</td>\n",
       "      <td>['US']</td>\n",
       "      <td>...</td>\n",
       "      <td>fantasy</td>\n",
       "      <td>family</td>\n",
       "      <td>romance</td>\n",
       "      <td>NaN</td>\n",
       "      <td>NaN</td>\n",
       "      <td>NaN</td>\n",
       "      <td>NaN</td>\n",
       "      <td>NaN</td>\n",
       "      <td>NaN</td>\n",
       "      <td>NaN</td>\n",
       "    </tr>\n",
       "    <tr>\n",
       "      <th>1</th>\n",
       "      <td>Disney</td>\n",
       "      <td>ts20711</td>\n",
       "      <td>The Simpsons</td>\n",
       "      <td>SHOW</td>\n",
       "      <td>The satiric adventures of a working-class fami...</td>\n",
       "      <td>1989</td>\n",
       "      <td>TV-14</td>\n",
       "      <td>27</td>\n",
       "      <td>animation, comedy</td>\n",
       "      <td>['US']</td>\n",
       "      <td>...</td>\n",
       "      <td>animation</td>\n",
       "      <td>comedy</td>\n",
       "      <td>NaN</td>\n",
       "      <td>NaN</td>\n",
       "      <td>NaN</td>\n",
       "      <td>NaN</td>\n",
       "      <td>NaN</td>\n",
       "      <td>NaN</td>\n",
       "      <td>NaN</td>\n",
       "      <td>NaN</td>\n",
       "    </tr>\n",
       "    <tr>\n",
       "      <th>2</th>\n",
       "      <td>Disney</td>\n",
       "      <td>ts15377</td>\n",
       "      <td>America's Funniest Home Videos</td>\n",
       "      <td>SHOW</td>\n",
       "      <td>America's Funniest Home Videos is the longest-...</td>\n",
       "      <td>1989</td>\n",
       "      <td>TV-PG</td>\n",
       "      <td>49</td>\n",
       "      <td>animation, reality, comedy</td>\n",
       "      <td>['US']</td>\n",
       "      <td>...</td>\n",
       "      <td>animation</td>\n",
       "      <td>reality</td>\n",
       "      <td>comedy</td>\n",
       "      <td>NaN</td>\n",
       "      <td>NaN</td>\n",
       "      <td>NaN</td>\n",
       "      <td>NaN</td>\n",
       "      <td>NaN</td>\n",
       "      <td>NaN</td>\n",
       "      <td>NaN</td>\n",
       "    </tr>\n",
       "  </tbody>\n",
       "</table>\n",
       "<p>3 rows × 26 columns</p>\n",
       "</div>"
      ],
      "text/plain": [
       "  platform       id                           title   type  \\\n",
       "0   Disney  tm19438              The Princess Bride  MOVIE   \n",
       "1   Disney  ts20711                    The Simpsons   SHOW   \n",
       "2   Disney  ts15377  America's Funniest Home Videos   SHOW   \n",
       "\n",
       "                                         description  release_year  \\\n",
       "0  In this enchantingly cracked fairy tale, the b...          1987   \n",
       "1  The satiric adventures of a working-class fami...          1989   \n",
       "2  America's Funniest Home Videos is the longest-...          1989   \n",
       "\n",
       "  age_certification  runtime                      genres production_countries  \\\n",
       "0                PG       99    fantasy, family, romance               ['US']   \n",
       "1             TV-14       27           animation, comedy               ['US']   \n",
       "2             TV-PG       49  animation, reality, comedy               ['US']   \n",
       "\n",
       "   ...     genre1   genre2   genre3  genre4  genre5  genre6 genre7 genre8  \\\n",
       "0  ...    fantasy   family  romance     NaN     NaN     NaN    NaN    NaN   \n",
       "1  ...  animation   comedy      NaN     NaN     NaN     NaN    NaN    NaN   \n",
       "2  ...  animation  reality   comedy     NaN     NaN     NaN    NaN    NaN   \n",
       "\n",
       "  genre9 genre10  \n",
       "0    NaN     NaN  \n",
       "1    NaN     NaN  \n",
       "2    NaN     NaN  \n",
       "\n",
       "[3 rows x 26 columns]"
      ]
     },
     "execution_count": 3,
     "metadata": {},
     "output_type": "execute_result"
    }
   ],
   "source": [
    "streamingdata.head(3)"
   ]
  },
  {
   "cell_type": "code",
   "execution_count": 4,
   "id": "373df152",
   "metadata": {},
   "outputs": [
    {
     "data": {
      "text/plain": [
       "platform                19654\n",
       "id                      19654\n",
       "title                   19653\n",
       "type                    19654\n",
       "description             19498\n",
       "release_year            19654\n",
       "age_certification        9538\n",
       "runtime                 19654\n",
       "genres                  19654\n",
       "production_countries    19654\n",
       "seasons                  5208\n",
       "imdb_id                 18047\n",
       "imdb_score              17558\n",
       "imdb_votes              17528\n",
       "tmdb_popularity         18955\n",
       "tmdb_score              16992\n",
       "genre1                  19654\n",
       "genre2                  13794\n",
       "genre3                   8309\n",
       "genre4                   4000\n",
       "genre5                   1695\n",
       "genre6                    620\n",
       "genre7                    218\n",
       "genre8                     67\n",
       "genre9                     18\n",
       "genre10                     2\n",
       "dtype: int64"
      ]
     },
     "execution_count": 4,
     "metadata": {},
     "output_type": "execute_result"
    }
   ],
   "source": [
    "#Reviewing Count of Data\n",
    "streamingdata.count()"
   ]
  },
  {
   "cell_type": "code",
   "execution_count": 5,
   "id": "a0dcc61a",
   "metadata": {},
   "outputs": [],
   "source": [
    "#Recode genre1 to genre for categorical analysis\n",
    "def genre (series):\n",
    "  if series == \"genre1\":\n",
    "    return \"0\"\n",
    "  if series == \"action\": \n",
    "    return \"1\"\n",
    "  if series == \"animation\": \n",
    "    return \"2\"\n",
    "  if series == \"comedy\":\n",
    "    return \"3\"\n",
    "  if series == \"crime\":\n",
    "    return \"4\"\n",
    "  if series == \"documentation\":\n",
    "    return \"5\"\n",
    "  if series == \"drama\":\n",
    "    return \"6\"\n",
    "  if series == \"european\":\n",
    "    return \"7\"    \n",
    "  if series == \"family\":\n",
    "    return \"8\"\n",
    "  if series == \"fantasy\":\n",
    "    return \"9\"\n",
    "  if series == \"history\":\n",
    "    return \"10\"\n",
    "  if series == \"horror\":\n",
    "    return \"11\"\n",
    "  if series == \"music\":\n",
    "    return \"12\"\n",
    "  if series == \"reality\":\n",
    "    return \"13\"\n",
    "  if series == \"romance\":\n",
    "    return \"14\"\n",
    "  if series == \"scifi\":\n",
    "    return \"15\"\n",
    "  if series == \"sport\":\n",
    "    return \"16\"\n",
    "  if series == \"thriller\":\n",
    "    return \"17\"\n",
    "  if series == \"war\":\n",
    "    return \"18\"\n",
    "  if series == \"western\":\n",
    "    return \"19\"\n",
    "  if series == \"None\":\n",
    "    return \"20\"    \n",
    "streamingdata[\"genre\"] = streamingdata[\"genre1\"].apply(genre)"
   ]
  },
  {
   "cell_type": "code",
   "execution_count": 6,
   "id": "f00e4910",
   "metadata": {},
   "outputs": [
    {
     "data": {
      "text/plain": [
       "6     4645\n",
       "3     3655\n",
       "5     1993\n",
       "17    1662\n",
       "1     1126\n",
       "2     1092\n",
       "15     949\n",
       "14     824\n",
       "11     813\n",
       "4      611\n",
       "9      491\n",
       "13     473\n",
       "19     448\n",
       "12     183\n",
       "8      134\n",
       "18     116\n",
       "10      84\n",
       "16      29\n",
       "7        6\n",
       "Name: genre, dtype: int64"
      ]
     },
     "execution_count": 6,
     "metadata": {},
     "output_type": "execute_result"
    }
   ],
   "source": [
    "#Reviewing counts of genre\n",
    "streamingdata.genre.value_counts()"
   ]
  },
  {
   "cell_type": "code",
   "execution_count": 7,
   "id": "52a73f32",
   "metadata": {},
   "outputs": [],
   "source": [
    "#Recode type to program_type for categorical dtype for Shows and Movies\n",
    "def program_type (series):\n",
    "  if series == \"type\":\n",
    "    return \"0\"\n",
    "  if series == \"SHOW\": \n",
    "    return \"1\"\n",
    "  if series == \"MOVIE\": \n",
    "    return \"2\"\n",
    "streamingdata[\"program_type\"] = streamingdata[\"type\"].apply(program_type)"
   ]
  },
  {
   "cell_type": "code",
   "execution_count": 8,
   "id": "f7e56a4f",
   "metadata": {},
   "outputs": [],
   "source": [
    "#Recode platform to Platform for categorical dtype for Netflix, Amazon, Disney and Hulu\n",
    "def Platform (series):\n",
    "  if series == \"platform\":\n",
    "    return \"0\"\n",
    "  if series == \"Netflix\": \n",
    "    return \"1\"\n",
    "  if series == \"Disney\": \n",
    "    return \"2\"\n",
    "  if series == \"Hulu\":\n",
    "    return \"3\"\n",
    "  if series == \"Amazon\":\n",
    "    return \"4\"\n",
    "streamingdata[\"Platform\"] = streamingdata[\"platform\"].apply(Platform)"
   ]
  },
  {
   "cell_type": "code",
   "execution_count": 9,
   "id": "b163e3ac",
   "metadata": {},
   "outputs": [],
   "source": [
    "#creating decade from release year\n",
    "def decade (series):\n",
    "  if series == \"release_year\":\n",
    "    return 0\n",
    "  if series <= 1969: \n",
    "    return 1\n",
    "  if series <= 1979: \n",
    "    return 2\n",
    "  if series <= 1989:\n",
    "    return 3\n",
    "  if series <= 1999:\n",
    "    return 4\n",
    "  if series <= 2009:\n",
    "    return 5\n",
    "  if series <= 2019:\n",
    "    return 6\n",
    "  if series <= 2029:\n",
    "    return 7\n",
    "streamingdata[\"decade\"] = streamingdata[\"release_year\"].apply(decade)"
   ]
  },
  {
   "cell_type": "code",
   "execution_count": 10,
   "id": "8cd213c4",
   "metadata": {},
   "outputs": [
    {
     "name": "stdout",
     "output_type": "stream",
     "text": [
      "platform                 object\n",
      "id                       object\n",
      "title                    object\n",
      "type                     object\n",
      "description              object\n",
      "release_year              int64\n",
      "age_certification        object\n",
      "runtime                   int64\n",
      "genres                   object\n",
      "production_countries     object\n",
      "seasons                 float64\n",
      "imdb_id                  object\n",
      "imdb_score              float64\n",
      "imdb_votes              float64\n",
      "tmdb_popularity         float64\n",
      "tmdb_score              float64\n",
      "genre1                   object\n",
      "genre2                   object\n",
      "genre3                   object\n",
      "genre4                   object\n",
      "genre5                   object\n",
      "genre6                   object\n",
      "genre7                   object\n",
      "genre8                   object\n",
      "genre9                   object\n",
      "genre10                  object\n",
      "genre                    object\n",
      "program_type             object\n",
      "Platform                 object\n",
      "decade                    int64\n",
      "dtype: object\n"
     ]
    }
   ],
   "source": [
    "print(streamingdata.dtypes)"
   ]
  },
  {
   "cell_type": "code",
   "execution_count": 11,
   "id": "e0c63380",
   "metadata": {},
   "outputs": [],
   "source": [
    "sd1 = streamingdata.drop(['platform','title','type', 'description', 'age_certification', 'genres', \n",
    "                        'production_countries','seasons','genre1', 'genre2', 'genre3', 'genre4', 'genre5', 'genre6', \n",
    "                        'genre7','genre8', 'genre9', 'genre10'], axis=1)"
   ]
  },
  {
   "cell_type": "code",
   "execution_count": 12,
   "id": "2887fb46",
   "metadata": {},
   "outputs": [
    {
     "name": "stdout",
     "output_type": "stream",
     "text": [
      "id                  object\n",
      "release_year         int64\n",
      "runtime              int64\n",
      "imdb_id             object\n",
      "imdb_score         float64\n",
      "imdb_votes         float64\n",
      "tmdb_popularity    float64\n",
      "tmdb_score         float64\n",
      "genre               object\n",
      "program_type        object\n",
      "Platform            object\n",
      "decade               int64\n",
      "dtype: object\n"
     ]
    }
   ],
   "source": [
    "print(sd1.dtypes)"
   ]
  },
  {
   "cell_type": "code",
   "execution_count": 13,
   "id": "43bab9be",
   "metadata": {},
   "outputs": [],
   "source": [
    "import numpy as np"
   ]
  },
  {
   "cell_type": "code",
   "execution_count": 14,
   "id": "cd5e3d07",
   "metadata": {},
   "outputs": [
    {
     "data": {
      "text/plain": [
       "id                    0\n",
       "release_year          0\n",
       "runtime               0\n",
       "imdb_id            1607\n",
       "imdb_score         2096\n",
       "imdb_votes         2126\n",
       "tmdb_popularity     699\n",
       "tmdb_score         2662\n",
       "genre               320\n",
       "program_type          0\n",
       "Platform              0\n",
       "decade                0\n",
       "dtype: int64"
      ]
     },
     "execution_count": 14,
     "metadata": {},
     "output_type": "execute_result"
    }
   ],
   "source": [
    "sd1.isnull().sum()"
   ]
  },
  {
   "cell_type": "code",
   "execution_count": 15,
   "id": "58758a93",
   "metadata": {},
   "outputs": [],
   "source": [
    "sd1.dropna(inplace=True)"
   ]
  },
  {
   "cell_type": "code",
   "execution_count": 16,
   "id": "3f3ff235",
   "metadata": {},
   "outputs": [
    {
     "data": {
      "text/plain": [
       "id                 15588\n",
       "release_year       15588\n",
       "runtime            15588\n",
       "imdb_id            15588\n",
       "imdb_score         15588\n",
       "imdb_votes         15588\n",
       "tmdb_popularity    15588\n",
       "tmdb_score         15588\n",
       "genre              15588\n",
       "program_type       15588\n",
       "Platform           15588\n",
       "decade             15588\n",
       "dtype: int64"
      ]
     },
     "execution_count": 16,
     "metadata": {},
     "output_type": "execute_result"
    }
   ],
   "source": [
    "sd1.count()"
   ]
  },
  {
   "cell_type": "code",
   "execution_count": 17,
   "id": "5651ab4b",
   "metadata": {},
   "outputs": [
    {
     "data": {
      "text/plain": [
       "6.447296510136002"
      ]
     },
     "execution_count": 17,
     "metadata": {},
     "output_type": "execute_result"
    }
   ],
   "source": [
    "sd1.loc[:, 'tmdb_score'].mean()"
   ]
  },
  {
   "cell_type": "code",
   "execution_count": 18,
   "id": "6abdde7d",
   "metadata": {},
   "outputs": [],
   "source": [
    "#recoding score\n",
    "def Rating (series):\n",
    "  if series == \"tmdb_score\":\n",
    "    return \"0\"\n",
    "  if series <= 6.4: \n",
    "    return \"Negative\"\n",
    "  if series >= 6.5: \n",
    "    return \"Positive\"\n",
    "sd1[\"Rating\"] = sd1[\"tmdb_score\"].apply(Rating)"
   ]
  },
  {
   "cell_type": "code",
   "execution_count": 19,
   "id": "309c6974",
   "metadata": {},
   "outputs": [],
   "source": [
    "def Rating1 (series):\n",
    "  if series == \"Rating\":\n",
    "    return \"0\"\n",
    "  if series == \"Positive\": \n",
    "    return 1\n",
    "  if series == \"Negative\":\n",
    "    return 2\n",
    "sd1[\"Rating1\"] = sd1[\"Rating\"].apply(Rating1)"
   ]
  },
  {
   "cell_type": "code",
   "execution_count": 20,
   "id": "91c40452",
   "metadata": {},
   "outputs": [
    {
     "data": {
      "text/html": [
       "<div>\n",
       "<style scoped>\n",
       "    .dataframe tbody tr th:only-of-type {\n",
       "        vertical-align: middle;\n",
       "    }\n",
       "\n",
       "    .dataframe tbody tr th {\n",
       "        vertical-align: top;\n",
       "    }\n",
       "\n",
       "    .dataframe thead th {\n",
       "        text-align: right;\n",
       "    }\n",
       "</style>\n",
       "<table border=\"1\" class=\"dataframe\">\n",
       "  <thead>\n",
       "    <tr style=\"text-align: right;\">\n",
       "      <th></th>\n",
       "      <th>id</th>\n",
       "      <th>release_year</th>\n",
       "      <th>runtime</th>\n",
       "      <th>imdb_id</th>\n",
       "      <th>imdb_score</th>\n",
       "      <th>imdb_votes</th>\n",
       "      <th>tmdb_popularity</th>\n",
       "      <th>tmdb_score</th>\n",
       "      <th>genre</th>\n",
       "      <th>program_type</th>\n",
       "      <th>Platform</th>\n",
       "      <th>decade</th>\n",
       "      <th>Rating</th>\n",
       "      <th>Rating1</th>\n",
       "    </tr>\n",
       "  </thead>\n",
       "  <tbody>\n",
       "    <tr>\n",
       "      <th>0</th>\n",
       "      <td>tm19438</td>\n",
       "      <td>1987</td>\n",
       "      <td>99</td>\n",
       "      <td>tt0093779</td>\n",
       "      <td>8.0</td>\n",
       "      <td>420521.0</td>\n",
       "      <td>21.284</td>\n",
       "      <td>7.7</td>\n",
       "      <td>9</td>\n",
       "      <td>2</td>\n",
       "      <td>2</td>\n",
       "      <td>3</td>\n",
       "      <td>Positive</td>\n",
       "      <td>1.0</td>\n",
       "    </tr>\n",
       "    <tr>\n",
       "      <th>1</th>\n",
       "      <td>ts20711</td>\n",
       "      <td>1989</td>\n",
       "      <td>27</td>\n",
       "      <td>tt0096697</td>\n",
       "      <td>8.7</td>\n",
       "      <td>394764.0</td>\n",
       "      <td>516.381</td>\n",
       "      <td>7.9</td>\n",
       "      <td>2</td>\n",
       "      <td>1</td>\n",
       "      <td>2</td>\n",
       "      <td>3</td>\n",
       "      <td>Positive</td>\n",
       "      <td>1.0</td>\n",
       "    </tr>\n",
       "    <tr>\n",
       "      <th>2</th>\n",
       "      <td>ts15377</td>\n",
       "      <td>1989</td>\n",
       "      <td>49</td>\n",
       "      <td>tt0098740</td>\n",
       "      <td>6.2</td>\n",
       "      <td>5356.0</td>\n",
       "      <td>18.117</td>\n",
       "      <td>7.0</td>\n",
       "      <td>2</td>\n",
       "      <td>1</td>\n",
       "      <td>2</td>\n",
       "      <td>3</td>\n",
       "      <td>Positive</td>\n",
       "      <td>1.0</td>\n",
       "    </tr>\n",
       "    <tr>\n",
       "      <th>3</th>\n",
       "      <td>ts22130</td>\n",
       "      <td>1998</td>\n",
       "      <td>21</td>\n",
       "      <td>tt0172049</td>\n",
       "      <td>6.3</td>\n",
       "      <td>2861.0</td>\n",
       "      <td>8.697</td>\n",
       "      <td>6.8</td>\n",
       "      <td>2</td>\n",
       "      <td>1</td>\n",
       "      <td>2</td>\n",
       "      <td>4</td>\n",
       "      <td>Positive</td>\n",
       "      <td>1.0</td>\n",
       "    </tr>\n",
       "    <tr>\n",
       "      <th>4</th>\n",
       "      <td>tm38852</td>\n",
       "      <td>2008</td>\n",
       "      <td>86</td>\n",
       "      <td>tt0451079</td>\n",
       "      <td>6.8</td>\n",
       "      <td>138363.0</td>\n",
       "      <td>37.730</td>\n",
       "      <td>6.5</td>\n",
       "      <td>9</td>\n",
       "      <td>2</td>\n",
       "      <td>2</td>\n",
       "      <td>5</td>\n",
       "      <td>Positive</td>\n",
       "      <td>1.0</td>\n",
       "    </tr>\n",
       "  </tbody>\n",
       "</table>\n",
       "</div>"
      ],
      "text/plain": [
       "        id  release_year  runtime    imdb_id  imdb_score  imdb_votes  \\\n",
       "0  tm19438          1987       99  tt0093779         8.0    420521.0   \n",
       "1  ts20711          1989       27  tt0096697         8.7    394764.0   \n",
       "2  ts15377          1989       49  tt0098740         6.2      5356.0   \n",
       "3  ts22130          1998       21  tt0172049         6.3      2861.0   \n",
       "4  tm38852          2008       86  tt0451079         6.8    138363.0   \n",
       "\n",
       "   tmdb_popularity  tmdb_score genre program_type Platform  decade    Rating  \\\n",
       "0           21.284         7.7     9            2        2       3  Positive   \n",
       "1          516.381         7.9     2            1        2       3  Positive   \n",
       "2           18.117         7.0     2            1        2       3  Positive   \n",
       "3            8.697         6.8     2            1        2       4  Positive   \n",
       "4           37.730         6.5     9            2        2       5  Positive   \n",
       "\n",
       "   Rating1  \n",
       "0      1.0  \n",
       "1      1.0  \n",
       "2      1.0  \n",
       "3      1.0  \n",
       "4      1.0  "
      ]
     },
     "execution_count": 20,
     "metadata": {},
     "output_type": "execute_result"
    }
   ],
   "source": [
    "sd1.head()"
   ]
  },
  {
   "cell_type": "code",
   "execution_count": 21,
   "id": "e13b877d",
   "metadata": {},
   "outputs": [],
   "source": [
    "#changing datatypes for columns into integers\n",
    "sd1['genre'] = sd1['genre'].astype(int)"
   ]
  },
  {
   "cell_type": "code",
   "execution_count": 22,
   "id": "12cf3123",
   "metadata": {},
   "outputs": [
    {
     "data": {
      "text/plain": [
       "6     3799\n",
       "3     3048\n",
       "17    1442\n",
       "5     1369\n",
       "1      948\n",
       "15     862\n",
       "14     723\n",
       "2      722\n",
       "11     657\n",
       "4      528\n",
       "9      420\n",
       "13     363\n",
       "19     323\n",
       "12     119\n",
       "18      98\n",
       "8       85\n",
       "10      64\n",
       "16      15\n",
       "7        3\n",
       "Name: genre, dtype: int64"
      ]
     },
     "execution_count": 22,
     "metadata": {},
     "output_type": "execute_result"
    }
   ],
   "source": [
    "sd1.genre.value_counts()"
   ]
  },
  {
   "cell_type": "code",
   "execution_count": 23,
   "id": "ed5c7e4f",
   "metadata": {},
   "outputs": [
    {
     "data": {
      "text/plain": [
       "Rating1\n",
       "1.0    8234\n",
       "2.0    7345\n",
       "Name: genre, dtype: int64"
      ]
     },
     "execution_count": 23,
     "metadata": {},
     "output_type": "execute_result"
    }
   ],
   "source": [
    "sd1.groupby('Rating1')['genre'].count()"
   ]
  },
  {
   "cell_type": "code",
   "execution_count": 24,
   "id": "09818a7b",
   "metadata": {},
   "outputs": [
    {
     "name": "stdout",
     "output_type": "stream",
     "text": [
      "id                  object\n",
      "release_year         int64\n",
      "runtime              int64\n",
      "imdb_id             object\n",
      "imdb_score         float64\n",
      "imdb_votes         float64\n",
      "tmdb_popularity    float64\n",
      "tmdb_score         float64\n",
      "genre                int32\n",
      "program_type        object\n",
      "Platform            object\n",
      "decade               int64\n",
      "Rating              object\n",
      "Rating1            float64\n",
      "dtype: object\n"
     ]
    }
   ],
   "source": [
    "print(sd1.dtypes)"
   ]
  },
  {
   "cell_type": "code",
   "execution_count": 25,
   "id": "14f5db66",
   "metadata": {},
   "outputs": [],
   "source": [
    "sd1['program_type'] = sd1['program_type'].astype(int)\n",
    "sd1['Platform'] = sd1['Platform'].astype(int)"
   ]
  },
  {
   "cell_type": "code",
   "execution_count": 26,
   "id": "454cd31f",
   "metadata": {},
   "outputs": [
    {
     "name": "stdout",
     "output_type": "stream",
     "text": [
      "id                  object\n",
      "release_year         int64\n",
      "runtime              int64\n",
      "imdb_id             object\n",
      "imdb_score         float64\n",
      "imdb_votes         float64\n",
      "tmdb_popularity    float64\n",
      "tmdb_score         float64\n",
      "genre                int32\n",
      "program_type         int32\n",
      "Platform             int32\n",
      "decade               int64\n",
      "Rating              object\n",
      "Rating1            float64\n",
      "dtype: object\n"
     ]
    }
   ],
   "source": [
    "print(sd1.dtypes)"
   ]
  },
  {
   "cell_type": "code",
   "execution_count": 27,
   "id": "851d0638",
   "metadata": {},
   "outputs": [
    {
     "data": {
      "text/html": [
       "<div>\n",
       "<style scoped>\n",
       "    .dataframe tbody tr th:only-of-type {\n",
       "        vertical-align: middle;\n",
       "    }\n",
       "\n",
       "    .dataframe tbody tr th {\n",
       "        vertical-align: top;\n",
       "    }\n",
       "\n",
       "    .dataframe thead th {\n",
       "        text-align: right;\n",
       "    }\n",
       "</style>\n",
       "<table border=\"1\" class=\"dataframe\">\n",
       "  <thead>\n",
       "    <tr style=\"text-align: right;\">\n",
       "      <th></th>\n",
       "      <th>id</th>\n",
       "      <th>release_year</th>\n",
       "      <th>runtime</th>\n",
       "      <th>imdb_id</th>\n",
       "      <th>imdb_score</th>\n",
       "      <th>imdb_votes</th>\n",
       "      <th>tmdb_popularity</th>\n",
       "      <th>tmdb_score</th>\n",
       "      <th>genre</th>\n",
       "      <th>program_type</th>\n",
       "      <th>Platform</th>\n",
       "      <th>decade</th>\n",
       "      <th>Rating</th>\n",
       "      <th>Rating1</th>\n",
       "    </tr>\n",
       "  </thead>\n",
       "  <tbody>\n",
       "    <tr>\n",
       "      <th>0</th>\n",
       "      <td>tm19438</td>\n",
       "      <td>1987</td>\n",
       "      <td>99</td>\n",
       "      <td>tt0093779</td>\n",
       "      <td>8.0</td>\n",
       "      <td>420521.0</td>\n",
       "      <td>21.284</td>\n",
       "      <td>7.7</td>\n",
       "      <td>9</td>\n",
       "      <td>2</td>\n",
       "      <td>2</td>\n",
       "      <td>3</td>\n",
       "      <td>Positive</td>\n",
       "      <td>1.0</td>\n",
       "    </tr>\n",
       "    <tr>\n",
       "      <th>1</th>\n",
       "      <td>ts20711</td>\n",
       "      <td>1989</td>\n",
       "      <td>27</td>\n",
       "      <td>tt0096697</td>\n",
       "      <td>8.7</td>\n",
       "      <td>394764.0</td>\n",
       "      <td>516.381</td>\n",
       "      <td>7.9</td>\n",
       "      <td>2</td>\n",
       "      <td>1</td>\n",
       "      <td>2</td>\n",
       "      <td>3</td>\n",
       "      <td>Positive</td>\n",
       "      <td>1.0</td>\n",
       "    </tr>\n",
       "    <tr>\n",
       "      <th>2</th>\n",
       "      <td>ts15377</td>\n",
       "      <td>1989</td>\n",
       "      <td>49</td>\n",
       "      <td>tt0098740</td>\n",
       "      <td>6.2</td>\n",
       "      <td>5356.0</td>\n",
       "      <td>18.117</td>\n",
       "      <td>7.0</td>\n",
       "      <td>2</td>\n",
       "      <td>1</td>\n",
       "      <td>2</td>\n",
       "      <td>3</td>\n",
       "      <td>Positive</td>\n",
       "      <td>1.0</td>\n",
       "    </tr>\n",
       "    <tr>\n",
       "      <th>3</th>\n",
       "      <td>ts22130</td>\n",
       "      <td>1998</td>\n",
       "      <td>21</td>\n",
       "      <td>tt0172049</td>\n",
       "      <td>6.3</td>\n",
       "      <td>2861.0</td>\n",
       "      <td>8.697</td>\n",
       "      <td>6.8</td>\n",
       "      <td>2</td>\n",
       "      <td>1</td>\n",
       "      <td>2</td>\n",
       "      <td>4</td>\n",
       "      <td>Positive</td>\n",
       "      <td>1.0</td>\n",
       "    </tr>\n",
       "    <tr>\n",
       "      <th>4</th>\n",
       "      <td>tm38852</td>\n",
       "      <td>2008</td>\n",
       "      <td>86</td>\n",
       "      <td>tt0451079</td>\n",
       "      <td>6.8</td>\n",
       "      <td>138363.0</td>\n",
       "      <td>37.730</td>\n",
       "      <td>6.5</td>\n",
       "      <td>9</td>\n",
       "      <td>2</td>\n",
       "      <td>2</td>\n",
       "      <td>5</td>\n",
       "      <td>Positive</td>\n",
       "      <td>1.0</td>\n",
       "    </tr>\n",
       "  </tbody>\n",
       "</table>\n",
       "</div>"
      ],
      "text/plain": [
       "        id  release_year  runtime    imdb_id  imdb_score  imdb_votes  \\\n",
       "0  tm19438          1987       99  tt0093779         8.0    420521.0   \n",
       "1  ts20711          1989       27  tt0096697         8.7    394764.0   \n",
       "2  ts15377          1989       49  tt0098740         6.2      5356.0   \n",
       "3  ts22130          1998       21  tt0172049         6.3      2861.0   \n",
       "4  tm38852          2008       86  tt0451079         6.8    138363.0   \n",
       "\n",
       "   tmdb_popularity  tmdb_score  genre  program_type  Platform  decade  \\\n",
       "0           21.284         7.7      9             2         2       3   \n",
       "1          516.381         7.9      2             1         2       3   \n",
       "2           18.117         7.0      2             1         2       3   \n",
       "3            8.697         6.8      2             1         2       4   \n",
       "4           37.730         6.5      9             2         2       5   \n",
       "\n",
       "     Rating  Rating1  \n",
       "0  Positive      1.0  \n",
       "1  Positive      1.0  \n",
       "2  Positive      1.0  \n",
       "3  Positive      1.0  \n",
       "4  Positive      1.0  "
      ]
     },
     "execution_count": 27,
     "metadata": {},
     "output_type": "execute_result"
    }
   ],
   "source": [
    "sd1.head()\n"
   ]
  },
  {
   "cell_type": "code",
   "execution_count": 28,
   "id": "bf951b15",
   "metadata": {},
   "outputs": [
    {
     "data": {
      "text/plain": [
       "id                 15588\n",
       "release_year       15588\n",
       "runtime            15588\n",
       "imdb_id            15588\n",
       "imdb_score         15588\n",
       "imdb_votes         15588\n",
       "tmdb_popularity    15588\n",
       "tmdb_score         15588\n",
       "genre              15588\n",
       "program_type       15588\n",
       "Platform           15588\n",
       "decade             15588\n",
       "Rating             15579\n",
       "Rating1            15579\n",
       "dtype: int64"
      ]
     },
     "execution_count": 28,
     "metadata": {},
     "output_type": "execute_result"
    }
   ],
   "source": [
    "sd1.count()"
   ]
  },
  {
   "cell_type": "code",
   "execution_count": 29,
   "id": "1dcd1af8",
   "metadata": {},
   "outputs": [
    {
     "data": {
      "text/plain": [
       "id                 0\n",
       "release_year       0\n",
       "runtime            0\n",
       "imdb_id            0\n",
       "imdb_score         0\n",
       "imdb_votes         0\n",
       "tmdb_popularity    0\n",
       "tmdb_score         0\n",
       "genre              0\n",
       "program_type       0\n",
       "Platform           0\n",
       "decade             0\n",
       "Rating             9\n",
       "Rating1            9\n",
       "dtype: int64"
      ]
     },
     "execution_count": 29,
     "metadata": {},
     "output_type": "execute_result"
    }
   ],
   "source": [
    "sd1.isnull().sum()"
   ]
  },
  {
   "cell_type": "code",
   "execution_count": 30,
   "id": "379eaf03",
   "metadata": {},
   "outputs": [],
   "source": [
    "sd1.dropna(inplace=True)"
   ]
  },
  {
   "cell_type": "code",
   "execution_count": 31,
   "id": "794652d9",
   "metadata": {},
   "outputs": [
    {
     "data": {
      "text/plain": [
       "id                 0\n",
       "release_year       0\n",
       "runtime            0\n",
       "imdb_id            0\n",
       "imdb_score         0\n",
       "imdb_votes         0\n",
       "tmdb_popularity    0\n",
       "tmdb_score         0\n",
       "genre              0\n",
       "program_type       0\n",
       "Platform           0\n",
       "decade             0\n",
       "Rating             0\n",
       "Rating1            0\n",
       "dtype: int64"
      ]
     },
     "execution_count": 31,
     "metadata": {},
     "output_type": "execute_result"
    }
   ],
   "source": [
    "sd1.isnull().sum()"
   ]
  },
  {
   "cell_type": "code",
   "execution_count": 32,
   "id": "a07b9d9e",
   "metadata": {},
   "outputs": [
    {
     "data": {
      "text/html": [
       "<style type=\"text/css\">\n",
       "#T_5887d_row0_col0, #T_5887d_row1_col1, #T_5887d_row2_col2, #T_5887d_row3_col3, #T_5887d_row4_col4, #T_5887d_row5_col5, #T_5887d_row6_col6, #T_5887d_row7_col7, #T_5887d_row8_col8, #T_5887d_row9_col9, #T_5887d_row10_col10 {\n",
       "  background-color: #b40426;\n",
       "  color: #f1f1f1;\n",
       "}\n",
       "#T_5887d_row0_col1 {\n",
       "  background-color: #7396f5;\n",
       "  color: #f1f1f1;\n",
       "}\n",
       "#T_5887d_row0_col2, #T_5887d_row4_col2, #T_5887d_row5_col0, #T_5887d_row5_col9 {\n",
       "  background-color: #c1d4f4;\n",
       "  color: #000000;\n",
       "}\n",
       "#T_5887d_row0_col3, #T_5887d_row4_col6 {\n",
       "  background-color: #6384eb;\n",
       "  color: #f1f1f1;\n",
       "}\n",
       "#T_5887d_row0_col4 {\n",
       "  background-color: #6282ea;\n",
       "  color: #f1f1f1;\n",
       "}\n",
       "#T_5887d_row0_col5, #T_5887d_row9_col5 {\n",
       "  background-color: #e8d6cc;\n",
       "  color: #000000;\n",
       "}\n",
       "#T_5887d_row0_col6 {\n",
       "  background-color: #3e51c5;\n",
       "  color: #f1f1f1;\n",
       "}\n",
       "#T_5887d_row0_col7, #T_5887d_row3_col6, #T_5887d_row5_col4, #T_5887d_row6_col3, #T_5887d_row6_col9, #T_5887d_row9_col7 {\n",
       "  background-color: #6e90f2;\n",
       "  color: #f1f1f1;\n",
       "}\n",
       "#T_5887d_row0_col8, #T_5887d_row8_col4 {\n",
       "  background-color: #3c4ec2;\n",
       "  color: #f1f1f1;\n",
       "}\n",
       "#T_5887d_row0_col9, #T_5887d_row9_col0 {\n",
       "  background-color: #be242e;\n",
       "  color: #f1f1f1;\n",
       "}\n",
       "#T_5887d_row0_col10, #T_5887d_row3_col7 {\n",
       "  background-color: #a6c4fe;\n",
       "  color: #000000;\n",
       "}\n",
       "#T_5887d_row1_col0, #T_5887d_row7_col6 {\n",
       "  background-color: #85a8fc;\n",
       "  color: #f1f1f1;\n",
       "}\n",
       "#T_5887d_row1_col2, #T_5887d_row1_col6, #T_5887d_row3_col9 {\n",
       "  background-color: #8badfd;\n",
       "  color: #000000;\n",
       "}\n",
       "#T_5887d_row1_col3, #T_5887d_row3_col0, #T_5887d_row4_col7 {\n",
       "  background-color: #8db0fe;\n",
       "  color: #000000;\n",
       "}\n",
       "#T_5887d_row1_col4 {\n",
       "  background-color: #4961d2;\n",
       "  color: #f1f1f1;\n",
       "}\n",
       "#T_5887d_row1_col5 {\n",
       "  background-color: #98b9ff;\n",
       "  color: #000000;\n",
       "}\n",
       "#T_5887d_row1_col7 {\n",
       "  background-color: #e8765c;\n",
       "  color: #f1f1f1;\n",
       "}\n",
       "#T_5887d_row1_col8, #T_5887d_row3_col10 {\n",
       "  background-color: #aec9fc;\n",
       "  color: #000000;\n",
       "}\n",
       "#T_5887d_row1_col9 {\n",
       "  background-color: #80a3fa;\n",
       "  color: #f1f1f1;\n",
       "}\n",
       "#T_5887d_row1_col10 {\n",
       "  background-color: #ebd3c6;\n",
       "  color: #000000;\n",
       "}\n",
       "#T_5887d_row2_col0, #T_5887d_row8_col1 {\n",
       "  background-color: #9fbfff;\n",
       "  color: #000000;\n",
       "}\n",
       "#T_5887d_row2_col1 {\n",
       "  background-color: #4c66d6;\n",
       "  color: #f1f1f1;\n",
       "}\n",
       "#T_5887d_row2_col3 {\n",
       "  background-color: #a3c2fe;\n",
       "  color: #000000;\n",
       "}\n",
       "#T_5887d_row2_col4, #T_5887d_row9_col4 {\n",
       "  background-color: #6687ed;\n",
       "  color: #f1f1f1;\n",
       "}\n",
       "#T_5887d_row2_col5 {\n",
       "  background-color: #f18d6f;\n",
       "  color: #f1f1f1;\n",
       "}\n",
       "#T_5887d_row2_col6, #T_5887d_row5_col1, #T_5887d_row5_col7, #T_5887d_row5_col10, #T_5887d_row8_col0, #T_5887d_row8_col9, #T_5887d_row9_col8, #T_5887d_row10_col2, #T_5887d_row10_col3, #T_5887d_row10_col4, #T_5887d_row10_col5 {\n",
       "  background-color: #3b4cc0;\n",
       "  color: #f1f1f1;\n",
       "}\n",
       "#T_5887d_row2_col7 {\n",
       "  background-color: #455cce;\n",
       "  color: #f1f1f1;\n",
       "}\n",
       "#T_5887d_row2_col8, #T_5887d_row2_col10, #T_5887d_row10_col0 {\n",
       "  background-color: #5d7ce6;\n",
       "  color: #f1f1f1;\n",
       "}\n",
       "#T_5887d_row2_col9 {\n",
       "  background-color: #9ebeff;\n",
       "  color: #000000;\n",
       "}\n",
       "#T_5887d_row3_col1 {\n",
       "  background-color: #a5c3fe;\n",
       "  color: #000000;\n",
       "}\n",
       "#T_5887d_row3_col2 {\n",
       "  background-color: #dcdddd;\n",
       "  color: #000000;\n",
       "}\n",
       "#T_5887d_row3_col4 {\n",
       "  background-color: #8caffe;\n",
       "  color: #000000;\n",
       "}\n",
       "#T_5887d_row3_col5 {\n",
       "  background-color: #e0dbd8;\n",
       "  color: #000000;\n",
       "}\n",
       "#T_5887d_row3_col8 {\n",
       "  background-color: #779af7;\n",
       "  color: #f1f1f1;\n",
       "}\n",
       "#T_5887d_row4_col0, #T_5887d_row4_col3 {\n",
       "  background-color: #9dbdff;\n",
       "  color: #000000;\n",
       "}\n",
       "#T_5887d_row4_col1, #T_5887d_row7_col5 {\n",
       "  background-color: #7699f6;\n",
       "  color: #f1f1f1;\n",
       "}\n",
       "#T_5887d_row4_col5 {\n",
       "  background-color: #d9dce1;\n",
       "  color: #000000;\n",
       "}\n",
       "#T_5887d_row4_col8 {\n",
       "  background-color: #7b9ff9;\n",
       "  color: #f1f1f1;\n",
       "}\n",
       "#T_5887d_row4_col9, #T_5887d_row6_col1 {\n",
       "  background-color: #a1c0ff;\n",
       "  color: #000000;\n",
       "}\n",
       "#T_5887d_row4_col10 {\n",
       "  background-color: #bbd1f8;\n",
       "  color: #000000;\n",
       "}\n",
       "#T_5887d_row5_col2 {\n",
       "  background-color: #f4987a;\n",
       "  color: #000000;\n",
       "}\n",
       "#T_5887d_row5_col3, #T_5887d_row10_col6 {\n",
       "  background-color: #8fb1fe;\n",
       "  color: #000000;\n",
       "}\n",
       "#T_5887d_row5_col6, #T_5887d_row7_col4 {\n",
       "  background-color: #3d50c3;\n",
       "  color: #f1f1f1;\n",
       "}\n",
       "#T_5887d_row5_col8, #T_5887d_row8_col3 {\n",
       "  background-color: #4a63d3;\n",
       "  color: #f1f1f1;\n",
       "}\n",
       "#T_5887d_row6_col0 {\n",
       "  background-color: #6a8bef;\n",
       "  color: #f1f1f1;\n",
       "}\n",
       "#T_5887d_row6_col2 {\n",
       "  background-color: #92b4fe;\n",
       "  color: #000000;\n",
       "}\n",
       "#T_5887d_row6_col4 {\n",
       "  background-color: #506bda;\n",
       "  color: #f1f1f1;\n",
       "}\n",
       "#T_5887d_row6_col5 {\n",
       "  background-color: #b1cbfc;\n",
       "  color: #000000;\n",
       "}\n",
       "#T_5887d_row6_col7, #T_5887d_row6_col8 {\n",
       "  background-color: #b9d0f9;\n",
       "  color: #000000;\n",
       "}\n",
       "#T_5887d_row6_col10 {\n",
       "  background-color: #dfdbd9;\n",
       "  color: #000000;\n",
       "}\n",
       "#T_5887d_row7_col0 {\n",
       "  background-color: #5a78e4;\n",
       "  color: #f1f1f1;\n",
       "}\n",
       "#T_5887d_row7_col1 {\n",
       "  background-color: #ec8165;\n",
       "  color: #f1f1f1;\n",
       "}\n",
       "#T_5887d_row7_col2 {\n",
       "  background-color: #5f7fe8;\n",
       "  color: #f1f1f1;\n",
       "}\n",
       "#T_5887d_row7_col3, #T_5887d_row9_col1 {\n",
       "  background-color: #6c8ff1;\n",
       "  color: #f1f1f1;\n",
       "}\n",
       "#T_5887d_row7_col8 {\n",
       "  background-color: #c7d7f0;\n",
       "  color: #000000;\n",
       "}\n",
       "#T_5887d_row7_col9 {\n",
       "  background-color: #5b7ae5;\n",
       "  color: #f1f1f1;\n",
       "}\n",
       "#T_5887d_row7_col10 {\n",
       "  background-color: #f7ba9f;\n",
       "  color: #000000;\n",
       "}\n",
       "#T_5887d_row8_col2 {\n",
       "  background-color: #88abfd;\n",
       "  color: #000000;\n",
       "}\n",
       "#T_5887d_row8_col5 {\n",
       "  background-color: #97b8ff;\n",
       "  color: #000000;\n",
       "}\n",
       "#T_5887d_row8_col6 {\n",
       "  background-color: #94b6ff;\n",
       "  color: #000000;\n",
       "}\n",
       "#T_5887d_row8_col7 {\n",
       "  background-color: #d2dbe8;\n",
       "  color: #000000;\n",
       "}\n",
       "#T_5887d_row8_col10 {\n",
       "  background-color: #eed0c0;\n",
       "  color: #000000;\n",
       "}\n",
       "#T_5887d_row9_col2 {\n",
       "  background-color: #bfd3f6;\n",
       "  color: #000000;\n",
       "}\n",
       "#T_5887d_row9_col3, #T_5887d_row10_col9 {\n",
       "  background-color: #5e7de7;\n",
       "  color: #f1f1f1;\n",
       "}\n",
       "#T_5887d_row9_col6 {\n",
       "  background-color: #4055c8;\n",
       "  color: #f1f1f1;\n",
       "}\n",
       "#T_5887d_row9_col10 {\n",
       "  background-color: #a7c5fe;\n",
       "  color: #000000;\n",
       "}\n",
       "#T_5887d_row10_col1 {\n",
       "  background-color: #bcd2f7;\n",
       "  color: #000000;\n",
       "}\n",
       "#T_5887d_row10_col7 {\n",
       "  background-color: #efcfbf;\n",
       "  color: #000000;\n",
       "}\n",
       "#T_5887d_row10_col8 {\n",
       "  background-color: #cedaeb;\n",
       "  color: #000000;\n",
       "}\n",
       "</style>\n",
       "<table id=\"T_5887d\">\n",
       "  <thead>\n",
       "    <tr>\n",
       "      <th class=\"blank level0\" >&nbsp;</th>\n",
       "      <th id=\"T_5887d_level0_col0\" class=\"col_heading level0 col0\" >release_year</th>\n",
       "      <th id=\"T_5887d_level0_col1\" class=\"col_heading level0 col1\" >runtime</th>\n",
       "      <th id=\"T_5887d_level0_col2\" class=\"col_heading level0 col2\" >imdb_score</th>\n",
       "      <th id=\"T_5887d_level0_col3\" class=\"col_heading level0 col3\" >imdb_votes</th>\n",
       "      <th id=\"T_5887d_level0_col4\" class=\"col_heading level0 col4\" >tmdb_popularity</th>\n",
       "      <th id=\"T_5887d_level0_col5\" class=\"col_heading level0 col5\" >tmdb_score</th>\n",
       "      <th id=\"T_5887d_level0_col6\" class=\"col_heading level0 col6\" >genre</th>\n",
       "      <th id=\"T_5887d_level0_col7\" class=\"col_heading level0 col7\" >program_type</th>\n",
       "      <th id=\"T_5887d_level0_col8\" class=\"col_heading level0 col8\" >Platform</th>\n",
       "      <th id=\"T_5887d_level0_col9\" class=\"col_heading level0 col9\" >decade</th>\n",
       "      <th id=\"T_5887d_level0_col10\" class=\"col_heading level0 col10\" >Rating1</th>\n",
       "    </tr>\n",
       "  </thead>\n",
       "  <tbody>\n",
       "    <tr>\n",
       "      <th id=\"T_5887d_level0_row0\" class=\"row_heading level0 row0\" >release_year</th>\n",
       "      <td id=\"T_5887d_row0_col0\" class=\"data row0 col0\" >1.000000</td>\n",
       "      <td id=\"T_5887d_row0_col1\" class=\"data row0 col1\" >-0.035636</td>\n",
       "      <td id=\"T_5887d_row0_col2\" class=\"data row0 col2\" >0.067963</td>\n",
       "      <td id=\"T_5887d_row0_col3\" class=\"data row0 col3\" >0.000169</td>\n",
       "      <td id=\"T_5887d_row0_col4\" class=\"data row0 col4\" >0.056264</td>\n",
       "      <td id=\"T_5887d_row0_col5\" class=\"data row0 col5\" >0.199482</td>\n",
       "      <td id=\"T_5887d_row0_col6\" class=\"data row0 col6\" >-0.137884</td>\n",
       "      <td id=\"T_5887d_row0_col7\" class=\"data row0 col7\" >-0.199170</td>\n",
       "      <td id=\"T_5887d_row0_col8\" class=\"data row0 col8\" >-0.339606</td>\n",
       "      <td id=\"T_5887d_row0_col9\" class=\"data row0 col9\" >0.958537</td>\n",
       "      <td id=\"T_5887d_row0_col10\" class=\"data row0 col10\" >-0.191806</td>\n",
       "    </tr>\n",
       "    <tr>\n",
       "      <th id=\"T_5887d_level0_row1\" class=\"row_heading level0 row1\" >runtime</th>\n",
       "      <td id=\"T_5887d_row1_col0\" class=\"data row1 col0\" >-0.035636</td>\n",
       "      <td id=\"T_5887d_row1_col1\" class=\"data row1 col1\" >1.000000</td>\n",
       "      <td id=\"T_5887d_row1_col2\" class=\"data row1 col2\" >-0.183223</td>\n",
       "      <td id=\"T_5887d_row1_col3\" class=\"data row1 col3\" >0.138725</td>\n",
       "      <td id=\"T_5887d_row1_col4\" class=\"data row1 col4\" >-0.028728</td>\n",
       "      <td id=\"T_5887d_row1_col5\" class=\"data row1 col5\" >-0.260109</td>\n",
       "      <td id=\"T_5887d_row1_col6\" class=\"data row1 col6\" >0.128575</td>\n",
       "      <td id=\"T_5887d_row1_col7\" class=\"data row1 col7\" >0.756505</td>\n",
       "      <td id=\"T_5887d_row1_col8\" class=\"data row1 col8\" >0.119860</td>\n",
       "      <td id=\"T_5887d_row1_col9\" class=\"data row1 col9\" >-0.060715</td>\n",
       "      <td id=\"T_5887d_row1_col10\" class=\"data row1 col10\" >0.228967</td>\n",
       "    </tr>\n",
       "    <tr>\n",
       "      <th id=\"T_5887d_level0_row2\" class=\"row_heading level0 row2\" >imdb_score</th>\n",
       "      <td id=\"T_5887d_row2_col0\" class=\"data row2 col0\" >0.067963</td>\n",
       "      <td id=\"T_5887d_row2_col1\" class=\"data row2 col1\" >-0.183223</td>\n",
       "      <td id=\"T_5887d_row2_col2\" class=\"data row2 col2\" >1.000000</td>\n",
       "      <td id=\"T_5887d_row2_col3\" class=\"data row2 col3\" >0.212218</td>\n",
       "      <td id=\"T_5887d_row2_col4\" class=\"data row2 col4\" >0.067139</td>\n",
       "      <td id=\"T_5887d_row2_col5\" class=\"data row2 col5\" >0.613770</td>\n",
       "      <td id=\"T_5887d_row2_col6\" class=\"data row2 col6\" >-0.154083</td>\n",
       "      <td id=\"T_5887d_row2_col7\" class=\"data row2 col7\" >-0.379562</td>\n",
       "      <td id=\"T_5887d_row2_col8\" class=\"data row2 col8\" >-0.198610</td>\n",
       "      <td id=\"T_5887d_row2_col9\" class=\"data row2 col9\" >0.055373</td>\n",
       "      <td id=\"T_5887d_row2_col10\" class=\"data row2 col10\" >-0.568131</td>\n",
       "    </tr>\n",
       "    <tr>\n",
       "      <th id=\"T_5887d_level0_row3\" class=\"row_heading level0 row3\" >imdb_votes</th>\n",
       "      <td id=\"T_5887d_row3_col0\" class=\"data row3 col0\" >0.000169</td>\n",
       "      <td id=\"T_5887d_row3_col1\" class=\"data row3 col1\" >0.138725</td>\n",
       "      <td id=\"T_5887d_row3_col2\" class=\"data row3 col2\" >0.212218</td>\n",
       "      <td id=\"T_5887d_row3_col3\" class=\"data row3 col3\" >1.000000</td>\n",
       "      <td id=\"T_5887d_row3_col4\" class=\"data row3 col4\" >0.186953</td>\n",
       "      <td id=\"T_5887d_row3_col5\" class=\"data row3 col5\" >0.145011</td>\n",
       "      <td id=\"T_5887d_row3_col6\" class=\"data row3 col6\" >0.035042</td>\n",
       "      <td id=\"T_5887d_row3_col7\" class=\"data row3 col7\" >0.030750</td>\n",
       "      <td id=\"T_5887d_row3_col8\" class=\"data row3 col8\" >-0.090484</td>\n",
       "      <td id=\"T_5887d_row3_col9\" class=\"data row3 col9\" >-0.017158</td>\n",
       "      <td id=\"T_5887d_row3_col10\" class=\"data row3 col10\" >-0.151140</td>\n",
       "    </tr>\n",
       "    <tr>\n",
       "      <th id=\"T_5887d_level0_row4\" class=\"row_heading level0 row4\" >tmdb_popularity</th>\n",
       "      <td id=\"T_5887d_row4_col0\" class=\"data row4 col0\" >0.056264</td>\n",
       "      <td id=\"T_5887d_row4_col1\" class=\"data row4 col1\" >-0.028728</td>\n",
       "      <td id=\"T_5887d_row4_col2\" class=\"data row4 col2\" >0.067139</td>\n",
       "      <td id=\"T_5887d_row4_col3\" class=\"data row4 col3\" >0.186953</td>\n",
       "      <td id=\"T_5887d_row4_col4\" class=\"data row4 col4\" >1.000000</td>\n",
       "      <td id=\"T_5887d_row4_col5\" class=\"data row4 col5\" >0.095421</td>\n",
       "      <td id=\"T_5887d_row4_col6\" class=\"data row4 col6\" >-0.002367</td>\n",
       "      <td id=\"T_5887d_row4_col7\" class=\"data row4 col7\" >-0.073076</td>\n",
       "      <td id=\"T_5887d_row4_col8\" class=\"data row4 col8\" >-0.074693</td>\n",
       "      <td id=\"T_5887d_row4_col9\" class=\"data row4 col9\" >0.065989</td>\n",
       "      <td id=\"T_5887d_row4_col10\" class=\"data row4 col10\" >-0.081983</td>\n",
       "    </tr>\n",
       "    <tr>\n",
       "      <th id=\"T_5887d_level0_row5\" class=\"row_heading level0 row5\" >tmdb_score</th>\n",
       "      <td id=\"T_5887d_row5_col0\" class=\"data row5 col0\" >0.199482</td>\n",
       "      <td id=\"T_5887d_row5_col1\" class=\"data row5 col1\" >-0.260109</td>\n",
       "      <td id=\"T_5887d_row5_col2\" class=\"data row5 col2\" >0.613770</td>\n",
       "      <td id=\"T_5887d_row5_col3\" class=\"data row5 col3\" >0.145011</td>\n",
       "      <td id=\"T_5887d_row5_col4\" class=\"data row5 col4\" >0.095421</td>\n",
       "      <td id=\"T_5887d_row5_col5\" class=\"data row5 col5\" >1.000000</td>\n",
       "      <td id=\"T_5887d_row5_col6\" class=\"data row5 col6\" >-0.141116</td>\n",
       "      <td id=\"T_5887d_row5_col7\" class=\"data row5 col7\" >-0.432535</td>\n",
       "      <td id=\"T_5887d_row5_col8\" class=\"data row5 col8\" >-0.272810</td>\n",
       "      <td id=\"T_5887d_row5_col9\" class=\"data row5 col9\" >0.197989</td>\n",
       "      <td id=\"T_5887d_row5_col10\" class=\"data row5 col10\" >-0.761495</td>\n",
       "    </tr>\n",
       "    <tr>\n",
       "      <th id=\"T_5887d_level0_row6\" class=\"row_heading level0 row6\" >genre</th>\n",
       "      <td id=\"T_5887d_row6_col0\" class=\"data row6 col0\" >-0.137884</td>\n",
       "      <td id=\"T_5887d_row6_col1\" class=\"data row6 col1\" >0.128575</td>\n",
       "      <td id=\"T_5887d_row6_col2\" class=\"data row6 col2\" >-0.154083</td>\n",
       "      <td id=\"T_5887d_row6_col3\" class=\"data row6 col3\" >0.035042</td>\n",
       "      <td id=\"T_5887d_row6_col4\" class=\"data row6 col4\" >-0.002367</td>\n",
       "      <td id=\"T_5887d_row6_col5\" class=\"data row6 col5\" >-0.141116</td>\n",
       "      <td id=\"T_5887d_row6_col6\" class=\"data row6 col6\" >1.000000</td>\n",
       "      <td id=\"T_5887d_row6_col7\" class=\"data row6 col7\" >0.108362</td>\n",
       "      <td id=\"T_5887d_row6_col8\" class=\"data row6 col8\" >0.160913</td>\n",
       "      <td id=\"T_5887d_row6_col9\" class=\"data row6 col9\" >-0.127561</td>\n",
       "      <td id=\"T_5887d_row6_col10\" class=\"data row6 col10\" >0.138970</td>\n",
       "    </tr>\n",
       "    <tr>\n",
       "      <th id=\"T_5887d_level0_row7\" class=\"row_heading level0 row7\" >program_type</th>\n",
       "      <td id=\"T_5887d_row7_col0\" class=\"data row7 col0\" >-0.199170</td>\n",
       "      <td id=\"T_5887d_row7_col1\" class=\"data row7 col1\" >0.756505</td>\n",
       "      <td id=\"T_5887d_row7_col2\" class=\"data row7 col2\" >-0.379562</td>\n",
       "      <td id=\"T_5887d_row7_col3\" class=\"data row7 col3\" >0.030750</td>\n",
       "      <td id=\"T_5887d_row7_col4\" class=\"data row7 col4\" >-0.073076</td>\n",
       "      <td id=\"T_5887d_row7_col5\" class=\"data row7 col5\" >-0.432535</td>\n",
       "      <td id=\"T_5887d_row7_col6\" class=\"data row7 col6\" >0.108362</td>\n",
       "      <td id=\"T_5887d_row7_col7\" class=\"data row7 col7\" >1.000000</td>\n",
       "      <td id=\"T_5887d_row7_col8\" class=\"data row7 col8\" >0.223734</td>\n",
       "      <td id=\"T_5887d_row7_col9\" class=\"data row7 col9\" >-0.200172</td>\n",
       "      <td id=\"T_5887d_row7_col10\" class=\"data row7 col10\" >0.396433</td>\n",
       "    </tr>\n",
       "    <tr>\n",
       "      <th id=\"T_5887d_level0_row8\" class=\"row_heading level0 row8\" >Platform</th>\n",
       "      <td id=\"T_5887d_row8_col0\" class=\"data row8 col0\" >-0.339606</td>\n",
       "      <td id=\"T_5887d_row8_col1\" class=\"data row8 col1\" >0.119860</td>\n",
       "      <td id=\"T_5887d_row8_col2\" class=\"data row8 col2\" >-0.198610</td>\n",
       "      <td id=\"T_5887d_row8_col3\" class=\"data row8 col3\" >-0.090484</td>\n",
       "      <td id=\"T_5887d_row8_col4\" class=\"data row8 col4\" >-0.074693</td>\n",
       "      <td id=\"T_5887d_row8_col5\" class=\"data row8 col5\" >-0.272810</td>\n",
       "      <td id=\"T_5887d_row8_col6\" class=\"data row8 col6\" >0.160913</td>\n",
       "      <td id=\"T_5887d_row8_col7\" class=\"data row8 col7\" >0.223734</td>\n",
       "      <td id=\"T_5887d_row8_col8\" class=\"data row8 col8\" >1.000000</td>\n",
       "      <td id=\"T_5887d_row8_col9\" class=\"data row8 col9\" >-0.346085</td>\n",
       "      <td id=\"T_5887d_row8_col10\" class=\"data row8 col10\" >0.255800</td>\n",
       "    </tr>\n",
       "    <tr>\n",
       "      <th id=\"T_5887d_level0_row9\" class=\"row_heading level0 row9\" >decade</th>\n",
       "      <td id=\"T_5887d_row9_col0\" class=\"data row9 col0\" >0.958537</td>\n",
       "      <td id=\"T_5887d_row9_col1\" class=\"data row9 col1\" >-0.060715</td>\n",
       "      <td id=\"T_5887d_row9_col2\" class=\"data row9 col2\" >0.055373</td>\n",
       "      <td id=\"T_5887d_row9_col3\" class=\"data row9 col3\" >-0.017158</td>\n",
       "      <td id=\"T_5887d_row9_col4\" class=\"data row9 col4\" >0.065989</td>\n",
       "      <td id=\"T_5887d_row9_col5\" class=\"data row9 col5\" >0.197989</td>\n",
       "      <td id=\"T_5887d_row9_col6\" class=\"data row9 col6\" >-0.127561</td>\n",
       "      <td id=\"T_5887d_row9_col7\" class=\"data row9 col7\" >-0.200172</td>\n",
       "      <td id=\"T_5887d_row9_col8\" class=\"data row9 col8\" >-0.346085</td>\n",
       "      <td id=\"T_5887d_row9_col9\" class=\"data row9 col9\" >1.000000</td>\n",
       "      <td id=\"T_5887d_row9_col10\" class=\"data row9 col10\" >-0.188389</td>\n",
       "    </tr>\n",
       "    <tr>\n",
       "      <th id=\"T_5887d_level0_row10\" class=\"row_heading level0 row10\" >Rating1</th>\n",
       "      <td id=\"T_5887d_row10_col0\" class=\"data row10 col0\" >-0.191806</td>\n",
       "      <td id=\"T_5887d_row10_col1\" class=\"data row10 col1\" >0.228967</td>\n",
       "      <td id=\"T_5887d_row10_col2\" class=\"data row10 col2\" >-0.568131</td>\n",
       "      <td id=\"T_5887d_row10_col3\" class=\"data row10 col3\" >-0.151140</td>\n",
       "      <td id=\"T_5887d_row10_col4\" class=\"data row10 col4\" >-0.081983</td>\n",
       "      <td id=\"T_5887d_row10_col5\" class=\"data row10 col5\" >-0.761495</td>\n",
       "      <td id=\"T_5887d_row10_col6\" class=\"data row10 col6\" >0.138970</td>\n",
       "      <td id=\"T_5887d_row10_col7\" class=\"data row10 col7\" >0.396433</td>\n",
       "      <td id=\"T_5887d_row10_col8\" class=\"data row10 col8\" >0.255800</td>\n",
       "      <td id=\"T_5887d_row10_col9\" class=\"data row10 col9\" >-0.188389</td>\n",
       "      <td id=\"T_5887d_row10_col10\" class=\"data row10 col10\" >1.000000</td>\n",
       "    </tr>\n",
       "  </tbody>\n",
       "</table>\n"
      ],
      "text/plain": [
       "<pandas.io.formats.style.Styler at 0x2aa56cf8880>"
      ]
     },
     "execution_count": 32,
     "metadata": {},
     "output_type": "execute_result"
    }
   ],
   "source": [
    "corr = sd1.corr()\n",
    "corr.style.background_gradient(cmap='coolwarm')"
   ]
  },
  {
   "cell_type": "code",
   "execution_count": 33,
   "id": "f165959f",
   "metadata": {},
   "outputs": [
    {
     "name": "stderr",
     "output_type": "stream",
     "text": [
      "C:\\Python3\\lib\\site-packages\\pandas\\plotting\\_matplotlib\\core.py:1114: UserWarning: No data for colormapping provided via 'c'. Parameters 'cmap' will be ignored\n",
      "  scatter = ax.scatter(\n"
     ]
    },
    {
     "data": {
      "text/plain": [
       "Text(0, 0.5, 'TMDB Score')"
      ]
     },
     "execution_count": 33,
     "metadata": {},
     "output_type": "execute_result"
    },
    {
     "data": {
      "image/png": "[encoded data removed]",
      "text/plain": [
       "<Figure size 432x288 with 1 Axes>"
      ]
     },
     "metadata": {
      "needs_background": "light"
     },
     "output_type": "display_data"
    }
   ],
   "source": [
    "#Scatterplot of number of tmdb score and imdb score\n",
    "Plot = sd1.plot.scatter(x='imdb_score', y='tmdb_score')\n",
    "Plot.set_title(\"IMDB SCORE and TMDB SCORE\")\n",
    "Plot.set_xlabel(\"IMDB Score\")\n",
    "Plot.set_ylabel(\"TMDB Score\")"
   ]
  },
  {
   "cell_type": "code",
   "execution_count": 34,
   "id": "29dd090b",
   "metadata": {},
   "outputs": [
    {
     "data": {
      "text/plain": [
       "Text(0, 0.5, 'TMDB Score')"
      ]
     },
     "execution_count": 34,
     "metadata": {},
     "output_type": "execute_result"
    },
    {
     "data": {
      "image/png": "[encoded data removed]",
      "text/plain": [
       "<Figure size 432x288 with 1 Axes>"
      ]
     },
     "metadata": {
      "needs_background": "light"
     },
     "output_type": "display_data"
    }
   ],
   "source": [
    "#tmdb score and genre\n",
    "Plot = sd1.plot.scatter(x='genre', y='tmdb_score')\n",
    "Plot.set_title(\"Genre and TMDB SCORE\")\n",
    "Plot.set_xlabel(\"Genre\")\n",
    "Plot.set_ylabel(\"TMDB Score\")"
   ]
  },
  {
   "cell_type": "code",
   "execution_count": 35,
   "id": "4c26b519",
   "metadata": {},
   "outputs": [],
   "source": [
    "tmdb_score = sd1[['genre', 'tmdb_score']]\n",
    "imdb_scores = sd1[['genre', 'imdb_score']]"
   ]
  },
  {
   "cell_type": "code",
   "execution_count": 36,
   "id": "2fe52c89",
   "metadata": {},
   "outputs": [
    {
     "data": {
      "text/plain": [
       "<AxesSubplot: >"
      ]
     },
     "execution_count": 36,
     "metadata": {},
     "output_type": "execute_result"
    },
    {
     "data": {
      "image/png": "[encoded data removed]",
      "text/plain": [
       "<Figure size 432x288 with 1 Axes>"
      ]
     },
     "metadata": {
      "needs_background": "light"
     },
     "output_type": "display_data"
    }
   ],
   "source": [
    "tmdb_score['genre'].value_counts().plot(kind='bar')"
   ]
  },
  {
   "cell_type": "code",
   "execution_count": 37,
   "id": "956330b2",
   "metadata": {},
   "outputs": [
    {
     "data": {
      "text/plain": [
       "Amazon     9871\n",
       "Netflix    5850\n",
       "Hulu       2398\n",
       "Disney     1535\n",
       "Name: platform, dtype: int64"
      ]
     },
     "execution_count": 37,
     "metadata": {},
     "output_type": "execute_result"
    }
   ],
   "source": [
    "streamingdata.platform.value_counts()"
   ]
  },
  {
   "cell_type": "code",
   "execution_count": 38,
   "id": "59f2e44d",
   "metadata": {},
   "outputs": [],
   "source": [
    "amazon_df = streamingdata.loc[streamingdata['platform'] == 'Amazon']"
   ]
  },
  {
   "cell_type": "code",
   "execution_count": 39,
   "id": "72d7a7da",
   "metadata": {},
   "outputs": [
    {
     "data": {
      "text/html": [
       "<div>\n",
       "<style scoped>\n",
       "    .dataframe tbody tr th:only-of-type {\n",
       "        vertical-align: middle;\n",
       "    }\n",
       "\n",
       "    .dataframe tbody tr th {\n",
       "        vertical-align: top;\n",
       "    }\n",
       "\n",
       "    .dataframe thead th {\n",
       "        text-align: right;\n",
       "    }\n",
       "</style>\n",
       "<table border=\"1\" class=\"dataframe\">\n",
       "  <thead>\n",
       "    <tr style=\"text-align: right;\">\n",
       "      <th></th>\n",
       "      <th>platform</th>\n",
       "      <th>id</th>\n",
       "      <th>title</th>\n",
       "      <th>type</th>\n",
       "      <th>description</th>\n",
       "      <th>release_year</th>\n",
       "      <th>age_certification</th>\n",
       "      <th>runtime</th>\n",
       "      <th>genres</th>\n",
       "      <th>production_countries</th>\n",
       "      <th>...</th>\n",
       "      <th>genre5</th>\n",
       "      <th>genre6</th>\n",
       "      <th>genre7</th>\n",
       "      <th>genre8</th>\n",
       "      <th>genre9</th>\n",
       "      <th>genre10</th>\n",
       "      <th>genre</th>\n",
       "      <th>program_type</th>\n",
       "      <th>Platform</th>\n",
       "      <th>decade</th>\n",
       "    </tr>\n",
       "  </thead>\n",
       "  <tbody>\n",
       "    <tr>\n",
       "      <th>30</th>\n",
       "      <td>Amazon</td>\n",
       "      <td>tm89134</td>\n",
       "      <td>The Gunman From Bodie</td>\n",
       "      <td>MOVIE</td>\n",
       "      <td>The Rough Riders are after a gang of rustlers....</td>\n",
       "      <td>1941</td>\n",
       "      <td>NaN</td>\n",
       "      <td>62</td>\n",
       "      <td>western</td>\n",
       "      <td>['US']</td>\n",
       "      <td>...</td>\n",
       "      <td>NaN</td>\n",
       "      <td>NaN</td>\n",
       "      <td>NaN</td>\n",
       "      <td>NaN</td>\n",
       "      <td>NaN</td>\n",
       "      <td>NaN</td>\n",
       "      <td>19</td>\n",
       "      <td>2</td>\n",
       "      <td>4</td>\n",
       "      <td>1</td>\n",
       "    </tr>\n",
       "    <tr>\n",
       "      <th>31</th>\n",
       "      <td>Amazon</td>\n",
       "      <td>tm89134</td>\n",
       "      <td>The Gunman From Bodie</td>\n",
       "      <td>MOVIE</td>\n",
       "      <td>The Rough Riders are after a gang of rustlers....</td>\n",
       "      <td>1941</td>\n",
       "      <td>NaN</td>\n",
       "      <td>62</td>\n",
       "      <td>western</td>\n",
       "      <td>['US']</td>\n",
       "      <td>...</td>\n",
       "      <td>NaN</td>\n",
       "      <td>NaN</td>\n",
       "      <td>NaN</td>\n",
       "      <td>NaN</td>\n",
       "      <td>NaN</td>\n",
       "      <td>NaN</td>\n",
       "      <td>19</td>\n",
       "      <td>2</td>\n",
       "      <td>4</td>\n",
       "      <td>1</td>\n",
       "    </tr>\n",
       "    <tr>\n",
       "      <th>32</th>\n",
       "      <td>Amazon</td>\n",
       "      <td>tm66674</td>\n",
       "      <td>Dynamite</td>\n",
       "      <td>MOVIE</td>\n",
       "      <td>Two members of a dynamite crew--a rugged veter...</td>\n",
       "      <td>1949</td>\n",
       "      <td>NaN</td>\n",
       "      <td>68</td>\n",
       "      <td>drama, crime</td>\n",
       "      <td>['US']</td>\n",
       "      <td>...</td>\n",
       "      <td>NaN</td>\n",
       "      <td>NaN</td>\n",
       "      <td>NaN</td>\n",
       "      <td>NaN</td>\n",
       "      <td>NaN</td>\n",
       "      <td>NaN</td>\n",
       "      <td>6</td>\n",
       "      <td>2</td>\n",
       "      <td>4</td>\n",
       "      <td>1</td>\n",
       "    </tr>\n",
       "    <tr>\n",
       "      <th>33</th>\n",
       "      <td>Amazon</td>\n",
       "      <td>tm137955</td>\n",
       "      <td>Broken Dreams</td>\n",
       "      <td>MOVIE</td>\n",
       "      <td>Medical intern Robert Morley is distraught aft...</td>\n",
       "      <td>1933</td>\n",
       "      <td>NaN</td>\n",
       "      <td>68</td>\n",
       "      <td>drama, romance</td>\n",
       "      <td>['US']</td>\n",
       "      <td>...</td>\n",
       "      <td>NaN</td>\n",
       "      <td>NaN</td>\n",
       "      <td>NaN</td>\n",
       "      <td>NaN</td>\n",
       "      <td>NaN</td>\n",
       "      <td>NaN</td>\n",
       "      <td>6</td>\n",
       "      <td>2</td>\n",
       "      <td>4</td>\n",
       "      <td>1</td>\n",
       "    </tr>\n",
       "    <tr>\n",
       "      <th>34</th>\n",
       "      <td>Amazon</td>\n",
       "      <td>tm66674</td>\n",
       "      <td>Dynamite</td>\n",
       "      <td>MOVIE</td>\n",
       "      <td>Two members of a dynamite crew--a rugged veter...</td>\n",
       "      <td>1949</td>\n",
       "      <td>NaN</td>\n",
       "      <td>68</td>\n",
       "      <td>drama, crime</td>\n",
       "      <td>['US']</td>\n",
       "      <td>...</td>\n",
       "      <td>NaN</td>\n",
       "      <td>NaN</td>\n",
       "      <td>NaN</td>\n",
       "      <td>NaN</td>\n",
       "      <td>NaN</td>\n",
       "      <td>NaN</td>\n",
       "      <td>6</td>\n",
       "      <td>2</td>\n",
       "      <td>4</td>\n",
       "      <td>1</td>\n",
       "    </tr>\n",
       "  </tbody>\n",
       "</table>\n",
       "<p>5 rows × 30 columns</p>\n",
       "</div>"
      ],
      "text/plain": [
       "   platform        id                  title   type  \\\n",
       "30   Amazon   tm89134  The Gunman From Bodie  MOVIE   \n",
       "31   Amazon   tm89134  The Gunman From Bodie  MOVIE   \n",
       "32   Amazon   tm66674               Dynamite  MOVIE   \n",
       "33   Amazon  tm137955          Broken Dreams  MOVIE   \n",
       "34   Amazon   tm66674               Dynamite  MOVIE   \n",
       "\n",
       "                                          description  release_year  \\\n",
       "30  The Rough Riders are after a gang of rustlers....          1941   \n",
       "31  The Rough Riders are after a gang of rustlers....          1941   \n",
       "32  Two members of a dynamite crew--a rugged veter...          1949   \n",
       "33  Medical intern Robert Morley is distraught aft...          1933   \n",
       "34  Two members of a dynamite crew--a rugged veter...          1949   \n",
       "\n",
       "   age_certification  runtime          genres production_countries  ...  \\\n",
       "30               NaN       62         western               ['US']  ...   \n",
       "31               NaN       62         western               ['US']  ...   \n",
       "32               NaN       68    drama, crime               ['US']  ...   \n",
       "33               NaN       68  drama, romance               ['US']  ...   \n",
       "34               NaN       68    drama, crime               ['US']  ...   \n",
       "\n",
       "    genre5 genre6  genre7  genre8  genre9  genre10 genre program_type  \\\n",
       "30     NaN    NaN     NaN     NaN     NaN      NaN    19            2   \n",
       "31     NaN    NaN     NaN     NaN     NaN      NaN    19            2   \n",
       "32     NaN    NaN     NaN     NaN     NaN      NaN     6            2   \n",
       "33     NaN    NaN     NaN     NaN     NaN      NaN     6            2   \n",
       "34     NaN    NaN     NaN     NaN     NaN      NaN     6            2   \n",
       "\n",
       "   Platform decade  \n",
       "30        4      1  \n",
       "31        4      1  \n",
       "32        4      1  \n",
       "33        4      1  \n",
       "34        4      1  \n",
       "\n",
       "[5 rows x 30 columns]"
      ]
     },
     "execution_count": 39,
     "metadata": {},
     "output_type": "execute_result"
    }
   ],
   "source": [
    "amazon_df.head()"
   ]
  },
  {
   "cell_type": "code",
   "execution_count": 40,
   "id": "f9449202",
   "metadata": {},
   "outputs": [],
   "source": [
    "hulu_df = streamingdata.loc[streamingdata['platform'] == 'Hulu']\n",
    "netflix_df = streamingdata.loc[streamingdata['platform'] == 'Netflix']\n",
    "disney_df = streamingdata.loc[streamingdata['platform'] == 'Disney']"
   ]
  },
  {
   "cell_type": "code",
   "execution_count": 41,
   "id": "6bcb3273",
   "metadata": {},
   "outputs": [
    {
     "data": {
      "text/html": [
       "<div>\n",
       "<style scoped>\n",
       "    .dataframe tbody tr th:only-of-type {\n",
       "        vertical-align: middle;\n",
       "    }\n",
       "\n",
       "    .dataframe tbody tr th {\n",
       "        vertical-align: top;\n",
       "    }\n",
       "\n",
       "    .dataframe thead th {\n",
       "        text-align: right;\n",
       "    }\n",
       "</style>\n",
       "<table border=\"1\" class=\"dataframe\">\n",
       "  <thead>\n",
       "    <tr style=\"text-align: right;\">\n",
       "      <th></th>\n",
       "      <th>platform</th>\n",
       "      <th>id</th>\n",
       "      <th>title</th>\n",
       "      <th>type</th>\n",
       "      <th>description</th>\n",
       "      <th>release_year</th>\n",
       "      <th>age_certification</th>\n",
       "      <th>runtime</th>\n",
       "      <th>genres</th>\n",
       "      <th>production_countries</th>\n",
       "      <th>...</th>\n",
       "      <th>genre5</th>\n",
       "      <th>genre6</th>\n",
       "      <th>genre7</th>\n",
       "      <th>genre8</th>\n",
       "      <th>genre9</th>\n",
       "      <th>genre10</th>\n",
       "      <th>genre</th>\n",
       "      <th>program_type</th>\n",
       "      <th>Platform</th>\n",
       "      <th>decade</th>\n",
       "    </tr>\n",
       "  </thead>\n",
       "  <tbody>\n",
       "    <tr>\n",
       "      <th>528</th>\n",
       "      <td>Hulu</td>\n",
       "      <td>ts20005</td>\n",
       "      <td>I Love Lucy</td>\n",
       "      <td>SHOW</td>\n",
       "      <td>Cuban Bandleader Ricky Ricardo would be happy ...</td>\n",
       "      <td>1951</td>\n",
       "      <td>TV-G</td>\n",
       "      <td>30</td>\n",
       "      <td>comedy, family</td>\n",
       "      <td>['US']</td>\n",
       "      <td>...</td>\n",
       "      <td>NaN</td>\n",
       "      <td>NaN</td>\n",
       "      <td>NaN</td>\n",
       "      <td>NaN</td>\n",
       "      <td>NaN</td>\n",
       "      <td>NaN</td>\n",
       "      <td>3</td>\n",
       "      <td>1</td>\n",
       "      <td>3</td>\n",
       "      <td>1</td>\n",
       "    </tr>\n",
       "    <tr>\n",
       "      <th>529</th>\n",
       "      <td>Hulu</td>\n",
       "      <td>ts20690</td>\n",
       "      <td>The Lucy Show</td>\n",
       "      <td>SHOW</td>\n",
       "      <td>The Lucy Show is an American sitcom that aired...</td>\n",
       "      <td>1962</td>\n",
       "      <td>NaN</td>\n",
       "      <td>30</td>\n",
       "      <td>comedy</td>\n",
       "      <td>['US']</td>\n",
       "      <td>...</td>\n",
       "      <td>NaN</td>\n",
       "      <td>NaN</td>\n",
       "      <td>NaN</td>\n",
       "      <td>NaN</td>\n",
       "      <td>NaN</td>\n",
       "      <td>NaN</td>\n",
       "      <td>3</td>\n",
       "      <td>1</td>\n",
       "      <td>3</td>\n",
       "      <td>1</td>\n",
       "    </tr>\n",
       "    <tr>\n",
       "      <th>530</th>\n",
       "      <td>Hulu</td>\n",
       "      <td>tm19438</td>\n",
       "      <td>The Princess Bride</td>\n",
       "      <td>MOVIE</td>\n",
       "      <td>In this enchantingly cracked fairy tale, the b...</td>\n",
       "      <td>1987</td>\n",
       "      <td>PG</td>\n",
       "      <td>99</td>\n",
       "      <td>fantasy, family, romance</td>\n",
       "      <td>['US']</td>\n",
       "      <td>...</td>\n",
       "      <td>NaN</td>\n",
       "      <td>NaN</td>\n",
       "      <td>NaN</td>\n",
       "      <td>NaN</td>\n",
       "      <td>NaN</td>\n",
       "      <td>NaN</td>\n",
       "      <td>9</td>\n",
       "      <td>2</td>\n",
       "      <td>3</td>\n",
       "      <td>3</td>\n",
       "    </tr>\n",
       "    <tr>\n",
       "      <th>531</th>\n",
       "      <td>Hulu</td>\n",
       "      <td>ts20711</td>\n",
       "      <td>The Simpsons</td>\n",
       "      <td>SHOW</td>\n",
       "      <td>The satiric adventures of a working-class fami...</td>\n",
       "      <td>1989</td>\n",
       "      <td>TV-14</td>\n",
       "      <td>27</td>\n",
       "      <td>animation, comedy</td>\n",
       "      <td>['US']</td>\n",
       "      <td>...</td>\n",
       "      <td>NaN</td>\n",
       "      <td>NaN</td>\n",
       "      <td>NaN</td>\n",
       "      <td>NaN</td>\n",
       "      <td>NaN</td>\n",
       "      <td>NaN</td>\n",
       "      <td>2</td>\n",
       "      <td>1</td>\n",
       "      <td>3</td>\n",
       "      <td>3</td>\n",
       "    </tr>\n",
       "    <tr>\n",
       "      <th>532</th>\n",
       "      <td>Hulu</td>\n",
       "      <td>tm180542</td>\n",
       "      <td>Once Upon a Time in America</td>\n",
       "      <td>MOVIE</td>\n",
       "      <td>A former Prohibition-era Jewish gangster retur...</td>\n",
       "      <td>1984</td>\n",
       "      <td>R</td>\n",
       "      <td>229</td>\n",
       "      <td>drama, crime, european</td>\n",
       "      <td>['US', 'IT']</td>\n",
       "      <td>...</td>\n",
       "      <td>NaN</td>\n",
       "      <td>NaN</td>\n",
       "      <td>NaN</td>\n",
       "      <td>NaN</td>\n",
       "      <td>NaN</td>\n",
       "      <td>NaN</td>\n",
       "      <td>6</td>\n",
       "      <td>2</td>\n",
       "      <td>3</td>\n",
       "      <td>3</td>\n",
       "    </tr>\n",
       "  </tbody>\n",
       "</table>\n",
       "<p>5 rows × 30 columns</p>\n",
       "</div>"
      ],
      "text/plain": [
       "    platform        id                        title   type  \\\n",
       "528     Hulu   ts20005                  I Love Lucy   SHOW   \n",
       "529     Hulu   ts20690                The Lucy Show   SHOW   \n",
       "530     Hulu   tm19438           The Princess Bride  MOVIE   \n",
       "531     Hulu   ts20711                 The Simpsons   SHOW   \n",
       "532     Hulu  tm180542  Once Upon a Time in America  MOVIE   \n",
       "\n",
       "                                           description  release_year  \\\n",
       "528  Cuban Bandleader Ricky Ricardo would be happy ...          1951   \n",
       "529  The Lucy Show is an American sitcom that aired...          1962   \n",
       "530  In this enchantingly cracked fairy tale, the b...          1987   \n",
       "531  The satiric adventures of a working-class fami...          1989   \n",
       "532  A former Prohibition-era Jewish gangster retur...          1984   \n",
       "\n",
       "    age_certification  runtime                    genres production_countries  \\\n",
       "528              TV-G       30            comedy, family               ['US']   \n",
       "529               NaN       30                    comedy               ['US']   \n",
       "530                PG       99  fantasy, family, romance               ['US']   \n",
       "531             TV-14       27         animation, comedy               ['US']   \n",
       "532                 R      229    drama, crime, european         ['US', 'IT']   \n",
       "\n",
       "     ...  genre5 genre6  genre7  genre8  genre9  genre10 genre program_type  \\\n",
       "528  ...     NaN    NaN     NaN     NaN     NaN      NaN     3            1   \n",
       "529  ...     NaN    NaN     NaN     NaN     NaN      NaN     3            1   \n",
       "530  ...     NaN    NaN     NaN     NaN     NaN      NaN     9            2   \n",
       "531  ...     NaN    NaN     NaN     NaN     NaN      NaN     2            1   \n",
       "532  ...     NaN    NaN     NaN     NaN     NaN      NaN     6            2   \n",
       "\n",
       "    Platform decade  \n",
       "528        3      1  \n",
       "529        3      1  \n",
       "530        3      3  \n",
       "531        3      3  \n",
       "532        3      3  \n",
       "\n",
       "[5 rows x 30 columns]"
      ]
     },
     "execution_count": 41,
     "metadata": {},
     "output_type": "execute_result"
    }
   ],
   "source": [
    "hulu_df.head()"
   ]
  },
  {
   "cell_type": "code",
   "execution_count": 42,
   "id": "4fb7e638",
   "metadata": {},
   "outputs": [],
   "source": [
    "pd.options.display.max_columns = None"
   ]
  },
  {
   "cell_type": "code",
   "execution_count": 43,
   "id": "e40c88cc",
   "metadata": {},
   "outputs": [
    {
     "data": {
      "text/plain": [
       "7.0    95\n",
       "7.5    94\n",
       "7.8    77\n",
       "6.0    76\n",
       "6.4    75\n",
       "       ..\n",
       "9.6     1\n",
       "9.8     1\n",
       "3.2     1\n",
       "3.1     1\n",
       "1.5     1\n",
       "Name: tmdb_score, Length: 74, dtype: int64"
      ]
     },
     "execution_count": 43,
     "metadata": {},
     "output_type": "execute_result"
    }
   ],
   "source": [
    "hulu_df.tmdb_score.value_counts()"
   ]
  },
  {
   "cell_type": "code",
   "execution_count": 44,
   "id": "d06552c9",
   "metadata": {},
   "outputs": [],
   "source": [
    "hulu1 = hulu_df.drop(['description', 'age_certification', 'genres', 'production_countries','seasons','genre1', \n",
    "                      'genre2', 'genre3', 'genre4', 'genre5', 'genre6', \n",
    "                      'genre7','genre8', 'genre9', 'genre10'], axis=1)\n",
    "netflix1 = netflix_df.drop(['description', 'age_certification', 'genres', 'production_countries','seasons','genre1', \n",
    "                      'genre2', 'genre3', 'genre4', 'genre5', 'genre6', \n",
    "                      'genre7','genre8', 'genre9', 'genre10'], axis=1)\n",
    "disney1 = disney_df.drop(['description', 'age_certification', 'genres', 'production_countries','seasons','genre1', \n",
    "                      'genre2', 'genre3', 'genre4', 'genre5', 'genre6', \n",
    "                      'genre7','genre8', 'genre9', 'genre10'], axis=1)\n",
    "amazon1 = amazon_df.drop(['description', 'age_certification', 'genres', 'production_countries','seasons','genre1', \n",
    "                      'genre2', 'genre3', 'genre4', 'genre5', 'genre6', \n",
    "                      'genre7','genre8', 'genre9', 'genre10'], axis=1)"
   ]
  },
  {
   "cell_type": "code",
   "execution_count": 45,
   "id": "837e50fd",
   "metadata": {},
   "outputs": [],
   "source": [
    "hulu2 = hulu_df.drop(['description', 'age_certification', 'genres', 'production_countries','seasons','genre1', \n",
    "                      'genre2', 'genre3', 'genre4', 'genre5', 'genre6', \n",
    "                      'genre7','genre8', 'genre9', 'genre10'], axis=1)"
   ]
  },
  {
   "cell_type": "code",
   "execution_count": 46,
   "id": "e4af5311",
   "metadata": {},
   "outputs": [
    {
     "data": {
      "text/plain": [
       "platform           2398\n",
       "id                 2398\n",
       "title              2398\n",
       "type               2398\n",
       "release_year       2398\n",
       "runtime            2398\n",
       "imdb_id            2263\n",
       "imdb_score         2232\n",
       "imdb_votes         2231\n",
       "tmdb_popularity    2348\n",
       "tmdb_score         2238\n",
       "genre              2374\n",
       "program_type       2398\n",
       "Platform           2398\n",
       "decade             2398\n",
       "dtype: int64"
      ]
     },
     "execution_count": 46,
     "metadata": {},
     "output_type": "execute_result"
    }
   ],
   "source": [
    "hulu2.count()"
   ]
  },
  {
   "cell_type": "code",
   "execution_count": 47,
   "id": "c9357936",
   "metadata": {},
   "outputs": [
    {
     "data": {
      "text/plain": [
       "platform             0\n",
       "id                   0\n",
       "title                0\n",
       "type                 0\n",
       "release_year         0\n",
       "runtime              0\n",
       "imdb_id            135\n",
       "imdb_score         166\n",
       "imdb_votes         167\n",
       "tmdb_popularity     50\n",
       "tmdb_score         160\n",
       "genre               24\n",
       "program_type         0\n",
       "Platform             0\n",
       "decade               0\n",
       "dtype: int64"
      ]
     },
     "execution_count": 47,
     "metadata": {},
     "output_type": "execute_result"
    }
   ],
   "source": [
    "hulu2.isnull().sum()"
   ]
  },
  {
   "cell_type": "code",
   "execution_count": 48,
   "id": "a362b878",
   "metadata": {},
   "outputs": [],
   "source": [
    "hulu2.dropna(inplace=True)"
   ]
  },
  {
   "cell_type": "code",
   "execution_count": 49,
   "id": "0259baf6",
   "metadata": {},
   "outputs": [
    {
     "data": {
      "text/plain": [
       "platform           2101\n",
       "id                 2101\n",
       "title              2101\n",
       "type               2101\n",
       "release_year       2101\n",
       "runtime            2101\n",
       "imdb_id            2101\n",
       "imdb_score         2101\n",
       "imdb_votes         2101\n",
       "tmdb_popularity    2101\n",
       "tmdb_score         2101\n",
       "genre              2101\n",
       "program_type       2101\n",
       "Platform           2101\n",
       "decade             2101\n",
       "dtype: int64"
      ]
     },
     "execution_count": 49,
     "metadata": {},
     "output_type": "execute_result"
    }
   ],
   "source": [
    "hulu2.count()"
   ]
  },
  {
   "cell_type": "code",
   "execution_count": 50,
   "id": "56bada29",
   "metadata": {},
   "outputs": [
    {
     "name": "stdout",
     "output_type": "stream",
     "text": [
      "platform            object\n",
      "id                  object\n",
      "title               object\n",
      "type                object\n",
      "release_year         int64\n",
      "runtime              int64\n",
      "imdb_id             object\n",
      "imdb_score         float64\n",
      "imdb_votes         float64\n",
      "tmdb_popularity    float64\n",
      "tmdb_score         float64\n",
      "genre               object\n",
      "program_type        object\n",
      "Platform            object\n",
      "decade               int64\n",
      "dtype: object\n"
     ]
    }
   ],
   "source": [
    "print(hulu2.dtypes)"
   ]
  },
  {
   "cell_type": "code",
   "execution_count": 51,
   "id": "c9014ebb",
   "metadata": {},
   "outputs": [],
   "source": [
    "hulu2['tmdb_score'] = hulu2['tmdb_score'].astype(float)"
   ]
  },
  {
   "cell_type": "code",
   "execution_count": 52,
   "id": "321395f0",
   "metadata": {},
   "outputs": [],
   "source": [
    "hulu2_avg = hulu2.groupby('genre')['tmdb_score'].mean()"
   ]
  },
  {
   "cell_type": "code",
   "execution_count": 53,
   "id": "d1924b44",
   "metadata": {},
   "outputs": [
    {
     "data": {
      "text/plain": [
       "<AxesSubplot: xlabel='genre'>"
      ]
     },
     "execution_count": 53,
     "metadata": {},
     "output_type": "execute_result"
    },
    {
     "data": {
      "image/png": "[encoded data removed]",
      "text/plain": [
       "<Figure size 432x288 with 1 Axes>"
      ]
     },
     "metadata": {
      "needs_background": "light"
     },
     "output_type": "display_data"
    }
   ],
   "source": [
    "hulu2_avg.plot(kind='bar')"
   ]
  },
  {
   "cell_type": "code",
   "execution_count": 54,
   "id": "f4535268",
   "metadata": {},
   "outputs": [
    {
     "data": {
      "text/plain": [
       "platform           1535\n",
       "id                 1535\n",
       "title              1535\n",
       "type               1535\n",
       "release_year       1535\n",
       "runtime            1535\n",
       "imdb_id            1133\n",
       "imdb_score         1108\n",
       "imdb_votes         1105\n",
       "tmdb_popularity    1524\n",
       "tmdb_score         1426\n",
       "genre              1507\n",
       "program_type       1535\n",
       "Platform           1535\n",
       "decade             1535\n",
       "dtype: int64"
      ]
     },
     "execution_count": 54,
     "metadata": {},
     "output_type": "execute_result"
    }
   ],
   "source": [
    "hulu1.count()\n",
    "amazon1.count()\n",
    "netflix1.count()\n",
    "disney1.count()"
   ]
  },
  {
   "cell_type": "code",
   "execution_count": 55,
   "id": "4e1c3888",
   "metadata": {},
   "outputs": [],
   "source": [
    "hulu1.dropna(inplace=True)\n",
    "netflix1.dropna(inplace=True)\n",
    "amazon1.dropna(inplace=True)\n",
    "disney1.dropna(inplace=True)"
   ]
  },
  {
   "cell_type": "code",
   "execution_count": 56,
   "id": "7681ab75",
   "metadata": {},
   "outputs": [
    {
     "name": "stdout",
     "output_type": "stream",
     "text": [
      "platform            object\n",
      "id                  object\n",
      "title               object\n",
      "type                object\n",
      "release_year         int64\n",
      "runtime              int64\n",
      "imdb_id             object\n",
      "imdb_score         float64\n",
      "imdb_votes         float64\n",
      "tmdb_popularity    float64\n",
      "tmdb_score         float64\n",
      "genre               object\n",
      "program_type        object\n",
      "Platform            object\n",
      "decade               int64\n",
      "dtype: object\n"
     ]
    }
   ],
   "source": [
    "print(hulu1.dtypes)"
   ]
  },
  {
   "cell_type": "code",
   "execution_count": 57,
   "id": "7bb490fd",
   "metadata": {},
   "outputs": [
    {
     "data": {
      "text/plain": [
       "platform           2101\n",
       "id                 2101\n",
       "title              2101\n",
       "type               2101\n",
       "release_year       2101\n",
       "runtime            2101\n",
       "imdb_id            2101\n",
       "imdb_score         2101\n",
       "imdb_votes         2101\n",
       "tmdb_popularity    2101\n",
       "tmdb_score         2101\n",
       "genre              2101\n",
       "program_type       2101\n",
       "Platform           2101\n",
       "decade             2101\n",
       "dtype: int64"
      ]
     },
     "execution_count": 57,
     "metadata": {},
     "output_type": "execute_result"
    }
   ],
   "source": [
    "hulu1.count()"
   ]
  },
  {
   "cell_type": "code",
   "execution_count": 58,
   "id": "125952af",
   "metadata": {},
   "outputs": [
    {
     "data": {
      "text/html": [
       "<div>\n",
       "<style scoped>\n",
       "    .dataframe tbody tr th:only-of-type {\n",
       "        vertical-align: middle;\n",
       "    }\n",
       "\n",
       "    .dataframe tbody tr th {\n",
       "        vertical-align: top;\n",
       "    }\n",
       "\n",
       "    .dataframe thead th {\n",
       "        text-align: right;\n",
       "    }\n",
       "</style>\n",
       "<table border=\"1\" class=\"dataframe\">\n",
       "  <thead>\n",
       "    <tr style=\"text-align: right;\">\n",
       "      <th></th>\n",
       "      <th>platform</th>\n",
       "      <th>id</th>\n",
       "      <th>title</th>\n",
       "      <th>type</th>\n",
       "      <th>release_year</th>\n",
       "      <th>runtime</th>\n",
       "      <th>imdb_id</th>\n",
       "      <th>imdb_score</th>\n",
       "      <th>imdb_votes</th>\n",
       "      <th>tmdb_popularity</th>\n",
       "      <th>tmdb_score</th>\n",
       "      <th>genre</th>\n",
       "      <th>program_type</th>\n",
       "      <th>Platform</th>\n",
       "      <th>decade</th>\n",
       "    </tr>\n",
       "  </thead>\n",
       "  <tbody>\n",
       "    <tr>\n",
       "      <th>528</th>\n",
       "      <td>Hulu</td>\n",
       "      <td>ts20005</td>\n",
       "      <td>I Love Lucy</td>\n",
       "      <td>SHOW</td>\n",
       "      <td>1951</td>\n",
       "      <td>30</td>\n",
       "      <td>tt0043208</td>\n",
       "      <td>8.5</td>\n",
       "      <td>25944.0</td>\n",
       "      <td>17.088</td>\n",
       "      <td>8.1</td>\n",
       "      <td>3</td>\n",
       "      <td>1</td>\n",
       "      <td>3</td>\n",
       "      <td>1</td>\n",
       "    </tr>\n",
       "    <tr>\n",
       "      <th>529</th>\n",
       "      <td>Hulu</td>\n",
       "      <td>ts20690</td>\n",
       "      <td>The Lucy Show</td>\n",
       "      <td>SHOW</td>\n",
       "      <td>1962</td>\n",
       "      <td>30</td>\n",
       "      <td>tt0055686</td>\n",
       "      <td>7.2</td>\n",
       "      <td>2797.0</td>\n",
       "      <td>8.858</td>\n",
       "      <td>7.5</td>\n",
       "      <td>3</td>\n",
       "      <td>1</td>\n",
       "      <td>3</td>\n",
       "      <td>1</td>\n",
       "    </tr>\n",
       "    <tr>\n",
       "      <th>530</th>\n",
       "      <td>Hulu</td>\n",
       "      <td>tm19438</td>\n",
       "      <td>The Princess Bride</td>\n",
       "      <td>MOVIE</td>\n",
       "      <td>1987</td>\n",
       "      <td>99</td>\n",
       "      <td>tt0093779</td>\n",
       "      <td>8.0</td>\n",
       "      <td>420521.0</td>\n",
       "      <td>21.284</td>\n",
       "      <td>7.7</td>\n",
       "      <td>9</td>\n",
       "      <td>2</td>\n",
       "      <td>3</td>\n",
       "      <td>3</td>\n",
       "    </tr>\n",
       "    <tr>\n",
       "      <th>531</th>\n",
       "      <td>Hulu</td>\n",
       "      <td>ts20711</td>\n",
       "      <td>The Simpsons</td>\n",
       "      <td>SHOW</td>\n",
       "      <td>1989</td>\n",
       "      <td>27</td>\n",
       "      <td>tt0096697</td>\n",
       "      <td>8.7</td>\n",
       "      <td>394764.0</td>\n",
       "      <td>516.381</td>\n",
       "      <td>7.9</td>\n",
       "      <td>2</td>\n",
       "      <td>1</td>\n",
       "      <td>3</td>\n",
       "      <td>3</td>\n",
       "    </tr>\n",
       "    <tr>\n",
       "      <th>532</th>\n",
       "      <td>Hulu</td>\n",
       "      <td>tm180542</td>\n",
       "      <td>Once Upon a Time in America</td>\n",
       "      <td>MOVIE</td>\n",
       "      <td>1984</td>\n",
       "      <td>229</td>\n",
       "      <td>tt0087843</td>\n",
       "      <td>8.3</td>\n",
       "      <td>342335.0</td>\n",
       "      <td>21.322</td>\n",
       "      <td>8.4</td>\n",
       "      <td>6</td>\n",
       "      <td>2</td>\n",
       "      <td>3</td>\n",
       "      <td>3</td>\n",
       "    </tr>\n",
       "  </tbody>\n",
       "</table>\n",
       "</div>"
      ],
      "text/plain": [
       "    platform        id                        title   type  release_year  \\\n",
       "528     Hulu   ts20005                  I Love Lucy   SHOW          1951   \n",
       "529     Hulu   ts20690                The Lucy Show   SHOW          1962   \n",
       "530     Hulu   tm19438           The Princess Bride  MOVIE          1987   \n",
       "531     Hulu   ts20711                 The Simpsons   SHOW          1989   \n",
       "532     Hulu  tm180542  Once Upon a Time in America  MOVIE          1984   \n",
       "\n",
       "     runtime    imdb_id  imdb_score  imdb_votes  tmdb_popularity  tmdb_score  \\\n",
       "528       30  tt0043208         8.5     25944.0           17.088         8.1   \n",
       "529       30  tt0055686         7.2      2797.0            8.858         7.5   \n",
       "530       99  tt0093779         8.0    420521.0           21.284         7.7   \n",
       "531       27  tt0096697         8.7    394764.0          516.381         7.9   \n",
       "532      229  tt0087843         8.3    342335.0           21.322         8.4   \n",
       "\n",
       "    genre program_type Platform  decade  \n",
       "528     3            1        3       1  \n",
       "529     3            1        3       1  \n",
       "530     9            2        3       3  \n",
       "531     2            1        3       3  \n",
       "532     6            2        3       3  "
      ]
     },
     "execution_count": 58,
     "metadata": {},
     "output_type": "execute_result"
    }
   ],
   "source": [
    "hulu1.head()"
   ]
  },
  {
   "cell_type": "code",
   "execution_count": 59,
   "id": "4db5a9d4",
   "metadata": {},
   "outputs": [],
   "source": [
    "disney1['genre'] = disney1['genre'].astype(int)\n",
    "disney1['tmdb_score'] = disney1['tmdb_score'].astype(float)"
   ]
  },
  {
   "cell_type": "code",
   "execution_count": 60,
   "id": "f11e9482",
   "metadata": {},
   "outputs": [
    {
     "data": {
      "text/plain": [
       "genre\n",
       "1     7.165217\n",
       "10    6.514286\n",
       "11    6.900000\n",
       "12    7.050000\n",
       "13    7.526087\n",
       "14    6.789189\n",
       "15    7.110938\n",
       "17    6.923077\n",
       "18    8.400000\n",
       "19    6.725000\n",
       "2     6.743662\n",
       "3     6.658844\n",
       "4     7.375000\n",
       "5     7.297143\n",
       "6     6.909709\n",
       "9     6.759740\n",
       "Name: tmdb_score, dtype: float64"
      ]
     },
     "execution_count": 60,
     "metadata": {},
     "output_type": "execute_result"
    }
   ],
   "source": [
    "disney_df.groupby('genre')['tmdb_score'].mean()"
   ]
  },
  {
   "cell_type": "code",
   "execution_count": 61,
   "id": "d3d0d74e",
   "metadata": {},
   "outputs": [],
   "source": [
    "amazon1['genre'] = amazon1['genre'].astype(int)\n",
    "amazon1['tmdb_score'] = amazon1['tmdb_score'].astype(float)"
   ]
  },
  {
   "cell_type": "code",
   "execution_count": 62,
   "id": "29ed949f",
   "metadata": {},
   "outputs": [
    {
     "data": {
      "text/plain": [
       "genre\n",
       "1     5.970309\n",
       "10    6.678125\n",
       "11    5.032969\n",
       "12    6.718333\n",
       "13    7.055714\n",
       "14    5.866820\n",
       "15    5.939394\n",
       "16    6.350000\n",
       "17    5.621270\n",
       "18    6.897674\n",
       "19    5.320946\n",
       "2     6.924026\n",
       "3     5.975776\n",
       "4     6.064113\n",
       "5     6.824802\n",
       "6     6.155075\n",
       "7     5.850000\n",
       "8     6.549425\n",
       "9     5.796111\n",
       "Name: tmdb_score, dtype: float64"
      ]
     },
     "execution_count": 62,
     "metadata": {},
     "output_type": "execute_result"
    }
   ],
   "source": [
    "amazon_df.groupby('genre')['tmdb_score'].mean()"
   ]
  },
  {
   "cell_type": "code",
   "execution_count": 63,
   "id": "d3493d30",
   "metadata": {},
   "outputs": [],
   "source": [
    "netflix1['genre'] = netflix1['genre'].astype(int)\n",
    "netflix1['tmdb_score'] = netflix1['tmdb_score'].astype(float)"
   ]
  },
  {
   "cell_type": "code",
   "execution_count": 64,
   "id": "cd40a4ba",
   "metadata": {},
   "outputs": [],
   "source": [
    "\n",
    "netflix_avg = netflix_df.groupby('genre')['tmdb_score'].mean()\n"
   ]
  },
  {
   "cell_type": "code",
   "execution_count": 65,
   "id": "26579ccf",
   "metadata": {},
   "outputs": [
    {
     "data": {
      "text/plain": [
       "<AxesSubplot: xlabel='genre'>"
      ]
     },
     "execution_count": 65,
     "metadata": {},
     "output_type": "execute_result"
    },
    {
     "data": {
      "image/png": "[encoded data removed]",
      "text/plain": [
       "<Figure size 432x288 with 1 Axes>"
      ]
     },
     "metadata": {
      "needs_background": "light"
     },
     "output_type": "display_data"
    }
   ],
   "source": [
    "netflix_avg.plot(kind='bar')"
   ]
  },
  {
   "cell_type": "code",
   "execution_count": 66,
   "id": "4bb84254",
   "metadata": {},
   "outputs": [],
   "source": [
    "amazon1['genre'] = amazon1['genre'].astype(int)\n",
    "amazon1['tmdb_score'] = amazon1['tmdb_score'].astype(float)"
   ]
  },
  {
   "cell_type": "code",
   "execution_count": 67,
   "id": "6f66373d",
   "metadata": {},
   "outputs": [],
   "source": [
    "amazon_avg = amazon_df.groupby('genre')['tmdb_score'].mean()"
   ]
  },
  {
   "cell_type": "code",
   "execution_count": 68,
   "id": "b559ed49",
   "metadata": {},
   "outputs": [
    {
     "data": {
      "text/plain": [
       "<AxesSubplot: xlabel='genre'>"
      ]
     },
     "execution_count": 68,
     "metadata": {},
     "output_type": "execute_result"
    },
    {
     "data": {
      "image/png": "[encoded data removed]",
      "text/plain": [
       "<Figure size 432x288 with 1 Axes>"
      ]
     },
     "metadata": {
      "needs_background": "light"
     },
     "output_type": "display_data"
    }
   ],
   "source": [
    "amazon_avg.plot(kind='bar')"
   ]
  },
  {
   "cell_type": "code",
   "execution_count": 69,
   "id": "9955e656",
   "metadata": {},
   "outputs": [],
   "source": [
    "disney1['genre'] = disney1['genre'].astype(int)\n",
    "disney1['tmdb_score'] = disney1['tmdb_score'].astype(float)"
   ]
  },
  {
   "cell_type": "code",
   "execution_count": 70,
   "id": "49c5a089",
   "metadata": {},
   "outputs": [],
   "source": [
    "disney_avg = disney_df.groupby('genre')['tmdb_score'].mean()"
   ]
  },
  {
   "cell_type": "code",
   "execution_count": 71,
   "id": "586c74fc",
   "metadata": {},
   "outputs": [
    {
     "data": {
      "text/plain": [
       "<AxesSubplot: xlabel='genre'>"
      ]
     },
     "execution_count": 71,
     "metadata": {},
     "output_type": "execute_result"
    },
    {
     "data": {
      "image/png": "[encoded data removed]",
      "text/plain": [
       "<Figure size 432x288 with 1 Axes>"
      ]
     },
     "metadata": {
      "needs_background": "light"
     },
     "output_type": "display_data"
    }
   ],
   "source": [
    "disney_avg.plot(kind='bar')"
   ]
  },
  {
   "cell_type": "code",
   "execution_count": 72,
   "id": "2a899b4a",
   "metadata": {},
   "outputs": [],
   "source": [
    "import seaborn as sns\n",
    "%matplotlib inline\n",
    "from sklearn.cluster import KMeans"
   ]
  },
  {
   "cell_type": "code",
   "execution_count": 73,
   "id": "77a11da7",
   "metadata": {},
   "outputs": [],
   "source": [
    "sd2 = sd1.drop(['id', 'runtime','release_year','imdb_id','imdb_score','imdb_votes','program_type','Rating'], axis=1)"
   ]
  },
  {
   "cell_type": "code",
   "execution_count": 74,
   "id": "0ff56474",
   "metadata": {},
   "outputs": [
    {
     "data": {
      "text/html": [
       "<div>\n",
       "<style scoped>\n",
       "    .dataframe tbody tr th:only-of-type {\n",
       "        vertical-align: middle;\n",
       "    }\n",
       "\n",
       "    .dataframe tbody tr th {\n",
       "        vertical-align: top;\n",
       "    }\n",
       "\n",
       "    .dataframe thead th {\n",
       "        text-align: right;\n",
       "    }\n",
       "</style>\n",
       "<table border=\"1\" class=\"dataframe\">\n",
       "  <thead>\n",
       "    <tr style=\"text-align: right;\">\n",
       "      <th></th>\n",
       "      <th>tmdb_popularity</th>\n",
       "      <th>tmdb_score</th>\n",
       "      <th>genre</th>\n",
       "      <th>Platform</th>\n",
       "      <th>decade</th>\n",
       "      <th>Rating1</th>\n",
       "    </tr>\n",
       "  </thead>\n",
       "  <tbody>\n",
       "    <tr>\n",
       "      <th>0</th>\n",
       "      <td>21.284</td>\n",
       "      <td>7.7</td>\n",
       "      <td>9</td>\n",
       "      <td>2</td>\n",
       "      <td>3</td>\n",
       "      <td>1.0</td>\n",
       "    </tr>\n",
       "    <tr>\n",
       "      <th>1</th>\n",
       "      <td>516.381</td>\n",
       "      <td>7.9</td>\n",
       "      <td>2</td>\n",
       "      <td>2</td>\n",
       "      <td>3</td>\n",
       "      <td>1.0</td>\n",
       "    </tr>\n",
       "    <tr>\n",
       "      <th>2</th>\n",
       "      <td>18.117</td>\n",
       "      <td>7.0</td>\n",
       "      <td>2</td>\n",
       "      <td>2</td>\n",
       "      <td>3</td>\n",
       "      <td>1.0</td>\n",
       "    </tr>\n",
       "    <tr>\n",
       "      <th>3</th>\n",
       "      <td>8.697</td>\n",
       "      <td>6.8</td>\n",
       "      <td>2</td>\n",
       "      <td>2</td>\n",
       "      <td>4</td>\n",
       "      <td>1.0</td>\n",
       "    </tr>\n",
       "    <tr>\n",
       "      <th>4</th>\n",
       "      <td>37.730</td>\n",
       "      <td>6.5</td>\n",
       "      <td>9</td>\n",
       "      <td>2</td>\n",
       "      <td>5</td>\n",
       "      <td>1.0</td>\n",
       "    </tr>\n",
       "  </tbody>\n",
       "</table>\n",
       "</div>"
      ],
      "text/plain": [
       "   tmdb_popularity  tmdb_score  genre  Platform  decade  Rating1\n",
       "0           21.284         7.7      9         2       3      1.0\n",
       "1          516.381         7.9      2         2       3      1.0\n",
       "2           18.117         7.0      2         2       3      1.0\n",
       "3            8.697         6.8      2         2       4      1.0\n",
       "4           37.730         6.5      9         2       5      1.0"
      ]
     },
     "execution_count": 74,
     "metadata": {},
     "output_type": "execute_result"
    }
   ],
   "source": [
    "sd2.head()"
   ]
  },
  {
   "cell_type": "code",
   "execution_count": 75,
   "id": "ff4a3737",
   "metadata": {},
   "outputs": [
    {
     "name": "stdout",
     "output_type": "stream",
     "text": [
      "tmdb_popularity    float64\n",
      "tmdb_score         float64\n",
      "genre                int32\n",
      "Platform             int32\n",
      "decade               int64\n",
      "Rating1            float64\n",
      "dtype: object\n"
     ]
    }
   ],
   "source": [
    "print(sd2.dtypes)"
   ]
  },
  {
   "cell_type": "code",
   "execution_count": 76,
   "id": "1edb0532",
   "metadata": {},
   "outputs": [
    {
     "data": {
      "text/html": [
       "<style>#sk-container-id-1 {color: black;background-color: white;}#sk-container-id-1 pre{padding: 0;}#sk-container-id-1 div.sk-toggleable {background-color: white;}#sk-container-id-1 label.sk-toggleable__label {cursor: pointer;display: block;width: 100%;margin-bottom: 0;padding: 0.3em;box-sizing: border-box;text-align: center;}#sk-container-id-1 label.sk-toggleable__label-arrow:before {content: \"▸\";float: left;margin-right: 0.25em;color: #696969;}#sk-container-id-1 label.sk-toggleable__label-arrow:hover:before {color: black;}#sk-container-id-1 div.sk-estimator:hover label.sk-toggleable__label-arrow:before {color: black;}#sk-container-id-1 div.sk-toggleable__content {max-height: 0;max-width: 0;overflow: hidden;text-align: left;background-color: #f0f8ff;}#sk-container-id-1 div.sk-toggleable__content pre {margin: 0.2em;color: black;border-radius: 0.25em;background-color: #f0f8ff;}#sk-container-id-1 input.sk-toggleable__control:checked~div.sk-toggleable__content {max-height: 200px;max-width: 100%;overflow: auto;}#sk-container-id-1 input.sk-toggleable__control:checked~label.sk-toggleable__label-arrow:before {content: \"▾\";}#sk-container-id-1 div.sk-estimator input.sk-toggleable__control:checked~label.sk-toggleable__label {background-color: #d4ebff;}#sk-container-id-1 div.sk-label input.sk-toggleable__control:checked~label.sk-toggleable__label {background-color: #d4ebff;}#sk-container-id-1 input.sk-hidden--visually {border: 0;clip: rect(1px 1px 1px 1px);clip: rect(1px, 1px, 1px, 1px);height: 1px;margin: -1px;overflow: hidden;padding: 0;position: absolute;width: 1px;}#sk-container-id-1 div.sk-estimator {font-family: monospace;background-color: #f0f8ff;border: 1px dotted black;border-radius: 0.25em;box-sizing: border-box;margin-bottom: 0.5em;}#sk-container-id-1 div.sk-estimator:hover {background-color: #d4ebff;}#sk-container-id-1 div.sk-parallel-item::after {content: \"\";width: 100%;border-bottom: 1px solid gray;flex-grow: 1;}#sk-container-id-1 div.sk-label:hover label.sk-toggleable__label {background-color: #d4ebff;}#sk-container-id-1 div.sk-serial::before {content: \"\";position: absolute;border-left: 1px solid gray;box-sizing: border-box;top: 0;bottom: 0;left: 50%;z-index: 0;}#sk-container-id-1 div.sk-serial {display: flex;flex-direction: column;align-items: center;background-color: white;padding-right: 0.2em;padding-left: 0.2em;position: relative;}#sk-container-id-1 div.sk-item {position: relative;z-index: 1;}#sk-container-id-1 div.sk-parallel {display: flex;align-items: stretch;justify-content: center;background-color: white;position: relative;}#sk-container-id-1 div.sk-item::before, #sk-container-id-1 div.sk-parallel-item::before {content: \"\";position: absolute;border-left: 1px solid gray;box-sizing: border-box;top: 0;bottom: 0;left: 50%;z-index: -1;}#sk-container-id-1 div.sk-parallel-item {display: flex;flex-direction: column;z-index: 1;position: relative;background-color: white;}#sk-container-id-1 div.sk-parallel-item:first-child::after {align-self: flex-end;width: 50%;}#sk-container-id-1 div.sk-parallel-item:last-child::after {align-self: flex-start;width: 50%;}#sk-container-id-1 div.sk-parallel-item:only-child::after {width: 0;}#sk-container-id-1 div.sk-dashed-wrapped {border: 1px dashed gray;margin: 0 0.4em 0.5em 0.4em;box-sizing: border-box;padding-bottom: 0.4em;background-color: white;}#sk-container-id-1 div.sk-label label {font-family: monospace;font-weight: bold;display: inline-block;line-height: 1.2em;}#sk-container-id-1 div.sk-label-container {text-align: center;}#sk-container-id-1 div.sk-container {/* jupyter's `normalize.less` sets `[hidden] { display: none; }` but bootstrap.min.css set `[hidden] { display: none !important; }` so we also need the `!important` here to be able to override the default hidden behavior on the sphinx rendered scikit-learn.org. See: https://github.com/scikit-learn/scikit-learn/issues/21755 */display: inline-block !important;position: relative;}#sk-container-id-1 div.sk-text-repr-fallback {display: none;}</style><div id=\"sk-container-id-1\" class=\"sk-top-container\"><div class=\"sk-text-repr-fallback\"><pre>KMeans(n_clusters=15)</pre><b>In a Jupyter environment, please rerun this cell to show the HTML representation or trust the notebook. <br />On GitHub, the HTML representation is unable to render, please try loading this page with nbviewer.org.</b></div><div class=\"sk-container\" hidden><div class=\"sk-item\"><div class=\"sk-estimator sk-toggleable\"><input class=\"sk-toggleable__control sk-hidden--visually\" id=\"sk-estimator-id-1\" type=\"checkbox\" checked><label for=\"sk-estimator-id-1\" class=\"sk-toggleable__label sk-toggleable__label-arrow\">KMeans</label><div class=\"sk-toggleable__content\"><pre>KMeans(n_clusters=15)</pre></div></div></div></div></div>"
      ],
      "text/plain": [
       "KMeans(n_clusters=15)"
      ]
     },
     "execution_count": 76,
     "metadata": {},
     "output_type": "execute_result"
    }
   ],
   "source": [
    "kmeans = KMeans(n_clusters=15)\n",
    "kmeans.fit(sd2)"
   ]
  },
  {
   "cell_type": "code",
   "execution_count": 77,
   "id": "58848445",
   "metadata": {},
   "outputs": [
    {
     "data": {
      "text/plain": [
       "<matplotlib.collections.PathCollection at 0x2aa3d68e0e0>"
      ]
     },
     "execution_count": 77,
     "metadata": {},
     "output_type": "execute_result"
    },
    {
     "data": {
      "image/png": "[encoded data removed]",
      "text/plain": [
       "<Figure size 720x432 with 1 Axes>"
      ]
     },
     "metadata": {
      "needs_background": "light"
     },
     "output_type": "display_data"
    }
   ],
   "source": [
    "plt.figure(figsize=(10,6))\n",
    "plt.title('K Means')\n",
    "plt.scatter(sd2['tmdb_score'], sd2['genre'], c=kmeans.labels_, cmap='viridis')"
   ]
  },
  {
   "cell_type": "code",
   "execution_count": 78,
   "id": "82239203",
   "metadata": {},
   "outputs": [
    {
     "data": {
      "text/plain": [
       "<matplotlib.collections.PathCollection at 0x2aa3d68c520>"
      ]
     },
     "execution_count": 78,
     "metadata": {},
     "output_type": "execute_result"
    },
    {
     "data": {
      "image/png": "[encoded data removed]",
      "text/plain": [
       "<Figure size 720x432 with 1 Axes>"
      ]
     },
     "metadata": {
      "needs_background": "light"
     },
     "output_type": "display_data"
    }
   ],
   "source": [
    "plt.figure(figsize=(10,6))\n",
    "plt.title('K Means')\n",
    "plt.scatter(sd2['tmdb_score'], sd2['Platform'], c=kmeans.labels_, cmap='viridis')"
   ]
  },
  {
   "cell_type": "code",
   "execution_count": 79,
   "id": "6c5a1a26",
   "metadata": {},
   "outputs": [
    {
     "data": {
      "text/plain": [
       "<matplotlib.collections.PathCollection at 0x2aa5898f0a0>"
      ]
     },
     "execution_count": 79,
     "metadata": {},
     "output_type": "execute_result"
    },
    {
     "data": {
      "image/png": "[encoded data removed]",
      "text/plain": [
       "<Figure size 720x432 with 1 Axes>"
      ]
     },
     "metadata": {
      "needs_background": "light"
     },
     "output_type": "display_data"
    }
   ],
   "source": [
    "plt.figure(figsize=(10,6))\n",
    "plt.title('K Means')\n",
    "plt.scatter(sd2['tmdb_score'], sd2['decade'], c=kmeans.labels_, cmap='viridis')"
   ]
  },
  {
   "cell_type": "code",
   "execution_count": 80,
   "id": "1db504bb",
   "metadata": {},
   "outputs": [
    {
     "data": {
      "text/plain": [
       "<matplotlib.collections.PathCollection at 0x2aa589466b0>"
      ]
     },
     "execution_count": 80,
     "metadata": {},
     "output_type": "execute_result"
    },
    {
     "data": {
      "image/png": "[encoded data removed]",
      "text/plain": [
       "<Figure size 720x432 with 1 Axes>"
      ]
     },
     "metadata": {
      "needs_background": "light"
     },
     "output_type": "display_data"
    }
   ],
   "source": [
    "plt.figure(figsize=(10,6))\n",
    "plt.title('K Means')\n",
    "plt.scatter(sd2['tmdb_popularity'], sd2['Platform'], c=kmeans.labels_, cmap='viridis')"
   ]
  },
  {
   "cell_type": "code",
   "execution_count": 81,
   "id": "1607ab56",
   "metadata": {},
   "outputs": [
    {
     "data": {
      "text/plain": [
       "<matplotlib.collections.PathCollection at 0x2aa58a4add0>"
      ]
     },
     "execution_count": 81,
     "metadata": {},
     "output_type": "execute_result"
    },
    {
     "data": {
      "image/png": "[encoded data removed]",
      "text/plain": [
       "<Figure size 720x432 with 1 Axes>"
      ]
     },
     "metadata": {
      "needs_background": "light"
     },
     "output_type": "display_data"
    }
   ],
   "source": [
    "plt.figure(figsize=(10,6))\n",
    "plt.title('K Means')\n",
    "plt.scatter(sd2['tmdb_popularity'], sd2['genre'], c=kmeans.labels_, cmap='viridis')"
   ]
  },
  {
   "cell_type": "code",
   "execution_count": 82,
   "id": "7da581b4",
   "metadata": {},
   "outputs": [
    {
     "data": {
      "text/plain": [
       "<matplotlib.collections.PathCollection at 0x2aa57aee6b0>"
      ]
     },
     "execution_count": 82,
     "metadata": {},
     "output_type": "execute_result"
    },
    {
     "data": {
      "image/png": "[encoded data removed]",
      "text/plain": [
       "<Figure size 720x432 with 1 Axes>"
      ]
     },
     "metadata": {
      "needs_background": "light"
     },
     "output_type": "display_data"
    }
   ],
   "source": [
    "plt.figure(figsize=(10,6))\n",
    "plt.title('K Means')\n",
    "plt.scatter(sd2['tmdb_popularity'], sd2['decade'], c=kmeans.labels_, cmap='viridis')"
   ]
  },
  {
   "cell_type": "code",
   "execution_count": 83,
   "id": "7aa59497",
   "metadata": {},
   "outputs": [
    {
     "data": {
      "text/plain": [
       "<matplotlib.collections.PathCollection at 0x2aa58c76860>"
      ]
     },
     "execution_count": 83,
     "metadata": {},
     "output_type": "execute_result"
    },
    {
     "data": {
      "image/png": "[encoded data removed]",
      "text/plain": [
       "<Figure size 720x432 with 1 Axes>"
      ]
     },
     "metadata": {
      "needs_background": "light"
     },
     "output_type": "display_data"
    }
   ],
   "source": [
    "plt.figure(figsize=(10,6))\n",
    "plt.title('K Means')\n",
    "plt.scatter(sd2['Platform'], sd2['genre'], c=kmeans.labels_, cmap='viridis')"
   ]
  },
  {
   "cell_type": "code",
   "execution_count": 84,
   "id": "c03dd507",
   "metadata": {},
   "outputs": [
    {
     "data": {
      "text/plain": [
       "<matplotlib.collections.PathCollection at 0x2aa5753ea40>"
      ]
     },
     "execution_count": 84,
     "metadata": {},
     "output_type": "execute_result"
    },
    {
     "data": {
      "image/png": "[encoded data removed]",
      "text/plain": [
       "<Figure size 720x504 with 1 Axes>"
      ]
     },
     "metadata": {
      "needs_background": "light"
     },
     "output_type": "display_data"
    }
   ],
   "source": [
    "plt.figure(figsize=(10,7))\n",
    "plt.title('K Means')\n",
    "plt.scatter(sd2['decade'], sd2['genre'], c=kmeans.labels_, cmap='viridis')"
   ]
  },
  {
   "cell_type": "code",
   "execution_count": 85,
   "id": "8b38d36d",
   "metadata": {},
   "outputs": [
    {
     "data": {
      "text/plain": [
       "<matplotlib.collections.PathCollection at 0x2aa58aedea0>"
      ]
     },
     "execution_count": 85,
     "metadata": {},
     "output_type": "execute_result"
    },
    {
     "data": {
      "image/png": "[encoded data removed]",
      "text/plain": [
       "<Figure size 720x504 with 1 Axes>"
      ]
     },
     "metadata": {
      "needs_background": "light"
     },
     "output_type": "display_data"
    }
   ],
   "source": [
    "plt.figure(figsize=(10,7))\n",
    "plt.title('K Means')\n",
    "plt.scatter(sd2['tmdb_popularity'], sd2['tmdb_score'], c=kmeans.labels_, cmap='viridis')"
   ]
  },
  {
   "cell_type": "code",
   "execution_count": 86,
   "id": "5cb09693",
   "metadata": {},
   "outputs": [],
   "source": [
    "sd2['Category'] = kmeans.labels_"
   ]
  },
  {
   "cell_type": "code",
   "execution_count": 87,
   "id": "597ceb44",
   "metadata": {},
   "outputs": [
    {
     "data": {
      "text/html": [
       "<div>\n",
       "<style scoped>\n",
       "    .dataframe tbody tr th:only-of-type {\n",
       "        vertical-align: middle;\n",
       "    }\n",
       "\n",
       "    .dataframe tbody tr th {\n",
       "        vertical-align: top;\n",
       "    }\n",
       "\n",
       "    .dataframe thead th {\n",
       "        text-align: right;\n",
       "    }\n",
       "</style>\n",
       "<table border=\"1\" class=\"dataframe\">\n",
       "  <thead>\n",
       "    <tr style=\"text-align: right;\">\n",
       "      <th></th>\n",
       "      <th>tmdb_popularity</th>\n",
       "      <th>tmdb_score</th>\n",
       "      <th>genre</th>\n",
       "      <th>Platform</th>\n",
       "      <th>decade</th>\n",
       "      <th>Rating1</th>\n",
       "      <th>Category</th>\n",
       "    </tr>\n",
       "  </thead>\n",
       "  <tbody>\n",
       "    <tr>\n",
       "      <th>0</th>\n",
       "      <td>21.284</td>\n",
       "      <td>7.7</td>\n",
       "      <td>9</td>\n",
       "      <td>2</td>\n",
       "      <td>3</td>\n",
       "      <td>1.0</td>\n",
       "      <td>0</td>\n",
       "    </tr>\n",
       "    <tr>\n",
       "      <th>1</th>\n",
       "      <td>516.381</td>\n",
       "      <td>7.9</td>\n",
       "      <td>2</td>\n",
       "      <td>2</td>\n",
       "      <td>3</td>\n",
       "      <td>1.0</td>\n",
       "      <td>3</td>\n",
       "    </tr>\n",
       "    <tr>\n",
       "      <th>2</th>\n",
       "      <td>18.117</td>\n",
       "      <td>7.0</td>\n",
       "      <td>2</td>\n",
       "      <td>2</td>\n",
       "      <td>3</td>\n",
       "      <td>1.0</td>\n",
       "      <td>0</td>\n",
       "    </tr>\n",
       "    <tr>\n",
       "      <th>3</th>\n",
       "      <td>8.697</td>\n",
       "      <td>6.8</td>\n",
       "      <td>2</td>\n",
       "      <td>2</td>\n",
       "      <td>4</td>\n",
       "      <td>1.0</td>\n",
       "      <td>5</td>\n",
       "    </tr>\n",
       "    <tr>\n",
       "      <th>4</th>\n",
       "      <td>37.730</td>\n",
       "      <td>6.5</td>\n",
       "      <td>9</td>\n",
       "      <td>2</td>\n",
       "      <td>5</td>\n",
       "      <td>1.0</td>\n",
       "      <td>9</td>\n",
       "    </tr>\n",
       "  </tbody>\n",
       "</table>\n",
       "</div>"
      ],
      "text/plain": [
       "   tmdb_popularity  tmdb_score  genre  Platform  decade  Rating1  Category\n",
       "0           21.284         7.7      9         2       3      1.0         0\n",
       "1          516.381         7.9      2         2       3      1.0         3\n",
       "2           18.117         7.0      2         2       3      1.0         0\n",
       "3            8.697         6.8      2         2       4      1.0         5\n",
       "4           37.730         6.5      9         2       5      1.0         9"
      ]
     },
     "execution_count": 87,
     "metadata": {},
     "output_type": "execute_result"
    }
   ],
   "source": [
    "sd2.head()"
   ]
  },
  {
   "cell_type": "code",
   "execution_count": 88,
   "id": "51a74f99",
   "metadata": {},
   "outputs": [
    {
     "data": {
      "text/plain": [
       "5     8335\n",
       "14    3555\n",
       "0     2219\n",
       "9      818\n",
       "4      334\n",
       "11     136\n",
       "8       77\n",
       "13      50\n",
       "3       28\n",
       "10      12\n",
       "6        7\n",
       "7        4\n",
       "2        2\n",
       "1        1\n",
       "12       1\n",
       "Name: Category, dtype: int64"
      ]
     },
     "execution_count": 88,
     "metadata": {},
     "output_type": "execute_result"
    }
   ],
   "source": [
    "sd2.Category.value_counts()"
   ]
  },
  {
   "cell_type": "code",
   "execution_count": 89,
   "id": "b26964d6",
   "metadata": {},
   "outputs": [
    {
     "data": {
      "text/plain": [
       "Category\n",
       "0      7.187922\n",
       "1      1.000000\n",
       "2      3.000000\n",
       "3      7.892857\n",
       "4      7.359281\n",
       "5      4.441512\n",
       "6     10.142857\n",
       "7     11.000000\n",
       "8      7.584416\n",
       "9      7.856968\n",
       "10     7.666667\n",
       "11     6.669118\n",
       "12     6.000000\n",
       "13     7.740000\n",
       "14    14.978059\n",
       "Name: genre, dtype: float64"
      ]
     },
     "execution_count": 89,
     "metadata": {},
     "output_type": "execute_result"
    }
   ],
   "source": [
    "sd2.groupby('Category')['genre'].mean()"
   ]
  },
  {
   "cell_type": "code",
   "execution_count": 90,
   "id": "deb0e9a2",
   "metadata": {},
   "outputs": [
    {
     "data": {
      "text/plain": [
       "Category\n",
       "0       22.166425\n",
       "1     9323.832000\n",
       "2     1695.829500\n",
       "3      553.960714\n",
       "4       97.000123\n",
       "5        4.627168\n",
       "6     1282.435143\n",
       "7     2279.599500\n",
       "8      245.253065\n",
       "9       51.763242\n",
       "10     899.418750\n",
       "11     159.448831\n",
       "12    2989.846000\n",
       "13     368.761420\n",
       "14       5.028625\n",
       "Name: tmdb_popularity, dtype: float64"
      ]
     },
     "execution_count": 90,
     "metadata": {},
     "output_type": "execute_result"
    }
   ],
   "source": [
    "sd2.groupby('Category')['tmdb_popularity'].mean()"
   ]
  },
  {
   "cell_type": "code",
   "execution_count": 91,
   "id": "8eae5012",
   "metadata": {},
   "outputs": [
    {
     "data": {
      "text/plain": [
       "Category\n",
       "0     5.760703\n",
       "1     7.000000\n",
       "2     7.000000\n",
       "3     6.250000\n",
       "4     5.964072\n",
       "5     5.403479\n",
       "6     6.714286\n",
       "7     6.500000\n",
       "8     6.298701\n",
       "9     5.878973\n",
       "10    6.583333\n",
       "11    6.102941\n",
       "12    5.000000\n",
       "13    6.380000\n",
       "14    4.941772\n",
       "Name: decade, dtype: float64"
      ]
     },
     "execution_count": 91,
     "metadata": {},
     "output_type": "execute_result"
    }
   ],
   "source": [
    "sd2.groupby('Category')['decade'].mean()"
   ]
  },
  {
   "cell_type": "code",
   "execution_count": 114,
   "id": "b0f5ccd7",
   "metadata": {},
   "outputs": [],
   "source": [
    "#KNN\n",
    "from sklearn.preprocessing import StandardScaler\n",
    "from sklearn.model_selection import train_test_split\n",
    "from sklearn.neighbors import KNeighborsClassifier\n",
    "from sklearn.metrics import classification_report, confusion_matrix"
   ]
  },
  {
   "cell_type": "code",
   "execution_count": 93,
   "id": "d80464a5",
   "metadata": {},
   "outputs": [],
   "source": [
    "#Predict Rating based on genre, score, platform\n",
    "sd3 = sd2.drop(['Category', 'decade','Rating1', 'tmdb_popularity'], axis=1)"
   ]
  },
  {
   "cell_type": "code",
   "execution_count": 94,
   "id": "559c5a39",
   "metadata": {},
   "outputs": [
    {
     "data": {
      "text/html": [
       "<div>\n",
       "<style scoped>\n",
       "    .dataframe tbody tr th:only-of-type {\n",
       "        vertical-align: middle;\n",
       "    }\n",
       "\n",
       "    .dataframe tbody tr th {\n",
       "        vertical-align: top;\n",
       "    }\n",
       "\n",
       "    .dataframe thead th {\n",
       "        text-align: right;\n",
       "    }\n",
       "</style>\n",
       "<table border=\"1\" class=\"dataframe\">\n",
       "  <thead>\n",
       "    <tr style=\"text-align: right;\">\n",
       "      <th></th>\n",
       "      <th>tmdb_score</th>\n",
       "      <th>genre</th>\n",
       "      <th>Platform</th>\n",
       "    </tr>\n",
       "  </thead>\n",
       "  <tbody>\n",
       "    <tr>\n",
       "      <th>0</th>\n",
       "      <td>7.7</td>\n",
       "      <td>9</td>\n",
       "      <td>2</td>\n",
       "    </tr>\n",
       "    <tr>\n",
       "      <th>1</th>\n",
       "      <td>7.9</td>\n",
       "      <td>2</td>\n",
       "      <td>2</td>\n",
       "    </tr>\n",
       "    <tr>\n",
       "      <th>2</th>\n",
       "      <td>7.0</td>\n",
       "      <td>2</td>\n",
       "      <td>2</td>\n",
       "    </tr>\n",
       "    <tr>\n",
       "      <th>3</th>\n",
       "      <td>6.8</td>\n",
       "      <td>2</td>\n",
       "      <td>2</td>\n",
       "    </tr>\n",
       "    <tr>\n",
       "      <th>4</th>\n",
       "      <td>6.5</td>\n",
       "      <td>9</td>\n",
       "      <td>2</td>\n",
       "    </tr>\n",
       "  </tbody>\n",
       "</table>\n",
       "</div>"
      ],
      "text/plain": [
       "   tmdb_score  genre  Platform\n",
       "0         7.7      9         2\n",
       "1         7.9      2         2\n",
       "2         7.0      2         2\n",
       "3         6.8      2         2\n",
       "4         6.5      9         2"
      ]
     },
     "execution_count": 94,
     "metadata": {},
     "output_type": "execute_result"
    }
   ],
   "source": [
    "sd3.head()"
   ]
  },
  {
   "cell_type": "code",
   "execution_count": 115,
   "id": "d053ccef",
   "metadata": {},
   "outputs": [],
   "source": [
    "scaler = StandardScaler()\n",
    "scaler.fit(sd3)\n",
    "scaledVariables = scaler.transform(sd3)\n",
    "sd3scaled = pd.DataFrame(scaledVariables)"
   ]
  },
  {
   "cell_type": "code",
   "execution_count": 116,
   "id": "6963da58",
   "metadata": {},
   "outputs": [
    {
     "data": {
      "text/html": [
       "<div>\n",
       "<style scoped>\n",
       "    .dataframe tbody tr th:only-of-type {\n",
       "        vertical-align: middle;\n",
       "    }\n",
       "\n",
       "    .dataframe tbody tr th {\n",
       "        vertical-align: top;\n",
       "    }\n",
       "\n",
       "    .dataframe thead th {\n",
       "        text-align: right;\n",
       "    }\n",
       "</style>\n",
       "<table border=\"1\" class=\"dataframe\">\n",
       "  <thead>\n",
       "    <tr style=\"text-align: right;\">\n",
       "      <th></th>\n",
       "      <th>0</th>\n",
       "      <th>1</th>\n",
       "      <th>2</th>\n",
       "    </tr>\n",
       "  </thead>\n",
       "  <tbody>\n",
       "    <tr>\n",
       "      <th>0</th>\n",
       "      <td>0.901477</td>\n",
       "      <td>0.277377</td>\n",
       "      <td>-0.556709</td>\n",
       "    </tr>\n",
       "    <tr>\n",
       "      <th>1</th>\n",
       "      <td>1.045401</td>\n",
       "      <td>-1.049907</td>\n",
       "      <td>-0.556709</td>\n",
       "    </tr>\n",
       "    <tr>\n",
       "      <th>2</th>\n",
       "      <td>0.397739</td>\n",
       "      <td>-1.049907</td>\n",
       "      <td>-0.556709</td>\n",
       "    </tr>\n",
       "    <tr>\n",
       "      <th>3</th>\n",
       "      <td>0.253815</td>\n",
       "      <td>-1.049907</td>\n",
       "      <td>-0.556709</td>\n",
       "    </tr>\n",
       "    <tr>\n",
       "      <th>4</th>\n",
       "      <td>0.037927</td>\n",
       "      <td>0.277377</td>\n",
       "      <td>-0.556709</td>\n",
       "    </tr>\n",
       "  </tbody>\n",
       "</table>\n",
       "</div>"
      ],
      "text/plain": [
       "          0         1         2\n",
       "0  0.901477  0.277377 -0.556709\n",
       "1  1.045401 -1.049907 -0.556709\n",
       "2  0.397739 -1.049907 -0.556709\n",
       "3  0.253815 -1.049907 -0.556709\n",
       "4  0.037927  0.277377 -0.556709"
      ]
     },
     "execution_count": 116,
     "metadata": {},
     "output_type": "execute_result"
    }
   ],
   "source": [
    "sd3scaled.head()"
   ]
  },
  {
   "cell_type": "code",
   "execution_count": 117,
   "id": "b962e597",
   "metadata": {},
   "outputs": [],
   "source": [
    "sd3scaled.rename(columns={0: 'TMDB Score', 1: 'Genre', 2: 'Platform'}, inplace=True)"
   ]
  },
  {
   "cell_type": "code",
   "execution_count": 118,
   "id": "d1b20e0d",
   "metadata": {},
   "outputs": [
    {
     "data": {
      "text/html": [
       "<div>\n",
       "<style scoped>\n",
       "    .dataframe tbody tr th:only-of-type {\n",
       "        vertical-align: middle;\n",
       "    }\n",
       "\n",
       "    .dataframe tbody tr th {\n",
       "        vertical-align: top;\n",
       "    }\n",
       "\n",
       "    .dataframe thead th {\n",
       "        text-align: right;\n",
       "    }\n",
       "</style>\n",
       "<table border=\"1\" class=\"dataframe\">\n",
       "  <thead>\n",
       "    <tr style=\"text-align: right;\">\n",
       "      <th></th>\n",
       "      <th>TMDB Score</th>\n",
       "      <th>Genre</th>\n",
       "      <th>Platform</th>\n",
       "    </tr>\n",
       "  </thead>\n",
       "  <tbody>\n",
       "    <tr>\n",
       "      <th>0</th>\n",
       "      <td>0.901477</td>\n",
       "      <td>0.277377</td>\n",
       "      <td>-0.556709</td>\n",
       "    </tr>\n",
       "    <tr>\n",
       "      <th>1</th>\n",
       "      <td>1.045401</td>\n",
       "      <td>-1.049907</td>\n",
       "      <td>-0.556709</td>\n",
       "    </tr>\n",
       "    <tr>\n",
       "      <th>2</th>\n",
       "      <td>0.397739</td>\n",
       "      <td>-1.049907</td>\n",
       "      <td>-0.556709</td>\n",
       "    </tr>\n",
       "    <tr>\n",
       "      <th>3</th>\n",
       "      <td>0.253815</td>\n",
       "      <td>-1.049907</td>\n",
       "      <td>-0.556709</td>\n",
       "    </tr>\n",
       "    <tr>\n",
       "      <th>4</th>\n",
       "      <td>0.037927</td>\n",
       "      <td>0.277377</td>\n",
       "      <td>-0.556709</td>\n",
       "    </tr>\n",
       "  </tbody>\n",
       "</table>\n",
       "</div>"
      ],
      "text/plain": [
       "   TMDB Score     Genre  Platform\n",
       "0    0.901477  0.277377 -0.556709\n",
       "1    1.045401 -1.049907 -0.556709\n",
       "2    0.397739 -1.049907 -0.556709\n",
       "3    0.253815 -1.049907 -0.556709\n",
       "4    0.037927  0.277377 -0.556709"
      ]
     },
     "execution_count": 118,
     "metadata": {},
     "output_type": "execute_result"
    }
   ],
   "source": [
    "sd3scaled.head()"
   ]
  },
  {
   "cell_type": "code",
   "execution_count": 99,
   "id": "28ee102d",
   "metadata": {},
   "outputs": [],
   "source": [
    "x = sd3scaled\n",
    "y = sd2['Rating1']"
   ]
  },
  {
   "cell_type": "code",
   "execution_count": 100,
   "id": "2284ccff",
   "metadata": {},
   "outputs": [],
   "source": [
    "x_train, x_test, y_train, y_test = train_test_split (x,y, test_size = 0.3, random_state = 101)"
   ]
  },
  {
   "cell_type": "code",
   "execution_count": 101,
   "id": "e6b16961",
   "metadata": {},
   "outputs": [],
   "source": [
    "#anaylis and interpretation\n",
    "errorRate = []\n",
    "for i in range(1,40):\n",
    "    knn = KNeighborsClassifier(n_neighbors = i)\n",
    "    knn.fit(x_train, y_train)\n",
    "    predI = knn.predict(x_test)\n",
    "    errorRate.append(np.mean(predI != y_test))"
   ]
  },
  {
   "cell_type": "code",
   "execution_count": 102,
   "id": "a1a090d7",
   "metadata": {},
   "outputs": [
    {
     "data": {
      "text/plain": [
       "Text(0, 0.5, 'Error Rate')"
      ]
     },
     "execution_count": 102,
     "metadata": {},
     "output_type": "execute_result"
    },
    {
     "data": {
      "image/png": "[encoded data removed]",
      "text/plain": [
       "<Figure size 720x432 with 1 Axes>"
      ]
     },
     "metadata": {
      "needs_background": "light"
     },
     "output_type": "display_data"
    }
   ],
   "source": [
    "plt.figure(figsize=(10,6))\n",
    "plt.plot(range(1,40), errorRate, color='blue', linestyle='dashed', marker='o', markerfacecolor='red', markersize=10)\n",
    "plt.title('Error Rate vs K Value')\n",
    "plt.xlabel('K')\n",
    "plt.ylabel('Error Rate')"
   ]
  },
  {
   "cell_type": "code",
   "execution_count": 103,
   "id": "56ed3f12",
   "metadata": {},
   "outputs": [],
   "source": [
    "knn = KNeighborsClassifier(n_neighbors=1)\n",
    "knn.fit(x_train, y_train)\n",
    "pred = knn.predict(x_test)"
   ]
  },
  {
   "cell_type": "code",
   "execution_count": 104,
   "id": "f7d2daa3",
   "metadata": {},
   "outputs": [
    {
     "name": "stdout",
     "output_type": "stream",
     "text": [
      "[[2463    6]\n",
      " [   4 2201]]\n"
     ]
    }
   ],
   "source": [
    "print(confusion_matrix(y_test, pred))"
   ]
  },
  {
   "cell_type": "code",
   "execution_count": 105,
   "id": "b44df6d1",
   "metadata": {},
   "outputs": [
    {
     "name": "stdout",
     "output_type": "stream",
     "text": [
      "              precision    recall  f1-score   support\n",
      "\n",
      "         1.0       1.00      1.00      1.00      2469\n",
      "         2.0       1.00      1.00      1.00      2205\n",
      "\n",
      "    accuracy                           1.00      4674\n",
      "   macro avg       1.00      1.00      1.00      4674\n",
      "weighted avg       1.00      1.00      1.00      4674\n",
      "\n"
     ]
    }
   ],
   "source": [
    "#able to predict with 100% accuracy a positive or negative rating based on genre, platform and tm\n",
    "print(classification_report(y_test, pred))"
   ]
  },
  {
   "cell_type": "code",
   "execution_count": 119,
   "id": "dbdd33f6",
   "metadata": {},
   "outputs": [],
   "source": [
    "#Predict Rating based on genre, platform\n",
    "sd4 = sd3.drop(['tmdb_score'], axis=1)"
   ]
  },
  {
   "cell_type": "code",
   "execution_count": 120,
   "id": "58aea8fe",
   "metadata": {},
   "outputs": [
    {
     "data": {
      "text/html": [
       "<div>\n",
       "<style scoped>\n",
       "    .dataframe tbody tr th:only-of-type {\n",
       "        vertical-align: middle;\n",
       "    }\n",
       "\n",
       "    .dataframe tbody tr th {\n",
       "        vertical-align: top;\n",
       "    }\n",
       "\n",
       "    .dataframe thead th {\n",
       "        text-align: right;\n",
       "    }\n",
       "</style>\n",
       "<table border=\"1\" class=\"dataframe\">\n",
       "  <thead>\n",
       "    <tr style=\"text-align: right;\">\n",
       "      <th></th>\n",
       "      <th>genre</th>\n",
       "      <th>Platform</th>\n",
       "    </tr>\n",
       "  </thead>\n",
       "  <tbody>\n",
       "    <tr>\n",
       "      <th>0</th>\n",
       "      <td>9</td>\n",
       "      <td>2</td>\n",
       "    </tr>\n",
       "    <tr>\n",
       "      <th>1</th>\n",
       "      <td>2</td>\n",
       "      <td>2</td>\n",
       "    </tr>\n",
       "    <tr>\n",
       "      <th>2</th>\n",
       "      <td>2</td>\n",
       "      <td>2</td>\n",
       "    </tr>\n",
       "    <tr>\n",
       "      <th>3</th>\n",
       "      <td>2</td>\n",
       "      <td>2</td>\n",
       "    </tr>\n",
       "    <tr>\n",
       "      <th>4</th>\n",
       "      <td>9</td>\n",
       "      <td>2</td>\n",
       "    </tr>\n",
       "  </tbody>\n",
       "</table>\n",
       "</div>"
      ],
      "text/plain": [
       "   genre  Platform\n",
       "0      9         2\n",
       "1      2         2\n",
       "2      2         2\n",
       "3      2         2\n",
       "4      9         2"
      ]
     },
     "execution_count": 120,
     "metadata": {},
     "output_type": "execute_result"
    }
   ],
   "source": [
    "sd4.head()"
   ]
  },
  {
   "cell_type": "code",
   "execution_count": 113,
   "id": "95fa7017",
   "metadata": {},
   "outputs": [
    {
     "name": "stderr",
     "output_type": "stream",
     "text": [
      "C:\\Python3\\lib\\site-packages\\sklearn\\base.py:493: FutureWarning: The feature names should match those that were passed during fit. Starting version 1.2, an error will be raised.\n",
      "Feature names seen at fit time, yet now missing:\n",
      "- tmdb_score\n",
      "\n",
      "  warnings.warn(message, FutureWarning)\n"
     ]
    },
    {
     "ename": "ValueError",
     "evalue": "X has 2 features, but StandardScaler is expecting 3 features as input.",
     "output_type": "error",
     "traceback": [
      "\u001b[1;31m---------------------------------------------------------------------------\u001b[0m",
      "\u001b[1;31mValueError\u001b[0m                                Traceback (most recent call last)",
      "Input \u001b[1;32mIn [113]\u001b[0m, in \u001b[0;36m<cell line: 3>\u001b[1;34m()\u001b[0m\n\u001b[0;32m      1\u001b[0m scaler1 \u001b[38;5;241m=\u001b[39m StandardScaler()\n\u001b[0;32m      2\u001b[0m scaler1\u001b[38;5;241m.\u001b[39mfit(sd4)\n\u001b[1;32m----> 3\u001b[0m scaledVariables1 \u001b[38;5;241m=\u001b[39m \u001b[43mscaler\u001b[49m\u001b[38;5;241;43m.\u001b[39;49m\u001b[43mtransform\u001b[49m\u001b[43m(\u001b[49m\u001b[43msd4\u001b[49m\u001b[43m)\u001b[49m\n\u001b[0;32m      4\u001b[0m sd4scaled \u001b[38;5;241m=\u001b[39m pd\u001b[38;5;241m.\u001b[39mDataFrame(scaledVariables1)\n",
      "File \u001b[1;32mC:\\Python3\\lib\\site-packages\\sklearn\\preprocessing\\_data.py:975\u001b[0m, in \u001b[0;36mStandardScaler.transform\u001b[1;34m(self, X, copy)\u001b[0m\n\u001b[0;32m    972\u001b[0m check_is_fitted(\u001b[38;5;28mself\u001b[39m)\n\u001b[0;32m    974\u001b[0m copy \u001b[38;5;241m=\u001b[39m copy \u001b[38;5;28;01mif\u001b[39;00m copy \u001b[38;5;129;01mis\u001b[39;00m \u001b[38;5;129;01mnot\u001b[39;00m \u001b[38;5;28;01mNone\u001b[39;00m \u001b[38;5;28;01melse\u001b[39;00m \u001b[38;5;28mself\u001b[39m\u001b[38;5;241m.\u001b[39mcopy\n\u001b[1;32m--> 975\u001b[0m X \u001b[38;5;241m=\u001b[39m \u001b[38;5;28;43mself\u001b[39;49m\u001b[38;5;241;43m.\u001b[39;49m\u001b[43m_validate_data\u001b[49m\u001b[43m(\u001b[49m\n\u001b[0;32m    976\u001b[0m \u001b[43m    \u001b[49m\u001b[43mX\u001b[49m\u001b[43m,\u001b[49m\n\u001b[0;32m    977\u001b[0m \u001b[43m    \u001b[49m\u001b[43mreset\u001b[49m\u001b[38;5;241;43m=\u001b[39;49m\u001b[38;5;28;43;01mFalse\u001b[39;49;00m\u001b[43m,\u001b[49m\n\u001b[0;32m    978\u001b[0m \u001b[43m    \u001b[49m\u001b[43maccept_sparse\u001b[49m\u001b[38;5;241;43m=\u001b[39;49m\u001b[38;5;124;43m\"\u001b[39;49m\u001b[38;5;124;43mcsr\u001b[39;49m\u001b[38;5;124;43m\"\u001b[39;49m\u001b[43m,\u001b[49m\n\u001b[0;32m    979\u001b[0m \u001b[43m    \u001b[49m\u001b[43mcopy\u001b[49m\u001b[38;5;241;43m=\u001b[39;49m\u001b[43mcopy\u001b[49m\u001b[43m,\u001b[49m\n\u001b[0;32m    980\u001b[0m \u001b[43m    \u001b[49m\u001b[43mdtype\u001b[49m\u001b[38;5;241;43m=\u001b[39;49m\u001b[43mFLOAT_DTYPES\u001b[49m\u001b[43m,\u001b[49m\n\u001b[0;32m    981\u001b[0m \u001b[43m    \u001b[49m\u001b[43mforce_all_finite\u001b[49m\u001b[38;5;241;43m=\u001b[39;49m\u001b[38;5;124;43m\"\u001b[39;49m\u001b[38;5;124;43mallow-nan\u001b[39;49m\u001b[38;5;124;43m\"\u001b[39;49m\u001b[43m,\u001b[49m\n\u001b[0;32m    982\u001b[0m \u001b[43m\u001b[49m\u001b[43m)\u001b[49m\n\u001b[0;32m    984\u001b[0m \u001b[38;5;28;01mif\u001b[39;00m sparse\u001b[38;5;241m.\u001b[39missparse(X):\n\u001b[0;32m    985\u001b[0m     \u001b[38;5;28;01mif\u001b[39;00m \u001b[38;5;28mself\u001b[39m\u001b[38;5;241m.\u001b[39mwith_mean:\n",
      "File \u001b[1;32mC:\\Python3\\lib\\site-packages\\sklearn\\base.py:600\u001b[0m, in \u001b[0;36mBaseEstimator._validate_data\u001b[1;34m(self, X, y, reset, validate_separately, **check_params)\u001b[0m\n\u001b[0;32m    597\u001b[0m     out \u001b[38;5;241m=\u001b[39m X, y\n\u001b[0;32m    599\u001b[0m \u001b[38;5;28;01mif\u001b[39;00m \u001b[38;5;129;01mnot\u001b[39;00m no_val_X \u001b[38;5;129;01mand\u001b[39;00m check_params\u001b[38;5;241m.\u001b[39mget(\u001b[38;5;124m\"\u001b[39m\u001b[38;5;124mensure_2d\u001b[39m\u001b[38;5;124m\"\u001b[39m, \u001b[38;5;28;01mTrue\u001b[39;00m):\n\u001b[1;32m--> 600\u001b[0m     \u001b[38;5;28;43mself\u001b[39;49m\u001b[38;5;241;43m.\u001b[39;49m\u001b[43m_check_n_features\u001b[49m\u001b[43m(\u001b[49m\u001b[43mX\u001b[49m\u001b[43m,\u001b[49m\u001b[43m \u001b[49m\u001b[43mreset\u001b[49m\u001b[38;5;241;43m=\u001b[39;49m\u001b[43mreset\u001b[49m\u001b[43m)\u001b[49m\n\u001b[0;32m    602\u001b[0m \u001b[38;5;28;01mreturn\u001b[39;00m out\n",
      "File \u001b[1;32mC:\\Python3\\lib\\site-packages\\sklearn\\base.py:400\u001b[0m, in \u001b[0;36mBaseEstimator._check_n_features\u001b[1;34m(self, X, reset)\u001b[0m\n\u001b[0;32m    397\u001b[0m     \u001b[38;5;28;01mreturn\u001b[39;00m\n\u001b[0;32m    399\u001b[0m \u001b[38;5;28;01mif\u001b[39;00m n_features \u001b[38;5;241m!=\u001b[39m \u001b[38;5;28mself\u001b[39m\u001b[38;5;241m.\u001b[39mn_features_in_:\n\u001b[1;32m--> 400\u001b[0m     \u001b[38;5;28;01mraise\u001b[39;00m \u001b[38;5;167;01mValueError\u001b[39;00m(\n\u001b[0;32m    401\u001b[0m         \u001b[38;5;124mf\u001b[39m\u001b[38;5;124m\"\u001b[39m\u001b[38;5;124mX has \u001b[39m\u001b[38;5;132;01m{\u001b[39;00mn_features\u001b[38;5;132;01m}\u001b[39;00m\u001b[38;5;124m features, but \u001b[39m\u001b[38;5;132;01m{\u001b[39;00m\u001b[38;5;28mself\u001b[39m\u001b[38;5;241m.\u001b[39m\u001b[38;5;18m__class__\u001b[39m\u001b[38;5;241m.\u001b[39m\u001b[38;5;18m__name__\u001b[39m\u001b[38;5;132;01m}\u001b[39;00m\u001b[38;5;124m \u001b[39m\u001b[38;5;124m\"\u001b[39m\n\u001b[0;32m    402\u001b[0m         \u001b[38;5;124mf\u001b[39m\u001b[38;5;124m\"\u001b[39m\u001b[38;5;124mis expecting \u001b[39m\u001b[38;5;132;01m{\u001b[39;00m\u001b[38;5;28mself\u001b[39m\u001b[38;5;241m.\u001b[39mn_features_in_\u001b[38;5;132;01m}\u001b[39;00m\u001b[38;5;124m features as input.\u001b[39m\u001b[38;5;124m\"\u001b[39m\n\u001b[0;32m    403\u001b[0m     )\n",
      "\u001b[1;31mValueError\u001b[0m: X has 2 features, but StandardScaler is expecting 3 features as input."
     ]
    }
   ],
   "source": [
    "scaler1 = StandardScaler()\n",
    "scaler1.fit(sd4)\n",
    "scaledVariables1 = scaler.transform(sd4)\n",
    "sd4scaled = pd.DataFrame(scaledVariables1)"
   ]
  },
  {
   "cell_type": "code",
   "execution_count": 110,
   "id": "f4ca3f3a",
   "metadata": {},
   "outputs": [
    {
     "ename": "NameError",
     "evalue": "name 'sd4scaled' is not defined",
     "output_type": "error",
     "traceback": [
      "\u001b[1;31m---------------------------------------------------------------------------\u001b[0m",
      "\u001b[1;31mNameError\u001b[0m                                 Traceback (most recent call last)",
      "Input \u001b[1;32mIn [110]\u001b[0m, in \u001b[0;36m<cell line: 1>\u001b[1;34m()\u001b[0m\n\u001b[1;32m----> 1\u001b[0m \u001b[43msd4scaled\u001b[49m\u001b[38;5;241m.\u001b[39mhead()\n",
      "\u001b[1;31mNameError\u001b[0m: name 'sd4scaled' is not defined"
     ]
    }
   ],
   "source": [
    "sd4scaled.head()"
   ]
  },
  {
   "cell_type": "code",
   "execution_count": null,
   "id": "2146f0ce",
   "metadata": {},
   "outputs": [],
   "source": [
    "sd4scaled.rename(columns={0: 'Genre', 1: 'Platform'}, inplace=True)"
   ]
  },
  {
   "cell_type": "code",
   "execution_count": null,
   "id": "97e71e04",
   "metadata": {},
   "outputs": [],
   "source": [
    "sd4scaled.head()"
   ]
  },
  {
   "cell_type": "code",
   "execution_count": null,
   "id": "d1759b1e",
   "metadata": {},
   "outputs": [],
   "source": [
    "x = sd4scaled\n",
    "y = sd2['Rating1']"
   ]
  },
  {
   "cell_type": "code",
   "execution_count": null,
   "id": "eed62f64",
   "metadata": {},
   "outputs": [],
   "source": [
    "x_train, x_test, y_train, y_test = train_test_split (x,y, test_size = 0.3, random_state = 101)"
   ]
  },
  {
   "cell_type": "code",
   "execution_count": 121,
   "id": "c6f19509",
   "metadata": {},
   "outputs": [],
   "source": [
    "#anaylis and interpretation\n",
    "errorRate = []\n",
    "for i in range(1,40):\n",
    "    knn = KNeighborsClassifier(n_neighbors = i)\n",
    "    knn.fit(x_train, y_train)\n",
    "    predI = knn.predict(x_test)\n",
    "    errorRate.append(np.mean(predI != y_test))"
   ]
  },
  {
   "cell_type": "code",
   "execution_count": 122,
   "id": "7dbe67c6",
   "metadata": {},
   "outputs": [
    {
     "data": {
      "text/plain": [
       "Text(0, 0.5, 'Error Rate')"
      ]
     },
     "execution_count": 122,
     "metadata": {},
     "output_type": "execute_result"
    },
    {
     "data": {
      "image/png": "[encoded data removed]",
      "text/plain": [
       "<Figure size 720x432 with 1 Axes>"
      ]
     },
     "metadata": {
      "needs_background": "light"
     },
     "output_type": "display_data"
    }
   ],
   "source": [
    "plt.figure(figsize=(10,6))\n",
    "plt.plot(range(1,40), errorRate, color='blue', linestyle='dashed', marker='o', markerfacecolor='red', markersize=10)\n",
    "plt.title('Error Rate vs K Value')\n",
    "plt.xlabel('K')\n",
    "plt.ylabel('Error Rate')"
   ]
  },
  {
   "cell_type": "code",
   "execution_count": 126,
   "id": "8f87d695",
   "metadata": {},
   "outputs": [],
   "source": [
    "knn = KNeighborsClassifier(n_neighbors=1)\n",
    "knn.fit(x_train, y_train)\n",
    "pred = knn.predict(x_test)"
   ]
  },
  {
   "cell_type": "code",
   "execution_count": 128,
   "id": "a6597253",
   "metadata": {},
   "outputs": [
    {
     "name": "stdout",
     "output_type": "stream",
     "text": [
      "[[2463    6]\n",
      " [   4 2201]]\n"
     ]
    }
   ],
   "source": [
    "print(confusion_matrix(y_test, pred))"
   ]
  },
  {
   "cell_type": "code",
   "execution_count": 129,
   "id": "2fd70fd4",
   "metadata": {},
   "outputs": [
    {
     "name": "stdout",
     "output_type": "stream",
     "text": [
      "              precision    recall  f1-score   support\n",
      "\n",
      "         1.0       1.00      1.00      1.00      2469\n",
      "         2.0       1.00      1.00      1.00      2205\n",
      "\n",
      "    accuracy                           1.00      4674\n",
      "   macro avg       1.00      1.00      1.00      4674\n",
      "weighted avg       1.00      1.00      1.00      4674\n",
      "\n"
     ]
    }
   ],
   "source": [
    "#able to predict with 69% accuracy a positive rating and a 64% negative rating based on genre and platform with an overall\n",
    "#predicition of 67%\n",
    "print(classification_report(y_test, pred))"
   ]
  },
  {
   "cell_type": "code",
   "execution_count": null,
   "id": "bf85b6d6",
   "metadata": {},
   "outputs": [],
   "source": []
  }
 ],
 "metadata": {
  "kernelspec": {
   "display_name": "Python 3 (ipykernel)",
   "language": "python",
   "name": "python3"
  },
  "language_info": {
   "codemirror_mode": {
    "name": "ipython",
    "version": 3
   },
   "file_extension": ".py",
   "mimetype": "text/x-python",
   "name": "python",
   "nbconvert_exporter": "python",
   "pygments_lexer": "ipython3",
   "version": "3.10.6"
  }
 },
 "nbformat": 4,
 "nbformat_minor": 5
}
