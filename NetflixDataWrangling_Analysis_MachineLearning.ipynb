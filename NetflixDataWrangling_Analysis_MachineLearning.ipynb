{
 "cells": [
  {
   "cell_type": "code",
   "execution_count": 2,
   "metadata": {
    "cell_id": "ae28d10518f34b6c9bf607ed7703aaa2",
    "deepnote_cell_type": "code",
    "deepnote_to_be_reexecuted": false,
    "execution_millis": 1,
    "execution_start": 1675646100226,
    "source_hash": "36874b6"
   },
   "outputs": [],
   "source": [
    "#Question: What is the popularity of each genre in each decade (90's until now)\n",
    "#Question: Can we predict the popularity of the next genre?\n",
    "#Question: Can we predict which platform will produce which genre?"
   ]
  },
  {
   "cell_type": "code",
   "execution_count": 3,
   "metadata": {
    "cell_id": "b03911630daf4719a51a3cea49010ba9",
    "deepnote_cell_type": "code",
    "deepnote_to_be_reexecuted": false,
    "execution_millis": 1821,
    "execution_start": 1675646100227,
    "source_hash": "d2504d79"
   },
   "outputs": [],
   "source": [
    "#Exploratory Data Analysis for streaming data from all platforms\n",
    "#Importing needed libraries\n",
    "import pandas as pd\n",
    "import numpy as np\n",
    "import matplotlib.pyplot as plt\n",
    "import seaborn as sns"
   ]
  },
  {
   "cell_type": "code",
   "execution_count": 5,
   "metadata": {
    "cell_id": "0319e22ac9ff46cea2d15d20b8533a52",
    "deepnote_cell_type": "code",
    "deepnote_to_be_reexecuted": false,
    "execution_millis": 205,
    "execution_start": 1675646102056,
    "source_hash": "af1468d2"
   },
   "outputs": [],
   "source": [
    "#Loading in the data\n",
    "df = pd.read_csv(\"Desktop/All Streaming Data 1.29.23 (1).csv\")"
   ]
  },
  {
   "cell_type": "code",
   "execution_count": 6,
   "metadata": {
    "cell_id": "e566e84d58534899ba7064101c532a3f",
    "deepnote_cell_type": "code",
    "deepnote_to_be_reexecuted": false,
    "execution_millis": 34,
    "execution_start": 1675646102343,
    "source_hash": "d93f7f21"
   },
   "outputs": [
    {
     "data": {
      "text/html": [
       "<div>\n",
       "<style scoped>\n",
       "    .dataframe tbody tr th:only-of-type {\n",
       "        vertical-align: middle;\n",
       "    }\n",
       "\n",
       "    .dataframe tbody tr th {\n",
       "        vertical-align: top;\n",
       "    }\n",
       "\n",
       "    .dataframe thead th {\n",
       "        text-align: right;\n",
       "    }\n",
       "</style>\n",
       "<table border=\"1\" class=\"dataframe\">\n",
       "  <thead>\n",
       "    <tr style=\"text-align: right;\">\n",
       "      <th></th>\n",
       "      <th>platform</th>\n",
       "      <th>id</th>\n",
       "      <th>title</th>\n",
       "      <th>type</th>\n",
       "      <th>description</th>\n",
       "      <th>release_year</th>\n",
       "      <th>age_certification</th>\n",
       "      <th>runtime</th>\n",
       "      <th>genres</th>\n",
       "      <th>production_countries</th>\n",
       "      <th>...</th>\n",
       "      <th>genre1</th>\n",
       "      <th>genre2</th>\n",
       "      <th>genre3</th>\n",
       "      <th>genre4</th>\n",
       "      <th>genre5</th>\n",
       "      <th>genre6</th>\n",
       "      <th>genre7</th>\n",
       "      <th>genre8</th>\n",
       "      <th>genre9</th>\n",
       "      <th>genre10</th>\n",
       "    </tr>\n",
       "  </thead>\n",
       "  <tbody>\n",
       "    <tr>\n",
       "      <th>0</th>\n",
       "      <td>Disney</td>\n",
       "      <td>tm19438</td>\n",
       "      <td>The Princess Bride</td>\n",
       "      <td>MOVIE</td>\n",
       "      <td>In this enchantingly cracked fairy tale, the b...</td>\n",
       "      <td>1987</td>\n",
       "      <td>PG</td>\n",
       "      <td>99</td>\n",
       "      <td>fantasy, family, romance</td>\n",
       "      <td>['US']</td>\n",
       "      <td>...</td>\n",
       "      <td>fantasy</td>\n",
       "      <td>family</td>\n",
       "      <td>romance</td>\n",
       "      <td>NaN</td>\n",
       "      <td>NaN</td>\n",
       "      <td>NaN</td>\n",
       "      <td>NaN</td>\n",
       "      <td>NaN</td>\n",
       "      <td>NaN</td>\n",
       "      <td>NaN</td>\n",
       "    </tr>\n",
       "    <tr>\n",
       "      <th>1</th>\n",
       "      <td>Disney</td>\n",
       "      <td>ts20711</td>\n",
       "      <td>The Simpsons</td>\n",
       "      <td>SHOW</td>\n",
       "      <td>The satiric adventures of a working-class fami...</td>\n",
       "      <td>1989</td>\n",
       "      <td>TV-14</td>\n",
       "      <td>27</td>\n",
       "      <td>animation, comedy</td>\n",
       "      <td>['US']</td>\n",
       "      <td>...</td>\n",
       "      <td>animation</td>\n",
       "      <td>comedy</td>\n",
       "      <td>NaN</td>\n",
       "      <td>NaN</td>\n",
       "      <td>NaN</td>\n",
       "      <td>NaN</td>\n",
       "      <td>NaN</td>\n",
       "      <td>NaN</td>\n",
       "      <td>NaN</td>\n",
       "      <td>NaN</td>\n",
       "    </tr>\n",
       "    <tr>\n",
       "      <th>2</th>\n",
       "      <td>Disney</td>\n",
       "      <td>ts15377</td>\n",
       "      <td>America's Funniest Home Videos</td>\n",
       "      <td>SHOW</td>\n",
       "      <td>America's Funniest Home Videos is the longest-...</td>\n",
       "      <td>1989</td>\n",
       "      <td>TV-PG</td>\n",
       "      <td>49</td>\n",
       "      <td>animation, reality, comedy</td>\n",
       "      <td>['US']</td>\n",
       "      <td>...</td>\n",
       "      <td>animation</td>\n",
       "      <td>reality</td>\n",
       "      <td>comedy</td>\n",
       "      <td>NaN</td>\n",
       "      <td>NaN</td>\n",
       "      <td>NaN</td>\n",
       "      <td>NaN</td>\n",
       "      <td>NaN</td>\n",
       "      <td>NaN</td>\n",
       "      <td>NaN</td>\n",
       "    </tr>\n",
       "    <tr>\n",
       "      <th>3</th>\n",
       "      <td>Disney</td>\n",
       "      <td>ts22130</td>\n",
       "      <td>Rolie Polie Olie</td>\n",
       "      <td>SHOW</td>\n",
       "      <td>Rolie Polie Olie was a children's television s...</td>\n",
       "      <td>1998</td>\n",
       "      <td>TV-Y</td>\n",
       "      <td>21</td>\n",
       "      <td>animation, comedy, family, fantasy, scifi</td>\n",
       "      <td>['FR', 'GB', 'US', 'CA']</td>\n",
       "      <td>...</td>\n",
       "      <td>animation</td>\n",
       "      <td>comedy</td>\n",
       "      <td>family</td>\n",
       "      <td>fantasy</td>\n",
       "      <td>scifi</td>\n",
       "      <td>NaN</td>\n",
       "      <td>NaN</td>\n",
       "      <td>NaN</td>\n",
       "      <td>NaN</td>\n",
       "      <td>NaN</td>\n",
       "    </tr>\n",
       "    <tr>\n",
       "      <th>4</th>\n",
       "      <td>Disney</td>\n",
       "      <td>tm38852</td>\n",
       "      <td>Horton Hears a Who!</td>\n",
       "      <td>MOVIE</td>\n",
       "      <td>One day, Horton the elephant hears a cry from ...</td>\n",
       "      <td>2008</td>\n",
       "      <td>G</td>\n",
       "      <td>86</td>\n",
       "      <td>fantasy, family, drama, romance, comedy, music...</td>\n",
       "      <td>['US']</td>\n",
       "      <td>...</td>\n",
       "      <td>fantasy</td>\n",
       "      <td>family</td>\n",
       "      <td>drama</td>\n",
       "      <td>romance</td>\n",
       "      <td>comedy</td>\n",
       "      <td>music</td>\n",
       "      <td>animation</td>\n",
       "      <td>NaN</td>\n",
       "      <td>NaN</td>\n",
       "      <td>NaN</td>\n",
       "    </tr>\n",
       "  </tbody>\n",
       "</table>\n",
       "<p>5 rows × 26 columns</p>\n",
       "</div>"
      ],
      "text/plain": [
       "  platform       id                           title   type  \\\n",
       "0   Disney  tm19438              The Princess Bride  MOVIE   \n",
       "1   Disney  ts20711                    The Simpsons   SHOW   \n",
       "2   Disney  ts15377  America's Funniest Home Videos   SHOW   \n",
       "3   Disney  ts22130                Rolie Polie Olie   SHOW   \n",
       "4   Disney  tm38852             Horton Hears a Who!  MOVIE   \n",
       "\n",
       "                                         description  release_year  \\\n",
       "0  In this enchantingly cracked fairy tale, the b...          1987   \n",
       "1  The satiric adventures of a working-class fami...          1989   \n",
       "2  America's Funniest Home Videos is the longest-...          1989   \n",
       "3  Rolie Polie Olie was a children's television s...          1998   \n",
       "4  One day, Horton the elephant hears a cry from ...          2008   \n",
       "\n",
       "  age_certification  runtime  \\\n",
       "0                PG       99   \n",
       "1             TV-14       27   \n",
       "2             TV-PG       49   \n",
       "3              TV-Y       21   \n",
       "4                 G       86   \n",
       "\n",
       "                                              genres  \\\n",
       "0                           fantasy, family, romance   \n",
       "1                                  animation, comedy   \n",
       "2                         animation, reality, comedy   \n",
       "3          animation, comedy, family, fantasy, scifi   \n",
       "4  fantasy, family, drama, romance, comedy, music...   \n",
       "\n",
       "       production_countries  ...     genre1   genre2   genre3   genre4  \\\n",
       "0                    ['US']  ...    fantasy   family  romance      NaN   \n",
       "1                    ['US']  ...  animation   comedy      NaN      NaN   \n",
       "2                    ['US']  ...  animation  reality   comedy      NaN   \n",
       "3  ['FR', 'GB', 'US', 'CA']  ...  animation   comedy   family  fantasy   \n",
       "4                    ['US']  ...    fantasy   family    drama  romance   \n",
       "\n",
       "   genre5  genre6     genre7 genre8 genre9 genre10  \n",
       "0     NaN     NaN        NaN    NaN    NaN     NaN  \n",
       "1     NaN     NaN        NaN    NaN    NaN     NaN  \n",
       "2     NaN     NaN        NaN    NaN    NaN     NaN  \n",
       "3   scifi     NaN        NaN    NaN    NaN     NaN  \n",
       "4  comedy   music  animation    NaN    NaN     NaN  \n",
       "\n",
       "[5 rows x 26 columns]"
      ]
     },
     "execution_count": 6,
     "metadata": {},
     "output_type": "execute_result"
    }
   ],
   "source": [
    "#Viewing the dataframe\n",
    "df.head()"
   ]
  },
  {
   "cell_type": "code",
   "execution_count": 7,
   "metadata": {
    "cell_id": "aa766545ef644cc4a474e1d2edcaf043",
    "deepnote_cell_type": "code",
    "deepnote_to_be_reexecuted": false,
    "execution_millis": 29,
    "execution_start": 1675646102358,
    "source_hash": "78a9d1c2"
   },
   "outputs": [
    {
     "data": {
      "text/plain": [
       "(19654, 26)"
      ]
     },
     "execution_count": 7,
     "metadata": {},
     "output_type": "execute_result"
    }
   ],
   "source": [
    "#exploring the basics\n",
    "df.shape"
   ]
  },
  {
   "cell_type": "code",
   "execution_count": 11,
   "metadata": {
    "cell_id": "25fb444aa4e1439281d80a73ce45c967",
    "deepnote_cell_type": "code",
    "deepnote_to_be_reexecuted": false,
    "execution_millis": 37,
    "execution_start": 1675646102383,
    "source_hash": "de1e323c"
   },
   "outputs": [
    {
     "name": "stdout",
     "output_type": "stream",
     "text": [
      "<class 'pandas.core.frame.DataFrame'>\n",
      "RangeIndex: 19654 entries, 0 to 19653\n",
      "Data columns (total 26 columns):\n",
      " #   Column                Non-Null Count  Dtype  \n",
      "---  ------                --------------  -----  \n",
      " 0   platform              19654 non-null  object \n",
      " 1   id                    19654 non-null  object \n",
      " 2   title                 19653 non-null  object \n",
      " 3   type                  19654 non-null  object \n",
      " 4   description           19498 non-null  object \n",
      " 5   release_year          19654 non-null  int64  \n",
      " 6   age_certification     9538 non-null   object \n",
      " 7   runtime               19654 non-null  int64  \n",
      " 8   genres                19654 non-null  object \n",
      " 9   production_countries  19654 non-null  object \n",
      " 10  seasons               5208 non-null   float64\n",
      " 11  imdb_id               18047 non-null  object \n",
      " 12  imdb_score            17558 non-null  float64\n",
      " 13  imdb_votes            17528 non-null  float64\n",
      " 14  tmdb_popularity       18955 non-null  float64\n",
      " 15  tmdb_score            16992 non-null  float64\n",
      " 16  genre1                19654 non-null  object \n",
      " 17  genre2                13794 non-null  object \n",
      " 18  genre3                8309 non-null   object \n",
      " 19  genre4                4000 non-null   object \n",
      " 20  genre5                1695 non-null   object \n",
      " 21  genre6                620 non-null    object \n",
      " 22  genre7                218 non-null    object \n",
      " 23  genre8                67 non-null     object \n",
      " 24  genre9                18 non-null     object \n",
      " 25  genre10               2 non-null      object \n",
      "dtypes: float64(5), int64(2), object(19)\n",
      "memory usage: 3.9+ MB\n"
     ]
    }
   ],
   "source": [
    "df.info()"
   ]
  },
  {
   "cell_type": "code",
   "execution_count": 12,
   "metadata": {
    "cell_id": "a9b4167dc9474fac8a6f9ef2cbc88976",
    "deepnote_cell_type": "code",
    "deepnote_to_be_reexecuted": false,
    "execution_millis": 7,
    "execution_start": 1675646102416,
    "source_hash": "e5671a26"
   },
   "outputs": [],
   "source": [
    "#Preparing data"
   ]
  },
  {
   "cell_type": "code",
   "execution_count": 13,
   "metadata": {
    "cell_id": "6748a8248af443baa84bae3f432934ba",
    "deepnote_cell_type": "code",
    "deepnote_to_be_reexecuted": false,
    "execution_millis": 8,
    "execution_start": 1675646102449,
    "source_hash": "70114996"
   },
   "outputs": [],
   "source": [
    "#dropping columns to prepare for analysis\n",
    "to_drop = ['description', 'age_certification', 'seasons', 'genres', 'genre2', 'genre3', 'genre4', 'genre5', 'genre6', 'genre7', 'genre8', 'genre9', 'genre10']\n",
    "df.drop(to_drop, inplace=True, axis=1)"
   ]
  },
  {
   "cell_type": "code",
   "execution_count": 14,
   "metadata": {
    "cell_id": "2af1a1a3b7254cd689db7e94e84f7d89",
    "deepnote_cell_type": "code",
    "deepnote_to_be_reexecuted": false,
    "execution_millis": 67,
    "execution_start": 1675646102483,
    "source_hash": "86baca5b"
   },
   "outputs": [
    {
     "data": {
      "text/html": [
       "<div>\n",
       "<style scoped>\n",
       "    .dataframe tbody tr th:only-of-type {\n",
       "        vertical-align: middle;\n",
       "    }\n",
       "\n",
       "    .dataframe tbody tr th {\n",
       "        vertical-align: top;\n",
       "    }\n",
       "\n",
       "    .dataframe thead th {\n",
       "        text-align: right;\n",
       "    }\n",
       "</style>\n",
       "<table border=\"1\" class=\"dataframe\">\n",
       "  <thead>\n",
       "    <tr style=\"text-align: right;\">\n",
       "      <th></th>\n",
       "      <th>platform</th>\n",
       "      <th>id</th>\n",
       "      <th>title</th>\n",
       "      <th>type</th>\n",
       "      <th>release_year</th>\n",
       "      <th>runtime</th>\n",
       "      <th>production_countries</th>\n",
       "      <th>imdb_id</th>\n",
       "      <th>imdb_score</th>\n",
       "      <th>imdb_votes</th>\n",
       "      <th>tmdb_popularity</th>\n",
       "      <th>tmdb_score</th>\n",
       "      <th>genre1</th>\n",
       "    </tr>\n",
       "  </thead>\n",
       "  <tbody>\n",
       "    <tr>\n",
       "      <th>0</th>\n",
       "      <td>Disney</td>\n",
       "      <td>tm19438</td>\n",
       "      <td>The Princess Bride</td>\n",
       "      <td>MOVIE</td>\n",
       "      <td>1987</td>\n",
       "      <td>99</td>\n",
       "      <td>['US']</td>\n",
       "      <td>tt0093779</td>\n",
       "      <td>8.0</td>\n",
       "      <td>420521.0</td>\n",
       "      <td>21.284</td>\n",
       "      <td>7.7</td>\n",
       "      <td>fantasy</td>\n",
       "    </tr>\n",
       "    <tr>\n",
       "      <th>1</th>\n",
       "      <td>Disney</td>\n",
       "      <td>ts20711</td>\n",
       "      <td>The Simpsons</td>\n",
       "      <td>SHOW</td>\n",
       "      <td>1989</td>\n",
       "      <td>27</td>\n",
       "      <td>['US']</td>\n",
       "      <td>tt0096697</td>\n",
       "      <td>8.7</td>\n",
       "      <td>394764.0</td>\n",
       "      <td>516.381</td>\n",
       "      <td>7.9</td>\n",
       "      <td>animation</td>\n",
       "    </tr>\n",
       "    <tr>\n",
       "      <th>2</th>\n",
       "      <td>Disney</td>\n",
       "      <td>ts15377</td>\n",
       "      <td>America's Funniest Home Videos</td>\n",
       "      <td>SHOW</td>\n",
       "      <td>1989</td>\n",
       "      <td>49</td>\n",
       "      <td>['US']</td>\n",
       "      <td>tt0098740</td>\n",
       "      <td>6.2</td>\n",
       "      <td>5356.0</td>\n",
       "      <td>18.117</td>\n",
       "      <td>7.0</td>\n",
       "      <td>animation</td>\n",
       "    </tr>\n",
       "    <tr>\n",
       "      <th>3</th>\n",
       "      <td>Disney</td>\n",
       "      <td>ts22130</td>\n",
       "      <td>Rolie Polie Olie</td>\n",
       "      <td>SHOW</td>\n",
       "      <td>1998</td>\n",
       "      <td>21</td>\n",
       "      <td>['FR', 'GB', 'US', 'CA']</td>\n",
       "      <td>tt0172049</td>\n",
       "      <td>6.3</td>\n",
       "      <td>2861.0</td>\n",
       "      <td>8.697</td>\n",
       "      <td>6.8</td>\n",
       "      <td>animation</td>\n",
       "    </tr>\n",
       "    <tr>\n",
       "      <th>4</th>\n",
       "      <td>Disney</td>\n",
       "      <td>tm38852</td>\n",
       "      <td>Horton Hears a Who!</td>\n",
       "      <td>MOVIE</td>\n",
       "      <td>2008</td>\n",
       "      <td>86</td>\n",
       "      <td>['US']</td>\n",
       "      <td>tt0451079</td>\n",
       "      <td>6.8</td>\n",
       "      <td>138363.0</td>\n",
       "      <td>37.730</td>\n",
       "      <td>6.5</td>\n",
       "      <td>fantasy</td>\n",
       "    </tr>\n",
       "  </tbody>\n",
       "</table>\n",
       "</div>"
      ],
      "text/plain": [
       "  platform       id                           title   type  release_year  \\\n",
       "0   Disney  tm19438              The Princess Bride  MOVIE          1987   \n",
       "1   Disney  ts20711                    The Simpsons   SHOW          1989   \n",
       "2   Disney  ts15377  America's Funniest Home Videos   SHOW          1989   \n",
       "3   Disney  ts22130                Rolie Polie Olie   SHOW          1998   \n",
       "4   Disney  tm38852             Horton Hears a Who!  MOVIE          2008   \n",
       "\n",
       "   runtime      production_countries    imdb_id  imdb_score  imdb_votes  \\\n",
       "0       99                    ['US']  tt0093779         8.0    420521.0   \n",
       "1       27                    ['US']  tt0096697         8.7    394764.0   \n",
       "2       49                    ['US']  tt0098740         6.2      5356.0   \n",
       "3       21  ['FR', 'GB', 'US', 'CA']  tt0172049         6.3      2861.0   \n",
       "4       86                    ['US']  tt0451079         6.8    138363.0   \n",
       "\n",
       "   tmdb_popularity  tmdb_score     genre1  \n",
       "0           21.284         7.7    fantasy  \n",
       "1          516.381         7.9  animation  \n",
       "2           18.117         7.0  animation  \n",
       "3            8.697         6.8  animation  \n",
       "4           37.730         6.5    fantasy  "
      ]
     },
     "execution_count": 14,
     "metadata": {},
     "output_type": "execute_result"
    }
   ],
   "source": [
    "#Verifying that columns were dropped\n",
    "df.head()"
   ]
  },
  {
   "cell_type": "code",
   "execution_count": 19,
   "metadata": {
    "cell_id": "d7397c0fe74546ebbfcdb57f8bb49972",
    "deepnote_cell_type": "code",
    "deepnote_to_be_reexecuted": false,
    "execution_millis": 20,
    "execution_start": 1675646102427,
    "source_hash": "82b91234"
   },
   "outputs": [
    {
     "data": {
      "text/plain": [
       "platform                   0\n",
       "id                         0\n",
       "title                      1\n",
       "type                       0\n",
       "release_year               0\n",
       "runtime                    0\n",
       "production_countries       0\n",
       "imdb_id                 1607\n",
       "imdb_score              2096\n",
       "imdb_votes              2126\n",
       "tmdb_popularity          699\n",
       "tmdb_score              2662\n",
       "genre1                     0\n",
       "dtype: int64"
      ]
     },
     "execution_count": 19,
     "metadata": {},
     "output_type": "execute_result"
    }
   ],
   "source": [
    "#Viewing NA values in df\n",
    "df.isna().sum()"
   ]
  },
  {
   "cell_type": "code",
   "execution_count": 22,
   "metadata": {
    "cell_id": "fd083fa4c386450788722353e194003a",
    "deepnote_cell_type": "code",
    "deepnote_to_be_reexecuted": false,
    "execution_millis": 11,
    "execution_start": 1675646102527,
    "source_hash": "584ea10a"
   },
   "outputs": [],
   "source": [
    "#removing NAs from dataset\n",
    "df = df.dropna()"
   ]
  },
  {
   "cell_type": "code",
   "execution_count": 23,
   "metadata": {
    "cell_id": "3409bfe398d7408aa2804bf0652f7b4e",
    "deepnote_cell_type": "code",
    "deepnote_to_be_reexecuted": false,
    "execution_millis": 53,
    "execution_start": 1675646102590,
    "source_hash": "5ffc1d25"
   },
   "outputs": [
    {
     "data": {
      "text/plain": [
       "platform                0\n",
       "id                      0\n",
       "title                   0\n",
       "type                    0\n",
       "release_year            0\n",
       "runtime                 0\n",
       "production_countries    0\n",
       "imdb_id                 0\n",
       "imdb_score              0\n",
       "imdb_votes              0\n",
       "tmdb_popularity         0\n",
       "tmdb_score              0\n",
       "genre1                  0\n",
       "dtype: int64"
      ]
     },
     "execution_count": 23,
     "metadata": {},
     "output_type": "execute_result"
    }
   ],
   "source": [
    "#checking null values after removal\n",
    "df.isna().sum()"
   ]
  },
  {
   "cell_type": "code",
   "execution_count": 24,
   "metadata": {
    "cell_id": "f303b237093044cabbe4cd598a1b2982",
    "deepnote_cell_type": "code",
    "deepnote_to_be_reexecuted": false,
    "execution_millis": 41,
    "execution_start": 1675646102627,
    "source_hash": "322d93bd"
   },
   "outputs": [
    {
     "data": {
      "text/plain": [
       "count     15611\n",
       "unique       20\n",
       "top       drama\n",
       "freq       3799\n",
       "Name: genre1, dtype: object"
      ]
     },
     "execution_count": 24,
     "metadata": {},
     "output_type": "execute_result"
    }
   ],
   "source": [
    "#Exploring genre1 to set up for the first question. What is the relationship between the genre and all other variables? \n",
    "df.genre1.describe()"
   ]
  },
  {
   "cell_type": "code",
   "execution_count": 25,
   "metadata": {
    "cell_id": "84f8dffc757242f28817fb7487f83d7f",
    "deepnote_cell_type": "code",
    "deepnote_to_be_reexecuted": false,
    "execution_millis": 40,
    "execution_start": 1675646102628,
    "source_hash": "cb4d3cfa"
   },
   "outputs": [
    {
     "data": {
      "text/plain": [
       "drama            3799\n",
       "comedy           3048\n",
       "thriller         1442\n",
       "documentation    1369\n",
       "action            948\n",
       "scifi             862\n",
       "romance           723\n",
       "animation         722\n",
       "horror            657\n",
       "crime             528\n",
       "fantasy           420\n",
       "reality           363\n",
       "western           323\n",
       "music             119\n",
       "war                98\n",
       "family             85\n",
       "history            64\n",
       "[]                 23\n",
       "sport              15\n",
       "european            3\n",
       "Name: genre1, dtype: int64"
      ]
     },
     "execution_count": 25,
     "metadata": {},
     "output_type": "execute_result"
    }
   ],
   "source": [
    "#Exploring genre1\n",
    "df.genre1.value_counts()"
   ]
  },
  {
   "cell_type": "code",
   "execution_count": 30,
   "metadata": {
    "cell_id": "052732c838e54ac992a2a2b5b1a2b334",
    "deepnote_cell_type": "code",
    "deepnote_to_be_reexecuted": false,
    "execution_millis": 76,
    "execution_start": 1675646102628,
    "source_hash": "15fffc78",
    "tags": []
   },
   "outputs": [
    {
     "data": {
      "text/plain": [
       "genre1\n",
       "[]               6.543478\n",
       "action           6.544889\n",
       "animation        7.132899\n",
       "comedy           6.365563\n",
       "crime            6.596716\n",
       "documentation    7.056052\n",
       "drama            6.517069\n",
       "european         5.633333\n",
       "family           6.536471\n",
       "fantasy          6.313493\n",
       "history          6.808531\n",
       "horror           5.257192\n",
       "music            6.795513\n",
       "reality          7.105785\n",
       "romance          6.099864\n",
       "scifi            6.837646\n",
       "sport            6.666667\n",
       "thriller         5.893997\n",
       "war              6.932847\n",
       "western          5.442099\n",
       "Name: tmdb_score, dtype: float64"
      ]
     },
     "execution_count": 30,
     "metadata": {},
     "output_type": "execute_result"
    }
   ],
   "source": [
    "#Exploring the mean of the tmdb_score in each genre\n",
    "df.groupby(by=\"genre1\")[\"tmdb_score\"].mean()"
   ]
  },
  {
   "cell_type": "code",
   "execution_count": 31,
   "metadata": {
    "cell_id": "14fbdab0d7e7474aa02f21e65c49ed0b",
    "deepnote_cell_type": "code",
    "deepnote_to_be_reexecuted": false,
    "execution_millis": 30,
    "execution_start": 1675646102685,
    "source_hash": "f96fbe69",
    "tags": []
   },
   "outputs": [
    {
     "data": {
      "text/plain": [
       "6.447438216642111"
      ]
     },
     "execution_count": 31,
     "metadata": {},
     "output_type": "execute_result"
    }
   ],
   "source": [
    "#Is there a difference between tmdb_score and imdb_score? \n",
    "df.tmdb_score.mean()"
   ]
  },
  {
   "cell_type": "code",
   "execution_count": 32,
   "metadata": {
    "cell_id": "98966875963d4632a1ab99b95c0acd59",
    "deepnote_cell_type": "code",
    "deepnote_to_be_reexecuted": false,
    "execution_millis": 45,
    "execution_start": 1675646102697,
    "source_hash": "5f5f2760",
    "tags": []
   },
   "outputs": [
    {
     "data": {
      "text/plain": [
       "6.275421177374929"
      ]
     },
     "execution_count": 32,
     "metadata": {},
     "output_type": "execute_result"
    }
   ],
   "source": [
    "df.imdb_score.mean()"
   ]
  },
  {
   "cell_type": "code",
   "execution_count": 34,
   "metadata": {
    "cell_id": "c5fab40fd0274f34bc1dedbffa15bb42",
    "deepnote_cell_type": "code",
    "deepnote_to_be_reexecuted": false,
    "execution_millis": 707,
    "execution_start": 1675646102742,
    "source_hash": "1d670d49",
    "tags": []
   },
   "outputs": [
    {
     "data": {
      "image/png": "[encoded data removed]",
      "text/plain": [
       "<Figure size 432x288 with 1 Axes>"
      ]
     },
     "metadata": {
      "needs_background": "light"
     },
     "output_type": "display_data"
    }
   ],
   "source": [
    "#Univariate analysis for categorical data \n",
    "#Create a countplot to visualize the count of each category in genre1\n",
    "sns.countplot(data=df, x=\"genre1\")\n",
    "plt.title(\"Number of Movies & Shows per Genre\")\n",
    "plt.ylabel(\"Count\")\n",
    "plt.show()"
   ]
  },
  {
   "cell_type": "code",
   "execution_count": 35,
   "metadata": {
    "cell_id": "2a5f64c2f4e74552a8035b4db30bd539",
    "deepnote_cell_type": "code",
    "deepnote_to_be_reexecuted": false,
    "execution_millis": 1,
    "execution_start": 1675646103450,
    "source_hash": "283460be",
    "tags": []
   },
   "outputs": [],
   "source": [
    "#There are no categorical ordered variables in this dataset"
   ]
  },
  {
   "cell_type": "code",
   "execution_count": 36,
   "metadata": {
    "cell_id": "a5152dd39ea94bcb976a9d73ebff391d",
    "deepnote_cell_type": "code",
    "deepnote_to_be_reexecuted": false,
    "execution_millis": 20,
    "execution_start": 1675646103499,
    "source_hash": "ed0d746",
    "tags": []
   },
   "outputs": [
    {
     "data": {
      "text/plain": [
       "count     15611\n",
       "unique       20\n",
       "top       drama\n",
       "freq       3799\n",
       "Name: genre1, dtype: object"
      ]
     },
     "execution_count": 36,
     "metadata": {},
     "output_type": "execute_result"
    }
   ],
   "source": [
    "#Numeric univariate analysis\n",
    "df[\"genre1\"].describe()\n",
    "#Based on output, drama is the most frequent"
   ]
  },
  {
   "cell_type": "code",
   "execution_count": 37,
   "metadata": {
    "cell_id": "7d4ac03b75154f628dddca9ddf5ae057",
    "deepnote_cell_type": "code",
    "deepnote_to_be_reexecuted": false,
    "execution_millis": 619,
    "execution_start": 1675646103499,
    "source_hash": "7c533c3e",
    "tags": []
   },
   "outputs": [
    {
     "data": {
      "image/png": "[encoded data removed]",
      "text/plain": [
       "<Figure size 576x360 with 1 Axes>"
      ]
     },
     "metadata": {
      "needs_background": "light"
     },
     "output_type": "display_data"
    }
   ],
   "source": [
    "#How is this tmdb_score data distributed?\n",
    "plt.figure(figsize=[8,5])\n",
    "sns.histplot(data=df,x=\"tmdb_score\",bins=40, kde=True).set(title=\"Distribution of Internation Scores\",ylabel=\"Count\")\n",
    "plt.show()"
   ]
  },
  {
   "cell_type": "code",
   "execution_count": 38,
   "metadata": {
    "cell_id": "b1caa9f9bc804fbfbe2b15907f3285ce",
    "deepnote_cell_type": "code",
    "deepnote_to_be_reexecuted": false,
    "execution_millis": 69,
    "execution_start": 1675646104121,
    "source_hash": "69a75281",
    "tags": []
   },
   "outputs": [
    {
     "data": {
      "text/plain": [
       "count    15611.000000\n",
       "mean         6.447438\n",
       "std          1.390001\n",
       "min          0.800000\n",
       "25%          5.700000\n",
       "50%          6.500000\n",
       "75%          7.300000\n",
       "max         10.000000\n",
       "Name: tmdb_score, dtype: float64"
      ]
     },
     "execution_count": 38,
     "metadata": {},
     "output_type": "execute_result"
    }
   ],
   "source": [
    "#Pretty normally distributed. Lets see how it looKs with descibe()\n",
    "df2[\"tmdb_score\"].describe()"
   ]
  },
  {
   "cell_type": "code",
   "execution_count": 39,
   "metadata": {
    "cell_id": "42cb05e94321412681c8de4350761d08",
    "deepnote_cell_type": "code",
    "deepnote_to_be_reexecuted": false,
    "execution_millis": 302,
    "execution_start": 1675646104186,
    "source_hash": "93c81e38",
    "tags": []
   },
   "outputs": [
    {
     "data": {
      "image/png": "[encoded data removed]",
      "text/plain": [
       "<Figure size 576x360 with 1 Axes>"
      ]
     },
     "metadata": {
      "needs_background": "light"
     },
     "output_type": "display_data"
    }
   ],
   "source": [
    "#Bivariate analysis to explore relationships between these variables and how the influence each other, if at all. \n",
    "#Numeric-to-Numeric: Scatter plot\n",
    "#Let's investigate the relationship between imdb score and votes\n",
    "plt.figure(figsize=[8,5])\n",
    "plt.scatter(data=df2, x=\"imdb_score\", y=\"imdb_votes\")\n",
    "plt.title(\"IMDB Score vs. IMDB Votes\")\n",
    "plt.xlabel(\"IMDB Score\")\n",
    "plt.ylabel(\"IMDB Votes\")\n",
    "plt.show()\n",
    "#There maybe some correlation between number of votes and the imdb score"
   ]
  },
  {
   "cell_type": "code",
   "execution_count": 46,
   "metadata": {
    "cell_id": "682e0c9615604e508019758c3d9c8683",
    "deepnote_cell_type": "code",
    "deepnote_to_be_reexecuted": false,
    "execution_millis": 383,
    "execution_start": 1675646104503,
    "source_hash": "4ef3174",
    "tags": []
   },
   "outputs": [
    {
     "data": {
      "image/png": "[encoded data removed]",
      "text/plain": [
       "<Figure size 576x360 with 1 Axes>"
      ]
     },
     "metadata": {
      "needs_background": "light"
     },
     "output_type": "display_data"
    }
   ],
   "source": [
    "#Scatter plot to explore relationship between Genre and IMDB score\n",
    "plt.figure(figsize=[8,5])\n",
    "plt.scatter(data=df, x=\"imdb_score\", y=\"genre1\")\n",
    "plt.title(\"Genre vs. IMDB Score\")\n",
    "plt.xlabel(\"IMDB Score\")\n",
    "plt.ylabel(\"Genre\")\n",
    "plt.show()\n",
    "#This would look better in a different graph. "
   ]
  },
  {
   "cell_type": "code",
   "execution_count": 47,
   "metadata": {
    "cell_id": "682e0c9615604e508019758c3d9c8683",
    "deepnote_cell_type": "code",
    "deepnote_to_be_reexecuted": false,
    "execution_millis": 383,
    "execution_start": 1675646104503,
    "source_hash": "4ef3174",
    "tags": []
   },
   "outputs": [
    {
     "data": {
      "image/png": "[encoded data removed]",
      "text/plain": [
       "<Figure size 576x360 with 1 Axes>"
      ]
     },
     "metadata": {
      "needs_background": "light"
     },
     "output_type": "display_data"
    }
   ],
   "source": [
    "#Scatter plot to explore relationship between release year and tmdb popularity\n",
    "plt.figure(figsize=[8,5])\n",
    "plt.scatter(data=df, x=\"imdb_score\", y=\"genre1\")\n",
    "plt.title(\"Genre vs. IMDB Score\")\n",
    "plt.xlabel(\"IMDB Score\")\n",
    "plt.ylabel(\"Release Year\")\n",
    "plt.show()\n",
    "#This may indicate that the release year has some impact on the tmdb score, but this may be because of the rating system "
   ]
  },
  {
   "cell_type": "code",
   "execution_count": 49,
   "metadata": {
    "cell_id": "0f24b501d0cf4ecf926912a9a6734a5f",
    "deepnote_cell_type": "code",
    "deepnote_to_be_reexecuted": false,
    "execution_millis": 28,
    "execution_start": 1675646104892,
    "source_hash": "42d17a31",
    "tags": []
   },
   "outputs": [
    {
     "data": {
      "text/html": [
       "<div>\n",
       "<style scoped>\n",
       "    .dataframe tbody tr th:only-of-type {\n",
       "        vertical-align: middle;\n",
       "    }\n",
       "\n",
       "    .dataframe tbody tr th {\n",
       "        vertical-align: top;\n",
       "    }\n",
       "\n",
       "    .dataframe thead th {\n",
       "        text-align: right;\n",
       "    }\n",
       "</style>\n",
       "<table border=\"1\" class=\"dataframe\">\n",
       "  <thead>\n",
       "    <tr style=\"text-align: right;\">\n",
       "      <th></th>\n",
       "      <th>runtime</th>\n",
       "      <th>imdb_score</th>\n",
       "      <th>tmdb_score</th>\n",
       "      <th>release_year</th>\n",
       "    </tr>\n",
       "  </thead>\n",
       "  <tbody>\n",
       "    <tr>\n",
       "      <th>runtime</th>\n",
       "      <td>1.000000</td>\n",
       "      <td>-0.182582</td>\n",
       "      <td>-0.259980</td>\n",
       "      <td>-0.036117</td>\n",
       "    </tr>\n",
       "    <tr>\n",
       "      <th>imdb_score</th>\n",
       "      <td>-0.182582</td>\n",
       "      <td>1.000000</td>\n",
       "      <td>0.613264</td>\n",
       "      <td>0.068266</td>\n",
       "    </tr>\n",
       "    <tr>\n",
       "      <th>tmdb_score</th>\n",
       "      <td>-0.259980</td>\n",
       "      <td>0.613264</td>\n",
       "      <td>1.000000</td>\n",
       "      <td>0.199509</td>\n",
       "    </tr>\n",
       "    <tr>\n",
       "      <th>release_year</th>\n",
       "      <td>-0.036117</td>\n",
       "      <td>0.068266</td>\n",
       "      <td>0.199509</td>\n",
       "      <td>1.000000</td>\n",
       "    </tr>\n",
       "  </tbody>\n",
       "</table>\n",
       "</div>"
      ],
      "text/plain": [
       "               runtime  imdb_score  tmdb_score  release_year\n",
       "runtime       1.000000   -0.182582   -0.259980     -0.036117\n",
       "imdb_score   -0.182582    1.000000    0.613264      0.068266\n",
       "tmdb_score   -0.259980    0.613264    1.000000      0.199509\n",
       "release_year -0.036117    0.068266    0.199509      1.000000"
      ]
     },
     "execution_count": 49,
     "metadata": {},
     "output_type": "execute_result"
    }
   ],
   "source": [
    "#Correlation matrix to show relationship between select variables\n",
    "corr_matrix = df[[\"runtime\",\"imdb_score\",\"tmdb_score\",\"release_year\"]].corr()\n",
    "corr_matrix\n",
    "#There is 61% correlation between the tmdb_score and the imdb_score"
   ]
  },
  {
   "cell_type": "code",
   "execution_count": 50,
   "metadata": {
    "cell_id": "fe1391ecd50746448bbdc8c9448f5144",
    "deepnote_cell_type": "code",
    "deepnote_to_be_reexecuted": false,
    "execution_millis": 442,
    "execution_start": 1675646104920,
    "source_hash": "f3c8e2d0",
    "tags": []
   },
   "outputs": [
    {
     "data": {
      "image/png": "[encoded data removed]",
      "text/plain": [
       "<Figure size 576x360 with 2 Axes>"
      ]
     },
     "metadata": {
      "needs_background": "light"
     },
     "output_type": "display_data"
    }
   ],
   "source": [
    "plt.figure(figsize=[8,5])\n",
    "sns.heatmap(corr_matrix,annot=True,cmap='Reds')\n",
    "plt.title(\"Correlation between Selected Variables\")\n",
    "plt.show()\n",
    "#tmdb_score and imdb_score have 0.61 correlation coeffecient and can be considered moderately correlated"
   ]
  },
  {
   "cell_type": "code",
   "execution_count": 52,
   "metadata": {
    "cell_id": "5a73298943924dc08a78e4c0302df417",
    "deepnote_cell_type": "code",
    "deepnote_to_be_reexecuted": false,
    "execution_millis": 17,
    "execution_start": 1675646105351,
    "source_hash": "ddd5a4d7",
    "tags": []
   },
   "outputs": [
    {
     "data": {
      "text/plain": [
       "genre1\n",
       "[]               5.800000\n",
       "action           6.139979\n",
       "animation        6.486288\n",
       "comedy           6.240879\n",
       "crime            6.504545\n",
       "documentation    7.070197\n",
       "drama            6.501500\n",
       "european         7.000000\n",
       "family           5.728235\n",
       "fantasy          6.075238\n",
       "history          6.693750\n",
       "horror           4.774581\n",
       "music            6.623529\n",
       "reality          6.297796\n",
       "romance          5.980221\n",
       "scifi            6.458585\n",
       "sport            6.773333\n",
       "thriller         5.713245\n",
       "war              7.058163\n",
       "western          5.794427\n",
       "Name: imdb_score, dtype: float64"
      ]
     },
     "execution_count": 52,
     "metadata": {},
     "output_type": "execute_result"
    }
   ],
   "source": [
    "#Numerical-Categorical analysis\n",
    "#Check the mean imdb_score per genre \n",
    "df.groupby('genre1')['imdb_score'].mean()"
   ]
  },
  {
   "cell_type": "code",
   "execution_count": 54,
   "metadata": {
    "cell_id": "0fe41c44ab60445198c5eb1a8c862bf3",
    "deepnote_cell_type": "code",
    "deepnote_to_be_reexecuted": false,
    "execution_millis": 521,
    "execution_start": 1675646105390,
    "source_hash": "3d0b109f",
    "tags": []
   },
   "outputs": [
    {
     "data": {
      "image/png": "[encoded data removed]",
      "text/plain": [
       "<Figure size 432x288 with 1 Axes>"
      ]
     },
     "metadata": {
      "needs_background": "light"
     },
     "output_type": "display_data"
    }
   ],
   "source": [
    "#Plot boxplots to compare dispersion \n",
    "sns.boxplot(data=df,x='genre1',y='tmdb_score')\n",
    "plt.xticks(rotation=90)\n",
    "plt.title(\"Distribution of TMDB Score per Genre\")\n",
    "plt.show()"
   ]
  },
  {
   "cell_type": "code",
   "execution_count": 55,
   "metadata": {
    "cell_id": "9bc2b1e1f13848a6bfc2efd97cbc8e3e",
    "deepnote_cell_type": "code",
    "deepnote_to_be_reexecuted": false,
    "execution_millis": 888,
    "execution_start": 1675646105909,
    "source_hash": "1ccf9d30",
    "tags": []
   },
   "outputs": [
    {
     "data": {
      "image/png": "[encoded data removed]",
      "text/plain": [
       "<Figure size 432x288 with 1 Axes>"
      ]
     },
     "metadata": {
      "needs_background": "light"
     },
     "output_type": "display_data"
    }
   ],
   "source": [
    "#Plot boxplots to compare dispersion \n",
    "sns.boxplot(data=df,x='genre1',y='release_year')\n",
    "plt.xticks(rotation=90)\n",
    "plt.title(\"Distribution of Release per Genre\")\n",
    "plt.show()"
   ]
  },
  {
   "cell_type": "code",
   "execution_count": 56,
   "metadata": {
    "cell_id": "bd35a10f44a9461c868cfcb063f9feaa",
    "deepnote_cell_type": "code",
    "deepnote_to_be_reexecuted": false,
    "execution_millis": 399,
    "execution_start": 1675646106804,
    "source_hash": "721fcbb7",
    "tags": []
   },
   "outputs": [
    {
     "data": {
      "text/plain": [
       "Text(0.5, 0, 'Platform')"
      ]
     },
     "execution_count": 56,
     "metadata": {},
     "output_type": "execute_result"
    },
    {
     "data": {
      "image/png": "[encoded data removed]",
      "text/plain": [
       "<Figure size 432x288 with 1 Axes>"
      ]
     },
     "metadata": {
      "needs_background": "light"
     },
     "output_type": "display_data"
    }
   ],
   "source": [
    "#Distribution of movies and shows on each platform\n",
    "Platform = df2['platform'].value_counts().plot(kind='bar')\n",
    "Platform.set_title(\"Platform Distribution\")\n",
    "Platform.set_xlabel(\"Platform\")"
   ]
  },
  {
   "cell_type": "code",
   "execution_count": 57,
   "metadata": {
    "cell_id": "4dcf47cc172a4cd986822b6ca4f0fec6",
    "deepnote_cell_type": "code",
    "deepnote_to_be_reexecuted": false,
    "execution_millis": 408,
    "execution_start": 1675646107196,
    "source_hash": "ae0dcc93",
    "tags": []
   },
   "outputs": [
    {
     "data": {
      "text/plain": [
       "<AxesSubplot: xlabel='platform'>"
      ]
     },
     "execution_count": 57,
     "metadata": {},
     "output_type": "execute_result"
    },
    {
     "data": {
      "image/png": "[encoded data removed]",
      "text/plain": [
       "<Figure size 432x288 with 1 Axes>"
      ]
     },
     "metadata": {
      "needs_background": "light"
     },
     "output_type": "display_data"
    }
   ],
   "source": [
    "#Distribution of shows and movies per platform\n",
    "crosstab_df2 = pd.crosstab(df2['platform'], df2['type'])\n",
    "crosstab_df2.plot.bar(stacked=True)"
   ]
  },
  {
   "cell_type": "code",
   "execution_count": 58,
   "metadata": {
    "cell_id": "99eb5a872f7045d8ba63ecb8f84e712f",
    "deepnote_cell_type": "code",
    "deepnote_to_be_reexecuted": false,
    "execution_millis": 33,
    "execution_start": 1675646107573,
    "source_hash": "5a9c4c39"
   },
   "outputs": [],
   "source": [
    "def genreR (series):\n",
    "  if series == \"genre1\":\n",
    "    return \"0\"\n",
    "  if series == \"fantasy\": \n",
    "    return \"1\"\n",
    "  if series == \"animation\": \n",
    "    return \"2\"\n",
    "  if series == \"action\":\n",
    "    return \"3\"\n",
    "  if series == \"comedy\":\n",
    "    return \"4\"\n",
    "  if series == \"scifi\":\n",
    "    return \"5\"\n",
    "  if series == \"reality\":\n",
    "    return \"6\"\n",
    "  if series == \"drama\":\n",
    "    return \"7\"\n",
    "  if series == \"documentation\":\n",
    "    return \"8\"\n",
    "  if series == \"music\":\n",
    "    return \"9\"\n",
    "  if series == \"western\":\n",
    "    return \"10\"\n",
    "  if series == \"family\":\n",
    "    return \"11\"\n",
    "  if series == \"thriller\":\n",
    "    return \"12\"\n",
    "  if series == \"romance\":\n",
    "    return \"13\"\n",
    "  if series == \"crime\":\n",
    "    return \"14\"\n",
    "  if series == \"horror\":\n",
    "    return \"15\"\n",
    "  if series == \"history\":\n",
    "    return \"16\"\n",
    "  if series == \"war\":\n",
    "    return \"17\"\n",
    "  if series == \"[]\":\n",
    "    return \"18\"\n",
    "  if series == \"sport\":\n",
    "    return \"19\"\n",
    "  if series == 'european':\n",
    "    return \"20\"\n",
    "df[\"genreR\"] = df[\"genre1\"].apply(genreR)"
   ]
  },
  {
   "cell_type": "code",
   "execution_count": 59,
   "metadata": {
    "cell_id": "3d4af887be8b4cd797e928cb1e3e3308",
    "deepnote_cell_type": "code",
    "deepnote_to_be_reexecuted": false,
    "execution_millis": 64,
    "execution_start": 1675646107598,
    "source_hash": "4e0cbe0d"
   },
   "outputs": [
    {
     "data": {
      "text/html": [
       "<div>\n",
       "<style scoped>\n",
       "    .dataframe tbody tr th:only-of-type {\n",
       "        vertical-align: middle;\n",
       "    }\n",
       "\n",
       "    .dataframe tbody tr th {\n",
       "        vertical-align: top;\n",
       "    }\n",
       "\n",
       "    .dataframe thead th {\n",
       "        text-align: right;\n",
       "    }\n",
       "</style>\n",
       "<table border=\"1\" class=\"dataframe\">\n",
       "  <thead>\n",
       "    <tr style=\"text-align: right;\">\n",
       "      <th></th>\n",
       "      <th>platform</th>\n",
       "      <th>id</th>\n",
       "      <th>title</th>\n",
       "      <th>type</th>\n",
       "      <th>release_year</th>\n",
       "      <th>runtime</th>\n",
       "      <th>production_countries</th>\n",
       "      <th>imdb_id</th>\n",
       "      <th>imdb_score</th>\n",
       "      <th>imdb_votes</th>\n",
       "      <th>tmdb_popularity</th>\n",
       "      <th>tmdb_score</th>\n",
       "      <th>genre1</th>\n",
       "      <th>genreR</th>\n",
       "    </tr>\n",
       "  </thead>\n",
       "  <tbody>\n",
       "    <tr>\n",
       "      <th>0</th>\n",
       "      <td>Disney</td>\n",
       "      <td>tm19438</td>\n",
       "      <td>The Princess Bride</td>\n",
       "      <td>MOVIE</td>\n",
       "      <td>1987</td>\n",
       "      <td>99</td>\n",
       "      <td>['US']</td>\n",
       "      <td>tt0093779</td>\n",
       "      <td>8.0</td>\n",
       "      <td>420521.0</td>\n",
       "      <td>21.284</td>\n",
       "      <td>7.7</td>\n",
       "      <td>fantasy</td>\n",
       "      <td>1</td>\n",
       "    </tr>\n",
       "    <tr>\n",
       "      <th>1</th>\n",
       "      <td>Disney</td>\n",
       "      <td>ts20711</td>\n",
       "      <td>The Simpsons</td>\n",
       "      <td>SHOW</td>\n",
       "      <td>1989</td>\n",
       "      <td>27</td>\n",
       "      <td>['US']</td>\n",
       "      <td>tt0096697</td>\n",
       "      <td>8.7</td>\n",
       "      <td>394764.0</td>\n",
       "      <td>516.381</td>\n",
       "      <td>7.9</td>\n",
       "      <td>animation</td>\n",
       "      <td>2</td>\n",
       "    </tr>\n",
       "    <tr>\n",
       "      <th>2</th>\n",
       "      <td>Disney</td>\n",
       "      <td>ts15377</td>\n",
       "      <td>America's Funniest Home Videos</td>\n",
       "      <td>SHOW</td>\n",
       "      <td>1989</td>\n",
       "      <td>49</td>\n",
       "      <td>['US']</td>\n",
       "      <td>tt0098740</td>\n",
       "      <td>6.2</td>\n",
       "      <td>5356.0</td>\n",
       "      <td>18.117</td>\n",
       "      <td>7.0</td>\n",
       "      <td>animation</td>\n",
       "      <td>2</td>\n",
       "    </tr>\n",
       "    <tr>\n",
       "      <th>3</th>\n",
       "      <td>Disney</td>\n",
       "      <td>ts22130</td>\n",
       "      <td>Rolie Polie Olie</td>\n",
       "      <td>SHOW</td>\n",
       "      <td>1998</td>\n",
       "      <td>21</td>\n",
       "      <td>['FR', 'GB', 'US', 'CA']</td>\n",
       "      <td>tt0172049</td>\n",
       "      <td>6.3</td>\n",
       "      <td>2861.0</td>\n",
       "      <td>8.697</td>\n",
       "      <td>6.8</td>\n",
       "      <td>animation</td>\n",
       "      <td>2</td>\n",
       "    </tr>\n",
       "    <tr>\n",
       "      <th>4</th>\n",
       "      <td>Disney</td>\n",
       "      <td>tm38852</td>\n",
       "      <td>Horton Hears a Who!</td>\n",
       "      <td>MOVIE</td>\n",
       "      <td>2008</td>\n",
       "      <td>86</td>\n",
       "      <td>['US']</td>\n",
       "      <td>tt0451079</td>\n",
       "      <td>6.8</td>\n",
       "      <td>138363.0</td>\n",
       "      <td>37.730</td>\n",
       "      <td>6.5</td>\n",
       "      <td>fantasy</td>\n",
       "      <td>1</td>\n",
       "    </tr>\n",
       "  </tbody>\n",
       "</table>\n",
       "</div>"
      ],
      "text/plain": [
       "  platform       id                           title   type  release_year  \\\n",
       "0   Disney  tm19438              The Princess Bride  MOVIE          1987   \n",
       "1   Disney  ts20711                    The Simpsons   SHOW          1989   \n",
       "2   Disney  ts15377  America's Funniest Home Videos   SHOW          1989   \n",
       "3   Disney  ts22130                Rolie Polie Olie   SHOW          1998   \n",
       "4   Disney  tm38852             Horton Hears a Who!  MOVIE          2008   \n",
       "\n",
       "   runtime      production_countries    imdb_id  imdb_score  imdb_votes  \\\n",
       "0       99                    ['US']  tt0093779         8.0    420521.0   \n",
       "1       27                    ['US']  tt0096697         8.7    394764.0   \n",
       "2       49                    ['US']  tt0098740         6.2      5356.0   \n",
       "3       21  ['FR', 'GB', 'US', 'CA']  tt0172049         6.3      2861.0   \n",
       "4       86                    ['US']  tt0451079         6.8    138363.0   \n",
       "\n",
       "   tmdb_popularity  tmdb_score     genre1 genreR  \n",
       "0           21.284         7.7    fantasy      1  \n",
       "1          516.381         7.9  animation      2  \n",
       "2           18.117         7.0  animation      2  \n",
       "3            8.697         6.8  animation      2  \n",
       "4           37.730         6.5    fantasy      1  "
      ]
     },
     "execution_count": 59,
     "metadata": {},
     "output_type": "execute_result"
    }
   ],
   "source": [
    "df.head()"
   ]
  },
  {
   "cell_type": "code",
   "execution_count": 60,
   "metadata": {
    "cell_id": "4c3a56ad83ee43fb9d9bddeb9ebbe0fc",
    "deepnote_cell_type": "code",
    "deepnote_to_be_reexecuted": false,
    "execution_millis": 1,
    "execution_start": 1675646107758,
    "source_hash": "d7422f81"
   },
   "outputs": [],
   "source": [
    "#ok, maybe I will proceed but that warning may throw some problems my way\n",
    "#genre 18 is [] or none"
   ]
  },
  {
   "cell_type": "code",
   "execution_count": 61,
   "metadata": {
    "cell_id": "d29b1b7159564711975f2184d154f9b9",
    "deepnote_cell_type": "code",
    "deepnote_to_be_reexecuted": false,
    "execution_millis": 2,
    "execution_start": 1675646107806,
    "source_hash": "11fa3783"
   },
   "outputs": [
    {
     "data": {
      "text/plain": [
       "7     3799\n",
       "4     3048\n",
       "12    1442\n",
       "8     1369\n",
       "3      948\n",
       "5      862\n",
       "13     723\n",
       "2      722\n",
       "15     657\n",
       "14     528\n",
       "1      420\n",
       "6      363\n",
       "10     323\n",
       "9      119\n",
       "17      98\n",
       "11      85\n",
       "16      64\n",
       "18      23\n",
       "19      15\n",
       "20       3\n",
       "Name: genreR, dtype: int64"
      ]
     },
     "execution_count": 61,
     "metadata": {},
     "output_type": "execute_result"
    }
   ],
   "source": [
    "df.genreR.value_counts()"
   ]
  },
  {
   "cell_type": "code",
   "execution_count": 62,
   "metadata": {
    "cell_id": "780159fd897042559b80fbfdf5ab0f38",
    "deepnote_cell_type": "code",
    "deepnote_to_be_reexecuted": false,
    "execution_millis": 37,
    "execution_start": 1675646107807,
    "source_hash": "83d9ef71"
   },
   "outputs": [],
   "source": [
    "#recoding platform \n",
    "def platformR (series):\n",
    "    if series == \"platform\":\n",
    "        return \"0\"\n",
    "    if series == \"Amazon\":\n",
    "        return \"1\"\n",
    "    if series == \"Netflix\":\n",
    "        return \"2\"\n",
    "    if series == \"Hulu\":\n",
    "        return \"3\"\n",
    "    if series == \"Disney\":\n",
    "        return \"4\"\n",
    "df[\"platformR\"] = df[\"platform\"].apply(platformR)"
   ]
  },
  {
   "cell_type": "code",
   "execution_count": 63,
   "metadata": {
    "cell_id": "030e8c032ae84723a4f4ea8a7ceb87ba",
    "deepnote_cell_type": "code",
    "deepnote_to_be_reexecuted": false,
    "execution_millis": 8,
    "execution_start": 1675646107842,
    "source_hash": "b9b10f5e",
    "tags": []
   },
   "outputs": [],
   "source": [
    "def typeR (series):\n",
    "    if series == \"type\":\n",
    "        return \"0\"\n",
    "    if series == \"MOVIE\":\n",
    "        return \"1\"\n",
    "    if series == \"SHOW\":\n",
    "        return \"2\"\n",
    "df[\"typeR\"] = df[\"type\"].apply(typeR)"
   ]
  },
  {
   "cell_type": "code",
   "execution_count": 65,
   "metadata": {
    "cell_id": "4bd3be0387ff43a9a2c1ff37cba217d1",
    "deepnote_cell_type": "code",
    "deepnote_to_be_reexecuted": false,
    "execution_millis": 8,
    "execution_start": 1675646107843,
    "source_hash": "785ebee3",
    "tags": []
   },
   "outputs": [],
   "source": [
    "#recoding object to numeric variables\n",
    "df.typeR = df.typeR.astype(int)\n",
    "df.genreR = df.genreR.astype(int)\n",
    "df.platformR =df.platformR.astype(int)"
   ]
  },
  {
   "cell_type": "code",
   "execution_count": 66,
   "metadata": {
    "cell_id": "61a0a54ed6a240a89e40f89afabdb85e",
    "deepnote_cell_type": "code",
    "deepnote_to_be_reexecuted": false,
    "execution_millis": 46,
    "execution_start": 1675646108934,
    "source_hash": "8347d2cc",
    "tags": []
   },
   "outputs": [],
   "source": [
    "#Supervised machine learning\n",
    "from sklearn.linear_model import LinearRegression\n",
    "from sklearn.model_selection import train_test_split\n",
    "import matplotlib as plt\n",
    "%matplotlib inline\n",
    "from sklearn import metrics\n",
    "import numpy as np"
   ]
  },
  {
   "cell_type": "code",
   "execution_count": 67,
   "metadata": {
    "cell_id": "e10d6a075e5743b198c932dbbc1d1caf",
    "deepnote_cell_type": "code",
    "deepnote_to_be_reexecuted": false,
    "execution_millis": 20679944,
    "execution_start": 1675646108935,
    "source_hash": "6a77453d",
    "tags": []
   },
   "outputs": [],
   "source": [
    "import matplotlib.pyplot as plt"
   ]
  },
  {
   "cell_type": "code",
   "execution_count": 68,
   "metadata": {
    "cell_id": "314d668b4ca74a9fbbfd879b07b5d972",
    "deepnote_cell_type": "code",
    "deepnote_to_be_reexecuted": false,
    "execution_millis": 20679874,
    "execution_start": 1675646108936,
    "source_hash": "f59a5a5d",
    "tags": []
   },
   "outputs": [],
   "source": [
    "#1 Goal in machine learning: Can we accurately predict the genre of movie in the future based on imdb_score for SHOWS? \n",
    "#Y variable - genreR\n",
    "#X Variable 1 - imdb score\n",
    "\n",
    "#2 Goal in machine learning: Can we predict which platform will host which genres for both movies and shows.\n",
    "#Y variable - platform\n",
    "#X Variable 1 - tmdb score\n",
    "#X Variable 2 - genreR \n",
    "#X Variable 3 - tmdb popularity"
   ]
  },
  {
   "cell_type": "code",
   "execution_count": 69,
   "metadata": {},
   "outputs": [],
   "source": [
    "#Starting with goal 2: Can the platform be predicted based on tmbd score, genre or popularity? \n",
    "x = df[['tmdb_score', 'genreR', 'tmdb_popularity']]\n",
    "y = df['platformR']"
   ]
  },
  {
   "cell_type": "code",
   "execution_count": 70,
   "metadata": {},
   "outputs": [
    {
     "name": "stdout",
     "output_type": "stream",
     "text": [
      "(9366, 3) (9366,)\n",
      "(6245, 3) (6245,)\n"
     ]
    }
   ],
   "source": [
    "#Train Test Split: Typically you want more data to be used for training than for testing. 80/20, 70/30, and 60/40 splits are all acceptable. This is a 60/40 split.\n",
    "x_train, x_test, y_train, y_test = train_test_split(x,y, test_size = .4, random_state=101)\n",
    "print(x_train.shape, y_train.shape)\n",
    "print(x_test.shape, y_test.shape)"
   ]
  },
  {
   "cell_type": "code",
   "execution_count": 71,
   "metadata": {
    "cell_id": "bc2937a980524f32b83aa0631e5d0078",
    "deepnote_cell_type": "code",
    "deepnote_to_be_reexecuted": false,
    "execution_millis": 42,
    "execution_start": 1675646108939,
    "source_hash": "8970702b",
    "tags": []
   },
   "outputs": [
    {
     "data": {
      "text/html": [
       "<style>#sk-container-id-1 {color: black;background-color: white;}#sk-container-id-1 pre{padding: 0;}#sk-container-id-1 div.sk-toggleable {background-color: white;}#sk-container-id-1 label.sk-toggleable__label {cursor: pointer;display: block;width: 100%;margin-bottom: 0;padding: 0.3em;box-sizing: border-box;text-align: center;}#sk-container-id-1 label.sk-toggleable__label-arrow:before {content: \"▸\";float: left;margin-right: 0.25em;color: #696969;}#sk-container-id-1 label.sk-toggleable__label-arrow:hover:before {color: black;}#sk-container-id-1 div.sk-estimator:hover label.sk-toggleable__label-arrow:before {color: black;}#sk-container-id-1 div.sk-toggleable__content {max-height: 0;max-width: 0;overflow: hidden;text-align: left;background-color: #f0f8ff;}#sk-container-id-1 div.sk-toggleable__content pre {margin: 0.2em;color: black;border-radius: 0.25em;background-color: #f0f8ff;}#sk-container-id-1 input.sk-toggleable__control:checked~div.sk-toggleable__content {max-height: 200px;max-width: 100%;overflow: auto;}#sk-container-id-1 input.sk-toggleable__control:checked~label.sk-toggleable__label-arrow:before {content: \"▾\";}#sk-container-id-1 div.sk-estimator input.sk-toggleable__control:checked~label.sk-toggleable__label {background-color: #d4ebff;}#sk-container-id-1 div.sk-label input.sk-toggleable__control:checked~label.sk-toggleable__label {background-color: #d4ebff;}#sk-container-id-1 input.sk-hidden--visually {border: 0;clip: rect(1px 1px 1px 1px);clip: rect(1px, 1px, 1px, 1px);height: 1px;margin: -1px;overflow: hidden;padding: 0;position: absolute;width: 1px;}#sk-container-id-1 div.sk-estimator {font-family: monospace;background-color: #f0f8ff;border: 1px dotted black;border-radius: 0.25em;box-sizing: border-box;margin-bottom: 0.5em;}#sk-container-id-1 div.sk-estimator:hover {background-color: #d4ebff;}#sk-container-id-1 div.sk-parallel-item::after {content: \"\";width: 100%;border-bottom: 1px solid gray;flex-grow: 1;}#sk-container-id-1 div.sk-label:hover label.sk-toggleable__label {background-color: #d4ebff;}#sk-container-id-1 div.sk-serial::before {content: \"\";position: absolute;border-left: 1px solid gray;box-sizing: border-box;top: 0;bottom: 0;left: 50%;z-index: 0;}#sk-container-id-1 div.sk-serial {display: flex;flex-direction: column;align-items: center;background-color: white;padding-right: 0.2em;padding-left: 0.2em;position: relative;}#sk-container-id-1 div.sk-item {position: relative;z-index: 1;}#sk-container-id-1 div.sk-parallel {display: flex;align-items: stretch;justify-content: center;background-color: white;position: relative;}#sk-container-id-1 div.sk-item::before, #sk-container-id-1 div.sk-parallel-item::before {content: \"\";position: absolute;border-left: 1px solid gray;box-sizing: border-box;top: 0;bottom: 0;left: 50%;z-index: -1;}#sk-container-id-1 div.sk-parallel-item {display: flex;flex-direction: column;z-index: 1;position: relative;background-color: white;}#sk-container-id-1 div.sk-parallel-item:first-child::after {align-self: flex-end;width: 50%;}#sk-container-id-1 div.sk-parallel-item:last-child::after {align-self: flex-start;width: 50%;}#sk-container-id-1 div.sk-parallel-item:only-child::after {width: 0;}#sk-container-id-1 div.sk-dashed-wrapped {border: 1px dashed gray;margin: 0 0.4em 0.5em 0.4em;box-sizing: border-box;padding-bottom: 0.4em;background-color: white;}#sk-container-id-1 div.sk-label label {font-family: monospace;font-weight: bold;display: inline-block;line-height: 1.2em;}#sk-container-id-1 div.sk-label-container {text-align: center;}#sk-container-id-1 div.sk-container {/* jupyter's `normalize.less` sets `[hidden] { display: none; }` but bootstrap.min.css set `[hidden] { display: none !important; }` so we also need the `!important` here to be able to override the default hidden behavior on the sphinx rendered scikit-learn.org. See: https://github.com/scikit-learn/scikit-learn/issues/21755 */display: inline-block !important;position: relative;}#sk-container-id-1 div.sk-text-repr-fallback {display: none;}</style><div id=\"sk-container-id-1\" class=\"sk-top-container\"><div class=\"sk-text-repr-fallback\"><pre>LinearRegression()</pre><b>In a Jupyter environment, please rerun this cell to show the HTML representation or trust the notebook. <br />On GitHub, the HTML representation is unable to render, please try loading this page with nbviewer.org.</b></div><div class=\"sk-container\" hidden><div class=\"sk-item\"><div class=\"sk-estimator sk-toggleable\"><input class=\"sk-toggleable__control sk-hidden--visually\" id=\"sk-estimator-id-1\" type=\"checkbox\" checked><label for=\"sk-estimator-id-1\" class=\"sk-toggleable__label sk-toggleable__label-arrow\">LinearRegression</label><div class=\"sk-toggleable__content\"><pre>LinearRegression()</pre></div></div></div></div></div>"
      ],
      "text/plain": [
       "LinearRegression()"
      ]
     },
     "execution_count": 71,
     "metadata": {},
     "output_type": "execute_result"
    }
   ],
   "source": [
    "#create linear regression model \n",
    "lm = LinearRegression()\n",
    "lm.fit(x_train,y_train)"
   ]
  },
  {
   "cell_type": "code",
   "execution_count": 72,
   "metadata": {
    "cell_id": "58232a09943843cba9535a995e03a4eb",
    "deepnote_cell_type": "code",
    "deepnote_to_be_reexecuted": false,
    "execution_millis": 71,
    "execution_start": 1675646108941,
    "source_hash": "ac88661f",
    "tags": []
   },
   "outputs": [
    {
     "data": {
      "text/plain": [
       "array([1.90490868, 1.93206636, 2.0286693 , ..., 1.47464769, 1.52180078,\n",
       "       1.95994322])"
      ]
     },
     "execution_count": 72,
     "metadata": {},
     "output_type": "execute_result"
    }
   ],
   "source": [
    "#Interpreting Supervised Machine Learning Accuracy\n",
    "predictions = lm.predict(x_test)\n",
    "predictions"
   ]
  },
  {
   "cell_type": "code",
   "execution_count": 49,
   "metadata": {
    "cell_id": "1cde2fb6ff444e0fa246ca5f99482844",
    "deepnote_cell_type": "code",
    "deepnote_to_be_reexecuted": false,
    "execution_millis": 570,
    "execution_start": 1675646108984,
    "source_hash": "7f2302b9",
    "tags": []
   },
   "outputs": [
    {
     "data": {
      "text/plain": [
       "<matplotlib.collections.PathCollection at 0x7fb101d1ed90>"
      ]
     },
     "execution_count": 49,
     "metadata": {},
     "output_type": "execute_result"
    },
    {
     "data": {
      "image/png": "[encoded data removed]",
      "text/plain": [
       "<Figure size 640x480 with 1 Axes>"
      ]
     },
     "metadata": {
      "image/png": {
       "height": 413,
       "width": 534
      }
     },
     "output_type": "display_data"
    }
   ],
   "source": [
    "#Creating a scatter plot to view predictions\n",
    "plt.scatter(y_test, predictions)\n",
    "#This doesn't look good"
   ]
  },
  {
   "cell_type": "code",
   "execution_count": 73,
   "metadata": {
    "cell_id": "3491c9102c8742fe8de6dd68969c1fe2",
    "deepnote_cell_type": "code",
    "deepnote_to_be_reexecuted": false,
    "execution_millis": 176,
    "execution_start": 1675646109379,
    "source_hash": "37e178d2",
    "tags": []
   },
   "outputs": [
    {
     "name": "stdout",
     "output_type": "stream",
     "text": [
      "Score: 0.10242144510117224\n"
     ]
    }
   ],
   "source": [
    "#Accuracy Score for if the platform can be predicted.\n",
    "print(\"Score:\", lm.score(x_test, y_test))"
   ]
  },
  {
   "cell_type": "code",
   "execution_count": 74,
   "metadata": {},
   "outputs": [],
   "source": [
    "#The platform can be predicted with a 10% accuracy."
   ]
  },
  {
   "cell_type": "code",
   "execution_count": 85,
   "metadata": {},
   "outputs": [],
   "source": [
    "#Switching back to goal 1 to verify findings. "
   ]
  },
  {
   "cell_type": "code",
   "execution_count": 86,
   "metadata": {},
   "outputs": [],
   "source": [
    "#Reading in data again for fresh start"
   ]
  },
  {
   "cell_type": "code",
   "execution_count": 87,
   "metadata": {},
   "outputs": [],
   "source": [
    "df2 = pd.read_csv(\"Desktop/All Streaming Data 1.29.23 (1).csv\")"
   ]
  },
  {
   "cell_type": "code",
   "execution_count": 88,
   "metadata": {},
   "outputs": [
    {
     "data": {
      "text/html": [
       "<div>\n",
       "<style scoped>\n",
       "    .dataframe tbody tr th:only-of-type {\n",
       "        vertical-align: middle;\n",
       "    }\n",
       "\n",
       "    .dataframe tbody tr th {\n",
       "        vertical-align: top;\n",
       "    }\n",
       "\n",
       "    .dataframe thead th {\n",
       "        text-align: right;\n",
       "    }\n",
       "</style>\n",
       "<table border=\"1\" class=\"dataframe\">\n",
       "  <thead>\n",
       "    <tr style=\"text-align: right;\">\n",
       "      <th></th>\n",
       "      <th>platform</th>\n",
       "      <th>id</th>\n",
       "      <th>title</th>\n",
       "      <th>type</th>\n",
       "      <th>description</th>\n",
       "      <th>release_year</th>\n",
       "      <th>age_certification</th>\n",
       "      <th>runtime</th>\n",
       "      <th>genres</th>\n",
       "      <th>production_countries</th>\n",
       "      <th>...</th>\n",
       "      <th>genre1</th>\n",
       "      <th>genre2</th>\n",
       "      <th>genre3</th>\n",
       "      <th>genre4</th>\n",
       "      <th>genre5</th>\n",
       "      <th>genre6</th>\n",
       "      <th>genre7</th>\n",
       "      <th>genre8</th>\n",
       "      <th>genre9</th>\n",
       "      <th>genre10</th>\n",
       "    </tr>\n",
       "  </thead>\n",
       "  <tbody>\n",
       "    <tr>\n",
       "      <th>0</th>\n",
       "      <td>Disney</td>\n",
       "      <td>tm19438</td>\n",
       "      <td>The Princess Bride</td>\n",
       "      <td>MOVIE</td>\n",
       "      <td>In this enchantingly cracked fairy tale, the b...</td>\n",
       "      <td>1987</td>\n",
       "      <td>PG</td>\n",
       "      <td>99</td>\n",
       "      <td>fantasy, family, romance</td>\n",
       "      <td>['US']</td>\n",
       "      <td>...</td>\n",
       "      <td>fantasy</td>\n",
       "      <td>family</td>\n",
       "      <td>romance</td>\n",
       "      <td>NaN</td>\n",
       "      <td>NaN</td>\n",
       "      <td>NaN</td>\n",
       "      <td>NaN</td>\n",
       "      <td>NaN</td>\n",
       "      <td>NaN</td>\n",
       "      <td>NaN</td>\n",
       "    </tr>\n",
       "    <tr>\n",
       "      <th>1</th>\n",
       "      <td>Disney</td>\n",
       "      <td>ts20711</td>\n",
       "      <td>The Simpsons</td>\n",
       "      <td>SHOW</td>\n",
       "      <td>The satiric adventures of a working-class fami...</td>\n",
       "      <td>1989</td>\n",
       "      <td>TV-14</td>\n",
       "      <td>27</td>\n",
       "      <td>animation, comedy</td>\n",
       "      <td>['US']</td>\n",
       "      <td>...</td>\n",
       "      <td>animation</td>\n",
       "      <td>comedy</td>\n",
       "      <td>NaN</td>\n",
       "      <td>NaN</td>\n",
       "      <td>NaN</td>\n",
       "      <td>NaN</td>\n",
       "      <td>NaN</td>\n",
       "      <td>NaN</td>\n",
       "      <td>NaN</td>\n",
       "      <td>NaN</td>\n",
       "    </tr>\n",
       "    <tr>\n",
       "      <th>2</th>\n",
       "      <td>Disney</td>\n",
       "      <td>ts15377</td>\n",
       "      <td>America's Funniest Home Videos</td>\n",
       "      <td>SHOW</td>\n",
       "      <td>America's Funniest Home Videos is the longest-...</td>\n",
       "      <td>1989</td>\n",
       "      <td>TV-PG</td>\n",
       "      <td>49</td>\n",
       "      <td>animation, reality, comedy</td>\n",
       "      <td>['US']</td>\n",
       "      <td>...</td>\n",
       "      <td>animation</td>\n",
       "      <td>reality</td>\n",
       "      <td>comedy</td>\n",
       "      <td>NaN</td>\n",
       "      <td>NaN</td>\n",
       "      <td>NaN</td>\n",
       "      <td>NaN</td>\n",
       "      <td>NaN</td>\n",
       "      <td>NaN</td>\n",
       "      <td>NaN</td>\n",
       "    </tr>\n",
       "    <tr>\n",
       "      <th>3</th>\n",
       "      <td>Disney</td>\n",
       "      <td>ts22130</td>\n",
       "      <td>Rolie Polie Olie</td>\n",
       "      <td>SHOW</td>\n",
       "      <td>Rolie Polie Olie was a children's television s...</td>\n",
       "      <td>1998</td>\n",
       "      <td>TV-Y</td>\n",
       "      <td>21</td>\n",
       "      <td>animation, comedy, family, fantasy, scifi</td>\n",
       "      <td>['FR', 'GB', 'US', 'CA']</td>\n",
       "      <td>...</td>\n",
       "      <td>animation</td>\n",
       "      <td>comedy</td>\n",
       "      <td>family</td>\n",
       "      <td>fantasy</td>\n",
       "      <td>scifi</td>\n",
       "      <td>NaN</td>\n",
       "      <td>NaN</td>\n",
       "      <td>NaN</td>\n",
       "      <td>NaN</td>\n",
       "      <td>NaN</td>\n",
       "    </tr>\n",
       "    <tr>\n",
       "      <th>4</th>\n",
       "      <td>Disney</td>\n",
       "      <td>tm38852</td>\n",
       "      <td>Horton Hears a Who!</td>\n",
       "      <td>MOVIE</td>\n",
       "      <td>One day, Horton the elephant hears a cry from ...</td>\n",
       "      <td>2008</td>\n",
       "      <td>G</td>\n",
       "      <td>86</td>\n",
       "      <td>fantasy, family, drama, romance, comedy, music...</td>\n",
       "      <td>['US']</td>\n",
       "      <td>...</td>\n",
       "      <td>fantasy</td>\n",
       "      <td>family</td>\n",
       "      <td>drama</td>\n",
       "      <td>romance</td>\n",
       "      <td>comedy</td>\n",
       "      <td>music</td>\n",
       "      <td>animation</td>\n",
       "      <td>NaN</td>\n",
       "      <td>NaN</td>\n",
       "      <td>NaN</td>\n",
       "    </tr>\n",
       "  </tbody>\n",
       "</table>\n",
       "<p>5 rows × 26 columns</p>\n",
       "</div>"
      ],
      "text/plain": [
       "  platform       id                           title   type  \\\n",
       "0   Disney  tm19438              The Princess Bride  MOVIE   \n",
       "1   Disney  ts20711                    The Simpsons   SHOW   \n",
       "2   Disney  ts15377  America's Funniest Home Videos   SHOW   \n",
       "3   Disney  ts22130                Rolie Polie Olie   SHOW   \n",
       "4   Disney  tm38852             Horton Hears a Who!  MOVIE   \n",
       "\n",
       "                                         description  release_year  \\\n",
       "0  In this enchantingly cracked fairy tale, the b...          1987   \n",
       "1  The satiric adventures of a working-class fami...          1989   \n",
       "2  America's Funniest Home Videos is the longest-...          1989   \n",
       "3  Rolie Polie Olie was a children's television s...          1998   \n",
       "4  One day, Horton the elephant hears a cry from ...          2008   \n",
       "\n",
       "  age_certification  runtime  \\\n",
       "0                PG       99   \n",
       "1             TV-14       27   \n",
       "2             TV-PG       49   \n",
       "3              TV-Y       21   \n",
       "4                 G       86   \n",
       "\n",
       "                                              genres  \\\n",
       "0                           fantasy, family, romance   \n",
       "1                                  animation, comedy   \n",
       "2                         animation, reality, comedy   \n",
       "3          animation, comedy, family, fantasy, scifi   \n",
       "4  fantasy, family, drama, romance, comedy, music...   \n",
       "\n",
       "       production_countries  ...     genre1   genre2   genre3   genre4  \\\n",
       "0                    ['US']  ...    fantasy   family  romance      NaN   \n",
       "1                    ['US']  ...  animation   comedy      NaN      NaN   \n",
       "2                    ['US']  ...  animation  reality   comedy      NaN   \n",
       "3  ['FR', 'GB', 'US', 'CA']  ...  animation   comedy   family  fantasy   \n",
       "4                    ['US']  ...    fantasy   family    drama  romance   \n",
       "\n",
       "   genre5  genre6     genre7 genre8 genre9 genre10  \n",
       "0     NaN     NaN        NaN    NaN    NaN     NaN  \n",
       "1     NaN     NaN        NaN    NaN    NaN     NaN  \n",
       "2     NaN     NaN        NaN    NaN    NaN     NaN  \n",
       "3   scifi     NaN        NaN    NaN    NaN     NaN  \n",
       "4  comedy   music  animation    NaN    NaN     NaN  \n",
       "\n",
       "[5 rows x 26 columns]"
      ]
     },
     "execution_count": 88,
     "metadata": {},
     "output_type": "execute_result"
    }
   ],
   "source": [
    "df2.head()"
   ]
  },
  {
   "cell_type": "code",
   "execution_count": 89,
   "metadata": {},
   "outputs": [
    {
     "data": {
      "text/plain": [
       "(19654, 26)"
      ]
     },
     "execution_count": 89,
     "metadata": {},
     "output_type": "execute_result"
    }
   ],
   "source": [
    "df2.shape"
   ]
  },
  {
   "cell_type": "code",
   "execution_count": 90,
   "metadata": {},
   "outputs": [],
   "source": [
    "#Subsetting the data"
   ]
  },
  {
   "cell_type": "code",
   "execution_count": 118,
   "metadata": {},
   "outputs": [],
   "source": [
    "df3 = df2.drop (['title', 'description', 'age_certification', 'genres', 'production_countries', 'tmdb_popularity','tmdb_score','genre2', 'genre3', 'genre4', 'genre5', 'genre6', 'genre7', 'genre8', 'genre9','genre10', 'seasons', 'imdb_votes', 'imdb_id'], axis=1)"
   ]
  },
  {
   "cell_type": "code",
   "execution_count": 119,
   "metadata": {},
   "outputs": [
    {
     "data": {
      "text/html": [
       "<div>\n",
       "<style scoped>\n",
       "    .dataframe tbody tr th:only-of-type {\n",
       "        vertical-align: middle;\n",
       "    }\n",
       "\n",
       "    .dataframe tbody tr th {\n",
       "        vertical-align: top;\n",
       "    }\n",
       "\n",
       "    .dataframe thead th {\n",
       "        text-align: right;\n",
       "    }\n",
       "</style>\n",
       "<table border=\"1\" class=\"dataframe\">\n",
       "  <thead>\n",
       "    <tr style=\"text-align: right;\">\n",
       "      <th></th>\n",
       "      <th>platform</th>\n",
       "      <th>id</th>\n",
       "      <th>type</th>\n",
       "      <th>release_year</th>\n",
       "      <th>runtime</th>\n",
       "      <th>imdb_score</th>\n",
       "      <th>genre1</th>\n",
       "    </tr>\n",
       "  </thead>\n",
       "  <tbody>\n",
       "    <tr>\n",
       "      <th>0</th>\n",
       "      <td>Disney</td>\n",
       "      <td>tm19438</td>\n",
       "      <td>MOVIE</td>\n",
       "      <td>1987</td>\n",
       "      <td>99</td>\n",
       "      <td>8.0</td>\n",
       "      <td>fantasy</td>\n",
       "    </tr>\n",
       "    <tr>\n",
       "      <th>1</th>\n",
       "      <td>Disney</td>\n",
       "      <td>ts20711</td>\n",
       "      <td>SHOW</td>\n",
       "      <td>1989</td>\n",
       "      <td>27</td>\n",
       "      <td>8.7</td>\n",
       "      <td>animation</td>\n",
       "    </tr>\n",
       "    <tr>\n",
       "      <th>2</th>\n",
       "      <td>Disney</td>\n",
       "      <td>ts15377</td>\n",
       "      <td>SHOW</td>\n",
       "      <td>1989</td>\n",
       "      <td>49</td>\n",
       "      <td>6.2</td>\n",
       "      <td>animation</td>\n",
       "    </tr>\n",
       "    <tr>\n",
       "      <th>3</th>\n",
       "      <td>Disney</td>\n",
       "      <td>ts22130</td>\n",
       "      <td>SHOW</td>\n",
       "      <td>1998</td>\n",
       "      <td>21</td>\n",
       "      <td>6.3</td>\n",
       "      <td>animation</td>\n",
       "    </tr>\n",
       "    <tr>\n",
       "      <th>4</th>\n",
       "      <td>Disney</td>\n",
       "      <td>tm38852</td>\n",
       "      <td>MOVIE</td>\n",
       "      <td>2008</td>\n",
       "      <td>86</td>\n",
       "      <td>6.8</td>\n",
       "      <td>fantasy</td>\n",
       "    </tr>\n",
       "  </tbody>\n",
       "</table>\n",
       "</div>"
      ],
      "text/plain": [
       "  platform       id   type  release_year  runtime  imdb_score     genre1\n",
       "0   Disney  tm19438  MOVIE          1987       99         8.0    fantasy\n",
       "1   Disney  ts20711   SHOW          1989       27         8.7  animation\n",
       "2   Disney  ts15377   SHOW          1989       49         6.2  animation\n",
       "3   Disney  ts22130   SHOW          1998       21         6.3  animation\n",
       "4   Disney  tm38852  MOVIE          2008       86         6.8    fantasy"
      ]
     },
     "execution_count": 119,
     "metadata": {},
     "output_type": "execute_result"
    }
   ],
   "source": [
    "df3.head()"
   ]
  },
  {
   "cell_type": "code",
   "execution_count": 120,
   "metadata": {},
   "outputs": [
    {
     "data": {
      "text/plain": [
       "(19654, 7)"
      ]
     },
     "execution_count": 120,
     "metadata": {},
     "output_type": "execute_result"
    }
   ],
   "source": [
    "df3.shape"
   ]
  },
  {
   "cell_type": "code",
   "execution_count": 121,
   "metadata": {},
   "outputs": [],
   "source": [
    "df4 = df3.loc[df2['type']=='SHOW']"
   ]
  },
  {
   "cell_type": "code",
   "execution_count": 122,
   "metadata": {},
   "outputs": [
    {
     "data": {
      "text/html": [
       "<div>\n",
       "<style scoped>\n",
       "    .dataframe tbody tr th:only-of-type {\n",
       "        vertical-align: middle;\n",
       "    }\n",
       "\n",
       "    .dataframe tbody tr th {\n",
       "        vertical-align: top;\n",
       "    }\n",
       "\n",
       "    .dataframe thead th {\n",
       "        text-align: right;\n",
       "    }\n",
       "</style>\n",
       "<table border=\"1\" class=\"dataframe\">\n",
       "  <thead>\n",
       "    <tr style=\"text-align: right;\">\n",
       "      <th></th>\n",
       "      <th>platform</th>\n",
       "      <th>id</th>\n",
       "      <th>type</th>\n",
       "      <th>release_year</th>\n",
       "      <th>runtime</th>\n",
       "      <th>imdb_score</th>\n",
       "      <th>genre1</th>\n",
       "    </tr>\n",
       "  </thead>\n",
       "  <tbody>\n",
       "    <tr>\n",
       "      <th>1</th>\n",
       "      <td>Disney</td>\n",
       "      <td>ts20711</td>\n",
       "      <td>SHOW</td>\n",
       "      <td>1989</td>\n",
       "      <td>27</td>\n",
       "      <td>8.7</td>\n",
       "      <td>animation</td>\n",
       "    </tr>\n",
       "    <tr>\n",
       "      <th>2</th>\n",
       "      <td>Disney</td>\n",
       "      <td>ts15377</td>\n",
       "      <td>SHOW</td>\n",
       "      <td>1989</td>\n",
       "      <td>49</td>\n",
       "      <td>6.2</td>\n",
       "      <td>animation</td>\n",
       "    </tr>\n",
       "    <tr>\n",
       "      <th>3</th>\n",
       "      <td>Disney</td>\n",
       "      <td>ts22130</td>\n",
       "      <td>SHOW</td>\n",
       "      <td>1998</td>\n",
       "      <td>21</td>\n",
       "      <td>6.3</td>\n",
       "      <td>animation</td>\n",
       "    </tr>\n",
       "    <tr>\n",
       "      <th>5</th>\n",
       "      <td>Disney</td>\n",
       "      <td>ts21940</td>\n",
       "      <td>SHOW</td>\n",
       "      <td>2010</td>\n",
       "      <td>23</td>\n",
       "      <td>6.6</td>\n",
       "      <td>action</td>\n",
       "    </tr>\n",
       "    <tr>\n",
       "      <th>6</th>\n",
       "      <td>Disney</td>\n",
       "      <td>ts21756</td>\n",
       "      <td>SHOW</td>\n",
       "      <td>2009</td>\n",
       "      <td>22</td>\n",
       "      <td>6.3</td>\n",
       "      <td>comedy</td>\n",
       "    </tr>\n",
       "  </tbody>\n",
       "</table>\n",
       "</div>"
      ],
      "text/plain": [
       "  platform       id  type  release_year  runtime  imdb_score     genre1\n",
       "1   Disney  ts20711  SHOW          1989       27         8.7  animation\n",
       "2   Disney  ts15377  SHOW          1989       49         6.2  animation\n",
       "3   Disney  ts22130  SHOW          1998       21         6.3  animation\n",
       "5   Disney  ts21940  SHOW          2010       23         6.6     action\n",
       "6   Disney  ts21756  SHOW          2009       22         6.3     comedy"
      ]
     },
     "execution_count": 122,
     "metadata": {},
     "output_type": "execute_result"
    }
   ],
   "source": [
    "df4.head()"
   ]
  },
  {
   "cell_type": "code",
   "execution_count": 113,
   "metadata": {},
   "outputs": [],
   "source": [
    "#Viewing and droppings NAs"
   ]
  },
  {
   "cell_type": "code",
   "execution_count": 123,
   "metadata": {},
   "outputs": [
    {
     "data": {
      "text/plain": [
       "platform          0\n",
       "id                0\n",
       "type              0\n",
       "release_year      0\n",
       "runtime           0\n",
       "imdb_score      492\n",
       "genre1            0\n",
       "dtype: int64"
      ]
     },
     "execution_count": 123,
     "metadata": {},
     "output_type": "execute_result"
    }
   ],
   "source": [
    "df4.isnull().sum()"
   ]
  },
  {
   "cell_type": "code",
   "execution_count": 98,
   "metadata": {},
   "outputs": [],
   "source": [
    "#So, when the NAs are dropped first using the dropna, it removes all rows that have NA - this means that the variables I don't need must be dropped first"
   ]
  },
  {
   "cell_type": "code",
   "execution_count": 124,
   "metadata": {},
   "outputs": [
    {
     "name": "stderr",
     "output_type": "stream",
     "text": [
      "C:\\Users\\lesle\\AppData\\Local\\Temp\\ipykernel_24948\\1595090722.py:1: SettingWithCopyWarning: \n",
      "A value is trying to be set on a copy of a slice from a DataFrame\n",
      "\n",
      "See the caveats in the documentation: https://pandas.pydata.org/pandas-docs/stable/user_guide/indexing.html#returning-a-view-versus-a-copy\n",
      "  df4.dropna(inplace=True)\n"
     ]
    }
   ],
   "source": [
    "df4.dropna(inplace=True)"
   ]
  },
  {
   "cell_type": "code",
   "execution_count": 125,
   "metadata": {},
   "outputs": [
    {
     "data": {
      "text/plain": [
       "platform        0\n",
       "id              0\n",
       "type            0\n",
       "release_year    0\n",
       "runtime         0\n",
       "imdb_score      0\n",
       "genre1          0\n",
       "dtype: int64"
      ]
     },
     "execution_count": 125,
     "metadata": {},
     "output_type": "execute_result"
    }
   ],
   "source": [
    "df4.isnull().sum()"
   ]
  },
  {
   "cell_type": "code",
   "execution_count": 126,
   "metadata": {},
   "outputs": [
    {
     "data": {
      "text/plain": [
       "<bound method DataFrame.count of       platform        id  type  release_year  runtime  imdb_score     genre1\n",
       "1       Disney   ts20711  SHOW          1989       27         8.7  animation\n",
       "2       Disney   ts15377  SHOW          1989       49         6.2  animation\n",
       "3       Disney   ts22130  SHOW          1998       21         6.3  animation\n",
       "5       Disney   ts21940  SHOW          2010       23         6.6     action\n",
       "6       Disney   ts21756  SHOW          2009       22         6.3     comedy\n",
       "...        ...       ...   ...           ...      ...         ...        ...\n",
       "19643     Hulu  ts322832  SHOW          2021       40         7.4    reality\n",
       "19645     Hulu  ts330888  SHOW          2021       24         7.0  animation\n",
       "19646     Hulu  ts289327  SHOW          2021       43         6.9      sport\n",
       "19649     Hulu  ts290117  SHOW          2021       11         7.3     comedy\n",
       "19651     Hulu  ts317705  SHOW          2021       42         4.7    reality\n",
       "\n",
       "[4716 rows x 7 columns]>"
      ]
     },
     "execution_count": 126,
     "metadata": {},
     "output_type": "execute_result"
    }
   ],
   "source": [
    "df4.count"
   ]
  },
  {
   "cell_type": "code",
   "execution_count": 127,
   "metadata": {},
   "outputs": [],
   "source": [
    "#This leaves 4716 rows of data - close to susan's 4680"
   ]
  },
  {
   "cell_type": "code",
   "execution_count": 128,
   "metadata": {},
   "outputs": [
    {
     "data": {
      "text/html": [
       "<div>\n",
       "<style scoped>\n",
       "    .dataframe tbody tr th:only-of-type {\n",
       "        vertical-align: middle;\n",
       "    }\n",
       "\n",
       "    .dataframe tbody tr th {\n",
       "        vertical-align: top;\n",
       "    }\n",
       "\n",
       "    .dataframe thead th {\n",
       "        text-align: right;\n",
       "    }\n",
       "</style>\n",
       "<table border=\"1\" class=\"dataframe\">\n",
       "  <thead>\n",
       "    <tr style=\"text-align: right;\">\n",
       "      <th></th>\n",
       "      <th>platform</th>\n",
       "      <th>id</th>\n",
       "      <th>type</th>\n",
       "      <th>release_year</th>\n",
       "      <th>runtime</th>\n",
       "      <th>imdb_score</th>\n",
       "      <th>genre1</th>\n",
       "    </tr>\n",
       "  </thead>\n",
       "  <tbody>\n",
       "    <tr>\n",
       "      <th>1</th>\n",
       "      <td>Disney</td>\n",
       "      <td>ts20711</td>\n",
       "      <td>SHOW</td>\n",
       "      <td>1989</td>\n",
       "      <td>27</td>\n",
       "      <td>8.7</td>\n",
       "      <td>animation</td>\n",
       "    </tr>\n",
       "    <tr>\n",
       "      <th>2</th>\n",
       "      <td>Disney</td>\n",
       "      <td>ts15377</td>\n",
       "      <td>SHOW</td>\n",
       "      <td>1989</td>\n",
       "      <td>49</td>\n",
       "      <td>6.2</td>\n",
       "      <td>animation</td>\n",
       "    </tr>\n",
       "    <tr>\n",
       "      <th>3</th>\n",
       "      <td>Disney</td>\n",
       "      <td>ts22130</td>\n",
       "      <td>SHOW</td>\n",
       "      <td>1998</td>\n",
       "      <td>21</td>\n",
       "      <td>6.3</td>\n",
       "      <td>animation</td>\n",
       "    </tr>\n",
       "    <tr>\n",
       "      <th>5</th>\n",
       "      <td>Disney</td>\n",
       "      <td>ts21940</td>\n",
       "      <td>SHOW</td>\n",
       "      <td>2010</td>\n",
       "      <td>23</td>\n",
       "      <td>6.6</td>\n",
       "      <td>action</td>\n",
       "    </tr>\n",
       "    <tr>\n",
       "      <th>6</th>\n",
       "      <td>Disney</td>\n",
       "      <td>ts21756</td>\n",
       "      <td>SHOW</td>\n",
       "      <td>2009</td>\n",
       "      <td>22</td>\n",
       "      <td>6.3</td>\n",
       "      <td>comedy</td>\n",
       "    </tr>\n",
       "  </tbody>\n",
       "</table>\n",
       "</div>"
      ],
      "text/plain": [
       "  platform       id  type  release_year  runtime  imdb_score     genre1\n",
       "1   Disney  ts20711  SHOW          1989       27         8.7  animation\n",
       "2   Disney  ts15377  SHOW          1989       49         6.2  animation\n",
       "3   Disney  ts22130  SHOW          1998       21         6.3  animation\n",
       "5   Disney  ts21940  SHOW          2010       23         6.6     action\n",
       "6   Disney  ts21756  SHOW          2009       22         6.3     comedy"
      ]
     },
     "execution_count": 128,
     "metadata": {},
     "output_type": "execute_result"
    }
   ],
   "source": [
    "df4.head()"
   ]
  },
  {
   "cell_type": "code",
   "execution_count": 129,
   "metadata": {},
   "outputs": [
    {
     "data": {
      "text/plain": [
       "7.055067854113655"
      ]
     },
     "execution_count": 129,
     "metadata": {},
     "output_type": "execute_result"
    }
   ],
   "source": [
    "#Checking out the mean of the imdb score\n",
    "df4.loc[:,'imdb_score'].mean()"
   ]
  },
  {
   "cell_type": "code",
   "execution_count": 130,
   "metadata": {},
   "outputs": [],
   "source": [
    "#The mean is still off from Susan's 7.06"
   ]
  },
  {
   "cell_type": "code",
   "execution_count": 131,
   "metadata": {},
   "outputs": [],
   "source": [
    "#Recoding variables"
   ]
  },
  {
   "cell_type": "code",
   "execution_count": 134,
   "metadata": {},
   "outputs": [
    {
     "name": "stderr",
     "output_type": "stream",
     "text": [
      "C:\\Users\\lesle\\AppData\\Local\\Temp\\ipykernel_24948\\500598205.py:8: SettingWithCopyWarning: \n",
      "A value is trying to be set on a copy of a slice from a DataFrame.\n",
      "Try using .loc[row_indexer,col_indexer] = value instead\n",
      "\n",
      "See the caveats in the documentation: https://pandas.pydata.org/pandas-docs/stable/user_guide/indexing.html#returning-a-view-versus-a-copy\n",
      "  df4[\"rating_df\"] = df4[\"imdb_score\"].apply(rating_df)\n"
     ]
    }
   ],
   "source": [
    "def rating_df (series):\n",
    "    if series == \"imdb_score\":\n",
    "        return \"0\"\n",
    "    if series <= 6.9:\n",
    "        return \"Negative\"\n",
    "    if series >= 7.0:\n",
    "        return \"Positive\"\n",
    "df4[\"rating_df\"] = df4[\"imdb_score\"].apply(rating_df)"
   ]
  },
  {
   "cell_type": "code",
   "execution_count": 133,
   "metadata": {},
   "outputs": [],
   "source": [
    "#This gave the same warning as last time"
   ]
  },
  {
   "cell_type": "code",
   "execution_count": 135,
   "metadata": {},
   "outputs": [
    {
     "name": "stderr",
     "output_type": "stream",
     "text": [
      "C:\\Users\\lesle\\AppData\\Local\\Temp\\ipykernel_24948\\3403973350.py:8: SettingWithCopyWarning: \n",
      "A value is trying to be set on a copy of a slice from a DataFrame.\n",
      "Try using .loc[row_indexer,col_indexer] = value instead\n",
      "\n",
      "See the caveats in the documentation: https://pandas.pydata.org/pandas-docs/stable/user_guide/indexing.html#returning-a-view-versus-a-copy\n",
      "  df4[\"rating_df1\"] = df4[\"rating_df\"].apply(rating_df1)\n"
     ]
    }
   ],
   "source": [
    "def rating_df1 (series):\n",
    "    if series == \"Rating\":\n",
    "        return \"0\"\n",
    "    if series == \"Positive\":\n",
    "        return \"1\"\n",
    "    if series == \"Negative\":\n",
    "        return \"2\"\n",
    "df4[\"rating_df1\"] = df4[\"rating_df\"].apply(rating_df1)"
   ]
  },
  {
   "cell_type": "code",
   "execution_count": 137,
   "metadata": {},
   "outputs": [
    {
     "data": {
      "text/plain": [
       "rating_df1\n",
       "1    2814\n",
       "2    1902\n",
       "Name: genre1, dtype: int64"
      ]
     },
     "execution_count": 137,
     "metadata": {},
     "output_type": "execute_result"
    }
   ],
   "source": [
    "df4.groupby('rating_df1')['genre1'].count()"
   ]
  },
  {
   "cell_type": "code",
   "execution_count": 138,
   "metadata": {},
   "outputs": [
    {
     "name": "stderr",
     "output_type": "stream",
     "text": [
      "C:\\Users\\lesle\\AppData\\Local\\Temp\\ipykernel_24948\\3769233172.py:13: SettingWithCopyWarning: \n",
      "A value is trying to be set on a copy of a slice from a DataFrame.\n",
      "Try using .loc[row_indexer,col_indexer] = value instead\n",
      "\n",
      "See the caveats in the documentation: https://pandas.pydata.org/pandas-docs/stable/user_guide/indexing.html#returning-a-view-versus-a-copy\n",
      "  df4[\"platformR\"] = df4[\"platform\"].apply(platformR)\n"
     ]
    }
   ],
   "source": [
    "#recode platforms\n",
    "def platformR (series):\n",
    "    if series == \"platform\":\n",
    "        return \"0\"\n",
    "    if series == \"Amazon\":\n",
    "        return \"1\"\n",
    "    if series == \"Netflix\":\n",
    "        return \"2\"\n",
    "    if series == \"Hulu\":\n",
    "        return \"3\"\n",
    "    if series == \"Disney\":\n",
    "        return \"4\"\n",
    "df4[\"platformR\"] = df4[\"platform\"].apply(platformR)"
   ]
  },
  {
   "cell_type": "code",
   "execution_count": 144,
   "metadata": {},
   "outputs": [
    {
     "name": "stderr",
     "output_type": "stream",
     "text": [
      "C:\\Users\\lesle\\AppData\\Local\\Temp\\ipykernel_24948\\461312972.py:45: SettingWithCopyWarning: \n",
      "A value is trying to be set on a copy of a slice from a DataFrame.\n",
      "Try using .loc[row_indexer,col_indexer] = value instead\n",
      "\n",
      "See the caveats in the documentation: https://pandas.pydata.org/pandas-docs/stable/user_guide/indexing.html#returning-a-view-versus-a-copy\n",
      "  df4[\"genreR\"] = df4[\"genre1\"].apply(genreR)\n"
     ]
    }
   ],
   "source": [
    "#recode genres\n",
    "def genreR (series):\n",
    "  if series == \"genre1\":\n",
    "    return \"0\"\n",
    "  if series == \"fantasy\": \n",
    "    return \"1\"\n",
    "  if series == \"animation\": \n",
    "    return \"2\"\n",
    "  if series == \"action\":\n",
    "    return \"3\"\n",
    "  if series == \"comedy\":\n",
    "    return \"4\"\n",
    "  if series == \"scifi\":\n",
    "    return \"5\"\n",
    "  if series == \"reality\":\n",
    "    return \"6\"\n",
    "  if series == \"drama\":\n",
    "    return \"7\"\n",
    "  if series == \"documentation\":\n",
    "    return \"8\"\n",
    "  if series == \"music\":\n",
    "    return \"9\"\n",
    "  if series == \"western\":\n",
    "    return \"10\"\n",
    "  if series == \"family\":\n",
    "    return \"11\"\n",
    "  if series == \"thriller\":\n",
    "    return \"12\"\n",
    "  if series == \"romance\":\n",
    "    return \"13\"\n",
    "  if series == \"crime\":\n",
    "    return \"14\"\n",
    "  if series == \"horror\":\n",
    "    return \"15\"\n",
    "  if series == \"history\":\n",
    "    return \"16\"\n",
    "  if series == \"war\":\n",
    "    return \"17\"\n",
    "  if series == \"[]\":\n",
    "    return \"18\"\n",
    "  if series == \"sport\":\n",
    "    return \"19\"\n",
    "  if series == 'european':\n",
    "    return \"20\"\n",
    "df4[\"genreR\"] = df4[\"genre1\"].apply(genreR)"
   ]
  },
  {
   "cell_type": "code",
   "execution_count": 145,
   "metadata": {},
   "outputs": [
    {
     "data": {
      "text/html": [
       "<div>\n",
       "<style scoped>\n",
       "    .dataframe tbody tr th:only-of-type {\n",
       "        vertical-align: middle;\n",
       "    }\n",
       "\n",
       "    .dataframe tbody tr th {\n",
       "        vertical-align: top;\n",
       "    }\n",
       "\n",
       "    .dataframe thead th {\n",
       "        text-align: right;\n",
       "    }\n",
       "</style>\n",
       "<table border=\"1\" class=\"dataframe\">\n",
       "  <thead>\n",
       "    <tr style=\"text-align: right;\">\n",
       "      <th></th>\n",
       "      <th>platform</th>\n",
       "      <th>id</th>\n",
       "      <th>type</th>\n",
       "      <th>release_year</th>\n",
       "      <th>runtime</th>\n",
       "      <th>imdb_score</th>\n",
       "      <th>genre1</th>\n",
       "      <th>df5</th>\n",
       "      <th>rating_df</th>\n",
       "      <th>rating_df1</th>\n",
       "      <th>platformR</th>\n",
       "      <th>genreR</th>\n",
       "    </tr>\n",
       "  </thead>\n",
       "  <tbody>\n",
       "    <tr>\n",
       "      <th>1</th>\n",
       "      <td>Disney</td>\n",
       "      <td>ts20711</td>\n",
       "      <td>SHOW</td>\n",
       "      <td>1989</td>\n",
       "      <td>27</td>\n",
       "      <td>8.7</td>\n",
       "      <td>animation</td>\n",
       "      <td>Positive</td>\n",
       "      <td>Positive</td>\n",
       "      <td>1</td>\n",
       "      <td>4</td>\n",
       "      <td>2</td>\n",
       "    </tr>\n",
       "    <tr>\n",
       "      <th>2</th>\n",
       "      <td>Disney</td>\n",
       "      <td>ts15377</td>\n",
       "      <td>SHOW</td>\n",
       "      <td>1989</td>\n",
       "      <td>49</td>\n",
       "      <td>6.2</td>\n",
       "      <td>animation</td>\n",
       "      <td>Negative</td>\n",
       "      <td>Negative</td>\n",
       "      <td>2</td>\n",
       "      <td>4</td>\n",
       "      <td>2</td>\n",
       "    </tr>\n",
       "    <tr>\n",
       "      <th>3</th>\n",
       "      <td>Disney</td>\n",
       "      <td>ts22130</td>\n",
       "      <td>SHOW</td>\n",
       "      <td>1998</td>\n",
       "      <td>21</td>\n",
       "      <td>6.3</td>\n",
       "      <td>animation</td>\n",
       "      <td>Negative</td>\n",
       "      <td>Negative</td>\n",
       "      <td>2</td>\n",
       "      <td>4</td>\n",
       "      <td>2</td>\n",
       "    </tr>\n",
       "    <tr>\n",
       "      <th>5</th>\n",
       "      <td>Disney</td>\n",
       "      <td>ts21940</td>\n",
       "      <td>SHOW</td>\n",
       "      <td>2010</td>\n",
       "      <td>23</td>\n",
       "      <td>6.6</td>\n",
       "      <td>action</td>\n",
       "      <td>Negative</td>\n",
       "      <td>Negative</td>\n",
       "      <td>2</td>\n",
       "      <td>4</td>\n",
       "      <td>3</td>\n",
       "    </tr>\n",
       "    <tr>\n",
       "      <th>6</th>\n",
       "      <td>Disney</td>\n",
       "      <td>ts21756</td>\n",
       "      <td>SHOW</td>\n",
       "      <td>2009</td>\n",
       "      <td>22</td>\n",
       "      <td>6.3</td>\n",
       "      <td>comedy</td>\n",
       "      <td>Negative</td>\n",
       "      <td>Negative</td>\n",
       "      <td>2</td>\n",
       "      <td>4</td>\n",
       "      <td>4</td>\n",
       "    </tr>\n",
       "  </tbody>\n",
       "</table>\n",
       "</div>"
      ],
      "text/plain": [
       "  platform       id  type  release_year  runtime  imdb_score     genre1  \\\n",
       "1   Disney  ts20711  SHOW          1989       27         8.7  animation   \n",
       "2   Disney  ts15377  SHOW          1989       49         6.2  animation   \n",
       "3   Disney  ts22130  SHOW          1998       21         6.3  animation   \n",
       "5   Disney  ts21940  SHOW          2010       23         6.6     action   \n",
       "6   Disney  ts21756  SHOW          2009       22         6.3     comedy   \n",
       "\n",
       "        df5 rating_df rating_df1 platformR genreR  \n",
       "1  Positive  Positive          1         4      2  \n",
       "2  Negative  Negative          2         4      2  \n",
       "3  Negative  Negative          2         4      2  \n",
       "5  Negative  Negative          2         4      3  \n",
       "6  Negative  Negative          2         4      4  "
      ]
     },
     "execution_count": 145,
     "metadata": {},
     "output_type": "execute_result"
    }
   ],
   "source": [
    "df4.head()"
   ]
  },
  {
   "cell_type": "code",
   "execution_count": 141,
   "metadata": {},
   "outputs": [
    {
     "data": {
      "text/html": [
       "<div>\n",
       "<style scoped>\n",
       "    .dataframe tbody tr th:only-of-type {\n",
       "        vertical-align: middle;\n",
       "    }\n",
       "\n",
       "    .dataframe tbody tr th {\n",
       "        vertical-align: top;\n",
       "    }\n",
       "\n",
       "    .dataframe thead th {\n",
       "        text-align: right;\n",
       "    }\n",
       "</style>\n",
       "<table border=\"1\" class=\"dataframe\">\n",
       "  <thead>\n",
       "    <tr style=\"text-align: right;\">\n",
       "      <th></th>\n",
       "      <th>platform</th>\n",
       "      <th>id</th>\n",
       "      <th>type</th>\n",
       "      <th>release_year</th>\n",
       "      <th>runtime</th>\n",
       "      <th>imdb_score</th>\n",
       "      <th>genre1</th>\n",
       "      <th>rating_df</th>\n",
       "      <th>rating_df1</th>\n",
       "      <th>platformR</th>\n",
       "    </tr>\n",
       "  </thead>\n",
       "  <tbody>\n",
       "    <tr>\n",
       "      <th>1</th>\n",
       "      <td>Disney</td>\n",
       "      <td>ts20711</td>\n",
       "      <td>SHOW</td>\n",
       "      <td>1989</td>\n",
       "      <td>27</td>\n",
       "      <td>8.7</td>\n",
       "      <td>animation</td>\n",
       "      <td>Positive</td>\n",
       "      <td>1</td>\n",
       "      <td>4</td>\n",
       "    </tr>\n",
       "    <tr>\n",
       "      <th>2</th>\n",
       "      <td>Disney</td>\n",
       "      <td>ts15377</td>\n",
       "      <td>SHOW</td>\n",
       "      <td>1989</td>\n",
       "      <td>49</td>\n",
       "      <td>6.2</td>\n",
       "      <td>animation</td>\n",
       "      <td>Negative</td>\n",
       "      <td>2</td>\n",
       "      <td>4</td>\n",
       "    </tr>\n",
       "    <tr>\n",
       "      <th>3</th>\n",
       "      <td>Disney</td>\n",
       "      <td>ts22130</td>\n",
       "      <td>SHOW</td>\n",
       "      <td>1998</td>\n",
       "      <td>21</td>\n",
       "      <td>6.3</td>\n",
       "      <td>animation</td>\n",
       "      <td>Negative</td>\n",
       "      <td>2</td>\n",
       "      <td>4</td>\n",
       "    </tr>\n",
       "    <tr>\n",
       "      <th>5</th>\n",
       "      <td>Disney</td>\n",
       "      <td>ts21940</td>\n",
       "      <td>SHOW</td>\n",
       "      <td>2010</td>\n",
       "      <td>23</td>\n",
       "      <td>6.6</td>\n",
       "      <td>action</td>\n",
       "      <td>Negative</td>\n",
       "      <td>2</td>\n",
       "      <td>4</td>\n",
       "    </tr>\n",
       "    <tr>\n",
       "      <th>6</th>\n",
       "      <td>Disney</td>\n",
       "      <td>ts21756</td>\n",
       "      <td>SHOW</td>\n",
       "      <td>2009</td>\n",
       "      <td>22</td>\n",
       "      <td>6.3</td>\n",
       "      <td>comedy</td>\n",
       "      <td>Negative</td>\n",
       "      <td>2</td>\n",
       "      <td>4</td>\n",
       "    </tr>\n",
       "    <tr>\n",
       "      <th>...</th>\n",
       "      <td>...</td>\n",
       "      <td>...</td>\n",
       "      <td>...</td>\n",
       "      <td>...</td>\n",
       "      <td>...</td>\n",
       "      <td>...</td>\n",
       "      <td>...</td>\n",
       "      <td>...</td>\n",
       "      <td>...</td>\n",
       "      <td>...</td>\n",
       "    </tr>\n",
       "    <tr>\n",
       "      <th>19643</th>\n",
       "      <td>Hulu</td>\n",
       "      <td>ts322832</td>\n",
       "      <td>SHOW</td>\n",
       "      <td>2021</td>\n",
       "      <td>40</td>\n",
       "      <td>7.4</td>\n",
       "      <td>reality</td>\n",
       "      <td>Positive</td>\n",
       "      <td>1</td>\n",
       "      <td>3</td>\n",
       "    </tr>\n",
       "    <tr>\n",
       "      <th>19645</th>\n",
       "      <td>Hulu</td>\n",
       "      <td>ts330888</td>\n",
       "      <td>SHOW</td>\n",
       "      <td>2021</td>\n",
       "      <td>24</td>\n",
       "      <td>7.0</td>\n",
       "      <td>animation</td>\n",
       "      <td>Positive</td>\n",
       "      <td>1</td>\n",
       "      <td>3</td>\n",
       "    </tr>\n",
       "    <tr>\n",
       "      <th>19646</th>\n",
       "      <td>Hulu</td>\n",
       "      <td>ts289327</td>\n",
       "      <td>SHOW</td>\n",
       "      <td>2021</td>\n",
       "      <td>43</td>\n",
       "      <td>6.9</td>\n",
       "      <td>sport</td>\n",
       "      <td>Negative</td>\n",
       "      <td>2</td>\n",
       "      <td>3</td>\n",
       "    </tr>\n",
       "    <tr>\n",
       "      <th>19649</th>\n",
       "      <td>Hulu</td>\n",
       "      <td>ts290117</td>\n",
       "      <td>SHOW</td>\n",
       "      <td>2021</td>\n",
       "      <td>11</td>\n",
       "      <td>7.3</td>\n",
       "      <td>comedy</td>\n",
       "      <td>Positive</td>\n",
       "      <td>1</td>\n",
       "      <td>3</td>\n",
       "    </tr>\n",
       "    <tr>\n",
       "      <th>19651</th>\n",
       "      <td>Hulu</td>\n",
       "      <td>ts317705</td>\n",
       "      <td>SHOW</td>\n",
       "      <td>2021</td>\n",
       "      <td>42</td>\n",
       "      <td>4.7</td>\n",
       "      <td>reality</td>\n",
       "      <td>Negative</td>\n",
       "      <td>2</td>\n",
       "      <td>3</td>\n",
       "    </tr>\n",
       "  </tbody>\n",
       "</table>\n",
       "<p>4716 rows × 10 columns</p>\n",
       "</div>"
      ],
      "text/plain": [
       "      platform        id  type  release_year  runtime  imdb_score     genre1  \\\n",
       "1       Disney   ts20711  SHOW          1989       27         8.7  animation   \n",
       "2       Disney   ts15377  SHOW          1989       49         6.2  animation   \n",
       "3       Disney   ts22130  SHOW          1998       21         6.3  animation   \n",
       "5       Disney   ts21940  SHOW          2010       23         6.6     action   \n",
       "6       Disney   ts21756  SHOW          2009       22         6.3     comedy   \n",
       "...        ...       ...   ...           ...      ...         ...        ...   \n",
       "19643     Hulu  ts322832  SHOW          2021       40         7.4    reality   \n",
       "19645     Hulu  ts330888  SHOW          2021       24         7.0  animation   \n",
       "19646     Hulu  ts289327  SHOW          2021       43         6.9      sport   \n",
       "19649     Hulu  ts290117  SHOW          2021       11         7.3     comedy   \n",
       "19651     Hulu  ts317705  SHOW          2021       42         4.7    reality   \n",
       "\n",
       "      rating_df rating_df1 platformR  \n",
       "1      Positive          1         4  \n",
       "2      Negative          2         4  \n",
       "3      Negative          2         4  \n",
       "5      Negative          2         4  \n",
       "6      Negative          2         4  \n",
       "...         ...        ...       ...  \n",
       "19643  Positive          1         3  \n",
       "19645  Positive          1         3  \n",
       "19646  Negative          2         3  \n",
       "19649  Positive          1         3  \n",
       "19651  Negative          2         3  \n",
       "\n",
       "[4716 rows x 10 columns]"
      ]
     },
     "execution_count": 141,
     "metadata": {},
     "output_type": "execute_result"
    }
   ],
   "source": [
    "df4.drop(['df5'], axis = 1)"
   ]
  },
  {
   "cell_type": "code",
   "execution_count": 146,
   "metadata": {},
   "outputs": [
    {
     "data": {
      "text/html": [
       "<div>\n",
       "<style scoped>\n",
       "    .dataframe tbody tr th:only-of-type {\n",
       "        vertical-align: middle;\n",
       "    }\n",
       "\n",
       "    .dataframe tbody tr th {\n",
       "        vertical-align: top;\n",
       "    }\n",
       "\n",
       "    .dataframe thead th {\n",
       "        text-align: right;\n",
       "    }\n",
       "</style>\n",
       "<table border=\"1\" class=\"dataframe\">\n",
       "  <thead>\n",
       "    <tr style=\"text-align: right;\">\n",
       "      <th></th>\n",
       "      <th>platform</th>\n",
       "      <th>id</th>\n",
       "      <th>type</th>\n",
       "      <th>release_year</th>\n",
       "      <th>runtime</th>\n",
       "      <th>imdb_score</th>\n",
       "      <th>genre1</th>\n",
       "      <th>df5</th>\n",
       "      <th>rating_df</th>\n",
       "      <th>rating_df1</th>\n",
       "      <th>platformR</th>\n",
       "      <th>genreR</th>\n",
       "    </tr>\n",
       "  </thead>\n",
       "  <tbody>\n",
       "    <tr>\n",
       "      <th>1</th>\n",
       "      <td>Disney</td>\n",
       "      <td>ts20711</td>\n",
       "      <td>SHOW</td>\n",
       "      <td>1989</td>\n",
       "      <td>27</td>\n",
       "      <td>8.7</td>\n",
       "      <td>animation</td>\n",
       "      <td>Positive</td>\n",
       "      <td>Positive</td>\n",
       "      <td>1</td>\n",
       "      <td>4</td>\n",
       "      <td>2</td>\n",
       "    </tr>\n",
       "    <tr>\n",
       "      <th>2</th>\n",
       "      <td>Disney</td>\n",
       "      <td>ts15377</td>\n",
       "      <td>SHOW</td>\n",
       "      <td>1989</td>\n",
       "      <td>49</td>\n",
       "      <td>6.2</td>\n",
       "      <td>animation</td>\n",
       "      <td>Negative</td>\n",
       "      <td>Negative</td>\n",
       "      <td>2</td>\n",
       "      <td>4</td>\n",
       "      <td>2</td>\n",
       "    </tr>\n",
       "    <tr>\n",
       "      <th>3</th>\n",
       "      <td>Disney</td>\n",
       "      <td>ts22130</td>\n",
       "      <td>SHOW</td>\n",
       "      <td>1998</td>\n",
       "      <td>21</td>\n",
       "      <td>6.3</td>\n",
       "      <td>animation</td>\n",
       "      <td>Negative</td>\n",
       "      <td>Negative</td>\n",
       "      <td>2</td>\n",
       "      <td>4</td>\n",
       "      <td>2</td>\n",
       "    </tr>\n",
       "    <tr>\n",
       "      <th>5</th>\n",
       "      <td>Disney</td>\n",
       "      <td>ts21940</td>\n",
       "      <td>SHOW</td>\n",
       "      <td>2010</td>\n",
       "      <td>23</td>\n",
       "      <td>6.6</td>\n",
       "      <td>action</td>\n",
       "      <td>Negative</td>\n",
       "      <td>Negative</td>\n",
       "      <td>2</td>\n",
       "      <td>4</td>\n",
       "      <td>3</td>\n",
       "    </tr>\n",
       "    <tr>\n",
       "      <th>6</th>\n",
       "      <td>Disney</td>\n",
       "      <td>ts21756</td>\n",
       "      <td>SHOW</td>\n",
       "      <td>2009</td>\n",
       "      <td>22</td>\n",
       "      <td>6.3</td>\n",
       "      <td>comedy</td>\n",
       "      <td>Negative</td>\n",
       "      <td>Negative</td>\n",
       "      <td>2</td>\n",
       "      <td>4</td>\n",
       "      <td>4</td>\n",
       "    </tr>\n",
       "  </tbody>\n",
       "</table>\n",
       "</div>"
      ],
      "text/plain": [
       "  platform       id  type  release_year  runtime  imdb_score     genre1  \\\n",
       "1   Disney  ts20711  SHOW          1989       27         8.7  animation   \n",
       "2   Disney  ts15377  SHOW          1989       49         6.2  animation   \n",
       "3   Disney  ts22130  SHOW          1998       21         6.3  animation   \n",
       "5   Disney  ts21940  SHOW          2010       23         6.6     action   \n",
       "6   Disney  ts21756  SHOW          2009       22         6.3     comedy   \n",
       "\n",
       "        df5 rating_df rating_df1 platformR genreR  \n",
       "1  Positive  Positive          1         4      2  \n",
       "2  Negative  Negative          2         4      2  \n",
       "3  Negative  Negative          2         4      2  \n",
       "5  Negative  Negative          2         4      3  \n",
       "6  Negative  Negative          2         4      4  "
      ]
     },
     "execution_count": 146,
     "metadata": {},
     "output_type": "execute_result"
    }
   ],
   "source": [
    "df4.head()"
   ]
  },
  {
   "cell_type": "code",
   "execution_count": 147,
   "metadata": {},
   "outputs": [
    {
     "name": "stderr",
     "output_type": "stream",
     "text": [
      "C:\\Users\\lesle\\AppData\\Local\\Temp\\ipykernel_24948\\2599508280.py:1: SettingWithCopyWarning: \n",
      "A value is trying to be set on a copy of a slice from a DataFrame.\n",
      "Try using .loc[row_indexer,col_indexer] = value instead\n",
      "\n",
      "See the caveats in the documentation: https://pandas.pydata.org/pandas-docs/stable/user_guide/indexing.html#returning-a-view-versus-a-copy\n",
      "  df4['genreR'] = df4['genreR'].astype(int)\n"
     ]
    }
   ],
   "source": [
    "df4['genreR'] = df4['genreR'].astype(int)\n"
   ]
  },
  {
   "cell_type": "code",
   "execution_count": 148,
   "metadata": {},
   "outputs": [
    {
     "name": "stderr",
     "output_type": "stream",
     "text": [
      "C:\\Users\\lesle\\AppData\\Local\\Temp\\ipykernel_24948\\2367886386.py:1: SettingWithCopyWarning: \n",
      "A value is trying to be set on a copy of a slice from a DataFrame.\n",
      "Try using .loc[row_indexer,col_indexer] = value instead\n",
      "\n",
      "See the caveats in the documentation: https://pandas.pydata.org/pandas-docs/stable/user_guide/indexing.html#returning-a-view-versus-a-copy\n",
      "  df4['platformR']=df4['platformR'].astype(int)\n"
     ]
    }
   ],
   "source": [
    "df4['platformR']=df4['platformR'].astype(int)"
   ]
  },
  {
   "cell_type": "code",
   "execution_count": 149,
   "metadata": {},
   "outputs": [
    {
     "data": {
      "text/plain": [
       "platform         object\n",
       "id               object\n",
       "type             object\n",
       "release_year      int64\n",
       "runtime           int64\n",
       "imdb_score      float64\n",
       "genre1           object\n",
       "df5              object\n",
       "rating_df        object\n",
       "rating_df1       object\n",
       "platformR         int32\n",
       "genreR            int32\n",
       "dtype: object"
      ]
     },
     "execution_count": 149,
     "metadata": {},
     "output_type": "execute_result"
    }
   ],
   "source": [
    "df4.dtypes"
   ]
  },
  {
   "cell_type": "code",
   "execution_count": 150,
   "metadata": {},
   "outputs": [
    {
     "name": "stderr",
     "output_type": "stream",
     "text": [
      "C:\\Users\\lesle\\AppData\\Local\\Temp\\ipykernel_24948\\302025373.py:1: SettingWithCopyWarning: \n",
      "A value is trying to be set on a copy of a slice from a DataFrame.\n",
      "Try using .loc[row_indexer,col_indexer] = value instead\n",
      "\n",
      "See the caveats in the documentation: https://pandas.pydata.org/pandas-docs/stable/user_guide/indexing.html#returning-a-view-versus-a-copy\n",
      "  df4['imdb_score']=df4['imdb_score'].astype(int)\n"
     ]
    }
   ],
   "source": [
    "df4['imdb_score']=df4['imdb_score'].astype(int)"
   ]
  },
  {
   "cell_type": "code",
   "execution_count": 151,
   "metadata": {},
   "outputs": [
    {
     "name": "stderr",
     "output_type": "stream",
     "text": [
      "C:\\Users\\lesle\\AppData\\Local\\Temp\\ipykernel_24948\\2280391723.py:1: SettingWithCopyWarning: \n",
      "A value is trying to be set on a copy of a slice from a DataFrame.\n",
      "Try using .loc[row_indexer,col_indexer] = value instead\n",
      "\n",
      "See the caveats in the documentation: https://pandas.pydata.org/pandas-docs/stable/user_guide/indexing.html#returning-a-view-versus-a-copy\n",
      "  df4['rating_df1']=df4['rating_df1'].astype(int)\n"
     ]
    }
   ],
   "source": [
    "df4['rating_df1']=df4['rating_df1'].astype(int)"
   ]
  },
  {
   "cell_type": "code",
   "execution_count": 152,
   "metadata": {},
   "outputs": [
    {
     "data": {
      "text/plain": [
       "platform        object\n",
       "id              object\n",
       "type            object\n",
       "release_year     int64\n",
       "runtime          int64\n",
       "imdb_score       int32\n",
       "genre1          object\n",
       "df5             object\n",
       "rating_df       object\n",
       "rating_df1       int32\n",
       "platformR        int32\n",
       "genreR           int32\n",
       "dtype: object"
      ]
     },
     "execution_count": 152,
     "metadata": {},
     "output_type": "execute_result"
    }
   ],
   "source": [
    "df4.dtypes"
   ]
  },
  {
   "cell_type": "code",
   "execution_count": 157,
   "metadata": {},
   "outputs": [],
   "source": [
    "x1 = df4[['imdb_score']]\n",
    "y1 = df['genreR']\n",
    "#I don't think I can use the same variables in this notebook. "
   ]
  },
  {
   "cell_type": "code",
   "execution_count": null,
   "metadata": {},
   "outputs": [],
   "source": []
  }
 ],
 "metadata": {
  "deepnote": {},
  "deepnote_execution_queue": [],
  "deepnote_notebook_id": "c24b46eea378431aa6974c64f1118503",
  "kernelspec": {
   "display_name": "Python 3 (ipykernel)",
   "language": "python",
   "name": "python3"
  },
  "language_info": {
   "codemirror_mode": {
    "name": "ipython",
    "version": 3
   },
   "file_extension": ".py",
   "mimetype": "text/x-python",
   "name": "python",
   "nbconvert_exporter": "python",
   "pygments_lexer": "ipython3",
   "version": "3.10.5"
  }
 },
 "nbformat": 4,
 "nbformat_minor": 4
}
