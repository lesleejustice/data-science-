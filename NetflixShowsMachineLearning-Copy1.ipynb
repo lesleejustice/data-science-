{
 "cells": [
  {
   "cell_type": "code",
   "execution_count": 1,
   "metadata": {
    "cell_id": "ae28d10518f34b6c9bf607ed7703aaa2",
    "deepnote_cell_type": "code",
    "deepnote_to_be_reexecuted": false,
    "execution_millis": 1,
    "execution_start": 1675646100226,
    "source_hash": "36874b6"
   },
   "outputs": [],
   "source": [
    "#Can we predict the rating (positive or negative) based on Genre, Platform and Runtime for Shows?  "
   ]
  },
  {
   "cell_type": "code",
   "execution_count": 2,
   "metadata": {
    "cell_id": "b03911630daf4719a51a3cea49010ba9",
    "deepnote_cell_type": "code",
    "deepnote_to_be_reexecuted": false,
    "execution_millis": 1821,
    "execution_start": 1675646100227,
    "source_hash": "d2504d79"
   },
   "outputs": [],
   "source": [
    "#Exploratory Data Analysis for streaming data from all platforms\n",
    "#Importing needed libraries\n",
    "import pandas as pd\n",
    "import numpy as np\n",
    "import matplotlib.pyplot as plt\n",
    "import seaborn as sns"
   ]
  },
  {
   "cell_type": "code",
   "execution_count": 3,
   "metadata": {},
   "outputs": [],
   "source": [
    "#Reading in data again for fresh start"
   ]
  },
  {
   "cell_type": "code",
   "execution_count": 8,
   "metadata": {},
   "outputs": [],
   "source": [
    "df1 = pd.read_csv(\"C:/Users/lesle/Desktop/All Streaming Data 1.29.23 (1).csv\")"
   ]
  },
  {
   "cell_type": "code",
   "execution_count": 10,
   "metadata": {},
   "outputs": [
    {
     "data": {
      "text/html": [
       "<div>\n",
       "<style scoped>\n",
       "    .dataframe tbody tr th:only-of-type {\n",
       "        vertical-align: middle;\n",
       "    }\n",
       "\n",
       "    .dataframe tbody tr th {\n",
       "        vertical-align: top;\n",
       "    }\n",
       "\n",
       "    .dataframe thead th {\n",
       "        text-align: right;\n",
       "    }\n",
       "</style>\n",
       "<table border=\"1\" class=\"dataframe\">\n",
       "  <thead>\n",
       "    <tr style=\"text-align: right;\">\n",
       "      <th></th>\n",
       "      <th>platform</th>\n",
       "      <th>id</th>\n",
       "      <th>title</th>\n",
       "      <th>type</th>\n",
       "      <th>description</th>\n",
       "      <th>release_year</th>\n",
       "      <th>age_certification</th>\n",
       "      <th>runtime</th>\n",
       "      <th>genres</th>\n",
       "      <th>production_countries</th>\n",
       "      <th>...</th>\n",
       "      <th>genre1</th>\n",
       "      <th>genre2</th>\n",
       "      <th>genre3</th>\n",
       "      <th>genre4</th>\n",
       "      <th>genre5</th>\n",
       "      <th>genre6</th>\n",
       "      <th>genre7</th>\n",
       "      <th>genre8</th>\n",
       "      <th>genre9</th>\n",
       "      <th>genre10</th>\n",
       "    </tr>\n",
       "  </thead>\n",
       "  <tbody>\n",
       "    <tr>\n",
       "      <th>0</th>\n",
       "      <td>Disney</td>\n",
       "      <td>tm19438</td>\n",
       "      <td>The Princess Bride</td>\n",
       "      <td>MOVIE</td>\n",
       "      <td>In this enchantingly cracked fairy tale, the b...</td>\n",
       "      <td>1987</td>\n",
       "      <td>PG</td>\n",
       "      <td>99</td>\n",
       "      <td>fantasy, family, romance</td>\n",
       "      <td>['US']</td>\n",
       "      <td>...</td>\n",
       "      <td>fantasy</td>\n",
       "      <td>family</td>\n",
       "      <td>romance</td>\n",
       "      <td>NaN</td>\n",
       "      <td>NaN</td>\n",
       "      <td>NaN</td>\n",
       "      <td>NaN</td>\n",
       "      <td>NaN</td>\n",
       "      <td>NaN</td>\n",
       "      <td>NaN</td>\n",
       "    </tr>\n",
       "    <tr>\n",
       "      <th>1</th>\n",
       "      <td>Disney</td>\n",
       "      <td>ts20711</td>\n",
       "      <td>The Simpsons</td>\n",
       "      <td>SHOW</td>\n",
       "      <td>The satiric adventures of a working-class fami...</td>\n",
       "      <td>1989</td>\n",
       "      <td>TV-14</td>\n",
       "      <td>27</td>\n",
       "      <td>animation, comedy</td>\n",
       "      <td>['US']</td>\n",
       "      <td>...</td>\n",
       "      <td>animation</td>\n",
       "      <td>comedy</td>\n",
       "      <td>NaN</td>\n",
       "      <td>NaN</td>\n",
       "      <td>NaN</td>\n",
       "      <td>NaN</td>\n",
       "      <td>NaN</td>\n",
       "      <td>NaN</td>\n",
       "      <td>NaN</td>\n",
       "      <td>NaN</td>\n",
       "    </tr>\n",
       "    <tr>\n",
       "      <th>2</th>\n",
       "      <td>Disney</td>\n",
       "      <td>ts15377</td>\n",
       "      <td>America's Funniest Home Videos</td>\n",
       "      <td>SHOW</td>\n",
       "      <td>America's Funniest Home Videos is the longest-...</td>\n",
       "      <td>1989</td>\n",
       "      <td>TV-PG</td>\n",
       "      <td>49</td>\n",
       "      <td>animation, reality, comedy</td>\n",
       "      <td>['US']</td>\n",
       "      <td>...</td>\n",
       "      <td>animation</td>\n",
       "      <td>reality</td>\n",
       "      <td>comedy</td>\n",
       "      <td>NaN</td>\n",
       "      <td>NaN</td>\n",
       "      <td>NaN</td>\n",
       "      <td>NaN</td>\n",
       "      <td>NaN</td>\n",
       "      <td>NaN</td>\n",
       "      <td>NaN</td>\n",
       "    </tr>\n",
       "    <tr>\n",
       "      <th>3</th>\n",
       "      <td>Disney</td>\n",
       "      <td>ts22130</td>\n",
       "      <td>Rolie Polie Olie</td>\n",
       "      <td>SHOW</td>\n",
       "      <td>Rolie Polie Olie was a children's television s...</td>\n",
       "      <td>1998</td>\n",
       "      <td>TV-Y</td>\n",
       "      <td>21</td>\n",
       "      <td>animation, comedy, family, fantasy, scifi</td>\n",
       "      <td>['FR', 'GB', 'US', 'CA']</td>\n",
       "      <td>...</td>\n",
       "      <td>animation</td>\n",
       "      <td>comedy</td>\n",
       "      <td>family</td>\n",
       "      <td>fantasy</td>\n",
       "      <td>scifi</td>\n",
       "      <td>NaN</td>\n",
       "      <td>NaN</td>\n",
       "      <td>NaN</td>\n",
       "      <td>NaN</td>\n",
       "      <td>NaN</td>\n",
       "    </tr>\n",
       "    <tr>\n",
       "      <th>4</th>\n",
       "      <td>Disney</td>\n",
       "      <td>tm38852</td>\n",
       "      <td>Horton Hears a Who!</td>\n",
       "      <td>MOVIE</td>\n",
       "      <td>One day, Horton the elephant hears a cry from ...</td>\n",
       "      <td>2008</td>\n",
       "      <td>G</td>\n",
       "      <td>86</td>\n",
       "      <td>fantasy, family, drama, romance, comedy, music...</td>\n",
       "      <td>['US']</td>\n",
       "      <td>...</td>\n",
       "      <td>fantasy</td>\n",
       "      <td>family</td>\n",
       "      <td>drama</td>\n",
       "      <td>romance</td>\n",
       "      <td>comedy</td>\n",
       "      <td>music</td>\n",
       "      <td>animation</td>\n",
       "      <td>NaN</td>\n",
       "      <td>NaN</td>\n",
       "      <td>NaN</td>\n",
       "    </tr>\n",
       "  </tbody>\n",
       "</table>\n",
       "<p>5 rows × 26 columns</p>\n",
       "</div>"
      ],
      "text/plain": [
       "  platform       id                           title   type  \\\n",
       "0   Disney  tm19438              The Princess Bride  MOVIE   \n",
       "1   Disney  ts20711                    The Simpsons   SHOW   \n",
       "2   Disney  ts15377  America's Funniest Home Videos   SHOW   \n",
       "3   Disney  ts22130                Rolie Polie Olie   SHOW   \n",
       "4   Disney  tm38852             Horton Hears a Who!  MOVIE   \n",
       "\n",
       "                                         description  release_year  \\\n",
       "0  In this enchantingly cracked fairy tale, the b...          1987   \n",
       "1  The satiric adventures of a working-class fami...          1989   \n",
       "2  America's Funniest Home Videos is the longest-...          1989   \n",
       "3  Rolie Polie Olie was a children's television s...          1998   \n",
       "4  One day, Horton the elephant hears a cry from ...          2008   \n",
       "\n",
       "  age_certification  runtime  \\\n",
       "0                PG       99   \n",
       "1             TV-14       27   \n",
       "2             TV-PG       49   \n",
       "3              TV-Y       21   \n",
       "4                 G       86   \n",
       "\n",
       "                                              genres  \\\n",
       "0                           fantasy, family, romance   \n",
       "1                                  animation, comedy   \n",
       "2                         animation, reality, comedy   \n",
       "3          animation, comedy, family, fantasy, scifi   \n",
       "4  fantasy, family, drama, romance, comedy, music...   \n",
       "\n",
       "       production_countries  ...     genre1   genre2   genre3   genre4  \\\n",
       "0                    ['US']  ...    fantasy   family  romance      NaN   \n",
       "1                    ['US']  ...  animation   comedy      NaN      NaN   \n",
       "2                    ['US']  ...  animation  reality   comedy      NaN   \n",
       "3  ['FR', 'GB', 'US', 'CA']  ...  animation   comedy   family  fantasy   \n",
       "4                    ['US']  ...    fantasy   family    drama  romance   \n",
       "\n",
       "   genre5  genre6     genre7 genre8 genre9 genre10  \n",
       "0     NaN     NaN        NaN    NaN    NaN     NaN  \n",
       "1     NaN     NaN        NaN    NaN    NaN     NaN  \n",
       "2     NaN     NaN        NaN    NaN    NaN     NaN  \n",
       "3   scifi     NaN        NaN    NaN    NaN     NaN  \n",
       "4  comedy   music  animation    NaN    NaN     NaN  \n",
       "\n",
       "[5 rows x 26 columns]"
      ]
     },
     "execution_count": 10,
     "metadata": {},
     "output_type": "execute_result"
    }
   ],
   "source": [
    "df1.head()"
   ]
  },
  {
   "cell_type": "code",
   "execution_count": 11,
   "metadata": {},
   "outputs": [
    {
     "data": {
      "text/plain": [
       "(19654, 26)"
      ]
     },
     "execution_count": 11,
     "metadata": {},
     "output_type": "execute_result"
    }
   ],
   "source": [
    "df1.shape"
   ]
  },
  {
   "cell_type": "code",
   "execution_count": 13,
   "metadata": {},
   "outputs": [],
   "source": [
    "#Subsetting the data"
   ]
  },
  {
   "cell_type": "code",
   "execution_count": 14,
   "metadata": {},
   "outputs": [],
   "source": [
    "df2 = df1.drop (['title', 'description', 'age_certification', 'genres', 'production_countries', 'tmdb_popularity','tmdb_score','genre2', 'genre3', 'genre4', 'genre5', 'genre6', 'genre7', 'genre8', 'genre9','genre10', 'seasons', 'imdb_votes', 'imdb_id'], axis=1)"
   ]
  },
  {
   "cell_type": "code",
   "execution_count": 15,
   "metadata": {},
   "outputs": [
    {
     "data": {
      "text/html": [
       "<div>\n",
       "<style scoped>\n",
       "    .dataframe tbody tr th:only-of-type {\n",
       "        vertical-align: middle;\n",
       "    }\n",
       "\n",
       "    .dataframe tbody tr th {\n",
       "        vertical-align: top;\n",
       "    }\n",
       "\n",
       "    .dataframe thead th {\n",
       "        text-align: right;\n",
       "    }\n",
       "</style>\n",
       "<table border=\"1\" class=\"dataframe\">\n",
       "  <thead>\n",
       "    <tr style=\"text-align: right;\">\n",
       "      <th></th>\n",
       "      <th>platform</th>\n",
       "      <th>id</th>\n",
       "      <th>type</th>\n",
       "      <th>release_year</th>\n",
       "      <th>runtime</th>\n",
       "      <th>imdb_score</th>\n",
       "      <th>genre1</th>\n",
       "    </tr>\n",
       "  </thead>\n",
       "  <tbody>\n",
       "    <tr>\n",
       "      <th>0</th>\n",
       "      <td>Disney</td>\n",
       "      <td>tm19438</td>\n",
       "      <td>MOVIE</td>\n",
       "      <td>1987</td>\n",
       "      <td>99</td>\n",
       "      <td>8.0</td>\n",
       "      <td>fantasy</td>\n",
       "    </tr>\n",
       "    <tr>\n",
       "      <th>1</th>\n",
       "      <td>Disney</td>\n",
       "      <td>ts20711</td>\n",
       "      <td>SHOW</td>\n",
       "      <td>1989</td>\n",
       "      <td>27</td>\n",
       "      <td>8.7</td>\n",
       "      <td>animation</td>\n",
       "    </tr>\n",
       "    <tr>\n",
       "      <th>2</th>\n",
       "      <td>Disney</td>\n",
       "      <td>ts15377</td>\n",
       "      <td>SHOW</td>\n",
       "      <td>1989</td>\n",
       "      <td>49</td>\n",
       "      <td>6.2</td>\n",
       "      <td>animation</td>\n",
       "    </tr>\n",
       "    <tr>\n",
       "      <th>3</th>\n",
       "      <td>Disney</td>\n",
       "      <td>ts22130</td>\n",
       "      <td>SHOW</td>\n",
       "      <td>1998</td>\n",
       "      <td>21</td>\n",
       "      <td>6.3</td>\n",
       "      <td>animation</td>\n",
       "    </tr>\n",
       "    <tr>\n",
       "      <th>4</th>\n",
       "      <td>Disney</td>\n",
       "      <td>tm38852</td>\n",
       "      <td>MOVIE</td>\n",
       "      <td>2008</td>\n",
       "      <td>86</td>\n",
       "      <td>6.8</td>\n",
       "      <td>fantasy</td>\n",
       "    </tr>\n",
       "  </tbody>\n",
       "</table>\n",
       "</div>"
      ],
      "text/plain": [
       "  platform       id   type  release_year  runtime  imdb_score     genre1\n",
       "0   Disney  tm19438  MOVIE          1987       99         8.0    fantasy\n",
       "1   Disney  ts20711   SHOW          1989       27         8.7  animation\n",
       "2   Disney  ts15377   SHOW          1989       49         6.2  animation\n",
       "3   Disney  ts22130   SHOW          1998       21         6.3  animation\n",
       "4   Disney  tm38852  MOVIE          2008       86         6.8    fantasy"
      ]
     },
     "execution_count": 15,
     "metadata": {},
     "output_type": "execute_result"
    }
   ],
   "source": [
    "df2.head()"
   ]
  },
  {
   "cell_type": "code",
   "execution_count": 16,
   "metadata": {},
   "outputs": [
    {
     "data": {
      "text/plain": [
       "(19654, 7)"
      ]
     },
     "execution_count": 16,
     "metadata": {},
     "output_type": "execute_result"
    }
   ],
   "source": [
    "df2.shape"
   ]
  },
  {
   "cell_type": "code",
   "execution_count": 17,
   "metadata": {},
   "outputs": [],
   "source": [
    "#Subsetting data for shows"
   ]
  },
  {
   "cell_type": "code",
   "execution_count": 18,
   "metadata": {},
   "outputs": [],
   "source": [
    "df3 = df2.loc[df2['type']=='SHOW']"
   ]
  },
  {
   "cell_type": "code",
   "execution_count": 19,
   "metadata": {},
   "outputs": [
    {
     "data": {
      "text/html": [
       "<div>\n",
       "<style scoped>\n",
       "    .dataframe tbody tr th:only-of-type {\n",
       "        vertical-align: middle;\n",
       "    }\n",
       "\n",
       "    .dataframe tbody tr th {\n",
       "        vertical-align: top;\n",
       "    }\n",
       "\n",
       "    .dataframe thead th {\n",
       "        text-align: right;\n",
       "    }\n",
       "</style>\n",
       "<table border=\"1\" class=\"dataframe\">\n",
       "  <thead>\n",
       "    <tr style=\"text-align: right;\">\n",
       "      <th></th>\n",
       "      <th>platform</th>\n",
       "      <th>id</th>\n",
       "      <th>type</th>\n",
       "      <th>release_year</th>\n",
       "      <th>runtime</th>\n",
       "      <th>imdb_score</th>\n",
       "      <th>genre1</th>\n",
       "    </tr>\n",
       "  </thead>\n",
       "  <tbody>\n",
       "    <tr>\n",
       "      <th>1</th>\n",
       "      <td>Disney</td>\n",
       "      <td>ts20711</td>\n",
       "      <td>SHOW</td>\n",
       "      <td>1989</td>\n",
       "      <td>27</td>\n",
       "      <td>8.7</td>\n",
       "      <td>animation</td>\n",
       "    </tr>\n",
       "    <tr>\n",
       "      <th>2</th>\n",
       "      <td>Disney</td>\n",
       "      <td>ts15377</td>\n",
       "      <td>SHOW</td>\n",
       "      <td>1989</td>\n",
       "      <td>49</td>\n",
       "      <td>6.2</td>\n",
       "      <td>animation</td>\n",
       "    </tr>\n",
       "    <tr>\n",
       "      <th>3</th>\n",
       "      <td>Disney</td>\n",
       "      <td>ts22130</td>\n",
       "      <td>SHOW</td>\n",
       "      <td>1998</td>\n",
       "      <td>21</td>\n",
       "      <td>6.3</td>\n",
       "      <td>animation</td>\n",
       "    </tr>\n",
       "    <tr>\n",
       "      <th>5</th>\n",
       "      <td>Disney</td>\n",
       "      <td>ts21940</td>\n",
       "      <td>SHOW</td>\n",
       "      <td>2010</td>\n",
       "      <td>23</td>\n",
       "      <td>6.6</td>\n",
       "      <td>action</td>\n",
       "    </tr>\n",
       "    <tr>\n",
       "      <th>6</th>\n",
       "      <td>Disney</td>\n",
       "      <td>ts21756</td>\n",
       "      <td>SHOW</td>\n",
       "      <td>2009</td>\n",
       "      <td>22</td>\n",
       "      <td>6.3</td>\n",
       "      <td>comedy</td>\n",
       "    </tr>\n",
       "  </tbody>\n",
       "</table>\n",
       "</div>"
      ],
      "text/plain": [
       "  platform       id  type  release_year  runtime  imdb_score     genre1\n",
       "1   Disney  ts20711  SHOW          1989       27         8.7  animation\n",
       "2   Disney  ts15377  SHOW          1989       49         6.2  animation\n",
       "3   Disney  ts22130  SHOW          1998       21         6.3  animation\n",
       "5   Disney  ts21940  SHOW          2010       23         6.6     action\n",
       "6   Disney  ts21756  SHOW          2009       22         6.3     comedy"
      ]
     },
     "execution_count": 19,
     "metadata": {},
     "output_type": "execute_result"
    }
   ],
   "source": [
    "df3.head()"
   ]
  },
  {
   "cell_type": "code",
   "execution_count": 20,
   "metadata": {},
   "outputs": [
    {
     "data": {
      "text/plain": [
       "(5208, 7)"
      ]
     },
     "execution_count": 20,
     "metadata": {},
     "output_type": "execute_result"
    }
   ],
   "source": [
    "df3.shape"
   ]
  },
  {
   "cell_type": "code",
   "execution_count": 21,
   "metadata": {},
   "outputs": [],
   "source": [
    "#Viewing and droppings NAs"
   ]
  },
  {
   "cell_type": "code",
   "execution_count": 22,
   "metadata": {},
   "outputs": [
    {
     "data": {
      "text/plain": [
       "platform          0\n",
       "id                0\n",
       "type              0\n",
       "release_year      0\n",
       "runtime           0\n",
       "imdb_score      492\n",
       "genre1            0\n",
       "dtype: int64"
      ]
     },
     "execution_count": 22,
     "metadata": {},
     "output_type": "execute_result"
    }
   ],
   "source": [
    "df3.isnull().sum()"
   ]
  },
  {
   "cell_type": "code",
   "execution_count": 23,
   "metadata": {},
   "outputs": [],
   "source": [
    "#So, when the NAs are dropped first using the dropna, it removes all rows that have NA - this means that the variables I don't need must be dropped first"
   ]
  },
  {
   "cell_type": "code",
   "execution_count": 24,
   "metadata": {},
   "outputs": [
    {
     "name": "stderr",
     "output_type": "stream",
     "text": [
      "C:\\Users\\lesle\\AppData\\Local\\Temp\\ipykernel_35476\\1665326329.py:1: SettingWithCopyWarning: \n",
      "A value is trying to be set on a copy of a slice from a DataFrame\n",
      "\n",
      "See the caveats in the documentation: https://pandas.pydata.org/pandas-docs/stable/user_guide/indexing.html#returning-a-view-versus-a-copy\n",
      "  df3.dropna(inplace=True)\n"
     ]
    }
   ],
   "source": [
    "df3.dropna(inplace=True)"
   ]
  },
  {
   "cell_type": "code",
   "execution_count": 25,
   "metadata": {},
   "outputs": [
    {
     "data": {
      "text/plain": [
       "platform        0\n",
       "id              0\n",
       "type            0\n",
       "release_year    0\n",
       "runtime         0\n",
       "imdb_score      0\n",
       "genre1          0\n",
       "dtype: int64"
      ]
     },
     "execution_count": 25,
     "metadata": {},
     "output_type": "execute_result"
    }
   ],
   "source": [
    "df3.isnull().sum()"
   ]
  },
  {
   "cell_type": "code",
   "execution_count": 26,
   "metadata": {},
   "outputs": [
    {
     "data": {
      "text/plain": [
       "<bound method DataFrame.count of       platform        id  type  release_year  runtime  imdb_score     genre1\n",
       "1       Disney   ts20711  SHOW          1989       27         8.7  animation\n",
       "2       Disney   ts15377  SHOW          1989       49         6.2  animation\n",
       "3       Disney   ts22130  SHOW          1998       21         6.3  animation\n",
       "5       Disney   ts21940  SHOW          2010       23         6.6     action\n",
       "6       Disney   ts21756  SHOW          2009       22         6.3     comedy\n",
       "...        ...       ...   ...           ...      ...         ...        ...\n",
       "19643     Hulu  ts322832  SHOW          2021       40         7.4    reality\n",
       "19645     Hulu  ts330888  SHOW          2021       24         7.0  animation\n",
       "19646     Hulu  ts289327  SHOW          2021       43         6.9      sport\n",
       "19649     Hulu  ts290117  SHOW          2021       11         7.3     comedy\n",
       "19651     Hulu  ts317705  SHOW          2021       42         4.7    reality\n",
       "\n",
       "[4716 rows x 7 columns]>"
      ]
     },
     "execution_count": 26,
     "metadata": {},
     "output_type": "execute_result"
    }
   ],
   "source": [
    "df3.count"
   ]
  },
  {
   "cell_type": "code",
   "execution_count": 27,
   "metadata": {},
   "outputs": [],
   "source": [
    "#This leaves 4716 rows of data - close to susan's 4680"
   ]
  },
  {
   "cell_type": "code",
   "execution_count": 30,
   "metadata": {},
   "outputs": [
    {
     "data": {
      "text/plain": [
       "Netflix    1939\n",
       "Hulu       1250\n",
       "Amazon     1166\n",
       "Disney      361\n",
       "Name: platform, dtype: int64"
      ]
     },
     "execution_count": 30,
     "metadata": {},
     "output_type": "execute_result"
    }
   ],
   "source": [
    "df3['platform'].value_counts()"
   ]
  },
  {
   "cell_type": "code",
   "execution_count": 29,
   "metadata": {},
   "outputs": [
    {
     "data": {
      "text/plain": [
       "Text(0.5, 0, 'Platform')"
      ]
     },
     "execution_count": 29,
     "metadata": {},
     "output_type": "execute_result"
    },
    {
     "data": {
      "image/png": "[encoded data removed]",
      "text/plain": [
       "<Figure size 432x288 with 1 Axes>"
      ]
     },
     "metadata": {
      "needs_background": "light"
     },
     "output_type": "display_data"
    }
   ],
   "source": [
    "#Distribution of shows on each platform\n",
    "Platform = df3['platform'].value_counts().plot(kind='bar')\n",
    "Platform.set_title(\"Platform Distribution\")\n",
    "Platform.set_xlabel(\"Platform\")"
   ]
  },
  {
   "cell_type": "code",
   "execution_count": 74,
   "metadata": {},
   "outputs": [
    {
     "data": {
      "text/plain": [
       "drama            1025\n",
       "comedy            851\n",
       "documentation     529\n",
       "scifi             510\n",
       "animation         498\n",
       "reality           439\n",
       "action            363\n",
       "crime             201\n",
       "thriller           85\n",
       "war                50\n",
       "[]                 35\n",
       "family             30\n",
       "romance            25\n",
       "western            14\n",
       "music              13\n",
       "history            13\n",
       "horror             12\n",
       "fantasy            12\n",
       "sport              11\n",
       "Name: genre1, dtype: int64"
      ]
     },
     "execution_count": 74,
     "metadata": {},
     "output_type": "execute_result"
    }
   ],
   "source": [
    "#Count by genre \n",
    "df3.genre1.value_counts()"
   ]
  },
  {
   "cell_type": "code",
   "execution_count": 32,
   "metadata": {},
   "outputs": [
    {
     "data": {
      "text/plain": [
       "7.055067854113655"
      ]
     },
     "execution_count": 32,
     "metadata": {},
     "output_type": "execute_result"
    }
   ],
   "source": [
    "#Checking out the mean of the imdb score\n",
    "df3.loc[:,'imdb_score'].mean()"
   ]
  },
  {
   "cell_type": "code",
   "execution_count": 22,
   "metadata": {},
   "outputs": [],
   "source": [
    "#The mean is still off from Susan's 7.06"
   ]
  },
  {
   "cell_type": "code",
   "execution_count": 33,
   "metadata": {},
   "outputs": [],
   "source": [
    "#Recoding variables"
   ]
  },
  {
   "cell_type": "code",
   "execution_count": 35,
   "metadata": {},
   "outputs": [
    {
     "name": "stderr",
     "output_type": "stream",
     "text": [
      "C:\\Users\\lesle\\AppData\\Local\\Temp\\ipykernel_35476\\1708622194.py:8: SettingWithCopyWarning: \n",
      "A value is trying to be set on a copy of a slice from a DataFrame.\n",
      "Try using .loc[row_indexer,col_indexer] = value instead\n",
      "\n",
      "See the caveats in the documentation: https://pandas.pydata.org/pandas-docs/stable/user_guide/indexing.html#returning-a-view-versus-a-copy\n",
      "  df3[\"rating_df\"] = df3[\"imdb_score\"].apply(rating_df)\n"
     ]
    }
   ],
   "source": [
    "def rating_df (series):\n",
    "    if series == \"imdb_score\":\n",
    "        return \"0\"\n",
    "    if series <= 6.9:\n",
    "        return \"Negative\"\n",
    "    if series >= 7.0:\n",
    "        return \"Positive\"\n",
    "df3[\"rating_df\"] = df3[\"imdb_score\"].apply(rating_df)"
   ]
  },
  {
   "cell_type": "code",
   "execution_count": 36,
   "metadata": {},
   "outputs": [
    {
     "name": "stderr",
     "output_type": "stream",
     "text": [
      "C:\\Users\\lesle\\AppData\\Local\\Temp\\ipykernel_35476\\1268006130.py:8: SettingWithCopyWarning: \n",
      "A value is trying to be set on a copy of a slice from a DataFrame.\n",
      "Try using .loc[row_indexer,col_indexer] = value instead\n",
      "\n",
      "See the caveats in the documentation: https://pandas.pydata.org/pandas-docs/stable/user_guide/indexing.html#returning-a-view-versus-a-copy\n",
      "  df3[\"rating_df1\"] = df3[\"rating_df\"].apply(rating_df1)\n"
     ]
    }
   ],
   "source": [
    "def rating_df1 (series):\n",
    "    if series == \"Rating\":\n",
    "        return \"0\"\n",
    "    if series == \"Positive\":\n",
    "        return \"1\"\n",
    "    if series == \"Negative\":\n",
    "        return \"2\"\n",
    "df3[\"rating_df1\"] = df3[\"rating_df\"].apply(rating_df1)"
   ]
  },
  {
   "cell_type": "code",
   "execution_count": 37,
   "metadata": {},
   "outputs": [
    {
     "data": {
      "text/plain": [
       "rating_df1\n",
       "1    2814\n",
       "2    1902\n",
       "Name: genre1, dtype: int64"
      ]
     },
     "execution_count": 37,
     "metadata": {},
     "output_type": "execute_result"
    }
   ],
   "source": [
    "df3.groupby('rating_df1')['genre1'].count()"
   ]
  },
  {
   "cell_type": "code",
   "execution_count": 38,
   "metadata": {},
   "outputs": [
    {
     "name": "stderr",
     "output_type": "stream",
     "text": [
      "C:\\Users\\lesle\\AppData\\Local\\Temp\\ipykernel_35476\\3611984171.py:13: SettingWithCopyWarning: \n",
      "A value is trying to be set on a copy of a slice from a DataFrame.\n",
      "Try using .loc[row_indexer,col_indexer] = value instead\n",
      "\n",
      "See the caveats in the documentation: https://pandas.pydata.org/pandas-docs/stable/user_guide/indexing.html#returning-a-view-versus-a-copy\n",
      "  df3[\"platformR\"] = df3[\"platform\"].apply(platformR)\n"
     ]
    }
   ],
   "source": [
    "#recode platforms\n",
    "def platformR (series):\n",
    "    if series == \"platform\":\n",
    "        return \"0\"\n",
    "    if series == \"Amazon\":\n",
    "        return \"1\"\n",
    "    if series == \"Netflix\":\n",
    "        return \"2\"\n",
    "    if series == \"Hulu\":\n",
    "        return \"3\"\n",
    "    if series == \"Disney\":\n",
    "        return \"4\"\n",
    "df3[\"platformR\"] = df3[\"platform\"].apply(platformR)"
   ]
  },
  {
   "cell_type": "code",
   "execution_count": 39,
   "metadata": {},
   "outputs": [
    {
     "name": "stderr",
     "output_type": "stream",
     "text": [
      "C:\\Users\\lesle\\AppData\\Local\\Temp\\ipykernel_35476\\1041931906.py:45: SettingWithCopyWarning: \n",
      "A value is trying to be set on a copy of a slice from a DataFrame.\n",
      "Try using .loc[row_indexer,col_indexer] = value instead\n",
      "\n",
      "See the caveats in the documentation: https://pandas.pydata.org/pandas-docs/stable/user_guide/indexing.html#returning-a-view-versus-a-copy\n",
      "  df3[\"genreR\"] = df3[\"genre1\"].apply(genreR)\n"
     ]
    }
   ],
   "source": [
    "#recode genres\n",
    "def genreR (series):\n",
    "  if series == \"genre1\":\n",
    "    return \"0\"\n",
    "  if series == \"fantasy\": \n",
    "    return \"1\"\n",
    "  if series == \"animation\": \n",
    "    return \"2\"\n",
    "  if series == \"action\":\n",
    "    return \"3\"\n",
    "  if series == \"comedy\":\n",
    "    return \"4\"\n",
    "  if series == \"scifi\":\n",
    "    return \"5\"\n",
    "  if series == \"reality\":\n",
    "    return \"6\"\n",
    "  if series == \"drama\":\n",
    "    return \"7\"\n",
    "  if series == \"documentation\":\n",
    "    return \"8\"\n",
    "  if series == \"music\":\n",
    "    return \"9\"\n",
    "  if series == \"western\":\n",
    "    return \"10\"\n",
    "  if series == \"family\":\n",
    "    return \"11\"\n",
    "  if series == \"thriller\":\n",
    "    return \"12\"\n",
    "  if series == \"romance\":\n",
    "    return \"13\"\n",
    "  if series == \"crime\":\n",
    "    return \"14\"\n",
    "  if series == \"horror\":\n",
    "    return \"15\"\n",
    "  if series == \"history\":\n",
    "    return \"16\"\n",
    "  if series == \"war\":\n",
    "    return \"17\"\n",
    "  if series == \"[]\":\n",
    "    return \"18\"\n",
    "  if series == \"sport\":\n",
    "    return \"19\"\n",
    "  if series == 'european':\n",
    "    return \"20\"\n",
    "df3[\"genreR\"] = df3[\"genre1\"].apply(genreR)"
   ]
  },
  {
   "cell_type": "code",
   "execution_count": 40,
   "metadata": {},
   "outputs": [
    {
     "data": {
      "text/html": [
       "<div>\n",
       "<style scoped>\n",
       "    .dataframe tbody tr th:only-of-type {\n",
       "        vertical-align: middle;\n",
       "    }\n",
       "\n",
       "    .dataframe tbody tr th {\n",
       "        vertical-align: top;\n",
       "    }\n",
       "\n",
       "    .dataframe thead th {\n",
       "        text-align: right;\n",
       "    }\n",
       "</style>\n",
       "<table border=\"1\" class=\"dataframe\">\n",
       "  <thead>\n",
       "    <tr style=\"text-align: right;\">\n",
       "      <th></th>\n",
       "      <th>platform</th>\n",
       "      <th>id</th>\n",
       "      <th>type</th>\n",
       "      <th>release_year</th>\n",
       "      <th>runtime</th>\n",
       "      <th>imdb_score</th>\n",
       "      <th>genre1</th>\n",
       "      <th>rating_df</th>\n",
       "      <th>rating_df1</th>\n",
       "      <th>platformR</th>\n",
       "      <th>genreR</th>\n",
       "    </tr>\n",
       "  </thead>\n",
       "  <tbody>\n",
       "    <tr>\n",
       "      <th>1</th>\n",
       "      <td>Disney</td>\n",
       "      <td>ts20711</td>\n",
       "      <td>SHOW</td>\n",
       "      <td>1989</td>\n",
       "      <td>27</td>\n",
       "      <td>8.7</td>\n",
       "      <td>animation</td>\n",
       "      <td>Positive</td>\n",
       "      <td>1</td>\n",
       "      <td>4</td>\n",
       "      <td>2</td>\n",
       "    </tr>\n",
       "    <tr>\n",
       "      <th>2</th>\n",
       "      <td>Disney</td>\n",
       "      <td>ts15377</td>\n",
       "      <td>SHOW</td>\n",
       "      <td>1989</td>\n",
       "      <td>49</td>\n",
       "      <td>6.2</td>\n",
       "      <td>animation</td>\n",
       "      <td>Negative</td>\n",
       "      <td>2</td>\n",
       "      <td>4</td>\n",
       "      <td>2</td>\n",
       "    </tr>\n",
       "    <tr>\n",
       "      <th>3</th>\n",
       "      <td>Disney</td>\n",
       "      <td>ts22130</td>\n",
       "      <td>SHOW</td>\n",
       "      <td>1998</td>\n",
       "      <td>21</td>\n",
       "      <td>6.3</td>\n",
       "      <td>animation</td>\n",
       "      <td>Negative</td>\n",
       "      <td>2</td>\n",
       "      <td>4</td>\n",
       "      <td>2</td>\n",
       "    </tr>\n",
       "    <tr>\n",
       "      <th>5</th>\n",
       "      <td>Disney</td>\n",
       "      <td>ts21940</td>\n",
       "      <td>SHOW</td>\n",
       "      <td>2010</td>\n",
       "      <td>23</td>\n",
       "      <td>6.6</td>\n",
       "      <td>action</td>\n",
       "      <td>Negative</td>\n",
       "      <td>2</td>\n",
       "      <td>4</td>\n",
       "      <td>3</td>\n",
       "    </tr>\n",
       "    <tr>\n",
       "      <th>6</th>\n",
       "      <td>Disney</td>\n",
       "      <td>ts21756</td>\n",
       "      <td>SHOW</td>\n",
       "      <td>2009</td>\n",
       "      <td>22</td>\n",
       "      <td>6.3</td>\n",
       "      <td>comedy</td>\n",
       "      <td>Negative</td>\n",
       "      <td>2</td>\n",
       "      <td>4</td>\n",
       "      <td>4</td>\n",
       "    </tr>\n",
       "  </tbody>\n",
       "</table>\n",
       "</div>"
      ],
      "text/plain": [
       "  platform       id  type  release_year  runtime  imdb_score     genre1  \\\n",
       "1   Disney  ts20711  SHOW          1989       27         8.7  animation   \n",
       "2   Disney  ts15377  SHOW          1989       49         6.2  animation   \n",
       "3   Disney  ts22130  SHOW          1998       21         6.3  animation   \n",
       "5   Disney  ts21940  SHOW          2010       23         6.6     action   \n",
       "6   Disney  ts21756  SHOW          2009       22         6.3     comedy   \n",
       "\n",
       "  rating_df rating_df1 platformR genreR  \n",
       "1  Positive          1         4      2  \n",
       "2  Negative          2         4      2  \n",
       "3  Negative          2         4      2  \n",
       "5  Negative          2         4      3  \n",
       "6  Negative          2         4      4  "
      ]
     },
     "execution_count": 40,
     "metadata": {},
     "output_type": "execute_result"
    }
   ],
   "source": [
    "df3.head()"
   ]
  },
  {
   "cell_type": "code",
   "execution_count": 41,
   "metadata": {},
   "outputs": [
    {
     "name": "stderr",
     "output_type": "stream",
     "text": [
      "C:\\Users\\lesle\\AppData\\Local\\Temp\\ipykernel_35476\\3231936955.py:1: SettingWithCopyWarning: \n",
      "A value is trying to be set on a copy of a slice from a DataFrame.\n",
      "Try using .loc[row_indexer,col_indexer] = value instead\n",
      "\n",
      "See the caveats in the documentation: https://pandas.pydata.org/pandas-docs/stable/user_guide/indexing.html#returning-a-view-versus-a-copy\n",
      "  df3['genreR'] = df3['genreR'].astype(int)\n"
     ]
    }
   ],
   "source": [
    "df3['genreR'] = df3['genreR'].astype(int)"
   ]
  },
  {
   "cell_type": "code",
   "execution_count": 42,
   "metadata": {},
   "outputs": [
    {
     "name": "stderr",
     "output_type": "stream",
     "text": [
      "C:\\Users\\lesle\\AppData\\Local\\Temp\\ipykernel_35476\\1847818915.py:1: SettingWithCopyWarning: \n",
      "A value is trying to be set on a copy of a slice from a DataFrame.\n",
      "Try using .loc[row_indexer,col_indexer] = value instead\n",
      "\n",
      "See the caveats in the documentation: https://pandas.pydata.org/pandas-docs/stable/user_guide/indexing.html#returning-a-view-versus-a-copy\n",
      "  df3['platformR']=df3['platformR'].astype(int)\n"
     ]
    }
   ],
   "source": [
    "df3['platformR']=df3['platformR'].astype(int)"
   ]
  },
  {
   "cell_type": "code",
   "execution_count": 43,
   "metadata": {},
   "outputs": [
    {
     "data": {
      "text/plain": [
       "platform         object\n",
       "id               object\n",
       "type             object\n",
       "release_year      int64\n",
       "runtime           int64\n",
       "imdb_score      float64\n",
       "genre1           object\n",
       "rating_df        object\n",
       "rating_df1       object\n",
       "platformR         int32\n",
       "genreR            int32\n",
       "dtype: object"
      ]
     },
     "execution_count": 43,
     "metadata": {},
     "output_type": "execute_result"
    }
   ],
   "source": [
    "df3.dtypes"
   ]
  },
  {
   "cell_type": "code",
   "execution_count": 44,
   "metadata": {},
   "outputs": [
    {
     "name": "stderr",
     "output_type": "stream",
     "text": [
      "C:\\Users\\lesle\\AppData\\Local\\Temp\\ipykernel_35476\\1010029047.py:1: SettingWithCopyWarning: \n",
      "A value is trying to be set on a copy of a slice from a DataFrame.\n",
      "Try using .loc[row_indexer,col_indexer] = value instead\n",
      "\n",
      "See the caveats in the documentation: https://pandas.pydata.org/pandas-docs/stable/user_guide/indexing.html#returning-a-view-versus-a-copy\n",
      "  df3['imdb_score']=df3['imdb_score'].astype(int)\n"
     ]
    }
   ],
   "source": [
    "df3['imdb_score']=df3['imdb_score'].astype(int)"
   ]
  },
  {
   "cell_type": "code",
   "execution_count": 45,
   "metadata": {},
   "outputs": [
    {
     "name": "stderr",
     "output_type": "stream",
     "text": [
      "C:\\Users\\lesle\\AppData\\Local\\Temp\\ipykernel_35476\\4043877885.py:1: SettingWithCopyWarning: \n",
      "A value is trying to be set on a copy of a slice from a DataFrame.\n",
      "Try using .loc[row_indexer,col_indexer] = value instead\n",
      "\n",
      "See the caveats in the documentation: https://pandas.pydata.org/pandas-docs/stable/user_guide/indexing.html#returning-a-view-versus-a-copy\n",
      "  df3['rating_df1']=df3['rating_df1'].astype(int)\n"
     ]
    }
   ],
   "source": [
    "df3['rating_df1']=df3['rating_df1'].astype(int)"
   ]
  },
  {
   "cell_type": "code",
   "execution_count": 46,
   "metadata": {},
   "outputs": [
    {
     "data": {
      "text/plain": [
       "platform        object\n",
       "id              object\n",
       "type            object\n",
       "release_year     int64\n",
       "runtime          int64\n",
       "imdb_score       int32\n",
       "genre1          object\n",
       "rating_df       object\n",
       "rating_df1       int32\n",
       "platformR        int32\n",
       "genreR           int32\n",
       "dtype: object"
      ]
     },
     "execution_count": 46,
     "metadata": {},
     "output_type": "execute_result"
    }
   ],
   "source": [
    "df3.dtypes"
   ]
  },
  {
   "cell_type": "code",
   "execution_count": 47,
   "metadata": {},
   "outputs": [
    {
     "data": {
      "text/html": [
       "<div>\n",
       "<style scoped>\n",
       "    .dataframe tbody tr th:only-of-type {\n",
       "        vertical-align: middle;\n",
       "    }\n",
       "\n",
       "    .dataframe tbody tr th {\n",
       "        vertical-align: top;\n",
       "    }\n",
       "\n",
       "    .dataframe thead th {\n",
       "        text-align: right;\n",
       "    }\n",
       "</style>\n",
       "<table border=\"1\" class=\"dataframe\">\n",
       "  <thead>\n",
       "    <tr style=\"text-align: right;\">\n",
       "      <th></th>\n",
       "      <th>rating_df1</th>\n",
       "      <th>platformR</th>\n",
       "      <th>genreR</th>\n",
       "      <th>runtime</th>\n",
       "    </tr>\n",
       "  </thead>\n",
       "  <tbody>\n",
       "    <tr>\n",
       "      <th>rating_df1</th>\n",
       "      <td>1.000000</td>\n",
       "      <td>0.026727</td>\n",
       "      <td>-0.096440</td>\n",
       "      <td>-0.159456</td>\n",
       "    </tr>\n",
       "    <tr>\n",
       "      <th>platformR</th>\n",
       "      <td>0.026727</td>\n",
       "      <td>1.000000</td>\n",
       "      <td>-0.109343</td>\n",
       "      <td>-0.108261</td>\n",
       "    </tr>\n",
       "    <tr>\n",
       "      <th>genreR</th>\n",
       "      <td>-0.096440</td>\n",
       "      <td>-0.109343</td>\n",
       "      <td>1.000000</td>\n",
       "      <td>0.393322</td>\n",
       "    </tr>\n",
       "    <tr>\n",
       "      <th>runtime</th>\n",
       "      <td>-0.159456</td>\n",
       "      <td>-0.108261</td>\n",
       "      <td>0.393322</td>\n",
       "      <td>1.000000</td>\n",
       "    </tr>\n",
       "  </tbody>\n",
       "</table>\n",
       "</div>"
      ],
      "text/plain": [
       "            rating_df1  platformR    genreR   runtime\n",
       "rating_df1    1.000000   0.026727 -0.096440 -0.159456\n",
       "platformR     0.026727   1.000000 -0.109343 -0.108261\n",
       "genreR       -0.096440  -0.109343  1.000000  0.393322\n",
       "runtime      -0.159456  -0.108261  0.393322  1.000000"
      ]
     },
     "execution_count": 47,
     "metadata": {},
     "output_type": "execute_result"
    }
   ],
   "source": [
    "#Correlation matrix to show relationship between select variables\n",
    "corr_matrix = df3[[\"rating_df1\",\"platformR\",\"genreR\",\"runtime\"]].corr()\n",
    "corr_matrix"
   ]
  },
  {
   "cell_type": "code",
   "execution_count": 65,
   "metadata": {},
   "outputs": [
    {
     "data": {
      "image/png": "[encoded data removed]",
      "text/plain": [
       "<Figure size 576x360 with 2 Axes>"
      ]
     },
     "metadata": {
      "needs_background": "light"
     },
     "output_type": "display_data"
    }
   ],
   "source": [
    "plt.figure(figsize=[8,5])\n",
    "sns.heatmap(corr_matrix,annot=True,cmap='Reds')\n",
    "plt.title(\"Correlation between Selected Variables\")\n",
    "plt.show()"
   ]
  },
  {
   "cell_type": "code",
   "execution_count": 48,
   "metadata": {},
   "outputs": [],
   "source": [
    "#Can we predict the rating (positive or negative) based on Genre, Platform and Runtime for Shows?  \n",
    "#There is a negative correlation -0.09 between genre and rating\n",
    "#There is a negative correlation -0.15 between runtime and rating\n",
    "#There is a positive correlation 0.39 between genre and runtime\n",
    "#There is a positive correlation 0.02 between platform and rating"
   ]
  },
  {
   "cell_type": "code",
   "execution_count": 67,
   "metadata": {},
   "outputs": [],
   "source": [
    "from scipy.stats import norm\n",
    "from scipy import stats"
   ]
  },
  {
   "cell_type": "code",
   "execution_count": 68,
   "metadata": {},
   "outputs": [
    {
     "data": {
      "text/plain": [
       "<AxesSubplot: >"
      ]
     },
     "execution_count": 68,
     "metadata": {},
     "output_type": "execute_result"
    },
    {
     "data": {
      "image/png": "[encoded data removed]",
      "text/plain": [
       "<Figure size 432x288 with 1 Axes>"
      ]
     },
     "metadata": {
      "needs_background": "light"
     },
     "output_type": "display_data"
    }
   ],
   "source": [
    "df3['imdb_score'].hist()"
   ]
  },
  {
   "cell_type": "code",
   "execution_count": 78,
   "metadata": {},
   "outputs": [],
   "source": [
    "# We could do a chi square on runtime and rating to support why we wouldn't add runtime to the ML.  Because that is what's dragging the prediction rating down. (I think)\n",
    "#Testing assumptions for chi square"
   ]
  },
  {
   "cell_type": "code",
   "execution_count": 79,
   "metadata": {},
   "outputs": [],
   "source": [
    "#create contingency table"
   ]
  },
  {
   "cell_type": "code",
   "execution_count": 80,
   "metadata": {},
   "outputs": [],
   "source": [
    "shows_crosstab = pd.crosstab(df3['runtime'], df3['rating_df1'])"
   ]
  },
  {
   "cell_type": "code",
   "execution_count": 81,
   "metadata": {},
   "outputs": [
    {
     "data": {
      "text/html": [
       "<div>\n",
       "<style scoped>\n",
       "    .dataframe tbody tr th:only-of-type {\n",
       "        vertical-align: middle;\n",
       "    }\n",
       "\n",
       "    .dataframe tbody tr th {\n",
       "        vertical-align: top;\n",
       "    }\n",
       "\n",
       "    .dataframe thead th {\n",
       "        text-align: right;\n",
       "    }\n",
       "</style>\n",
       "<table border=\"1\" class=\"dataframe\">\n",
       "  <thead>\n",
       "    <tr style=\"text-align: right;\">\n",
       "      <th>rating_df1</th>\n",
       "      <th>1</th>\n",
       "      <th>2</th>\n",
       "    </tr>\n",
       "    <tr>\n",
       "      <th>runtime</th>\n",
       "      <th></th>\n",
       "      <th></th>\n",
       "    </tr>\n",
       "  </thead>\n",
       "  <tbody>\n",
       "    <tr>\n",
       "      <th>0</th>\n",
       "      <td>5</td>\n",
       "      <td>7</td>\n",
       "    </tr>\n",
       "    <tr>\n",
       "      <th>1</th>\n",
       "      <td>2</td>\n",
       "      <td>5</td>\n",
       "    </tr>\n",
       "    <tr>\n",
       "      <th>2</th>\n",
       "      <td>8</td>\n",
       "      <td>10</td>\n",
       "    </tr>\n",
       "    <tr>\n",
       "      <th>3</th>\n",
       "      <td>10</td>\n",
       "      <td>11</td>\n",
       "    </tr>\n",
       "    <tr>\n",
       "      <th>4</th>\n",
       "      <td>7</td>\n",
       "      <td>10</td>\n",
       "    </tr>\n",
       "    <tr>\n",
       "      <th>...</th>\n",
       "      <td>...</td>\n",
       "      <td>...</td>\n",
       "    </tr>\n",
       "    <tr>\n",
       "      <th>131</th>\n",
       "      <td>1</td>\n",
       "      <td>0</td>\n",
       "    </tr>\n",
       "    <tr>\n",
       "      <th>141</th>\n",
       "      <td>1</td>\n",
       "      <td>0</td>\n",
       "    </tr>\n",
       "    <tr>\n",
       "      <th>153</th>\n",
       "      <td>1</td>\n",
       "      <td>0</td>\n",
       "    </tr>\n",
       "    <tr>\n",
       "      <th>156</th>\n",
       "      <td>1</td>\n",
       "      <td>0</td>\n",
       "    </tr>\n",
       "    <tr>\n",
       "      <th>178</th>\n",
       "      <td>1</td>\n",
       "      <td>0</td>\n",
       "    </tr>\n",
       "  </tbody>\n",
       "</table>\n",
       "<p>104 rows × 2 columns</p>\n",
       "</div>"
      ],
      "text/plain": [
       "rating_df1   1   2\n",
       "runtime           \n",
       "0            5   7\n",
       "1            2   5\n",
       "2            8  10\n",
       "3           10  11\n",
       "4            7  10\n",
       "...         ..  ..\n",
       "131          1   0\n",
       "141          1   0\n",
       "153          1   0\n",
       "156          1   0\n",
       "178          1   0\n",
       "\n",
       "[104 rows x 2 columns]"
      ]
     },
     "execution_count": 81,
     "metadata": {},
     "output_type": "execute_result"
    }
   ],
   "source": [
    "shows_crosstab"
   ]
  },
  {
   "cell_type": "code",
   "execution_count": 82,
   "metadata": {},
   "outputs": [
    {
     "data": {
      "text/plain": [
       "(273.3273887880503,\n",
       " 2.290269165229206e-17,\n",
       " 103,\n",
       " array([[  7.16030534,   4.83969466],\n",
       "        [  4.17684478,   2.82315522],\n",
       "        [ 10.74045802,   7.25954198],\n",
       "        [ 12.53053435,   8.46946565],\n",
       "        [ 10.1437659 ,   6.8562341 ],\n",
       "        [ 11.33715013,   7.66284987],\n",
       "        [ 10.1437659 ,   6.8562341 ],\n",
       "        [ 12.53053435,   8.46946565],\n",
       "        [  7.75699746,   5.24300254],\n",
       "        [  9.54707379,   6.45292621],\n",
       "        [ 13.72391858,   9.27608142],\n",
       "        [ 28.64122137,  19.35877863],\n",
       "        [ 22.67430025,  15.32569975],\n",
       "        [ 24.46437659,  16.53562341],\n",
       "        [ 18.49745547,  12.50254453],\n",
       "        [ 15.51399491,  10.48600509],\n",
       "        [  7.75699746,   5.24300254],\n",
       "        [ 13.72391858,   9.27608142],\n",
       "        [ 13.12722646,   8.87277354],\n",
       "        [ 20.88422392,  14.11577608],\n",
       "        [ 26.25445293,  17.74554707],\n",
       "        [ 82.94020356,  56.05979644],\n",
       "        [149.7697201 , 101.2302799 ],\n",
       "        [170.05725191, 114.94274809],\n",
       "        [218.98600509, 148.01399491],\n",
       "        [119.9351145 ,  81.0648855 ],\n",
       "        [ 57.28244275,  38.71755725],\n",
       "        [ 61.45928753,  41.54071247],\n",
       "        [ 43.55852417,  29.44147583],\n",
       "        [ 47.73536896,  32.26463104],\n",
       "        [ 54.8956743 ,  37.1043257 ],\n",
       "        [ 19.69083969,  13.30916031],\n",
       "        [ 23.27099237,  15.72900763],\n",
       "        [ 21.48091603,  14.51908397],\n",
       "        [ 17.90076336,  12.09923664],\n",
       "        [ 13.12722646,   8.87277354],\n",
       "        [ 15.51399491,  10.48600509],\n",
       "        [ 13.72391858,   9.27608142],\n",
       "        [ 16.70737913,  11.29262087],\n",
       "        [ 18.49745547,  12.50254453],\n",
       "        [ 29.23791349,  19.76208651],\n",
       "        [ 40.57506361,  27.42493639],\n",
       "        [ 90.10050891,  60.89949109],\n",
       "        [136.64249364,  92.35750636],\n",
       "        [155.73664122, 105.26335878],\n",
       "        [107.40458015,  72.59541985],\n",
       "        [ 79.956743  ,  54.043257  ],\n",
       "        [ 73.39312977,  49.60687023],\n",
       "        [ 60.26590331,  40.73409669],\n",
       "        [ 56.08905852,  37.91094148],\n",
       "        [ 51.91221374,  35.08778626],\n",
       "        [ 38.18829517,  25.81170483],\n",
       "        [ 40.57506361,  27.42493639],\n",
       "        [ 31.02798982,  20.97201018],\n",
       "        [ 29.8346056 ,  20.1653944 ],\n",
       "        [ 31.62468193,  21.37531807],\n",
       "        [ 25.0610687 ,  16.9389313 ],\n",
       "        [ 26.85114504,  18.14885496],\n",
       "        [ 32.81806616,  22.18193384],\n",
       "        [ 31.62468193,  21.37531807],\n",
       "        [ 19.09414758,  12.90585242],\n",
       "        [ 16.70737913,  11.29262087],\n",
       "        [ 13.72391858,   9.27608142],\n",
       "        [ 12.53053435,   8.46946565],\n",
       "        [ 13.72391858,   9.27608142],\n",
       "        [  5.96692112,   4.03307888],\n",
       "        [  6.56361323,   4.43638677],\n",
       "        [  5.96692112,   4.03307888],\n",
       "        [  6.56361323,   4.43638677],\n",
       "        [  8.35368957,   5.64631043],\n",
       "        [  7.16030534,   4.83969466],\n",
       "        [  6.56361323,   4.43638677],\n",
       "        [  1.19338422,   0.80661578],\n",
       "        [  5.37022901,   3.62977099],\n",
       "        [  1.19338422,   0.80661578],\n",
       "        [  4.7735369 ,   3.2264631 ],\n",
       "        [  3.58015267,   2.41984733],\n",
       "        [  1.19338422,   0.80661578],\n",
       "        [  2.38676845,   1.61323155],\n",
       "        [  1.79007634,   1.20992366],\n",
       "        [  5.96692112,   4.03307888],\n",
       "        [  1.79007634,   1.20992366],\n",
       "        [  0.59669211,   0.40330789],\n",
       "        [  1.79007634,   1.20992366],\n",
       "        [  4.17684478,   2.82315522],\n",
       "        [  1.19338422,   0.80661578],\n",
       "        [  0.59669211,   0.40330789],\n",
       "        [  1.79007634,   1.20992366],\n",
       "        [  1.79007634,   1.20992366],\n",
       "        [  1.19338422,   0.80661578],\n",
       "        [  0.59669211,   0.40330789],\n",
       "        [  2.98346056,   2.01653944],\n",
       "        [  1.19338422,   0.80661578],\n",
       "        [  0.59669211,   0.40330789],\n",
       "        [  0.59669211,   0.40330789],\n",
       "        [  0.59669211,   0.40330789],\n",
       "        [  0.59669211,   0.40330789],\n",
       "        [  1.19338422,   0.80661578],\n",
       "        [  0.59669211,   0.40330789],\n",
       "        [  0.59669211,   0.40330789],\n",
       "        [  0.59669211,   0.40330789],\n",
       "        [  0.59669211,   0.40330789],\n",
       "        [  0.59669211,   0.40330789],\n",
       "        [  0.59669211,   0.40330789]]))"
      ]
     },
     "execution_count": 82,
     "metadata": {},
     "output_type": "execute_result"
    }
   ],
   "source": [
    "#running the independent chi-square\n",
    "stats.chi2_contingency(shows_crosstab)"
   ]
  },
  {
   "cell_type": "code",
   "execution_count": null,
   "metadata": {},
   "outputs": [],
   "source": [
    "#p-value 2.290269165229206e-17\n",
    "#There is not a statistically significant relationship between runtime and rating"
   ]
  },
  {
   "cell_type": "code",
   "execution_count": 69,
   "metadata": {},
   "outputs": [
    {
     "data": {
      "text/plain": [
       "6.603265479219678"
      ]
     },
     "execution_count": 69,
     "metadata": {},
     "output_type": "execute_result"
    }
   ],
   "source": [
    "df3['imdb_score'].mean()"
   ]
  },
  {
   "cell_type": "code",
   "execution_count": 54,
   "metadata": {},
   "outputs": [
    {
     "data": {
      "text/plain": [
       "<AxesSubplot: >"
      ]
     },
     "execution_count": 54,
     "metadata": {},
     "output_type": "execute_result"
    },
    {
     "data": {
      "image/png": "[encoded data removed]",
      "text/plain": [
       "<Figure size 432x288 with 1 Axes>"
      ]
     },
     "metadata": {
      "needs_background": "light"
     },
     "output_type": "display_data"
    }
   ],
   "source": [
    "#Checking histogram of imdb score\n",
    "df3.imdb_score.hist()\n",
    "#imdb_score is normally distributed along the mean, but there is no significant correlation"
   ]
  },
  {
   "cell_type": "code",
   "execution_count": 66,
   "metadata": {},
   "outputs": [
    {
     "data": {
      "image/png": "[encoded data removed]",
      "text/plain": [
       "<Figure size 432x288 with 1 Axes>"
      ]
     },
     "metadata": {
      "needs_background": "light"
     },
     "output_type": "display_data"
    }
   ],
   "source": [
    "#Plot boxplots to compare dispersion \n",
    "sns.boxplot(data=df3,x='genre1',y='imdb_score')\n",
    "plt.xticks(rotation=90)\n",
    "plt.title(\"Distribution of Genre over IMDB Score\")\n",
    "plt.show()"
   ]
  },
  {
   "cell_type": "code",
   "execution_count": null,
   "metadata": {},
   "outputs": [],
   "source": []
  },
  {
   "cell_type": "code",
   "execution_count": 58,
   "metadata": {},
   "outputs": [],
   "source": [
    "#Supervised machine learning\n",
    "from sklearn.linear_model import LinearRegression\n",
    "from sklearn.model_selection import train_test_split\n",
    "import matplotlib as plt\n",
    "%matplotlib inline\n",
    "from sklearn import metrics\n",
    "import numpy as np\n",
    "import matplotlib.pyplot as plt"
   ]
  },
  {
   "cell_type": "code",
   "execution_count": 83,
   "metadata": {},
   "outputs": [],
   "source": [
    "#determining the x and y variables\n",
    "x = df3[['platformR','genreR']]\n",
    "y = df3['rating_df1']\n",
    "#based on the chi-square, I am going to drop runtime to see if ML accuracy improves. \n",
    "#first go at ML with [platformR, genreR, runtime] with accuracy Score: 0.022616662541346533\n",
    "#second go at ML with [platformR, genreR] with accuracy Score: 0.010905490380019756"
   ]
  },
  {
   "cell_type": "code",
   "execution_count": 84,
   "metadata": {},
   "outputs": [
    {
     "name": "stdout",
     "output_type": "stream",
     "text": [
      "(2829, 2) (2829,)\n",
      "(1887, 2) (1887,)\n"
     ]
    }
   ],
   "source": [
    "#Train Test Split for Goal 2. This is a 60/40 split.\n",
    "x_train, x_test, y_train, y_test = train_test_split(x,y, test_size = .4, random_state=101)\n",
    "print(x_train.shape, y_train.shape)\n",
    "print(x_test.shape, y_test.shape)"
   ]
  },
  {
   "cell_type": "code",
   "execution_count": 85,
   "metadata": {},
   "outputs": [
    {
     "data": {
      "text/html": [
       "<style>#sk-container-id-2 {color: black;background-color: white;}#sk-container-id-2 pre{padding: 0;}#sk-container-id-2 div.sk-toggleable {background-color: white;}#sk-container-id-2 label.sk-toggleable__label {cursor: pointer;display: block;width: 100%;margin-bottom: 0;padding: 0.3em;box-sizing: border-box;text-align: center;}#sk-container-id-2 label.sk-toggleable__label-arrow:before {content: \"▸\";float: left;margin-right: 0.25em;color: #696969;}#sk-container-id-2 label.sk-toggleable__label-arrow:hover:before {color: black;}#sk-container-id-2 div.sk-estimator:hover label.sk-toggleable__label-arrow:before {color: black;}#sk-container-id-2 div.sk-toggleable__content {max-height: 0;max-width: 0;overflow: hidden;text-align: left;background-color: #f0f8ff;}#sk-container-id-2 div.sk-toggleable__content pre {margin: 0.2em;color: black;border-radius: 0.25em;background-color: #f0f8ff;}#sk-container-id-2 input.sk-toggleable__control:checked~div.sk-toggleable__content {max-height: 200px;max-width: 100%;overflow: auto;}#sk-container-id-2 input.sk-toggleable__control:checked~label.sk-toggleable__label-arrow:before {content: \"▾\";}#sk-container-id-2 div.sk-estimator input.sk-toggleable__control:checked~label.sk-toggleable__label {background-color: #d4ebff;}#sk-container-id-2 div.sk-label input.sk-toggleable__control:checked~label.sk-toggleable__label {background-color: #d4ebff;}#sk-container-id-2 input.sk-hidden--visually {border: 0;clip: rect(1px 1px 1px 1px);clip: rect(1px, 1px, 1px, 1px);height: 1px;margin: -1px;overflow: hidden;padding: 0;position: absolute;width: 1px;}#sk-container-id-2 div.sk-estimator {font-family: monospace;background-color: #f0f8ff;border: 1px dotted black;border-radius: 0.25em;box-sizing: border-box;margin-bottom: 0.5em;}#sk-container-id-2 div.sk-estimator:hover {background-color: #d4ebff;}#sk-container-id-2 div.sk-parallel-item::after {content: \"\";width: 100%;border-bottom: 1px solid gray;flex-grow: 1;}#sk-container-id-2 div.sk-label:hover label.sk-toggleable__label {background-color: #d4ebff;}#sk-container-id-2 div.sk-serial::before {content: \"\";position: absolute;border-left: 1px solid gray;box-sizing: border-box;top: 0;bottom: 0;left: 50%;z-index: 0;}#sk-container-id-2 div.sk-serial {display: flex;flex-direction: column;align-items: center;background-color: white;padding-right: 0.2em;padding-left: 0.2em;position: relative;}#sk-container-id-2 div.sk-item {position: relative;z-index: 1;}#sk-container-id-2 div.sk-parallel {display: flex;align-items: stretch;justify-content: center;background-color: white;position: relative;}#sk-container-id-2 div.sk-item::before, #sk-container-id-2 div.sk-parallel-item::before {content: \"\";position: absolute;border-left: 1px solid gray;box-sizing: border-box;top: 0;bottom: 0;left: 50%;z-index: -1;}#sk-container-id-2 div.sk-parallel-item {display: flex;flex-direction: column;z-index: 1;position: relative;background-color: white;}#sk-container-id-2 div.sk-parallel-item:first-child::after {align-self: flex-end;width: 50%;}#sk-container-id-2 div.sk-parallel-item:last-child::after {align-self: flex-start;width: 50%;}#sk-container-id-2 div.sk-parallel-item:only-child::after {width: 0;}#sk-container-id-2 div.sk-dashed-wrapped {border: 1px dashed gray;margin: 0 0.4em 0.5em 0.4em;box-sizing: border-box;padding-bottom: 0.4em;background-color: white;}#sk-container-id-2 div.sk-label label {font-family: monospace;font-weight: bold;display: inline-block;line-height: 1.2em;}#sk-container-id-2 div.sk-label-container {text-align: center;}#sk-container-id-2 div.sk-container {/* jupyter's `normalize.less` sets `[hidden] { display: none; }` but bootstrap.min.css set `[hidden] { display: none !important; }` so we also need the `!important` here to be able to override the default hidden behavior on the sphinx rendered scikit-learn.org. See: https://github.com/scikit-learn/scikit-learn/issues/21755 */display: inline-block !important;position: relative;}#sk-container-id-2 div.sk-text-repr-fallback {display: none;}</style><div id=\"sk-container-id-2\" class=\"sk-top-container\"><div class=\"sk-text-repr-fallback\"><pre>LinearRegression()</pre><b>In a Jupyter environment, please rerun this cell to show the HTML representation or trust the notebook. <br />On GitHub, the HTML representation is unable to render, please try loading this page with nbviewer.org.</b></div><div class=\"sk-container\" hidden><div class=\"sk-item\"><div class=\"sk-estimator sk-toggleable\"><input class=\"sk-toggleable__control sk-hidden--visually\" id=\"sk-estimator-id-2\" type=\"checkbox\" checked><label for=\"sk-estimator-id-2\" class=\"sk-toggleable__label sk-toggleable__label-arrow\">LinearRegression</label><div class=\"sk-toggleable__content\"><pre>LinearRegression()</pre></div></div></div></div></div>"
      ],
      "text/plain": [
       "LinearRegression()"
      ]
     },
     "execution_count": 85,
     "metadata": {},
     "output_type": "execute_result"
    }
   ],
   "source": [
    "#create linear regression model \n",
    "lm = LinearRegression()\n",
    "lm.fit(x_train,y_train)"
   ]
  },
  {
   "cell_type": "code",
   "execution_count": 86,
   "metadata": {},
   "outputs": [
    {
     "data": {
      "text/plain": [
       "array([1.44298677, 1.43027269, 1.32964807, ..., 1.4440748 , 1.31003294,\n",
       "       1.39321848])"
      ]
     },
     "execution_count": 86,
     "metadata": {},
     "output_type": "execute_result"
    }
   ],
   "source": [
    "#Interpreting Supervised Machine Learning Accuracy\n",
    "predictions = lm.predict(x_test)\n",
    "predictions"
   ]
  },
  {
   "cell_type": "code",
   "execution_count": 87,
   "metadata": {},
   "outputs": [
    {
     "data": {
      "text/plain": [
       "<matplotlib.collections.PathCollection at 0x21e173e7430>"
      ]
     },
     "execution_count": 87,
     "metadata": {},
     "output_type": "execute_result"
    },
    {
     "data": {
      "image/png": "[encoded data removed]",
      "text/plain": [
       "<Figure size 432x288 with 1 Axes>"
      ]
     },
     "metadata": {
      "needs_background": "light"
     },
     "output_type": "display_data"
    }
   ],
   "source": [
    "#Creating a scatter plot to view predictions\n",
    "plt.scatter(y_test, predictions)"
   ]
  },
  {
   "cell_type": "code",
   "execution_count": 88,
   "metadata": {},
   "outputs": [
    {
     "name": "stdout",
     "output_type": "stream",
     "text": [
      "Score: 0.010905490380019756\n"
     ]
    }
   ],
   "source": [
    "#Accuracy Score for if the rating can be predicted by genre, platform or runtime\n",
    "print(\"Score:\", lm.score(x_test, y_test))"
   ]
  },
  {
   "cell_type": "code",
   "execution_count": null,
   "metadata": {},
   "outputs": [],
   "source": []
  }
 ],
 "metadata": {
  "deepnote": {},
  "deepnote_execution_queue": [],
  "deepnote_notebook_id": "c24b46eea378431aa6974c64f1118503",
  "kernelspec": {
   "display_name": "Python 3 (ipykernel)",
   "language": "python",
   "name": "python3"
  },
  "language_info": {
   "codemirror_mode": {
    "name": "ipython",
    "version": 3
   },
   "file_extension": ".py",
   "mimetype": "text/x-python",
   "name": "python",
   "nbconvert_exporter": "python",
   "pygments_lexer": "ipython3",
   "version": "3.10.5"
  }
 },
 "nbformat": 4,
 "nbformat_minor": 4
}
